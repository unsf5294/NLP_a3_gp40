{
 "cells": [
  {
   "cell_type": "code",
   "execution_count": null,
   "id": "0687d22d",
   "metadata": {},
   "outputs": [],
   "source": [
    "import json, re, random, sys, pickle, torch, torch.nn as nn, torch.optim as optim\n",
    "from torch.utils.data import DataLoader, Dataset\n",
    "from torchtext.vocab import build_vocab_from_iterator\n",
    "from sklearn.preprocessing import LabelEncoder\n",
    "from tqdm.auto import tqdm"
   ]
  },
  {
   "cell_type": "code",
   "execution_count": null,
   "id": "a7a6a150",
   "metadata": {},
   "outputs": [],
   "source": [
    "with open(\"../data/train-claims.json\") as f:\n",
    "    train_raw = json.load(f) "
   ]
  }
 ],
 "metadata": {
  "language_info": {
   "name": "python"
  }
 },
 "nbformat": 4,
 "nbformat_minor": 5
}
