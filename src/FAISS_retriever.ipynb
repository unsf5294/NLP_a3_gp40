{
 "cells": [
  {
   "cell_type": "code",
   "execution_count": 40,
   "id": "d76537cb",
   "metadata": {},
   "outputs": [],
   "source": [
    "from sentence_transformers import SentenceTransformer\n",
    "import faiss, numpy as np, ujson as json\n",
    "import os"
   ]
  },
  {
   "cell_type": "code",
   "execution_count": 41,
   "id": "8f06d7ca",
   "metadata": {},
   "outputs": [],
   "source": [
    "with open('../data/train-claims.json') as f:\n",
    "    train = json.load(f)\n",
    "with open('../data/dev-claims.json') as f:\n",
    "    dev = json.load(f)\n",
    "with open('../data/evidence.json') as f:\n",
    "    evidence = json.load(f)\n"
   ]
  },
  {
   "cell_type": "code",
   "execution_count": 42,
   "id": "8f6df574",
   "metadata": {},
   "outputs": [],
   "source": [
    "MODEL = 'sentence-transformers/all-MiniLM-L6-v2'\n",
    "EMBED_CACHE = \"../data/evidence_vecs.npy\"\n",
    "ID_CACHE = \"../data/evidence_ids.json\"\n",
    "FAISS_CACHE = \"../data/evidence.faiss\""
   ]
  },
  {
   "cell_type": "code",
   "execution_count": 43,
   "id": "45389fda",
   "metadata": {},
   "outputs": [],
   "source": [
    "# encode the evidences if cached can't found, then cache it\n",
    "if os.path.exists(FAISS_CACHE) and os.path.exists(ID_CACHE):\n",
    "    index = faiss.read_index(FAISS_CACHE)\n",
    "    with open(ID_CACHE) as f:\n",
    "        ids = json.load(f)\n",
    "else:\n",
    "    ids = list(evidence.keys())\n",
    "    docs = list(evidence.values())\n",
    "    vecs = embedder.encode(docs,\n",
    "                           batch_size=32,\n",
    "                           convert_to_numpy=True,\n",
    "                           normalize_embeddings=True)\n",
    "    index = faiss.IndexFlatIP(vecs.shape[1])\n",
    "    index.add(vecs)\n",
    "    faiss.write_index(index, FAISS_CACHE)\n",
    "    with open(ID_CACHE, \"w\") as f:\n",
    "        json.dump(ids, f)"
   ]
  },
  {
   "cell_type": "code",
   "execution_count": 44,
   "id": "469211f9",
   "metadata": {},
   "outputs": [],
   "source": [
    "# retrieve top 100 evidence via FAISS embedding\n",
    "def topk_ids(claim, k=100):\n",
    "    v = embedder.encode(claim,\n",
    "                        convert_to_numpy=True,\n",
    "                        normalize_embeddings=True)\n",
    "    _, I = index.search(v[None], k)\n",
    "    return [ids[i] for i in I[0]]"
   ]
  },
  {
   "cell_type": "code",
   "execution_count": 45,
   "id": "1e1fb135",
   "metadata": {},
   "outputs": [],
   "source": [
    "from sentence_transformers import CrossEncoder\n",
    "\n",
    "# Using a cross-encoder to rerank the 100 evidence retrieved\n",
    "reranker = CrossEncoder('cross-encoder/ms-marco-MiniLM-L-6-v2', device='cuda')\n",
    "\n",
    "def reranker_score(claim, evidence_text):\n",
    "    return reranker.predict([(claim, evidence_text)])[0]\n"
   ]
  },
  {
   "cell_type": "code",
   "execution_count": 46,
   "id": "0abc1da9",
   "metadata": {},
   "outputs": [
    {
     "name": "stdout",
     "output_type": "stream",
     "text": [
      "Retrieving and reranking top evidence for train claims...\n"
     ]
    },
    {
     "name": "stderr",
     "output_type": "stream",
     "text": [
      "100%|██████████| 1228/1228 [02:29<00:00,  8.21it/s]\n"
     ]
    }
   ],
   "source": [
    "print(\"Retrieving and reranking top evidence for train claims...\")\n",
    "out = {}\n",
    "for cid, itm in tqdm(train.items()):\n",
    "    claim = itm[\"claim_text\"]\n",
    "    candidates = topk_ids(claim, k=100)\n",
    "\n",
    "    pairs = [(claim, evidence[eid]) for eid in candidates]\n",
    "    scores = reranker.predict(pairs)\n",
    "\n",
    "    ranked = [eid for _, eid in sorted(zip(scores, candidates), reverse=True)]\n",
    "    top6 = ranked[:6] # as explored, 6 evidence give best score\n",
    "\n",
    "    out[cid] = {\n",
    "        \"claim_text\": claim,\n",
    "        \"claim_label\": \"\",\n",
    "        \"evidences\": top6\n",
    "    }\n"
   ]
  },
  {
   "cell_type": "code",
   "execution_count": 47,
   "id": "407171a3",
   "metadata": {},
   "outputs": [
    {
     "name": "stdout",
     "output_type": "stream",
     "text": [
      "✓\n"
     ]
    }
   ],
   "source": [
    "with open(\"../data/train-evidence-faiss.json\", \"w\") as f:\n",
    "    json.dump(out, f, indent=2)\n",
    "\n",
    "print(\"✓\")"
   ]
  },
  {
   "cell_type": "code",
   "execution_count": 50,
   "id": "740fff4c",
   "metadata": {},
   "outputs": [
    {
     "name": "stdout",
     "output_type": "stream",
     "text": [
      "Retrieving and reranking top evidence for dev claims...\n"
     ]
    },
    {
     "name": "stderr",
     "output_type": "stream",
     "text": [
      "100%|██████████| 154/154 [00:19<00:00,  8.07it/s]"
     ]
    },
    {
     "name": "stdout",
     "output_type": "stream",
     "text": [
      "Saved ✓\n"
     ]
    },
    {
     "name": "stderr",
     "output_type": "stream",
     "text": [
      "\n"
     ]
    }
   ],
   "source": [
    "print(\"Retrieving and reranking top evidence for dev claims...\")\n",
    "out = {}\n",
    "for cid, itm in tqdm(dev.items()):\n",
    "    claim = itm[\"claim_text\"]\n",
    "    candidates = topk_ids(claim, k=100)\n",
    "\n",
    "    pairs = [(claim, evidence[eid]) for eid in candidates]\n",
    "    scores = reranker.predict(pairs)\n",
    "\n",
    "    ranked = [eid for _, eid in sorted(zip(scores, candidates), reverse=True)]\n",
    "    top6 = ranked[:6]\n",
    "\n",
    "    out[cid] = {\n",
    "        \"claim_text\": claim,\n",
    "        \"claim_label\": \"\",\n",
    "        \"evidences\": top6\n",
    "    }\n",
    "with open(\"../data/dev-evidence-faiss.json\", \"w\") as f:\n",
    "    json.dump(out, f, indent=2)\n",
    "\n",
    "print(\"Saved ✓\")"
   ]
  },
  {
   "cell_type": "code",
   "execution_count": 51,
   "id": "be95e4be",
   "metadata": {},
   "outputs": [
    {
     "name": "stdout",
     "output_type": "stream",
     "text": [
      "Retrieving and reranking top evidence for test claims...\n"
     ]
    },
    {
     "name": "stderr",
     "output_type": "stream",
     "text": [
      "100%|██████████| 1228/1228 [02:31<00:00,  8.13it/s]"
     ]
    },
    {
     "name": "stdout",
     "output_type": "stream",
     "text": [
      "Saved ✓\n"
     ]
    },
    {
     "name": "stderr",
     "output_type": "stream",
     "text": [
      "\n"
     ]
    }
   ],
   "source": [
    "print(\"Retrieving and reranking top evidence for test claims...\")\n",
    "out = {}\n",
    "for cid, itm in tqdm(train.items()):\n",
    "    claim = itm[\"claim_text\"]\n",
    "    candidates = topk_ids(claim, k=100)\n",
    "\n",
    "    pairs = [(claim, evidence[eid]) for eid in candidates]\n",
    "    scores = reranker.predict(pairs)\n",
    "\n",
    "    ranked = [eid for _, eid in sorted(zip(scores, candidates), reverse=True)]\n",
    "    top6 = ranked[:6]\n",
    "\n",
    "    out[cid] = {\n",
    "        \"claim_text\": claim,\n",
    "        \"claim_label\": \"\",\n",
    "        \"evidences\": top6\n",
    "    }\n",
    "with open(\"../data/test-evidence-faiss.json\", \"w\") as f:\n",
    "    json.dump(out, f, indent=2)\n",
    "\n",
    "print(\"Saved ✓\")"
   ]
  }
 ],
 "metadata": {
  "kernelspec": {
   "display_name": "base",
   "language": "python",
   "name": "python3"
  },
  "language_info": {
   "codemirror_mode": {
    "name": "ipython",
    "version": 3
   },
   "file_extension": ".py",
   "mimetype": "text/x-python",
   "name": "python",
   "nbconvert_exporter": "python",
   "pygments_lexer": "ipython3",
   "version": "3.10.13"
  }
 },
 "nbformat": 4,
 "nbformat_minor": 5
}
