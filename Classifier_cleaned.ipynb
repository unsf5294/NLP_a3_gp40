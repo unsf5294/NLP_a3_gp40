{
  "cells": [
    {
      "cell_type": "markdown",
      "metadata": {
        "id": "32yCsRUo8H33"
      },
      "source": [
        "# 2025 COMP90042 Project\n",
        "*Make sure you change the file name with your group id.*"
      ]
    },
    {
      "cell_type": "markdown",
      "metadata": {
        "id": "XCybYoGz8YWQ"
      },
      "source": [
        "# Readme\n",
        "*If there is something to be noted for the marker, please mention here.*\n",
        "\n",
        "*If you are planning to implement a program with Object Oriented Programming style, please put those the bottom of this ipynb file*"
      ]
    },
    {
      "cell_type": "markdown",
      "metadata": {
        "id": "6po98qVA8bJD"
      },
      "source": [
        "# 1.DataSet Processing\n",
        "(You can add as many code blocks and text blocks as you need. However, YOU SHOULD NOT MODIFY the section title)"
      ]
    },
    {
      "cell_type": "code",
      "execution_count": 1,
      "metadata": {
        "id": "qvff21Hv8zjk"
      },
      "outputs": [],
      "source": [
        "import json\n",
        "\n",
        "with open('train-claims.json', 'r') as f:\n",
        "  train_claims_data = json.load(f)\n",
        "\n",
        "with open('dev-claims.json', 'r') as f:\n",
        "  train_labels_data = json.load(f)\n",
        "\n",
        "with open('test-claims-unlabelled.json', 'r') as f:\n",
        "  dev_claims_data = json.load(f)\n",
        "\n",
        "with open('evidence.json', 'r') as f:\n",
        "  evidence_data = json.load(f)"
      ]
    },
    {
      "cell_type": "code",
      "execution_count": null,
      "metadata": {
        "colab": {
          "base_uri": "https://localhost:8080/"
        },
        "id": "6Co39n2Vs8Ic",
        "outputId": "e2f4b58f-22c0-4cfa-bffb-ec7f585a39aa"
      },
      "outputs": [
        {
          "name": "stdout",
          "output_type": "stream",
          "text": [
            "Total claims: 1228\n",
            "Label distribution: Counter({'SUPPORTS': 519, 'NOT_ENOUGH_INFO': 386, 'REFUTES': 199, 'DISPUTED': 124})\n",
            "Claim length - max: 67, min: 4, mean: 20.10\n",
            "Evidence count per claim - max: 5, min: 1, mean: 3.36\n",
            "Evidence text length - max: 276, min: 3, mean: 27.63\n"
          ]
        }
      ],
      "source": [
        "import json\n",
        "import pandas as pd\n",
        "import numpy as np\n",
        "from collections import Counter\n",
        "\n",
        "# Prepare statistics\n",
        "claim_lengths = []\n",
        "evidence_lengths = []\n",
        "evidence_counts = []\n",
        "labels = []\n",
        "\n",
        "label_counter = Counter()\n",
        "\n",
        "for claim_id, claim_data in train_claims_data.items():\n",
        "    claim = claim_data[\"claim_text\"]\n",
        "    label = claim_data[\"claim_label\"]\n",
        "    evid_ids = claim_data.get(\"evidences\", [])\n",
        "\n",
        "    claim_lengths.append(len(claim.split()))\n",
        "    evidence_counts.append(len(evid_ids))\n",
        "    labels.append(label)\n",
        "    label_counter[label] += 1\n",
        "\n",
        "    for evid_id in evid_ids:\n",
        "        if evid_id in evidence_data:\n",
        "            ev_text = evidence_data[evid_id]\n",
        "            evidence_lengths.append(len(ev_text.split()))\n",
        "\n",
        "# Print summary statistics\n",
        "print(f\"Total claims: {len(train_claims_data)}\")\n",
        "print(f\"Label distribution: {label_counter}\")\n",
        "print(f\"Claim length - max: {max(claim_lengths)}, min: {min(claim_lengths)}, mean: {np.mean(claim_lengths):.2f}\")\n",
        "print(f\"Evidence count per claim - max: {max(evidence_counts)}, min: {min(evidence_counts)}, mean: {np.mean(evidence_counts):.2f}\")\n",
        "print(f\"Evidence text length - max: {max(evidence_lengths)}, min: {min(evidence_lengths)}, mean: {np.mean(evidence_lengths):.2f}\")"
      ]
    },
    {
      "cell_type": "markdown",
      "metadata": {
        "id": "1FA2ao2l8hOg"
      },
      "source": [
        "# 2. Model Implementation\n",
        "(You can add as many code blocks and text blocks as you need. However, YOU SHOULD NOT MODIFY the section title)"
      ]
    },
    {
      "cell_type": "code",
      "execution_count": null,
      "metadata": {
        "id": "y1YBn4Kz248o"
      },
      "outputs": [],
      "source": [
        "Vector Embedding Using BERT"
      ]
    },
    {
      "cell_type": "code",
      "execution_count": null,
      "metadata": {
        "colab": {
          "base_uri": "https://localhost:8080/"
        },
        "id": "3AsBwoqIIjz_",
        "outputId": "4d0289dd-0189-437b-f595-c0a38375d8f9"
      },
      "outputs": [],
      "source": [
        "from sentence_transformers import SentenceTransformer\n",
        "import torch\n",
        "import numpy as np\n",
        "\n",
        "# Load embedding model and move to GPU if available\n",
        "device = 'cuda' if torch.cuda.is_available() else 'cpu'\n",
        "embedder = SentenceTransformer('facebook/bart-large-mnli').to(device)\n",
        "\n",
        "# Assume you have `train_claims_data` and `evidence_data` already loaded\n",
        "claim_texts = [claim[\"claim_text\"] for claim in train_claims_data.values()]\n",
        "claim_ids = list(train_claims_data.keys())\n",
        "\n",
        "evid_ids = list(evidence_data.keys())\n",
        "evid_texts = [evidence_data[eid] for eid in evid_ids]\n",
        "\n",
        "evid_texts = evid_texts[:50000]\n",
        "evid_ids = evid_ids[:50000]"
      ]
    },
    {
      "cell_type": "code",
      "execution_count": null,
      "metadata": {
        "colab": {
          "base_uri": "https://localhost:8080/",
          "height": 81,
          "referenced_widgets": [
            "f7cab675304c4dfbb4f22fd979d95863",
            "4e6c085175ce4b39ac0a7ce63abb4f67",
            "15fcb3c6eebc42ddb510f4524c5c0c17",
            "20253916c90347e194a7ca526e7153f6",
            "e5094762201d46489c2d73943a79d181",
            "cd1c074cb2234782a2ceab259d59bd68",
            "b3e2eaa1c80d49448d671d5366397441",
            "b4a7c006c8ed49e7bf1785ae7f36ca00",
            "c00574d0682f497d884b74f36c79206e",
            "7134d116b4ee4ce4b95fc528621d5057",
            "0a619c1fc594451ca77c5f31f287ce10",
            "6aab20bccd9047e98a6cdc827afe9353",
            "aa0a5ed8fa654749bca58668b0f21177",
            "668ba47212e04986b7bdae203e7d6fda",
            "49d3f605f2064350b80be7c5510a9d09",
            "08cfb403cb86426c958115341ba10e65",
            "ccd980bf87b24bcea1a21a950f5b11a2",
            "95b55f09725c4bcdbd786384af968a28",
            "b7c54b37cae74fd69f29cd801686cb4c",
            "e05c07ed08eb42ddac7a5953e6bb1617",
            "fcbc67763de34bb089b95ef8dcfd1e39",
            "90a7ff0e86b5455fb9d46184e64e9b8e"
          ]
        },
        "id": "Lqje20BdIos4",
        "outputId": "903159cb-808b-4e53-e478-c14682d39fdc"
      },
      "outputs": [],
      "source": [
        "claim_vecs = embedder.encode(\n",
        "    claim_texts,\n",
        "    batch_size=64,\n",
        "    convert_to_tensor=True,\n",
        "    show_progress_bar=True,\n",
        "    device=device\n",
        ")\n",
        "\n",
        "evid_vecs = embedder.encode(\n",
        "    evid_texts,\n",
        "    batch_size=64,\n",
        "    convert_to_tensor=True,\n",
        "    show_progress_bar=True,\n",
        "    device=device\n",
        ")"
      ]
    },
    {
      "cell_type": "code",
      "execution_count": null,
      "metadata": {
        "id": "862aeFqt21-f"
      },
      "outputs": [],
      "source": [
        "Pre-Ranking via Cosine Similarity"
      ]
    },
    {
      "cell_type": "code",
      "execution_count": null,
      "metadata": {
        "id": "RIJp8Z2rufue"
      },
      "outputs": [],
      "source": [
        "from sklearn.metrics.pairwise import cosine_similarity\n",
        "\n",
        "top_k_matches = {}\n",
        "k = 5\n",
        "\n",
        "for i, claim_vec in enumerate(claim_vecs):\n",
        "  scores = cosine_similarity(claim_vec.cpu().numpy().reshape(1, -1), evid_vecs.cpu().numpy())[0]\n",
        "  top_k_idx = np.argsort(scores)[-k:][::-1]\n",
        "  top_k_evids = [evid_ids[j] for j in top_k_idx]\n",
        "  top_k_matches[claim_ids[i]] = top_k_evids\n"
      ]
    },
    {
      "cell_type": "code",
      "execution_count": 12,
      "metadata": {
        "id": "jmdRKYOFuhM6"
      },
      "outputs": [],
      "source": [
        "# Construct training data for re-ranking model\n",
        "from datasets import Dataset\n",
        "\n",
        "label_map = {\"SUPPORTS\": 0, \"REFUTES\": 1, \"NOT_ENOUGH_INFO\": 2, \"DISPUTED\": 3}\n",
        "\n",
        "pair_data = []\n",
        "for cid in claim_ids:\n",
        "  claim_obj = train_claims_data[cid]\n",
        "  claim_text = claim_obj[\"claim_text\"]\n",
        "  claim_label_str = claim_obj[\"claim_label\"]\n",
        "  label = label_map[claim_label_str]\n",
        "  candidate_evids = top_k_matches[cid]\n",
        "\n",
        "  for evid in candidate_evids:\n",
        "    if evid in evidence_data:\n",
        "      evidence_text = evidence_data[evid]\n",
        "      pair_data.append({\n",
        "          \"text\": claim_text + \" [SEP] \" + evidence_text, \"label\": label\n",
        "      })\n"
      ]
    },
    {
      "cell_type": "code",
      "execution_count": 13,
      "metadata": {
        "id": "65T610iPLXfH"
      },
      "outputs": [],
      "source": [
        "import os\n",
        "os.environ[\"WANDB_DISABLED\"] = \"true\""
      ]
    },
    {
      "cell_type": "code",
      "execution_count": null,
      "metadata": {
        "id": "JYPcSv_WFvrs"
      },
      "outputs": [],
      "source": [
        "import torch.nn as nn\n",
        "\n",
        "class WeightedLossTrainer(Trainer):\n",
        "  def __init__(self, class_weights, *args, **kwargs):\n",
        "    super().__init__(*args, **kwargs)\n",
        "    loss_fn = torch.nn.CrossEntropyLoss(weight=class_weights_tensor)\n",
        "\n",
        "  def compute_loss(self, model, inputs, return_outputs=False):\n",
        "    labels = inputs.get(\"labels\")\n",
        "    outputs = model(**inputs)\n",
        "    logits = outputs.get(\"logits\")\n",
        "    loss = self.loss_fn(logits.view(-1, self.model.config.num_labels), labels.view(-1))\n",
        "    return (loss, outputs) if return_outputs else loss\n"
      ]
    },
    {
      "cell_type": "code",
      "execution_count": null,
      "metadata": {
        "colab": {
          "base_uri": "https://localhost:8080/",
          "height": 533,
          "referenced_widgets": [
            "66a0f561c8d244b18605f3bb6eecaba4",
            "177e2191b32a418e8e8849b9b5df40a6",
            "540779d2e74b4876aadc2e692bcaa90b",
            "33bada39c4b14e5b923949da31154ae4",
            "1066d964449a45bf8734d40435c6dc8e",
            "d73034e7f4454a71b59b42fe7aa2a6a2",
            "942bee7dc4e144d9b4e6fb1e191f44c1",
            "063d867789f948b992c633fb1aca3fa1",
            "d44085a97e634baf943e8a54102936bc",
            "d761e0d88e6a4c4f9d73d7f0270d8af1",
            "0abc1271eb5c4957840bfe535a1e114e",
            "a2fd2295b7af44febb84997418d21322",
            "caa1fa42303045b5b53a2b02ee262304",
            "2229905f956f438f88733ed4200a8529",
            "9c6f6452a32143fd9896d50b26217e75",
            "0a72bd5a390b47f4aa0c1c514625fe6d",
            "da7e74c1bfb7405e98aa4e3563ff5478",
            "b99bea0bf0a74401a6068abe4a0ad7d5",
            "b80f0f7264c149559a908c122a396aec",
            "a3257f84e2734144a57b8af201af0928",
            "f1f6632c32a049f1b1ea7a8720e03d91",
            "0abc58ca68814ab8b6d96f74e8a57342",
            "49712d189b774b6eba0286e692eb5979",
            "27de083398e0418696079c5f116e846b",
            "1b1af08faade4f199b82ef0428fe9532",
            "7243eeafdce74e378e0432f9fe911c1b",
            "dcf134852590404390aee6eb15d3164f",
            "868005f5ad0a4bc68632b476c5e3ec10",
            "51d1d557f04d42cdbda2193ec02bba69",
            "ff2d53a8cce14cc2ae2485c3f405da4a",
            "c4a56bca354143e096319a7ac90c7418",
            "acd8e5e1bcbe4b1bb7eb601a7d867437",
            "887d3542bf58481fba828c66b08ada05",
            "527c6cc1425b48acaefe2dc31210ec75",
            "6258673e4bba422f850550c2dbdb3cd4",
            "fea8a1ce58304143ad66f3fcce52df33",
            "bc6b7b5707a04091b4038678d0357e80",
            "7950a39288084d9bb274d50f458e22ea",
            "2947cbd5699841e7b684ee9649210c9a",
            "65c07b6e002a48f68de432d8b8622a91",
            "0b97eccdbcdc4712bd0381054187ebc2",
            "8b21589bca6744bb9527dec3c7cf2f34",
            "12615d09850749daae67ece1d47ff738",
            "7f9c65b46d2144c29f0d4d39023a6853",
            "e1e58e279b34404b8ab685480d9bf54e",
            "fd57fa4dafc64adda148fd947b78aaf6",
            "8245e5a509bd48519ec815d01697131b",
            "31e773abf24c49c1801f8ffb37e23e17",
            "9fec737316fa4eaaad35f7369cd01a77",
            "d627231c9d944ad18b00995e854a26d3",
            "45d3e621137c4bb3a025313ce2ea2c1b",
            "e4c75e59acea400cb98b52cf9237ef85",
            "6d73d6d6081b4505a705fabe0146f08b",
            "4d2bbac51e7d44c0ac76af7d3c037a83",
            "4eb4c9517c5e44fbb692220cd7b271be",
            "a7be5b1da4fc4cf3b1930a8b0b7307a1",
            "bcb2bccc1ef740b590391151a84b62ea",
            "e760f9ab67cc47da9a20f9fccb9de1bb",
            "4a8b5333f1f54b23ad40f6fa6968261e",
            "45513a48f2c046ef8bb4fc579decbfde",
            "2ae500ba3b064b63a07bae9588a80fb1",
            "bbc4c1d4fe0c4aa8a461d221d90fd503",
            "e57f655c85d14856a24b5db7d8fd00bf",
            "d4e71c5d36354311a15cb28190c3bb2d",
            "23cc8d70da174913afbf34837a1e56c3",
            "dff84d268abd48c29f9272b04dfa1a1c"
          ]
        },
        "id": "aG4vNnpOujXa",
        "outputId": "08d01349-df33-470d-d5a7-3d84722a22bd"
      },
      "outputs": [],
      "source": [
        "from transformers import BertTokenizerFast, BertForSequenceClassification, Trainer, TrainingArguments\n",
        "from datasets import Dataset\n",
        "\n",
        "tokenizer = BertTokenizerFast.from_pretrained(\"bert-base-uncased\")\n",
        "dataset = Dataset.from_list(pair_data)\n",
        "\n",
        "def preprocess(example):\n",
        "    return tokenizer(example['text'], truncation=True, padding='max_length')\n",
        "\n",
        "encoded_dataset = dataset.map(preprocess, batched=True)\n",
        "\n",
        "# Train/test split\n",
        "split_data = encoded_dataset.train_test_split(test_size=0.2)\n",
        "train_dataset = split_data[\"train\"]\n",
        "eval_dataset = split_data[\"test\"]\n",
        "\n",
        "model = BertForSequenceClassification.from_pretrained(\"bert-base-uncased\", num_labels=4)\n",
        "\n",
        "args = TrainingArguments(\n",
        "    output_dir=\"./bert-reranker\",\n",
        "    eval_strategy=\"epoch\",\n",
        "    learning_rate=2e-5,\n",
        "    per_device_train_batch_size=8,\n",
        "    per_device_eval_batch_size=8,\n",
        "    num_train_epochs=3,\n",
        "    weight_decay=0.01,\n",
        ")\n",
        "\n",
        "trainer = Trainer(\n",
        "    model=model,\n",
        "    args=args,\n",
        "    train_dataset=train_dataset,\n",
        "    eval_dataset=eval_dataset,\n",
        "    tokenizer=tokenizer\n",
        ")\n",
        "\n",
        "trainer.train()\n"
      ]
    },
    {
      "cell_type": "code",
      "execution_count": 31,
      "metadata": {
        "id": "Mj43Qoa8GOVj"
      },
      "outputs": [],
      "source": [
        "from sklearn.utils.class_weight import compute_class_weight\n",
        "\n",
        "y_train = [item[\"label\"] for item in pair_data]\n",
        "class_weights = compute_class_weight(class_weight=\"balanced\", classes=np.unique(y_train), y=y_train)\n",
        "class_weights_tensor = torch.tensor(class_weights, dtype=torch.float)"
      ]
    },
    {
      "cell_type": "code",
      "execution_count": 21,
      "metadata": {
        "id": "Fb-G_dMKCiNy"
      },
      "outputs": [],
      "source": [
        "trainer.save_model(\"bert-classifier\")"
      ]
    },
    {
      "cell_type": "markdown",
      "metadata": {
        "id": "EzGuzHPE87Ya"
      },
      "source": [
        "# 3.Testing and Evaluation\n",
        "(You can add as many code blocks and text blocks as you need. However, YOU SHOULD NOT MODIFY the section title)"
      ]
    },
    {
      "cell_type": "code",
      "execution_count": 15,
      "metadata": {
        "colab": {
          "base_uri": "https://localhost:8080/",
          "height": 204
        },
        "id": "0iMkjqgn9NYH",
        "outputId": "ef81405b-b231-4baa-f1ba-a00c970beb1e"
      },
      "outputs": [
        {
          "data": {
            "text/html": [],
            "text/plain": [
              "<IPython.core.display.HTML object>"
            ]
          },
          "metadata": {},
          "output_type": "display_data"
        },
        {
          "name": "stdout",
          "output_type": "stream",
          "text": [
            "                 precision    recall  f1-score   support\n",
            "\n",
            "       SUPPORTS      0.964     0.984     0.974       516\n",
            "        REFUTES      0.966     0.966     0.966       203\n",
            "NOT_ENOUGH_INFO      0.967     0.972     0.970       362\n",
            "       DISPUTED      0.955     0.871     0.911       147\n",
            "\n",
            "       accuracy                          0.964      1228\n",
            "      macro avg      0.963     0.948     0.955      1228\n",
            "   weighted avg      0.964     0.964     0.964      1228\n",
            "\n"
          ]
        }
      ],
      "source": [
        "from sklearn.metrics import classification_report\n",
        "\n",
        "# Get model predictions\n",
        "outputs = trainer.predict(eval_dataset)\n",
        "y_pred = np.argmax(outputs.predictions, axis=1)\n",
        "y_true = outputs.label_ids\n",
        "\n",
        "label_map = {0: \"SUPPORTS\", 1: \"REFUTES\", 2: \"NOT_ENOUGH_INFO\", 3: \"DISPUTED\"}\n",
        "target_names = [label_map[i] for i in sorted(label_map)]\n",
        "\n",
        "print(classification_report(y_true, y_pred, target_names=target_names, digits=3))\n"
      ]
    },
    {
      "cell_type": "code",
      "execution_count": null,
      "metadata": {
        "colab": {
          "base_uri": "https://localhost:8080/",
          "height": 472
        },
        "id": "PGxFMtke-9Nk",
        "outputId": "798ccdab-679a-4a11-880e-7dad64c9e38f"
      },
      "outputs": [
        {
          "data": {
            "image/png": "[encoded data removed]",
            "text/plain": [
              "<Figure size 640x480 with 1 Axes>"
            ]
          },
          "metadata": {},
          "output_type": "display_data"
        }
      ],
      "source": [
        "from sklearn.preprocessing import label_binarize\n",
        "from sklearn.metrics import precision_recall_curve\n",
        "import matplotlib.pyplot as plt\n",
        "\n",
        "# Binarize the output\n",
        "y_true_bin = label_binarize(y_true, classes=[0, 1, 2, 3])\n",
        "y_score = outputs.predictions\n",
        "\n",
        "# Plot precision-recall curve for each class\n",
        "for i in range(len(label_map)):\n",
        "    precision, recall, _ = precision_recall_curve(y_true_bin[:, i], y_score[:, i])\n",
        "    plt.plot(recall, precision, label=label_map[i])\n",
        "\n",
        "plt.xlabel(\"Recall\")\n",
        "plt.ylabel(\"Precision\")\n",
        "plt.title(\"Precision-Recall Curve\")\n",
        "plt.legend()\n",
        "plt.show()"
      ]
    },
    {
      "cell_type": "code",
      "execution_count": 17,
      "metadata": {
        "id": "P1kt-JqT_qzJ"
      },
      "outputs": [],
      "source": [
        "from datasets import Dataset\n",
        "\n",
        "label_map = {\"SUPPORTS\": 0, \"REFUTES\": 1, \"NOT_ENOUGH_INFO\": 2, \"DISPUTED\": 3}\n",
        "\n",
        "eval_pair_data = []\n",
        "for cid, claim_obj in train_labels_data.items():\n",
        "  claim_text = claim_obj[\"claim_text\"]\n",
        "  label_str = claim_obj[\"claim_label\"]\n",
        "  label = label_map[label_str]\n",
        "  for evid_id in claim_obj[\"evidences\"]:\n",
        "    if evid_id in evidence_data:\n",
        "      evidence_text = evidence_data[evid_id]\n",
        "      eval_pair_data.append({\"text\": claim_text + \" [SEP] \" + evidence_text, \"label\": label})\n",
        "\n",
        "eval_dataset = Dataset.from_list(eval_pair_data)"
      ]
    },
    {
      "cell_type": "code",
      "execution_count": null,
      "metadata": {
        "colab": {
          "base_uri": "https://localhost:8080/",
          "height": 49,
          "referenced_widgets": [
            "cf9e347dde544e538dc5017ee6f552ca",
            "ac20604d5428465098a011c22f16ed2c",
            "f87062d66182467d89397a10768052cf",
            "ec176e11abf0467192ee06bde346b491",
            "af84a157819e4da6b0715d16152092ea",
            "da1e923216294f4f8068594295c48445",
            "b629a1743bc943cfb298bada0445240c",
            "d488b882cdea4b2fb2782bf9b5713a16",
            "3af0404ab4e845438dee7b86a9e020f2",
            "fba0dfa2278c4eb5a6bd6dee6a1be1c5",
            "79d0e56b6a8c45e580bbc2513413084f"
          ]
        },
        "id": "9kjwLtdp_8Hy",
        "outputId": "72673f41-b140-451d-dda2-e539beaa0a0b"
      },
      "outputs": [],
      "source": [
        "from transformers import BertTokenizerFast\n",
        "\n",
        "tokenizer = BertTokenizerFast.from_pretrained(\"bert-base-uncased\")\n",
        "\n",
        "def preprocess(example):\n",
        "  return tokenizer(example['text'], truncation=True, padding='max_length')\n",
        "\n",
        "encoded_eval_dataset = eval_dataset.map(preprocess, batched=True)"
      ]
    },
    {
      "cell_type": "code",
      "execution_count": null,
      "metadata": {
        "colab": {
          "base_uri": "https://localhost:8080/",
          "height": 88
        },
        "id": "5I6e1HvRACyN",
        "outputId": "15db07e5-5982-4b95-8b2e-067859a11a22"
      },
      "outputs": [],
      "source": [
        "trainer = Trainer(model=model, tokenizer=tokenizer)\n",
        "\n",
        "outputs = trainer.predict(encoded_eval_dataset)"
      ]
    },
    {
      "cell_type": "code",
      "execution_count": 20,
      "metadata": {
        "colab": {
          "base_uri": "https://localhost:8080/"
        },
        "id": "9jniNKCVAK4-",
        "outputId": "5209997b-1e4f-4d87-9c3f-d48ea57d1dcb"
      },
      "outputs": [
        {
          "name": "stdout",
          "output_type": "stream",
          "text": [
            "                 precision    recall  f1-score   support\n",
            "\n",
            "       SUPPORTS      0.444     0.743     0.556       171\n",
            "        REFUTES      0.344     0.193     0.247        57\n",
            "NOT_ENOUGH_INFO      0.520     0.376     0.436       205\n",
            "       DISPUTED      0.360     0.155     0.217        58\n",
            "\n",
            "       accuracy                          0.456       491\n",
            "      macro avg      0.417     0.367     0.364       491\n",
            "   weighted avg      0.454     0.456     0.430       491\n",
            "\n"
          ]
        }
      ],
      "source": [
        "y_pred = np.argmax(outputs.predictions, axis=1)\n",
        "y_true = outputs.label_ids\n",
        "\n",
        "inv_label_map = {v: k for k, v in label_map.items()}\n",
        "target_names = [inv_label_map[i] for i in sorted(inv_label_map)]\n",
        "\n",
        "print(classification_report(y_true, y_pred, target_names=target_names, digits=3))"
      ]
    },
    {
      "cell_type": "code",
      "execution_count": null,
      "metadata": {
        "colab": {
          "base_uri": "https://localhost:8080/"
        },
        "id": "RuFZL64oCQJ2",
        "outputId": "b6267ab1-331a-41ee-98ca-3defd089e29a"
      },
      "outputs": [],
      "source": [
        "tokenizer = BertTokenizerFast.from_pretrained(\"bert-base-uncased\")\n",
        "model = BertForSequenceClassification.from_pretrained(\"/content/bert-classifier\")\n",
        "model.eval()"
      ]
    },
    {
      "cell_type": "code",
      "execution_count": 23,
      "metadata": {
        "id": "eUraxZriC0TQ"
      },
      "outputs": [],
      "source": [
        "label_map = {0: \"SUPPORTS\", 1: \"REFUTES\", 2: \"NOT_ENOUGH_INFO\", 3: \"DISPUTED\"}\n",
        "predictions = {}\n",
        "\n",
        "for claim_id, claim_info in train_labels_data.items():\n",
        "    claim_text = claim_info[\"claim_text\"]\n",
        "    evidence_ids = claim_info[\"evidences\"]\n",
        "\n",
        "    # Combine claim with each evidence\n",
        "    inputs = []\n",
        "    for evid_id in evidence_ids:\n",
        "        evidence_text = evidence_data.get(evid_id, \"\")\n",
        "        combined_text = claim_text + \" [SEP] \" + evidence_text\n",
        "        inputs.append(combined_text)\n",
        "\n",
        "    # Tokenize inputs\n",
        "    encodings = tokenizer(inputs, truncation=True, padding=True, return_tensors=\"pt\")\n",
        "\n",
        "    # Get model predictions\n",
        "    with torch.no_grad():\n",
        "        outputs = model(**encodings)\n",
        "        logits = outputs.logits\n",
        "        predicted_classes = torch.argmax(logits, dim=1)\n",
        "\n",
        "    # Majority vote if multiple evidences\n",
        "    predicted_class = torch.mode(predicted_classes).values.item()\n",
        "    predicted_label = label_map[predicted_class]\n",
        "\n",
        "    predictions[claim_id] = {\n",
        "        \"claim_label\": predicted_label,\n",
        "        \"evidences\": evidence_ids  # or select top-k based on your criteria\n",
        "    }\n",
        "\n",
        "# Save predictions to a JSON file\n",
        "with open(\"predictions.json\", \"w\") as f:\n",
        "    json.dump(predictions, f, indent=2)\n"
      ]
    },
    {
      "cell_type": "code",
      "execution_count": 32,
      "metadata": {
        "id": "u-taty-HDJDZ"
      },
      "outputs": [],
      "source": [
        "device = torch.device(\"cuda\" if torch.cuda.is_available() else \"cpu\")\n",
        "model.to(device)\n",
        "encodings = {key: val.to(device) for key, val in encodings.items()}\n",
        "class_weights_tensor = torch.tensor(class_weights, dtype=torch.float).to(device)"
      ]
    },
    {
      "cell_type": "code",
      "execution_count": null,
      "metadata": {
        "colab": {
          "base_uri": "https://localhost:8080/"
        },
        "id": "YVBfNhnKDrvf",
        "outputId": "5d3612f6-39d6-4988-9ba0-60983b7efc20"
      },
      "outputs": [
        {
          "name": "stdout",
          "output_type": "stream",
          "text": [
            "Evidence Retrieval F-score (F)    = 1.0\n",
            "Claim Classification Accuracy (A) = 0.4675324675324675\n",
            "Harmonic Mean of F and A          = 0.6371681415929203\n"
          ]
        }
      ],
      "source": [
        "# Test via eval.py\n",
        "!python eval.py --predictions predictions.json --groundtruth dev-claims.json"
      ]
    },
    {
      "cell_type": "markdown",
      "metadata": {
        "id": "mefSOe8eTmGP"
      },
      "source": [
        "## Object Oriented Programming codes here\n",
        "\n",
        "*You can use multiple code snippets. Just add more if needed*"
      ]
    }
  ],
  "metadata": {
    "accelerator": "GPU",
    "colab": {
      "gpuType": "T4",
      "provenance": []
    },
    "kernelspec": {
      "display_name": "Python 3",
      "name": "python3"
    },
    "language_info": {
      "name": "python"
    }
  },
  "nbformat": 4,
  "nbformat_minor": 0
}
