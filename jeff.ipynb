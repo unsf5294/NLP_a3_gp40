{
 "cells": [
  {
   "cell_type": "code",
   "execution_count": 1,
   "id": "fc1e13e2",
   "metadata": {},
   "outputs": [],
   "source": [
    "import json\n",
    "import os\n",
    "import random\n",
    "import torch\n",
    "from datasets import Dataset\n",
    "from torch.utils.data import DataLoader\n",
    "from sentence_transformers import SentenceTransformer, losses, InputExample, evaluation\n",
    "\n",
    "class EvidenceClaimRetriever:\n",
    "    def __init__(self, model_name='all-mpnet-base-v2', batch_size=16, num_epochs=3):\n",
    "        self.model = SentenceTransformer(model_name)\n",
    "        self.batch_size = batch_size\n",
    "        self.num_epochs = num_epochs\n",
    "        self.evidence_map = {}\n",
    "        self.label_mapping = {\n",
    "            'SUPPORTS': 1,\n",
    "            'REFUTES': 1,\n",
    "            'DISPUTED': 1,\n",
    "            'NOT_ENOUGH_INFO': 0\n",
    "        }\n",
    "\n",
    "    def load_data(self, claims_path, evidence_path):\n",
    "        \"\"\"Load training data and evidence corpus\"\"\"\n",
    "        # Load evidence corpus\n",
    "        with open(evidence_path) as f:\n",
    "            self.evidence_map = json.load(f)\n",
    "\n",
    "        # Load training claims\n",
    "        with open(claims_path) as f:\n",
    "            train_claims = json.load(f)\n",
    "\n",
    "        # Create training examples\n",
    "        self.train_examples = []\n",
    "        for claim_id, claim_data in train_claims.items():\n",
    "            self._process_claim(claim_data)\n",
    "\n",
    "    def _process_claim(self, claim_data):\n",
    "        \"\"\"Create training examples for a single claim\"\"\"\n",
    "        claim_text = claim_data['claim_text']\n",
    "        evidence_ids = claim_data['evidences']\n",
    "\n",
    "        # Add positive examples\n",
    "        for eid in evidence_ids:\n",
    "            if eid in self.evidence_map:\n",
    "                self.train_examples.append(InputExample(\n",
    "                    texts=[claim_text, self.evidence_map[eid]],\n",
    "                    label=self.label_mapping[claim_data['claim_label']]\n",
    "                ))\n",
    "\n",
    "        # Add negative examples\n",
    "        self._add_negative_examples(claim_text, evidence_ids, claim_data['claim_label'])\n",
    "\n",
    "    def _add_negative_examples(self, claim_text, positive_ids, label):\n",
    "        \"\"\"Add negative examples with proper ratio\"\"\"\n",
    "        all_evidence_ids = list(self.evidence_map.keys())\n",
    "        negative_candidates = list(set(all_evidence_ids) - set(positive_ids))\n",
    "\n",
    "        # Determine number of negatives based on label\n",
    "        if label == 'NOT_ENOUGH_INFO':\n",
    "            num_negatives = min(2, len(negative_candidates))\n",
    "        else:\n",
    "            num_negatives = min(3 * len(positive_ids), len(negative_candidates))\n",
    "\n",
    "        # Add selected negatives\n",
    "        for eid in random.sample(negative_candidates, num_negatives):\n",
    "            self.train_examples.append(InputExample(\n",
    "                texts=[claim_text, self.evidence_map[eid]],\n",
    "                label=0\n",
    "            ))\n",
    "\n",
    "    def load_dev_data(self, dev_claims_path):\n",
    "        \"\"\"Load separate dev set for validation\"\"\"\n",
    "        with open(dev_claims_path) as f:\n",
    "            dev_claims = json.load(f)\n",
    "\n",
    "        # Prepare for InformationRetrievalEvaluator\n",
    "        self.dev_queries = {}\n",
    "        self.relevant_docs = {}\n",
    "\n",
    "        for claim_id, claim_data in dev_claims.items():\n",
    "            claim_text = claim_data['claim_text']\n",
    "            evidence_ids = claim_data['evidences']\n",
    "\n",
    "            self.dev_queries[claim_id] = claim_text\n",
    "            self.relevant_docs[claim_id] = set(evidence_ids)\n",
    "\n",
    "    def train(self, output_dir='./trained_model'):\n",
    "        \"\"\"Train using dedicated dev set for validation\"\"\"\n",
    "        # Create evaluator using separate dev set\n",
    "        dev_evaluator = evaluation.InformationRetrievalEvaluator(\n",
    "            queries=self.dev_queries,\n",
    "            corpus=self.evidence_map,\n",
    "            relevant_docs=self.relevant_docs,\n",
    "            show_progress_bar=True\n",
    "        )\n",
    "\n",
    "        # Create DataLoader directly from InputExamples\n",
    "        train_dataloader = DataLoader(\n",
    "            self.train_examples,  # Use the list of InputExamples directly\n",
    "            shuffle=True,\n",
    "            batch_size=self.batch_size\n",
    "        )\n",
    "\n",
    "        # Use MultipleNegativesRankingLoss\n",
    "        train_loss = losses.MultipleNegativesRankingLoss(self.model)\n",
    "\n",
    "        # Training configuration\n",
    "        self.model.fit(\n",
    "            train_objectives=[(train_dataloader, train_loss)],\n",
    "            evaluator=dev_evaluator,\n",
    "            epochs=self.num_epochs,\n",
    "            evaluation_steps=100,\n",
    "            warmup_steps=int(len(self.train_examples) * 0.1),\n",
    "            output_path=output_dir,\n",
    "            show_progress_bar=True\n",
    "        )\n",
    "        \n",
    "    def retrieve(self, claim_text, top_k=5):\n",
    "        \"\"\"Retrieve evidence for a claim\"\"\"\n",
    "        claim_embed = self.model.encode(claim_text)\n",
    "        scores = torch.nn.functional.cosine_similarity(\n",
    "            torch.tensor(claim_embed),\n",
    "            torch.tensor(self.evidence_embeddings)\n",
    "        )\n",
    "        top_indices = torch.topk(scores, k=top_k).indices.tolist()\n",
    "        return [(self.evidence_ids[i], scores[i].item()) for i in top_indices]\n",
    "\n",
    "    def index_evidence(self, save_path='data/evidence_embeddings.pth'):\n",
    "        \"\"\"Precompute all evidence embeddings and optionally save them\"\"\"\n",
    "        self.evidence_ids = list(self.evidence_map.keys())\n",
    "        self.evidence_texts = [self.evidence_map[eid] for eid in self.evidence_ids]\n",
    "\n",
    "        # Check if embeddings already exist\n",
    "        if save_path and os.path.exists(save_path):\n",
    "            print(\"Loading precomputed evidence embeddings...\")\n",
    "            data = torch.load(save_path, weights_only=False)\n",
    "            self.evidence_embeddings = data['embeddings']\n",
    "            self.evidence_ids = data['ids']\n",
    "        else:\n",
    "            print(\"Computing evidence embeddings...\")\n",
    "            self.evidence_embeddings = self.model.encode(\n",
    "                self.evidence_texts,\n",
    "                show_progress_bar=True,\n",
    "                batch_size=32\n",
    "            )\n",
    "            # Save embeddings if save_path is provided\n",
    "            if save_path:\n",
    "                print(\"Saving evidence embeddings...\")\n",
    "                torch.save({'embeddings': self.evidence_embeddings, 'ids': self.evidence_ids}, save_path)\n",
    "\n",
    "\n",
    "    "
   ]
  },
  {
   "cell_type": "code",
   "execution_count": 2,
   "id": "b925b86d",
   "metadata": {},
   "outputs": [],
   "source": [
    "evidenceRetriever = EvidenceClaimRetriever(\n",
    "        model_name='all-MiniLM-L6-v2',\n",
    "        batch_size=32,\n",
    "        num_epochs=5\n",
    "    )\n"
   ]
  },
  {
   "cell_type": "code",
   "execution_count": 3,
   "id": "2ae07a22",
   "metadata": {},
   "outputs": [],
   "source": [
    "\n",
    "# 1. Load training data and evidence\n",
    "evidenceRetriever.load_data(\n",
    "    claims_path='data/train-claims.json',\n",
    "    evidence_path='data/evidence.json'\n",
    ")\n"
   ]
  },
  {
   "cell_type": "code",
   "execution_count": 4,
   "id": "2134c36b",
   "metadata": {},
   "outputs": [],
   "source": [
    "\n",
    "# 2. Load separate dev set\n",
    "evidenceRetriever.load_dev_data('data/dev-claims-baseline.json')"
   ]
  },
  {
   "cell_type": "code",
   "execution_count": 5,
   "id": "d684e967",
   "metadata": {},
   "outputs": [
    {
     "name": "stdout",
     "output_type": "stream",
     "text": [
      "Loading precomputed evidence embeddings...\n"
     ]
    }
   ],
   "source": [
    "\n",
    "# 3. Precompute evidence embeddings\n",
    "evidenceRetriever.index_evidence()"
   ]
  },
  {
   "cell_type": "code",
   "execution_count": 9,
   "id": "262d549a",
   "metadata": {},
   "outputs": [
    {
     "name": "stderr",
     "output_type": "stream",
     "text": [
      "/Users/jeffphan8816/Desktop/StudyUnimelb/NLP/NLP_a3_gp40/.venv/lib/python3.13/site-packages/torch/utils/data/dataloader.py:683: UserWarning: 'pin_memory' argument is set as true but not supported on MPS now, then device pinned memory won't be used.\n",
      "  warnings.warn(warn_msg)\n"
     ]
    },
    {
     "data": {
      "text/html": [
       "\n",
       "    <div>\n",
       "      \n",
       "      <progress value='1795' max='1795' style='width:300px; height:20px; vertical-align: middle;'></progress>\n",
       "      [1795/1795 4:42:30, Epoch 5/5]\n",
       "    </div>\n",
       "    <table border=\"1\" class=\"dataframe\">\n",
       "  <thead>\n",
       " <tr style=\"text-align: left;\">\n",
       "      <th>Step</th>\n",
       "      <th>Training Loss</th>\n",
       "      <th>Validation Loss</th>\n",
       "      <th>Cosine Accuracy@1</th>\n",
       "      <th>Cosine Accuracy@3</th>\n",
       "      <th>Cosine Accuracy@5</th>\n",
       "      <th>Cosine Accuracy@10</th>\n",
       "      <th>Cosine Precision@1</th>\n",
       "      <th>Cosine Precision@3</th>\n",
       "      <th>Cosine Precision@5</th>\n",
       "      <th>Cosine Precision@10</th>\n",
       "      <th>Cosine Recall@1</th>\n",
       "      <th>Cosine Recall@3</th>\n",
       "      <th>Cosine Recall@5</th>\n",
       "      <th>Cosine Recall@10</th>\n",
       "      <th>Cosine Ndcg@10</th>\n",
       "      <th>Cosine Mrr@10</th>\n",
       "      <th>Cosine Map@100</th>\n",
       "    </tr>\n",
       "  </thead>\n",
       "  <tbody>\n",
       "    <tr>\n",
       "      <td>100</td>\n",
       "      <td>No log</td>\n",
       "      <td>No log</td>\n",
       "      <td>0.240260</td>\n",
       "      <td>0.396104</td>\n",
       "      <td>0.448052</td>\n",
       "      <td>0.538961</td>\n",
       "      <td>0.240260</td>\n",
       "      <td>0.164502</td>\n",
       "      <td>0.123377</td>\n",
       "      <td>0.083766</td>\n",
       "      <td>0.100758</td>\n",
       "      <td>0.188961</td>\n",
       "      <td>0.224567</td>\n",
       "      <td>0.287987</td>\n",
       "      <td>0.248052</td>\n",
       "      <td>0.331027</td>\n",
       "      <td>0.204947</td>\n",
       "    </tr>\n",
       "    <tr>\n",
       "      <td>200</td>\n",
       "      <td>No log</td>\n",
       "      <td>No log</td>\n",
       "      <td>0.201299</td>\n",
       "      <td>0.324675</td>\n",
       "      <td>0.389610</td>\n",
       "      <td>0.500000</td>\n",
       "      <td>0.201299</td>\n",
       "      <td>0.138528</td>\n",
       "      <td>0.107792</td>\n",
       "      <td>0.078571</td>\n",
       "      <td>0.082576</td>\n",
       "      <td>0.159848</td>\n",
       "      <td>0.206710</td>\n",
       "      <td>0.280411</td>\n",
       "      <td>0.224574</td>\n",
       "      <td>0.281705</td>\n",
       "      <td>0.173821</td>\n",
       "    </tr>\n",
       "    <tr>\n",
       "      <td>300</td>\n",
       "      <td>No log</td>\n",
       "      <td>No log</td>\n",
       "      <td>0.194805</td>\n",
       "      <td>0.337662</td>\n",
       "      <td>0.396104</td>\n",
       "      <td>0.467532</td>\n",
       "      <td>0.194805</td>\n",
       "      <td>0.145022</td>\n",
       "      <td>0.112987</td>\n",
       "      <td>0.074675</td>\n",
       "      <td>0.081277</td>\n",
       "      <td>0.169913</td>\n",
       "      <td>0.209632</td>\n",
       "      <td>0.269372</td>\n",
       "      <td>0.220480</td>\n",
       "      <td>0.277394</td>\n",
       "      <td>0.173043</td>\n",
       "    </tr>\n",
       "    <tr>\n",
       "      <td>359</td>\n",
       "      <td>No log</td>\n",
       "      <td>No log</td>\n",
       "      <td>0.220779</td>\n",
       "      <td>0.350649</td>\n",
       "      <td>0.422078</td>\n",
       "      <td>0.506494</td>\n",
       "      <td>0.220779</td>\n",
       "      <td>0.147186</td>\n",
       "      <td>0.122078</td>\n",
       "      <td>0.079870</td>\n",
       "      <td>0.091017</td>\n",
       "      <td>0.173485</td>\n",
       "      <td>0.226299</td>\n",
       "      <td>0.287013</td>\n",
       "      <td>0.237954</td>\n",
       "      <td>0.305148</td>\n",
       "      <td>0.186771</td>\n",
       "    </tr>\n",
       "    <tr>\n",
       "      <td>400</td>\n",
       "      <td>No log</td>\n",
       "      <td>No log</td>\n",
       "      <td>0.227273</td>\n",
       "      <td>0.363636</td>\n",
       "      <td>0.428571</td>\n",
       "      <td>0.512987</td>\n",
       "      <td>0.227273</td>\n",
       "      <td>0.151515</td>\n",
       "      <td>0.123377</td>\n",
       "      <td>0.081818</td>\n",
       "      <td>0.101840</td>\n",
       "      <td>0.178030</td>\n",
       "      <td>0.227597</td>\n",
       "      <td>0.294264</td>\n",
       "      <td>0.245545</td>\n",
       "      <td>0.310774</td>\n",
       "      <td>0.194059</td>\n",
       "    </tr>\n",
       "    <tr>\n",
       "      <td>500</td>\n",
       "      <td>3.750600</td>\n",
       "      <td>No log</td>\n",
       "      <td>0.220779</td>\n",
       "      <td>0.389610</td>\n",
       "      <td>0.448052</td>\n",
       "      <td>0.564935</td>\n",
       "      <td>0.220779</td>\n",
       "      <td>0.166667</td>\n",
       "      <td>0.131169</td>\n",
       "      <td>0.089610</td>\n",
       "      <td>0.095671</td>\n",
       "      <td>0.190693</td>\n",
       "      <td>0.237771</td>\n",
       "      <td>0.323918</td>\n",
       "      <td>0.259840</td>\n",
       "      <td>0.325193</td>\n",
       "      <td>0.201078</td>\n",
       "    </tr>\n",
       "    <tr>\n",
       "      <td>600</td>\n",
       "      <td>3.750600</td>\n",
       "      <td>No log</td>\n",
       "      <td>0.227273</td>\n",
       "      <td>0.402597</td>\n",
       "      <td>0.461039</td>\n",
       "      <td>0.597403</td>\n",
       "      <td>0.227273</td>\n",
       "      <td>0.168831</td>\n",
       "      <td>0.135065</td>\n",
       "      <td>0.095455</td>\n",
       "      <td>0.094589</td>\n",
       "      <td>0.193182</td>\n",
       "      <td>0.249134</td>\n",
       "      <td>0.333009</td>\n",
       "      <td>0.266805</td>\n",
       "      <td>0.335225</td>\n",
       "      <td>0.207562</td>\n",
       "    </tr>\n",
       "    <tr>\n",
       "      <td>700</td>\n",
       "      <td>3.750600</td>\n",
       "      <td>No log</td>\n",
       "      <td>0.240260</td>\n",
       "      <td>0.409091</td>\n",
       "      <td>0.493506</td>\n",
       "      <td>0.616883</td>\n",
       "      <td>0.240260</td>\n",
       "      <td>0.170996</td>\n",
       "      <td>0.144156</td>\n",
       "      <td>0.094805</td>\n",
       "      <td>0.102381</td>\n",
       "      <td>0.193939</td>\n",
       "      <td>0.260065</td>\n",
       "      <td>0.338853</td>\n",
       "      <td>0.273624</td>\n",
       "      <td>0.349052</td>\n",
       "      <td>0.216047</td>\n",
       "    </tr>\n",
       "    <tr>\n",
       "      <td>718</td>\n",
       "      <td>3.750600</td>\n",
       "      <td>No log</td>\n",
       "      <td>0.240260</td>\n",
       "      <td>0.383117</td>\n",
       "      <td>0.493506</td>\n",
       "      <td>0.610390</td>\n",
       "      <td>0.240260</td>\n",
       "      <td>0.158009</td>\n",
       "      <td>0.146753</td>\n",
       "      <td>0.096104</td>\n",
       "      <td>0.098052</td>\n",
       "      <td>0.183333</td>\n",
       "      <td>0.268182</td>\n",
       "      <td>0.340909</td>\n",
       "      <td>0.271977</td>\n",
       "      <td>0.345552</td>\n",
       "      <td>0.212218</td>\n",
       "    </tr>\n",
       "    <tr>\n",
       "      <td>800</td>\n",
       "      <td>3.750600</td>\n",
       "      <td>No log</td>\n",
       "      <td>0.246753</td>\n",
       "      <td>0.396104</td>\n",
       "      <td>0.525974</td>\n",
       "      <td>0.616883</td>\n",
       "      <td>0.246753</td>\n",
       "      <td>0.160173</td>\n",
       "      <td>0.153247</td>\n",
       "      <td>0.097403</td>\n",
       "      <td>0.099351</td>\n",
       "      <td>0.185173</td>\n",
       "      <td>0.285931</td>\n",
       "      <td>0.349242</td>\n",
       "      <td>0.278150</td>\n",
       "      <td>0.355677</td>\n",
       "      <td>0.216744</td>\n",
       "    </tr>\n",
       "    <tr>\n",
       "      <td>900</td>\n",
       "      <td>3.750600</td>\n",
       "      <td>No log</td>\n",
       "      <td>0.259740</td>\n",
       "      <td>0.409091</td>\n",
       "      <td>0.525974</td>\n",
       "      <td>0.642857</td>\n",
       "      <td>0.259740</td>\n",
       "      <td>0.175325</td>\n",
       "      <td>0.158442</td>\n",
       "      <td>0.100649</td>\n",
       "      <td>0.104762</td>\n",
       "      <td>0.191450</td>\n",
       "      <td>0.275758</td>\n",
       "      <td>0.357251</td>\n",
       "      <td>0.284394</td>\n",
       "      <td>0.362804</td>\n",
       "      <td>0.221435</td>\n",
       "    </tr>\n",
       "    <tr>\n",
       "      <td>1000</td>\n",
       "      <td>2.704500</td>\n",
       "      <td>No log</td>\n",
       "      <td>0.259740</td>\n",
       "      <td>0.409091</td>\n",
       "      <td>0.532468</td>\n",
       "      <td>0.636364</td>\n",
       "      <td>0.259740</td>\n",
       "      <td>0.181818</td>\n",
       "      <td>0.161039</td>\n",
       "      <td>0.101948</td>\n",
       "      <td>0.105844</td>\n",
       "      <td>0.197619</td>\n",
       "      <td>0.294697</td>\n",
       "      <td>0.370671</td>\n",
       "      <td>0.292322</td>\n",
       "      <td>0.366141</td>\n",
       "      <td>0.228863</td>\n",
       "    </tr>\n",
       "    <tr>\n",
       "      <td>1077</td>\n",
       "      <td>2.704500</td>\n",
       "      <td>No log</td>\n",
       "      <td>0.272727</td>\n",
       "      <td>0.435065</td>\n",
       "      <td>0.538961</td>\n",
       "      <td>0.629870</td>\n",
       "      <td>0.272727</td>\n",
       "      <td>0.183983</td>\n",
       "      <td>0.158442</td>\n",
       "      <td>0.100649</td>\n",
       "      <td>0.111255</td>\n",
       "      <td>0.211255</td>\n",
       "      <td>0.289394</td>\n",
       "      <td>0.358442</td>\n",
       "      <td>0.293655</td>\n",
       "      <td>0.376116</td>\n",
       "      <td>0.233647</td>\n",
       "    </tr>\n",
       "    <tr>\n",
       "      <td>1100</td>\n",
       "      <td>2.704500</td>\n",
       "      <td>No log</td>\n",
       "      <td>0.272727</td>\n",
       "      <td>0.415584</td>\n",
       "      <td>0.525974</td>\n",
       "      <td>0.636364</td>\n",
       "      <td>0.272727</td>\n",
       "      <td>0.177489</td>\n",
       "      <td>0.157143</td>\n",
       "      <td>0.099351</td>\n",
       "      <td>0.112662</td>\n",
       "      <td>0.203463</td>\n",
       "      <td>0.290801</td>\n",
       "      <td>0.360714</td>\n",
       "      <td>0.291195</td>\n",
       "      <td>0.370828</td>\n",
       "      <td>0.229402</td>\n",
       "    </tr>\n",
       "    <tr>\n",
       "      <td>1200</td>\n",
       "      <td>2.704500</td>\n",
       "      <td>No log</td>\n",
       "      <td>0.253247</td>\n",
       "      <td>0.402597</td>\n",
       "      <td>0.519481</td>\n",
       "      <td>0.681818</td>\n",
       "      <td>0.253247</td>\n",
       "      <td>0.173160</td>\n",
       "      <td>0.155844</td>\n",
       "      <td>0.104545</td>\n",
       "      <td>0.102056</td>\n",
       "      <td>0.190476</td>\n",
       "      <td>0.276840</td>\n",
       "      <td>0.376299</td>\n",
       "      <td>0.290501</td>\n",
       "      <td>0.363634</td>\n",
       "      <td>0.224647</td>\n",
       "    </tr>\n",
       "    <tr>\n",
       "      <td>1300</td>\n",
       "      <td>2.704500</td>\n",
       "      <td>No log</td>\n",
       "      <td>0.272727</td>\n",
       "      <td>0.389610</td>\n",
       "      <td>0.512987</td>\n",
       "      <td>0.649351</td>\n",
       "      <td>0.272727</td>\n",
       "      <td>0.166667</td>\n",
       "      <td>0.157143</td>\n",
       "      <td>0.103896</td>\n",
       "      <td>0.109091</td>\n",
       "      <td>0.175541</td>\n",
       "      <td>0.274134</td>\n",
       "      <td>0.362229</td>\n",
       "      <td>0.288532</td>\n",
       "      <td>0.368978</td>\n",
       "      <td>0.224513</td>\n",
       "    </tr>\n",
       "    <tr>\n",
       "      <td>1400</td>\n",
       "      <td>2.704500</td>\n",
       "      <td>No log</td>\n",
       "      <td>0.266234</td>\n",
       "      <td>0.415584</td>\n",
       "      <td>0.506494</td>\n",
       "      <td>0.636364</td>\n",
       "      <td>0.266234</td>\n",
       "      <td>0.179654</td>\n",
       "      <td>0.150649</td>\n",
       "      <td>0.101299</td>\n",
       "      <td>0.106926</td>\n",
       "      <td>0.208333</td>\n",
       "      <td>0.270346</td>\n",
       "      <td>0.356926</td>\n",
       "      <td>0.289189</td>\n",
       "      <td>0.366932</td>\n",
       "      <td>0.228743</td>\n",
       "    </tr>\n",
       "    <tr>\n",
       "      <td>1436</td>\n",
       "      <td>2.704500</td>\n",
       "      <td>No log</td>\n",
       "      <td>0.272727</td>\n",
       "      <td>0.422078</td>\n",
       "      <td>0.525974</td>\n",
       "      <td>0.662338</td>\n",
       "      <td>0.272727</td>\n",
       "      <td>0.179654</td>\n",
       "      <td>0.154545</td>\n",
       "      <td>0.103896</td>\n",
       "      <td>0.114502</td>\n",
       "      <td>0.199892</td>\n",
       "      <td>0.283658</td>\n",
       "      <td>0.368398</td>\n",
       "      <td>0.298200</td>\n",
       "      <td>0.377536</td>\n",
       "      <td>0.235864</td>\n",
       "    </tr>\n",
       "    <tr>\n",
       "      <td>1500</td>\n",
       "      <td>2.447500</td>\n",
       "      <td>No log</td>\n",
       "      <td>0.259740</td>\n",
       "      <td>0.415584</td>\n",
       "      <td>0.506494</td>\n",
       "      <td>0.636364</td>\n",
       "      <td>0.259740</td>\n",
       "      <td>0.173160</td>\n",
       "      <td>0.151948</td>\n",
       "      <td>0.103247</td>\n",
       "      <td>0.105087</td>\n",
       "      <td>0.196753</td>\n",
       "      <td>0.276732</td>\n",
       "      <td>0.358550</td>\n",
       "      <td>0.289723</td>\n",
       "      <td>0.364598</td>\n",
       "      <td>0.228303</td>\n",
       "    </tr>\n",
       "    <tr>\n",
       "      <td>1600</td>\n",
       "      <td>2.447500</td>\n",
       "      <td>No log</td>\n",
       "      <td>0.233766</td>\n",
       "      <td>0.428571</td>\n",
       "      <td>0.519481</td>\n",
       "      <td>0.649351</td>\n",
       "      <td>0.233766</td>\n",
       "      <td>0.179654</td>\n",
       "      <td>0.151948</td>\n",
       "      <td>0.104545</td>\n",
       "      <td>0.095887</td>\n",
       "      <td>0.207792</td>\n",
       "      <td>0.279978</td>\n",
       "      <td>0.368074</td>\n",
       "      <td>0.289876</td>\n",
       "      <td>0.356594</td>\n",
       "      <td>0.226151</td>\n",
       "    </tr>\n",
       "    <tr>\n",
       "      <td>1700</td>\n",
       "      <td>2.447500</td>\n",
       "      <td>No log</td>\n",
       "      <td>0.246753</td>\n",
       "      <td>0.415584</td>\n",
       "      <td>0.519481</td>\n",
       "      <td>0.629870</td>\n",
       "      <td>0.246753</td>\n",
       "      <td>0.177489</td>\n",
       "      <td>0.153247</td>\n",
       "      <td>0.101299</td>\n",
       "      <td>0.101840</td>\n",
       "      <td>0.204113</td>\n",
       "      <td>0.281277</td>\n",
       "      <td>0.354978</td>\n",
       "      <td>0.285496</td>\n",
       "      <td>0.356754</td>\n",
       "      <td>0.225785</td>\n",
       "    </tr>\n",
       "    <tr>\n",
       "      <td>1795</td>\n",
       "      <td>2.447500</td>\n",
       "      <td>No log</td>\n",
       "      <td>0.246753</td>\n",
       "      <td>0.415584</td>\n",
       "      <td>0.525974</td>\n",
       "      <td>0.649351</td>\n",
       "      <td>0.246753</td>\n",
       "      <td>0.177489</td>\n",
       "      <td>0.151948</td>\n",
       "      <td>0.103247</td>\n",
       "      <td>0.101840</td>\n",
       "      <td>0.203030</td>\n",
       "      <td>0.279978</td>\n",
       "      <td>0.362446</td>\n",
       "      <td>0.288391</td>\n",
       "      <td>0.359434</td>\n",
       "      <td>0.225710</td>\n",
       "    </tr>\n",
       "  </tbody>\n",
       "</table><p>"
      ],
      "text/plain": [
       "<IPython.core.display.HTML object>"
      ]
     },
     "metadata": {},
     "output_type": "display_data"
    },
    {
     "name": "stderr",
     "output_type": "stream",
     "text": [
      "Batches: 100%|██████████| 5/5 [00:00<00:00, 25.45it/s]\n",
      "Batches: 100%|██████████| 1563/1563 [00:20<00:00, 76.54it/s] \n",
      "Batches: 100%|██████████| 1563/1563 [00:20<00:00, 75.89it/s] \n",
      "Batches: 100%|██████████| 1563/1563 [00:20<00:00, 76.12it/s] \n",
      "Batches: 100%|██████████| 1563/1563 [00:20<00:00, 76.65it/s] \n",
      "Batches: 100%|██████████| 1563/1563 [00:20<00:00, 75.89it/s] \n",
      "Batches: 100%|██████████| 1563/1563 [00:20<00:00, 76.23it/s] \n",
      "Batches: 100%|██████████| 1563/1563 [00:20<00:00, 76.63it/s] \n",
      "Batches: 100%|██████████| 1563/1563 [00:20<00:00, 76.15it/s] \n",
      "Batches: 100%|██████████| 1563/1563 [00:20<00:00, 76.49it/s] \n",
      "Batches: 100%|██████████| 1563/1563 [00:20<00:00, 76.78it/s] \n",
      "Batches: 100%|██████████| 1563/1563 [00:20<00:00, 77.75it/s] ]\n",
      "Batches: 100%|██████████| 1563/1563 [00:20<00:00, 76.40it/s] ]\n",
      "Batches: 100%|██████████| 1563/1563 [00:20<00:00, 76.98it/s] ]\n",
      "Batches: 100%|██████████| 1563/1563 [00:20<00:00, 76.99it/s] ]\n",
      "Batches: 100%|██████████| 1563/1563 [00:20<00:00, 77.00it/s] ]\n",
      "Batches: 100%|██████████| 1563/1563 [00:20<00:00, 77.23it/s] ]\n",
      "Batches: 100%|██████████| 1563/1563 [00:20<00:00, 76.10it/s] ]\n",
      "Batches: 100%|██████████| 1563/1563 [00:20<00:00, 76.14it/s] ]\n",
      "Batches: 100%|██████████| 1563/1563 [00:20<00:00, 76.82it/s] ]\n",
      "Batches: 100%|██████████| 1563/1563 [00:20<00:00, 77.26it/s] ]\n",
      "Batches: 100%|██████████| 1563/1563 [00:20<00:00, 76.83it/s] ]\n",
      "Batches: 100%|██████████| 1563/1563 [00:20<00:00, 77.27it/s] ]\n",
      "Batches: 100%|██████████| 1563/1563 [00:20<00:00, 76.88it/s] ]\n",
      "Batches: 100%|██████████| 1563/1563 [00:20<00:00, 77.15it/s] ]\n",
      "Batches: 100%|██████████| 276/276 [00:03<00:00, 72.27it/s] it]\n",
      "Corpus Chunks: 100%|██████████| 25/25 [09:05<00:00, 21.82s/it]\n",
      "Batches: 100%|██████████| 5/5 [00:00<00:00, 65.69it/s]\n",
      "Batches: 100%|██████████| 1563/1563 [00:20<00:00, 77.24it/s] \n",
      "Batches: 100%|██████████| 1563/1563 [00:20<00:00, 77.03it/s] \n",
      "Batches: 100%|██████████| 1563/1563 [00:20<00:00, 75.11it/s] \n",
      "Batches: 100%|██████████| 1563/1563 [00:20<00:00, 76.69it/s] \n",
      "Batches: 100%|██████████| 1563/1563 [00:20<00:00, 76.68it/s] \n",
      "Batches: 100%|██████████| 1563/1563 [00:20<00:00, 75.75it/s] \n",
      "Batches: 100%|██████████| 1563/1563 [00:20<00:00, 76.11it/s] \n",
      "Batches: 100%|██████████| 1563/1563 [00:20<00:00, 75.66it/s] \n",
      "Batches: 100%|██████████| 1563/1563 [00:20<00:00, 76.74it/s] \n",
      "Batches: 100%|██████████| 1563/1563 [00:20<00:00, 75.51it/s] \n",
      "Batches: 100%|██████████| 1563/1563 [00:20<00:00, 76.84it/s] ]\n",
      "Batches: 100%|██████████| 1563/1563 [00:20<00:00, 75.28it/s] ]\n",
      "Batches: 100%|██████████| 1563/1563 [00:20<00:00, 76.30it/s] ]\n",
      "Batches: 100%|██████████| 1563/1563 [00:20<00:00, 76.70it/s] ]\n",
      "Batches: 100%|██████████| 1563/1563 [00:20<00:00, 76.56it/s] ]\n",
      "Batches: 100%|██████████| 1563/1563 [00:20<00:00, 77.28it/s] ]\n",
      "Batches: 100%|██████████| 1563/1563 [00:20<00:00, 75.46it/s] ]\n",
      "Batches: 100%|██████████| 1563/1563 [00:20<00:00, 76.42it/s] ]\n",
      "Batches: 100%|██████████| 1563/1563 [00:20<00:00, 77.13it/s] ]\n",
      "Batches: 100%|██████████| 1563/1563 [00:20<00:00, 77.17it/s] ]\n",
      "Batches: 100%|██████████| 1563/1563 [00:20<00:00, 76.93it/s] ]\n",
      "Batches: 100%|██████████| 1563/1563 [00:20<00:00, 76.47it/s] ]\n",
      "Batches: 100%|██████████| 1563/1563 [00:20<00:00, 77.14it/s] ]\n",
      "Batches: 100%|██████████| 1563/1563 [00:20<00:00, 76.58it/s] ]\n",
      "Batches: 100%|██████████| 276/276 [00:03<00:00, 74.32it/s] it]\n",
      "Corpus Chunks: 100%|██████████| 25/25 [08:26<00:00, 20.25s/it]\n",
      "Batches: 100%|██████████| 5/5 [00:00<00:00, 61.61it/s]\n",
      "Batches: 100%|██████████| 1563/1563 [00:20<00:00, 76.84it/s] \n",
      "Batches: 100%|██████████| 1563/1563 [00:20<00:00, 75.33it/s] \n",
      "Batches: 100%|██████████| 1563/1563 [00:20<00:00, 75.68it/s] \n",
      "Batches: 100%|██████████| 1563/1563 [00:20<00:00, 75.22it/s] \n",
      "Batches: 100%|██████████| 1563/1563 [00:20<00:00, 75.00it/s] \n",
      "Batches: 100%|██████████| 1563/1563 [00:20<00:00, 74.98it/s] \n",
      "Batches: 100%|██████████| 1563/1563 [00:20<00:00, 76.00it/s] \n",
      "Batches: 100%|██████████| 1563/1563 [00:20<00:00, 76.16it/s] \n",
      "Batches: 100%|██████████| 1563/1563 [00:20<00:00, 76.32it/s] \n",
      "Batches: 100%|██████████| 1563/1563 [00:20<00:00, 75.97it/s] \n",
      "Batches: 100%|██████████| 1563/1563 [00:20<00:00, 76.55it/s] ]\n",
      "Batches: 100%|██████████| 1563/1563 [00:20<00:00, 75.19it/s] ]\n",
      "Batches: 100%|██████████| 1563/1563 [00:20<00:00, 75.70it/s] ]\n",
      "Batches: 100%|██████████| 1563/1563 [00:20<00:00, 76.12it/s] ]\n",
      "Batches: 100%|██████████| 1563/1563 [00:21<00:00, 73.34it/s] ]\n",
      "Batches: 100%|██████████| 1563/1563 [00:20<00:00, 76.44it/s] ]\n",
      "Batches: 100%|██████████| 1563/1563 [00:20<00:00, 75.51it/s] ]\n",
      "Batches: 100%|██████████| 1563/1563 [00:20<00:00, 76.71it/s] ]\n",
      "Batches: 100%|██████████| 1563/1563 [00:20<00:00, 77.45it/s] ]\n",
      "Batches: 100%|██████████| 1563/1563 [00:20<00:00, 76.68it/s] ]\n",
      "Batches: 100%|██████████| 1563/1563 [00:20<00:00, 76.90it/s] ]\n",
      "Batches: 100%|██████████| 1563/1563 [00:20<00:00, 76.36it/s] ]\n",
      "Batches: 100%|██████████| 1563/1563 [00:20<00:00, 76.70it/s] ]\n",
      "Batches: 100%|██████████| 1563/1563 [00:20<00:00, 76.60it/s] ]\n",
      "Batches: 100%|██████████| 276/276 [00:03<00:00, 69.79it/s] it]\n",
      "Corpus Chunks: 100%|██████████| 25/25 [08:29<00:00, 20.39s/it]\n",
      "Batches: 100%|██████████| 5/5 [00:00<00:00, 54.84it/s]\n",
      "Batches: 100%|██████████| 1563/1563 [00:20<00:00, 76.62it/s] \n",
      "Batches: 100%|██████████| 1563/1563 [00:20<00:00, 75.71it/s] \n",
      "Batches: 100%|██████████| 1563/1563 [00:20<00:00, 75.91it/s] \n",
      "Batches: 100%|██████████| 1563/1563 [00:20<00:00, 75.70it/s] \n",
      "Batches: 100%|██████████| 1563/1563 [00:20<00:00, 75.51it/s] \n",
      "Batches: 100%|██████████| 1563/1563 [00:20<00:00, 76.08it/s] \n",
      "Batches: 100%|██████████| 1563/1563 [00:20<00:00, 75.59it/s] \n",
      "Batches: 100%|██████████| 1563/1563 [00:20<00:00, 76.26it/s] \n",
      "Batches: 100%|██████████| 1563/1563 [00:20<00:00, 75.98it/s] \n",
      "Batches: 100%|██████████| 1563/1563 [00:20<00:00, 76.05it/s] \n",
      "Batches: 100%|██████████| 1563/1563 [00:20<00:00, 76.95it/s] ]\n",
      "Batches: 100%|██████████| 1563/1563 [00:20<00:00, 75.79it/s] ]\n",
      "Batches: 100%|██████████| 1563/1563 [00:20<00:00, 75.62it/s] ]\n",
      "Batches: 100%|██████████| 1563/1563 [00:20<00:00, 75.90it/s] ]\n",
      "Batches: 100%|██████████| 1563/1563 [00:20<00:00, 76.29it/s] ]\n",
      "Batches: 100%|██████████| 1563/1563 [00:20<00:00, 76.82it/s] ]\n",
      "Batches: 100%|██████████| 1563/1563 [00:20<00:00, 75.64it/s] ]\n",
      "Batches: 100%|██████████| 1563/1563 [00:20<00:00, 76.52it/s] ]\n",
      "Batches: 100%|██████████| 1563/1563 [00:20<00:00, 76.32it/s] ]\n",
      "Batches: 100%|██████████| 1563/1563 [00:20<00:00, 77.06it/s] ]\n",
      "Batches: 100%|██████████| 1563/1563 [00:20<00:00, 76.80it/s] ]\n",
      "Batches: 100%|██████████| 1563/1563 [00:20<00:00, 76.62it/s] ]\n",
      "Batches: 100%|██████████| 1563/1563 [00:20<00:00, 76.23it/s] ]\n",
      "Batches: 100%|██████████| 1563/1563 [00:52<00:00, 29.77it/s]t]\n",
      "Batches: 100%|██████████| 276/276 [00:27<00:00, 10.14it/s] it]\n",
      "Corpus Chunks: 100%|██████████| 25/25 [09:23<00:00, 22.55s/it]\n",
      "Batches: 100%|██████████| 5/5 [00:00<00:00, 57.29it/s]\n",
      "Batches: 100%|██████████| 1563/1563 [01:17<00:00, 20.17it/s]\n",
      "Batches: 100%|██████████| 1563/1563 [03:52<00:00,  6.71it/s]]\n",
      "Batches: 100%|██████████| 1563/1563 [01:43<00:00, 15.07it/s]/it]\n",
      "Batches: 100%|██████████| 1563/1563 [02:45<00:00,  9.44it/s] ]  \n",
      "Batches: 100%|██████████| 1563/1563 [00:43<00:00, 35.56it/s]t]\n",
      "Batches: 100%|██████████| 1563/1563 [03:07<00:00,  8.36it/s] ]\n",
      "Batches: 100%|██████████| 1563/1563 [00:33<00:00, 47.28it/s]t]\n",
      "Batches: 100%|██████████| 1563/1563 [02:00<00:00, 12.95it/s]t]\n",
      "Batches: 100%|██████████| 1563/1563 [02:38<00:00,  9.87it/s] ]\n",
      "Batches: 100%|██████████| 1563/1563 [01:45<00:00, 14.87it/s]t]\n",
      "Batches: 100%|██████████| 1563/1563 [03:36<00:00,  7.21it/s]it]\n",
      "Batches: 100%|██████████| 1563/1563 [00:43<00:00, 35.86it/s]it]\n",
      "Batches: 100%|██████████| 1563/1563 [01:34<00:00, 16.46it/s] t]\n",
      "Batches: 100%|██████████| 1563/1563 [01:50<00:00, 14.14it/s]it]\n",
      "Batches: 100%|██████████| 1563/1563 [01:21<00:00, 19.12it/s]it]\n",
      "Batches: 100%|██████████| 1563/1563 [00:48<00:00, 32.21it/s]it]\n",
      "Batches: 100%|██████████| 1563/1563 [00:53<00:00, 29.17it/s]t] \n",
      "Batches: 100%|██████████| 1563/1563 [00:51<00:00, 30.13it/s]t]\n",
      "Batches: 100%|██████████| 1563/1563 [00:49<00:00, 31.68it/s]t]\n",
      "Batches: 100%|██████████| 1563/1563 [01:40<00:00, 15.57it/s]t]\n",
      "Batches: 100%|██████████| 1563/1563 [02:20<00:00, 11.13it/s]t]\n",
      "Batches: 100%|██████████| 1563/1563 [01:04<00:00, 24.33it/s] ]\n",
      "Batches: 100%|██████████| 1563/1563 [00:53<00:00, 29.13it/s]t]\n",
      "Batches: 100%|██████████| 1563/1563 [01:05<00:00, 24.04it/s]t]\n",
      "Batches: 100%|██████████| 276/276 [00:11<00:00, 23.08it/s]/it]\n",
      "Corpus Chunks: 100%|██████████| 25/25 [40:27<00:00, 97.09s/it]\n",
      "Batches: 100%|██████████| 5/5 [00:00<00:00, 63.29it/s]\n",
      "Batches: 100%|██████████| 1563/1563 [01:24<00:00, 18.51it/s] \n",
      "Batches: 100%|██████████| 1563/1563 [00:28<00:00, 54.02it/s]]\n",
      "Batches: 100%|██████████| 1563/1563 [01:30<00:00, 17.23it/s] \n",
      "Batches: 100%|██████████| 1563/1563 [00:39<00:00, 39.36it/s]]\n",
      "Batches: 100%|██████████| 1563/1563 [01:03<00:00, 24.67it/s]]\n",
      "Batches: 100%|██████████| 1563/1563 [02:14<00:00, 11.62it/s]]\n",
      "Batches: 100%|██████████| 1563/1563 [00:49<00:00, 31.73it/s] \n",
      "Batches: 100%|██████████| 1563/1563 [00:50<00:00, 30.85it/s]]\n",
      "Batches: 100%|██████████| 1563/1563 [01:53<00:00, 13.79it/s]]\n",
      "Batches: 100%|██████████| 1563/1563 [01:20<00:00, 19.44it/s]]\n",
      "Batches: 100%|██████████| 1563/1563 [01:22<00:00, 18.91it/s]t]\n",
      "Batches: 100%|██████████| 1563/1563 [01:06<00:00, 23.57it/s]t]\n",
      "Batches: 100%|██████████| 1563/1563 [01:14<00:00, 20.85it/s]t]\n",
      "Batches: 100%|██████████| 1563/1563 [00:56<00:00, 27.57it/s]t]\n",
      "Batches: 100%|██████████| 1563/1563 [01:37<00:00, 16.10it/s] ]\n",
      "Batches: 100%|██████████| 1563/1563 [02:03<00:00, 12.62it/s]t]\n",
      "Batches: 100%|██████████| 1563/1563 [01:45<00:00, 14.78it/s]t]\n",
      "Batches: 100%|██████████| 1563/1563 [00:56<00:00, 27.45it/s]t]\n",
      "Batches: 100%|██████████| 1563/1563 [01:07<00:00, 23.12it/s]t]\n",
      "Batches: 100%|██████████| 1563/1563 [01:13<00:00, 21.35it/s]t]\n",
      "Batches: 100%|██████████| 1563/1563 [01:38<00:00, 15.90it/s]t]\n",
      "Batches: 100%|██████████| 1563/1563 [01:24<00:00, 18.47it/s]t]\n",
      "Batches: 100%|██████████| 1563/1563 [00:59<00:00, 26.19it/s]t]\n",
      "Batches: 100%|██████████| 1563/1563 [01:03<00:00, 24.52it/s]t]\n",
      "Batches: 100%|██████████| 276/276 [00:15<00:00, 18.21it/s]/it]\n",
      "Corpus Chunks: 100%|██████████| 25/25 [31:14<00:00, 74.99s/it]\n",
      "Batches: 100%|██████████| 5/5 [00:00<00:00, 38.71it/s]\n",
      "Batches: 100%|██████████| 1563/1563 [01:46<00:00, 14.65it/s] \n",
      "Batches: 100%|██████████| 1563/1563 [01:24<00:00, 18.59it/s] ]\n",
      "Batches: 100%|██████████| 1563/1563 [01:40<00:00, 15.57it/s]] \n",
      "Batches: 100%|██████████| 1563/1563 [21:40<00:00,  1.20it/s]]\n",
      "Batches: 100%|██████████| 1563/1563 [04:44<00:00,  5.49it/s] it]\n",
      "Batches: 100%|██████████| 1563/1563 [00:22<00:00, 69.67it/s] it]\n",
      "Batches: 100%|██████████| 1563/1563 [00:21<00:00, 73.62it/s] it]\n",
      "Batches: 100%|██████████| 1563/1563 [00:21<00:00, 74.33it/s] it]\n",
      "Batches: 100%|██████████| 1563/1563 [00:20<00:00, 74.82it/s] ]  \n",
      "Batches: 100%|██████████| 1563/1563 [00:21<00:00, 73.34it/s] ]\n",
      "Batches: 100%|██████████| 1563/1563 [00:20<00:00, 75.61it/s] ]\n",
      "Batches: 100%|██████████| 1563/1563 [00:21<00:00, 73.65it/s] ]\n",
      "Batches: 100%|██████████| 1563/1563 [00:20<00:00, 74.90it/s] ]\n",
      "Batches: 100%|██████████| 1563/1563 [00:20<00:00, 74.58it/s] ]\n",
      "Batches: 100%|██████████| 1563/1563 [00:20<00:00, 75.43it/s] ]\n",
      "Batches: 100%|██████████| 1563/1563 [00:20<00:00, 75.55it/s] ]\n",
      "Batches: 100%|██████████| 1563/1563 [00:20<00:00, 75.00it/s] ]\n",
      "Batches: 100%|██████████| 1563/1563 [00:20<00:00, 74.60it/s] ]\n",
      "Batches: 100%|██████████| 1563/1563 [00:20<00:00, 75.06it/s] ]\n",
      "Batches: 100%|██████████| 1563/1563 [00:21<00:00, 73.48it/s] ]\n",
      "Batches: 100%|██████████| 1563/1563 [00:20<00:00, 75.18it/s] ]\n",
      "Batches: 100%|██████████| 1563/1563 [00:21<00:00, 73.34it/s]t]\n",
      "Batches: 100%|██████████| 1563/1563 [00:22<00:00, 68.45it/s] ]\n",
      "Batches: 100%|██████████| 1563/1563 [00:23<00:00, 66.76it/s] ]\n",
      "Batches: 100%|██████████| 276/276 [00:04<00:00, 64.68it/s] it]\n",
      "Corpus Chunks: 100%|██████████| 25/25 [38:18<00:00, 91.94s/it]\n",
      "Batches: 100%|██████████| 5/5 [00:00<00:00, 65.62it/s]\n",
      "Batches: 100%|██████████| 1563/1563 [00:20<00:00, 74.78it/s] \n",
      "Batches: 100%|██████████| 1563/1563 [00:20<00:00, 74.52it/s] \n",
      "Batches: 100%|██████████| 1563/1563 [00:21<00:00, 73.19it/s] \n",
      "Batches: 100%|██████████| 1563/1563 [00:20<00:00, 75.18it/s] \n",
      "Batches: 100%|██████████| 1563/1563 [00:20<00:00, 74.54it/s] \n",
      "Batches: 100%|██████████| 1563/1563 [00:20<00:00, 74.62it/s] \n",
      "Batches: 100%|██████████| 1563/1563 [00:20<00:00, 76.14it/s] \n",
      "Batches: 100%|██████████| 1563/1563 [00:20<00:00, 75.24it/s]]\n",
      "Batches: 100%|██████████| 1563/1563 [00:20<00:00, 75.27it/s] \n",
      "Batches: 100%|██████████| 1563/1563 [00:20<00:00, 74.53it/s] \n",
      "Batches: 100%|██████████| 1563/1563 [00:21<00:00, 73.87it/s] ]\n",
      "Batches: 100%|██████████| 1563/1563 [00:21<00:00, 72.80it/s] ]\n",
      "Batches: 100%|██████████| 1563/1563 [00:21<00:00, 73.04it/s] ]\n",
      "Batches: 100%|██████████| 1563/1563 [00:20<00:00, 76.90it/s] ]\n",
      "Batches: 100%|██████████| 1563/1563 [00:20<00:00, 75.07it/s] ]\n",
      "Batches: 100%|██████████| 1563/1563 [00:20<00:00, 75.84it/s] ]\n",
      "Batches: 100%|██████████| 1563/1563 [00:20<00:00, 75.14it/s] ]\n",
      "Batches: 100%|██████████| 1563/1563 [00:20<00:00, 76.67it/s] ]\n",
      "Batches: 100%|██████████| 1563/1563 [00:20<00:00, 77.12it/s] ]\n",
      "Batches: 100%|██████████| 1563/1563 [00:20<00:00, 77.03it/s] ]\n",
      "Batches: 100%|██████████| 1563/1563 [00:20<00:00, 77.01it/s] ]\n",
      "Batches: 100%|██████████| 1563/1563 [00:20<00:00, 76.30it/s] ]\n",
      "Batches: 100%|██████████| 1563/1563 [00:20<00:00, 76.80it/s] ]\n",
      "Batches: 100%|██████████| 1563/1563 [00:20<00:00, 77.07it/s] ]\n",
      "Batches: 100%|██████████| 276/276 [00:03<00:00, 75.38it/s] it]\n",
      "Corpus Chunks: 100%|██████████| 25/25 [08:33<00:00, 20.55s/it]\n",
      "Batches: 100%|██████████| 5/5 [00:00<00:00, 63.79it/s]\n",
      "Batches: 100%|██████████| 1563/1563 [00:20<00:00, 77.12it/s] \n",
      "Batches: 100%|██████████| 1563/1563 [00:20<00:00, 77.06it/s] \n",
      "Batches: 100%|██████████| 1563/1563 [00:21<00:00, 74.08it/s] \n",
      "Batches: 100%|██████████| 1563/1563 [00:20<00:00, 75.56it/s] \n",
      "Batches: 100%|██████████| 1563/1563 [00:20<00:00, 75.49it/s] \n",
      "Batches: 100%|██████████| 1563/1563 [00:21<00:00, 74.41it/s] \n",
      "Batches: 100%|██████████| 1563/1563 [00:20<00:00, 75.19it/s] \n",
      "Batches: 100%|██████████| 1563/1563 [00:20<00:00, 75.55it/s] \n",
      "Batches: 100%|██████████| 1563/1563 [00:20<00:00, 74.86it/s] \n",
      "Batches: 100%|██████████| 1563/1563 [00:20<00:00, 75.00it/s] \n",
      "Batches: 100%|██████████| 1563/1563 [00:20<00:00, 75.66it/s] ]\n",
      "Batches: 100%|██████████| 1563/1563 [00:20<00:00, 74.82it/s] ]\n",
      "Batches: 100%|██████████| 1563/1563 [00:20<00:00, 75.23it/s] ]\n",
      "Batches: 100%|██████████| 1563/1563 [00:20<00:00, 76.03it/s] ]\n",
      "Batches: 100%|██████████| 1563/1563 [00:20<00:00, 75.47it/s] ]\n",
      "Batches: 100%|██████████| 1563/1563 [00:20<00:00, 75.37it/s] ]\n",
      "Batches: 100%|██████████| 1563/1563 [00:20<00:00, 74.65it/s] ]\n",
      "Batches: 100%|██████████| 1563/1563 [00:20<00:00, 75.81it/s] ]\n",
      "Batches: 100%|██████████| 1563/1563 [00:20<00:00, 76.27it/s] ]\n",
      "Batches: 100%|██████████| 1563/1563 [00:20<00:00, 75.98it/s] ]\n",
      "Batches: 100%|██████████| 1563/1563 [00:20<00:00, 76.07it/s] ]\n",
      "Batches: 100%|██████████| 1563/1563 [00:20<00:00, 75.80it/s] ]\n",
      "Batches: 100%|██████████| 1563/1563 [00:21<00:00, 73.62it/s] ]\n",
      "Batches: 100%|██████████| 1563/1563 [00:21<00:00, 72.46it/s] ]\n",
      "Batches: 100%|██████████| 276/276 [00:03<00:00, 72.04it/s] it]\n",
      "Corpus Chunks: 100%|██████████| 25/25 [08:33<00:00, 20.55s/it]\n",
      "Batches: 100%|██████████| 5/5 [00:00<00:00, 63.31it/s]\n",
      "Batches: 100%|██████████| 1563/1563 [00:20<00:00, 77.26it/s] \n",
      "Batches: 100%|██████████| 1563/1563 [00:20<00:00, 76.88it/s] \n",
      "Batches: 100%|██████████| 1563/1563 [00:21<00:00, 73.49it/s] \n",
      "Batches: 100%|██████████| 1563/1563 [00:20<00:00, 76.80it/s] \n",
      "Batches: 100%|██████████| 1563/1563 [00:20<00:00, 76.92it/s] \n",
      "Batches: 100%|██████████| 1563/1563 [00:20<00:00, 76.64it/s] \n",
      "Batches: 100%|██████████| 1563/1563 [00:20<00:00, 76.81it/s] \n",
      "Batches: 100%|██████████| 1563/1563 [00:20<00:00, 77.23it/s] \n",
      "Batches: 100%|██████████| 1563/1563 [00:20<00:00, 76.93it/s] \n",
      "Batches: 100%|██████████| 1563/1563 [00:20<00:00, 76.05it/s] \n",
      "Batches: 100%|██████████| 1563/1563 [00:20<00:00, 77.83it/s] ]\n",
      "Batches: 100%|██████████| 1563/1563 [00:20<00:00, 76.83it/s] ]\n",
      "Batches: 100%|██████████| 1563/1563 [00:20<00:00, 77.17it/s] ]\n",
      "Batches: 100%|██████████| 1563/1563 [00:20<00:00, 77.48it/s] ]\n",
      "Batches: 100%|██████████| 1563/1563 [00:20<00:00, 77.50it/s] ]\n",
      "Batches: 100%|██████████| 1563/1563 [00:20<00:00, 77.90it/s] ]\n",
      "Batches: 100%|██████████| 1563/1563 [00:20<00:00, 76.48it/s] ]\n",
      "Batches: 100%|██████████| 1563/1563 [00:20<00:00, 77.71it/s] ]\n",
      "Batches: 100%|██████████| 1563/1563 [00:20<00:00, 77.77it/s] ]\n",
      "Batches: 100%|██████████| 1563/1563 [00:19<00:00, 78.22it/s] ]\n",
      "Batches: 100%|██████████| 1563/1563 [00:20<00:00, 77.97it/s] ]\n",
      "Batches: 100%|██████████| 1563/1563 [00:20<00:00, 77.45it/s] ]\n",
      "Batches: 100%|██████████| 1563/1563 [00:20<00:00, 77.04it/s] ]\n",
      "Batches: 100%|██████████| 1563/1563 [00:20<00:00, 77.44it/s] ]\n",
      "Batches: 100%|██████████| 276/276 [00:03<00:00, 75.41it/s] it]\n",
      "Corpus Chunks: 100%|██████████| 25/25 [08:21<00:00, 20.07s/it]\n",
      "Batches: 100%|██████████| 5/5 [00:00<00:00, 60.04it/s]\n",
      "Batches: 100%|██████████| 1563/1563 [00:20<00:00, 77.44it/s] \n",
      "Batches: 100%|██████████| 1563/1563 [00:20<00:00, 77.22it/s] \n",
      "Batches: 100%|██████████| 1563/1563 [00:20<00:00, 75.78it/s] \n",
      "Batches: 100%|██████████| 1563/1563 [00:20<00:00, 77.46it/s] \n",
      "Batches: 100%|██████████| 1563/1563 [00:20<00:00, 76.92it/s] \n",
      "Batches: 100%|██████████| 1563/1563 [00:20<00:00, 76.49it/s] \n",
      "Batches: 100%|██████████| 1563/1563 [00:20<00:00, 76.83it/s] \n",
      "Batches: 100%|██████████| 1563/1563 [00:20<00:00, 76.55it/s] \n",
      "Batches: 100%|██████████| 1563/1563 [00:20<00:00, 77.02it/s] \n",
      "Batches: 100%|██████████| 1563/1563 [00:20<00:00, 76.58it/s] \n",
      "Batches: 100%|██████████| 1563/1563 [00:20<00:00, 77.85it/s] ]\n",
      "Batches: 100%|██████████| 1563/1563 [00:20<00:00, 75.98it/s] ]\n",
      "Batches: 100%|██████████| 1563/1563 [00:20<00:00, 76.97it/s] ]\n",
      "Batches: 100%|██████████| 1563/1563 [00:20<00:00, 77.73it/s] ]\n",
      "Batches: 100%|██████████| 1563/1563 [00:20<00:00, 77.57it/s] ]\n",
      "Batches: 100%|██████████| 1563/1563 [00:20<00:00, 77.82it/s] ]\n",
      "Batches: 100%|██████████| 1563/1563 [00:20<00:00, 76.07it/s] ]\n",
      "Batches: 100%|██████████| 1563/1563 [00:20<00:00, 77.60it/s] ]\n",
      "Batches: 100%|██████████| 1563/1563 [00:20<00:00, 78.03it/s] ]\n",
      "Batches: 100%|██████████| 1563/1563 [00:20<00:00, 75.69it/s] ]\n",
      "Batches: 100%|██████████| 1563/1563 [00:20<00:00, 74.68it/s] ]\n",
      "Batches: 100%|██████████| 1563/1563 [00:21<00:00, 74.03it/s] ]\n",
      "Batches: 100%|██████████| 1563/1563 [00:20<00:00, 75.55it/s] ]\n",
      "Batches: 100%|██████████| 1563/1563 [00:20<00:00, 74.54it/s] ]\n",
      "Batches: 100%|██████████| 276/276 [00:03<00:00, 70.80it/s] it]\n",
      "Corpus Chunks: 100%|██████████| 25/25 [08:25<00:00, 20.21s/it]\n",
      "Batches: 100%|██████████| 5/5 [00:00<00:00, 59.71it/s]\n",
      "Batches: 100%|██████████| 1563/1563 [00:20<00:00, 76.13it/s] \n",
      "Batches: 100%|██████████| 1563/1563 [00:20<00:00, 76.01it/s] \n",
      "Batches: 100%|██████████| 1563/1563 [00:20<00:00, 75.93it/s] \n",
      "Batches: 100%|██████████| 1563/1563 [00:20<00:00, 77.09it/s] \n",
      "Batches: 100%|██████████| 1563/1563 [00:20<00:00, 77.10it/s] \n",
      "Batches: 100%|██████████| 1563/1563 [00:20<00:00, 75.84it/s] \n",
      "Batches: 100%|██████████| 1563/1563 [00:20<00:00, 76.37it/s] \n",
      "Batches: 100%|██████████| 1563/1563 [00:20<00:00, 76.64it/s] \n",
      "Batches: 100%|██████████| 1563/1563 [00:20<00:00, 76.06it/s] \n",
      "Batches: 100%|██████████| 1563/1563 [00:20<00:00, 76.27it/s] \n",
      "Batches: 100%|██████████| 1563/1563 [00:20<00:00, 76.99it/s] ]\n",
      "Batches: 100%|██████████| 1563/1563 [00:20<00:00, 75.96it/s] ]\n",
      "Batches: 100%|██████████| 1563/1563 [00:20<00:00, 76.07it/s] ]\n",
      "Batches: 100%|██████████| 1563/1563 [00:20<00:00, 77.31it/s] ]\n",
      "Batches: 100%|██████████| 1563/1563 [00:20<00:00, 76.70it/s] ]\n",
      "Batches: 100%|██████████| 1563/1563 [00:20<00:00, 76.77it/s] ]\n",
      "Batches: 100%|██████████| 1563/1563 [00:20<00:00, 76.20it/s] ]\n",
      "Batches: 100%|██████████| 1563/1563 [00:20<00:00, 76.79it/s] ]\n",
      "Batches: 100%|██████████| 1563/1563 [00:20<00:00, 77.57it/s] ]\n",
      "Batches: 100%|██████████| 1563/1563 [00:20<00:00, 77.30it/s] ]\n",
      "Batches: 100%|██████████| 1563/1563 [00:20<00:00, 77.31it/s] ]\n",
      "Batches: 100%|██████████| 1563/1563 [00:20<00:00, 77.24it/s] ]\n",
      "Batches: 100%|██████████| 1563/1563 [00:20<00:00, 76.11it/s] ]\n",
      "Batches: 100%|██████████| 1563/1563 [00:20<00:00, 76.02it/s] ]\n",
      "Batches: 100%|██████████| 276/276 [00:03<00:00, 69.34it/s]/it]\n",
      "Corpus Chunks: 100%|██████████| 25/25 [08:25<00:00, 20.21s/it]\n",
      "Batches: 100%|██████████| 5/5 [00:00<00:00, 62.87it/s]\n",
      "Batches: 100%|██████████| 1563/1563 [00:20<00:00, 76.41it/s] \n",
      "Batches: 100%|██████████| 1563/1563 [00:20<00:00, 75.82it/s] \n",
      "Batches: 100%|██████████| 1563/1563 [00:20<00:00, 75.76it/s] \n",
      "Batches: 100%|██████████| 1563/1563 [00:20<00:00, 76.97it/s] \n",
      "Batches: 100%|██████████| 1563/1563 [00:20<00:00, 76.26it/s] \n",
      "Batches: 100%|██████████| 1563/1563 [00:20<00:00, 76.47it/s] \n",
      "Batches: 100%|██████████| 1563/1563 [00:20<00:00, 76.60it/s] \n",
      "Batches: 100%|██████████| 1563/1563 [00:20<00:00, 77.28it/s] \n",
      "Batches: 100%|██████████| 1563/1563 [00:20<00:00, 76.46it/s] \n",
      "Batches: 100%|██████████| 1563/1563 [00:20<00:00, 76.54it/s] \n",
      "Batches: 100%|██████████| 1563/1563 [00:20<00:00, 74.77it/s] ]\n",
      "Batches: 100%|██████████| 1563/1563 [00:21<00:00, 74.20it/s] ]\n",
      "Batches: 100%|██████████| 1563/1563 [00:21<00:00, 73.96it/s] ]\n",
      "Batches: 100%|██████████| 1563/1563 [00:20<00:00, 74.96it/s] ]\n",
      "Batches: 100%|██████████| 1563/1563 [00:20<00:00, 75.38it/s] ]\n",
      "Batches: 100%|██████████| 1563/1563 [00:20<00:00, 75.75it/s] ]\n",
      "Batches: 100%|██████████| 1563/1563 [00:21<00:00, 74.32it/s] ]\n",
      "Batches: 100%|██████████| 1563/1563 [00:20<00:00, 75.55it/s] ]\n",
      "Batches: 100%|██████████| 1563/1563 [00:20<00:00, 75.33it/s] ]\n",
      "Batches: 100%|██████████| 1563/1563 [00:20<00:00, 76.01it/s] ]\n",
      "Batches: 100%|██████████| 1563/1563 [00:20<00:00, 76.03it/s] ]\n",
      "Batches: 100%|██████████| 1563/1563 [00:20<00:00, 75.45it/s] ]\n",
      "Batches: 100%|██████████| 1563/1563 [00:20<00:00, 74.59it/s] ]\n",
      "Batches: 100%|██████████| 1563/1563 [00:20<00:00, 74.73it/s] ]\n",
      "Batches: 100%|██████████| 276/276 [00:03<00:00, 70.02it/s] it]\n",
      "Corpus Chunks: 100%|██████████| 25/25 [08:31<00:00, 20.46s/it]\n",
      "Batches: 100%|██████████| 5/5 [00:00<00:00, 62.34it/s]\n",
      "Batches: 100%|██████████| 1563/1563 [00:20<00:00, 75.38it/s] \n",
      "Batches: 100%|██████████| 1563/1563 [00:20<00:00, 75.24it/s] \n",
      "Batches: 100%|██████████| 1563/1563 [00:21<00:00, 73.48it/s] \n",
      "Batches: 100%|██████████| 1563/1563 [00:20<00:00, 75.62it/s] \n",
      "Batches: 100%|██████████| 1563/1563 [00:25<00:00, 62.08it/s] \n",
      "Batches: 100%|██████████| 1563/1563 [00:21<00:00, 73.13it/s] \n",
      "Batches: 100%|██████████| 1563/1563 [00:21<00:00, 73.05it/s] \n",
      "Batches: 100%|██████████| 1563/1563 [00:21<00:00, 73.25it/s] \n",
      "Batches: 100%|██████████| 1563/1563 [00:21<00:00, 74.11it/s] \n",
      "Batches: 100%|██████████| 1563/1563 [00:20<00:00, 74.65it/s] \n",
      "Batches: 100%|██████████| 1563/1563 [00:20<00:00, 76.71it/s] ]\n",
      "Batches: 100%|██████████| 1563/1563 [00:21<00:00, 73.35it/s] ]\n",
      "Batches: 100%|██████████| 1563/1563 [00:20<00:00, 75.25it/s] ]\n",
      "Batches: 100%|██████████| 1563/1563 [00:20<00:00, 76.02it/s] ]\n",
      "Batches: 100%|██████████| 1563/1563 [00:20<00:00, 75.91it/s] ]\n",
      "Batches: 100%|██████████| 1563/1563 [00:20<00:00, 76.15it/s] ]\n",
      "Batches: 100%|██████████| 1563/1563 [00:21<00:00, 73.51it/s] ]\n",
      "Batches: 100%|██████████| 1563/1563 [00:20<00:00, 74.57it/s] ]\n",
      "Batches: 100%|██████████| 1563/1563 [00:20<00:00, 75.94it/s] ]\n",
      "Batches: 100%|██████████| 1563/1563 [00:20<00:00, 76.13it/s] ]\n",
      "Batches: 100%|██████████| 1563/1563 [00:21<00:00, 74.22it/s] ]\n",
      "Batches: 100%|██████████| 1563/1563 [00:20<00:00, 76.08it/s] ]\n",
      "Batches: 100%|██████████| 1563/1563 [00:20<00:00, 76.96it/s] ]\n",
      "Batches: 100%|██████████| 1563/1563 [00:20<00:00, 76.58it/s] ]\n",
      "Batches: 100%|██████████| 276/276 [00:03<00:00, 73.50it/s] it]\n",
      "Corpus Chunks: 100%|██████████| 25/25 [08:40<00:00, 20.81s/it]\n",
      "Batches: 100%|██████████| 5/5 [00:00<00:00, 63.73it/s]\n",
      "Batches: 100%|██████████| 1563/1563 [00:20<00:00, 75.50it/s] \n",
      "Batches: 100%|██████████| 1563/1563 [00:21<00:00, 73.38it/s] \n",
      "Batches: 100%|██████████| 1563/1563 [00:21<00:00, 74.33it/s] \n",
      "Batches: 100%|██████████| 1563/1563 [00:20<00:00, 75.13it/s] \n",
      "Batches: 100%|██████████| 1563/1563 [00:20<00:00, 75.55it/s] \n",
      "Batches: 100%|██████████| 1563/1563 [00:22<00:00, 70.48it/s] \n",
      "Batches: 100%|██████████| 1563/1563 [00:20<00:00, 74.85it/s] \n",
      "Batches: 100%|██████████| 1563/1563 [00:20<00:00, 77.19it/s] \n",
      "Batches: 100%|██████████| 1563/1563 [00:20<00:00, 77.37it/s] \n",
      "Batches: 100%|██████████| 1563/1563 [00:20<00:00, 76.68it/s] \n",
      "Batches: 100%|██████████| 1563/1563 [00:21<00:00, 73.50it/s] ]\n",
      "Batches: 100%|██████████| 1563/1563 [00:20<00:00, 74.61it/s] ]\n",
      "Batches: 100%|██████████| 1563/1563 [00:21<00:00, 72.33it/s] ]\n",
      "Batches: 100%|██████████| 1563/1563 [00:20<00:00, 75.24it/s] ]\n",
      "Batches: 100%|██████████| 1563/1563 [00:20<00:00, 75.40it/s] ]\n",
      "Batches: 100%|██████████| 1563/1563 [00:20<00:00, 75.89it/s] ]\n",
      "Batches: 100%|██████████| 1563/1563 [00:21<00:00, 73.88it/s] ]\n",
      "Batches: 100%|██████████| 1563/1563 [00:21<00:00, 74.40it/s] ]\n",
      "Batches: 100%|██████████| 1563/1563 [00:21<00:00, 72.75it/s] ]\n",
      "Batches: 100%|██████████| 1563/1563 [00:20<00:00, 74.45it/s] ]\n",
      "Batches: 100%|██████████| 1563/1563 [00:21<00:00, 73.68it/s] ]\n",
      "Batches: 100%|██████████| 1563/1563 [00:20<00:00, 74.74it/s] ]\n",
      "Batches: 100%|██████████| 1563/1563 [00:20<00:00, 76.24it/s] ]\n",
      "Batches: 100%|██████████| 1563/1563 [00:20<00:00, 75.51it/s] ]\n",
      "Batches: 100%|██████████| 276/276 [00:04<00:00, 66.26it/s] it]\n",
      "Corpus Chunks: 100%|██████████| 25/25 [08:38<00:00, 20.74s/it]\n",
      "Batches: 100%|██████████| 5/5 [00:00<00:00, 62.52it/s]\n",
      "Batches: 100%|██████████| 1563/1563 [00:21<00:00, 71.66it/s] \n",
      "Batches: 100%|██████████| 1563/1563 [00:21<00:00, 72.94it/s] \n",
      "Batches: 100%|██████████| 1563/1563 [00:21<00:00, 73.50it/s] \n",
      "Batches: 100%|██████████| 1563/1563 [00:20<00:00, 75.55it/s] \n",
      "Batches: 100%|██████████| 1563/1563 [00:20<00:00, 74.65it/s] \n",
      "Batches: 100%|██████████| 1563/1563 [00:20<00:00, 74.72it/s] \n",
      "Batches: 100%|██████████| 1563/1563 [00:20<00:00, 75.31it/s] \n",
      "Batches: 100%|██████████| 1563/1563 [00:20<00:00, 74.93it/s] \n",
      "Batches: 100%|██████████| 1563/1563 [00:20<00:00, 74.48it/s] \n",
      "Batches: 100%|██████████| 1563/1563 [00:21<00:00, 72.78it/s] \n",
      "Batches: 100%|██████████| 1563/1563 [00:20<00:00, 75.13it/s] ]\n",
      "Batches: 100%|██████████| 1563/1563 [00:20<00:00, 75.27it/s] ]\n",
      "Batches: 100%|██████████| 1563/1563 [00:20<00:00, 75.30it/s] ]\n",
      "Batches: 100%|██████████| 1563/1563 [00:20<00:00, 74.92it/s] ]\n",
      "Batches: 100%|██████████| 1563/1563 [00:20<00:00, 75.20it/s] ]\n",
      "Batches: 100%|██████████| 1563/1563 [00:20<00:00, 74.52it/s] ]\n",
      "Batches: 100%|██████████| 1563/1563 [00:21<00:00, 71.38it/s] ]\n",
      "Batches: 100%|██████████| 1563/1563 [00:21<00:00, 71.63it/s] ]\n",
      "Batches: 100%|██████████| 1563/1563 [00:21<00:00, 72.60it/s] ]\n",
      "Batches: 100%|██████████| 1563/1563 [00:21<00:00, 73.57it/s] ]\n",
      "Batches: 100%|██████████| 1563/1563 [00:20<00:00, 74.43it/s] ]\n",
      "Batches: 100%|██████████| 1563/1563 [00:21<00:00, 71.73it/s] ]\n",
      "Batches: 100%|██████████| 1563/1563 [00:21<00:00, 71.07it/s] ]\n",
      "Batches: 100%|██████████| 1563/1563 [00:21<00:00, 71.85it/s] ]\n",
      "Batches: 100%|██████████| 276/276 [00:03<00:00, 69.48it/s] it]\n",
      "Corpus Chunks: 100%|██████████| 25/25 [08:45<00:00, 21.01s/it]\n",
      "Batches: 100%|██████████| 5/5 [00:00<00:00, 58.18it/s]\n",
      "Batches: 100%|██████████| 1563/1563 [00:21<00:00, 71.76it/s] \n",
      "Batches: 100%|██████████| 1563/1563 [00:21<00:00, 74.32it/s] \n",
      "Batches: 100%|██████████| 1563/1563 [00:21<00:00, 73.23it/s] \n",
      "Batches: 100%|██████████| 1563/1563 [00:20<00:00, 75.10it/s] \n",
      "Batches: 100%|██████████| 1563/1563 [00:20<00:00, 74.99it/s] \n",
      "Batches: 100%|██████████| 1563/1563 [00:21<00:00, 74.34it/s] \n",
      "Batches: 100%|██████████| 1563/1563 [00:20<00:00, 74.82it/s] \n",
      "Batches: 100%|██████████| 1563/1563 [00:21<00:00, 74.41it/s] \n",
      "Batches: 100%|██████████| 1563/1563 [00:20<00:00, 75.04it/s] \n",
      "Batches: 100%|██████████| 1563/1563 [00:21<00:00, 74.34it/s] \n",
      "Batches: 100%|██████████| 1563/1563 [00:20<00:00, 74.81it/s] ]\n",
      "Batches: 100%|██████████| 1563/1563 [00:21<00:00, 72.90it/s] ]\n",
      "Batches: 100%|██████████| 1563/1563 [00:21<00:00, 73.20it/s] ]\n",
      "Batches: 100%|██████████| 1563/1563 [00:20<00:00, 74.79it/s] ]\n",
      "Batches: 100%|██████████| 1563/1563 [00:20<00:00, 74.52it/s] ]\n",
      "Batches: 100%|██████████| 1563/1563 [00:20<00:00, 74.53it/s] ]\n",
      "Batches: 100%|██████████| 1563/1563 [00:21<00:00, 72.71it/s] ]\n",
      "Batches: 100%|██████████| 1563/1563 [00:21<00:00, 74.23it/s] ]\n",
      "Batches: 100%|██████████| 1563/1563 [00:20<00:00, 74.56it/s] ]\n",
      "Batches: 100%|██████████| 1563/1563 [00:20<00:00, 75.50it/s] ]\n",
      "Batches: 100%|██████████| 1563/1563 [00:20<00:00, 75.23it/s] ]\n",
      "Batches: 100%|██████████| 1563/1563 [00:21<00:00, 74.41it/s] ]\n",
      "Batches: 100%|██████████| 1563/1563 [00:20<00:00, 75.63it/s] ]\n",
      "Batches: 100%|██████████| 1563/1563 [00:20<00:00, 74.92it/s] ]\n",
      "Batches: 100%|██████████| 276/276 [00:03<00:00, 71.89it/s] it]\n",
      "Corpus Chunks: 100%|██████████| 25/25 [08:40<00:00, 20.83s/it]\n",
      "Batches: 100%|██████████| 5/5 [00:00<00:00, 57.78it/s]\n",
      "Batches: 100%|██████████| 1563/1563 [00:21<00:00, 73.54it/s] \n",
      "Batches: 100%|██████████| 1563/1563 [00:21<00:00, 73.35it/s] \n",
      "Batches: 100%|██████████| 1563/1563 [00:21<00:00, 73.18it/s] \n",
      "Batches: 100%|██████████| 1563/1563 [00:20<00:00, 74.43it/s] \n",
      "Batches: 100%|██████████| 1563/1563 [00:21<00:00, 73.55it/s] \n",
      "Batches: 100%|██████████| 1563/1563 [00:21<00:00, 73.03it/s] \n",
      "Batches: 100%|██████████| 1563/1563 [00:21<00:00, 73.86it/s] \n",
      "Batches: 100%|██████████| 1563/1563 [00:21<00:00, 71.91it/s] \n",
      "Batches: 100%|██████████| 1563/1563 [00:21<00:00, 72.84it/s] \n",
      "Batches: 100%|██████████| 1563/1563 [00:21<00:00, 72.34it/s] \n",
      "Batches: 100%|██████████| 1563/1563 [00:21<00:00, 73.86it/s] ]\n",
      "Batches: 100%|██████████| 1563/1563 [00:21<00:00, 73.38it/s] ]\n",
      "Batches: 100%|██████████| 1563/1563 [00:21<00:00, 72.99it/s] ]\n",
      "Batches: 100%|██████████| 1563/1563 [00:20<00:00, 74.48it/s] ]\n",
      "Batches: 100%|██████████| 1563/1563 [00:21<00:00, 73.39it/s] ]\n",
      "Batches: 100%|██████████| 1563/1563 [00:20<00:00, 74.76it/s] ]\n",
      "Batches: 100%|██████████| 1563/1563 [00:21<00:00, 73.62it/s] ]\n",
      "Batches: 100%|██████████| 1563/1563 [00:21<00:00, 72.98it/s] ]\n",
      "Batches: 100%|██████████| 1563/1563 [00:20<00:00, 76.38it/s] ]\n",
      "Batches: 100%|██████████| 1563/1563 [00:20<00:00, 75.10it/s] ]\n",
      "Batches: 100%|██████████| 1563/1563 [00:22<00:00, 69.92it/s] ]\n",
      "Batches: 100%|██████████| 1563/1563 [00:21<00:00, 71.35it/s] ]\n",
      "Batches: 100%|██████████| 1563/1563 [00:21<00:00, 73.90it/s] ]\n",
      "Batches: 100%|██████████| 1563/1563 [00:20<00:00, 75.14it/s] ]\n",
      "Batches: 100%|██████████| 276/276 [00:04<00:00, 66.90it/s] it]\n",
      "Corpus Chunks: 100%|██████████| 25/25 [08:46<00:00, 21.08s/it]\n",
      "Batches: 100%|██████████| 5/5 [00:00<00:00, 59.09it/s]\n",
      "Batches: 100%|██████████| 1563/1563 [00:20<00:00, 74.71it/s] \n",
      "Batches: 100%|██████████| 1563/1563 [00:20<00:00, 74.70it/s] \n",
      "Batches: 100%|██████████| 1563/1563 [00:20<00:00, 74.58it/s] \n",
      "Batches: 100%|██████████| 1563/1563 [00:21<00:00, 73.25it/s] \n",
      "Batches: 100%|██████████| 1563/1563 [00:21<00:00, 74.24it/s] \n",
      "Batches: 100%|██████████| 1563/1563 [00:21<00:00, 73.75it/s] \n",
      "Batches: 100%|██████████| 1563/1563 [00:20<00:00, 74.93it/s] \n",
      "Batches: 100%|██████████| 1563/1563 [00:20<00:00, 75.18it/s] \n",
      "Batches: 100%|██████████| 1563/1563 [00:21<00:00, 74.05it/s] \n",
      "Batches: 100%|██████████| 1563/1563 [00:21<00:00, 72.39it/s] \n",
      "Batches: 100%|██████████| 1563/1563 [00:20<00:00, 75.03it/s] ]\n",
      "Batches: 100%|██████████| 1563/1563 [00:21<00:00, 71.22it/s] ]\n",
      "Batches: 100%|██████████| 1563/1563 [00:21<00:00, 72.29it/s] ]\n",
      "Batches: 100%|██████████| 1563/1563 [00:21<00:00, 73.85it/s] ]\n",
      "Batches: 100%|██████████| 1563/1563 [00:21<00:00, 74.15it/s] ]\n",
      "Batches: 100%|██████████| 1563/1563 [00:21<00:00, 73.81it/s] ]\n",
      "Batches: 100%|██████████| 1563/1563 [00:21<00:00, 73.10it/s] ]\n",
      "Batches: 100%|██████████| 1563/1563 [00:21<00:00, 73.23it/s] ]\n",
      "Batches: 100%|██████████| 1563/1563 [00:20<00:00, 74.44it/s] ]\n",
      "Batches: 100%|██████████| 1563/1563 [00:20<00:00, 74.94it/s] ]\n",
      "Batches: 100%|██████████| 1563/1563 [00:21<00:00, 72.89it/s] ]\n",
      "Batches: 100%|██████████| 1563/1563 [00:21<00:00, 72.87it/s] ]\n",
      "Batches: 100%|██████████| 1563/1563 [00:20<00:00, 74.75it/s] ]\n",
      "Batches: 100%|██████████| 1563/1563 [00:20<00:00, 74.84it/s] ]\n",
      "Batches: 100%|██████████| 276/276 [00:03<00:00, 71.70it/s] it]\n",
      "Corpus Chunks: 100%|██████████| 25/25 [08:43<00:00, 20.96s/it]\n",
      "Batches: 100%|██████████| 5/5 [00:00<00:00, 59.53it/s]\n",
      "Batches: 100%|██████████| 1563/1563 [00:21<00:00, 73.51it/s] \n",
      "Batches: 100%|██████████| 1563/1563 [00:21<00:00, 73.81it/s] \n",
      "Batches: 100%|██████████| 1563/1563 [00:21<00:00, 72.63it/s] \n",
      "Batches: 100%|██████████| 1563/1563 [00:21<00:00, 74.18it/s] \n",
      "Batches: 100%|██████████| 1563/1563 [00:21<00:00, 73.64it/s] \n",
      "Batches: 100%|██████████| 1563/1563 [00:21<00:00, 73.92it/s] \n",
      "Batches: 100%|██████████| 1563/1563 [00:21<00:00, 73.52it/s] \n",
      "Batches: 100%|██████████| 1563/1563 [00:21<00:00, 73.77it/s] \n",
      "Batches: 100%|██████████| 1563/1563 [00:21<00:00, 73.10it/s] \n",
      "Batches: 100%|██████████| 1563/1563 [00:21<00:00, 73.41it/s] \n",
      "Batches: 100%|██████████| 1563/1563 [00:20<00:00, 74.73it/s] ]\n",
      "Batches: 100%|██████████| 1563/1563 [00:21<00:00, 72.87it/s] ]\n",
      "Batches: 100%|██████████| 1563/1563 [00:21<00:00, 72.97it/s] ]\n",
      "Batches: 100%|██████████| 1563/1563 [00:20<00:00, 74.74it/s] ]\n",
      "Batches: 100%|██████████| 1563/1563 [00:21<00:00, 73.84it/s] ]\n",
      "Batches: 100%|██████████| 1563/1563 [00:21<00:00, 74.04it/s] ]\n",
      "Batches: 100%|██████████| 1563/1563 [00:21<00:00, 72.27it/s] ]\n",
      "Batches: 100%|██████████| 1563/1563 [00:21<00:00, 74.12it/s] ]\n",
      "Batches: 100%|██████████| 1563/1563 [00:20<00:00, 74.77it/s] ]\n",
      "Batches: 100%|██████████| 1563/1563 [00:20<00:00, 75.43it/s] ]\n",
      "Batches: 100%|██████████| 1563/1563 [00:21<00:00, 73.68it/s] ]\n",
      "Batches: 100%|██████████| 1563/1563 [00:21<00:00, 74.27it/s] ]\n",
      "Batches: 100%|██████████| 1563/1563 [00:21<00:00, 74.41it/s] ]\n",
      "Batches: 100%|██████████| 1563/1563 [00:21<00:00, 73.98it/s] ]\n",
      "Batches: 100%|██████████| 276/276 [00:03<00:00, 71.28it/s] it]\n",
      "Corpus Chunks: 100%|██████████| 25/25 [08:44<00:00, 20.96s/it]\n",
      "Batches: 100%|██████████| 5/5 [00:00<00:00, 61.18it/s]\n",
      "Batches: 100%|██████████| 1563/1563 [00:21<00:00, 74.05it/s] \n",
      "Batches: 100%|██████████| 1563/1563 [00:21<00:00, 73.23it/s] \n",
      "Batches: 100%|██████████| 1563/1563 [00:21<00:00, 73.04it/s] \n",
      "Batches: 100%|██████████| 1563/1563 [00:21<00:00, 73.90it/s] \n",
      "Batches: 100%|██████████| 1563/1563 [00:21<00:00, 73.40it/s] \n",
      "Batches: 100%|██████████| 1563/1563 [00:21<00:00, 73.11it/s] \n",
      "Batches: 100%|██████████| 1563/1563 [00:21<00:00, 73.35it/s] \n",
      "Batches: 100%|██████████| 1563/1563 [00:21<00:00, 73.01it/s] \n",
      "Batches: 100%|██████████| 1563/1563 [00:21<00:00, 74.05it/s] \n",
      "Batches: 100%|██████████| 1563/1563 [00:22<00:00, 70.54it/s] \n",
      "Batches: 100%|██████████| 1563/1563 [00:20<00:00, 75.14it/s] ]\n",
      "Batches: 100%|██████████| 1563/1563 [00:20<00:00, 75.39it/s] ]\n",
      "Batches: 100%|██████████| 1563/1563 [00:20<00:00, 75.03it/s] ]\n",
      "Batches: 100%|██████████| 1563/1563 [00:20<00:00, 75.73it/s] ]\n",
      "Batches: 100%|██████████| 1563/1563 [00:20<00:00, 75.01it/s] ]\n",
      "Batches: 100%|██████████| 1563/1563 [00:20<00:00, 75.49it/s] ]\n",
      "Batches: 100%|██████████| 1563/1563 [00:20<00:00, 74.89it/s] ]\n",
      "Batches: 100%|██████████| 1563/1563 [00:20<00:00, 75.77it/s] ]\n",
      "Batches: 100%|██████████| 1563/1563 [00:20<00:00, 75.97it/s] ]\n",
      "Batches: 100%|██████████| 1563/1563 [00:20<00:00, 75.75it/s] ]\n",
      "Batches: 100%|██████████| 1563/1563 [00:20<00:00, 74.44it/s]t]\n",
      "Batches: 100%|██████████| 1563/1563 [00:21<00:00, 73.14it/s] ]\n",
      "Batches: 100%|██████████| 1563/1563 [00:20<00:00, 75.51it/s] ]\n",
      "Batches: 100%|██████████| 1563/1563 [00:20<00:00, 75.30it/s] ]\n",
      "Batches: 100%|██████████| 276/276 [00:04<00:00, 67.84it/s] it]\n",
      "Corpus Chunks: 100%|██████████| 25/25 [08:40<00:00, 20.83s/it]\n",
      "Batches: 100%|██████████| 5/5 [00:00<00:00, 63.83it/s]\n",
      "Batches: 100%|██████████| 1563/1563 [00:20<00:00, 74.63it/s] \n",
      "Batches: 100%|██████████| 1563/1563 [00:20<00:00, 75.08it/s] \n",
      "Batches: 100%|██████████| 1563/1563 [00:21<00:00, 74.18it/s] \n",
      "Batches: 100%|██████████| 1563/1563 [00:20<00:00, 75.55it/s] \n",
      "Batches: 100%|██████████| 1563/1563 [00:20<00:00, 74.53it/s] \n",
      "Batches: 100%|██████████| 1563/1563 [00:20<00:00, 74.46it/s] \n",
      "Batches: 100%|██████████| 1563/1563 [00:20<00:00, 74.70it/s] \n",
      "Batches: 100%|██████████| 1563/1563 [00:20<00:00, 75.11it/s] \n",
      "Batches: 100%|██████████| 1563/1563 [00:21<00:00, 74.08it/s] \n",
      "Batches: 100%|██████████| 1563/1563 [00:20<00:00, 74.56it/s] \n",
      "Batches: 100%|██████████| 1563/1563 [00:21<00:00, 73.78it/s]t]\n",
      "Batches: 100%|██████████| 1563/1563 [00:21<00:00, 71.89it/s] ]\n",
      "Batches: 100%|██████████| 1563/1563 [00:21<00:00, 74.30it/s] ]\n",
      "Batches: 100%|██████████| 1563/1563 [00:21<00:00, 73.90it/s] ]\n",
      "Batches: 100%|██████████| 1563/1563 [00:20<00:00, 76.31it/s] ]\n",
      "Batches: 100%|██████████| 1563/1563 [00:20<00:00, 76.84it/s] ]\n",
      "Batches: 100%|██████████| 1563/1563 [00:20<00:00, 75.07it/s] ]\n",
      "Batches: 100%|██████████| 1563/1563 [00:20<00:00, 75.05it/s] ]\n",
      "Batches: 100%|██████████| 1563/1563 [00:20<00:00, 76.39it/s] ]\n",
      "Batches: 100%|██████████| 1563/1563 [00:20<00:00, 76.16it/s] ]\n",
      "Batches: 100%|██████████| 1563/1563 [00:20<00:00, 76.30it/s] ]\n",
      "Batches: 100%|██████████| 1563/1563 [00:20<00:00, 75.23it/s] ]\n",
      "Batches: 100%|██████████| 1563/1563 [00:20<00:00, 75.15it/s] ]\n",
      "Batches: 100%|██████████| 1563/1563 [00:20<00:00, 75.49it/s] ]\n",
      "Batches: 100%|██████████| 276/276 [00:03<00:00, 72.84it/s] it]\n",
      "Corpus Chunks: 100%|██████████| 25/25 [08:36<00:00, 20.66s/it]\n"
     ]
    }
   ],
   "source": [
    "\n",
    "\n",
    "# 4. Train with dev set validation\n",
    "# trainer.train(output_dir='./climate_retriever')\n"
   ]
  },
  {
   "cell_type": "code",
   "execution_count": 6,
   "id": "17ee5abe",
   "metadata": {},
   "outputs": [],
   "source": [
    "from transformers import AutoTokenizer, AutoModelForCausalLM\n",
    "import torch\n",
    "import re\n",
    "\n",
    "class LLaMAFilter:\n",
    "    def __init__(self, model_name=\"meta-llama/Llama-3.1-8B-Instruct\"):\n",
    "        self.device = \"cuda\" if torch.cuda.is_available() else (\"mps\" if torch.backends.mps.is_available() else \"cpu\")\n",
    "        self.tokenizer = AutoTokenizer.from_pretrained(model_name)\n",
    "        self.model = AutoModelForCausalLM.from_pretrained(model_name,\n",
    "                                                          torch_dtype=torch.float16,\n",
    "                                                          ).to(self.device)\n",
    "        self.tokenizer.pad_token = self.tokenizer.eos_token\n",
    "        \n",
    "    def filter_evidence(self, claim, evidence_candidates, final_k=5):\n",
    "        \"\"\"Filter evidence using LLaMA's relevance scoring\"\"\"\n",
    "        prompts = [\n",
    "            f\"Claim: {claim}\\nEvidence: {text}\\nRate relevance 1-5 (1 is not relevant, 5 is perfect match): \"\n",
    "            for eid, text in evidence_candidates\n",
    "        ]\n",
    "            \n",
    "        inputs = self.tokenizer(prompts, return_tensors=\"pt\", padding=True).to(self.device)\n",
    "        outputs = self.model.generate(\n",
    "            **inputs,\n",
    "            max_new_tokens=2,\n",
    "            temperature=0.1,\n",
    "            pad_token_id=self.tokenizer.eos_token_id\n",
    "        )\n",
    "        scored_evidence = []\n",
    "        for (eid, text), output in zip(evidence_candidates, outputs):\n",
    "            output_text = self.tokenizer.decode(output, skip_special_tokens=True)\n",
    "            # Extract the first digit from the output\n",
    "            digits = re.findall(r'\\d', output_text)\n",
    "            if digits:\n",
    "                rating = int(digits[0])\n",
    "                # Ensure rating is between 1-5\n",
    "                rating = max(1, min(5, rating))\n",
    "            else:\n",
    "                # Default to middle rating if no digit found\n",
    "                rating = 3\n",
    "            scored_evidence.append((eid, text, rating))\n",
    "        scored_evidence.sort(key=lambda x: x[2], reverse=True)\n",
    "        return scored_evidence[:final_k]"
   ]
  },
  {
   "cell_type": "code",
   "execution_count": 14,
   "id": "2eca8531",
   "metadata": {},
   "outputs": [],
   "source": [
    "def get_evidence_text(evidences):\n",
    "    return [(eid, evidenceRetriever.evidence_map[eid]) for eid in evidences]"
   ]
  },
  {
   "cell_type": "code",
   "execution_count": 8,
   "id": "1d3625d8",
   "metadata": {},
   "outputs": [],
   "source": [
    "def initial_retrieval(retriever, test_claims_path):\n",
    "    with open(test_claims_path) as f:\n",
    "        test_claims = json.load(f)\n",
    "    \n",
    "    output = {}\n",
    "    for claim_id, claim_data in test_claims.items():\n",
    "        # Retrieve candidates\n",
    "        candidates = retriever.retrieve(claim_data['claim_text'], top_k=10)\n",
    "        retrieved = [eid for eid, _  in candidates[:10]]\n",
    "        output[claim_id] = {\n",
    "            \"initial_evidences\": retrieved,\n",
    "            \"claim_text\": claim_data['claim_text']\n",
    "        }\n",
    "\n",
    "    # store output\n",
    "    with open('data/initial_retrieval_output.json', 'w') as f:\n",
    "        json.dump(output, f, indent=2)\n",
    "    return output\n"
   ]
  },
  {
   "cell_type": "code",
   "execution_count": 9,
   "id": "49014200",
   "metadata": {},
   "outputs": [],
   "source": [
    "res = initial_retrieval(evidenceRetriever, test_claims_path='data/dev-claims-baseline.json')"
   ]
  },
  {
   "cell_type": "code",
   "execution_count": 10,
   "id": "214b43e4",
   "metadata": {},
   "outputs": [
    {
     "data": {
      "application/vnd.jupyter.widget-view+json": {
       "model_id": "242f0bf2e27c40f482f661d31fbcf6d3",
       "version_major": 2,
       "version_minor": 0
      },
      "text/plain": [
       "Loading checkpoint shards:   0%|          | 0/4 [00:00<?, ?it/s]"
      ]
     },
     "metadata": {},
     "output_type": "display_data"
    }
   ],
   "source": [
    "llama_filter = LLaMAFilter()"
   ]
  },
  {
   "cell_type": "code",
   "execution_count": 15,
   "id": "7f3797c1",
   "metadata": {},
   "outputs": [
    {
     "name": "stderr",
     "output_type": "stream",
     "text": [
      "A decoder-only architecture is being used, but right-padding was detected! For correct generation results, please set `padding_side='left'` when initializing the tokenizer.\n"
     ]
    },
    {
     "name": "stdout",
     "output_type": "stream",
     "text": [
      "['evidence-67732', 'evidence-572512', 'evidence-780332', 'evidence-1061888', 'evidence-452156', 'evidence-685728', 'evidence-48256', 'evidence-1002110', 'evidence-1050894', 'evidence-1075134']\n"
     ]
    },
    {
     "name": "stderr",
     "output_type": "stream",
     "text": [
      "A decoder-only architecture is being used, but right-padding was detected! For correct generation results, please set `padding_side='left'` when initializing the tokenizer.\n"
     ]
    },
    {
     "name": "stdout",
     "output_type": "stream",
     "text": [
      "['evidence-647121', 'evidence-559290', 'evidence-415619', 'evidence-361694', 'evidence-949910', 'evidence-970402', 'evidence-121187', 'evidence-866495', 'evidence-1075865', 'evidence-419267']\n"
     ]
    },
    {
     "name": "stderr",
     "output_type": "stream",
     "text": [
      "A decoder-only architecture is being used, but right-padding was detected! For correct generation results, please set `padding_side='left'` when initializing the tokenizer.\n"
     ]
    },
    {
     "name": "stdout",
     "output_type": "stream",
     "text": [
      "['evidence-694262', 'evidence-403673', 'evidence-332770', 'evidence-527805', 'evidence-1084381', 'evidence-842114', 'evidence-112875', 'evidence-1086865', 'evidence-343576', 'evidence-937622']\n"
     ]
    },
    {
     "name": "stderr",
     "output_type": "stream",
     "text": [
      "A decoder-only architecture is being used, but right-padding was detected! For correct generation results, please set `padding_side='left'` when initializing the tokenizer.\n"
     ]
    },
    {
     "name": "stdout",
     "output_type": "stream",
     "text": [
      "['evidence-472751', 'evidence-745642', 'evidence-856375', 'evidence-641043', 'evidence-101223', 'evidence-771374', 'evidence-15816', 'evidence-818689', 'evidence-553214', 'evidence-888192']\n"
     ]
    },
    {
     "name": "stderr",
     "output_type": "stream",
     "text": [
      "A decoder-only architecture is being used, but right-padding was detected! For correct generation results, please set `padding_side='left'` when initializing the tokenizer.\n"
     ]
    },
    {
     "name": "stdout",
     "output_type": "stream",
     "text": [
      "['evidence-264761', 'evidence-52981', 'evidence-44751', 'evidence-640229', 'evidence-691825', 'evidence-858437', 'evidence-1200633', 'evidence-1041564', 'evidence-725045', 'evidence-710110']\n"
     ]
    },
    {
     "name": "stderr",
     "output_type": "stream",
     "text": [
      "A decoder-only architecture is being used, but right-padding was detected! For correct generation results, please set `padding_side='left'` when initializing the tokenizer.\n"
     ]
    },
    {
     "name": "stdout",
     "output_type": "stream",
     "text": [
      "['evidence-94272', 'evidence-866495', 'evidence-1075865', 'evidence-210167', 'evidence-632574', 'evidence-677627', 'evidence-453635', 'evidence-381399', 'evidence-730469', 'evidence-1154637']\n"
     ]
    },
    {
     "name": "stderr",
     "output_type": "stream",
     "text": [
      "A decoder-only architecture is being used, but right-padding was detected! For correct generation results, please set `padding_side='left'` when initializing the tokenizer.\n"
     ]
    },
    {
     "name": "stdout",
     "output_type": "stream",
     "text": [
      "['evidence-908113', 'evidence-386068', 'evidence-1129386', 'evidence-773994', 'evidence-462912', 'evidence-358086', 'evidence-220190', 'evidence-901197', 'evidence-276290', 'evidence-166324']\n"
     ]
    },
    {
     "name": "stderr",
     "output_type": "stream",
     "text": [
      "A decoder-only architecture is being used, but right-padding was detected! For correct generation results, please set `padding_side='left'` when initializing the tokenizer.\n"
     ]
    },
    {
     "name": "stdout",
     "output_type": "stream",
     "text": [
      "['evidence-734024', 'evidence-534425', 'evidence-956812', 'evidence-1071200', 'evidence-792207', 'evidence-356178', 'evidence-1119853', 'evidence-322438', 'evidence-430670', 'evidence-164201']\n"
     ]
    },
    {
     "name": "stderr",
     "output_type": "stream",
     "text": [
      "A decoder-only architecture is being used, but right-padding was detected! For correct generation results, please set `padding_side='left'` when initializing the tokenizer.\n"
     ]
    },
    {
     "name": "stdout",
     "output_type": "stream",
     "text": [
      "['evidence-81628', 'evidence-938028', 'evidence-181656', 'evidence-470476', 'evidence-789848', 'evidence-660972', 'evidence-6787', 'evidence-516721', 'evidence-1001780', 'evidence-1192101']\n"
     ]
    },
    {
     "name": "stderr",
     "output_type": "stream",
     "text": [
      "A decoder-only architecture is being used, but right-padding was detected! For correct generation results, please set `padding_side='left'` when initializing the tokenizer.\n"
     ]
    },
    {
     "name": "stdout",
     "output_type": "stream",
     "text": [
      "['evidence-270324', 'evidence-91026', 'evidence-1131134', 'evidence-321341', 'evidence-416567', 'evidence-52744', 'evidence-313483', 'evidence-169186', 'evidence-446603', 'evidence-54880']\n"
     ]
    },
    {
     "name": "stderr",
     "output_type": "stream",
     "text": [
      "A decoder-only architecture is being used, but right-padding was detected! For correct generation results, please set `padding_side='left'` when initializing the tokenizer.\n"
     ]
    },
    {
     "name": "stdout",
     "output_type": "stream",
     "text": [
      "['evidence-599055', 'evidence-604296', 'evidence-256785', 'evidence-485896', 'evidence-1116760', 'evidence-1124385', 'evidence-27377', 'evidence-16169', 'evidence-78265', 'evidence-977792']\n"
     ]
    },
    {
     "name": "stderr",
     "output_type": "stream",
     "text": [
      "A decoder-only architecture is being used, but right-padding was detected! For correct generation results, please set `padding_side='left'` when initializing the tokenizer.\n"
     ]
    },
    {
     "name": "stdout",
     "output_type": "stream",
     "text": [
      "['evidence-208053', 'evidence-425667', 'evidence-15399', 'evidence-273631', 'evidence-157943', 'evidence-243372', 'evidence-186411', 'evidence-1177233', 'evidence-204526', 'evidence-1198348']\n"
     ]
    },
    {
     "name": "stderr",
     "output_type": "stream",
     "text": [
      "A decoder-only architecture is being used, but right-padding was detected! For correct generation results, please set `padding_side='left'` when initializing the tokenizer.\n"
     ]
    },
    {
     "name": "stdout",
     "output_type": "stream",
     "text": [
      "['evidence-894521', 'evidence-797505', 'evidence-975870', 'evidence-799984', 'evidence-665226', 'evidence-1088478', 'evidence-29528', 'evidence-118577', 'evidence-171206', 'evidence-59240']\n"
     ]
    },
    {
     "name": "stderr",
     "output_type": "stream",
     "text": [
      "A decoder-only architecture is being used, but right-padding was detected! For correct generation results, please set `padding_side='left'` when initializing the tokenizer.\n"
     ]
    },
    {
     "name": "stdout",
     "output_type": "stream",
     "text": [
      "['evidence-1186875', 'evidence-421870', 'evidence-1073433', 'evidence-817269', 'evidence-539221', 'evidence-1065728', 'evidence-707408', 'evidence-123812', 'evidence-646466', 'evidence-731284']\n"
     ]
    },
    {
     "name": "stderr",
     "output_type": "stream",
     "text": [
      "A decoder-only architecture is being used, but right-padding was detected! For correct generation results, please set `padding_side='left'` when initializing the tokenizer.\n"
     ]
    },
    {
     "name": "stdout",
     "output_type": "stream",
     "text": [
      "['evidence-526818', 'evidence-158204', 'evidence-223619', 'evidence-779966', 'evidence-78884', 'evidence-848463', 'evidence-1127057', 'evidence-1042857', 'evidence-1008952', 'evidence-700426']\n"
     ]
    },
    {
     "name": "stderr",
     "output_type": "stream",
     "text": [
      "A decoder-only architecture is being used, but right-padding was detected! For correct generation results, please set `padding_side='left'` when initializing the tokenizer.\n"
     ]
    },
    {
     "name": "stdout",
     "output_type": "stream",
     "text": [
      "['evidence-1007525', 'evidence-558580', 'evidence-651900', 'evidence-985452', 'evidence-442589', 'evidence-368192', 'evidence-687835', 'evidence-855992', 'evidence-399231', 'evidence-348895']\n"
     ]
    },
    {
     "name": "stderr",
     "output_type": "stream",
     "text": [
      "A decoder-only architecture is being used, but right-padding was detected! For correct generation results, please set `padding_side='left'` when initializing the tokenizer.\n"
     ]
    },
    {
     "name": "stdout",
     "output_type": "stream",
     "text": [
      "['evidence-1005403', 'evidence-954808', 'evidence-569938', 'evidence-384007', 'evidence-223772', 'evidence-1192872', 'evidence-797505', 'evidence-785015', 'evidence-126945', 'evidence-548766']\n"
     ]
    },
    {
     "name": "stderr",
     "output_type": "stream",
     "text": [
      "A decoder-only architecture is being used, but right-padding was detected! For correct generation results, please set `padding_side='left'` when initializing the tokenizer.\n"
     ]
    },
    {
     "name": "stdout",
     "output_type": "stream",
     "text": [
      "['evidence-190063', 'evidence-625563', 'evidence-1040875', 'evidence-608418', 'evidence-326733', 'evidence-530201', 'evidence-220020', 'evidence-1160125', 'evidence-106073', 'evidence-121664']\n"
     ]
    },
    {
     "name": "stderr",
     "output_type": "stream",
     "text": [
      "A decoder-only architecture is being used, but right-padding was detected! For correct generation results, please set `padding_side='left'` when initializing the tokenizer.\n"
     ]
    },
    {
     "name": "stdout",
     "output_type": "stream",
     "text": [
      "['evidence-586254', 'evidence-1107462', 'evidence-111881', 'evidence-731434', 'evidence-39028', 'evidence-114604', 'evidence-957020', 'evidence-954212', 'evidence-286845', 'evidence-256960']\n"
     ]
    },
    {
     "name": "stderr",
     "output_type": "stream",
     "text": [
      "A decoder-only architecture is being used, but right-padding was detected! For correct generation results, please set `padding_side='left'` when initializing the tokenizer.\n"
     ]
    },
    {
     "name": "stdout",
     "output_type": "stream",
     "text": [
      "['evidence-886611', 'evidence-720171', 'evidence-488270', 'evidence-510347', 'evidence-1079971', 'evidence-259826', 'evidence-36994', 'evidence-517090', 'evidence-64777', 'evidence-222883']\n"
     ]
    },
    {
     "name": "stderr",
     "output_type": "stream",
     "text": [
      "A decoder-only architecture is being used, but right-padding was detected! For correct generation results, please set `padding_side='left'` when initializing the tokenizer.\n"
     ]
    },
    {
     "name": "stdout",
     "output_type": "stream",
     "text": [
      "['evidence-411817', 'evidence-1020001', 'evidence-783884', 'evidence-374084', 'evidence-964861', 'evidence-123917', 'evidence-586254', 'evidence-392335', 'evidence-756019', 'evidence-306587']\n"
     ]
    },
    {
     "name": "stderr",
     "output_type": "stream",
     "text": [
      "A decoder-only architecture is being used, but right-padding was detected! For correct generation results, please set `padding_side='left'` when initializing the tokenizer.\n"
     ]
    },
    {
     "name": "stdout",
     "output_type": "stream",
     "text": [
      "['evidence-894734', 'evidence-612560', 'evidence-882011', 'evidence-196041', 'evidence-607697', 'evidence-84979', 'evidence-650615', 'evidence-741149', 'evidence-1112861', 'evidence-320996']\n"
     ]
    },
    {
     "name": "stderr",
     "output_type": "stream",
     "text": [
      "A decoder-only architecture is being used, but right-padding was detected! For correct generation results, please set `padding_side='left'` when initializing the tokenizer.\n"
     ]
    },
    {
     "name": "stdout",
     "output_type": "stream",
     "text": [
      "['evidence-754329', 'evidence-1174820', 'evidence-75640', 'evidence-918262', 'evidence-69294', 'evidence-487201', 'evidence-178152', 'evidence-19584', 'evidence-835367', 'evidence-738452']\n"
     ]
    },
    {
     "name": "stderr",
     "output_type": "stream",
     "text": [
      "A decoder-only architecture is being used, but right-padding was detected! For correct generation results, please set `padding_side='left'` when initializing the tokenizer.\n"
     ]
    },
    {
     "name": "stdout",
     "output_type": "stream",
     "text": [
      "['evidence-262028', 'evidence-801082', 'evidence-121664', 'evidence-714864', 'evidence-178206', 'evidence-843608', 'evidence-368192', 'evidence-814004', 'evidence-725977', 'evidence-100461']\n"
     ]
    },
    {
     "name": "stderr",
     "output_type": "stream",
     "text": [
      "A decoder-only architecture is being used, but right-padding was detected! For correct generation results, please set `padding_side='left'` when initializing the tokenizer.\n"
     ]
    },
    {
     "name": "stdout",
     "output_type": "stream",
     "text": [
      "['evidence-1077486', 'evidence-148977', 'evidence-264263', 'evidence-903248', 'evidence-323097', 'evidence-738480', 'evidence-1032278', 'evidence-976802', 'evidence-159348', 'evidence-890015']\n"
     ]
    },
    {
     "name": "stderr",
     "output_type": "stream",
     "text": [
      "A decoder-only architecture is being used, but right-padding was detected! For correct generation results, please set `padding_side='left'` when initializing the tokenizer.\n"
     ]
    },
    {
     "name": "stdout",
     "output_type": "stream",
     "text": [
      "['evidence-189592', 'evidence-867005', 'evidence-308708', 'evidence-965363', 'evidence-752013', 'evidence-1099922', 'evidence-95782', 'evidence-416399', 'evidence-359101', 'evidence-398463']\n"
     ]
    },
    {
     "name": "stderr",
     "output_type": "stream",
     "text": [
      "A decoder-only architecture is being used, but right-padding was detected! For correct generation results, please set `padding_side='left'` when initializing the tokenizer.\n"
     ]
    },
    {
     "name": "stdout",
     "output_type": "stream",
     "text": [
      "['evidence-1001780', 'evidence-287752', 'evidence-457045', 'evidence-940688', 'evidence-13434', 'evidence-894521', 'evidence-1115033', 'evidence-601209', 'evidence-773685', 'evidence-123812']\n"
     ]
    },
    {
     "name": "stderr",
     "output_type": "stream",
     "text": [
      "A decoder-only architecture is being used, but right-padding was detected! For correct generation results, please set `padding_side='left'` when initializing the tokenizer.\n"
     ]
    },
    {
     "name": "stdout",
     "output_type": "stream",
     "text": [
      "['evidence-662931', 'evidence-94272', 'evidence-1100614', 'evidence-609211', 'evidence-165820', 'evidence-510034', 'evidence-1205623', 'evidence-382260', 'evidence-620559', 'evidence-468321']\n"
     ]
    },
    {
     "name": "stderr",
     "output_type": "stream",
     "text": [
      "A decoder-only architecture is being used, but right-padding was detected! For correct generation results, please set `padding_side='left'` when initializing the tokenizer.\n"
     ]
    },
    {
     "name": "stdout",
     "output_type": "stream",
     "text": [
      "['evidence-1078744', 'evidence-450619', 'evidence-951599', 'evidence-291872', 'evidence-731175', 'evidence-1031822', 'evidence-29224', 'evidence-269643', 'evidence-504449', 'evidence-902582']\n"
     ]
    },
    {
     "name": "stderr",
     "output_type": "stream",
     "text": [
      "A decoder-only architecture is being used, but right-padding was detected! For correct generation results, please set `padding_side='left'` when initializing the tokenizer.\n"
     ]
    },
    {
     "name": "stdout",
     "output_type": "stream",
     "text": [
      "['evidence-551522', 'evidence-962456', 'evidence-399231', 'evidence-356854', 'evidence-1018042', 'evidence-545279', 'evidence-247672', 'evidence-772019', 'evidence-512936', 'evidence-630891']\n"
     ]
    },
    {
     "name": "stderr",
     "output_type": "stream",
     "text": [
      "A decoder-only architecture is being used, but right-padding was detected! For correct generation results, please set `padding_side='left'` when initializing the tokenizer.\n"
     ]
    },
    {
     "name": "stdout",
     "output_type": "stream",
     "text": [
      "['evidence-551522', 'evidence-648764', 'evidence-1018042', 'evidence-356854', 'evidence-247672', 'evidence-1190705', 'evidence-973577', 'evidence-788947', 'evidence-252580', 'evidence-620559']\n"
     ]
    },
    {
     "name": "stderr",
     "output_type": "stream",
     "text": [
      "A decoder-only architecture is being used, but right-padding was detected! For correct generation results, please set `padding_side='left'` when initializing the tokenizer.\n"
     ]
    },
    {
     "name": "stdout",
     "output_type": "stream",
     "text": [
      "['evidence-898871', 'evidence-311416', 'evidence-933078', 'evidence-161094', 'evidence-352954', 'evidence-594740', 'evidence-281727', 'evidence-385147', 'evidence-1101211', 'evidence-468656']\n"
     ]
    },
    {
     "name": "stderr",
     "output_type": "stream",
     "text": [
      "A decoder-only architecture is being used, but right-padding was detected! For correct generation results, please set `padding_side='left'` when initializing the tokenizer.\n"
     ]
    },
    {
     "name": "stdout",
     "output_type": "stream",
     "text": [
      "['evidence-701955', 'evidence-41418', 'evidence-435467', 'evidence-1174708', 'evidence-665314', 'evidence-145828', 'evidence-1028610', 'evidence-342078', 'evidence-387450', 'evidence-1082452']\n"
     ]
    },
    {
     "name": "stderr",
     "output_type": "stream",
     "text": [
      "A decoder-only architecture is being used, but right-padding was detected! For correct generation results, please set `padding_side='left'` when initializing the tokenizer.\n"
     ]
    },
    {
     "name": "stdout",
     "output_type": "stream",
     "text": [
      "['evidence-973064', 'evidence-725436', 'evidence-365357', 'evidence-381950', 'evidence-363372', 'evidence-707408', 'evidence-82292', 'evidence-593737', 'evidence-519752', 'evidence-734872']\n"
     ]
    },
    {
     "name": "stderr",
     "output_type": "stream",
     "text": [
      "A decoder-only architecture is being used, but right-padding was detected! For correct generation results, please set `padding_side='left'` when initializing the tokenizer.\n"
     ]
    },
    {
     "name": "stdout",
     "output_type": "stream",
     "text": [
      "['evidence-461050', 'evidence-846475', 'evidence-185243', 'evidence-410700', 'evidence-433225', 'evidence-301035', 'evidence-260744', 'evidence-734872', 'evidence-89411', 'evidence-529426']\n"
     ]
    },
    {
     "name": "stderr",
     "output_type": "stream",
     "text": [
      "A decoder-only architecture is being used, but right-padding was detected! For correct generation results, please set `padding_side='left'` when initializing the tokenizer.\n"
     ]
    },
    {
     "name": "stdout",
     "output_type": "stream",
     "text": [
      "['evidence-561041', 'evidence-342343', 'evidence-679387', 'evidence-708859', 'evidence-984836', 'evidence-986334', 'evidence-1150743', 'evidence-238974', 'evidence-190384', 'evidence-1084082']\n"
     ]
    },
    {
     "name": "stderr",
     "output_type": "stream",
     "text": [
      "A decoder-only architecture is being used, but right-padding was detected! For correct generation results, please set `padding_side='left'` when initializing the tokenizer.\n"
     ]
    },
    {
     "name": "stdout",
     "output_type": "stream",
     "text": [
      "['evidence-1108581', 'evidence-627319', 'evidence-431693', 'evidence-811585', 'evidence-497518', 'evidence-1094759', 'evidence-958600', 'evidence-514779', 'evidence-1049692', 'evidence-192836']\n"
     ]
    },
    {
     "name": "stderr",
     "output_type": "stream",
     "text": [
      "A decoder-only architecture is being used, but right-padding was detected! For correct generation results, please set `padding_side='left'` when initializing the tokenizer.\n"
     ]
    },
    {
     "name": "stdout",
     "output_type": "stream",
     "text": [
      "['evidence-792877', 'evidence-947243', 'evidence-1124123', 'evidence-1198644', 'evidence-447955', 'evidence-77016', 'evidence-39028', 'evidence-399454', 'evidence-977735', 'evidence-118577']\n"
     ]
    },
    {
     "name": "stderr",
     "output_type": "stream",
     "text": [
      "A decoder-only architecture is being used, but right-padding was detected! For correct generation results, please set `padding_side='left'` when initializing the tokenizer.\n"
     ]
    },
    {
     "name": "stdout",
     "output_type": "stream",
     "text": [
      "['evidence-621880', 'evidence-968233', 'evidence-834978', 'evidence-794227', 'evidence-424893', 'evidence-920160', 'evidence-913626', 'evidence-902107', 'evidence-470418', 'evidence-6590']\n"
     ]
    },
    {
     "name": "stderr",
     "output_type": "stream",
     "text": [
      "A decoder-only architecture is being used, but right-padding was detected! For correct generation results, please set `padding_side='left'` when initializing the tokenizer.\n"
     ]
    },
    {
     "name": "stdout",
     "output_type": "stream",
     "text": [
      "['evidence-1161423', 'evidence-1184683', 'evidence-502356', 'evidence-731175', 'evidence-836972', 'evidence-173323', 'evidence-308405', 'evidence-309746', 'evidence-976285', 'evidence-247680']\n"
     ]
    },
    {
     "name": "stderr",
     "output_type": "stream",
     "text": [
      "A decoder-only architecture is being used, but right-padding was detected! For correct generation results, please set `padding_side='left'` when initializing the tokenizer.\n"
     ]
    },
    {
     "name": "stdout",
     "output_type": "stream",
     "text": [
      "['evidence-664933', 'evidence-1166728', 'evidence-1131834', 'evidence-451174', 'evidence-445131', 'evidence-118189', 'evidence-1056104', 'evidence-366178', 'evidence-1006823', 'evidence-657969']\n"
     ]
    },
    {
     "name": "stderr",
     "output_type": "stream",
     "text": [
      "A decoder-only architecture is being used, but right-padding was detected! For correct generation results, please set `padding_side='left'` when initializing the tokenizer.\n"
     ]
    },
    {
     "name": "stdout",
     "output_type": "stream",
     "text": [
      "['evidence-698828', 'evidence-119750', 'evidence-1134338', 'evidence-529985', 'evidence-386943', 'evidence-1089063', 'evidence-433225', 'evidence-1199499', 'evidence-1041175', 'evidence-630043']\n"
     ]
    },
    {
     "name": "stderr",
     "output_type": "stream",
     "text": [
      "A decoder-only architecture is being used, but right-padding was detected! For correct generation results, please set `padding_side='left'` when initializing the tokenizer.\n"
     ]
    },
    {
     "name": "stdout",
     "output_type": "stream",
     "text": [
      "['evidence-949910', 'evidence-1182416', 'evidence-559290', 'evidence-51588', 'evidence-35538', 'evidence-434720', 'evidence-415619', 'evidence-970402', 'evidence-333939', 'evidence-855820']\n"
     ]
    },
    {
     "name": "stderr",
     "output_type": "stream",
     "text": [
      "A decoder-only architecture is being used, but right-padding was detected! For correct generation results, please set `padding_side='left'` when initializing the tokenizer.\n"
     ]
    },
    {
     "name": "stdout",
     "output_type": "stream",
     "text": [
      "['evidence-935858', 'evidence-407388', 'evidence-21424', 'evidence-360132', 'evidence-244062', 'evidence-148398', 'evidence-197205', 'evidence-252180', 'evidence-635501', 'evidence-1177428']\n"
     ]
    },
    {
     "name": "stderr",
     "output_type": "stream",
     "text": [
      "A decoder-only architecture is being used, but right-padding was detected! For correct generation results, please set `padding_side='left'` when initializing the tokenizer.\n"
     ]
    },
    {
     "name": "stdout",
     "output_type": "stream",
     "text": [
      "['evidence-1119540', 'evidence-307837', 'evidence-164284', 'evidence-258341', 'evidence-1204847', 'evidence-280371', 'evidence-111518', 'evidence-898255', 'evidence-1156031', 'evidence-387291']\n"
     ]
    },
    {
     "name": "stderr",
     "output_type": "stream",
     "text": [
      "A decoder-only architecture is being used, but right-padding was detected! For correct generation results, please set `padding_side='left'` when initializing the tokenizer.\n"
     ]
    },
    {
     "name": "stdout",
     "output_type": "stream",
     "text": [
      "['evidence-1174708', 'evidence-598168', 'evidence-435792', 'evidence-378444', 'evidence-1082452', 'evidence-1014342', 'evidence-1085055', 'evidence-1052408', 'evidence-184934', 'evidence-1106482']\n"
     ]
    },
    {
     "name": "stderr",
     "output_type": "stream",
     "text": [
      "A decoder-only architecture is being used, but right-padding was detected! For correct generation results, please set `padding_side='left'` when initializing the tokenizer.\n"
     ]
    },
    {
     "name": "stdout",
     "output_type": "stream",
     "text": [
      "['evidence-1088556', 'evidence-820847', 'evidence-729613', 'evidence-1170', 'evidence-490170', 'evidence-64048', 'evidence-268048', 'evidence-319975', 'evidence-325821', 'evidence-219865']\n"
     ]
    },
    {
     "name": "stderr",
     "output_type": "stream",
     "text": [
      "A decoder-only architecture is being used, but right-padding was detected! For correct generation results, please set `padding_side='left'` when initializing the tokenizer.\n"
     ]
    },
    {
     "name": "stdout",
     "output_type": "stream",
     "text": [
      "['evidence-629358', 'evidence-338219', 'evidence-87345', 'evidence-251634', 'evidence-809426', 'evidence-1195163', 'evidence-423643', 'evidence-914228', 'evidence-588053', 'evidence-282556']\n"
     ]
    },
    {
     "name": "stderr",
     "output_type": "stream",
     "text": [
      "A decoder-only architecture is being used, but right-padding was detected! For correct generation results, please set `padding_side='left'` when initializing the tokenizer.\n"
     ]
    },
    {
     "name": "stdout",
     "output_type": "stream",
     "text": [
      "['evidence-269919', 'evidence-605550', 'evidence-299025', 'evidence-452577', 'evidence-423643', 'evidence-251138', 'evidence-1016625', 'evidence-726166', 'evidence-143084', 'evidence-1055692']\n"
     ]
    },
    {
     "name": "stderr",
     "output_type": "stream",
     "text": [
      "A decoder-only architecture is being used, but right-padding was detected! For correct generation results, please set `padding_side='left'` when initializing the tokenizer.\n"
     ]
    },
    {
     "name": "stdout",
     "output_type": "stream",
     "text": [
      "['evidence-645135', 'evidence-1075943', 'evidence-761183', 'evidence-690553', 'evidence-215395', 'evidence-154583', 'evidence-303695', 'evidence-318323', 'evidence-464935', 'evidence-1106741']\n"
     ]
    },
    {
     "name": "stderr",
     "output_type": "stream",
     "text": [
      "A decoder-only architecture is being used, but right-padding was detected! For correct generation results, please set `padding_side='left'` when initializing the tokenizer.\n"
     ]
    },
    {
     "name": "stdout",
     "output_type": "stream",
     "text": [
      "['evidence-844909', 'evidence-363372', 'evidence-407096', 'evidence-315033', 'evidence-464993', 'evidence-378394', 'evidence-287752', 'evidence-939493', 'evidence-879915', 'evidence-1155571']\n"
     ]
    },
    {
     "name": "stderr",
     "output_type": "stream",
     "text": [
      "A decoder-only architecture is being used, but right-padding was detected! For correct generation results, please set `padding_side='left'` when initializing the tokenizer.\n"
     ]
    },
    {
     "name": "stdout",
     "output_type": "stream",
     "text": [
      "['evidence-85031', 'evidence-539221', 'evidence-263772', 'evidence-185162', 'evidence-1066292', 'evidence-879500', 'evidence-55543', 'evidence-549640', 'evidence-832658', 'evidence-519752']\n"
     ]
    },
    {
     "name": "stderr",
     "output_type": "stream",
     "text": [
      "A decoder-only architecture is being used, but right-padding was detected! For correct generation results, please set `padding_side='left'` when initializing the tokenizer.\n"
     ]
    },
    {
     "name": "stdout",
     "output_type": "stream",
     "text": [
      "['evidence-459315', 'evidence-384334', 'evidence-427299', 'evidence-181451', 'evidence-921243', 'evidence-1109126', 'evidence-321505', 'evidence-459011', 'evidence-549640', 'evidence-403688']\n"
     ]
    },
    {
     "name": "stderr",
     "output_type": "stream",
     "text": [
      "A decoder-only architecture is being used, but right-padding was detected! For correct generation results, please set `padding_side='left'` when initializing the tokenizer.\n"
     ]
    },
    {
     "name": "stdout",
     "output_type": "stream",
     "text": [
      "['evidence-356854', 'evidence-620559', 'evidence-255445', 'evidence-938381', 'evidence-1105988', 'evidence-399231', 'evidence-410087', 'evidence-962456', 'evidence-648764', 'evidence-801956']\n"
     ]
    },
    {
     "name": "stderr",
     "output_type": "stream",
     "text": [
      "A decoder-only architecture is being used, but right-padding was detected! For correct generation results, please set `padding_side='left'` when initializing the tokenizer.\n"
     ]
    },
    {
     "name": "stdout",
     "output_type": "stream",
     "text": [
      "['evidence-105536', 'evidence-604477', 'evidence-110432', 'evidence-972696', 'evidence-123812', 'evidence-1187712', 'evidence-211912', 'evidence-8304', 'evidence-894521', 'evidence-1156443']\n"
     ]
    },
    {
     "name": "stderr",
     "output_type": "stream",
     "text": [
      "A decoder-only architecture is being used, but right-padding was detected! For correct generation results, please set `padding_side='left'` when initializing the tokenizer.\n"
     ]
    },
    {
     "name": "stdout",
     "output_type": "stream",
     "text": [
      "['evidence-956029', 'evidence-1017927', 'evidence-866245', 'evidence-738340', 'evidence-776091', 'evidence-1070837', 'evidence-432695', 'evidence-1087946', 'evidence-357997', 'evidence-1143730']\n"
     ]
    },
    {
     "name": "stderr",
     "output_type": "stream",
     "text": [
      "A decoder-only architecture is being used, but right-padding was detected! For correct generation results, please set `padding_side='left'` when initializing the tokenizer.\n"
     ]
    },
    {
     "name": "stdout",
     "output_type": "stream",
     "text": [
      "['evidence-1068590', 'evidence-114562', 'evidence-1113083', 'evidence-455299', 'evidence-96686', 'evidence-1020939', 'evidence-1055320', 'evidence-1080833', 'evidence-175285', 'evidence-1125202']\n"
     ]
    },
    {
     "name": "stderr",
     "output_type": "stream",
     "text": [
      "A decoder-only architecture is being used, but right-padding was detected! For correct generation results, please set `padding_side='left'` when initializing the tokenizer.\n"
     ]
    },
    {
     "name": "stdout",
     "output_type": "stream",
     "text": [
      "['evidence-769659', 'evidence-392', 'evidence-69025', 'evidence-618304', 'evidence-253453', 'evidence-847727', 'evidence-20779', 'evidence-380716', 'evidence-1119610', 'evidence-480659']\n"
     ]
    },
    {
     "name": "stderr",
     "output_type": "stream",
     "text": [
      "A decoder-only architecture is being used, but right-padding was detected! For correct generation results, please set `padding_side='left'` when initializing the tokenizer.\n"
     ]
    },
    {
     "name": "stdout",
     "output_type": "stream",
     "text": [
      "['evidence-1053558', 'evidence-553516', 'evidence-330124', 'evidence-223772', 'evidence-479438', 'evidence-271202', 'evidence-237614', 'evidence-393887', 'evidence-12424', 'evidence-967332']\n"
     ]
    },
    {
     "name": "stderr",
     "output_type": "stream",
     "text": [
      "A decoder-only architecture is being used, but right-padding was detected! For correct generation results, please set `padding_side='left'` when initializing the tokenizer.\n"
     ]
    },
    {
     "name": "stdout",
     "output_type": "stream",
     "text": [
      "['evidence-616168', 'evidence-298723', 'evidence-361694', 'evidence-866495', 'evidence-1075865', 'evidence-108394', 'evidence-94272', 'evidence-202388', 'evidence-210167', 'evidence-615618']\n"
     ]
    },
    {
     "name": "stderr",
     "output_type": "stream",
     "text": [
      "A decoder-only architecture is being used, but right-padding was detected! For correct generation results, please set `padding_side='left'` when initializing the tokenizer.\n"
     ]
    },
    {
     "name": "stdout",
     "output_type": "stream",
     "text": [
      "['evidence-755175', 'evidence-435467', 'evidence-262827', 'evidence-47605', 'evidence-1007486', 'evidence-1027012', 'evidence-675527', 'evidence-998010', 'evidence-948375', 'evidence-936703']\n"
     ]
    },
    {
     "name": "stderr",
     "output_type": "stream",
     "text": [
      "A decoder-only architecture is being used, but right-padding was detected! For correct generation results, please set `padding_side='left'` when initializing the tokenizer.\n"
     ]
    },
    {
     "name": "stdout",
     "output_type": "stream",
     "text": [
      "['evidence-824781', 'evidence-992780', 'evidence-280390', 'evidence-521885', 'evidence-185243', 'evidence-10368', 'evidence-1111410', 'evidence-888023', 'evidence-925231', 'evidence-889101']\n"
     ]
    },
    {
     "name": "stderr",
     "output_type": "stream",
     "text": [
      "A decoder-only architecture is being used, but right-padding was detected! For correct generation results, please set `padding_side='left'` when initializing the tokenizer.\n"
     ]
    },
    {
     "name": "stdout",
     "output_type": "stream",
     "text": [
      "['evidence-714675', 'evidence-1013740', 'evidence-844486', 'evidence-34759', 'evidence-870141', 'evidence-835623', 'evidence-1070085', 'evidence-897934', 'evidence-389165', 'evidence-141739']\n"
     ]
    },
    {
     "name": "stderr",
     "output_type": "stream",
     "text": [
      "A decoder-only architecture is being used, but right-padding was detected! For correct generation results, please set `padding_side='left'` when initializing the tokenizer.\n"
     ]
    },
    {
     "name": "stdout",
     "output_type": "stream",
     "text": [
      "['evidence-332770', 'evidence-33543', 'evidence-112875', 'evidence-972029', 'evidence-298630', 'evidence-712740', 'evidence-974202', 'evidence-610739', 'evidence-820057', 'evidence-865226']\n"
     ]
    },
    {
     "name": "stderr",
     "output_type": "stream",
     "text": [
      "A decoder-only architecture is being used, but right-padding was detected! For correct generation results, please set `padding_side='left'` when initializing the tokenizer.\n"
     ]
    },
    {
     "name": "stdout",
     "output_type": "stream",
     "text": [
      "['evidence-728645', 'evidence-116639', 'evidence-303036', 'evidence-1134336', 'evidence-68501', 'evidence-106742', 'evidence-1068851', 'evidence-43818', 'evidence-825580', 'evidence-815913']\n"
     ]
    },
    {
     "name": "stderr",
     "output_type": "stream",
     "text": [
      "A decoder-only architecture is being used, but right-padding was detected! For correct generation results, please set `padding_side='left'` when initializing the tokenizer.\n"
     ]
    },
    {
     "name": "stdout",
     "output_type": "stream",
     "text": [
      "['evidence-356854', 'evidence-204526', 'evidence-662931', 'evidence-843608', 'evidence-1205623', 'evidence-196937', 'evidence-208053', 'evidence-342507', 'evidence-1177233', 'evidence-620559']\n"
     ]
    },
    {
     "name": "stderr",
     "output_type": "stream",
     "text": [
      "A decoder-only architecture is being used, but right-padding was detected! For correct generation results, please set `padding_side='left'` when initializing the tokenizer.\n"
     ]
    },
    {
     "name": "stdout",
     "output_type": "stream",
     "text": [
      "['evidence-653981', 'evidence-408089', 'evidence-123812', 'evidence-121500', 'evidence-972696', 'evidence-169769', 'evidence-845138', 'evidence-240414', 'evidence-1154195', 'evidence-1088298']\n"
     ]
    },
    {
     "name": "stderr",
     "output_type": "stream",
     "text": [
      "A decoder-only architecture is being used, but right-padding was detected! For correct generation results, please set `padding_side='left'` when initializing the tokenizer.\n"
     ]
    },
    {
     "name": "stdout",
     "output_type": "stream",
     "text": [
      "['evidence-136867', 'evidence-193559', 'evidence-536054', 'evidence-152062', 'evidence-1176648', 'evidence-1120355', 'evidence-175169', 'evidence-121331', 'evidence-960249', 'evidence-67095']\n"
     ]
    },
    {
     "name": "stderr",
     "output_type": "stream",
     "text": [
      "A decoder-only architecture is being used, but right-padding was detected! For correct generation results, please set `padding_side='left'` when initializing the tokenizer.\n"
     ]
    },
    {
     "name": "stdout",
     "output_type": "stream",
     "text": [
      "['evidence-879500', 'evidence-604477', 'evidence-1055682', 'evidence-759337', 'evidence-123812', 'evidence-1187712', 'evidence-136165', 'evidence-760798', 'evidence-202388', 'evidence-211912']\n"
     ]
    },
    {
     "name": "stderr",
     "output_type": "stream",
     "text": [
      "A decoder-only architecture is being used, but right-padding was detected! For correct generation results, please set `padding_side='left'` when initializing the tokenizer.\n"
     ]
    },
    {
     "name": "stdout",
     "output_type": "stream",
     "text": [
      "['evidence-878263', 'evidence-759479', 'evidence-234076', 'evidence-809397', 'evidence-784559', 'evidence-452511', 'evidence-130992', 'evidence-177293', 'evidence-888963', 'evidence-404422']\n"
     ]
    },
    {
     "name": "stderr",
     "output_type": "stream",
     "text": [
      "A decoder-only architecture is being used, but right-padding was detected! For correct generation results, please set `padding_side='left'` when initializing the tokenizer.\n"
     ]
    },
    {
     "name": "stdout",
     "output_type": "stream",
     "text": [
      "['evidence-124062', 'evidence-363528', 'evidence-521885', 'evidence-286819', 'evidence-856239', 'evidence-834766', 'evidence-280904', 'evidence-1173053', 'evidence-514545', 'evidence-906794']\n"
     ]
    },
    {
     "name": "stderr",
     "output_type": "stream",
     "text": [
      "A decoder-only architecture is being used, but right-padding was detected! For correct generation results, please set `padding_side='left'` when initializing the tokenizer.\n"
     ]
    },
    {
     "name": "stdout",
     "output_type": "stream",
     "text": [
      "['evidence-224185', 'evidence-464939', 'evidence-736392', 'evidence-223996', 'evidence-776385', 'evidence-573616', 'evidence-345615', 'evidence-109563', 'evidence-1016696', 'evidence-20963']\n"
     ]
    },
    {
     "name": "stderr",
     "output_type": "stream",
     "text": [
      "A decoder-only architecture is being used, but right-padding was detected! For correct generation results, please set `padding_side='left'` when initializing the tokenizer.\n"
     ]
    },
    {
     "name": "stdout",
     "output_type": "stream",
     "text": [
      "['evidence-1018575', 'evidence-1043526', 'evidence-1018829', 'evidence-500249', 'evidence-791159', 'evidence-515817', 'evidence-808749', 'evidence-1065162', 'evidence-878835', 'evidence-381399']\n"
     ]
    },
    {
     "name": "stderr",
     "output_type": "stream",
     "text": [
      "A decoder-only architecture is being used, but right-padding was detected! For correct generation results, please set `padding_side='left'` when initializing the tokenizer.\n"
     ]
    },
    {
     "name": "stdout",
     "output_type": "stream",
     "text": [
      "['evidence-178505', 'evidence-980959', 'evidence-368241', 'evidence-762715', 'evidence-19909', 'evidence-677910', 'evidence-1036643', 'evidence-216542', 'evidence-322520', 'evidence-328337']\n"
     ]
    },
    {
     "name": "stderr",
     "output_type": "stream",
     "text": [
      "A decoder-only architecture is being used, but right-padding was detected! For correct generation results, please set `padding_side='left'` when initializing the tokenizer.\n"
     ]
    },
    {
     "name": "stdout",
     "output_type": "stream",
     "text": [
      "['evidence-248009', 'evidence-1171424', 'evidence-1089698', 'evidence-534239', 'evidence-123016', 'evidence-801005', 'evidence-555406', 'evidence-658151', 'evidence-952310', 'evidence-855317']\n"
     ]
    },
    {
     "name": "stderr",
     "output_type": "stream",
     "text": [
      "A decoder-only architecture is being used, but right-padding was detected! For correct generation results, please set `padding_side='left'` when initializing the tokenizer.\n"
     ]
    },
    {
     "name": "stdout",
     "output_type": "stream",
     "text": [
      "['evidence-1013521', 'evidence-902524', 'evidence-1119853', 'evidence-879915', 'evidence-512115', 'evidence-508793', 'evidence-198465', 'evidence-831754', 'evidence-180952', 'evidence-1156443']\n"
     ]
    },
    {
     "name": "stderr",
     "output_type": "stream",
     "text": [
      "A decoder-only architecture is being used, but right-padding was detected! For correct generation results, please set `padding_side='left'` when initializing the tokenizer.\n"
     ]
    },
    {
     "name": "stdout",
     "output_type": "stream",
     "text": [
      "['evidence-580567', 'evidence-369389', 'evidence-386380', 'evidence-513559', 'evidence-1133657', 'evidence-217138', 'evidence-1048388', 'evidence-888119', 'evidence-705942', 'evidence-509648']\n"
     ]
    },
    {
     "name": "stderr",
     "output_type": "stream",
     "text": [
      "A decoder-only architecture is being used, but right-padding was detected! For correct generation results, please set `padding_side='left'` when initializing the tokenizer.\n"
     ]
    },
    {
     "name": "stdout",
     "output_type": "stream",
     "text": [
      "['evidence-817269', 'evidence-593737', 'evidence-370435', 'evidence-1066292', 'evidence-55543', 'evidence-100145', 'evidence-1186875', 'evidence-574477', 'evidence-881508', 'evidence-707408']\n"
     ]
    },
    {
     "name": "stderr",
     "output_type": "stream",
     "text": [
      "A decoder-only architecture is being used, but right-padding was detected! For correct generation results, please set `padding_side='left'` when initializing the tokenizer.\n"
     ]
    },
    {
     "name": "stdout",
     "output_type": "stream",
     "text": [
      "['evidence-354829', 'evidence-114596', 'evidence-1150148', 'evidence-378444', 'evidence-1085447', 'evidence-734286', 'evidence-968233', 'evidence-920160', 'evidence-482695', 'evidence-660755']\n"
     ]
    },
    {
     "name": "stderr",
     "output_type": "stream",
     "text": [
      "A decoder-only architecture is being used, but right-padding was detected! For correct generation results, please set `padding_side='left'` when initializing the tokenizer.\n"
     ]
    },
    {
     "name": "stdout",
     "output_type": "stream",
     "text": [
      "['evidence-652884', 'evidence-983918', 'evidence-87345', 'evidence-130492', 'evidence-548492', 'evidence-625824', 'evidence-90274', 'evidence-800827', 'evidence-509654', 'evidence-247680']\n"
     ]
    },
    {
     "name": "stderr",
     "output_type": "stream",
     "text": [
      "A decoder-only architecture is being used, but right-padding was detected! For correct generation results, please set `padding_side='left'` when initializing the tokenizer.\n"
     ]
    },
    {
     "name": "stdout",
     "output_type": "stream",
     "text": [
      "['evidence-313762', 'evidence-346688', 'evidence-790775', 'evidence-1141045', 'evidence-756180', 'evidence-1015173', 'evidence-362073', 'evidence-273109', 'evidence-1101800', 'evidence-81519']\n"
     ]
    },
    {
     "name": "stderr",
     "output_type": "stream",
     "text": [
      "A decoder-only architecture is being used, but right-padding was detected! For correct generation results, please set `padding_side='left'` when initializing the tokenizer.\n"
     ]
    },
    {
     "name": "stdout",
     "output_type": "stream",
     "text": [
      "['evidence-550445', 'evidence-1192268', 'evidence-957349', 'evidence-894100', 'evidence-594019', 'evidence-345042', 'evidence-358086', 'evidence-892616', 'evidence-773994', 'evidence-938487']\n"
     ]
    },
    {
     "name": "stderr",
     "output_type": "stream",
     "text": [
      "A decoder-only architecture is being used, but right-padding was detected! For correct generation results, please set `padding_side='left'` when initializing the tokenizer.\n"
     ]
    },
    {
     "name": "stdout",
     "output_type": "stream",
     "text": [
      "['evidence-588787', 'evidence-807676', 'evidence-1110867', 'evidence-29430', 'evidence-710110', 'evidence-771238', 'evidence-29963', 'evidence-106742', 'evidence-815913', 'evidence-1184933']\n"
     ]
    },
    {
     "name": "stderr",
     "output_type": "stream",
     "text": [
      "A decoder-only architecture is being used, but right-padding was detected! For correct generation results, please set `padding_side='left'` when initializing the tokenizer.\n"
     ]
    },
    {
     "name": "stdout",
     "output_type": "stream",
     "text": [
      "['evidence-596172', 'evidence-631056', 'evidence-447813', 'evidence-1127600', 'evidence-866998', 'evidence-291327', 'evidence-672311', 'evidence-104121', 'evidence-1059528', 'evidence-1197437']\n"
     ]
    },
    {
     "name": "stderr",
     "output_type": "stream",
     "text": [
      "A decoder-only architecture is being used, but right-padding was detected! For correct generation results, please set `padding_side='left'` when initializing the tokenizer.\n"
     ]
    },
    {
     "name": "stdout",
     "output_type": "stream",
     "text": [
      "['evidence-851031', 'evidence-1040612', 'evidence-173281', 'evidence-1056186', 'evidence-1022509', 'evidence-1066768', 'evidence-828120', 'evidence-739706', 'evidence-808139', 'evidence-7473']\n"
     ]
    },
    {
     "name": "stderr",
     "output_type": "stream",
     "text": [
      "A decoder-only architecture is being used, but right-padding was detected! For correct generation results, please set `padding_side='left'` when initializing the tokenizer.\n"
     ]
    },
    {
     "name": "stdout",
     "output_type": "stream",
     "text": [
      "['evidence-775820', 'evidence-217521', 'evidence-616564', 'evidence-461050', 'evidence-810653', 'evidence-1192029', 'evidence-270365', 'evidence-1074778', 'evidence-683138', 'evidence-605242']\n"
     ]
    },
    {
     "name": "stderr",
     "output_type": "stream",
     "text": [
      "A decoder-only architecture is being used, but right-padding was detected! For correct generation results, please set `padding_side='left'` when initializing the tokenizer.\n"
     ]
    },
    {
     "name": "stdout",
     "output_type": "stream",
     "text": [
      "['evidence-1206449', 'evidence-695660', 'evidence-22230', 'evidence-443756', 'evidence-1186458', 'evidence-931390', 'evidence-419114', 'evidence-719544', 'evidence-970402', 'evidence-229230']\n"
     ]
    },
    {
     "name": "stderr",
     "output_type": "stream",
     "text": [
      "A decoder-only architecture is being used, but right-padding was detected! For correct generation results, please set `padding_side='left'` when initializing the tokenizer.\n"
     ]
    },
    {
     "name": "stdout",
     "output_type": "stream",
     "text": [
      "['evidence-930563', 'evidence-663642', 'evidence-900586', 'evidence-575649', 'evidence-1175280', 'evidence-175657', 'evidence-754191', 'evidence-369389', 'evidence-386380', 'evidence-1001116']\n"
     ]
    },
    {
     "name": "stderr",
     "output_type": "stream",
     "text": [
      "A decoder-only architecture is being used, but right-padding was detected! For correct generation results, please set `padding_side='left'` when initializing the tokenizer.\n"
     ]
    },
    {
     "name": "stdout",
     "output_type": "stream",
     "text": [
      "['evidence-602026', 'evidence-12011', 'evidence-318516', 'evidence-652497', 'evidence-1020632', 'evidence-995233', 'evidence-793682', 'evidence-507225', 'evidence-285150', 'evidence-519727']\n"
     ]
    },
    {
     "name": "stderr",
     "output_type": "stream",
     "text": [
      "A decoder-only architecture is being used, but right-padding was detected! For correct generation results, please set `padding_side='left'` when initializing the tokenizer.\n"
     ]
    },
    {
     "name": "stdout",
     "output_type": "stream",
     "text": [
      "['evidence-805409', 'evidence-933078', 'evidence-13160', 'evidence-402137', 'evidence-898871', 'evidence-311416', 'evidence-633190', 'evidence-370378', 'evidence-122441', 'evidence-370468']\n"
     ]
    },
    {
     "name": "stderr",
     "output_type": "stream",
     "text": [
      "A decoder-only architecture is being used, but right-padding was detected! For correct generation results, please set `padding_side='left'` when initializing the tokenizer.\n"
     ]
    },
    {
     "name": "stdout",
     "output_type": "stream",
     "text": [
      "['evidence-856106', 'evidence-647121', 'evidence-1047395', 'evidence-282799', 'evidence-1007748', 'evidence-1092520', 'evidence-622781', 'evidence-269919', 'evidence-456747', 'evidence-367916']\n"
     ]
    },
    {
     "name": "stderr",
     "output_type": "stream",
     "text": [
      "A decoder-only architecture is being used, but right-padding was detected! For correct generation results, please set `padding_side='left'` when initializing the tokenizer.\n"
     ]
    },
    {
     "name": "stdout",
     "output_type": "stream",
     "text": [
      "['evidence-96686', 'evidence-624715', 'evidence-1207200', 'evidence-389165', 'evidence-741671', 'evidence-210566', 'evidence-1142444', 'evidence-1086865', 'evidence-554535', 'evidence-1159499']\n"
     ]
    },
    {
     "name": "stderr",
     "output_type": "stream",
     "text": [
      "A decoder-only architecture is being used, but right-padding was detected! For correct generation results, please set `padding_side='left'` when initializing the tokenizer.\n"
     ]
    },
    {
     "name": "stdout",
     "output_type": "stream",
     "text": [
      "['evidence-784155', 'evidence-51845', 'evidence-65132', 'evidence-378207', 'evidence-1119357', 'evidence-1165605', 'evidence-388010', 'evidence-307017', 'evidence-951078', 'evidence-1025353']\n"
     ]
    },
    {
     "name": "stderr",
     "output_type": "stream",
     "text": [
      "A decoder-only architecture is being used, but right-padding was detected! For correct generation results, please set `padding_side='left'` when initializing the tokenizer.\n"
     ]
    },
    {
     "name": "stdout",
     "output_type": "stream",
     "text": [
      "['evidence-423215', 'evidence-574489', 'evidence-101963', 'evidence-380361', 'evidence-590108', 'evidence-1205212', 'evidence-495048', 'evidence-954557', 'evidence-562327', 'evidence-130761']\n"
     ]
    },
    {
     "name": "stderr",
     "output_type": "stream",
     "text": [
      "A decoder-only architecture is being used, but right-padding was detected! For correct generation results, please set `padding_side='left'` when initializing the tokenizer.\n"
     ]
    },
    {
     "name": "stdout",
     "output_type": "stream",
     "text": [
      "['evidence-208863', 'evidence-269791', 'evidence-1182056', 'evidence-1155515', 'evidence-1178290', 'evidence-1003105', 'evidence-1004849', 'evidence-126279', 'evidence-901219', 'evidence-1202569']\n"
     ]
    },
    {
     "name": "stderr",
     "output_type": "stream",
     "text": [
      "A decoder-only architecture is being used, but right-padding was detected! For correct generation results, please set `padding_side='left'` when initializing the tokenizer.\n"
     ]
    },
    {
     "name": "stdout",
     "output_type": "stream",
     "text": [
      "['evidence-100394', 'evidence-510034', 'evidence-1006052', 'evidence-774592', 'evidence-100171', 'evidence-247680', 'evidence-491362', 'evidence-1047887', 'evidence-220020', 'evidence-551522']\n"
     ]
    },
    {
     "name": "stderr",
     "output_type": "stream",
     "text": [
      "A decoder-only architecture is being used, but right-padding was detected! For correct generation results, please set `padding_side='left'` when initializing the tokenizer.\n"
     ]
    },
    {
     "name": "stdout",
     "output_type": "stream",
     "text": [
      "['evidence-1071718', 'evidence-54776', 'evidence-124851', 'evidence-868516', 'evidence-1113929', 'evidence-1179095', 'evidence-348360', 'evidence-358167', 'evidence-541689', 'evidence-620739']\n"
     ]
    },
    {
     "name": "stderr",
     "output_type": "stream",
     "text": [
      "A decoder-only architecture is being used, but right-padding was detected! For correct generation results, please set `padding_side='left'` when initializing the tokenizer.\n"
     ]
    },
    {
     "name": "stdout",
     "output_type": "stream",
     "text": [
      "['evidence-1010285', 'evidence-1138009', 'evidence-33576', 'evidence-755597', 'evidence-1194346', 'evidence-114465', 'evidence-886863', 'evidence-900843', 'evidence-8793', 'evidence-324576']\n"
     ]
    },
    {
     "name": "stderr",
     "output_type": "stream",
     "text": [
      "A decoder-only architecture is being used, but right-padding was detected! For correct generation results, please set `padding_side='left'` when initializing the tokenizer.\n"
     ]
    },
    {
     "name": "stdout",
     "output_type": "stream",
     "text": [
      "['evidence-808385', 'evidence-453635', 'evidence-224855', 'evidence-94272', 'evidence-220020', 'evidence-312751', 'evidence-16975', 'evidence-699212', 'evidence-1040875', 'evidence-845688']\n"
     ]
    },
    {
     "name": "stderr",
     "output_type": "stream",
     "text": [
      "A decoder-only architecture is being used, but right-padding was detected! For correct generation results, please set `padding_side='left'` when initializing the tokenizer.\n"
     ]
    },
    {
     "name": "stdout",
     "output_type": "stream",
     "text": [
      "['evidence-905992', 'evidence-1068819', 'evidence-233245', 'evidence-1073602', 'evidence-229579', 'evidence-480631', 'evidence-63203', 'evidence-740744', 'evidence-152669', 'evidence-899905']\n"
     ]
    },
    {
     "name": "stderr",
     "output_type": "stream",
     "text": [
      "A decoder-only architecture is being used, but right-padding was detected! For correct generation results, please set `padding_side='left'` when initializing the tokenizer.\n"
     ]
    },
    {
     "name": "stdout",
     "output_type": "stream",
     "text": [
      "['evidence-842114', 'evidence-954212', 'evidence-410700', 'evidence-977735', 'evidence-1016625', 'evidence-8063', 'evidence-196453', 'evidence-608904', 'evidence-289045', 'evidence-418973']\n"
     ]
    },
    {
     "name": "stderr",
     "output_type": "stream",
     "text": [
      "A decoder-only architecture is being used, but right-padding was detected! For correct generation results, please set `padding_side='left'` when initializing the tokenizer.\n"
     ]
    },
    {
     "name": "stdout",
     "output_type": "stream",
     "text": [
      "['evidence-851031', 'evidence-59240', 'evidence-248455', 'evidence-599281', 'evidence-1056186', 'evidence-264761', 'evidence-119173', 'evidence-906956', 'evidence-253690', 'evidence-391045']\n"
     ]
    },
    {
     "name": "stderr",
     "output_type": "stream",
     "text": [
      "A decoder-only architecture is being used, but right-padding was detected! For correct generation results, please set `padding_side='left'` when initializing the tokenizer.\n"
     ]
    },
    {
     "name": "stdout",
     "output_type": "stream",
     "text": [
      "['evidence-538528', 'evidence-739706', 'evidence-683138', 'evidence-851031', 'evidence-591257', 'evidence-771238', 'evidence-253690', 'evidence-248455', 'evidence-399273', 'evidence-849471']\n"
     ]
    },
    {
     "name": "stderr",
     "output_type": "stream",
     "text": [
      "A decoder-only architecture is being used, but right-padding was detected! For correct generation results, please set `padding_side='left'` when initializing the tokenizer.\n"
     ]
    },
    {
     "name": "stdout",
     "output_type": "stream",
     "text": [
      "['evidence-544253', 'evidence-575135', 'evidence-337194', 'evidence-134061', 'evidence-614890', 'evidence-736986', 'evidence-770760', 'evidence-617222', 'evidence-642670', 'evidence-1109658']\n"
     ]
    },
    {
     "name": "stderr",
     "output_type": "stream",
     "text": [
      "A decoder-only architecture is being used, but right-padding was detected! For correct generation results, please set `padding_side='left'` when initializing the tokenizer.\n"
     ]
    },
    {
     "name": "stdout",
     "output_type": "stream",
     "text": [
      "['evidence-626410', 'evidence-109778', 'evidence-1056470', 'evidence-383498', 'evidence-1025757', 'evidence-926240', 'evidence-13434', 'evidence-971000', 'evidence-948853', 'evidence-19886']\n"
     ]
    },
    {
     "name": "stderr",
     "output_type": "stream",
     "text": [
      "A decoder-only architecture is being used, but right-padding was detected! For correct generation results, please set `padding_side='left'` when initializing the tokenizer.\n"
     ]
    },
    {
     "name": "stdout",
     "output_type": "stream",
     "text": [
      "['evidence-1088298', 'evidence-1121998', 'evidence-508668', 'evidence-636423', 'evidence-584943', 'evidence-74778', 'evidence-121500', 'evidence-464979', 'evidence-988277', 'evidence-98842']\n"
     ]
    },
    {
     "name": "stderr",
     "output_type": "stream",
     "text": [
      "A decoder-only architecture is being used, but right-padding was detected! For correct generation results, please set `padding_side='left'` when initializing the tokenizer.\n"
     ]
    },
    {
     "name": "stdout",
     "output_type": "stream",
     "text": [
      "['evidence-533511', 'evidence-59188', 'evidence-377592', 'evidence-865726', 'evidence-895823', 'evidence-315033', 'evidence-506460', 'evidence-695091', 'evidence-332148', 'evidence-300156']\n"
     ]
    },
    {
     "name": "stderr",
     "output_type": "stream",
     "text": [
      "A decoder-only architecture is being used, but right-padding was detected! For correct generation results, please set `padding_side='left'` when initializing the tokenizer.\n"
     ]
    },
    {
     "name": "stdout",
     "output_type": "stream",
     "text": [
      "['evidence-976285', 'evidence-1161423', 'evidence-493616', 'evidence-94272', 'evidence-220020', 'evidence-1064139', 'evidence-247680', 'evidence-383274', 'evidence-584709', 'evidence-755175']\n"
     ]
    },
    {
     "name": "stderr",
     "output_type": "stream",
     "text": [
      "A decoder-only architecture is being used, but right-padding was detected! For correct generation results, please set `padding_side='left'` when initializing the tokenizer.\n"
     ]
    },
    {
     "name": "stdout",
     "output_type": "stream",
     "text": [
      "['evidence-654610', 'evidence-1174117', 'evidence-338219', 'evidence-809426', 'evidence-232927', 'evidence-635378', 'evidence-84454', 'evidence-98115', 'evidence-1092185', 'evidence-972570']\n"
     ]
    },
    {
     "name": "stderr",
     "output_type": "stream",
     "text": [
      "A decoder-only architecture is being used, but right-padding was detected! For correct generation results, please set `padding_side='left'` when initializing the tokenizer.\n"
     ]
    },
    {
     "name": "stdout",
     "output_type": "stream",
     "text": [
      "['evidence-1117137', 'evidence-268745', 'evidence-396628', 'evidence-521030', 'evidence-724010', 'evidence-508420', 'evidence-655717', 'evidence-1074729', 'evidence-84454', 'evidence-738480']\n"
     ]
    },
    {
     "name": "stderr",
     "output_type": "stream",
     "text": [
      "A decoder-only architecture is being used, but right-padding was detected! For correct generation results, please set `padding_side='left'` when initializing the tokenizer.\n"
     ]
    },
    {
     "name": "stdout",
     "output_type": "stream",
     "text": [
      "['evidence-948375', 'evidence-794227', 'evidence-968233', 'evidence-594005', 'evidence-834978', 'evidence-424893', 'evidence-988909', 'evidence-153898', 'evidence-438440', 'evidence-913626']\n"
     ]
    },
    {
     "name": "stderr",
     "output_type": "stream",
     "text": [
      "A decoder-only architecture is being used, but right-padding was detected! For correct generation results, please set `padding_side='left'` when initializing the tokenizer.\n"
     ]
    },
    {
     "name": "stdout",
     "output_type": "stream",
     "text": [
      "['evidence-1047048', 'evidence-22048', 'evidence-473200', 'evidence-574477', 'evidence-946262', 'evidence-942611', 'evidence-1075856', 'evidence-109104', 'evidence-76224', 'evidence-176074']\n"
     ]
    },
    {
     "name": "stderr",
     "output_type": "stream",
     "text": [
      "A decoder-only architecture is being used, but right-padding was detected! For correct generation results, please set `padding_side='left'` when initializing the tokenizer.\n"
     ]
    },
    {
     "name": "stdout",
     "output_type": "stream",
     "text": [
      "['evidence-1184683', 'evidence-247680', 'evidence-662931', 'evidence-376130', 'evidence-616168', 'evidence-510034', 'evidence-716825', 'evidence-453635', 'evidence-98914', 'evidence-805335']\n"
     ]
    },
    {
     "name": "stderr",
     "output_type": "stream",
     "text": [
      "A decoder-only architecture is being used, but right-padding was detected! For correct generation results, please set `padding_side='left'` when initializing the tokenizer.\n"
     ]
    },
    {
     "name": "stdout",
     "output_type": "stream",
     "text": [
      "['evidence-450619', 'evidence-627472', 'evidence-938381', 'evidence-1051708', 'evidence-410087', 'evidence-801956', 'evidence-551522', 'evidence-890534', 'evidence-279492', 'evidence-718195']\n"
     ]
    },
    {
     "name": "stderr",
     "output_type": "stream",
     "text": [
      "A decoder-only architecture is being used, but right-padding was detected! For correct generation results, please set `padding_side='left'` when initializing the tokenizer.\n"
     ]
    },
    {
     "name": "stdout",
     "output_type": "stream",
     "text": [
      "['evidence-61272', 'evidence-8063', 'evidence-657950', 'evidence-936703', 'evidence-1082770', 'evidence-332148', 'evidence-858513', 'evidence-1091550', 'evidence-1066292', 'evidence-831116']\n"
     ]
    },
    {
     "name": "stderr",
     "output_type": "stream",
     "text": [
      "A decoder-only architecture is being used, but right-padding was detected! For correct generation results, please set `padding_side='left'` when initializing the tokenizer.\n"
     ]
    },
    {
     "name": "stdout",
     "output_type": "stream",
     "text": [
      "['evidence-1062917', 'evidence-139165', 'evidence-768188', 'evidence-651795', 'evidence-438628', 'evidence-924788', 'evidence-860966', 'evidence-470508', 'evidence-442589', 'evidence-333326']\n"
     ]
    },
    {
     "name": "stderr",
     "output_type": "stream",
     "text": [
      "A decoder-only architecture is being used, but right-padding was detected! For correct generation results, please set `padding_side='left'` when initializing the tokenizer.\n"
     ]
    },
    {
     "name": "stdout",
     "output_type": "stream",
     "text": [
      "['evidence-1183711', 'evidence-265967', 'evidence-815795', 'evidence-95039', 'evidence-11688', 'evidence-1034628', 'evidence-631872', 'evidence-810957', 'evidence-287127', 'evidence-108706']\n"
     ]
    },
    {
     "name": "stderr",
     "output_type": "stream",
     "text": [
      "A decoder-only architecture is being used, but right-padding was detected! For correct generation results, please set `padding_side='left'` when initializing the tokenizer.\n"
     ]
    },
    {
     "name": "stdout",
     "output_type": "stream",
     "text": [
      "['evidence-488727', 'evidence-1102763', 'evidence-257475', 'evidence-1158606', 'evidence-956954', 'evidence-973268', 'evidence-620559', 'evidence-355487', 'evidence-721883', 'evidence-1132320']\n"
     ]
    },
    {
     "name": "stderr",
     "output_type": "stream",
     "text": [
      "A decoder-only architecture is being used, but right-padding was detected! For correct generation results, please set `padding_side='left'` when initializing the tokenizer.\n"
     ]
    },
    {
     "name": "stdout",
     "output_type": "stream",
     "text": [
      "['evidence-889119', 'evidence-1190705', 'evidence-29224', 'evidence-187502', 'evidence-454312', 'evidence-51664', 'evidence-539925', 'evidence-617501', 'evidence-410087', 'evidence-518358']\n"
     ]
    },
    {
     "name": "stderr",
     "output_type": "stream",
     "text": [
      "A decoder-only architecture is being used, but right-padding was detected! For correct generation results, please set `padding_side='left'` when initializing the tokenizer.\n"
     ]
    },
    {
     "name": "stdout",
     "output_type": "stream",
     "text": [
      "['evidence-968233', 'evidence-584152', 'evidence-1198065', 'evidence-834757', 'evidence-794227', 'evidence-1150148', 'evidence-185180', 'evidence-1054845', 'evidence-990313', 'evidence-366668']\n"
     ]
    },
    {
     "name": "stderr",
     "output_type": "stream",
     "text": [
      "A decoder-only architecture is being used, but right-padding was detected! For correct generation results, please set `padding_side='left'` when initializing the tokenizer.\n"
     ]
    },
    {
     "name": "stdout",
     "output_type": "stream",
     "text": [
      "['evidence-29963', 'evidence-559069', 'evidence-1034941', 'evidence-589546', 'evidence-471916', 'evidence-53596', 'evidence-280204', 'evidence-254811', 'evidence-247197', 'evidence-298628']\n"
     ]
    },
    {
     "name": "stderr",
     "output_type": "stream",
     "text": [
      "A decoder-only architecture is being used, but right-padding was detected! For correct generation results, please set `padding_side='left'` when initializing the tokenizer.\n"
     ]
    },
    {
     "name": "stdout",
     "output_type": "stream",
     "text": [
      "['evidence-133938', 'evidence-718136', 'evidence-963412', 'evidence-631053', 'evidence-549539', 'evidence-1119729', 'evidence-81396', 'evidence-128689', 'evidence-150709', 'evidence-118140']\n"
     ]
    },
    {
     "name": "stderr",
     "output_type": "stream",
     "text": [
      "A decoder-only architecture is being used, but right-padding was detected! For correct generation results, please set `padding_side='left'` when initializing the tokenizer.\n"
     ]
    },
    {
     "name": "stdout",
     "output_type": "stream",
     "text": [
      "['evidence-1099844', 'evidence-769821', 'evidence-962207', 'evidence-1067341', 'evidence-845541', 'evidence-529121', 'evidence-421276', 'evidence-779263', 'evidence-1069909', 'evidence-1020805']\n"
     ]
    },
    {
     "name": "stderr",
     "output_type": "stream",
     "text": [
      "A decoder-only architecture is being used, but right-padding was detected! For correct generation results, please set `padding_side='left'` when initializing the tokenizer.\n"
     ]
    },
    {
     "name": "stdout",
     "output_type": "stream",
     "text": [
      "['evidence-127999', 'evidence-1175347', 'evidence-285600', 'evidence-122504', 'evidence-684895', 'evidence-364924', 'evidence-1205331', 'evidence-848463', 'evidence-779966', 'evidence-700426']\n"
     ]
    },
    {
     "name": "stderr",
     "output_type": "stream",
     "text": [
      "A decoder-only architecture is being used, but right-padding was detected! For correct generation results, please set `padding_side='left'` when initializing the tokenizer.\n"
     ]
    },
    {
     "name": "stdout",
     "output_type": "stream",
     "text": [
      "['evidence-908316', 'evidence-479543', 'evidence-885836', 'evidence-346902', 'evidence-1047356', 'evidence-540478', 'evidence-315148', 'evidence-875371', 'evidence-979869', 'evidence-250931']\n"
     ]
    },
    {
     "name": "stderr",
     "output_type": "stream",
     "text": [
      "A decoder-only architecture is being used, but right-padding was detected! For correct generation results, please set `padding_side='left'` when initializing the tokenizer.\n"
     ]
    },
    {
     "name": "stdout",
     "output_type": "stream",
     "text": [
      "['evidence-446509', 'evidence-965161', 'evidence-1192617', 'evidence-636423', 'evidence-29077', 'evidence-75509', 'evidence-336860', 'evidence-171000', 'evidence-400437', 'evidence-82325']\n"
     ]
    },
    {
     "name": "stderr",
     "output_type": "stream",
     "text": [
      "A decoder-only architecture is being used, but right-padding was detected! For correct generation results, please set `padding_side='left'` when initializing the tokenizer.\n"
     ]
    },
    {
     "name": "stdout",
     "output_type": "stream",
     "text": [
      "['evidence-363958', 'evidence-415728', 'evidence-624594', 'evidence-628361', 'evidence-167011', 'evidence-23689', 'evidence-757938', 'evidence-548492', 'evidence-690855', 'evidence-163066']\n"
     ]
    },
    {
     "name": "stderr",
     "output_type": "stream",
     "text": [
      "A decoder-only architecture is being used, but right-padding was detected! For correct generation results, please set `padding_side='left'` when initializing the tokenizer.\n"
     ]
    },
    {
     "name": "stdout",
     "output_type": "stream",
     "text": [
      "['evidence-503460', 'evidence-1094467', 'evidence-1200842', 'evidence-489930', 'evidence-1007867', 'evidence-793124', 'evidence-814721', 'evidence-98115', 'evidence-51798', 'evidence-773904']\n"
     ]
    },
    {
     "name": "stderr",
     "output_type": "stream",
     "text": [
      "A decoder-only architecture is being used, but right-padding was detected! For correct generation results, please set `padding_side='left'` when initializing the tokenizer.\n"
     ]
    },
    {
     "name": "stdout",
     "output_type": "stream",
     "text": [
      "['evidence-575649', 'evidence-810126', 'evidence-1124018', 'evidence-19119', 'evidence-92119', 'evidence-255391', 'evidence-614574', 'evidence-608016', 'evidence-312865', 'evidence-127007']\n"
     ]
    },
    {
     "name": "stderr",
     "output_type": "stream",
     "text": [
      "A decoder-only architecture is being used, but right-padding was detected! For correct generation results, please set `padding_side='left'` when initializing the tokenizer.\n"
     ]
    },
    {
     "name": "stdout",
     "output_type": "stream",
     "text": [
      "['evidence-1174955', 'evidence-1142444', 'evidence-657030', 'evidence-412952', 'evidence-264263', 'evidence-794919', 'evidence-416007', 'evidence-724010', 'evidence-958457', 'evidence-741089']\n"
     ]
    },
    {
     "name": "stderr",
     "output_type": "stream",
     "text": [
      "A decoder-only architecture is being used, but right-padding was detected! For correct generation results, please set `padding_side='left'` when initializing the tokenizer.\n"
     ]
    },
    {
     "name": "stdout",
     "output_type": "stream",
     "text": [
      "['evidence-27495', 'evidence-875252', 'evidence-124035', 'evidence-166605', 'evidence-1084296', 'evidence-995233', 'evidence-749407', 'evidence-833614', 'evidence-900868', 'evidence-793682']\n"
     ]
    },
    {
     "name": "stderr",
     "output_type": "stream",
     "text": [
      "A decoder-only architecture is being used, but right-padding was detected! For correct generation results, please set `padding_side='left'` when initializing the tokenizer.\n"
     ]
    },
    {
     "name": "stdout",
     "output_type": "stream",
     "text": [
      "['evidence-529248', 'evidence-18368', 'evidence-116639', 'evidence-175787', 'evidence-780659', 'evidence-743206', 'evidence-179554', 'evidence-212614', 'evidence-1077625', 'evidence-427121']\n"
     ]
    },
    {
     "name": "stderr",
     "output_type": "stream",
     "text": [
      "A decoder-only architecture is being used, but right-padding was detected! For correct generation results, please set `padding_side='left'` when initializing the tokenizer.\n"
     ]
    },
    {
     "name": "stdout",
     "output_type": "stream",
     "text": [
      "['evidence-1049371', 'evidence-158204', 'evidence-616168', 'evidence-210167', 'evidence-223619', 'evidence-16169', 'evidence-950248', 'evidence-599055', 'evidence-956940', 'evidence-1111236']\n"
     ]
    },
    {
     "name": "stderr",
     "output_type": "stream",
     "text": [
      "A decoder-only architecture is being used, but right-padding was detected! For correct generation results, please set `padding_side='left'` when initializing the tokenizer.\n"
     ]
    },
    {
     "name": "stdout",
     "output_type": "stream",
     "text": [
      "['evidence-516402', 'evidence-693168', 'evidence-888963', 'evidence-404422', 'evidence-784559', 'evidence-792604', 'evidence-930414', 'evidence-774479', 'evidence-912662', 'evidence-391155']\n"
     ]
    },
    {
     "name": "stderr",
     "output_type": "stream",
     "text": [
      "A decoder-only architecture is being used, but right-padding was detected! For correct generation results, please set `padding_side='left'` when initializing the tokenizer.\n"
     ]
    },
    {
     "name": "stdout",
     "output_type": "stream",
     "text": [
      "['evidence-755597', 'evidence-725565', 'evidence-844144', 'evidence-803929', 'evidence-8793', 'evidence-894746', 'evidence-33576', 'evidence-71288', 'evidence-368473', 'evidence-575380']\n"
     ]
    },
    {
     "name": "stderr",
     "output_type": "stream",
     "text": [
      "A decoder-only architecture is being used, but right-padding was detected! For correct generation results, please set `padding_side='left'` when initializing the tokenizer.\n"
     ]
    },
    {
     "name": "stdout",
     "output_type": "stream",
     "text": [
      "['evidence-794055', 'evidence-227055', 'evidence-651403', 'evidence-864143', 'evidence-142656', 'evidence-341739', 'evidence-1061949', 'evidence-313955', 'evidence-206495', 'evidence-101509']\n"
     ]
    },
    {
     "name": "stderr",
     "output_type": "stream",
     "text": [
      "A decoder-only architecture is being used, but right-padding was detected! For correct generation results, please set `padding_side='left'` when initializing the tokenizer.\n"
     ]
    },
    {
     "name": "stdout",
     "output_type": "stream",
     "text": [
      "['evidence-725428', 'evidence-1068834', 'evidence-942779', 'evidence-1195607', 'evidence-945977', 'evidence-279393', 'evidence-947076', 'evidence-409754', 'evidence-5928', 'evidence-169104']\n"
     ]
    },
    {
     "name": "stderr",
     "output_type": "stream",
     "text": [
      "A decoder-only architecture is being used, but right-padding was detected! For correct generation results, please set `padding_side='left'` when initializing the tokenizer.\n"
     ]
    },
    {
     "name": "stdout",
     "output_type": "stream",
     "text": [
      "['evidence-429157', 'evidence-812408', 'evidence-371380', 'evidence-211360', 'evidence-81511', 'evidence-866265', 'evidence-1094979', 'evidence-431957', 'evidence-1160686', 'evidence-175598']\n"
     ]
    },
    {
     "name": "stderr",
     "output_type": "stream",
     "text": [
      "A decoder-only architecture is being used, but right-padding was detected! For correct generation results, please set `padding_side='left'` when initializing the tokenizer.\n"
     ]
    },
    {
     "name": "stdout",
     "output_type": "stream",
     "text": [
      "['evidence-990320', 'evidence-323541', 'evidence-937356', 'evidence-1075985', 'evidence-96441', 'evidence-617271', 'evidence-631826', 'evidence-633996', 'evidence-664539', 'evidence-221658']\n"
     ]
    },
    {
     "name": "stderr",
     "output_type": "stream",
     "text": [
      "A decoder-only architecture is being used, but right-padding was detected! For correct generation results, please set `padding_side='left'` when initializing the tokenizer.\n"
     ]
    },
    {
     "name": "stdout",
     "output_type": "stream",
     "text": [
      "['evidence-208863', 'evidence-269791', 'evidence-1155515', 'evidence-390216', 'evidence-1029618', 'evidence-207443', 'evidence-1178290', 'evidence-1115434', 'evidence-37274', 'evidence-1166955']\n"
     ]
    },
    {
     "name": "stderr",
     "output_type": "stream",
     "text": [
      "A decoder-only architecture is being used, but right-padding was detected! For correct generation results, please set `padding_side='left'` when initializing the tokenizer.\n"
     ]
    },
    {
     "name": "stdout",
     "output_type": "stream",
     "text": [
      "['evidence-318997', 'evidence-914993', 'evidence-299069', 'evidence-445359', 'evidence-298396', 'evidence-1098364', 'evidence-1086216', 'evidence-195729', 'evidence-213716', 'evidence-1200076']\n"
     ]
    },
    {
     "name": "stderr",
     "output_type": "stream",
     "text": [
      "A decoder-only architecture is being used, but right-padding was detected! For correct generation results, please set `padding_side='left'` when initializing the tokenizer.\n"
     ]
    },
    {
     "name": "stdout",
     "output_type": "stream",
     "text": [
      "['evidence-35625', 'evidence-1004521', 'evidence-90274', 'evidence-588917', 'evidence-469998', 'evidence-846475', 'evidence-149374', 'evidence-760798', 'evidence-1003462', 'evidence-691304']\n"
     ]
    },
    {
     "name": "stderr",
     "output_type": "stream",
     "text": [
      "A decoder-only architecture is being used, but right-padding was detected! For correct generation results, please set `padding_side='left'` when initializing the tokenizer.\n"
     ]
    },
    {
     "name": "stdout",
     "output_type": "stream",
     "text": [
      "['evidence-354016', 'evidence-763336', 'evidence-693024', 'evidence-563485', 'evidence-936836', 'evidence-1060245', 'evidence-285002', 'evidence-915272', 'evidence-358594', 'evidence-68566']\n"
     ]
    },
    {
     "name": "stderr",
     "output_type": "stream",
     "text": [
      "A decoder-only architecture is being used, but right-padding was detected! For correct generation results, please set `padding_side='left'` when initializing the tokenizer.\n"
     ]
    },
    {
     "name": "stdout",
     "output_type": "stream",
     "text": [
      "['evidence-1190716', 'evidence-1074121', 'evidence-885209', 'evidence-553459', 'evidence-289779', 'evidence-481333', 'evidence-1162415', 'evidence-119592', 'evidence-1087907', 'evidence-230286']\n"
     ]
    },
    {
     "name": "stderr",
     "output_type": "stream",
     "text": [
      "A decoder-only architecture is being used, but right-padding was detected! For correct generation results, please set `padding_side='left'` when initializing the tokenizer.\n"
     ]
    },
    {
     "name": "stdout",
     "output_type": "stream",
     "text": [
      "['evidence-572512', 'evidence-48256', 'evidence-67732', 'evidence-622374', 'evidence-1075134', 'evidence-1050894', 'evidence-32901', 'evidence-780332', 'evidence-866329', 'evidence-1070419']\n"
     ]
    },
    {
     "name": "stderr",
     "output_type": "stream",
     "text": [
      "A decoder-only architecture is being used, but right-padding was detected! For correct generation results, please set `padding_side='left'` when initializing the tokenizer.\n"
     ]
    },
    {
     "name": "stdout",
     "output_type": "stream",
     "text": [
      "['evidence-986681', 'evidence-274044', 'evidence-481206', 'evidence-80853', 'evidence-844426', 'evidence-179283', 'evidence-548137', 'evidence-706949', 'evidence-991415', 'evidence-108078']\n"
     ]
    },
    {
     "name": "stderr",
     "output_type": "stream",
     "text": [
      "A decoder-only architecture is being used, but right-padding was detected! For correct generation results, please set `padding_side='left'` when initializing the tokenizer.\n"
     ]
    },
    {
     "name": "stdout",
     "output_type": "stream",
     "text": [
      "['evidence-578925', 'evidence-1105120', 'evidence-862997', 'evidence-726838', 'evidence-565971', 'evidence-143437', 'evidence-823621', 'evidence-602665', 'evidence-840950', 'evidence-133419']\n"
     ]
    },
    {
     "name": "stderr",
     "output_type": "stream",
     "text": [
      "A decoder-only architecture is being used, but right-padding was detected! For correct generation results, please set `padding_side='left'` when initializing the tokenizer.\n"
     ]
    },
    {
     "name": "stdout",
     "output_type": "stream",
     "text": [
      "['evidence-453529', 'evidence-714675', 'evidence-260744', 'evidence-175965', 'evidence-667703', 'evidence-930564', 'evidence-953997', 'evidence-1021635', 'evidence-185243', 'evidence-13780']\n"
     ]
    },
    {
     "name": "stderr",
     "output_type": "stream",
     "text": [
      "A decoder-only architecture is being used, but right-padding was detected! For correct generation results, please set `padding_side='left'` when initializing the tokenizer.\n"
     ]
    },
    {
     "name": "stdout",
     "output_type": "stream",
     "text": [
      "['evidence-941768', 'evidence-864757', 'evidence-44389', 'evidence-300085', 'evidence-75631', 'evidence-7561', 'evidence-185180', 'evidence-1046773', 'evidence-1016669', 'evidence-1007486']\n"
     ]
    },
    {
     "name": "stderr",
     "output_type": "stream",
     "text": [
      "A decoder-only architecture is being used, but right-padding was detected! For correct generation results, please set `padding_side='left'` when initializing the tokenizer.\n"
     ]
    },
    {
     "name": "stdout",
     "output_type": "stream",
     "text": [
      "['evidence-55991', 'evidence-510034', 'evidence-808385', 'evidence-220020', 'evidence-453635', 'evidence-889119', 'evidence-662931', 'evidence-410087', 'evidence-508812', 'evidence-94272']\n"
     ]
    },
    {
     "name": "stderr",
     "output_type": "stream",
     "text": [
      "A decoder-only architecture is being used, but right-padding was detected! For correct generation results, please set `padding_side='left'` when initializing the tokenizer.\n"
     ]
    },
    {
     "name": "stdout",
     "output_type": "stream",
     "text": [
      "['evidence-613135', 'evidence-399231', 'evidence-657496', 'evidence-1184683', 'evidence-648764', 'evidence-498380', 'evidence-625563', 'evidence-203533', 'evidence-504449', 'evidence-874346']\n"
     ]
    },
    {
     "name": "stderr",
     "output_type": "stream",
     "text": [
      "A decoder-only architecture is being used, but right-padding was detected! For correct generation results, please set `padding_side='left'` when initializing the tokenizer.\n"
     ]
    },
    {
     "name": "stdout",
     "output_type": "stream",
     "text": [
      "['evidence-580567', 'evidence-369389', 'evidence-1001116', 'evidence-386380', 'evidence-1048388', 'evidence-744921', 'evidence-257034', 'evidence-705942', 'evidence-509648', 'evidence-97587']\n"
     ]
    },
    {
     "name": "stderr",
     "output_type": "stream",
     "text": [
      "A decoder-only architecture is being used, but right-padding was detected! For correct generation results, please set `padding_side='left'` when initializing the tokenizer.\n"
     ]
    },
    {
     "name": "stdout",
     "output_type": "stream",
     "text": [
      "['evidence-526112', 'evidence-366949', 'evidence-510347', 'evidence-488270', 'evidence-475230', 'evidence-980959', 'evidence-107116', 'evidence-529355', 'evidence-526003', 'evidence-1056020']\n"
     ]
    },
    {
     "name": "stderr",
     "output_type": "stream",
     "text": [
      "A decoder-only architecture is being used, but right-padding was detected! For correct generation results, please set `padding_side='left'` when initializing the tokenizer.\n"
     ]
    },
    {
     "name": "stdout",
     "output_type": "stream",
     "text": [
      "['evidence-1175280', 'evidence-1050619', 'evidence-754191', 'evidence-930563', 'evidence-748548', 'evidence-326643', 'evidence-608016', 'evidence-1196738', 'evidence-877068', 'evidence-900586']\n"
     ]
    },
    {
     "data": {
      "text/plain": [
       "{'claim-752': {'initial_evidences': ['evidence-67732',\n",
       "   'evidence-572512',\n",
       "   'evidence-780332',\n",
       "   'evidence-1061888',\n",
       "   'evidence-452156',\n",
       "   'evidence-685728',\n",
       "   'evidence-48256',\n",
       "   'evidence-1002110',\n",
       "   'evidence-1050894',\n",
       "   'evidence-1075134'],\n",
       "  'claim_text': '[South Australia] has the most expensive electricity in the world.',\n",
       "  'filtered_evidences': ['evidence-1075134',\n",
       "   'evidence-67732',\n",
       "   'evidence-572512',\n",
       "   'evidence-780332',\n",
       "   'evidence-1061888']},\n",
       " 'claim-375': {'initial_evidences': ['evidence-647121',\n",
       "   'evidence-559290',\n",
       "   'evidence-415619',\n",
       "   'evidence-361694',\n",
       "   'evidence-949910',\n",
       "   'evidence-970402',\n",
       "   'evidence-121187',\n",
       "   'evidence-866495',\n",
       "   'evidence-1075865',\n",
       "   'evidence-419267'],\n",
       "  'claim_text': 'when 3 per cent of total annual global emissions of carbon dioxide are from humans and Australia prod\\xaduces 1.3 per cent of this 3 per cent, then no amount of emissions reductio\\xadn here will have any effect on global climate.',\n",
       "  'filtered_evidences': ['evidence-647121',\n",
       "   'evidence-559290',\n",
       "   'evidence-415619',\n",
       "   'evidence-361694',\n",
       "   'evidence-949910']},\n",
       " 'claim-1266': {'initial_evidences': ['evidence-694262',\n",
       "   'evidence-403673',\n",
       "   'evidence-332770',\n",
       "   'evidence-527805',\n",
       "   'evidence-1084381',\n",
       "   'evidence-842114',\n",
       "   'evidence-112875',\n",
       "   'evidence-1086865',\n",
       "   'evidence-343576',\n",
       "   'evidence-937622'],\n",
       "  'claim_text': 'This means that the world is now 1C warmer than it was in pre-industrial times',\n",
       "  'filtered_evidences': ['evidence-694262',\n",
       "   'evidence-403673',\n",
       "   'evidence-332770',\n",
       "   'evidence-527805',\n",
       "   'evidence-1084381']},\n",
       " 'claim-871': {'initial_evidences': ['evidence-472751',\n",
       "   'evidence-745642',\n",
       "   'evidence-856375',\n",
       "   'evidence-641043',\n",
       "   'evidence-101223',\n",
       "   'evidence-771374',\n",
       "   'evidence-15816',\n",
       "   'evidence-818689',\n",
       "   'evidence-553214',\n",
       "   'evidence-888192'],\n",
       "  'claim_text': '“As it happens, Zika may also be a good model of the second worrying effect — disease mutation.',\n",
       "  'filtered_evidences': ['evidence-15816',\n",
       "   'evidence-472751',\n",
       "   'evidence-745642',\n",
       "   'evidence-856375',\n",
       "   'evidence-641043']},\n",
       " 'claim-2164': {'initial_evidences': ['evidence-264761',\n",
       "   'evidence-52981',\n",
       "   'evidence-44751',\n",
       "   'evidence-640229',\n",
       "   'evidence-691825',\n",
       "   'evidence-858437',\n",
       "   'evidence-1200633',\n",
       "   'evidence-1041564',\n",
       "   'evidence-725045',\n",
       "   'evidence-710110'],\n",
       "  'claim_text': 'Greenland has only lost a tiny fraction of its ice mass',\n",
       "  'filtered_evidences': ['evidence-264761',\n",
       "   'evidence-52981',\n",
       "   'evidence-640229',\n",
       "   'evidence-1200633',\n",
       "   'evidence-1041564']},\n",
       " 'claim-1607': {'initial_evidences': ['evidence-94272',\n",
       "   'evidence-866495',\n",
       "   'evidence-1075865',\n",
       "   'evidence-210167',\n",
       "   'evidence-632574',\n",
       "   'evidence-677627',\n",
       "   'evidence-453635',\n",
       "   'evidence-381399',\n",
       "   'evidence-730469',\n",
       "   'evidence-1154637'],\n",
       "  'claim_text': \"CO2 limits won't cool the planet.\",\n",
       "  'filtered_evidences': ['evidence-94272',\n",
       "   'evidence-866495',\n",
       "   'evidence-1075865',\n",
       "   'evidence-210167',\n",
       "   'evidence-632574']},\n",
       " 'claim-761': {'initial_evidences': ['evidence-908113',\n",
       "   'evidence-386068',\n",
       "   'evidence-1129386',\n",
       "   'evidence-773994',\n",
       "   'evidence-462912',\n",
       "   'evidence-358086',\n",
       "   'evidence-220190',\n",
       "   'evidence-901197',\n",
       "   'evidence-276290',\n",
       "   'evidence-166324'],\n",
       "  'claim_text': '[Riebesell] is a world authority on the topic and has typically communicated cautiously about the effects of acidification.',\n",
       "  'filtered_evidences': ['evidence-908113',\n",
       "   'evidence-386068',\n",
       "   'evidence-1129386',\n",
       "   'evidence-773994',\n",
       "   'evidence-462912']},\n",
       " 'claim-1718': {'initial_evidences': ['evidence-734024',\n",
       "   'evidence-534425',\n",
       "   'evidence-956812',\n",
       "   'evidence-1071200',\n",
       "   'evidence-792207',\n",
       "   'evidence-356178',\n",
       "   'evidence-1119853',\n",
       "   'evidence-322438',\n",
       "   'evidence-430670',\n",
       "   'evidence-164201'],\n",
       "  'claim_text': 'The actual data show high northern latitudes are warmer today than in 1940.',\n",
       "  'filtered_evidences': ['evidence-734024',\n",
       "   'evidence-534425',\n",
       "   'evidence-956812',\n",
       "   'evidence-1071200',\n",
       "   'evidence-792207']},\n",
       " 'claim-1273': {'initial_evidences': ['evidence-81628',\n",
       "   'evidence-938028',\n",
       "   'evidence-181656',\n",
       "   'evidence-470476',\n",
       "   'evidence-789848',\n",
       "   'evidence-660972',\n",
       "   'evidence-6787',\n",
       "   'evidence-516721',\n",
       "   'evidence-1001780',\n",
       "   'evidence-1192101'],\n",
       "  'claim_text': 'The rapid changes in the climate may have profound consequences for humans and other species… Severe drought caused food shortages for millions of people in Ethiopia, with a lack of rainfall resulting in “intense and widespread” forest fires in Indonesia that belched out a vast quantity of greenhouse gas',\n",
       "  'filtered_evidences': ['evidence-81628',\n",
       "   'evidence-938028',\n",
       "   'evidence-181656',\n",
       "   'evidence-470476',\n",
       "   'evidence-789848']},\n",
       " 'claim-1786': {'initial_evidences': ['evidence-270324',\n",
       "   'evidence-91026',\n",
       "   'evidence-1131134',\n",
       "   'evidence-321341',\n",
       "   'evidence-416567',\n",
       "   'evidence-52744',\n",
       "   'evidence-313483',\n",
       "   'evidence-169186',\n",
       "   'evidence-446603',\n",
       "   'evidence-54880'],\n",
       "  'claim_text': 'CFCs contribute to global waerming at a small level.',\n",
       "  'filtered_evidences': ['evidence-270324',\n",
       "   'evidence-91026',\n",
       "   'evidence-1131134',\n",
       "   'evidence-321341',\n",
       "   'evidence-416567']},\n",
       " 'claim-2796': {'initial_evidences': ['evidence-599055',\n",
       "   'evidence-604296',\n",
       "   'evidence-256785',\n",
       "   'evidence-485896',\n",
       "   'evidence-1116760',\n",
       "   'evidence-1124385',\n",
       "   'evidence-27377',\n",
       "   'evidence-16169',\n",
       "   'evidence-78265',\n",
       "   'evidence-977792'],\n",
       "  'claim_text': 'Had he used the currently accepted value of approximately 3°C warming for a doubling of atmospheric CO2, Hansen would have correctly projected the ensuing global warming.',\n",
       "  'filtered_evidences': ['evidence-599055',\n",
       "   'evidence-604296',\n",
       "   'evidence-256785',\n",
       "   'evidence-485896',\n",
       "   'evidence-1116760']},\n",
       " 'claim-2580': {'initial_evidences': ['evidence-208053',\n",
       "   'evidence-425667',\n",
       "   'evidence-15399',\n",
       "   'evidence-273631',\n",
       "   'evidence-157943',\n",
       "   'evidence-243372',\n",
       "   'evidence-186411',\n",
       "   'evidence-1177233',\n",
       "   'evidence-204526',\n",
       "   'evidence-1198348'],\n",
       "  'claim_text': 'Volcanoes emit around 0.3 billion tonnes of CO2 per year.',\n",
       "  'filtered_evidences': ['evidence-208053',\n",
       "   'evidence-425667',\n",
       "   'evidence-15399',\n",
       "   'evidence-273631',\n",
       "   'evidence-157943']},\n",
       " 'claim-1219': {'initial_evidences': ['evidence-894521',\n",
       "   'evidence-797505',\n",
       "   'evidence-975870',\n",
       "   'evidence-799984',\n",
       "   'evidence-665226',\n",
       "   'evidence-1088478',\n",
       "   'evidence-29528',\n",
       "   'evidence-118577',\n",
       "   'evidence-171206',\n",
       "   'evidence-59240'],\n",
       "  'claim_text': 'Global warming is driving major melting on the surface of Greenland’s glaciers and is speeding up their travel into the sea.”',\n",
       "  'filtered_evidences': ['evidence-894521',\n",
       "   'evidence-797505',\n",
       "   'evidence-975870',\n",
       "   'evidence-799984',\n",
       "   'evidence-665226']},\n",
       " 'claim-75': {'initial_evidences': ['evidence-1186875',\n",
       "   'evidence-421870',\n",
       "   'evidence-1073433',\n",
       "   'evidence-817269',\n",
       "   'evidence-539221',\n",
       "   'evidence-1065728',\n",
       "   'evidence-707408',\n",
       "   'evidence-123812',\n",
       "   'evidence-646466',\n",
       "   'evidence-731284'],\n",
       "  'claim_text': 'The science is clear, climate change is making extreme weather events, including tornadoes, worse.',\n",
       "  'filtered_evidences': ['evidence-1073433',\n",
       "   'evidence-1186875',\n",
       "   'evidence-421870',\n",
       "   'evidence-817269',\n",
       "   'evidence-539221']},\n",
       " 'claim-2813': {'initial_evidences': ['evidence-526818',\n",
       "   'evidence-158204',\n",
       "   'evidence-223619',\n",
       "   'evidence-779966',\n",
       "   'evidence-78884',\n",
       "   'evidence-848463',\n",
       "   'evidence-1127057',\n",
       "   'evidence-1042857',\n",
       "   'evidence-1008952',\n",
       "   'evidence-700426'],\n",
       "  'claim_text': 'In fact, the authors go on to estimate climate sensitivity from their findings, calculate a value between 2.3 to 4.1°C.',\n",
       "  'filtered_evidences': ['evidence-526818',\n",
       "   'evidence-158204',\n",
       "   'evidence-223619',\n",
       "   'evidence-779966',\n",
       "   'evidence-78884']},\n",
       " 'claim-2335': {'initial_evidences': ['evidence-1007525',\n",
       "   'evidence-558580',\n",
       "   'evidence-651900',\n",
       "   'evidence-985452',\n",
       "   'evidence-442589',\n",
       "   'evidence-368192',\n",
       "   'evidence-687835',\n",
       "   'evidence-855992',\n",
       "   'evidence-399231',\n",
       "   'evidence-348895'],\n",
       "  'claim_text': 'Satellite measurements of infrared spectra over the past 40 years observe less energy escaping to space at the wavelengths associated with CO2.',\n",
       "  'filtered_evidences': ['evidence-1007525',\n",
       "   'evidence-558580',\n",
       "   'evidence-651900',\n",
       "   'evidence-985452',\n",
       "   'evidence-442589']},\n",
       " 'claim-161': {'initial_evidences': ['evidence-1005403',\n",
       "   'evidence-954808',\n",
       "   'evidence-569938',\n",
       "   'evidence-384007',\n",
       "   'evidence-223772',\n",
       "   'evidence-1192872',\n",
       "   'evidence-797505',\n",
       "   'evidence-785015',\n",
       "   'evidence-126945',\n",
       "   'evidence-548766'],\n",
       "  'claim_text': 'Extreme melting and changes to the climate like this has released pressure on to the continent, allowing the ground to rise up.',\n",
       "  'filtered_evidences': ['evidence-548766',\n",
       "   'evidence-1005403',\n",
       "   'evidence-954808',\n",
       "   'evidence-569938',\n",
       "   'evidence-384007']},\n",
       " 'claim-2243': {'initial_evidences': ['evidence-190063',\n",
       "   'evidence-625563',\n",
       "   'evidence-1040875',\n",
       "   'evidence-608418',\n",
       "   'evidence-326733',\n",
       "   'evidence-530201',\n",
       "   'evidence-220020',\n",
       "   'evidence-1160125',\n",
       "   'evidence-106073',\n",
       "   'evidence-121664'],\n",
       "  'claim_text': 'The CO2 amplifies the warming and mixes through the atmosphere, spreading warming throughout the planet.',\n",
       "  'filtered_evidences': ['evidence-190063',\n",
       "   'evidence-625563',\n",
       "   'evidence-1040875',\n",
       "   'evidence-608418',\n",
       "   'evidence-326733']},\n",
       " 'claim-1256': {'initial_evidences': ['evidence-586254',\n",
       "   'evidence-1107462',\n",
       "   'evidence-111881',\n",
       "   'evidence-731434',\n",
       "   'evidence-39028',\n",
       "   'evidence-114604',\n",
       "   'evidence-957020',\n",
       "   'evidence-954212',\n",
       "   'evidence-286845',\n",
       "   'evidence-256960'],\n",
       "  'claim_text': '‘Next year or the year after, the Arctic will be free of ice’',\n",
       "  'filtered_evidences': ['evidence-954212',\n",
       "   'evidence-111881',\n",
       "   'evidence-1107462',\n",
       "   'evidence-731434',\n",
       "   'evidence-39028']},\n",
       " 'claim-506': {'initial_evidences': ['evidence-886611',\n",
       "   'evidence-720171',\n",
       "   'evidence-488270',\n",
       "   'evidence-510347',\n",
       "   'evidence-1079971',\n",
       "   'evidence-259826',\n",
       "   'evidence-36994',\n",
       "   'evidence-517090',\n",
       "   'evidence-64777',\n",
       "   'evidence-222883'],\n",
       "  'claim_text': 'More than 100 climate models over the past 30 years did not predict what actually happened because it was assumed carbon dioxide had the pivotal role in driving climate change and that the effects of clouds, back-radiation and the sun were trivial.',\n",
       "  'filtered_evidences': ['evidence-886611',\n",
       "   'evidence-720171',\n",
       "   'evidence-488270',\n",
       "   'evidence-510347',\n",
       "   'evidence-1079971']},\n",
       " 'claim-369': {'initial_evidences': ['evidence-411817',\n",
       "   'evidence-1020001',\n",
       "   'evidence-783884',\n",
       "   'evidence-374084',\n",
       "   'evidence-964861',\n",
       "   'evidence-123917',\n",
       "   'evidence-586254',\n",
       "   'evidence-392335',\n",
       "   'evidence-756019',\n",
       "   'evidence-306587'],\n",
       "  'claim_text': 'By 2050 there’s a scientific consensus that we reached the tipping point for ice sheets in Greenland and the West Antarctic',\n",
       "  'filtered_evidences': ['evidence-411817',\n",
       "   'evidence-1020001',\n",
       "   'evidence-783884',\n",
       "   'evidence-374084',\n",
       "   'evidence-964861']},\n",
       " 'claim-2184': {'initial_evidences': ['evidence-894734',\n",
       "   'evidence-612560',\n",
       "   'evidence-882011',\n",
       "   'evidence-196041',\n",
       "   'evidence-607697',\n",
       "   'evidence-84979',\n",
       "   'evidence-650615',\n",
       "   'evidence-741149',\n",
       "   'evidence-1112861',\n",
       "   'evidence-320996'],\n",
       "  'claim_text': 'We have had ice ages and warmer periods when alligators were found in Spitzbergen.',\n",
       "  'filtered_evidences': ['evidence-650615',\n",
       "   'evidence-894734',\n",
       "   'evidence-612560',\n",
       "   'evidence-882011',\n",
       "   'evidence-196041']},\n",
       " 'claim-1057': {'initial_evidences': ['evidence-754329',\n",
       "   'evidence-1174820',\n",
       "   'evidence-75640',\n",
       "   'evidence-918262',\n",
       "   'evidence-69294',\n",
       "   'evidence-487201',\n",
       "   'evidence-178152',\n",
       "   'evidence-19584',\n",
       "   'evidence-835367',\n",
       "   'evidence-738452'],\n",
       "  'claim_text': '“Moreover, the ocean already contains so-called oxygen minimum zones, generally found in the middle depths.',\n",
       "  'filtered_evidences': ['evidence-754329',\n",
       "   'evidence-738452',\n",
       "   'evidence-835367',\n",
       "   'evidence-1174820',\n",
       "   'evidence-75640']},\n",
       " 'claim-104': {'initial_evidences': ['evidence-262028',\n",
       "   'evidence-801082',\n",
       "   'evidence-121664',\n",
       "   'evidence-714864',\n",
       "   'evidence-178206',\n",
       "   'evidence-843608',\n",
       "   'evidence-368192',\n",
       "   'evidence-814004',\n",
       "   'evidence-725977',\n",
       "   'evidence-100461'],\n",
       "  'claim_text': 'Increases in atmospheric CO2 followed increases in temperature.',\n",
       "  'filtered_evidences': ['evidence-262028',\n",
       "   'evidence-801082',\n",
       "   'evidence-121664',\n",
       "   'evidence-714864',\n",
       "   'evidence-178206']},\n",
       " 'claim-1975': {'initial_evidences': ['evidence-1077486',\n",
       "   'evidence-148977',\n",
       "   'evidence-264263',\n",
       "   'evidence-903248',\n",
       "   'evidence-323097',\n",
       "   'evidence-738480',\n",
       "   'evidence-1032278',\n",
       "   'evidence-976802',\n",
       "   'evidence-159348',\n",
       "   'evidence-890015'],\n",
       "  'claim_text': 'The claim that 97 percent of scientists believe humans are causing climate change has been debunked by the \"head\" of the United Nations Intergovernmental Panel on Climate Change.',\n",
       "  'filtered_evidences': ['evidence-1077486',\n",
       "   'evidence-148977',\n",
       "   'evidence-264263',\n",
       "   'evidence-903248',\n",
       "   'evidence-323097']},\n",
       " 'claim-139': {'initial_evidences': ['evidence-189592',\n",
       "   'evidence-867005',\n",
       "   'evidence-308708',\n",
       "   'evidence-965363',\n",
       "   'evidence-752013',\n",
       "   'evidence-1099922',\n",
       "   'evidence-95782',\n",
       "   'evidence-416399',\n",
       "   'evidence-359101',\n",
       "   'evidence-398463'],\n",
       "  'claim_text': 'And in January, one out of five British children told pollsters they were having nightmares about climate change.',\n",
       "  'filtered_evidences': ['evidence-867005',\n",
       "   'evidence-416399',\n",
       "   'evidence-398463',\n",
       "   'evidence-189592',\n",
       "   'evidence-308708']},\n",
       " 'claim-2062': {'initial_evidences': ['evidence-1001780',\n",
       "   'evidence-287752',\n",
       "   'evidence-457045',\n",
       "   'evidence-940688',\n",
       "   'evidence-13434',\n",
       "   'evidence-894521',\n",
       "   'evidence-1115033',\n",
       "   'evidence-601209',\n",
       "   'evidence-773685',\n",
       "   'evidence-123812'],\n",
       "  'claim_text': 'Global warming is increasing the magnitude and frequency of droughts and floods.',\n",
       "  'filtered_evidences': ['evidence-1001780',\n",
       "   'evidence-287752',\n",
       "   'evidence-457045',\n",
       "   'evidence-940688',\n",
       "   'evidence-13434']},\n",
       " 'claim-1160': {'initial_evidences': ['evidence-662931',\n",
       "   'evidence-94272',\n",
       "   'evidence-1100614',\n",
       "   'evidence-609211',\n",
       "   'evidence-165820',\n",
       "   'evidence-510034',\n",
       "   'evidence-1205623',\n",
       "   'evidence-382260',\n",
       "   'evidence-620559',\n",
       "   'evidence-468321'],\n",
       "  'claim_text': 'With more CO2 in the atmosphere, the challenge [feeding 2.5 billion more people] can and will be met.',\n",
       "  'filtered_evidences': ['evidence-662931',\n",
       "   'evidence-94272',\n",
       "   'evidence-1100614',\n",
       "   'evidence-609211',\n",
       "   'evidence-165820']},\n",
       " 'claim-2679': {'initial_evidences': ['evidence-1078744',\n",
       "   'evidence-450619',\n",
       "   'evidence-951599',\n",
       "   'evidence-291872',\n",
       "   'evidence-731175',\n",
       "   'evidence-1031822',\n",
       "   'evidence-29224',\n",
       "   'evidence-269643',\n",
       "   'evidence-504449',\n",
       "   'evidence-902582'],\n",
       "  'claim_text': '\"The solubility of carbon dioxide in water is listed in the Handbook of Chemistry and Physics as a declining function of temperature. ...',\n",
       "  'filtered_evidences': ['evidence-1031822',\n",
       "   'evidence-29224',\n",
       "   'evidence-1078744',\n",
       "   'evidence-450619',\n",
       "   'evidence-951599']},\n",
       " 'claim-2662': {'initial_evidences': ['evidence-551522',\n",
       "   'evidence-962456',\n",
       "   'evidence-399231',\n",
       "   'evidence-356854',\n",
       "   'evidence-1018042',\n",
       "   'evidence-545279',\n",
       "   'evidence-247672',\n",
       "   'evidence-772019',\n",
       "   'evidence-512936',\n",
       "   'evidence-630891'],\n",
       "  'claim_text': '\"...there is the contention by Wolfgang Knorr of the Department of Earth Sciences at the University of Bristol in England that carbon dioxide levels in the atmosphere are about where they were 160 years ago.\" (as quoted by Ken Ward Jr.)',\n",
       "  'filtered_evidences': ['evidence-551522',\n",
       "   'evidence-962456',\n",
       "   'evidence-399231',\n",
       "   'evidence-356854',\n",
       "   'evidence-1018042']},\n",
       " 'claim-1490': {'initial_evidences': ['evidence-551522',\n",
       "   'evidence-648764',\n",
       "   'evidence-1018042',\n",
       "   'evidence-356854',\n",
       "   'evidence-247672',\n",
       "   'evidence-1190705',\n",
       "   'evidence-973577',\n",
       "   'evidence-788947',\n",
       "   'evidence-252580',\n",
       "   'evidence-620559'],\n",
       "  'claim_text': 'the concentration of carbon dioxide in Earth’s atmosphere has climbed to a level last seen more than 3 million years ago — before humans even appeared on the rocky ball we call home.',\n",
       "  'filtered_evidences': ['evidence-551522',\n",
       "   'evidence-648764',\n",
       "   'evidence-1018042',\n",
       "   'evidence-356854',\n",
       "   'evidence-247672']},\n",
       " 'claim-2768': {'initial_evidences': ['evidence-898871',\n",
       "   'evidence-311416',\n",
       "   'evidence-933078',\n",
       "   'evidence-161094',\n",
       "   'evidence-352954',\n",
       "   'evidence-594740',\n",
       "   'evidence-281727',\n",
       "   'evidence-385147',\n",
       "   'evidence-1101211',\n",
       "   'evidence-468656'],\n",
       "  'claim_text': 'The long term trend from albedo is that of cooling.',\n",
       "  'filtered_evidences': ['evidence-898871',\n",
       "   'evidence-311416',\n",
       "   'evidence-933078',\n",
       "   'evidence-161094',\n",
       "   'evidence-352954']},\n",
       " 'claim-2168': {'initial_evidences': ['evidence-701955',\n",
       "   'evidence-41418',\n",
       "   'evidence-435467',\n",
       "   'evidence-1174708',\n",
       "   'evidence-665314',\n",
       "   'evidence-145828',\n",
       "   'evidence-1028610',\n",
       "   'evidence-342078',\n",
       "   'evidence-387450',\n",
       "   'evidence-1082452'],\n",
       "  'claim_text': 'IPCC graph showing accelerating trends is misleading',\n",
       "  'filtered_evidences': ['evidence-342078',\n",
       "   'evidence-701955',\n",
       "   'evidence-435467',\n",
       "   'evidence-41418',\n",
       "   'evidence-1174708']},\n",
       " 'claim-785': {'initial_evidences': ['evidence-973064',\n",
       "   'evidence-725436',\n",
       "   'evidence-365357',\n",
       "   'evidence-381950',\n",
       "   'evidence-363372',\n",
       "   'evidence-707408',\n",
       "   'evidence-82292',\n",
       "   'evidence-593737',\n",
       "   'evidence-519752',\n",
       "   'evidence-734872'],\n",
       "  'claim_text': 'In many other cases, though — hurricanes, for example — the linkage to global warming for particular trends is uncertain or disputed.',\n",
       "  'filtered_evidences': ['evidence-973064',\n",
       "   'evidence-725436',\n",
       "   'evidence-365357',\n",
       "   'evidence-381950',\n",
       "   'evidence-363372']},\n",
       " 'claim-2426': {'initial_evidences': ['evidence-461050',\n",
       "   'evidence-846475',\n",
       "   'evidence-185243',\n",
       "   'evidence-410700',\n",
       "   'evidence-433225',\n",
       "   'evidence-301035',\n",
       "   'evidence-260744',\n",
       "   'evidence-734872',\n",
       "   'evidence-89411',\n",
       "   'evidence-529426'],\n",
       "  'claim_text': '\"Twentieth century global warming did not start until  1910.',\n",
       "  'filtered_evidences': ['evidence-461050',\n",
       "   'evidence-846475',\n",
       "   'evidence-185243',\n",
       "   'evidence-410700',\n",
       "   'evidence-433225']},\n",
       " 'claim-1292': {'initial_evidences': ['evidence-561041',\n",
       "   'evidence-342343',\n",
       "   'evidence-679387',\n",
       "   'evidence-708859',\n",
       "   'evidence-984836',\n",
       "   'evidence-986334',\n",
       "   'evidence-1150743',\n",
       "   'evidence-238974',\n",
       "   'evidence-190384',\n",
       "   'evidence-1084082'],\n",
       "  'claim_text': 'Any reasonable person can recognize both positives and negatives among the policy proposals of both Tories and Labour.',\n",
       "  'filtered_evidences': ['evidence-1150743',\n",
       "   'evidence-190384',\n",
       "   'evidence-561041',\n",
       "   'evidence-342343',\n",
       "   'evidence-679387']},\n",
       " 'claim-993': {'initial_evidences': ['evidence-1108581',\n",
       "   'evidence-627319',\n",
       "   'evidence-431693',\n",
       "   'evidence-811585',\n",
       "   'evidence-497518',\n",
       "   'evidence-1094759',\n",
       "   'evidence-958600',\n",
       "   'evidence-514779',\n",
       "   'evidence-1049692',\n",
       "   'evidence-192836'],\n",
       "  'claim_text': 'While there has been a mean rise of a little more than 3mm per year worldwide since the 1990s, in the last decade, the NOAA Virginia Key tide gauge just south of Miami Beach has measured a 9mm rise annually.”',\n",
       "  'filtered_evidences': ['evidence-1108581',\n",
       "   'evidence-627319',\n",
       "   'evidence-431693',\n",
       "   'evidence-811585',\n",
       "   'evidence-497518']},\n",
       " 'claim-2593': {'initial_evidences': ['evidence-792877',\n",
       "   'evidence-947243',\n",
       "   'evidence-1124123',\n",
       "   'evidence-1198644',\n",
       "   'evidence-447955',\n",
       "   'evidence-77016',\n",
       "   'evidence-39028',\n",
       "   'evidence-399454',\n",
       "   'evidence-977735',\n",
       "   'evidence-118577'],\n",
       "  'claim_text': '[T]he study indicates “Greenland’s ice may be less susceptible to the massive meltdown predicted by computer models of climate change, the main author ... said in an interview. ...',\n",
       "  'filtered_evidences': ['evidence-39028',\n",
       "   'evidence-977735',\n",
       "   'evidence-792877',\n",
       "   'evidence-947243',\n",
       "   'evidence-1124123']},\n",
       " 'claim-1567': {'initial_evidences': ['evidence-621880',\n",
       "   'evidence-968233',\n",
       "   'evidence-834978',\n",
       "   'evidence-794227',\n",
       "   'evidence-424893',\n",
       "   'evidence-920160',\n",
       "   'evidence-913626',\n",
       "   'evidence-902107',\n",
       "   'evidence-470418',\n",
       "   'evidence-6590'],\n",
       "  'claim_text': 'IPCC overestimate temperature rise.',\n",
       "  'filtered_evidences': ['evidence-902107',\n",
       "   'evidence-424893',\n",
       "   'evidence-834978',\n",
       "   'evidence-913626',\n",
       "   'evidence-470418']},\n",
       " 'claim-1834': {'initial_evidences': ['evidence-1161423',\n",
       "   'evidence-1184683',\n",
       "   'evidence-502356',\n",
       "   'evidence-731175',\n",
       "   'evidence-836972',\n",
       "   'evidence-173323',\n",
       "   'evidence-308405',\n",
       "   'evidence-309746',\n",
       "   'evidence-976285',\n",
       "   'evidence-247680'],\n",
       "  'claim_text': 'A 14 August 1912 article from a New Zealand newspaper contained a brief story about how burning coal might produce future warming by adding carbon dioxide to the atmosphere.',\n",
       "  'filtered_evidences': ['evidence-1161423',\n",
       "   'evidence-1184683',\n",
       "   'evidence-502356',\n",
       "   'evidence-731175',\n",
       "   'evidence-836972']},\n",
       " 'claim-856': {'initial_evidences': ['evidence-664933',\n",
       "   'evidence-1166728',\n",
       "   'evidence-1131834',\n",
       "   'evidence-451174',\n",
       "   'evidence-445131',\n",
       "   'evidence-118189',\n",
       "   'evidence-1056104',\n",
       "   'evidence-366178',\n",
       "   'evidence-1006823',\n",
       "   'evidence-657969'],\n",
       "  'claim_text': 'as the pathbreaking work by Rosamond Naylor and David Battisti has shown, the tropics are already too hot to efficiently grow grain, and those places where grain is produced today are already at optimal growing temperature — which means even a small warming will push them down the slope of declining productivity.',\n",
       "  'filtered_evidences': ['evidence-1166728',\n",
       "   'evidence-664933',\n",
       "   'evidence-1131834',\n",
       "   'evidence-451174',\n",
       "   'evidence-445131']},\n",
       " 'claim-540': {'initial_evidences': ['evidence-698828',\n",
       "   'evidence-119750',\n",
       "   'evidence-1134338',\n",
       "   'evidence-529985',\n",
       "   'evidence-386943',\n",
       "   'evidence-1089063',\n",
       "   'evidence-433225',\n",
       "   'evidence-1199499',\n",
       "   'evidence-1041175',\n",
       "   'evidence-630043'],\n",
       "  'claim_text': 'The heatwave we now have in Europe is not something that was expected with just 1C of warming',\n",
       "  'filtered_evidences': ['evidence-698828',\n",
       "   'evidence-119750',\n",
       "   'evidence-1134338',\n",
       "   'evidence-529985',\n",
       "   'evidence-386943']},\n",
       " 'claim-757': {'initial_evidences': ['evidence-949910',\n",
       "   'evidence-1182416',\n",
       "   'evidence-559290',\n",
       "   'evidence-51588',\n",
       "   'evidence-35538',\n",
       "   'evidence-434720',\n",
       "   'evidence-415619',\n",
       "   'evidence-970402',\n",
       "   'evidence-333939',\n",
       "   'evidence-855820'],\n",
       "  'claim_text': 'The grasslands, crops, forests and territorial waters of Australia absorb more carbon dioxide than Australia emits.',\n",
       "  'filtered_evidences': ['evidence-1182416',\n",
       "   'evidence-415619',\n",
       "   'evidence-949910',\n",
       "   'evidence-51588',\n",
       "   'evidence-434720']},\n",
       " 'claim-1407': {'initial_evidences': ['evidence-935858',\n",
       "   'evidence-407388',\n",
       "   'evidence-21424',\n",
       "   'evidence-360132',\n",
       "   'evidence-244062',\n",
       "   'evidence-148398',\n",
       "   'evidence-197205',\n",
       "   'evidence-252180',\n",
       "   'evidence-635501',\n",
       "   'evidence-1177428'],\n",
       "  'claim_text': '“In their award winning book, ‘Taken By Storm’ (2007), Canadian researchers Christopher Essex and Ross McKitrick explain: ‘Temperature is not an amount of something [like height or weight].',\n",
       "  'filtered_evidences': ['evidence-935858',\n",
       "   'evidence-407388',\n",
       "   'evidence-21424',\n",
       "   'evidence-360132',\n",
       "   'evidence-244062']},\n",
       " 'claim-3070': {'initial_evidences': ['evidence-1119540',\n",
       "   'evidence-307837',\n",
       "   'evidence-164284',\n",
       "   'evidence-258341',\n",
       "   'evidence-1204847',\n",
       "   'evidence-280371',\n",
       "   'evidence-111518',\n",
       "   'evidence-898255',\n",
       "   'evidence-1156031',\n",
       "   'evidence-387291'],\n",
       "  'claim_text': 'So this is a government which is proposing to put at risk our manufacturing industry, to penalise struggling families, to make a tough situation worse for millions of households right around Australia.',\n",
       "  'filtered_evidences': ['evidence-898255',\n",
       "   'evidence-258341',\n",
       "   'evidence-280371',\n",
       "   'evidence-1119540',\n",
       "   'evidence-307837']},\n",
       " 'claim-1745': {'initial_evidences': ['evidence-1174708',\n",
       "   'evidence-598168',\n",
       "   'evidence-435792',\n",
       "   'evidence-378444',\n",
       "   'evidence-1082452',\n",
       "   'evidence-1014342',\n",
       "   'evidence-1085055',\n",
       "   'evidence-1052408',\n",
       "   'evidence-184934',\n",
       "   'evidence-1106482'],\n",
       "  'claim_text': 'The IPCC simply updated their temperature history graphs to show the best data available at the time.',\n",
       "  'filtered_evidences': ['evidence-598168',\n",
       "   'evidence-1052408',\n",
       "   'evidence-1174708',\n",
       "   'evidence-435792',\n",
       "   'evidence-378444']},\n",
       " 'claim-1515': {'initial_evidences': ['evidence-1088556',\n",
       "   'evidence-820847',\n",
       "   'evidence-729613',\n",
       "   'evidence-1170',\n",
       "   'evidence-490170',\n",
       "   'evidence-64048',\n",
       "   'evidence-268048',\n",
       "   'evidence-319975',\n",
       "   'evidence-325821',\n",
       "   'evidence-219865'],\n",
       "  'claim_text': 'no one really knows if last year 2016 was a global temperature record.',\n",
       "  'filtered_evidences': ['evidence-1088556',\n",
       "   'evidence-820847',\n",
       "   'evidence-729613',\n",
       "   'evidence-1170',\n",
       "   'evidence-490170']},\n",
       " 'claim-1519': {'initial_evidences': ['evidence-629358',\n",
       "   'evidence-338219',\n",
       "   'evidence-87345',\n",
       "   'evidence-251634',\n",
       "   'evidence-809426',\n",
       "   'evidence-1195163',\n",
       "   'evidence-423643',\n",
       "   'evidence-914228',\n",
       "   'evidence-588053',\n",
       "   'evidence-282556'],\n",
       "  'claim_text': 'The Earth’s climate is changing in response to increasing concentrations of greenhouse gases (GHGs) and particulate matter in the atmosphere, largely as the result of human activities.',\n",
       "  'filtered_evidences': ['evidence-87345',\n",
       "   'evidence-423643',\n",
       "   'evidence-282556',\n",
       "   'evidence-629358',\n",
       "   'evidence-338219']},\n",
       " 'claim-3069': {'initial_evidences': ['evidence-269919',\n",
       "   'evidence-605550',\n",
       "   'evidence-299025',\n",
       "   'evidence-452577',\n",
       "   'evidence-423643',\n",
       "   'evidence-251138',\n",
       "   'evidence-1016625',\n",
       "   'evidence-726166',\n",
       "   'evidence-143084',\n",
       "   'evidence-1055692'],\n",
       "  'claim_text': 'Continued greenhouse gas emissions at or above current rates would cause further warming and induce many changes in the global climate system during the 21st century that would very likely be larger than those observed during the 20th century.',\n",
       "  'filtered_evidences': ['evidence-269919',\n",
       "   'evidence-605550',\n",
       "   'evidence-299025',\n",
       "   'evidence-452577',\n",
       "   'evidence-423643']},\n",
       " 'claim-677': {'initial_evidences': ['evidence-645135',\n",
       "   'evidence-1075943',\n",
       "   'evidence-761183',\n",
       "   'evidence-690553',\n",
       "   'evidence-215395',\n",
       "   'evidence-154583',\n",
       "   'evidence-303695',\n",
       "   'evidence-318323',\n",
       "   'evidence-464935',\n",
       "   'evidence-1106741'],\n",
       "  'claim_text': '“Which is to say that these beans will be eaten by cows, and the cows will convert the beans to meat, and the humans will eat the meat.',\n",
       "  'filtered_evidences': ['evidence-645135',\n",
       "   'evidence-761183',\n",
       "   'evidence-318323',\n",
       "   'evidence-1075943',\n",
       "   'evidence-690553']},\n",
       " 'claim-765': {'initial_evidences': ['evidence-844909',\n",
       "   'evidence-363372',\n",
       "   'evidence-407096',\n",
       "   'evidence-315033',\n",
       "   'evidence-464993',\n",
       "   'evidence-378394',\n",
       "   'evidence-287752',\n",
       "   'evidence-939493',\n",
       "   'evidence-879915',\n",
       "   'evidence-1155571'],\n",
       "  'claim_text': 'The broader term covers changes beyond warmer temperatures, such as shifting rainfall patterns.”',\n",
       "  'filtered_evidences': ['evidence-844909',\n",
       "   'evidence-363372',\n",
       "   'evidence-407096',\n",
       "   'evidence-315033',\n",
       "   'evidence-464993']},\n",
       " 'claim-2275': {'initial_evidences': ['evidence-85031',\n",
       "   'evidence-539221',\n",
       "   'evidence-263772',\n",
       "   'evidence-185162',\n",
       "   'evidence-1066292',\n",
       "   'evidence-879500',\n",
       "   'evidence-55543',\n",
       "   'evidence-549640',\n",
       "   'evidence-832658',\n",
       "   'evidence-519752'],\n",
       "  'claim_text': '[…] Constant 24-7  media coverage of every significant storm worldwide just makes it seem  that way.”',\n",
       "  'filtered_evidences': ['evidence-85031',\n",
       "   'evidence-539221',\n",
       "   'evidence-263772',\n",
       "   'evidence-185162',\n",
       "   'evidence-1066292']},\n",
       " 'claim-1113': {'initial_evidences': ['evidence-459315',\n",
       "   'evidence-384334',\n",
       "   'evidence-427299',\n",
       "   'evidence-181451',\n",
       "   'evidence-921243',\n",
       "   'evidence-1109126',\n",
       "   'evidence-321505',\n",
       "   'evidence-459011',\n",
       "   'evidence-549640',\n",
       "   'evidence-403688'],\n",
       "  'claim_text': 'This means the jet stream meanders more, with big loops bringing warm air to the frozen north and cold air into warmer southern climes.”',\n",
       "  'filtered_evidences': ['evidence-459315',\n",
       "   'evidence-384334',\n",
       "   'evidence-427299',\n",
       "   'evidence-181451',\n",
       "   'evidence-921243']},\n",
       " 'claim-2611': {'initial_evidences': ['evidence-356854',\n",
       "   'evidence-620559',\n",
       "   'evidence-255445',\n",
       "   'evidence-938381',\n",
       "   'evidence-1105988',\n",
       "   'evidence-399231',\n",
       "   'evidence-410087',\n",
       "   'evidence-962456',\n",
       "   'evidence-648764',\n",
       "   'evidence-801956'],\n",
       "  'claim_text': 'The final amount of extra CO2 that remains in the atmosphere stays there on a time scale of centuries.',\n",
       "  'filtered_evidences': ['evidence-356854',\n",
       "   'evidence-620559',\n",
       "   'evidence-255445',\n",
       "   'evidence-938381',\n",
       "   'evidence-1105988']},\n",
       " 'claim-2060': {'initial_evidences': ['evidence-105536',\n",
       "   'evidence-604477',\n",
       "   'evidence-110432',\n",
       "   'evidence-972696',\n",
       "   'evidence-123812',\n",
       "   'evidence-1187712',\n",
       "   'evidence-211912',\n",
       "   'evidence-8304',\n",
       "   'evidence-894521',\n",
       "   'evidence-1156443'],\n",
       "  'claim_text': 'Global warming is causing more hurricanes and stronger hurricanes.',\n",
       "  'filtered_evidences': ['evidence-211912',\n",
       "   'evidence-105536',\n",
       "   'evidence-604477',\n",
       "   'evidence-110432',\n",
       "   'evidence-972696']},\n",
       " 'claim-2326': {'initial_evidences': ['evidence-956029',\n",
       "   'evidence-1017927',\n",
       "   'evidence-866245',\n",
       "   'evidence-738340',\n",
       "   'evidence-776091',\n",
       "   'evidence-1070837',\n",
       "   'evidence-432695',\n",
       "   'evidence-1087946',\n",
       "   'evidence-357997',\n",
       "   'evidence-1143730'],\n",
       "  'claim_text': '\"In 2007, the Northern Hemisphere reached a record low in ice coverage and the Northwest Passage was opened.',\n",
       "  'filtered_evidences': ['evidence-956029',\n",
       "   'evidence-1017927',\n",
       "   'evidence-866245',\n",
       "   'evidence-738340',\n",
       "   'evidence-776091']},\n",
       " 'claim-1087': {'initial_evidences': ['evidence-1068590',\n",
       "   'evidence-114562',\n",
       "   'evidence-1113083',\n",
       "   'evidence-455299',\n",
       "   'evidence-96686',\n",
       "   'evidence-1020939',\n",
       "   'evidence-1055320',\n",
       "   'evidence-1080833',\n",
       "   'evidence-175285',\n",
       "   'evidence-1125202'],\n",
       "  'claim_text': 'The particular signature of warming in 2016 was also revealing in another way, Overpeck said, noting that the stratosphere… saw record cold temperatures last year',\n",
       "  'filtered_evidences': ['evidence-1068590',\n",
       "   'evidence-114562',\n",
       "   'evidence-1113083',\n",
       "   'evidence-455299',\n",
       "   'evidence-96686']},\n",
       " 'claim-2867': {'initial_evidences': ['evidence-769659',\n",
       "   'evidence-392',\n",
       "   'evidence-69025',\n",
       "   'evidence-618304',\n",
       "   'evidence-253453',\n",
       "   'evidence-847727',\n",
       "   'evidence-20779',\n",
       "   'evidence-380716',\n",
       "   'evidence-1119610',\n",
       "   'evidence-480659'],\n",
       "  'claim_text': \"Skeptics who oppose scientific findings that threaten their world view are far closer to Galileo's belief-based critics in the Catholic Church.\",\n",
       "  'filtered_evidences': ['evidence-769659',\n",
       "   'evidence-392',\n",
       "   'evidence-69025',\n",
       "   'evidence-618304',\n",
       "   'evidence-253453']},\n",
       " 'claim-2300': {'initial_evidences': ['evidence-1053558',\n",
       "   'evidence-553516',\n",
       "   'evidence-330124',\n",
       "   'evidence-223772',\n",
       "   'evidence-479438',\n",
       "   'evidence-271202',\n",
       "   'evidence-237614',\n",
       "   'evidence-393887',\n",
       "   'evidence-12424',\n",
       "   'evidence-967332'],\n",
       "  'claim_text': '\"Austria is today seeing its earliest snowfall in history with 30 to 40 centimetres already predicted in the mountains.',\n",
       "  'filtered_evidences': ['evidence-1053558',\n",
       "   'evidence-553516',\n",
       "   'evidence-330124',\n",
       "   'evidence-223772',\n",
       "   'evidence-479438']},\n",
       " 'claim-2250': {'initial_evidences': ['evidence-616168',\n",
       "   'evidence-298723',\n",
       "   'evidence-361694',\n",
       "   'evidence-866495',\n",
       "   'evidence-1075865',\n",
       "   'evidence-108394',\n",
       "   'evidence-94272',\n",
       "   'evidence-202388',\n",
       "   'evidence-210167',\n",
       "   'evidence-615618'],\n",
       "  'claim_text': \"Some global warming 'skeptics' argue that the Earth's climate sensitivity is so low that a doubling of atmospheric CO2 will result in a surface temperature change on the order of 1°C or less, and that therefore global warming is nothing to worry about.\",\n",
       "  'filtered_evidences': ['evidence-616168',\n",
       "   'evidence-298723',\n",
       "   'evidence-361694',\n",
       "   'evidence-866495',\n",
       "   'evidence-1075865']},\n",
       " 'claim-2429': {'initial_evidences': ['evidence-755175',\n",
       "   'evidence-435467',\n",
       "   'evidence-262827',\n",
       "   'evidence-47605',\n",
       "   'evidence-1007486',\n",
       "   'evidence-1027012',\n",
       "   'evidence-675527',\n",
       "   'evidence-998010',\n",
       "   'evidence-948375',\n",
       "   'evidence-936703'],\n",
       "  'claim_text': 'With 32 years of  rapidly increasing global temperatures and only a minor increase in  global CO2 emissions, followed by 33 years of slowly cooling global  temperatures with rapid increases in global CO2 emissions, it was  deceitful for the IPCC to make any claim that CO2 emissions were  primarily responsible for observed 20th century global warming.\"',\n",
       "  'filtered_evidences': ['evidence-755175',\n",
       "   'evidence-435467',\n",
       "   'evidence-262827',\n",
       "   'evidence-47605',\n",
       "   'evidence-1007486']},\n",
       " 'claim-3051': {'initial_evidences': ['evidence-824781',\n",
       "   'evidence-992780',\n",
       "   'evidence-280390',\n",
       "   'evidence-521885',\n",
       "   'evidence-185243',\n",
       "   'evidence-10368',\n",
       "   'evidence-1111410',\n",
       "   'evidence-888023',\n",
       "   'evidence-925231',\n",
       "   'evidence-889101'],\n",
       "  'claim_text': 'Once natural influences, in particular the impact of El Niño and La Niña, are removed from the recent termperature record, there is no evidence of a significant change in the human contribution to climate change.',\n",
       "  'filtered_evidences': ['evidence-280390',\n",
       "   'evidence-824781',\n",
       "   'evidence-992780',\n",
       "   'evidence-521885',\n",
       "   'evidence-185243']},\n",
       " 'claim-1549': {'initial_evidences': ['evidence-714675',\n",
       "   'evidence-1013740',\n",
       "   'evidence-844486',\n",
       "   'evidence-34759',\n",
       "   'evidence-870141',\n",
       "   'evidence-835623',\n",
       "   'evidence-1070085',\n",
       "   'evidence-897934',\n",
       "   'evidence-389165',\n",
       "   'evidence-141739'],\n",
       "  'claim_text': \"There's no empirical evidence for climate change.\",\n",
       "  'filtered_evidences': ['evidence-141739',\n",
       "   'evidence-714675',\n",
       "   'evidence-1013740',\n",
       "   'evidence-844486',\n",
       "   'evidence-34759']},\n",
       " 'claim-261': {'initial_evidences': ['evidence-332770',\n",
       "   'evidence-33543',\n",
       "   'evidence-112875',\n",
       "   'evidence-972029',\n",
       "   'evidence-298630',\n",
       "   'evidence-712740',\n",
       "   'evidence-974202',\n",
       "   'evidence-610739',\n",
       "   'evidence-820057',\n",
       "   'evidence-865226'],\n",
       "  'claim_text': 'in 1995 one scientist at the IPCC – Jonathan Overpeck – wrote an email to a colleague claiming ‘we have to get rid of the Medieval Warm Period.’',\n",
       "  'filtered_evidences': ['evidence-332770',\n",
       "   'evidence-33543',\n",
       "   'evidence-112875',\n",
       "   'evidence-972029',\n",
       "   'evidence-298630']},\n",
       " 'claim-2230': {'initial_evidences': ['evidence-728645',\n",
       "   'evidence-116639',\n",
       "   'evidence-303036',\n",
       "   'evidence-1134336',\n",
       "   'evidence-68501',\n",
       "   'evidence-106742',\n",
       "   'evidence-1068851',\n",
       "   'evidence-43818',\n",
       "   'evidence-825580',\n",
       "   'evidence-815913'],\n",
       "  'claim_text': '[Ice] is expanding in much of Antarctica, contrary to the widespread public belief that global warming is melting the continental ice cap.',\n",
       "  'filtered_evidences': ['evidence-728645',\n",
       "   'evidence-1068851',\n",
       "   'evidence-116639',\n",
       "   'evidence-303036',\n",
       "   'evidence-1134336']},\n",
       " 'claim-2579': {'initial_evidences': ['evidence-356854',\n",
       "   'evidence-204526',\n",
       "   'evidence-662931',\n",
       "   'evidence-843608',\n",
       "   'evidence-1205623',\n",
       "   'evidence-196937',\n",
       "   'evidence-208053',\n",
       "   'evidence-342507',\n",
       "   'evidence-1177233',\n",
       "   'evidence-620559'],\n",
       "  'claim_text': 'Over the past 250 years, humans have added just one part of CO2 in 10,000 to the atmosphere.',\n",
       "  'filtered_evidences': ['evidence-356854',\n",
       "   'evidence-204526',\n",
       "   'evidence-662931',\n",
       "   'evidence-843608',\n",
       "   'evidence-1205623']},\n",
       " 'claim-1416': {'initial_evidences': ['evidence-653981',\n",
       "   'evidence-408089',\n",
       "   'evidence-123812',\n",
       "   'evidence-121500',\n",
       "   'evidence-972696',\n",
       "   'evidence-169769',\n",
       "   'evidence-845138',\n",
       "   'evidence-240414',\n",
       "   'evidence-1154195',\n",
       "   'evidence-1088298'],\n",
       "  'claim_text': 'In recent decades this warming has been accompanied by a constant rise in the sea level and, it would appear, by an increase of extreme weather events, even if a scientifically determinable cause cannot be assigned to each particular phenomenon.',\n",
       "  'filtered_evidences': ['evidence-121500',\n",
       "   'evidence-653981',\n",
       "   'evidence-408089',\n",
       "   'evidence-123812',\n",
       "   'evidence-972696']},\n",
       " 'claim-2497': {'initial_evidences': ['evidence-136867',\n",
       "   'evidence-193559',\n",
       "   'evidence-536054',\n",
       "   'evidence-152062',\n",
       "   'evidence-1176648',\n",
       "   'evidence-1120355',\n",
       "   'evidence-175169',\n",
       "   'evidence-121331',\n",
       "   'evidence-960249',\n",
       "   'evidence-67095'],\n",
       "  'claim_text': \"Without the forests' humidity, previously moisture-laden winds blew dry.\",\n",
       "  'filtered_evidences': ['evidence-136867',\n",
       "   'evidence-193559',\n",
       "   'evidence-536054',\n",
       "   'evidence-152062',\n",
       "   'evidence-1176648']},\n",
       " 'claim-811': {'initial_evidences': ['evidence-879500',\n",
       "   'evidence-604477',\n",
       "   'evidence-1055682',\n",
       "   'evidence-759337',\n",
       "   'evidence-123812',\n",
       "   'evidence-1187712',\n",
       "   'evidence-136165',\n",
       "   'evidence-760798',\n",
       "   'evidence-202388',\n",
       "   'evidence-211912'],\n",
       "  'claim_text': 'But [climate scientists] say that aspects of the case of Hurricane Harvey—and the recent history of tropical cyclones worldwide—suggest global warming is making a bad situation worse.',\n",
       "  'filtered_evidences': ['evidence-211912',\n",
       "   'evidence-879500',\n",
       "   'evidence-604477',\n",
       "   'evidence-1055682',\n",
       "   'evidence-759337']},\n",
       " 'claim-1896': {'initial_evidences': ['evidence-878263',\n",
       "   'evidence-759479',\n",
       "   'evidence-234076',\n",
       "   'evidence-809397',\n",
       "   'evidence-784559',\n",
       "   'evidence-452511',\n",
       "   'evidence-130992',\n",
       "   'evidence-177293',\n",
       "   'evidence-888963',\n",
       "   'evidence-404422'],\n",
       "  'claim_text': 'Greg Hunt CSIRO research shows carbon emissions can be reduced by 20 per cent over 40 years using nature, soils and trees.',\n",
       "  'filtered_evidences': ['evidence-878263',\n",
       "   'evidence-759479',\n",
       "   'evidence-234076',\n",
       "   'evidence-809397',\n",
       "   'evidence-784559']},\n",
       " 'claim-2819': {'initial_evidences': ['evidence-124062',\n",
       "   'evidence-363528',\n",
       "   'evidence-521885',\n",
       "   'evidence-286819',\n",
       "   'evidence-856239',\n",
       "   'evidence-834766',\n",
       "   'evidence-280904',\n",
       "   'evidence-1173053',\n",
       "   'evidence-514545',\n",
       "   'evidence-906794'],\n",
       "  'claim_text': 'More importantly, the OISM list only contains 39 scientists who specialise in climate science.',\n",
       "  'filtered_evidences': ['evidence-124062',\n",
       "   'evidence-363528',\n",
       "   'evidence-521885',\n",
       "   'evidence-286819',\n",
       "   'evidence-856239']},\n",
       " 'claim-2643': {'initial_evidences': ['evidence-224185',\n",
       "   'evidence-464939',\n",
       "   'evidence-736392',\n",
       "   'evidence-223996',\n",
       "   'evidence-776385',\n",
       "   'evidence-573616',\n",
       "   'evidence-345615',\n",
       "   'evidence-109563',\n",
       "   'evidence-1016696',\n",
       "   'evidence-20963'],\n",
       "  'claim_text': 'The \"decline\" refers to a decline in northern tree-rings, not global temperature, and is openly discussed in papers and the IPCC reports.',\n",
       "  'filtered_evidences': ['evidence-776385',\n",
       "   'evidence-464939',\n",
       "   'evidence-224185',\n",
       "   'evidence-736392',\n",
       "   'evidence-223996']},\n",
       " 'claim-1775': {'initial_evidences': ['evidence-1018575',\n",
       "   'evidence-1043526',\n",
       "   'evidence-1018829',\n",
       "   'evidence-500249',\n",
       "   'evidence-791159',\n",
       "   'evidence-515817',\n",
       "   'evidence-808749',\n",
       "   'evidence-1065162',\n",
       "   'evidence-878835',\n",
       "   'evidence-381399'],\n",
       "  'claim_text': 'Venus very likely underwent a runaway or ‘moist’ greenhouse phase earlier in its history, and today is kept hot by a dense CO2 atmosphere.',\n",
       "  'filtered_evidences': ['evidence-1018575',\n",
       "   'evidence-1043526',\n",
       "   'evidence-1018829',\n",
       "   'evidence-500249',\n",
       "   'evidence-791159']},\n",
       " 'claim-316': {'initial_evidences': ['evidence-178505',\n",
       "   'evidence-980959',\n",
       "   'evidence-368241',\n",
       "   'evidence-762715',\n",
       "   'evidence-19909',\n",
       "   'evidence-677910',\n",
       "   'evidence-1036643',\n",
       "   'evidence-216542',\n",
       "   'evidence-322520',\n",
       "   'evidence-328337'],\n",
       "  'claim_text': 'the models predicted seven times as much warming as has been observed',\n",
       "  'filtered_evidences': ['evidence-216542',\n",
       "   'evidence-677910',\n",
       "   'evidence-328337',\n",
       "   'evidence-1036643',\n",
       "   'evidence-178505']},\n",
       " 'claim-896': {'initial_evidences': ['evidence-248009',\n",
       "   'evidence-1171424',\n",
       "   'evidence-1089698',\n",
       "   'evidence-534239',\n",
       "   'evidence-123016',\n",
       "   'evidence-801005',\n",
       "   'evidence-555406',\n",
       "   'evidence-658151',\n",
       "   'evidence-952310',\n",
       "   'evidence-855317'],\n",
       "  'claim_text': 'According to the WHO, exposure to particulate matter increases the risk of acute lower respiratory infection, chronic obstructive pulmonary disease, heart disease, stroke and lung cancer.',\n",
       "  'filtered_evidences': ['evidence-658151',\n",
       "   'evidence-952310',\n",
       "   'evidence-248009',\n",
       "   'evidence-1171424',\n",
       "   'evidence-1089698']},\n",
       " 'claim-331': {'initial_evidences': ['evidence-1013521',\n",
       "   'evidence-902524',\n",
       "   'evidence-1119853',\n",
       "   'evidence-879915',\n",
       "   'evidence-512115',\n",
       "   'evidence-508793',\n",
       "   'evidence-198465',\n",
       "   'evidence-831754',\n",
       "   'evidence-180952',\n",
       "   'evidence-1156443'],\n",
       "  'claim_text': 'But each serial adjustment has tended to make the early years colder, which increases the warming trend.',\n",
       "  'filtered_evidences': ['evidence-902524',\n",
       "   'evidence-508793',\n",
       "   'evidence-1013521',\n",
       "   'evidence-1119853',\n",
       "   'evidence-879915']},\n",
       " 'claim-2574': {'initial_evidences': ['evidence-580567',\n",
       "   'evidence-369389',\n",
       "   'evidence-386380',\n",
       "   'evidence-513559',\n",
       "   'evidence-1133657',\n",
       "   'evidence-217138',\n",
       "   'evidence-1048388',\n",
       "   'evidence-888119',\n",
       "   'evidence-705942',\n",
       "   'evidence-509648'],\n",
       "  'claim_text': 'On a world scale coral reefs are in decline.',\n",
       "  'filtered_evidences': ['evidence-386380',\n",
       "   'evidence-513559',\n",
       "   'evidence-888119',\n",
       "   'evidence-1133657',\n",
       "   'evidence-580567']},\n",
       " 'claim-342': {'initial_evidences': ['evidence-817269',\n",
       "   'evidence-593737',\n",
       "   'evidence-370435',\n",
       "   'evidence-1066292',\n",
       "   'evidence-55543',\n",
       "   'evidence-100145',\n",
       "   'evidence-1186875',\n",
       "   'evidence-574477',\n",
       "   'evidence-881508',\n",
       "   'evidence-707408'],\n",
       "  'claim_text': 'While members of the media may nod along to such claims [about changes in weather extremes], the evidence paints a different story',\n",
       "  'filtered_evidences': ['evidence-817269',\n",
       "   'evidence-593737',\n",
       "   'evidence-370435',\n",
       "   'evidence-1066292',\n",
       "   'evidence-55543']},\n",
       " 'claim-2034': {'initial_evidences': ['evidence-354829',\n",
       "   'evidence-114596',\n",
       "   'evidence-1150148',\n",
       "   'evidence-378444',\n",
       "   'evidence-1085447',\n",
       "   'evidence-734286',\n",
       "   'evidence-968233',\n",
       "   'evidence-920160',\n",
       "   'evidence-482695',\n",
       "   'evidence-660755'],\n",
       "  'claim_text': 'Latest IPCC Reports (AR5) have shown global mean temperature forecasts from the 2005 IPCC report exceeded actual readings.',\n",
       "  'filtered_evidences': ['evidence-354829',\n",
       "   'evidence-114596',\n",
       "   'evidence-1150148',\n",
       "   'evidence-378444',\n",
       "   'evidence-1085447']},\n",
       " 'claim-578': {'initial_evidences': ['evidence-652884',\n",
       "   'evidence-983918',\n",
       "   'evidence-87345',\n",
       "   'evidence-130492',\n",
       "   'evidence-548492',\n",
       "   'evidence-625824',\n",
       "   'evidence-90274',\n",
       "   'evidence-800827',\n",
       "   'evidence-509654',\n",
       "   'evidence-247680'],\n",
       "  'claim_text': '‘If we do nothing to reduce our greenhouse gas emissions, the kind of extreme heat we saw this past summer will be the norm when my young son is a grown man.’',\n",
       "  'filtered_evidences': ['evidence-983918',\n",
       "   'evidence-87345',\n",
       "   'evidence-625824',\n",
       "   'evidence-247680',\n",
       "   'evidence-652884']},\n",
       " 'claim-976': {'initial_evidences': ['evidence-313762',\n",
       "   'evidence-346688',\n",
       "   'evidence-790775',\n",
       "   'evidence-1141045',\n",
       "   'evidence-756180',\n",
       "   'evidence-1015173',\n",
       "   'evidence-362073',\n",
       "   'evidence-273109',\n",
       "   'evidence-1101800',\n",
       "   'evidence-81519'],\n",
       "  'claim_text': 'The gas builds up in the soil, forming mounds called ‘pingoes.’',\n",
       "  'filtered_evidences': ['evidence-313762',\n",
       "   'evidence-346688',\n",
       "   'evidence-790775',\n",
       "   'evidence-1141045',\n",
       "   'evidence-756180']},\n",
       " 'claim-1097': {'initial_evidences': ['evidence-550445',\n",
       "   'evidence-1192268',\n",
       "   'evidence-957349',\n",
       "   'evidence-894100',\n",
       "   'evidence-594019',\n",
       "   'evidence-345042',\n",
       "   'evidence-358086',\n",
       "   'evidence-892616',\n",
       "   'evidence-773994',\n",
       "   'evidence-938487'],\n",
       "  'claim_text': '“[…]The impact on calcification, metabolism, growth, fertility and survival of calcifying marine species when pH is lowered up to 0.3 units […] is beneficial, not damaging.',\n",
       "  'filtered_evidences': ['evidence-550445',\n",
       "   'evidence-1192268',\n",
       "   'evidence-957349',\n",
       "   'evidence-894100',\n",
       "   'evidence-594019']},\n",
       " 'claim-609': {'initial_evidences': ['evidence-588787',\n",
       "   'evidence-807676',\n",
       "   'evidence-1110867',\n",
       "   'evidence-29430',\n",
       "   'evidence-710110',\n",
       "   'evidence-771238',\n",
       "   'evidence-29963',\n",
       "   'evidence-106742',\n",
       "   'evidence-815913',\n",
       "   'evidence-1184933'],\n",
       "  'claim_text': 'That’s because as Antarctica’s mass shrinks, the ice sheet’s gravitational pull on the ocean relaxes somewhat, and the seas travel back across the globe to pile up far away — with U.S. coasts being one prime destination.”',\n",
       "  'filtered_evidences': ['evidence-1110867',\n",
       "   'evidence-771238',\n",
       "   'evidence-710110',\n",
       "   'evidence-588787',\n",
       "   'evidence-807676']},\n",
       " 'claim-173': {'initial_evidences': ['evidence-596172',\n",
       "   'evidence-631056',\n",
       "   'evidence-447813',\n",
       "   'evidence-1127600',\n",
       "   'evidence-866998',\n",
       "   'evidence-291327',\n",
       "   'evidence-672311',\n",
       "   'evidence-104121',\n",
       "   'evidence-1059528',\n",
       "   'evidence-1197437'],\n",
       "  'claim_text': 'If there were [carbon emissions], we could not see because most carbon is black.',\n",
       "  'filtered_evidences': ['evidence-596172',\n",
       "   'evidence-631056',\n",
       "   'evidence-447813',\n",
       "   'evidence-1127600',\n",
       "   'evidence-866998']},\n",
       " 'claim-1222': {'initial_evidences': ['evidence-851031',\n",
       "   'evidence-1040612',\n",
       "   'evidence-173281',\n",
       "   'evidence-1056186',\n",
       "   'evidence-1022509',\n",
       "   'evidence-1066768',\n",
       "   'evidence-828120',\n",
       "   'evidence-739706',\n",
       "   'evidence-808139',\n",
       "   'evidence-7473'],\n",
       "  'claim_text': 'The melting Greenland ice sheet is already a major contributor to rising sea level and if it was eventually lost entirely, the oceans would rise by six metres around the world, flooding many of the world’s largest cities.',\n",
       "  'filtered_evidences': ['evidence-1040612',\n",
       "   'evidence-173281',\n",
       "   'evidence-1066768',\n",
       "   'evidence-7473',\n",
       "   'evidence-1056186']},\n",
       " 'claim-2441': {'initial_evidences': ['evidence-775820',\n",
       "   'evidence-217521',\n",
       "   'evidence-616564',\n",
       "   'evidence-461050',\n",
       "   'evidence-810653',\n",
       "   'evidence-1192029',\n",
       "   'evidence-270365',\n",
       "   'evidence-1074778',\n",
       "   'evidence-683138',\n",
       "   'evidence-605242'],\n",
       "  'claim_text': 'Furthermore, it is physically incorrect to state that the planet is simply \"recovering\" from the Little Ice Age.',\n",
       "  'filtered_evidences': ['evidence-683138',\n",
       "   'evidence-775820',\n",
       "   'evidence-217521',\n",
       "   'evidence-616564',\n",
       "   'evidence-461050']},\n",
       " 'claim-756': {'initial_evidences': ['evidence-1206449',\n",
       "   'evidence-695660',\n",
       "   'evidence-22230',\n",
       "   'evidence-443756',\n",
       "   'evidence-1186458',\n",
       "   'evidence-931390',\n",
       "   'evidence-419114',\n",
       "   'evidence-719544',\n",
       "   'evidence-970402',\n",
       "   'evidence-229230'],\n",
       "  'claim_text': 'Australia’s signed a suicide note [with the Paris Accord] yet didn’t seem to notice that China, India, Indonesia and the US did not commit to reducing their large carbon dioxide emissions.',\n",
       "  'filtered_evidences': ['evidence-695660',\n",
       "   'evidence-1186458',\n",
       "   'evidence-719544',\n",
       "   'evidence-1206449',\n",
       "   'evidence-22230']},\n",
       " 'claim-2577': {'initial_evidences': ['evidence-930563',\n",
       "   'evidence-663642',\n",
       "   'evidence-900586',\n",
       "   'evidence-575649',\n",
       "   'evidence-1175280',\n",
       "   'evidence-175657',\n",
       "   'evidence-754191',\n",
       "   'evidence-369389',\n",
       "   'evidence-386380',\n",
       "   'evidence-1001116'],\n",
       "  'claim_text': '\"Three recent articles give us reason to question the alarmists’ claims  that coral reefs are in deep trouble due to the buildup of greenhouse  gases.\" (World Climate Report)',\n",
       "  'filtered_evidences': ['evidence-386380',\n",
       "   'evidence-575649',\n",
       "   'evidence-930563',\n",
       "   'evidence-663642',\n",
       "   'evidence-900586']},\n",
       " 'claim-2890': {'initial_evidences': ['evidence-602026',\n",
       "   'evidence-12011',\n",
       "   'evidence-318516',\n",
       "   'evidence-652497',\n",
       "   'evidence-1020632',\n",
       "   'evidence-995233',\n",
       "   'evidence-793682',\n",
       "   'evidence-507225',\n",
       "   'evidence-285150',\n",
       "   'evidence-519727'],\n",
       "  'claim_text': 'Heat is continuing to build up in the subsurface ocean.',\n",
       "  'filtered_evidences': ['evidence-652497',\n",
       "   'evidence-507225',\n",
       "   'evidence-602026',\n",
       "   'evidence-12011',\n",
       "   'evidence-318516']},\n",
       " 'claim-2478': {'initial_evidences': ['evidence-805409',\n",
       "   'evidence-933078',\n",
       "   'evidence-13160',\n",
       "   'evidence-402137',\n",
       "   'evidence-898871',\n",
       "   'evidence-311416',\n",
       "   'evidence-633190',\n",
       "   'evidence-370378',\n",
       "   'evidence-122441',\n",
       "   'evidence-370468'],\n",
       "  'claim_text': '(Kerr 2007) points out that the sunlight-reflecting haze that cools much of the planet seems to have thinned over the past decade or so.',\n",
       "  'filtered_evidences': ['evidence-805409',\n",
       "   'evidence-933078',\n",
       "   'evidence-13160',\n",
       "   'evidence-402137',\n",
       "   'evidence-898871']},\n",
       " 'claim-2399': {'initial_evidences': ['evidence-856106',\n",
       "   'evidence-647121',\n",
       "   'evidence-1047395',\n",
       "   'evidence-282799',\n",
       "   'evidence-1007748',\n",
       "   'evidence-1092520',\n",
       "   'evidence-622781',\n",
       "   'evidence-269919',\n",
       "   'evidence-456747',\n",
       "   'evidence-367916'],\n",
       "  'claim_text': 'While the greenhouse effect is a natural occurence, too much warming has severe negative impacts on agriculture, health and environment.',\n",
       "  'filtered_evidences': ['evidence-856106',\n",
       "   'evidence-647121',\n",
       "   'evidence-1047395',\n",
       "   'evidence-282799',\n",
       "   'evidence-1007748']},\n",
       " 'claim-3091': {'initial_evidences': ['evidence-96686',\n",
       "   'evidence-624715',\n",
       "   'evidence-1207200',\n",
       "   'evidence-389165',\n",
       "   'evidence-741671',\n",
       "   'evidence-210566',\n",
       "   'evidence-1142444',\n",
       "   'evidence-1086865',\n",
       "   'evidence-554535',\n",
       "   'evidence-1159499'],\n",
       "  'claim_text': 'Global Warming history completely coincides with the history of artificial satellites and the use of microwave frequencies from outer space.',\n",
       "  'filtered_evidences': ['evidence-1159499',\n",
       "   'evidence-96686',\n",
       "   'evidence-624715',\n",
       "   'evidence-1207200',\n",
       "   'evidence-389165']},\n",
       " 'claim-141': {'initial_evidences': ['evidence-784155',\n",
       "   'evidence-51845',\n",
       "   'evidence-65132',\n",
       "   'evidence-378207',\n",
       "   'evidence-1119357',\n",
       "   'evidence-1165605',\n",
       "   'evidence-388010',\n",
       "   'evidence-307017',\n",
       "   'evidence-951078',\n",
       "   'evidence-1025353'],\n",
       "  'claim_text': 'Greenpeace didn’t save the whales, switching from whale oil to petroleum and palm oil did',\n",
       "  'filtered_evidences': ['evidence-951078',\n",
       "   'evidence-378207',\n",
       "   'evidence-307017',\n",
       "   'evidence-784155',\n",
       "   'evidence-51845']},\n",
       " 'claim-1933': {'initial_evidences': ['evidence-423215',\n",
       "   'evidence-574489',\n",
       "   'evidence-101963',\n",
       "   'evidence-380361',\n",
       "   'evidence-590108',\n",
       "   'evidence-1205212',\n",
       "   'evidence-495048',\n",
       "   'evidence-954557',\n",
       "   'evidence-562327',\n",
       "   'evidence-130761'],\n",
       "  'claim_text': 'Newt Gingrich \"teamed with Nancy Pelosi and Al Gore on global warming.\"',\n",
       "  'filtered_evidences': ['evidence-562327',\n",
       "   'evidence-423215',\n",
       "   'evidence-574489',\n",
       "   'evidence-101963',\n",
       "   'evidence-380361']},\n",
       " 'claim-1689': {'initial_evidences': ['evidence-208863',\n",
       "   'evidence-269791',\n",
       "   'evidence-1182056',\n",
       "   'evidence-1155515',\n",
       "   'evidence-1178290',\n",
       "   'evidence-1003105',\n",
       "   'evidence-1004849',\n",
       "   'evidence-126279',\n",
       "   'evidence-901219',\n",
       "   'evidence-1202569'],\n",
       "  'claim_text': 'Evidence is building that net cloud feedback is likely positive and unlikely to be strongly negative.',\n",
       "  'filtered_evidences': ['evidence-208863',\n",
       "   'evidence-269791',\n",
       "   'evidence-1182056',\n",
       "   'evidence-1155515',\n",
       "   'evidence-1178290']},\n",
       " 'claim-443': {'initial_evidences': ['evidence-100394',\n",
       "   'evidence-510034',\n",
       "   'evidence-1006052',\n",
       "   'evidence-774592',\n",
       "   'evidence-100171',\n",
       "   'evidence-247680',\n",
       "   'evidence-491362',\n",
       "   'evidence-1047887',\n",
       "   'evidence-220020',\n",
       "   'evidence-551522'],\n",
       "  'claim_text': '“Today climate scientists are obsessed with the level of carbon dioxide in the atmosphere, a very very small part of the overall picture.',\n",
       "  'filtered_evidences': ['evidence-1047887',\n",
       "   'evidence-551522',\n",
       "   'evidence-100171',\n",
       "   'evidence-247680',\n",
       "   'evidence-220020']},\n",
       " 'claim-2037': {'initial_evidences': ['evidence-1071718',\n",
       "   'evidence-54776',\n",
       "   'evidence-124851',\n",
       "   'evidence-868516',\n",
       "   'evidence-1113929',\n",
       "   'evidence-1179095',\n",
       "   'evidence-348360',\n",
       "   'evidence-358167',\n",
       "   'evidence-541689',\n",
       "   'evidence-620739'],\n",
       "  'claim_text': 'The rate of renewable energy installations in the EU in 2018 was less than half the maximum level achieved in 2010.',\n",
       "  'filtered_evidences': ['evidence-1071718',\n",
       "   'evidence-54776',\n",
       "   'evidence-124851',\n",
       "   'evidence-868516',\n",
       "   'evidence-1113929']},\n",
       " 'claim-1734': {'initial_evidences': ['evidence-1010285',\n",
       "   'evidence-1138009',\n",
       "   'evidence-33576',\n",
       "   'evidence-755597',\n",
       "   'evidence-1194346',\n",
       "   'evidence-114465',\n",
       "   'evidence-886863',\n",
       "   'evidence-900843',\n",
       "   'evidence-8793',\n",
       "   'evidence-324576'],\n",
       "  'claim_text': 'Jim Hansen had several possible scenarios; his mid-level scenario B was right.',\n",
       "  'filtered_evidences': ['evidence-886863',\n",
       "   'evidence-1010285',\n",
       "   'evidence-1138009',\n",
       "   'evidence-33576',\n",
       "   'evidence-755597']},\n",
       " 'claim-2093': {'initial_evidences': ['evidence-808385',\n",
       "   'evidence-453635',\n",
       "   'evidence-224855',\n",
       "   'evidence-94272',\n",
       "   'evidence-220020',\n",
       "   'evidence-312751',\n",
       "   'evidence-16975',\n",
       "   'evidence-699212',\n",
       "   'evidence-1040875',\n",
       "   'evidence-845688'],\n",
       "  'claim_text': 'Through its impacts on the climate, CO2 presents a danger to public health and welfare, and thus qualifies as an air pollutant',\n",
       "  'filtered_evidences': ['evidence-808385',\n",
       "   'evidence-453635',\n",
       "   'evidence-224855',\n",
       "   'evidence-94272',\n",
       "   'evidence-220020']},\n",
       " 'claim-1400': {'initial_evidences': ['evidence-905992',\n",
       "   'evidence-1068819',\n",
       "   'evidence-233245',\n",
       "   'evidence-1073602',\n",
       "   'evidence-229579',\n",
       "   'evidence-480631',\n",
       "   'evidence-63203',\n",
       "   'evidence-740744',\n",
       "   'evidence-152669',\n",
       "   'evidence-899905'],\n",
       "  'claim_text': 'The late 1970s marked the end of a 30-year cooling trend.',\n",
       "  'filtered_evidences': ['evidence-905992',\n",
       "   'evidence-1068819',\n",
       "   'evidence-233245',\n",
       "   'evidence-1073602',\n",
       "   'evidence-229579']},\n",
       " 'claim-1638': {'initial_evidences': ['evidence-842114',\n",
       "   'evidence-954212',\n",
       "   'evidence-410700',\n",
       "   'evidence-977735',\n",
       "   'evidence-1016625',\n",
       "   'evidence-8063',\n",
       "   'evidence-196453',\n",
       "   'evidence-608904',\n",
       "   'evidence-289045',\n",
       "   'evidence-418973'],\n",
       "  'claim_text': 'Worry about global warming impacts in the next 100 years, not an ice age in over 10,000 years.',\n",
       "  'filtered_evidences': ['evidence-842114',\n",
       "   'evidence-954212',\n",
       "   'evidence-410700',\n",
       "   'evidence-977735',\n",
       "   'evidence-1016625']},\n",
       " 'claim-3075': {'initial_evidences': ['evidence-851031',\n",
       "   'evidence-59240',\n",
       "   'evidence-248455',\n",
       "   'evidence-599281',\n",
       "   'evidence-1056186',\n",
       "   'evidence-264761',\n",
       "   'evidence-119173',\n",
       "   'evidence-906956',\n",
       "   'evidence-253690',\n",
       "   'evidence-391045'],\n",
       "  'claim_text': \"Multiple lines of evidence indicate Greenland's ice loss is accelerating and will contribute sea level rise in the order of metres over the next few centuries.\",\n",
       "  'filtered_evidences': ['evidence-264761',\n",
       "   'evidence-1056186',\n",
       "   'evidence-851031',\n",
       "   'evidence-59240',\n",
       "   'evidence-248455']},\n",
       " 'claim-38': {'initial_evidences': ['evidence-538528',\n",
       "   'evidence-739706',\n",
       "   'evidence-683138',\n",
       "   'evidence-851031',\n",
       "   'evidence-591257',\n",
       "   'evidence-771238',\n",
       "   'evidence-253690',\n",
       "   'evidence-248455',\n",
       "   'evidence-399273',\n",
       "   'evidence-849471'],\n",
       "  'claim_text': 'Scientists studying Antarctica sea ice warn a rise in accumulation could spark the next ice age.',\n",
       "  'filtered_evidences': ['evidence-771238',\n",
       "   'evidence-683138',\n",
       "   'evidence-591257',\n",
       "   'evidence-538528',\n",
       "   'evidence-739706']},\n",
       " 'claim-1643': {'initial_evidences': ['evidence-544253',\n",
       "   'evidence-575135',\n",
       "   'evidence-337194',\n",
       "   'evidence-134061',\n",
       "   'evidence-614890',\n",
       "   'evidence-736986',\n",
       "   'evidence-770760',\n",
       "   'evidence-617222',\n",
       "   'evidence-642670',\n",
       "   'evidence-1109658'],\n",
       "  'claim_text': \"Al Gore's book is quite accurate, and far more accurate than contrarian books.\",\n",
       "  'filtered_evidences': ['evidence-544253',\n",
       "   'evidence-134061',\n",
       "   'evidence-617222',\n",
       "   'evidence-575135',\n",
       "   'evidence-337194']},\n",
       " 'claim-1259': {'initial_evidences': ['evidence-626410',\n",
       "   'evidence-109778',\n",
       "   'evidence-1056470',\n",
       "   'evidence-383498',\n",
       "   'evidence-1025757',\n",
       "   'evidence-926240',\n",
       "   'evidence-13434',\n",
       "   'evidence-971000',\n",
       "   'evidence-948853',\n",
       "   'evidence-19886'],\n",
       "  'claim_text': 'While the north-east, midwest and upper great plains have experienced a 30% increase in heavy rainfall episodes – considered once-in-every-five year downpours – parts of the west, particularly California, have been parched by drought.',\n",
       "  'filtered_evidences': ['evidence-626410',\n",
       "   'evidence-109778',\n",
       "   'evidence-1056470',\n",
       "   'evidence-383498',\n",
       "   'evidence-1025757']},\n",
       " 'claim-1605': {'initial_evidences': ['evidence-1088298',\n",
       "   'evidence-1121998',\n",
       "   'evidence-508668',\n",
       "   'evidence-636423',\n",
       "   'evidence-584943',\n",
       "   'evidence-74778',\n",
       "   'evidence-121500',\n",
       "   'evidence-464979',\n",
       "   'evidence-988277',\n",
       "   'evidence-98842'],\n",
       "  'claim_text': 'Scientists retracted claim that sea levels are rising.',\n",
       "  'filtered_evidences': ['evidence-636423',\n",
       "   'evidence-74778',\n",
       "   'evidence-121500',\n",
       "   'evidence-464979',\n",
       "   'evidence-1088298']},\n",
       " 'claim-1711': {'initial_evidences': ['evidence-533511',\n",
       "   'evidence-59188',\n",
       "   'evidence-377592',\n",
       "   'evidence-865726',\n",
       "   'evidence-895823',\n",
       "   'evidence-315033',\n",
       "   'evidence-506460',\n",
       "   'evidence-695091',\n",
       "   'evidence-332148',\n",
       "   'evidence-300156'],\n",
       "  'claim_text': \"Global warming' and 'climate change' mean different things and have both been used for decades.\",\n",
       "  'filtered_evidences': ['evidence-377592',\n",
       "   'evidence-533511',\n",
       "   'evidence-59188',\n",
       "   'evidence-865726',\n",
       "   'evidence-895823']},\n",
       " 'claim-2236': {'initial_evidences': ['evidence-976285',\n",
       "   'evidence-1161423',\n",
       "   'evidence-493616',\n",
       "   'evidence-94272',\n",
       "   'evidence-220020',\n",
       "   'evidence-1064139',\n",
       "   'evidence-247680',\n",
       "   'evidence-383274',\n",
       "   'evidence-584709',\n",
       "   'evidence-755175'],\n",
       "  'claim_text': 'The majority of peer reviewed research at the time predicted warming due to increasing CO2.',\n",
       "  'filtered_evidences': ['evidence-976285',\n",
       "   'evidence-1161423',\n",
       "   'evidence-493616',\n",
       "   'evidence-94272',\n",
       "   'evidence-220020']},\n",
       " 'claim-1040': {'initial_evidences': ['evidence-654610',\n",
       "   'evidence-1174117',\n",
       "   'evidence-338219',\n",
       "   'evidence-809426',\n",
       "   'evidence-232927',\n",
       "   'evidence-635378',\n",
       "   'evidence-84454',\n",
       "   'evidence-98115',\n",
       "   'evidence-1092185',\n",
       "   'evidence-972570'],\n",
       "  'claim_text': 'While evidence that the earth’s orbital variations impact radiation levels and thus global temperatures does not of course mean that man is not in some way impacting the climate, studies like these highlight that the role man plays on the planet is dwarfed by natural phenomena utterly out of our control.',\n",
       "  'filtered_evidences': ['evidence-84454',\n",
       "   'evidence-654610',\n",
       "   'evidence-1174117',\n",
       "   'evidence-338219',\n",
       "   'evidence-809426']},\n",
       " 'claim-392': {'initial_evidences': ['evidence-1117137',\n",
       "   'evidence-268745',\n",
       "   'evidence-396628',\n",
       "   'evidence-521030',\n",
       "   'evidence-724010',\n",
       "   'evidence-508420',\n",
       "   'evidence-655717',\n",
       "   'evidence-1074729',\n",
       "   'evidence-84454',\n",
       "   'evidence-738480'],\n",
       "  'claim_text': 'a study that totally debunks the whole concept of man-made Global Warming',\n",
       "  'filtered_evidences': ['evidence-84454',\n",
       "   'evidence-1117137',\n",
       "   'evidence-268745',\n",
       "   'evidence-396628',\n",
       "   'evidence-521030']},\n",
       " 'claim-368': {'initial_evidences': ['evidence-948375',\n",
       "   'evidence-794227',\n",
       "   'evidence-968233',\n",
       "   'evidence-594005',\n",
       "   'evidence-834978',\n",
       "   'evidence-424893',\n",
       "   'evidence-988909',\n",
       "   'evidence-153898',\n",
       "   'evidence-438440',\n",
       "   'evidence-913626'],\n",
       "  'claim_text': 'The most recent IPCC report lays out a future if we limit global heating to 1.5°C instead of the Paris Agreement’s 2°C.',\n",
       "  'filtered_evidences': ['evidence-948375',\n",
       "   'evidence-794227',\n",
       "   'evidence-968233',\n",
       "   'evidence-594005',\n",
       "   'evidence-834978']},\n",
       " 'claim-559': {'initial_evidences': ['evidence-1047048',\n",
       "   'evidence-22048',\n",
       "   'evidence-473200',\n",
       "   'evidence-574477',\n",
       "   'evidence-946262',\n",
       "   'evidence-942611',\n",
       "   'evidence-1075856',\n",
       "   'evidence-109104',\n",
       "   'evidence-76224',\n",
       "   'evidence-176074'],\n",
       "  'claim_text': 'And there is a lot of evidence that climate change is diminishing biodiversity, which can be seen in these alpine meadows as well.',\n",
       "  'filtered_evidences': ['evidence-1075856',\n",
       "   'evidence-1047048',\n",
       "   'evidence-22048',\n",
       "   'evidence-473200',\n",
       "   'evidence-574477']},\n",
       " 'claim-2583': {'initial_evidences': ['evidence-1184683',\n",
       "   'evidence-247680',\n",
       "   'evidence-662931',\n",
       "   'evidence-376130',\n",
       "   'evidence-616168',\n",
       "   'evidence-510034',\n",
       "   'evidence-716825',\n",
       "   'evidence-453635',\n",
       "   'evidence-98914',\n",
       "   'evidence-805335'],\n",
       "  'claim_text': '\"Each unit of CO2 you put into the atmosphere has less and less of a warming impact.',\n",
       "  'filtered_evidences': ['evidence-1184683',\n",
       "   'evidence-247680',\n",
       "   'evidence-662931',\n",
       "   'evidence-376130',\n",
       "   'evidence-616168']},\n",
       " 'claim-2609': {'initial_evidences': ['evidence-450619',\n",
       "   'evidence-627472',\n",
       "   'evidence-938381',\n",
       "   'evidence-1051708',\n",
       "   'evidence-410087',\n",
       "   'evidence-801956',\n",
       "   'evidence-551522',\n",
       "   'evidence-890534',\n",
       "   'evidence-279492',\n",
       "   'evidence-718195'],\n",
       "  'claim_text': 'Individual carbon dioxide molecules have a short life time of around 5 years in the atmosphere.',\n",
       "  'filtered_evidences': ['evidence-450619',\n",
       "   'evidence-627472',\n",
       "   'evidence-938381',\n",
       "   'evidence-1051708',\n",
       "   'evidence-410087']},\n",
       " 'claim-492': {'initial_evidences': ['evidence-61272',\n",
       "   'evidence-8063',\n",
       "   'evidence-657950',\n",
       "   'evidence-936703',\n",
       "   'evidence-1082770',\n",
       "   'evidence-332148',\n",
       "   'evidence-858513',\n",
       "   'evidence-1091550',\n",
       "   'evidence-1066292',\n",
       "   'evidence-831116'],\n",
       "  'claim_text': 'But like most claims regarding global warming, the real effect is small, probably temporary, and most likely due to natural weather patterns',\n",
       "  'filtered_evidences': ['evidence-61272',\n",
       "   'evidence-8063',\n",
       "   'evidence-657950',\n",
       "   'evidence-936703',\n",
       "   'evidence-1082770']},\n",
       " 'claim-1420': {'initial_evidences': ['evidence-1062917',\n",
       "   'evidence-139165',\n",
       "   'evidence-768188',\n",
       "   'evidence-651795',\n",
       "   'evidence-438628',\n",
       "   'evidence-924788',\n",
       "   'evidence-860966',\n",
       "   'evidence-470508',\n",
       "   'evidence-442589',\n",
       "   'evidence-333326'],\n",
       "  'claim_text': 'Concentrated in the atmosphere, these gases do not allow the warmth of the sun’s rays reflected by the earth to be dispersed in space.',\n",
       "  'filtered_evidences': ['evidence-139165',\n",
       "   'evidence-1062917',\n",
       "   'evidence-768188',\n",
       "   'evidence-651795',\n",
       "   'evidence-438628']},\n",
       " 'claim-1089': {'initial_evidences': ['evidence-1183711',\n",
       "   'evidence-265967',\n",
       "   'evidence-815795',\n",
       "   'evidence-95039',\n",
       "   'evidence-11688',\n",
       "   'evidence-1034628',\n",
       "   'evidence-631872',\n",
       "   'evidence-810957',\n",
       "   'evidence-287127',\n",
       "   'evidence-108706'],\n",
       "  'claim_text': 'Last year’s warmth was manifested across the planet, from the warm tropical ocean waters off the coast of northeastern Australia, where the Great Barrier Reef experienced its worst coral bleaching event on record and large scale coral death, to the Arctic, where sea ice hit regular monthly record lows and overall temperatures were also the warmest on record, at least from January through September 2016.',\n",
       "  'filtered_evidences': ['evidence-1183711',\n",
       "   'evidence-265967',\n",
       "   'evidence-815795',\n",
       "   'evidence-95039',\n",
       "   'evidence-11688']},\n",
       " 'claim-1467': {'initial_evidences': ['evidence-488727',\n",
       "   'evidence-1102763',\n",
       "   'evidence-257475',\n",
       "   'evidence-1158606',\n",
       "   'evidence-956954',\n",
       "   'evidence-973268',\n",
       "   'evidence-620559',\n",
       "   'evidence-355487',\n",
       "   'evidence-721883',\n",
       "   'evidence-1132320'],\n",
       "  'claim_text': 'The amount of carbon dioxide absorbed by the upper layer of the oceans is increasing by about 2 billion tons per year.',\n",
       "  'filtered_evidences': ['evidence-488727',\n",
       "   'evidence-1102763',\n",
       "   'evidence-257475',\n",
       "   'evidence-1158606',\n",
       "   'evidence-956954']},\n",
       " 'claim-444': {'initial_evidences': ['evidence-889119',\n",
       "   'evidence-1190705',\n",
       "   'evidence-29224',\n",
       "   'evidence-187502',\n",
       "   'evidence-454312',\n",
       "   'evidence-51664',\n",
       "   'evidence-539925',\n",
       "   'evidence-617501',\n",
       "   'evidence-410087',\n",
       "   'evidence-518358'],\n",
       "  'claim_text': 'Carbon dioxide is a trace gas.”',\n",
       "  'filtered_evidences': ['evidence-1190705',\n",
       "   'evidence-29224',\n",
       "   'evidence-889119',\n",
       "   'evidence-187502',\n",
       "   'evidence-454312']},\n",
       " 'claim-803': {'initial_evidences': ['evidence-968233',\n",
       "   'evidence-584152',\n",
       "   'evidence-1198065',\n",
       "   'evidence-834757',\n",
       "   'evidence-794227',\n",
       "   'evidence-1150148',\n",
       "   'evidence-185180',\n",
       "   'evidence-1054845',\n",
       "   'evidence-990313',\n",
       "   'evidence-366668'],\n",
       "  'claim_text': 'The team of climate scientists notes that in failing to predict the warming ‘hiatus’ in the beginning of the 21st century, the Intergovernmental Panel on Climate Change (IPCC) models overestimated temperature increases…',\n",
       "  'filtered_evidences': ['evidence-968233',\n",
       "   'evidence-584152',\n",
       "   'evidence-1198065',\n",
       "   'evidence-834757',\n",
       "   'evidence-794227']},\n",
       " 'claim-1668': {'initial_evidences': ['evidence-29963',\n",
       "   'evidence-559069',\n",
       "   'evidence-1034941',\n",
       "   'evidence-589546',\n",
       "   'evidence-471916',\n",
       "   'evidence-53596',\n",
       "   'evidence-280204',\n",
       "   'evidence-254811',\n",
       "   'evidence-247197',\n",
       "   'evidence-298628'],\n",
       "  'claim_text': 'Thick arctic sea ice is in rapid retreat.',\n",
       "  'filtered_evidences': ['evidence-29963',\n",
       "   'evidence-559069',\n",
       "   'evidence-1034941',\n",
       "   'evidence-589546',\n",
       "   'evidence-471916']},\n",
       " 'claim-742': {'initial_evidences': ['evidence-133938',\n",
       "   'evidence-718136',\n",
       "   'evidence-963412',\n",
       "   'evidence-631053',\n",
       "   'evidence-549539',\n",
       "   'evidence-1119729',\n",
       "   'evidence-81396',\n",
       "   'evidence-128689',\n",
       "   'evidence-150709',\n",
       "   'evidence-118140'],\n",
       "  'claim_text': 'Global human emissions are only 3 per cent of total annual emissions.',\n",
       "  'filtered_evidences': ['evidence-133938',\n",
       "   'evidence-718136',\n",
       "   'evidence-963412',\n",
       "   'evidence-631053',\n",
       "   'evidence-549539']},\n",
       " 'claim-846': {'initial_evidences': ['evidence-1099844',\n",
       "   'evidence-769821',\n",
       "   'evidence-962207',\n",
       "   'evidence-1067341',\n",
       "   'evidence-845541',\n",
       "   'evidence-529121',\n",
       "   'evidence-421276',\n",
       "   'evidence-779263',\n",
       "   'evidence-1069909',\n",
       "   'evidence-1020805'],\n",
       "  'claim_text': 'In other words, we have, trapped in Arctic permafrost, twice as much carbon as is currently wrecking the atmosphere of the planet, all of it scheduled to be released at a date that keeps getting moved up, partially in the form of a gas that multiplies its warming power 86 times over.',\n",
       "  'filtered_evidences': ['evidence-1099844',\n",
       "   'evidence-769821',\n",
       "   'evidence-962207',\n",
       "   'evidence-1067341',\n",
       "   'evidence-845541']},\n",
       " 'claim-2119': {'initial_evidences': ['evidence-127999',\n",
       "   'evidence-1175347',\n",
       "   'evidence-285600',\n",
       "   'evidence-122504',\n",
       "   'evidence-684895',\n",
       "   'evidence-364924',\n",
       "   'evidence-1205331',\n",
       "   'evidence-848463',\n",
       "   'evidence-779966',\n",
       "   'evidence-700426'],\n",
       "  'claim_text': 'Lindzen and Choi find low climate sensitivity',\n",
       "  'filtered_evidences': ['evidence-127999',\n",
       "   'evidence-1175347',\n",
       "   'evidence-285600',\n",
       "   'evidence-122504',\n",
       "   'evidence-684895']},\n",
       " 'claim-1167': {'initial_evidences': ['evidence-908316',\n",
       "   'evidence-479543',\n",
       "   'evidence-885836',\n",
       "   'evidence-346902',\n",
       "   'evidence-1047356',\n",
       "   'evidence-540478',\n",
       "   'evidence-315148',\n",
       "   'evidence-875371',\n",
       "   'evidence-979869',\n",
       "   'evidence-250931'],\n",
       "  'claim_text': 'Lake-bottom sediments in Florida tell us that recent major hurricane activity in the Gulf of Mexico has been less frequent than in centuries past.',\n",
       "  'filtered_evidences': ['evidence-908316',\n",
       "   'evidence-479543',\n",
       "   'evidence-885836',\n",
       "   'evidence-346902',\n",
       "   'evidence-1047356']},\n",
       " 'claim-623': {'initial_evidences': ['evidence-446509',\n",
       "   'evidence-965161',\n",
       "   'evidence-1192617',\n",
       "   'evidence-636423',\n",
       "   'evidence-29077',\n",
       "   'evidence-75509',\n",
       "   'evidence-336860',\n",
       "   'evidence-171000',\n",
       "   'evidence-400437',\n",
       "   'evidence-82325'],\n",
       "  'claim_text': 'The noted oceanographer Walter Munk referred to sea-level rise as an “enigma”',\n",
       "  'filtered_evidences': ['evidence-336860',\n",
       "   'evidence-82325',\n",
       "   'evidence-1192617',\n",
       "   'evidence-636423',\n",
       "   'evidence-446509']},\n",
       " 'claim-2882': {'initial_evidences': ['evidence-363958',\n",
       "   'evidence-415728',\n",
       "   'evidence-624594',\n",
       "   'evidence-628361',\n",
       "   'evidence-167011',\n",
       "   'evidence-23689',\n",
       "   'evidence-757938',\n",
       "   'evidence-548492',\n",
       "   'evidence-690855',\n",
       "   'evidence-163066'],\n",
       "  'claim_text': 'Trenberth\\'s views are clarified in the paper \"An imperative for climate change planning: tracking Earth\\'s global energy\".',\n",
       "  'filtered_evidences': ['evidence-363958',\n",
       "   'evidence-415728',\n",
       "   'evidence-624594',\n",
       "   'evidence-628361',\n",
       "   'evidence-167011']},\n",
       " 'claim-1698': {'initial_evidences': ['evidence-503460',\n",
       "   'evidence-1094467',\n",
       "   'evidence-1200842',\n",
       "   'evidence-489930',\n",
       "   'evidence-1007867',\n",
       "   'evidence-793124',\n",
       "   'evidence-814721',\n",
       "   'evidence-98115',\n",
       "   'evidence-51798',\n",
       "   'evidence-773904'],\n",
       "  'claim_text': 'Around 97% of climate experts agree that humans are causing global warming.',\n",
       "  'filtered_evidences': ['evidence-503460',\n",
       "   'evidence-1094467',\n",
       "   'evidence-1200842',\n",
       "   'evidence-489930',\n",
       "   'evidence-1007867']},\n",
       " 'claim-181': {'initial_evidences': ['evidence-575649',\n",
       "   'evidence-810126',\n",
       "   'evidence-1124018',\n",
       "   'evidence-19119',\n",
       "   'evidence-92119',\n",
       "   'evidence-255391',\n",
       "   'evidence-614574',\n",
       "   'evidence-608016',\n",
       "   'evidence-312865',\n",
       "   'evidence-127007'],\n",
       "  'claim_text': 'Reefs need carbon dioxide; it’s their basic food.',\n",
       "  'filtered_evidences': ['evidence-575649',\n",
       "   'evidence-810126',\n",
       "   'evidence-1124018',\n",
       "   'evidence-19119',\n",
       "   'evidence-92119']},\n",
       " 'claim-281': {'initial_evidences': ['evidence-1174955',\n",
       "   'evidence-1142444',\n",
       "   'evidence-657030',\n",
       "   'evidence-412952',\n",
       "   'evidence-264263',\n",
       "   'evidence-794919',\n",
       "   'evidence-416007',\n",
       "   'evidence-724010',\n",
       "   'evidence-958457',\n",
       "   'evidence-741089'],\n",
       "  'claim_text': 'In an interview with the BBC after the scandal broke, Dr Jones admitted there had been no statistically significant global warming since 1995',\n",
       "  'filtered_evidences': ['evidence-1174955',\n",
       "   'evidence-1142444',\n",
       "   'evidence-657030',\n",
       "   'evidence-412952',\n",
       "   'evidence-264263']},\n",
       " 'claim-2809': {'initial_evidences': ['evidence-27495',\n",
       "   'evidence-875252',\n",
       "   'evidence-124035',\n",
       "   'evidence-166605',\n",
       "   'evidence-1084296',\n",
       "   'evidence-995233',\n",
       "   'evidence-749407',\n",
       "   'evidence-833614',\n",
       "   'evidence-900868',\n",
       "   'evidence-793682'],\n",
       "  'claim_text': 'The motions of the massive oceans where heat is moved between deep layers and the surface provides variability on time scales from years to centuries.',\n",
       "  'filtered_evidences': ['evidence-27495',\n",
       "   'evidence-875252',\n",
       "   'evidence-124035',\n",
       "   'evidence-166605',\n",
       "   'evidence-1084296']},\n",
       " 'claim-1928': {'initial_evidences': ['evidence-529248',\n",
       "   'evidence-18368',\n",
       "   'evidence-116639',\n",
       "   'evidence-175787',\n",
       "   'evidence-780659',\n",
       "   'evidence-743206',\n",
       "   'evidence-179554',\n",
       "   'evidence-212614',\n",
       "   'evidence-1077625',\n",
       "   'evidence-427121'],\n",
       "  'claim_text': 'NASA Finds Antarctica is Gaining Ice,',\n",
       "  'filtered_evidences': ['evidence-18368',\n",
       "   'evidence-175787',\n",
       "   'evidence-780659',\n",
       "   'evidence-212614',\n",
       "   'evidence-427121']},\n",
       " 'claim-2787': {'initial_evidences': ['evidence-1049371',\n",
       "   'evidence-158204',\n",
       "   'evidence-616168',\n",
       "   'evidence-210167',\n",
       "   'evidence-223619',\n",
       "   'evidence-16169',\n",
       "   'evidence-950248',\n",
       "   'evidence-599055',\n",
       "   'evidence-956940',\n",
       "   'evidence-1111236'],\n",
       "  'claim_text': \"Hansen's 1988 results are evidence that the actual climate sensitivity is about 3°C for a doubling of atmospheric CO2.\",\n",
       "  'filtered_evidences': ['evidence-1049371',\n",
       "   'evidence-158204',\n",
       "   'evidence-616168',\n",
       "   'evidence-210167',\n",
       "   'evidence-223619']},\n",
       " 'claim-478': {'initial_evidences': ['evidence-516402',\n",
       "   'evidence-693168',\n",
       "   'evidence-888963',\n",
       "   'evidence-404422',\n",
       "   'evidence-784559',\n",
       "   'evidence-792604',\n",
       "   'evidence-930414',\n",
       "   'evidence-774479',\n",
       "   'evidence-912662',\n",
       "   'evidence-391155'],\n",
       "  'claim_text': 'Protecting and restoring forests would reduce 18% of emissions by 2030',\n",
       "  'filtered_evidences': ['evidence-516402',\n",
       "   'evidence-693168',\n",
       "   'evidence-888963',\n",
       "   'evidence-404422',\n",
       "   'evidence-784559']},\n",
       " 'claim-988': {'initial_evidences': ['evidence-755597',\n",
       "   'evidence-725565',\n",
       "   'evidence-844144',\n",
       "   'evidence-803929',\n",
       "   'evidence-8793',\n",
       "   'evidence-894746',\n",
       "   'evidence-33576',\n",
       "   'evidence-71288',\n",
       "   'evidence-368473',\n",
       "   'evidence-575380'],\n",
       "  'claim_text': 'The unlikely scenarios are now, all of a sudden, becoming more probable than they once were thought to be,’ says Sweet.”',\n",
       "  'filtered_evidences': ['evidence-844144',\n",
       "   'evidence-755597',\n",
       "   'evidence-725565',\n",
       "   'evidence-803929',\n",
       "   'evidence-8793']},\n",
       " 'claim-266': {'initial_evidences': ['evidence-794055',\n",
       "   'evidence-227055',\n",
       "   'evidence-651403',\n",
       "   'evidence-864143',\n",
       "   'evidence-142656',\n",
       "   'evidence-341739',\n",
       "   'evidence-1061949',\n",
       "   'evidence-313955',\n",
       "   'evidence-206495',\n",
       "   'evidence-101509'],\n",
       "  'claim_text': 'The IPCC no longer includes the ‘Hockey stick’ chart in its reports.',\n",
       "  'filtered_evidences': ['evidence-227055',\n",
       "   'evidence-864143',\n",
       "   'evidence-101509',\n",
       "   'evidence-794055',\n",
       "   'evidence-651403']},\n",
       " 'claim-2282': {'initial_evidences': ['evidence-725428',\n",
       "   'evidence-1068834',\n",
       "   'evidence-942779',\n",
       "   'evidence-1195607',\n",
       "   'evidence-945977',\n",
       "   'evidence-279393',\n",
       "   'evidence-947076',\n",
       "   'evidence-409754',\n",
       "   'evidence-5928',\n",
       "   'evidence-169104'],\n",
       "  'claim_text': 'While there are isolated cases of growing glaciers, the overwhelming trend in glaciers worldwide is retreat.',\n",
       "  'filtered_evidences': ['evidence-1195607',\n",
       "   'evidence-945977',\n",
       "   'evidence-725428',\n",
       "   'evidence-1068834',\n",
       "   'evidence-942779']},\n",
       " 'claim-2895': {'initial_evidences': ['evidence-429157',\n",
       "   'evidence-812408',\n",
       "   'evidence-371380',\n",
       "   'evidence-211360',\n",
       "   'evidence-81511',\n",
       "   'evidence-866265',\n",
       "   'evidence-1094979',\n",
       "   'evidence-431957',\n",
       "   'evidence-1160686',\n",
       "   'evidence-175598'],\n",
       "  'claim_text': 'The latest  measurements involve the use of satellite gravimetry, estimating  the mass of terrain beneath by detecting slight changes in gravity as a  satellite passes overhead.',\n",
       "  'filtered_evidences': ['evidence-812408',\n",
       "   'evidence-429157',\n",
       "   'evidence-371380',\n",
       "   'evidence-211360',\n",
       "   'evidence-81511']},\n",
       " 'claim-349': {'initial_evidences': ['evidence-990320',\n",
       "   'evidence-323541',\n",
       "   'evidence-937356',\n",
       "   'evidence-1075985',\n",
       "   'evidence-96441',\n",
       "   'evidence-617271',\n",
       "   'evidence-631826',\n",
       "   'evidence-633996',\n",
       "   'evidence-664539',\n",
       "   'evidence-221658'],\n",
       "  'claim_text': 'Nor is there evidence of an increase in floods globally.',\n",
       "  'filtered_evidences': ['evidence-617271',\n",
       "   'evidence-990320',\n",
       "   'evidence-323541',\n",
       "   'evidence-937356',\n",
       "   'evidence-1075985']},\n",
       " 'claim-2101': {'initial_evidences': ['evidence-208863',\n",
       "   'evidence-269791',\n",
       "   'evidence-1155515',\n",
       "   'evidence-390216',\n",
       "   'evidence-1029618',\n",
       "   'evidence-207443',\n",
       "   'evidence-1178290',\n",
       "   'evidence-1115434',\n",
       "   'evidence-37274',\n",
       "   'evidence-1166955'],\n",
       "  'claim_text': 'Clouds provide negative feedback',\n",
       "  'filtered_evidences': ['evidence-1115434',\n",
       "   'evidence-208863',\n",
       "   'evidence-269791',\n",
       "   'evidence-1155515',\n",
       "   'evidence-390216']},\n",
       " 'claim-897': {'initial_evidences': ['evidence-318997',\n",
       "   'evidence-914993',\n",
       "   'evidence-299069',\n",
       "   'evidence-445359',\n",
       "   'evidence-298396',\n",
       "   'evidence-1098364',\n",
       "   'evidence-1086216',\n",
       "   'evidence-195729',\n",
       "   'evidence-213716',\n",
       "   'evidence-1200076'],\n",
       "  'claim_text': 'The report […] found that the United States was one of the most pollution-free nations in the world.”',\n",
       "  'filtered_evidences': ['evidence-298396',\n",
       "   'evidence-195729',\n",
       "   'evidence-1200076',\n",
       "   'evidence-318997',\n",
       "   'evidence-914993']},\n",
       " 'claim-3063': {'initial_evidences': ['evidence-35625',\n",
       "   'evidence-1004521',\n",
       "   'evidence-90274',\n",
       "   'evidence-588917',\n",
       "   'evidence-469998',\n",
       "   'evidence-846475',\n",
       "   'evidence-149374',\n",
       "   'evidence-760798',\n",
       "   'evidence-1003462',\n",
       "   'evidence-691304'],\n",
       "  'claim_text': \"'Another global warming myth comes crashing down.\",\n",
       "  'filtered_evidences': ['evidence-469998',\n",
       "   'evidence-35625',\n",
       "   'evidence-1004521',\n",
       "   'evidence-90274',\n",
       "   'evidence-588917']},\n",
       " 'claim-386': {'initial_evidences': ['evidence-354016',\n",
       "   'evidence-763336',\n",
       "   'evidence-693024',\n",
       "   'evidence-563485',\n",
       "   'evidence-936836',\n",
       "   'evidence-1060245',\n",
       "   'evidence-285002',\n",
       "   'evidence-915272',\n",
       "   'evidence-358594',\n",
       "   'evidence-68566'],\n",
       "  'claim_text': 'Renew\\xadables such as wind turbines are environmentally disastrous because they pollute a huge land area, slice and dice birds and bats, kill insects that are bird food, create health problems for humans who live within kilometres of them, leave toxins around the turbine site and despoil the landscape.',\n",
       "  'filtered_evidences': ['evidence-563485',\n",
       "   'evidence-1060245',\n",
       "   'evidence-354016',\n",
       "   'evidence-763336',\n",
       "   'evidence-693024']},\n",
       " 'claim-2691': {'initial_evidences': ['evidence-1190716',\n",
       "   'evidence-1074121',\n",
       "   'evidence-885209',\n",
       "   'evidence-553459',\n",
       "   'evidence-289779',\n",
       "   'evidence-481333',\n",
       "   'evidence-1162415',\n",
       "   'evidence-119592',\n",
       "   'evidence-1087907',\n",
       "   'evidence-230286'],\n",
       "  'claim_text': \"There are a myriad of other radiative forcings that affect the planet's energy imbalance.\",\n",
       "  'filtered_evidences': ['evidence-1190716',\n",
       "   'evidence-1074121',\n",
       "   'evidence-885209',\n",
       "   'evidence-553459',\n",
       "   'evidence-289779']},\n",
       " 'claim-530': {'initial_evidences': ['evidence-572512',\n",
       "   'evidence-48256',\n",
       "   'evidence-67732',\n",
       "   'evidence-622374',\n",
       "   'evidence-1075134',\n",
       "   'evidence-1050894',\n",
       "   'evidence-32901',\n",
       "   'evidence-780332',\n",
       "   'evidence-866329',\n",
       "   'evidence-1070419'],\n",
       "  'claim_text': 'South Australia is winning: it has the most unreliable grid in the world outside Africa and the most expensive electricity.',\n",
       "  'filtered_evidences': ['evidence-1075134',\n",
       "   'evidence-622374',\n",
       "   'evidence-32901',\n",
       "   'evidence-572512',\n",
       "   'evidence-48256']},\n",
       " 'claim-2979': {'initial_evidences': ['evidence-986681',\n",
       "   'evidence-274044',\n",
       "   'evidence-481206',\n",
       "   'evidence-80853',\n",
       "   'evidence-844426',\n",
       "   'evidence-179283',\n",
       "   'evidence-548137',\n",
       "   'evidence-706949',\n",
       "   'evidence-991415',\n",
       "   'evidence-108078'],\n",
       "  'claim_text': 'Water vapor helps trap heat, and is a far the strongest of the major greenhouse gases, contributing 36–72 percent of the greenhouse effect.',\n",
       "  'filtered_evidences': ['evidence-986681',\n",
       "   'evidence-274044',\n",
       "   'evidence-481206',\n",
       "   'evidence-80853',\n",
       "   'evidence-844426']},\n",
       " 'claim-665': {'initial_evidences': ['evidence-578925',\n",
       "   'evidence-1105120',\n",
       "   'evidence-862997',\n",
       "   'evidence-726838',\n",
       "   'evidence-565971',\n",
       "   'evidence-143437',\n",
       "   'evidence-823621',\n",
       "   'evidence-602665',\n",
       "   'evidence-840950',\n",
       "   'evidence-133419'],\n",
       "  'claim_text': 'many scientists were surprised when other researchers subsequently found that ringed and bearded seals (the primary prey of polar bears) north of the Bering Strait especially thrived with a longer open-water season, which is particularly conducive to fishing',\n",
       "  'filtered_evidences': ['evidence-578925',\n",
       "   'evidence-1105120',\n",
       "   'evidence-862997',\n",
       "   'evidence-726838',\n",
       "   'evidence-565971']},\n",
       " 'claim-199': {'initial_evidences': ['evidence-453529',\n",
       "   'evidence-714675',\n",
       "   'evidence-260744',\n",
       "   'evidence-175965',\n",
       "   'evidence-667703',\n",
       "   'evidence-930564',\n",
       "   'evidence-953997',\n",
       "   'evidence-1021635',\n",
       "   'evidence-185243',\n",
       "   'evidence-13780'],\n",
       "  'claim_text': 'In the past, warming has never been a threat to life on Earth.',\n",
       "  'filtered_evidences': ['evidence-13780',\n",
       "   'evidence-953997',\n",
       "   'evidence-453529',\n",
       "   'evidence-714675',\n",
       "   'evidence-260744']},\n",
       " 'claim-490': {'initial_evidences': ['evidence-941768',\n",
       "   'evidence-864757',\n",
       "   'evidence-44389',\n",
       "   'evidence-300085',\n",
       "   'evidence-75631',\n",
       "   'evidence-7561',\n",
       "   'evidence-185180',\n",
       "   'evidence-1046773',\n",
       "   'evidence-1016669',\n",
       "   'evidence-1007486'],\n",
       "  'claim_text': 'IPCC report warning last week the world is “nowhere near on track” to meet its Paris commitments',\n",
       "  'filtered_evidences': ['evidence-1007486',\n",
       "   'evidence-1046773',\n",
       "   'evidence-1016669',\n",
       "   'evidence-941768',\n",
       "   'evidence-864757']},\n",
       " 'claim-2400': {'initial_evidences': ['evidence-55991',\n",
       "   'evidence-510034',\n",
       "   'evidence-808385',\n",
       "   'evidence-220020',\n",
       "   'evidence-453635',\n",
       "   'evidence-889119',\n",
       "   'evidence-662931',\n",
       "   'evidence-410087',\n",
       "   'evidence-508812',\n",
       "   'evidence-94272'],\n",
       "  'claim_text': '\\'To suddenly label CO2 as a \"pollutant\" is a disservice to a gas that has played an enormous role in the development and sustainability of all life on this wonderful Earth.',\n",
       "  'filtered_evidences': ['evidence-55991',\n",
       "   'evidence-510034',\n",
       "   'evidence-808385',\n",
       "   'evidence-220020',\n",
       "   'evidence-453635']},\n",
       " 'claim-204': {'initial_evidences': ['evidence-613135',\n",
       "   'evidence-399231',\n",
       "   'evidence-657496',\n",
       "   'evidence-1184683',\n",
       "   'evidence-648764',\n",
       "   'evidence-498380',\n",
       "   'evidence-625563',\n",
       "   'evidence-203533',\n",
       "   'evidence-504449',\n",
       "   'evidence-874346'],\n",
       "  'claim_text': 'after a natural orbitally driven warming, atmospheric carbon dioxide content increases 800 years later',\n",
       "  'filtered_evidences': ['evidence-613135',\n",
       "   'evidence-399231',\n",
       "   'evidence-657496',\n",
       "   'evidence-1184683',\n",
       "   'evidence-648764']},\n",
       " 'claim-1426': {'initial_evidences': ['evidence-580567',\n",
       "   'evidence-369389',\n",
       "   'evidence-1001116',\n",
       "   'evidence-386380',\n",
       "   'evidence-1048388',\n",
       "   'evidence-744921',\n",
       "   'evidence-257034',\n",
       "   'evidence-705942',\n",
       "   'evidence-509648',\n",
       "   'evidence-97587'],\n",
       "  'claim_text': 'Many of the world’s coral reefs are already barren or in a state of constant decline.',\n",
       "  'filtered_evidences': ['evidence-386380',\n",
       "   'evidence-580567',\n",
       "   'evidence-369389',\n",
       "   'evidence-1001116',\n",
       "   'evidence-1048388']},\n",
       " 'claim-698': {'initial_evidences': ['evidence-526112',\n",
       "   'evidence-366949',\n",
       "   'evidence-510347',\n",
       "   'evidence-488270',\n",
       "   'evidence-475230',\n",
       "   'evidence-980959',\n",
       "   'evidence-107116',\n",
       "   'evidence-529355',\n",
       "   'evidence-526003',\n",
       "   'evidence-1056020'],\n",
       "  'claim_text': 'A recent study led by Lawrence Livermore National Laboratory climate scientist Ben Santer found that while the models ran hot, the ‘overestimation’ was ‘partly due to systematic deficiencies in some of the post-2000 external forcings used in the model simulations.’',\n",
       "  'filtered_evidences': ['evidence-526112',\n",
       "   'evidence-366949',\n",
       "   'evidence-510347',\n",
       "   'evidence-488270',\n",
       "   'evidence-475230']},\n",
       " 'claim-1021': {'initial_evidences': ['evidence-1175280',\n",
       "   'evidence-1050619',\n",
       "   'evidence-754191',\n",
       "   'evidence-930563',\n",
       "   'evidence-748548',\n",
       "   'evidence-326643',\n",
       "   'evidence-608016',\n",
       "   'evidence-1196738',\n",
       "   'evidence-877068',\n",
       "   'evidence-900586'],\n",
       "  'claim_text': 'The corals may save themselves, as many other creatures are attempting to do, by moving toward the poles as the Earth warms, establishing new reefs in cooler water.”',\n",
       "  'filtered_evidences': ['evidence-1175280',\n",
       "   'evidence-1050619',\n",
       "   'evidence-754191',\n",
       "   'evidence-930563',\n",
       "   'evidence-748548']}}"
      ]
     },
     "execution_count": 15,
     "metadata": {},
     "output_type": "execute_result"
    }
   ],
   "source": [
    "def process_claims(llama_filterer, dev_claims_set):\n",
    "    for claim_id, claim_data in dev_claims_set.items():\n",
    "        candidates = claim_data['initial_evidences']\n",
    "        print(candidates)\n",
    "        filtered = llama_filterer.filter_evidence(claim_data['claim_text'], get_evidence_text(candidates))\n",
    "        dev_claims_set[claim_id]['filtered_evidences'] = [eid for eid, _, _ in filtered]\n",
    "    \n",
    "        # store output\n",
    "    with open('data/filtered_retrieval_output.json', 'w') as f:\n",
    "        json.dump(dev_claims_set, f, indent=2)\n",
    "    return dev_claims_set\n",
    "\n",
    "res = process_claims(llama_filter,res)\n",
    "res"
   ]
  },
  {
   "cell_type": "code",
   "execution_count": null,
   "id": "af32f19b",
   "metadata": {},
   "outputs": [],
   "source": [
    "class HybridRetriever:\n",
    "    def __init__(self, retriever: EvidenceClaimRetriever, llama_filter: LLaMAFilter):\n",
    "        self.retriever = retriever\n",
    "        self.filter = llama_filter\n",
    "\n",
    "    def load_data(self, claims_path, evidence_path):\n",
    "        \"\"\"Load data for retriever\"\"\"\n",
    "        self.retriever.load_data(claims_path, evidence_path)\n",
    "\n",
    "    def load_dev_data(self, dev_claims_path):\n",
    "        \"\"\"Load dev data for retriever\"\"\"\n",
    "        self.retriever.load_dev_data(dev_claims_path)\n",
    "\n",
    "    # def train(self, output_dir='./trained_model'):\n",
    "    #     \"\"\"Train the retriever\"\"\"\n",
    "    #     self.retriever.train(output_dir)\n",
    "\n",
    "    def index_evidence(self, save_path='data/evidence_embeddings.pth'):\n",
    "        \"\"\"Index evidence for retriever\"\"\"\n",
    "        self.retriever.index_evidence(save_path)\n",
    "    def get_evidence_text(self, evidences):\n",
    "        eids = [eid for eid, _ in evidences]\n",
    "        return [(eid, self.retriever.evidence_map[eid]) for eid in eids]\n",
    "    def retrieve_and_filter(self, claim_text, top_k_initial=10, top_k_final=5):\n",
    "        \"\"\"Retrieve top 10 with sentence-transformers, filter to top 5 with LLaMA\"\"\"\n",
    "        initial_results = self.retriever.retrieve(claim_text, top_k=top_k_initial)\n",
    "        final_results = self.filter.filter_evidence(claim_text, get_evidence_text(initial_results), final_k=top_k_final)\n",
    "        return final_results\n",
    "\n",
    "    def evaluate(self, claims_path, top_k_initial=10, top_k_final=5):\n",
    "        \"\"\"Evaluate the hybrid system\"\"\"\n",
    "        with open(claims_path) as f:\n",
    "            claims = json.load(f)\n",
    "\n",
    "        recall_initial = 0\n",
    "        recall_final = 0\n",
    "        precision_final = 0\n",
    "        mrr_final = 0\n",
    "        runtimes = []\n",
    "        memory_usages = []\n",
    "\n",
    "        import time\n",
    "        import psutil\n",
    "        process = psutil.Process(os.getpid())\n",
    "\n",
    "        for claim_id, claim_data in claims.items():\n",
    "            claim_text = claim_data['claim_text']\n",
    "            relevant = set(claim_data['evidences'])\n",
    "\n",
    "            # Measure runtime and memory\n",
    "            start_time = time.time()\n",
    "            results = self.retrieve_and_filter(claim_text, top_k_initial, top_k_final)\n",
    "            runtime = time.time() - start_time\n",
    "            runtimes.append(runtime)\n",
    "            memory_usages.append(process.memory_info().rss / 1024**2)  # MB\n",
    "\n",
    "            # Get retrieved evidence IDs\n",
    "            retrieved_final = {eid for eid, _, _ in results}\n",
    "            retrieved_initial = {eid for eid, _ in self.retriever.retrieve(claim_text, top_k_initial)}\n",
    "\n",
    "            # Recall for initial retriever\n",
    "            recall_initial += len(relevant & retrieved_initial) / len(relevant) if relevant else 0\n",
    "\n",
    "            # Recall for final hybrid\n",
    "            recall_final += len(relevant & retrieved_final) / len(relevant) if relevant else 0\n",
    "\n",
    "            # Precision for final hybrid\n",
    "            precision_final += len(relevant & retrieved_final) / top_k_final if relevant else 0\n",
    "\n",
    "            # MRR for final hybrid\n",
    "            for rank, (eid, _, _) in enumerate(results, 1):\n",
    "                if eid in relevant:\n",
    "                    mrr_final += 1 / rank\n",
    "                    break\n",
    "            else:\n",
    "                mrr_final += 0\n",
    "\n",
    "        n = len(claims)\n",
    "        return {\n",
    "            \"Recall@10 (Initial)\": recall_initial / n,\n",
    "            \"Recall@5 (Final)\": recall_final / n,\n",
    "            \"Precision@5 (Final)\": precision_final / n,\n",
    "            \"MRR@5 (Final)\": mrr_final / n,\n",
    "            \"Avg Runtime (s)\": sum(runtimes) / n,\n",
    "            \"Avg Memory (MB)\": sum(memory_usages) / n\n",
    "        }"
   ]
  }
 ],
 "metadata": {
  "kernelspec": {
   "display_name": ".venv",
   "language": "python",
   "name": "python3"
  },
  "language_info": {
   "codemirror_mode": {
    "name": "ipython",
    "version": 3
   },
   "file_extension": ".py",
   "mimetype": "text/x-python",
   "name": "python",
   "nbconvert_exporter": "python",
   "pygments_lexer": "ipython3",
   "version": "3.12.8"
  }
 },
 "nbformat": 4,
 "nbformat_minor": 5
}
