{
 "cells": [
  {
   "cell_type": "markdown",
   "id": "f0445526",
   "metadata": {},
   "source": [
    "# 2025 COMP90042 Project"
   ]
  },
  {
   "cell_type": "markdown",
   "id": "64d93c1e",
   "metadata": {},
   "source": [
    "# 1.Dataset Processing"
   ]
  },
  {
   "cell_type": "markdown",
   "id": "0b37da0d",
   "metadata": {},
   "source": [
    "# 2. Model Implementation"
   ]
  },
  {
   "cell_type": "code",
   "execution_count": 1,
   "id": "fc1e13e2",
   "metadata": {},
   "outputs": [],
   "source": [
    "import json\n",
    "import os\n",
    "import random\n",
    "import torch\n",
    "from datasets import Dataset\n",
    "from torch.utils.data import DataLoader\n",
    "from sentence_transformers import SentenceTransformer, losses, InputExample, evaluation\n",
    "\n",
    "class EvidenceClaimRetriever:\n",
    "    def __init__(self, model_name='all-mpnet-base-v2', batch_size=16, num_epochs=3):\n",
    "        self.model = SentenceTransformer(model_name)\n",
    "        self.batch_size = batch_size\n",
    "        self.num_epochs = num_epochs\n",
    "        self.evidence_map = {}\n",
    "        self.label_mapping = {\n",
    "            'SUPPORTS': 1,\n",
    "            'REFUTES': 1,\n",
    "            'DISPUTED': 1,\n",
    "            'NOT_ENOUGH_INFO': 0\n",
    "        }\n",
    "\n",
    "    def load_data(self, claims_path, evidence_path):\n",
    "        \"\"\"Load training data and evidence corpus\"\"\"\n",
    "        # Load evidence corpus\n",
    "        with open(evidence_path) as f:\n",
    "            self.evidence_map = json.load(f)\n",
    "\n",
    "        # Load training claims\n",
    "        with open(claims_path) as f:\n",
    "            train_claims = json.load(f)\n",
    "\n",
    "        # Create training examples\n",
    "        self.train_examples = []\n",
    "        for claim_id, claim_data in train_claims.items():\n",
    "            self._process_claim(claim_data)\n",
    "\n",
    "    def _process_claim(self, claim_data):\n",
    "        \"\"\"Create training examples for a single claim\"\"\"\n",
    "        claim_text = claim_data['claim_text']\n",
    "        evidence_ids = claim_data['evidences']\n",
    "\n",
    "        # Add positive examples\n",
    "        for eid in evidence_ids:\n",
    "            if eid in self.evidence_map:\n",
    "                self.train_examples.append(InputExample(\n",
    "                    texts=[claim_text, self.evidence_map[eid]],\n",
    "                    label=self.label_mapping[claim_data['claim_label']]\n",
    "                ))\n",
    "\n",
    "        # Add negative examples\n",
    "        self._add_negative_examples(claim_text, evidence_ids, claim_data['claim_label'])\n",
    "\n",
    "    def _add_negative_examples(self, claim_text, positive_ids, label):\n",
    "        \"\"\"Add negative examples with proper ratio\"\"\"\n",
    "        all_evidence_ids = list(self.evidence_map.keys())\n",
    "        negative_candidates = list(set(all_evidence_ids) - set(positive_ids))\n",
    "\n",
    "        # Determine number of negatives based on label\n",
    "        if label == 'NOT_ENOUGH_INFO':\n",
    "            num_negatives = min(2, len(negative_candidates))\n",
    "        else:\n",
    "            num_negatives = min(3 * len(positive_ids), len(negative_candidates))\n",
    "\n",
    "        # Add selected negatives\n",
    "        for eid in random.sample(negative_candidates, num_negatives):\n",
    "            self.train_examples.append(InputExample(\n",
    "                texts=[claim_text, self.evidence_map[eid]],\n",
    "                label=0\n",
    "            ))\n",
    "\n",
    "    def load_dev_data(self, dev_claims_path):\n",
    "        \"\"\"Load separate dev set for validation\"\"\"\n",
    "        with open(dev_claims_path) as f:\n",
    "            dev_claims = json.load(f)\n",
    "\n",
    "        # Prepare for InformationRetrievalEvaluator\n",
    "        self.dev_queries = {}\n",
    "        self.relevant_docs = {}\n",
    "\n",
    "        for claim_id, claim_data in dev_claims.items():\n",
    "            claim_text = claim_data['claim_text']\n",
    "            evidence_ids = claim_data['evidences']\n",
    "\n",
    "            self.dev_queries[claim_id] = claim_text\n",
    "            self.relevant_docs[claim_id] = set(evidence_ids)\n",
    "\n",
    "    def train(self, output_dir='./trained_model'):\n",
    "        \"\"\"Train using dedicated dev set for validation\"\"\"\n",
    "        # Create evaluator using separate dev set\n",
    "        dev_evaluator = evaluation.InformationRetrievalEvaluator(\n",
    "            queries=self.dev_queries,\n",
    "            corpus=self.evidence_map,\n",
    "            relevant_docs=self.relevant_docs,\n",
    "            show_progress_bar=True\n",
    "        )\n",
    "\n",
    "        # Create DataLoader directly from InputExamples\n",
    "        train_dataloader = DataLoader(\n",
    "            self.train_examples,  # Use the list of InputExamples directly\n",
    "            shuffle=True,\n",
    "            batch_size=self.batch_size\n",
    "        )\n",
    "\n",
    "        # Use MultipleNegativesRankingLoss\n",
    "        train_loss = losses.MultipleNegativesRankingLoss(self.model)\n",
    "\n",
    "        # Training configuration\n",
    "        self.model.fit(\n",
    "            train_objectives=[(train_dataloader, train_loss)],\n",
    "            evaluator=dev_evaluator,\n",
    "            epochs=self.num_epochs,\n",
    "            evaluation_steps=100,\n",
    "            warmup_steps=int(len(self.train_examples) * 0.1),\n",
    "            output_path=output_dir,\n",
    "            show_progress_bar=True\n",
    "        )\n",
    "        \n",
    "    def retrieve(self, claim_text, top_k=5):\n",
    "        \"\"\"Retrieve evidence for a claim\"\"\"\n",
    "        claim_embed = self.model.encode(claim_text)\n",
    "        scores = torch.nn.functional.cosine_similarity(\n",
    "            torch.tensor(claim_embed),\n",
    "            torch.tensor(self.evidence_embeddings)\n",
    "        )\n",
    "        top_indices = torch.topk(scores, k=top_k).indices.tolist()\n",
    "        return [(self.evidence_ids[i], scores[i].item()) for i in top_indices]\n",
    "\n",
    "    def index_evidence(self, save_path='data/evidence_embeddings.pth'):\n",
    "        \"\"\"Precompute all evidence embeddings and optionally save them\"\"\"\n",
    "        self.evidence_ids = list(self.evidence_map.keys())\n",
    "        self.evidence_texts = [self.evidence_map[eid] for eid in self.evidence_ids]\n",
    "\n",
    "        # Check if embeddings already exist\n",
    "        if save_path and os.path.exists(save_path):\n",
    "            print(\"Loading precomputed evidence embeddings...\")\n",
    "            data = torch.load(save_path, weights_only=False)\n",
    "            self.evidence_embeddings = data['embeddings']\n",
    "            self.evidence_ids = data['ids']\n",
    "        else:\n",
    "            print(\"Computing evidence embeddings...\")\n",
    "            self.evidence_embeddings = self.model.encode(\n",
    "                self.evidence_texts,\n",
    "                show_progress_bar=True,\n",
    "                batch_size=32\n",
    "            )\n",
    "            # Save embeddings if save_path is provided\n",
    "            if save_path:\n",
    "                print(\"Saving evidence embeddings...\")\n",
    "                torch.save({'embeddings': self.evidence_embeddings, 'ids': self.evidence_ids}, save_path)\n",
    "\n",
    "\n",
    "    "
   ]
  },
  {
   "cell_type": "code",
   "execution_count": null,
   "id": "ce733d61",
   "metadata": {},
   "outputs": [],
   "source": [
    "# evidenceRetriever = EvidenceClaimRetriever(\n",
    "#         model_name='all-MiniLM-L6-v2',\n",
    "#         batch_size=32,\n",
    "#         num_epochs=5\n",
    "#     )\n",
    "\n",
    "\n",
    "evidenceRetriever = EvidenceClaimRetriever(\n",
    "        model_name='./climate_retriever')\n"
   ]
  },
  {
   "cell_type": "code",
   "execution_count": 3,
   "id": "2ae07a22",
   "metadata": {},
   "outputs": [],
   "source": [
    "\n",
    "# 1. Load training data and evidence\n",
    "evidenceRetriever.load_data(\n",
    "    claims_path='data/train-claims.json',\n",
    "    evidence_path='data/evidence.json'\n",
    ")\n"
   ]
  },
  {
   "cell_type": "code",
   "execution_count": 4,
   "id": "2134c36b",
   "metadata": {},
   "outputs": [],
   "source": [
    "\n",
    "# 2. Load separate dev set\n",
    "evidenceRetriever.load_dev_data('data/dev-claims-baseline.json')"
   ]
  },
  {
   "cell_type": "code",
   "execution_count": 5,
   "id": "d684e967",
   "metadata": {},
   "outputs": [
    {
     "name": "stdout",
     "output_type": "stream",
     "text": [
      "Loading precomputed evidence embeddings...\n"
     ]
    }
   ],
   "source": [
    "\n",
    "# 3. Precompute evidence embeddings\n",
    "evidenceRetriever.index_evidence()"
   ]
  },
  {
   "cell_type": "code",
   "execution_count": 6,
   "id": "262d549a",
   "metadata": {},
   "outputs": [
    {
     "data": {
      "application/vnd.jupyter.widget-view+json": {
       "model_id": "8ca17d5f374e449ba220d38b25702300",
       "version_major": 2,
       "version_minor": 0
      },
      "text/plain": [
       "Computing widget examples:   0%|          | 0/1 [00:00<?, ?example/s]"
      ]
     },
     "metadata": {},
     "output_type": "display_data"
    },
    {
     "name": "stderr",
     "output_type": "stream",
     "text": [
      "/Users/jeffphan8816/Desktop/StudyUnimelb/NLP/NLP_a3_gp40/.venv/lib/python3.12/site-packages/torch/utils/data/dataloader.py:683: UserWarning: 'pin_memory' argument is set as true but not supported on MPS now, then device pinned memory won't be used.\n",
      "  warnings.warn(warn_msg)\n"
     ]
    },
    {
     "data": {
      "text/html": [
       "\n",
       "    <div>\n",
       "      \n",
       "      <progress value='1795' max='1795' style='width:300px; height:20px; vertical-align: middle;'></progress>\n",
       "      [1795/1795 3:14:48, Epoch 5/5]\n",
       "    </div>\n",
       "    <table border=\"1\" class=\"dataframe\">\n",
       "  <thead>\n",
       " <tr style=\"text-align: left;\">\n",
       "      <th>Step</th>\n",
       "      <th>Training Loss</th>\n",
       "      <th>Validation Loss</th>\n",
       "      <th>Cosine Accuracy@1</th>\n",
       "      <th>Cosine Accuracy@3</th>\n",
       "      <th>Cosine Accuracy@5</th>\n",
       "      <th>Cosine Accuracy@10</th>\n",
       "      <th>Cosine Precision@1</th>\n",
       "      <th>Cosine Precision@3</th>\n",
       "      <th>Cosine Precision@5</th>\n",
       "      <th>Cosine Precision@10</th>\n",
       "      <th>Cosine Recall@1</th>\n",
       "      <th>Cosine Recall@3</th>\n",
       "      <th>Cosine Recall@5</th>\n",
       "      <th>Cosine Recall@10</th>\n",
       "      <th>Cosine Ndcg@10</th>\n",
       "      <th>Cosine Mrr@10</th>\n",
       "      <th>Cosine Map@100</th>\n",
       "    </tr>\n",
       "  </thead>\n",
       "  <tbody>\n",
       "    <tr>\n",
       "      <td>100</td>\n",
       "      <td>No log</td>\n",
       "      <td>No log</td>\n",
       "      <td>0.129870</td>\n",
       "      <td>0.220779</td>\n",
       "      <td>0.240260</td>\n",
       "      <td>0.318182</td>\n",
       "      <td>0.129870</td>\n",
       "      <td>0.084416</td>\n",
       "      <td>0.061039</td>\n",
       "      <td>0.044156</td>\n",
       "      <td>0.021645</td>\n",
       "      <td>0.042208</td>\n",
       "      <td>0.050866</td>\n",
       "      <td>0.073593</td>\n",
       "      <td>0.081314</td>\n",
       "      <td>0.185913</td>\n",
       "      <td>0.048753</td>\n",
       "    </tr>\n",
       "    <tr>\n",
       "      <td>200</td>\n",
       "      <td>No log</td>\n",
       "      <td>No log</td>\n",
       "      <td>0.116883</td>\n",
       "      <td>0.162338</td>\n",
       "      <td>0.214286</td>\n",
       "      <td>0.272727</td>\n",
       "      <td>0.116883</td>\n",
       "      <td>0.064935</td>\n",
       "      <td>0.054545</td>\n",
       "      <td>0.037662</td>\n",
       "      <td>0.019481</td>\n",
       "      <td>0.032468</td>\n",
       "      <td>0.045455</td>\n",
       "      <td>0.062771</td>\n",
       "      <td>0.068896</td>\n",
       "      <td>0.155878</td>\n",
       "      <td>0.039807</td>\n",
       "    </tr>\n",
       "    <tr>\n",
       "      <td>300</td>\n",
       "      <td>No log</td>\n",
       "      <td>No log</td>\n",
       "      <td>0.116883</td>\n",
       "      <td>0.188312</td>\n",
       "      <td>0.201299</td>\n",
       "      <td>0.279221</td>\n",
       "      <td>0.116883</td>\n",
       "      <td>0.075758</td>\n",
       "      <td>0.050649</td>\n",
       "      <td>0.037013</td>\n",
       "      <td>0.019481</td>\n",
       "      <td>0.037879</td>\n",
       "      <td>0.042208</td>\n",
       "      <td>0.061688</td>\n",
       "      <td>0.069796</td>\n",
       "      <td>0.161474</td>\n",
       "      <td>0.040461</td>\n",
       "    </tr>\n",
       "    <tr>\n",
       "      <td>359</td>\n",
       "      <td>No log</td>\n",
       "      <td>No log</td>\n",
       "      <td>0.123377</td>\n",
       "      <td>0.181818</td>\n",
       "      <td>0.220779</td>\n",
       "      <td>0.279221</td>\n",
       "      <td>0.123377</td>\n",
       "      <td>0.073593</td>\n",
       "      <td>0.054545</td>\n",
       "      <td>0.036364</td>\n",
       "      <td>0.020563</td>\n",
       "      <td>0.036797</td>\n",
       "      <td>0.045455</td>\n",
       "      <td>0.060606</td>\n",
       "      <td>0.070229</td>\n",
       "      <td>0.165961</td>\n",
       "      <td>0.041159</td>\n",
       "    </tr>\n",
       "    <tr>\n",
       "      <td>400</td>\n",
       "      <td>No log</td>\n",
       "      <td>No log</td>\n",
       "      <td>0.123377</td>\n",
       "      <td>0.188312</td>\n",
       "      <td>0.227273</td>\n",
       "      <td>0.292208</td>\n",
       "      <td>0.123377</td>\n",
       "      <td>0.075758</td>\n",
       "      <td>0.054545</td>\n",
       "      <td>0.040909</td>\n",
       "      <td>0.020563</td>\n",
       "      <td>0.037879</td>\n",
       "      <td>0.045455</td>\n",
       "      <td>0.068182</td>\n",
       "      <td>0.075287</td>\n",
       "      <td>0.170127</td>\n",
       "      <td>0.042715</td>\n",
       "    </tr>\n",
       "    <tr>\n",
       "      <td>500</td>\n",
       "      <td>3.761600</td>\n",
       "      <td>No log</td>\n",
       "      <td>0.110390</td>\n",
       "      <td>0.201299</td>\n",
       "      <td>0.246753</td>\n",
       "      <td>0.318182</td>\n",
       "      <td>0.110390</td>\n",
       "      <td>0.080087</td>\n",
       "      <td>0.062338</td>\n",
       "      <td>0.041558</td>\n",
       "      <td>0.018398</td>\n",
       "      <td>0.040043</td>\n",
       "      <td>0.051948</td>\n",
       "      <td>0.069264</td>\n",
       "      <td>0.075295</td>\n",
       "      <td>0.169125</td>\n",
       "      <td>0.042775</td>\n",
       "    </tr>\n",
       "    <tr>\n",
       "      <td>600</td>\n",
       "      <td>3.761600</td>\n",
       "      <td>No log</td>\n",
       "      <td>0.116883</td>\n",
       "      <td>0.181818</td>\n",
       "      <td>0.253247</td>\n",
       "      <td>0.337662</td>\n",
       "      <td>0.116883</td>\n",
       "      <td>0.075758</td>\n",
       "      <td>0.064935</td>\n",
       "      <td>0.046104</td>\n",
       "      <td>0.019481</td>\n",
       "      <td>0.037879</td>\n",
       "      <td>0.054113</td>\n",
       "      <td>0.076840</td>\n",
       "      <td>0.080029</td>\n",
       "      <td>0.171228</td>\n",
       "      <td>0.044970</td>\n",
       "    </tr>\n",
       "    <tr>\n",
       "      <td>700</td>\n",
       "      <td>3.761600</td>\n",
       "      <td>No log</td>\n",
       "      <td>0.123377</td>\n",
       "      <td>0.201299</td>\n",
       "      <td>0.266234</td>\n",
       "      <td>0.344156</td>\n",
       "      <td>0.123377</td>\n",
       "      <td>0.080087</td>\n",
       "      <td>0.067532</td>\n",
       "      <td>0.049351</td>\n",
       "      <td>0.020563</td>\n",
       "      <td>0.040043</td>\n",
       "      <td>0.056277</td>\n",
       "      <td>0.082251</td>\n",
       "      <td>0.084536</td>\n",
       "      <td>0.178700</td>\n",
       "      <td>0.047683</td>\n",
       "    </tr>\n",
       "    <tr>\n",
       "      <td>718</td>\n",
       "      <td>3.761600</td>\n",
       "      <td>No log</td>\n",
       "      <td>0.116883</td>\n",
       "      <td>0.181818</td>\n",
       "      <td>0.253247</td>\n",
       "      <td>0.337662</td>\n",
       "      <td>0.116883</td>\n",
       "      <td>0.073593</td>\n",
       "      <td>0.064935</td>\n",
       "      <td>0.048052</td>\n",
       "      <td>0.019481</td>\n",
       "      <td>0.036797</td>\n",
       "      <td>0.054113</td>\n",
       "      <td>0.080087</td>\n",
       "      <td>0.082346</td>\n",
       "      <td>0.173444</td>\n",
       "      <td>0.047236</td>\n",
       "    </tr>\n",
       "    <tr>\n",
       "      <td>800</td>\n",
       "      <td>3.761600</td>\n",
       "      <td>No log</td>\n",
       "      <td>0.110390</td>\n",
       "      <td>0.188312</td>\n",
       "      <td>0.266234</td>\n",
       "      <td>0.344156</td>\n",
       "      <td>0.110390</td>\n",
       "      <td>0.080087</td>\n",
       "      <td>0.070130</td>\n",
       "      <td>0.048052</td>\n",
       "      <td>0.018398</td>\n",
       "      <td>0.040043</td>\n",
       "      <td>0.058442</td>\n",
       "      <td>0.080087</td>\n",
       "      <td>0.082196</td>\n",
       "      <td>0.170637</td>\n",
       "      <td>0.048091</td>\n",
       "    </tr>\n",
       "    <tr>\n",
       "      <td>900</td>\n",
       "      <td>3.761600</td>\n",
       "      <td>No log</td>\n",
       "      <td>0.123377</td>\n",
       "      <td>0.227273</td>\n",
       "      <td>0.298701</td>\n",
       "      <td>0.370130</td>\n",
       "      <td>0.123377</td>\n",
       "      <td>0.086580</td>\n",
       "      <td>0.077922</td>\n",
       "      <td>0.051948</td>\n",
       "      <td>0.020563</td>\n",
       "      <td>0.043290</td>\n",
       "      <td>0.064935</td>\n",
       "      <td>0.086580</td>\n",
       "      <td>0.089620</td>\n",
       "      <td>0.191685</td>\n",
       "      <td>0.051262</td>\n",
       "    </tr>\n",
       "    <tr>\n",
       "      <td>1000</td>\n",
       "      <td>2.701200</td>\n",
       "      <td>No log</td>\n",
       "      <td>0.123377</td>\n",
       "      <td>0.240260</td>\n",
       "      <td>0.298701</td>\n",
       "      <td>0.383117</td>\n",
       "      <td>0.123377</td>\n",
       "      <td>0.097403</td>\n",
       "      <td>0.081818</td>\n",
       "      <td>0.053896</td>\n",
       "      <td>0.020563</td>\n",
       "      <td>0.048701</td>\n",
       "      <td>0.068182</td>\n",
       "      <td>0.089827</td>\n",
       "      <td>0.092964</td>\n",
       "      <td>0.193411</td>\n",
       "      <td>0.053756</td>\n",
       "    </tr>\n",
       "    <tr>\n",
       "      <td>1077</td>\n",
       "      <td>2.701200</td>\n",
       "      <td>No log</td>\n",
       "      <td>0.129870</td>\n",
       "      <td>0.240260</td>\n",
       "      <td>0.311688</td>\n",
       "      <td>0.370130</td>\n",
       "      <td>0.129870</td>\n",
       "      <td>0.097403</td>\n",
       "      <td>0.083117</td>\n",
       "      <td>0.052597</td>\n",
       "      <td>0.021645</td>\n",
       "      <td>0.048701</td>\n",
       "      <td>0.069264</td>\n",
       "      <td>0.087662</td>\n",
       "      <td>0.093351</td>\n",
       "      <td>0.199557</td>\n",
       "      <td>0.054054</td>\n",
       "    </tr>\n",
       "    <tr>\n",
       "      <td>1100</td>\n",
       "      <td>2.701200</td>\n",
       "      <td>No log</td>\n",
       "      <td>0.123377</td>\n",
       "      <td>0.240260</td>\n",
       "      <td>0.318182</td>\n",
       "      <td>0.389610</td>\n",
       "      <td>0.123377</td>\n",
       "      <td>0.095238</td>\n",
       "      <td>0.085714</td>\n",
       "      <td>0.055195</td>\n",
       "      <td>0.020563</td>\n",
       "      <td>0.047619</td>\n",
       "      <td>0.071429</td>\n",
       "      <td>0.091991</td>\n",
       "      <td>0.095073</td>\n",
       "      <td>0.199796</td>\n",
       "      <td>0.054118</td>\n",
       "    </tr>\n",
       "    <tr>\n",
       "      <td>1200</td>\n",
       "      <td>2.701200</td>\n",
       "      <td>No log</td>\n",
       "      <td>0.116883</td>\n",
       "      <td>0.240260</td>\n",
       "      <td>0.298701</td>\n",
       "      <td>0.357143</td>\n",
       "      <td>0.116883</td>\n",
       "      <td>0.093074</td>\n",
       "      <td>0.076623</td>\n",
       "      <td>0.049351</td>\n",
       "      <td>0.019481</td>\n",
       "      <td>0.046537</td>\n",
       "      <td>0.063853</td>\n",
       "      <td>0.082251</td>\n",
       "      <td>0.087509</td>\n",
       "      <td>0.188727</td>\n",
       "      <td>0.050965</td>\n",
       "    </tr>\n",
       "    <tr>\n",
       "      <td>1300</td>\n",
       "      <td>2.701200</td>\n",
       "      <td>No log</td>\n",
       "      <td>0.110390</td>\n",
       "      <td>0.240260</td>\n",
       "      <td>0.298701</td>\n",
       "      <td>0.376623</td>\n",
       "      <td>0.110390</td>\n",
       "      <td>0.093074</td>\n",
       "      <td>0.076623</td>\n",
       "      <td>0.053247</td>\n",
       "      <td>0.018398</td>\n",
       "      <td>0.046537</td>\n",
       "      <td>0.063853</td>\n",
       "      <td>0.088745</td>\n",
       "      <td>0.090315</td>\n",
       "      <td>0.188642</td>\n",
       "      <td>0.051389</td>\n",
       "    </tr>\n",
       "    <tr>\n",
       "      <td>1400</td>\n",
       "      <td>2.701200</td>\n",
       "      <td>No log</td>\n",
       "      <td>0.116883</td>\n",
       "      <td>0.233766</td>\n",
       "      <td>0.318182</td>\n",
       "      <td>0.376623</td>\n",
       "      <td>0.116883</td>\n",
       "      <td>0.090909</td>\n",
       "      <td>0.083117</td>\n",
       "      <td>0.053247</td>\n",
       "      <td>0.019481</td>\n",
       "      <td>0.045455</td>\n",
       "      <td>0.069264</td>\n",
       "      <td>0.088745</td>\n",
       "      <td>0.092009</td>\n",
       "      <td>0.193919</td>\n",
       "      <td>0.052534</td>\n",
       "    </tr>\n",
       "    <tr>\n",
       "      <td>1436</td>\n",
       "      <td>2.701200</td>\n",
       "      <td>No log</td>\n",
       "      <td>0.129870</td>\n",
       "      <td>0.246753</td>\n",
       "      <td>0.311688</td>\n",
       "      <td>0.376623</td>\n",
       "      <td>0.129870</td>\n",
       "      <td>0.095238</td>\n",
       "      <td>0.083117</td>\n",
       "      <td>0.053896</td>\n",
       "      <td>0.021645</td>\n",
       "      <td>0.047619</td>\n",
       "      <td>0.069264</td>\n",
       "      <td>0.089827</td>\n",
       "      <td>0.094923</td>\n",
       "      <td>0.203857</td>\n",
       "      <td>0.054701</td>\n",
       "    </tr>\n",
       "    <tr>\n",
       "      <td>1500</td>\n",
       "      <td>2.439900</td>\n",
       "      <td>No log</td>\n",
       "      <td>0.136364</td>\n",
       "      <td>0.240260</td>\n",
       "      <td>0.298701</td>\n",
       "      <td>0.370130</td>\n",
       "      <td>0.136364</td>\n",
       "      <td>0.095238</td>\n",
       "      <td>0.079221</td>\n",
       "      <td>0.051948</td>\n",
       "      <td>0.022727</td>\n",
       "      <td>0.047619</td>\n",
       "      <td>0.066017</td>\n",
       "      <td>0.086580</td>\n",
       "      <td>0.094429</td>\n",
       "      <td>0.207733</td>\n",
       "      <td>0.055685</td>\n",
       "    </tr>\n",
       "    <tr>\n",
       "      <td>1600</td>\n",
       "      <td>2.439900</td>\n",
       "      <td>No log</td>\n",
       "      <td>0.136364</td>\n",
       "      <td>0.253247</td>\n",
       "      <td>0.298701</td>\n",
       "      <td>0.376623</td>\n",
       "      <td>0.136364</td>\n",
       "      <td>0.099567</td>\n",
       "      <td>0.080519</td>\n",
       "      <td>0.053247</td>\n",
       "      <td>0.022727</td>\n",
       "      <td>0.049784</td>\n",
       "      <td>0.067100</td>\n",
       "      <td>0.088745</td>\n",
       "      <td>0.095155</td>\n",
       "      <td>0.206658</td>\n",
       "      <td>0.054634</td>\n",
       "    </tr>\n",
       "    <tr>\n",
       "      <td>1700</td>\n",
       "      <td>2.439900</td>\n",
       "      <td>No log</td>\n",
       "      <td>0.116883</td>\n",
       "      <td>0.259740</td>\n",
       "      <td>0.292208</td>\n",
       "      <td>0.370130</td>\n",
       "      <td>0.116883</td>\n",
       "      <td>0.099567</td>\n",
       "      <td>0.079221</td>\n",
       "      <td>0.052597</td>\n",
       "      <td>0.019481</td>\n",
       "      <td>0.049784</td>\n",
       "      <td>0.066017</td>\n",
       "      <td>0.087662</td>\n",
       "      <td>0.091632</td>\n",
       "      <td>0.194236</td>\n",
       "      <td>0.052238</td>\n",
       "    </tr>\n",
       "    <tr>\n",
       "      <td>1795</td>\n",
       "      <td>2.439900</td>\n",
       "      <td>No log</td>\n",
       "      <td>0.116883</td>\n",
       "      <td>0.253247</td>\n",
       "      <td>0.298701</td>\n",
       "      <td>0.370130</td>\n",
       "      <td>0.116883</td>\n",
       "      <td>0.097403</td>\n",
       "      <td>0.080519</td>\n",
       "      <td>0.052597</td>\n",
       "      <td>0.019481</td>\n",
       "      <td>0.048701</td>\n",
       "      <td>0.067100</td>\n",
       "      <td>0.087662</td>\n",
       "      <td>0.091704</td>\n",
       "      <td>0.194066</td>\n",
       "      <td>0.052378</td>\n",
       "    </tr>\n",
       "  </tbody>\n",
       "</table><p>"
      ],
      "text/plain": [
       "<IPython.core.display.HTML object>"
      ]
     },
     "metadata": {},
     "output_type": "display_data"
    },
    {
     "data": {
      "application/vnd.jupyter.widget-view+json": {
       "model_id": "be30356b7ccd4c1c9f82fb74a267f048",
       "version_major": 2,
       "version_minor": 0
      },
      "text/plain": [
       "Batches:   0%|          | 0/5 [00:00<?, ?it/s]"
      ]
     },
     "metadata": {},
     "output_type": "display_data"
    },
    {
     "name": "stderr",
     "output_type": "stream",
     "text": [
      "Corpus Chunks:   0%|          | 0/25 [00:00<?, ?it/s]"
     ]
    },
    {
     "data": {
      "application/vnd.jupyter.widget-view+json": {
       "model_id": "c485ffe0e7e24e7f9233387eb9ebf719",
       "version_major": 2,
       "version_minor": 0
      },
      "text/plain": [
       "Batches:   0%|          | 0/1563 [00:00<?, ?it/s]"
      ]
     },
     "metadata": {},
     "output_type": "display_data"
    },
    {
     "name": "stderr",
     "output_type": "stream",
     "text": [
      "Corpus Chunks:   4%|▍         | 1/25 [01:06<26:38, 66.59s/it]"
     ]
    },
    {
     "data": {
      "application/vnd.jupyter.widget-view+json": {
       "model_id": "7554b29a31c34edb99bd3649c9522809",
       "version_major": 2,
       "version_minor": 0
      },
      "text/plain": [
       "Batches:   0%|          | 0/1563 [00:00<?, ?it/s]"
      ]
     },
     "metadata": {},
     "output_type": "display_data"
    },
    {
     "name": "stderr",
     "output_type": "stream",
     "text": [
      "Corpus Chunks:   8%|▊         | 2/25 [01:29<15:39, 40.87s/it]"
     ]
    },
    {
     "data": {
      "application/vnd.jupyter.widget-view+json": {
       "model_id": "d9c98869fd214ebeb25828dc90059a60",
       "version_major": 2,
       "version_minor": 0
      },
      "text/plain": [
       "Batches:   0%|          | 0/1563 [00:00<?, ?it/s]"
      ]
     },
     "metadata": {},
     "output_type": "display_data"
    },
    {
     "name": "stderr",
     "output_type": "stream",
     "text": [
      "Corpus Chunks:  12%|█▏        | 3/25 [01:52<11:56, 32.56s/it]"
     ]
    },
    {
     "data": {
      "application/vnd.jupyter.widget-view+json": {
       "model_id": "e5d6c5b06f13470d985e034740079cb2",
       "version_major": 2,
       "version_minor": 0
      },
      "text/plain": [
       "Batches:   0%|          | 0/1563 [00:00<?, ?it/s]"
      ]
     },
     "metadata": {},
     "output_type": "display_data"
    },
    {
     "name": "stderr",
     "output_type": "stream",
     "text": [
      "Corpus Chunks:  16%|█▌        | 4/25 [02:13<09:50, 28.13s/it]"
     ]
    },
    {
     "data": {
      "application/vnd.jupyter.widget-view+json": {
       "model_id": "1678c8d9868d48cf9dc0eafeda3e186c",
       "version_major": 2,
       "version_minor": 0
      },
      "text/plain": [
       "Batches:   0%|          | 0/1563 [00:00<?, ?it/s]"
      ]
     },
     "metadata": {},
     "output_type": "display_data"
    },
    {
     "name": "stderr",
     "output_type": "stream",
     "text": [
      "Corpus Chunks:  20%|██        | 5/25 [02:34<08:32, 25.61s/it]"
     ]
    },
    {
     "data": {
      "application/vnd.jupyter.widget-view+json": {
       "model_id": "8ed58057a5964b9f8775157f48d99709",
       "version_major": 2,
       "version_minor": 0
      },
      "text/plain": [
       "Batches:   0%|          | 0/1563 [00:00<?, ?it/s]"
      ]
     },
     "metadata": {},
     "output_type": "display_data"
    },
    {
     "name": "stderr",
     "output_type": "stream",
     "text": [
      "Corpus Chunks:  24%|██▍       | 6/25 [02:55<07:36, 24.02s/it]"
     ]
    },
    {
     "data": {
      "application/vnd.jupyter.widget-view+json": {
       "model_id": "839f73fae6e54f338db1708b12cf34ad",
       "version_major": 2,
       "version_minor": 0
      },
      "text/plain": [
       "Batches:   0%|          | 0/1563 [00:00<?, ?it/s]"
      ]
     },
     "metadata": {},
     "output_type": "display_data"
    },
    {
     "name": "stderr",
     "output_type": "stream",
     "text": [
      "Corpus Chunks:  28%|██▊       | 7/25 [03:16<06:53, 22.97s/it]"
     ]
    },
    {
     "data": {
      "application/vnd.jupyter.widget-view+json": {
       "model_id": "1eb15af1200a405bada4a6895cce1432",
       "version_major": 2,
       "version_minor": 0
      },
      "text/plain": [
       "Batches:   0%|          | 0/1563 [00:00<?, ?it/s]"
      ]
     },
     "metadata": {},
     "output_type": "display_data"
    },
    {
     "name": "stderr",
     "output_type": "stream",
     "text": [
      "Corpus Chunks:  32%|███▏      | 8/25 [03:37<06:21, 22.44s/it]"
     ]
    },
    {
     "data": {
      "application/vnd.jupyter.widget-view+json": {
       "model_id": "3baa870af48947f5b12a70a33478fcd5",
       "version_major": 2,
       "version_minor": 0
      },
      "text/plain": [
       "Batches:   0%|          | 0/1563 [00:00<?, ?it/s]"
      ]
     },
     "metadata": {},
     "output_type": "display_data"
    },
    {
     "name": "stderr",
     "output_type": "stream",
     "text": [
      "Corpus Chunks:  36%|███▌      | 9/25 [03:58<05:50, 21.90s/it]"
     ]
    },
    {
     "data": {
      "application/vnd.jupyter.widget-view+json": {
       "model_id": "3d5948265109480897826837ac7525a0",
       "version_major": 2,
       "version_minor": 0
      },
      "text/plain": [
       "Batches:   0%|          | 0/1563 [00:00<?, ?it/s]"
      ]
     },
     "metadata": {},
     "output_type": "display_data"
    },
    {
     "name": "stderr",
     "output_type": "stream",
     "text": [
      "Corpus Chunks:  40%|████      | 10/25 [04:19<05:23, 21.57s/it]"
     ]
    },
    {
     "data": {
      "application/vnd.jupyter.widget-view+json": {
       "model_id": "891b6671960f49cca758dc6e5499136e",
       "version_major": 2,
       "version_minor": 0
      },
      "text/plain": [
       "Batches:   0%|          | 0/1563 [00:00<?, ?it/s]"
      ]
     },
     "metadata": {},
     "output_type": "display_data"
    },
    {
     "name": "stderr",
     "output_type": "stream",
     "text": [
      "Corpus Chunks:  44%|████▍     | 11/25 [04:41<05:06, 21.92s/it]"
     ]
    },
    {
     "data": {
      "application/vnd.jupyter.widget-view+json": {
       "model_id": "bcdafd98c971431fa3ceed2124419e41",
       "version_major": 2,
       "version_minor": 0
      },
      "text/plain": [
       "Batches:   0%|          | 0/1563 [00:00<?, ?it/s]"
      ]
     },
     "metadata": {},
     "output_type": "display_data"
    },
    {
     "name": "stderr",
     "output_type": "stream",
     "text": [
      "Corpus Chunks:  48%|████▊     | 12/25 [05:05<04:50, 22.38s/it]"
     ]
    },
    {
     "data": {
      "application/vnd.jupyter.widget-view+json": {
       "model_id": "960ec442361b474c9780fbdfc62cb8ec",
       "version_major": 2,
       "version_minor": 0
      },
      "text/plain": [
       "Batches:   0%|          | 0/1563 [00:00<?, ?it/s]"
      ]
     },
     "metadata": {},
     "output_type": "display_data"
    },
    {
     "name": "stderr",
     "output_type": "stream",
     "text": [
      "Corpus Chunks:  52%|█████▏    | 13/25 [05:26<04:22, 21.86s/it]"
     ]
    },
    {
     "data": {
      "application/vnd.jupyter.widget-view+json": {
       "model_id": "c1c86537a4934520bc04dd5649c8bc90",
       "version_major": 2,
       "version_minor": 0
      },
      "text/plain": [
       "Batches:   0%|          | 0/1563 [00:00<?, ?it/s]"
      ]
     },
     "metadata": {},
     "output_type": "display_data"
    },
    {
     "name": "stderr",
     "output_type": "stream",
     "text": [
      "Corpus Chunks:  56%|█████▌    | 14/25 [05:46<03:54, 21.35s/it]"
     ]
    },
    {
     "data": {
      "application/vnd.jupyter.widget-view+json": {
       "model_id": "641b9430db9b426b98957b38fa78ff54",
       "version_major": 2,
       "version_minor": 0
      },
      "text/plain": [
       "Batches:   0%|          | 0/1563 [00:00<?, ?it/s]"
      ]
     },
     "metadata": {},
     "output_type": "display_data"
    },
    {
     "name": "stderr",
     "output_type": "stream",
     "text": [
      "Corpus Chunks:  60%|██████    | 15/25 [06:06<03:30, 21.08s/it]"
     ]
    },
    {
     "data": {
      "application/vnd.jupyter.widget-view+json": {
       "model_id": "8f4d52e400154ea7965cfd29ab7f3017",
       "version_major": 2,
       "version_minor": 0
      },
      "text/plain": [
       "Batches:   0%|          | 0/1563 [00:00<?, ?it/s]"
      ]
     },
     "metadata": {},
     "output_type": "display_data"
    },
    {
     "name": "stderr",
     "output_type": "stream",
     "text": [
      "Corpus Chunks:  64%|██████▍   | 16/25 [06:27<03:08, 20.93s/it]"
     ]
    },
    {
     "data": {
      "application/vnd.jupyter.widget-view+json": {
       "model_id": "52ecafcf9e0c42eea7c4b2267bbdff21",
       "version_major": 2,
       "version_minor": 0
      },
      "text/plain": [
       "Batches:   0%|          | 0/1563 [00:00<?, ?it/s]"
      ]
     },
     "metadata": {},
     "output_type": "display_data"
    },
    {
     "name": "stderr",
     "output_type": "stream",
     "text": [
      "Corpus Chunks:  68%|██████▊   | 17/25 [06:48<02:48, 21.04s/it]"
     ]
    },
    {
     "data": {
      "application/vnd.jupyter.widget-view+json": {
       "model_id": "787e79caefb8490b81a5996a6feaa7a5",
       "version_major": 2,
       "version_minor": 0
      },
      "text/plain": [
       "Batches:   0%|          | 0/1563 [00:00<?, ?it/s]"
      ]
     },
     "metadata": {},
     "output_type": "display_data"
    },
    {
     "name": "stderr",
     "output_type": "stream",
     "text": [
      "Corpus Chunks:  72%|███████▏  | 18/25 [07:09<02:26, 21.00s/it]"
     ]
    },
    {
     "data": {
      "application/vnd.jupyter.widget-view+json": {
       "model_id": "68eb7bd5cfb84934ad16884d212d6986",
       "version_major": 2,
       "version_minor": 0
      },
      "text/plain": [
       "Batches:   0%|          | 0/1563 [00:00<?, ?it/s]"
      ]
     },
     "metadata": {},
     "output_type": "display_data"
    },
    {
     "name": "stderr",
     "output_type": "stream",
     "text": [
      "Corpus Chunks:  76%|███████▌  | 19/25 [07:30<02:05, 20.88s/it]"
     ]
    },
    {
     "data": {
      "application/vnd.jupyter.widget-view+json": {
       "model_id": "b58d7680067d4e06b50692c1baff3d61",
       "version_major": 2,
       "version_minor": 0
      },
      "text/plain": [
       "Batches:   0%|          | 0/1563 [00:00<?, ?it/s]"
      ]
     },
     "metadata": {},
     "output_type": "display_data"
    },
    {
     "name": "stderr",
     "output_type": "stream",
     "text": [
      "Corpus Chunks:  80%|████████  | 20/25 [07:50<01:44, 20.85s/it]"
     ]
    },
    {
     "data": {
      "application/vnd.jupyter.widget-view+json": {
       "model_id": "2c66a4462b68424e9915bfd3ab1461cd",
       "version_major": 2,
       "version_minor": 0
      },
      "text/plain": [
       "Batches:   0%|          | 0/1563 [00:00<?, ?it/s]"
      ]
     },
     "metadata": {},
     "output_type": "display_data"
    },
    {
     "name": "stderr",
     "output_type": "stream",
     "text": [
      "Corpus Chunks:  84%|████████▍ | 21/25 [08:11<01:23, 20.90s/it]"
     ]
    },
    {
     "data": {
      "application/vnd.jupyter.widget-view+json": {
       "model_id": "bc2f35fa016840eeac837d222f6a8d3b",
       "version_major": 2,
       "version_minor": 0
      },
      "text/plain": [
       "Batches:   0%|          | 0/1563 [00:00<?, ?it/s]"
      ]
     },
     "metadata": {},
     "output_type": "display_data"
    },
    {
     "name": "stderr",
     "output_type": "stream",
     "text": [
      "Corpus Chunks:  88%|████████▊ | 22/25 [08:32<01:02, 20.92s/it]"
     ]
    },
    {
     "data": {
      "application/vnd.jupyter.widget-view+json": {
       "model_id": "17ffc7d089fb495192a118f3f0b4cffe",
       "version_major": 2,
       "version_minor": 0
      },
      "text/plain": [
       "Batches:   0%|          | 0/1563 [00:00<?, ?it/s]"
      ]
     },
     "metadata": {},
     "output_type": "display_data"
    },
    {
     "name": "stderr",
     "output_type": "stream",
     "text": [
      "Corpus Chunks:  92%|█████████▏| 23/25 [08:53<00:41, 20.93s/it]"
     ]
    },
    {
     "data": {
      "application/vnd.jupyter.widget-view+json": {
       "model_id": "62667439431748548b150a08a251605e",
       "version_major": 2,
       "version_minor": 0
      },
      "text/plain": [
       "Batches:   0%|          | 0/1563 [00:00<?, ?it/s]"
      ]
     },
     "metadata": {},
     "output_type": "display_data"
    },
    {
     "name": "stderr",
     "output_type": "stream",
     "text": [
      "Corpus Chunks:  96%|█████████▌| 24/25 [09:14<00:20, 20.96s/it]"
     ]
    },
    {
     "data": {
      "application/vnd.jupyter.widget-view+json": {
       "model_id": "4a47c512c61649518bc8895667b7b419",
       "version_major": 2,
       "version_minor": 0
      },
      "text/plain": [
       "Batches:   0%|          | 0/276 [00:00<?, ?it/s]"
      ]
     },
     "metadata": {},
     "output_type": "display_data"
    },
    {
     "name": "stderr",
     "output_type": "stream",
     "text": [
      "Corpus Chunks: 100%|██████████| 25/25 [09:19<00:00, 22.40s/it]\n"
     ]
    },
    {
     "data": {
      "application/vnd.jupyter.widget-view+json": {
       "model_id": "a380efcfccd14f7dad853fe01edf3623",
       "version_major": 2,
       "version_minor": 0
      },
      "text/plain": [
       "Batches:   0%|          | 0/5 [00:00<?, ?it/s]"
      ]
     },
     "metadata": {},
     "output_type": "display_data"
    },
    {
     "name": "stderr",
     "output_type": "stream",
     "text": [
      "Corpus Chunks:   0%|          | 0/25 [00:00<?, ?it/s]"
     ]
    },
    {
     "data": {
      "application/vnd.jupyter.widget-view+json": {
       "model_id": "12fa18dfc8434b06ac4f21030ed949d2",
       "version_major": 2,
       "version_minor": 0
      },
      "text/plain": [
       "Batches:   0%|          | 0/1563 [00:00<?, ?it/s]"
      ]
     },
     "metadata": {},
     "output_type": "display_data"
    },
    {
     "name": "stderr",
     "output_type": "stream",
     "text": [
      "Corpus Chunks:   4%|▍         | 1/25 [00:21<08:37, 21.57s/it]"
     ]
    },
    {
     "data": {
      "application/vnd.jupyter.widget-view+json": {
       "model_id": "6bfb97584149440582963c0fedb98c41",
       "version_major": 2,
       "version_minor": 0
      },
      "text/plain": [
       "Batches:   0%|          | 0/1563 [00:00<?, ?it/s]"
      ]
     },
     "metadata": {},
     "output_type": "display_data"
    },
    {
     "name": "stderr",
     "output_type": "stream",
     "text": [
      "Corpus Chunks:   8%|▊         | 2/25 [00:42<08:10, 21.32s/it]"
     ]
    },
    {
     "data": {
      "application/vnd.jupyter.widget-view+json": {
       "model_id": "b2bed4245e194ebca47f48ec8e690169",
       "version_major": 2,
       "version_minor": 0
      },
      "text/plain": [
       "Batches:   0%|          | 0/1563 [00:00<?, ?it/s]"
      ]
     },
     "metadata": {},
     "output_type": "display_data"
    },
    {
     "name": "stderr",
     "output_type": "stream",
     "text": [
      "Corpus Chunks:  12%|█▏        | 3/25 [01:03<07:44, 21.12s/it]"
     ]
    },
    {
     "data": {
      "application/vnd.jupyter.widget-view+json": {
       "model_id": "a867632197fc4e9baa836c39b3ece65a",
       "version_major": 2,
       "version_minor": 0
      },
      "text/plain": [
       "Batches:   0%|          | 0/1563 [00:00<?, ?it/s]"
      ]
     },
     "metadata": {},
     "output_type": "display_data"
    },
    {
     "name": "stderr",
     "output_type": "stream",
     "text": [
      "Corpus Chunks:  16%|█▌        | 4/25 [01:25<07:32, 21.56s/it]"
     ]
    },
    {
     "data": {
      "application/vnd.jupyter.widget-view+json": {
       "model_id": "d0167670e9b645d5ab74a1a8449f8277",
       "version_major": 2,
       "version_minor": 0
      },
      "text/plain": [
       "Batches:   0%|          | 0/1563 [00:00<?, ?it/s]"
      ]
     },
     "metadata": {},
     "output_type": "display_data"
    },
    {
     "name": "stderr",
     "output_type": "stream",
     "text": [
      "Corpus Chunks:  20%|██        | 5/25 [01:48<07:16, 21.83s/it]"
     ]
    },
    {
     "data": {
      "application/vnd.jupyter.widget-view+json": {
       "model_id": "dc0ddd07257b42eaaf77e0d36d92b8fd",
       "version_major": 2,
       "version_minor": 0
      },
      "text/plain": [
       "Batches:   0%|          | 0/1563 [00:00<?, ?it/s]"
      ]
     },
     "metadata": {},
     "output_type": "display_data"
    },
    {
     "name": "stderr",
     "output_type": "stream",
     "text": [
      "Corpus Chunks:  24%|██▍       | 6/25 [02:09<06:54, 21.81s/it]"
     ]
    },
    {
     "data": {
      "application/vnd.jupyter.widget-view+json": {
       "model_id": "6eab090071404141b3cf4c489a86386a",
       "version_major": 2,
       "version_minor": 0
      },
      "text/plain": [
       "Batches:   0%|          | 0/1563 [00:00<?, ?it/s]"
      ]
     },
     "metadata": {},
     "output_type": "display_data"
    },
    {
     "name": "stderr",
     "output_type": "stream",
     "text": [
      "Corpus Chunks:  28%|██▊       | 7/25 [02:32<06:37, 22.07s/it]"
     ]
    },
    {
     "data": {
      "application/vnd.jupyter.widget-view+json": {
       "model_id": "76a8e339a4a34d9f9e683ced6569ea41",
       "version_major": 2,
       "version_minor": 0
      },
      "text/plain": [
       "Batches:   0%|          | 0/1563 [00:00<?, ?it/s]"
      ]
     },
     "metadata": {},
     "output_type": "display_data"
    },
    {
     "name": "stderr",
     "output_type": "stream",
     "text": [
      "Corpus Chunks:  32%|███▏      | 8/25 [02:54<06:14, 22.06s/it]"
     ]
    },
    {
     "data": {
      "application/vnd.jupyter.widget-view+json": {
       "model_id": "981c63d532bb41abb7171b4b02bb2cfd",
       "version_major": 2,
       "version_minor": 0
      },
      "text/plain": [
       "Batches:   0%|          | 0/1563 [00:00<?, ?it/s]"
      ]
     },
     "metadata": {},
     "output_type": "display_data"
    },
    {
     "name": "stderr",
     "output_type": "stream",
     "text": [
      "Corpus Chunks:  36%|███▌      | 9/25 [03:17<05:55, 22.24s/it]"
     ]
    },
    {
     "data": {
      "application/vnd.jupyter.widget-view+json": {
       "model_id": "5fad2323b28a49ceac6051385c3068ff",
       "version_major": 2,
       "version_minor": 0
      },
      "text/plain": [
       "Batches:   0%|          | 0/1563 [00:00<?, ?it/s]"
      ]
     },
     "metadata": {},
     "output_type": "display_data"
    },
    {
     "name": "stderr",
     "output_type": "stream",
     "text": [
      "Corpus Chunks:  40%|████      | 10/25 [03:39<05:35, 22.37s/it]"
     ]
    },
    {
     "data": {
      "application/vnd.jupyter.widget-view+json": {
       "model_id": "6912b131fe7d456891ccb5beb0a3bced",
       "version_major": 2,
       "version_minor": 0
      },
      "text/plain": [
       "Batches:   0%|          | 0/1563 [00:00<?, ?it/s]"
      ]
     },
     "metadata": {},
     "output_type": "display_data"
    },
    {
     "name": "stderr",
     "output_type": "stream",
     "text": [
      "Corpus Chunks:  44%|████▍     | 11/25 [04:01<05:11, 22.27s/it]"
     ]
    },
    {
     "data": {
      "application/vnd.jupyter.widget-view+json": {
       "model_id": "941944b79be84b72a95aad821179a282",
       "version_major": 2,
       "version_minor": 0
      },
      "text/plain": [
       "Batches:   0%|          | 0/1563 [00:00<?, ?it/s]"
      ]
     },
     "metadata": {},
     "output_type": "display_data"
    },
    {
     "name": "stderr",
     "output_type": "stream",
     "text": [
      "Corpus Chunks:  48%|████▊     | 12/25 [04:24<04:50, 22.34s/it]"
     ]
    },
    {
     "data": {
      "application/vnd.jupyter.widget-view+json": {
       "model_id": "0ec25c093bd741bf82ab453b10e9d247",
       "version_major": 2,
       "version_minor": 0
      },
      "text/plain": [
       "Batches:   0%|          | 0/1563 [00:00<?, ?it/s]"
      ]
     },
     "metadata": {},
     "output_type": "display_data"
    },
    {
     "name": "stderr",
     "output_type": "stream",
     "text": [
      "Corpus Chunks:  52%|█████▏    | 13/25 [04:46<04:25, 22.13s/it]"
     ]
    },
    {
     "data": {
      "application/vnd.jupyter.widget-view+json": {
       "model_id": "492e3024b74542bc99d9fe1d85ccc12b",
       "version_major": 2,
       "version_minor": 0
      },
      "text/plain": [
       "Batches:   0%|          | 0/1563 [00:00<?, ?it/s]"
      ]
     },
     "metadata": {},
     "output_type": "display_data"
    },
    {
     "name": "stderr",
     "output_type": "stream",
     "text": [
      "Corpus Chunks:  56%|█████▌    | 14/25 [05:07<03:59, 21.80s/it]"
     ]
    },
    {
     "data": {
      "application/vnd.jupyter.widget-view+json": {
       "model_id": "789d7c2c67ab49d8a38d7c2e183696da",
       "version_major": 2,
       "version_minor": 0
      },
      "text/plain": [
       "Batches:   0%|          | 0/1563 [00:00<?, ?it/s]"
      ]
     },
     "metadata": {},
     "output_type": "display_data"
    },
    {
     "name": "stderr",
     "output_type": "stream",
     "text": [
      "Corpus Chunks:  60%|██████    | 15/25 [05:28<03:36, 21.63s/it]"
     ]
    },
    {
     "data": {
      "application/vnd.jupyter.widget-view+json": {
       "model_id": "105e5c487e8b412fac4d5a0441732957",
       "version_major": 2,
       "version_minor": 0
      },
      "text/plain": [
       "Batches:   0%|          | 0/1563 [00:00<?, ?it/s]"
      ]
     },
     "metadata": {},
     "output_type": "display_data"
    },
    {
     "name": "stderr",
     "output_type": "stream",
     "text": [
      "Corpus Chunks:  64%|██████▍   | 16/25 [05:50<03:15, 21.70s/it]"
     ]
    },
    {
     "data": {
      "application/vnd.jupyter.widget-view+json": {
       "model_id": "1b30ea5372e746818affd24f3b0db273",
       "version_major": 2,
       "version_minor": 0
      },
      "text/plain": [
       "Batches:   0%|          | 0/1563 [00:00<?, ?it/s]"
      ]
     },
     "metadata": {},
     "output_type": "display_data"
    },
    {
     "name": "stderr",
     "output_type": "stream",
     "text": [
      "Corpus Chunks:  68%|██████▊   | 17/25 [06:12<02:56, 22.03s/it]"
     ]
    },
    {
     "data": {
      "application/vnd.jupyter.widget-view+json": {
       "model_id": "354b023722684d1087c48e9575dc80cd",
       "version_major": 2,
       "version_minor": 0
      },
      "text/plain": [
       "Batches:   0%|          | 0/1563 [00:00<?, ?it/s]"
      ]
     },
     "metadata": {},
     "output_type": "display_data"
    },
    {
     "name": "stderr",
     "output_type": "stream",
     "text": [
      "Corpus Chunks:  72%|███████▏  | 18/25 [06:35<02:34, 22.04s/it]"
     ]
    },
    {
     "data": {
      "application/vnd.jupyter.widget-view+json": {
       "model_id": "fae3c88296f54dc1a87d65826879cdde",
       "version_major": 2,
       "version_minor": 0
      },
      "text/plain": [
       "Batches:   0%|          | 0/1563 [00:00<?, ?it/s]"
      ]
     },
     "metadata": {},
     "output_type": "display_data"
    },
    {
     "name": "stderr",
     "output_type": "stream",
     "text": [
      "Corpus Chunks:  76%|███████▌  | 19/25 [06:56<02:12, 22.01s/it]"
     ]
    },
    {
     "data": {
      "application/vnd.jupyter.widget-view+json": {
       "model_id": "39434ce5acc34c189eb3ebfc59bf8d39",
       "version_major": 2,
       "version_minor": 0
      },
      "text/plain": [
       "Batches:   0%|          | 0/1563 [00:00<?, ?it/s]"
      ]
     },
     "metadata": {},
     "output_type": "display_data"
    },
    {
     "name": "stderr",
     "output_type": "stream",
     "text": [
      "Corpus Chunks:  80%|████████  | 20/25 [07:19<01:50, 22.05s/it]"
     ]
    },
    {
     "data": {
      "application/vnd.jupyter.widget-view+json": {
       "model_id": "bb52582114314978b1b62f51492ca85d",
       "version_major": 2,
       "version_minor": 0
      },
      "text/plain": [
       "Batches:   0%|          | 0/1563 [00:00<?, ?it/s]"
      ]
     },
     "metadata": {},
     "output_type": "display_data"
    },
    {
     "name": "stderr",
     "output_type": "stream",
     "text": [
      "Corpus Chunks:  84%|████████▍ | 21/25 [07:41<01:28, 22.06s/it]"
     ]
    },
    {
     "data": {
      "application/vnd.jupyter.widget-view+json": {
       "model_id": "e9fd6162f68c4e92bc9563c3abbb5fe4",
       "version_major": 2,
       "version_minor": 0
      },
      "text/plain": [
       "Batches:   0%|          | 0/1563 [00:00<?, ?it/s]"
      ]
     },
     "metadata": {},
     "output_type": "display_data"
    },
    {
     "name": "stderr",
     "output_type": "stream",
     "text": [
      "Corpus Chunks:  88%|████████▊ | 22/25 [08:03<01:06, 22.06s/it]"
     ]
    },
    {
     "data": {
      "application/vnd.jupyter.widget-view+json": {
       "model_id": "f3e9f523be6c44e9816684941d70b22e",
       "version_major": 2,
       "version_minor": 0
      },
      "text/plain": [
       "Batches:   0%|          | 0/1563 [00:00<?, ?it/s]"
      ]
     },
     "metadata": {},
     "output_type": "display_data"
    },
    {
     "name": "stderr",
     "output_type": "stream",
     "text": [
      "Corpus Chunks:  92%|█████████▏| 23/25 [08:24<00:43, 21.85s/it]"
     ]
    },
    {
     "data": {
      "application/vnd.jupyter.widget-view+json": {
       "model_id": "530e032b1a3246f590240c77edce4806",
       "version_major": 2,
       "version_minor": 0
      },
      "text/plain": [
       "Batches:   0%|          | 0/1563 [00:00<?, ?it/s]"
      ]
     },
     "metadata": {},
     "output_type": "display_data"
    },
    {
     "name": "stderr",
     "output_type": "stream",
     "text": [
      "Corpus Chunks:  96%|█████████▌| 24/25 [08:46<00:21, 21.87s/it]"
     ]
    },
    {
     "data": {
      "application/vnd.jupyter.widget-view+json": {
       "model_id": "139fcca07f964366aa833c27badc2865",
       "version_major": 2,
       "version_minor": 0
      },
      "text/plain": [
       "Batches:   0%|          | 0/276 [00:00<?, ?it/s]"
      ]
     },
     "metadata": {},
     "output_type": "display_data"
    },
    {
     "name": "stderr",
     "output_type": "stream",
     "text": [
      "Corpus Chunks: 100%|██████████| 25/25 [08:50<00:00, 21.22s/it]\n"
     ]
    },
    {
     "data": {
      "application/vnd.jupyter.widget-view+json": {
       "model_id": "81cb7630da71430992a42383d95ad476",
       "version_major": 2,
       "version_minor": 0
      },
      "text/plain": [
       "Batches:   0%|          | 0/5 [00:00<?, ?it/s]"
      ]
     },
     "metadata": {},
     "output_type": "display_data"
    },
    {
     "name": "stderr",
     "output_type": "stream",
     "text": [
      "Corpus Chunks:   0%|          | 0/25 [00:00<?, ?it/s]"
     ]
    },
    {
     "data": {
      "application/vnd.jupyter.widget-view+json": {
       "model_id": "7b252f90d8f64acc920b1fdc121eaf42",
       "version_major": 2,
       "version_minor": 0
      },
      "text/plain": [
       "Batches:   0%|          | 0/1563 [00:00<?, ?it/s]"
      ]
     },
     "metadata": {},
     "output_type": "display_data"
    },
    {
     "name": "stderr",
     "output_type": "stream",
     "text": [
      "Corpus Chunks:   4%|▍         | 1/25 [00:21<08:45, 21.88s/it]"
     ]
    },
    {
     "data": {
      "application/vnd.jupyter.widget-view+json": {
       "model_id": "286c7b98960145749933e23e90eb88a4",
       "version_major": 2,
       "version_minor": 0
      },
      "text/plain": [
       "Batches:   0%|          | 0/1563 [00:00<?, ?it/s]"
      ]
     },
     "metadata": {},
     "output_type": "display_data"
    },
    {
     "name": "stderr",
     "output_type": "stream",
     "text": [
      "Corpus Chunks:   8%|▊         | 2/25 [00:43<08:18, 21.69s/it]"
     ]
    },
    {
     "data": {
      "application/vnd.jupyter.widget-view+json": {
       "model_id": "75ec97df8ac24816a01633443139fd91",
       "version_major": 2,
       "version_minor": 0
      },
      "text/plain": [
       "Batches:   0%|          | 0/1563 [00:00<?, ?it/s]"
      ]
     },
     "metadata": {},
     "output_type": "display_data"
    },
    {
     "name": "stderr",
     "output_type": "stream",
     "text": [
      "Corpus Chunks:  12%|█▏        | 3/25 [01:05<07:59, 21.78s/it]"
     ]
    },
    {
     "data": {
      "application/vnd.jupyter.widget-view+json": {
       "model_id": "a4e8eeadf48d4550b6a0d3d582e1a5ed",
       "version_major": 2,
       "version_minor": 0
      },
      "text/plain": [
       "Batches:   0%|          | 0/1563 [00:00<?, ?it/s]"
      ]
     },
     "metadata": {},
     "output_type": "display_data"
    },
    {
     "name": "stderr",
     "output_type": "stream",
     "text": [
      "Corpus Chunks:  16%|█▌        | 4/25 [01:26<07:35, 21.67s/it]"
     ]
    },
    {
     "data": {
      "application/vnd.jupyter.widget-view+json": {
       "model_id": "d91b4afff39d43fdb7d14663d35deda0",
       "version_major": 2,
       "version_minor": 0
      },
      "text/plain": [
       "Batches:   0%|          | 0/1563 [00:00<?, ?it/s]"
      ]
     },
     "metadata": {},
     "output_type": "display_data"
    },
    {
     "name": "stderr",
     "output_type": "stream",
     "text": [
      "Corpus Chunks:  20%|██        | 5/25 [01:48<07:15, 21.77s/it]"
     ]
    },
    {
     "data": {
      "application/vnd.jupyter.widget-view+json": {
       "model_id": "9acf63431cbb4eada559259c1cf0e7b6",
       "version_major": 2,
       "version_minor": 0
      },
      "text/plain": [
       "Batches:   0%|          | 0/1563 [00:00<?, ?it/s]"
      ]
     },
     "metadata": {},
     "output_type": "display_data"
    },
    {
     "name": "stderr",
     "output_type": "stream",
     "text": [
      "Corpus Chunks:  24%|██▍       | 6/25 [02:10<06:52, 21.73s/it]"
     ]
    },
    {
     "data": {
      "application/vnd.jupyter.widget-view+json": {
       "model_id": "29ac78cb28e743d8a593e53c053c99ba",
       "version_major": 2,
       "version_minor": 0
      },
      "text/plain": [
       "Batches:   0%|          | 0/1563 [00:00<?, ?it/s]"
      ]
     },
     "metadata": {},
     "output_type": "display_data"
    },
    {
     "name": "stderr",
     "output_type": "stream",
     "text": [
      "Corpus Chunks:  28%|██▊       | 7/25 [02:31<06:28, 21.61s/it]"
     ]
    },
    {
     "data": {
      "application/vnd.jupyter.widget-view+json": {
       "model_id": "07e583c629fb420b805e1c300a7b74f7",
       "version_major": 2,
       "version_minor": 0
      },
      "text/plain": [
       "Batches:   0%|          | 0/1563 [00:00<?, ?it/s]"
      ]
     },
     "metadata": {},
     "output_type": "display_data"
    },
    {
     "name": "stderr",
     "output_type": "stream",
     "text": [
      "Corpus Chunks:  32%|███▏      | 8/25 [02:53<06:06, 21.58s/it]"
     ]
    },
    {
     "data": {
      "application/vnd.jupyter.widget-view+json": {
       "model_id": "9a3512154239450694c6affc99a0e7d9",
       "version_major": 2,
       "version_minor": 0
      },
      "text/plain": [
       "Batches:   0%|          | 0/1563 [00:00<?, ?it/s]"
      ]
     },
     "metadata": {},
     "output_type": "display_data"
    },
    {
     "name": "stderr",
     "output_type": "stream",
     "text": [
      "Corpus Chunks:  36%|███▌      | 9/25 [03:14<05:43, 21.48s/it]"
     ]
    },
    {
     "data": {
      "application/vnd.jupyter.widget-view+json": {
       "model_id": "9784bafc6065408c9992853df7ad5931",
       "version_major": 2,
       "version_minor": 0
      },
      "text/plain": [
       "Batches:   0%|          | 0/1563 [00:00<?, ?it/s]"
      ]
     },
     "metadata": {},
     "output_type": "display_data"
    },
    {
     "name": "stderr",
     "output_type": "stream",
     "text": [
      "Corpus Chunks:  40%|████      | 10/25 [03:35<05:21, 21.46s/it]"
     ]
    },
    {
     "data": {
      "application/vnd.jupyter.widget-view+json": {
       "model_id": "309e64bd7a5e4aa398d6ccdf24c6eb1d",
       "version_major": 2,
       "version_minor": 0
      },
      "text/plain": [
       "Batches:   0%|          | 0/1563 [00:00<?, ?it/s]"
      ]
     },
     "metadata": {},
     "output_type": "display_data"
    },
    {
     "name": "stderr",
     "output_type": "stream",
     "text": [
      "Corpus Chunks:  44%|████▍     | 11/25 [03:57<05:01, 21.52s/it]"
     ]
    },
    {
     "data": {
      "application/vnd.jupyter.widget-view+json": {
       "model_id": "6fec8b5e7eda4989ace025691a57181f",
       "version_major": 2,
       "version_minor": 0
      },
      "text/plain": [
       "Batches:   0%|          | 0/1563 [00:00<?, ?it/s]"
      ]
     },
     "metadata": {},
     "output_type": "display_data"
    },
    {
     "name": "stderr",
     "output_type": "stream",
     "text": [
      "Corpus Chunks:  48%|████▊     | 12/25 [04:19<04:39, 21.49s/it]"
     ]
    },
    {
     "data": {
      "application/vnd.jupyter.widget-view+json": {
       "model_id": "aedffa05420845c19ea20a3fb75b2439",
       "version_major": 2,
       "version_minor": 0
      },
      "text/plain": [
       "Batches:   0%|          | 0/1563 [00:00<?, ?it/s]"
      ]
     },
     "metadata": {},
     "output_type": "display_data"
    },
    {
     "name": "stderr",
     "output_type": "stream",
     "text": [
      "Corpus Chunks:  52%|█████▏    | 13/25 [04:40<04:17, 21.44s/it]"
     ]
    },
    {
     "data": {
      "application/vnd.jupyter.widget-view+json": {
       "model_id": "4c1e6d9aa836419392e6b36f7a411946",
       "version_major": 2,
       "version_minor": 0
      },
      "text/plain": [
       "Batches:   0%|          | 0/1563 [00:00<?, ?it/s]"
      ]
     },
     "metadata": {},
     "output_type": "display_data"
    },
    {
     "name": "stderr",
     "output_type": "stream",
     "text": [
      "Corpus Chunks:  56%|█████▌    | 14/25 [05:01<03:54, 21.31s/it]"
     ]
    },
    {
     "data": {
      "application/vnd.jupyter.widget-view+json": {
       "model_id": "b58c9397c78e44008c31f15e27f961bd",
       "version_major": 2,
       "version_minor": 0
      },
      "text/plain": [
       "Batches:   0%|          | 0/1563 [00:00<?, ?it/s]"
      ]
     },
     "metadata": {},
     "output_type": "display_data"
    },
    {
     "name": "stderr",
     "output_type": "stream",
     "text": [
      "Corpus Chunks:  60%|██████    | 15/25 [05:22<03:33, 21.33s/it]"
     ]
    },
    {
     "data": {
      "application/vnd.jupyter.widget-view+json": {
       "model_id": "aa9cb2d686dd4881ae9dd4380f41f918",
       "version_major": 2,
       "version_minor": 0
      },
      "text/plain": [
       "Batches:   0%|          | 0/1563 [00:00<?, ?it/s]"
      ]
     },
     "metadata": {},
     "output_type": "display_data"
    },
    {
     "name": "stderr",
     "output_type": "stream",
     "text": [
      "Corpus Chunks:  64%|██████▍   | 16/25 [05:43<03:11, 21.23s/it]"
     ]
    },
    {
     "data": {
      "application/vnd.jupyter.widget-view+json": {
       "model_id": "cf5b65deb0584451badbd0992a7917b1",
       "version_major": 2,
       "version_minor": 0
      },
      "text/plain": [
       "Batches:   0%|          | 0/1563 [00:00<?, ?it/s]"
      ]
     },
     "metadata": {},
     "output_type": "display_data"
    },
    {
     "name": "stderr",
     "output_type": "stream",
     "text": [
      "Corpus Chunks:  68%|██████▊   | 17/25 [06:04<02:49, 21.22s/it]"
     ]
    },
    {
     "data": {
      "application/vnd.jupyter.widget-view+json": {
       "model_id": "a047009ad8df417bb8e0ac5f8a2b51c7",
       "version_major": 2,
       "version_minor": 0
      },
      "text/plain": [
       "Batches:   0%|          | 0/1563 [00:00<?, ?it/s]"
      ]
     },
     "metadata": {},
     "output_type": "display_data"
    },
    {
     "name": "stderr",
     "output_type": "stream",
     "text": [
      "Corpus Chunks:  72%|███████▏  | 18/25 [06:25<02:28, 21.15s/it]"
     ]
    },
    {
     "data": {
      "application/vnd.jupyter.widget-view+json": {
       "model_id": "2cd9d6871d014e5780d5d83def14e671",
       "version_major": 2,
       "version_minor": 0
      },
      "text/plain": [
       "Batches:   0%|          | 0/1563 [00:00<?, ?it/s]"
      ]
     },
     "metadata": {},
     "output_type": "display_data"
    },
    {
     "name": "stderr",
     "output_type": "stream",
     "text": [
      "Corpus Chunks:  76%|███████▌  | 19/25 [06:47<02:08, 21.40s/it]"
     ]
    },
    {
     "data": {
      "application/vnd.jupyter.widget-view+json": {
       "model_id": "66e4ab7c6721469fa31a5c426b23cf57",
       "version_major": 2,
       "version_minor": 0
      },
      "text/plain": [
       "Batches:   0%|          | 0/1563 [00:00<?, ?it/s]"
      ]
     },
     "metadata": {},
     "output_type": "display_data"
    },
    {
     "name": "stderr",
     "output_type": "stream",
     "text": [
      "Corpus Chunks:  80%|████████  | 20/25 [07:10<01:48, 21.68s/it]"
     ]
    },
    {
     "data": {
      "application/vnd.jupyter.widget-view+json": {
       "model_id": "77c9b5b04b0b45898d5422e1831a5ad1",
       "version_major": 2,
       "version_minor": 0
      },
      "text/plain": [
       "Batches:   0%|          | 0/1563 [00:00<?, ?it/s]"
      ]
     },
     "metadata": {},
     "output_type": "display_data"
    },
    {
     "name": "stderr",
     "output_type": "stream",
     "text": [
      "Corpus Chunks:  84%|████████▍ | 21/25 [07:31<01:26, 21.66s/it]"
     ]
    },
    {
     "data": {
      "application/vnd.jupyter.widget-view+json": {
       "model_id": "ad4ee74770b249d5823ac9c9b91e8724",
       "version_major": 2,
       "version_minor": 0
      },
      "text/plain": [
       "Batches:   0%|          | 0/1563 [00:00<?, ?it/s]"
      ]
     },
     "metadata": {},
     "output_type": "display_data"
    },
    {
     "name": "stderr",
     "output_type": "stream",
     "text": [
      "Corpus Chunks:  88%|████████▊ | 22/25 [07:53<01:05, 21.78s/it]"
     ]
    },
    {
     "data": {
      "application/vnd.jupyter.widget-view+json": {
       "model_id": "514256b7523343a8a6dd361b27045e71",
       "version_major": 2,
       "version_minor": 0
      },
      "text/plain": [
       "Batches:   0%|          | 0/1563 [00:00<?, ?it/s]"
      ]
     },
     "metadata": {},
     "output_type": "display_data"
    },
    {
     "name": "stderr",
     "output_type": "stream",
     "text": [
      "Corpus Chunks:  92%|█████████▏| 23/25 [08:15<00:43, 21.69s/it]"
     ]
    },
    {
     "data": {
      "application/vnd.jupyter.widget-view+json": {
       "model_id": "ca2f39c99a68454185c4dc8ac9fc15ae",
       "version_major": 2,
       "version_minor": 0
      },
      "text/plain": [
       "Batches:   0%|          | 0/1563 [00:00<?, ?it/s]"
      ]
     },
     "metadata": {},
     "output_type": "display_data"
    },
    {
     "name": "stderr",
     "output_type": "stream",
     "text": [
      "Corpus Chunks:  96%|█████████▌| 24/25 [08:36<00:21, 21.63s/it]"
     ]
    },
    {
     "data": {
      "application/vnd.jupyter.widget-view+json": {
       "model_id": "54172c7a26114b87817150d1ec2ed036",
       "version_major": 2,
       "version_minor": 0
      },
      "text/plain": [
       "Batches:   0%|          | 0/276 [00:00<?, ?it/s]"
      ]
     },
     "metadata": {},
     "output_type": "display_data"
    },
    {
     "name": "stderr",
     "output_type": "stream",
     "text": [
      "Corpus Chunks: 100%|██████████| 25/25 [08:40<00:00, 20.83s/it]\n"
     ]
    },
    {
     "data": {
      "application/vnd.jupyter.widget-view+json": {
       "model_id": "de73f515343f4e14b5a07a6af0f726a2",
       "version_major": 2,
       "version_minor": 0
      },
      "text/plain": [
       "Batches:   0%|          | 0/5 [00:00<?, ?it/s]"
      ]
     },
     "metadata": {},
     "output_type": "display_data"
    },
    {
     "name": "stderr",
     "output_type": "stream",
     "text": [
      "Corpus Chunks:   0%|          | 0/25 [00:00<?, ?it/s]"
     ]
    },
    {
     "data": {
      "application/vnd.jupyter.widget-view+json": {
       "model_id": "dab3a7478c5e4eb084ab300f8a2b699b",
       "version_major": 2,
       "version_minor": 0
      },
      "text/plain": [
       "Batches:   0%|          | 0/1563 [00:00<?, ?it/s]"
      ]
     },
     "metadata": {},
     "output_type": "display_data"
    },
    {
     "name": "stderr",
     "output_type": "stream",
     "text": [
      "Corpus Chunks:   4%|▍         | 1/25 [00:21<08:37, 21.58s/it]"
     ]
    },
    {
     "data": {
      "application/vnd.jupyter.widget-view+json": {
       "model_id": "b2a8c0c2c03b4842af31f23aaedc2346",
       "version_major": 2,
       "version_minor": 0
      },
      "text/plain": [
       "Batches:   0%|          | 0/1563 [00:00<?, ?it/s]"
      ]
     },
     "metadata": {},
     "output_type": "display_data"
    },
    {
     "name": "stderr",
     "output_type": "stream",
     "text": [
      "Corpus Chunks:   8%|▊         | 2/25 [00:43<08:24, 21.93s/it]"
     ]
    },
    {
     "data": {
      "application/vnd.jupyter.widget-view+json": {
       "model_id": "ad8ba1db053748fba97837ab8ba202ec",
       "version_major": 2,
       "version_minor": 0
      },
      "text/plain": [
       "Batches:   0%|          | 0/1563 [00:00<?, ?it/s]"
      ]
     },
     "metadata": {},
     "output_type": "display_data"
    },
    {
     "name": "stderr",
     "output_type": "stream",
     "text": [
      "Corpus Chunks:  12%|█▏        | 3/25 [01:05<08:02, 21.92s/it]"
     ]
    },
    {
     "data": {
      "application/vnd.jupyter.widget-view+json": {
       "model_id": "19901ad989274c18a1eb2ce81ca78b3d",
       "version_major": 2,
       "version_minor": 0
      },
      "text/plain": [
       "Batches:   0%|          | 0/1563 [00:00<?, ?it/s]"
      ]
     },
     "metadata": {},
     "output_type": "display_data"
    },
    {
     "name": "stderr",
     "output_type": "stream",
     "text": [
      "Corpus Chunks:  16%|█▌        | 4/25 [01:27<07:37, 21.78s/it]"
     ]
    },
    {
     "data": {
      "application/vnd.jupyter.widget-view+json": {
       "model_id": "da8b77fe28544d5a969781a9f30fa191",
       "version_major": 2,
       "version_minor": 0
      },
      "text/plain": [
       "Batches:   0%|          | 0/1563 [00:00<?, ?it/s]"
      ]
     },
     "metadata": {},
     "output_type": "display_data"
    },
    {
     "name": "stderr",
     "output_type": "stream",
     "text": [
      "Corpus Chunks:  20%|██        | 5/25 [01:49<07:15, 21.80s/it]"
     ]
    },
    {
     "data": {
      "application/vnd.jupyter.widget-view+json": {
       "model_id": "05953f57c1824517946ac30bbbd07a74",
       "version_major": 2,
       "version_minor": 0
      },
      "text/plain": [
       "Batches:   0%|          | 0/1563 [00:00<?, ?it/s]"
      ]
     },
     "metadata": {},
     "output_type": "display_data"
    },
    {
     "name": "stderr",
     "output_type": "stream",
     "text": [
      "Corpus Chunks:  24%|██▍       | 6/25 [02:11<06:56, 21.91s/it]"
     ]
    },
    {
     "data": {
      "application/vnd.jupyter.widget-view+json": {
       "model_id": "23098021c7ef4a62b1bcc8ec0113a633",
       "version_major": 2,
       "version_minor": 0
      },
      "text/plain": [
       "Batches:   0%|          | 0/1563 [00:00<?, ?it/s]"
      ]
     },
     "metadata": {},
     "output_type": "display_data"
    },
    {
     "name": "stderr",
     "output_type": "stream",
     "text": [
      "Corpus Chunks:  28%|██▊       | 7/25 [02:33<06:36, 22.01s/it]"
     ]
    },
    {
     "data": {
      "application/vnd.jupyter.widget-view+json": {
       "model_id": "f9f3615b6df94639b08eb63e24cc6610",
       "version_major": 2,
       "version_minor": 0
      },
      "text/plain": [
       "Batches:   0%|          | 0/1563 [00:00<?, ?it/s]"
      ]
     },
     "metadata": {},
     "output_type": "display_data"
    },
    {
     "name": "stderr",
     "output_type": "stream",
     "text": [
      "Corpus Chunks:  32%|███▏      | 8/25 [02:55<06:13, 21.95s/it]"
     ]
    },
    {
     "data": {
      "application/vnd.jupyter.widget-view+json": {
       "model_id": "6d1cf519098e43fcada864e7620f504d",
       "version_major": 2,
       "version_minor": 0
      },
      "text/plain": [
       "Batches:   0%|          | 0/1563 [00:00<?, ?it/s]"
      ]
     },
     "metadata": {},
     "output_type": "display_data"
    },
    {
     "name": "stderr",
     "output_type": "stream",
     "text": [
      "Corpus Chunks:  36%|███▌      | 9/25 [03:16<05:49, 21.84s/it]"
     ]
    },
    {
     "data": {
      "application/vnd.jupyter.widget-view+json": {
       "model_id": "4111f776af524827976282f4fb10bec4",
       "version_major": 2,
       "version_minor": 0
      },
      "text/plain": [
       "Batches:   0%|          | 0/1563 [00:00<?, ?it/s]"
      ]
     },
     "metadata": {},
     "output_type": "display_data"
    },
    {
     "name": "stderr",
     "output_type": "stream",
     "text": [
      "Corpus Chunks:  40%|████      | 10/25 [03:38<05:27, 21.84s/it]"
     ]
    },
    {
     "data": {
      "application/vnd.jupyter.widget-view+json": {
       "model_id": "012109b0223547e49591ea55c01dd4bf",
       "version_major": 2,
       "version_minor": 0
      },
      "text/plain": [
       "Batches:   0%|          | 0/1563 [00:00<?, ?it/s]"
      ]
     },
     "metadata": {},
     "output_type": "display_data"
    },
    {
     "name": "stderr",
     "output_type": "stream",
     "text": [
      "Corpus Chunks:  44%|████▍     | 11/25 [04:00<05:04, 21.78s/it]"
     ]
    },
    {
     "data": {
      "application/vnd.jupyter.widget-view+json": {
       "model_id": "a2180e03c6614bc9a48a396539c1a28e",
       "version_major": 2,
       "version_minor": 0
      },
      "text/plain": [
       "Batches:   0%|          | 0/1563 [00:00<?, ?it/s]"
      ]
     },
     "metadata": {},
     "output_type": "display_data"
    },
    {
     "name": "stderr",
     "output_type": "stream",
     "text": [
      "Corpus Chunks:  48%|████▊     | 12/25 [04:22<04:44, 21.86s/it]"
     ]
    },
    {
     "data": {
      "application/vnd.jupyter.widget-view+json": {
       "model_id": "bffe6da2e01c4627b8600260634112fe",
       "version_major": 2,
       "version_minor": 0
      },
      "text/plain": [
       "Batches:   0%|          | 0/1563 [00:00<?, ?it/s]"
      ]
     },
     "metadata": {},
     "output_type": "display_data"
    },
    {
     "name": "stderr",
     "output_type": "stream",
     "text": [
      "Corpus Chunks:  52%|█████▏    | 13/25 [04:44<04:22, 21.89s/it]"
     ]
    },
    {
     "data": {
      "application/vnd.jupyter.widget-view+json": {
       "model_id": "98d49193d01043848b7cbb1dd363d7b5",
       "version_major": 2,
       "version_minor": 0
      },
      "text/plain": [
       "Batches:   0%|          | 0/1563 [00:00<?, ?it/s]"
      ]
     },
     "metadata": {},
     "output_type": "display_data"
    },
    {
     "name": "stderr",
     "output_type": "stream",
     "text": [
      "Corpus Chunks:  56%|█████▌    | 14/25 [05:06<04:00, 21.85s/it]"
     ]
    },
    {
     "data": {
      "application/vnd.jupyter.widget-view+json": {
       "model_id": "1aa63f3b0d6141c8a480bffb7dd82e20",
       "version_major": 2,
       "version_minor": 0
      },
      "text/plain": [
       "Batches:   0%|          | 0/1563 [00:00<?, ?it/s]"
      ]
     },
     "metadata": {},
     "output_type": "display_data"
    },
    {
     "name": "stderr",
     "output_type": "stream",
     "text": [
      "Corpus Chunks:  60%|██████    | 15/25 [05:27<03:37, 21.79s/it]"
     ]
    },
    {
     "data": {
      "application/vnd.jupyter.widget-view+json": {
       "model_id": "e54b402d67e946eda107d59afbe03529",
       "version_major": 2,
       "version_minor": 0
      },
      "text/plain": [
       "Batches:   0%|          | 0/1563 [00:00<?, ?it/s]"
      ]
     },
     "metadata": {},
     "output_type": "display_data"
    },
    {
     "name": "stderr",
     "output_type": "stream",
     "text": [
      "Corpus Chunks:  64%|██████▍   | 16/25 [05:49<03:14, 21.65s/it]"
     ]
    },
    {
     "data": {
      "application/vnd.jupyter.widget-view+json": {
       "model_id": "7a92282c7bce41ba9877eb9c0d8d5f82",
       "version_major": 2,
       "version_minor": 0
      },
      "text/plain": [
       "Batches:   0%|          | 0/1563 [00:00<?, ?it/s]"
      ]
     },
     "metadata": {},
     "output_type": "display_data"
    },
    {
     "name": "stderr",
     "output_type": "stream",
     "text": [
      "Corpus Chunks:  68%|██████▊   | 17/25 [06:10<02:53, 21.65s/it]"
     ]
    },
    {
     "data": {
      "application/vnd.jupyter.widget-view+json": {
       "model_id": "c6d8a2deb862436d9d6c4b28d2e662d0",
       "version_major": 2,
       "version_minor": 0
      },
      "text/plain": [
       "Batches:   0%|          | 0/1563 [00:00<?, ?it/s]"
      ]
     },
     "metadata": {},
     "output_type": "display_data"
    },
    {
     "name": "stderr",
     "output_type": "stream",
     "text": [
      "Corpus Chunks:  72%|███████▏  | 18/25 [06:32<02:31, 21.60s/it]"
     ]
    },
    {
     "data": {
      "application/vnd.jupyter.widget-view+json": {
       "model_id": "08edc3e234414a37b17c6fba9ae4c0d4",
       "version_major": 2,
       "version_minor": 0
      },
      "text/plain": [
       "Batches:   0%|          | 0/1563 [00:00<?, ?it/s]"
      ]
     },
     "metadata": {},
     "output_type": "display_data"
    },
    {
     "name": "stderr",
     "output_type": "stream",
     "text": [
      "Corpus Chunks:  76%|███████▌  | 19/25 [06:53<02:09, 21.57s/it]"
     ]
    },
    {
     "data": {
      "application/vnd.jupyter.widget-view+json": {
       "model_id": "62e091d5a78a4b4089082114822d22d1",
       "version_major": 2,
       "version_minor": 0
      },
      "text/plain": [
       "Batches:   0%|          | 0/1563 [00:00<?, ?it/s]"
      ]
     },
     "metadata": {},
     "output_type": "display_data"
    },
    {
     "name": "stderr",
     "output_type": "stream",
     "text": [
      "Corpus Chunks:  80%|████████  | 20/25 [07:15<01:48, 21.67s/it]"
     ]
    },
    {
     "data": {
      "application/vnd.jupyter.widget-view+json": {
       "model_id": "936dc5cd53c34850bd31960b692ca17c",
       "version_major": 2,
       "version_minor": 0
      },
      "text/plain": [
       "Batches:   0%|          | 0/1563 [00:00<?, ?it/s]"
      ]
     },
     "metadata": {},
     "output_type": "display_data"
    },
    {
     "name": "stderr",
     "output_type": "stream",
     "text": [
      "Corpus Chunks:  84%|████████▍ | 21/25 [07:37<01:26, 21.72s/it]"
     ]
    },
    {
     "data": {
      "application/vnd.jupyter.widget-view+json": {
       "model_id": "448160bada3740ce92dcf808c2e1c680",
       "version_major": 2,
       "version_minor": 0
      },
      "text/plain": [
       "Batches:   0%|          | 0/1563 [00:00<?, ?it/s]"
      ]
     },
     "metadata": {},
     "output_type": "display_data"
    },
    {
     "name": "stderr",
     "output_type": "stream",
     "text": [
      "Corpus Chunks:  88%|████████▊ | 22/25 [07:59<01:05, 21.89s/it]"
     ]
    },
    {
     "data": {
      "application/vnd.jupyter.widget-view+json": {
       "model_id": "257f41b810044585ad2cbf643f12c770",
       "version_major": 2,
       "version_minor": 0
      },
      "text/plain": [
       "Batches:   0%|          | 0/1563 [00:00<?, ?it/s]"
      ]
     },
     "metadata": {},
     "output_type": "display_data"
    },
    {
     "name": "stderr",
     "output_type": "stream",
     "text": [
      "Corpus Chunks:  92%|█████████▏| 23/25 [08:22<00:44, 22.23s/it]"
     ]
    },
    {
     "data": {
      "application/vnd.jupyter.widget-view+json": {
       "model_id": "45dc1148aab94aca990a6162f29cc912",
       "version_major": 2,
       "version_minor": 0
      },
      "text/plain": [
       "Batches:   0%|          | 0/1563 [00:00<?, ?it/s]"
      ]
     },
     "metadata": {},
     "output_type": "display_data"
    },
    {
     "name": "stderr",
     "output_type": "stream",
     "text": [
      "Corpus Chunks:  96%|█████████▌| 24/25 [08:47<00:22, 22.92s/it]"
     ]
    },
    {
     "data": {
      "application/vnd.jupyter.widget-view+json": {
       "model_id": "b343bf2e5dc548248887a398c586068f",
       "version_major": 2,
       "version_minor": 0
      },
      "text/plain": [
       "Batches:   0%|          | 0/276 [00:00<?, ?it/s]"
      ]
     },
     "metadata": {},
     "output_type": "display_data"
    },
    {
     "name": "stderr",
     "output_type": "stream",
     "text": [
      "Corpus Chunks: 100%|██████████| 25/25 [08:51<00:00, 21.28s/it]\n"
     ]
    },
    {
     "data": {
      "application/vnd.jupyter.widget-view+json": {
       "model_id": "4d03b85d012e43f7b7ab89236f8af436",
       "version_major": 2,
       "version_minor": 0
      },
      "text/plain": [
       "Batches:   0%|          | 0/5 [00:00<?, ?it/s]"
      ]
     },
     "metadata": {},
     "output_type": "display_data"
    },
    {
     "name": "stderr",
     "output_type": "stream",
     "text": [
      "Corpus Chunks:   0%|          | 0/25 [00:00<?, ?it/s]"
     ]
    },
    {
     "data": {
      "application/vnd.jupyter.widget-view+json": {
       "model_id": "a96d84daab4f4d0b82167fac56c5a9c4",
       "version_major": 2,
       "version_minor": 0
      },
      "text/plain": [
       "Batches:   0%|          | 0/1563 [00:00<?, ?it/s]"
      ]
     },
     "metadata": {},
     "output_type": "display_data"
    },
    {
     "name": "stderr",
     "output_type": "stream",
     "text": [
      "Corpus Chunks:   4%|▍         | 1/25 [00:23<09:21, 23.38s/it]"
     ]
    },
    {
     "data": {
      "application/vnd.jupyter.widget-view+json": {
       "model_id": "5db4fa75f25842949ffec61b6eb48c0f",
       "version_major": 2,
       "version_minor": 0
      },
      "text/plain": [
       "Batches:   0%|          | 0/1563 [00:00<?, ?it/s]"
      ]
     },
     "metadata": {},
     "output_type": "display_data"
    },
    {
     "name": "stderr",
     "output_type": "stream",
     "text": [
      "Corpus Chunks:   8%|▊         | 2/25 [00:46<08:55, 23.27s/it]"
     ]
    },
    {
     "data": {
      "application/vnd.jupyter.widget-view+json": {
       "model_id": "212f0df223c04d538896ee6461f3d446",
       "version_major": 2,
       "version_minor": 0
      },
      "text/plain": [
       "Batches:   0%|          | 0/1563 [00:00<?, ?it/s]"
      ]
     },
     "metadata": {},
     "output_type": "display_data"
    },
    {
     "name": "stderr",
     "output_type": "stream",
     "text": [
      "Corpus Chunks:  12%|█▏        | 3/25 [01:11<08:45, 23.91s/it]"
     ]
    },
    {
     "data": {
      "application/vnd.jupyter.widget-view+json": {
       "model_id": "af7739a87db7416fb2877880d7e1e691",
       "version_major": 2,
       "version_minor": 0
      },
      "text/plain": [
       "Batches:   0%|          | 0/1563 [00:00<?, ?it/s]"
      ]
     },
     "metadata": {},
     "output_type": "display_data"
    },
    {
     "name": "stderr",
     "output_type": "stream",
     "text": [
      "Corpus Chunks:  16%|█▌        | 4/25 [01:35<08:23, 23.96s/it]"
     ]
    },
    {
     "data": {
      "application/vnd.jupyter.widget-view+json": {
       "model_id": "266863f633fd4c8fb929564062233858",
       "version_major": 2,
       "version_minor": 0
      },
      "text/plain": [
       "Batches:   0%|          | 0/1563 [00:00<?, ?it/s]"
      ]
     },
     "metadata": {},
     "output_type": "display_data"
    },
    {
     "name": "stderr",
     "output_type": "stream",
     "text": [
      "Corpus Chunks:  20%|██        | 5/25 [01:59<07:57, 23.89s/it]"
     ]
    },
    {
     "data": {
      "application/vnd.jupyter.widget-view+json": {
       "model_id": "50dcf5934f0f45debe88b31b1e6e1c3f",
       "version_major": 2,
       "version_minor": 0
      },
      "text/plain": [
       "Batches:   0%|          | 0/1563 [00:00<?, ?it/s]"
      ]
     },
     "metadata": {},
     "output_type": "display_data"
    },
    {
     "name": "stderr",
     "output_type": "stream",
     "text": [
      "Corpus Chunks:  24%|██▍       | 6/25 [02:22<07:34, 23.90s/it]"
     ]
    },
    {
     "data": {
      "application/vnd.jupyter.widget-view+json": {
       "model_id": "37bdc8809b88419d9b98fcecbd1c0656",
       "version_major": 2,
       "version_minor": 0
      },
      "text/plain": [
       "Batches:   0%|          | 0/1563 [00:00<?, ?it/s]"
      ]
     },
     "metadata": {},
     "output_type": "display_data"
    },
    {
     "name": "stderr",
     "output_type": "stream",
     "text": [
      "Corpus Chunks:  28%|██▊       | 7/25 [02:47<07:13, 24.08s/it]"
     ]
    },
    {
     "data": {
      "application/vnd.jupyter.widget-view+json": {
       "model_id": "443515a89333405d999cb4e5c024649d",
       "version_major": 2,
       "version_minor": 0
      },
      "text/plain": [
       "Batches:   0%|          | 0/1563 [00:00<?, ?it/s]"
      ]
     },
     "metadata": {},
     "output_type": "display_data"
    },
    {
     "name": "stderr",
     "output_type": "stream",
     "text": [
      "Corpus Chunks:  32%|███▏      | 8/25 [03:11<06:48, 24.00s/it]"
     ]
    },
    {
     "data": {
      "application/vnd.jupyter.widget-view+json": {
       "model_id": "d98882cdac5c4cdcb15643d4c44b23d1",
       "version_major": 2,
       "version_minor": 0
      },
      "text/plain": [
       "Batches:   0%|          | 0/1563 [00:00<?, ?it/s]"
      ]
     },
     "metadata": {},
     "output_type": "display_data"
    },
    {
     "name": "stderr",
     "output_type": "stream",
     "text": [
      "Corpus Chunks:  36%|███▌      | 9/25 [03:34<06:18, 23.63s/it]"
     ]
    },
    {
     "data": {
      "application/vnd.jupyter.widget-view+json": {
       "model_id": "e59d3556ba1f4311816823fdec45bf4a",
       "version_major": 2,
       "version_minor": 0
      },
      "text/plain": [
       "Batches:   0%|          | 0/1563 [00:00<?, ?it/s]"
      ]
     },
     "metadata": {},
     "output_type": "display_data"
    },
    {
     "name": "stderr",
     "output_type": "stream",
     "text": [
      "Corpus Chunks:  40%|████      | 10/25 [03:57<05:53, 23.59s/it]"
     ]
    },
    {
     "data": {
      "application/vnd.jupyter.widget-view+json": {
       "model_id": "755a92495ac3481197926fee54417462",
       "version_major": 2,
       "version_minor": 0
      },
      "text/plain": [
       "Batches:   0%|          | 0/1563 [00:00<?, ?it/s]"
      ]
     },
     "metadata": {},
     "output_type": "display_data"
    },
    {
     "name": "stderr",
     "output_type": "stream",
     "text": [
      "Corpus Chunks:  44%|████▍     | 11/25 [04:19<05:24, 23.15s/it]"
     ]
    },
    {
     "data": {
      "application/vnd.jupyter.widget-view+json": {
       "model_id": "3f3a00ee5f884e829d9b6b50d0bc2cbf",
       "version_major": 2,
       "version_minor": 0
      },
      "text/plain": [
       "Batches:   0%|          | 0/1563 [00:00<?, ?it/s]"
      ]
     },
     "metadata": {},
     "output_type": "display_data"
    },
    {
     "name": "stderr",
     "output_type": "stream",
     "text": [
      "Corpus Chunks:  48%|████▊     | 12/25 [04:43<05:03, 23.38s/it]"
     ]
    },
    {
     "data": {
      "application/vnd.jupyter.widget-view+json": {
       "model_id": "caf90b558a9a468ca601581fec14dcc2",
       "version_major": 2,
       "version_minor": 0
      },
      "text/plain": [
       "Batches:   0%|          | 0/1563 [00:00<?, ?it/s]"
      ]
     },
     "metadata": {},
     "output_type": "display_data"
    },
    {
     "name": "stderr",
     "output_type": "stream",
     "text": [
      "Corpus Chunks:  52%|█████▏    | 13/25 [05:07<04:40, 23.42s/it]"
     ]
    },
    {
     "data": {
      "application/vnd.jupyter.widget-view+json": {
       "model_id": "e4e57b2542024d9aad088018179fea8d",
       "version_major": 2,
       "version_minor": 0
      },
      "text/plain": [
       "Batches:   0%|          | 0/1563 [00:00<?, ?it/s]"
      ]
     },
     "metadata": {},
     "output_type": "display_data"
    },
    {
     "name": "stderr",
     "output_type": "stream",
     "text": [
      "Corpus Chunks:  56%|█████▌    | 14/25 [05:30<04:18, 23.50s/it]"
     ]
    },
    {
     "data": {
      "application/vnd.jupyter.widget-view+json": {
       "model_id": "f3d331a6f2d6421499e15103ff795bf3",
       "version_major": 2,
       "version_minor": 0
      },
      "text/plain": [
       "Batches:   0%|          | 0/1563 [00:00<?, ?it/s]"
      ]
     },
     "metadata": {},
     "output_type": "display_data"
    },
    {
     "name": "stderr",
     "output_type": "stream",
     "text": [
      "Corpus Chunks:  60%|██████    | 15/25 [05:53<03:53, 23.38s/it]"
     ]
    },
    {
     "data": {
      "application/vnd.jupyter.widget-view+json": {
       "model_id": "c47bfbe9539b458eb1121cafa9eaeabb",
       "version_major": 2,
       "version_minor": 0
      },
      "text/plain": [
       "Batches:   0%|          | 0/1563 [00:00<?, ?it/s]"
      ]
     },
     "metadata": {},
     "output_type": "display_data"
    },
    {
     "name": "stderr",
     "output_type": "stream",
     "text": [
      "Corpus Chunks:  64%|██████▍   | 16/25 [06:16<03:29, 23.24s/it]"
     ]
    },
    {
     "data": {
      "application/vnd.jupyter.widget-view+json": {
       "model_id": "91897b771c8b44d9a8f4f3e373c023a5",
       "version_major": 2,
       "version_minor": 0
      },
      "text/plain": [
       "Batches:   0%|          | 0/1563 [00:00<?, ?it/s]"
      ]
     },
     "metadata": {},
     "output_type": "display_data"
    },
    {
     "name": "stderr",
     "output_type": "stream",
     "text": [
      "Corpus Chunks:  68%|██████▊   | 17/25 [06:40<03:06, 23.30s/it]"
     ]
    },
    {
     "data": {
      "application/vnd.jupyter.widget-view+json": {
       "model_id": "44454eac15ef411c929ae69cc8e785ae",
       "version_major": 2,
       "version_minor": 0
      },
      "text/plain": [
       "Batches:   0%|          | 0/1563 [00:00<?, ?it/s]"
      ]
     },
     "metadata": {},
     "output_type": "display_data"
    },
    {
     "name": "stderr",
     "output_type": "stream",
     "text": [
      "Corpus Chunks:  72%|███████▏  | 18/25 [07:02<02:40, 22.99s/it]"
     ]
    },
    {
     "data": {
      "application/vnd.jupyter.widget-view+json": {
       "model_id": "6a8d56ac8d314675b4eba89abdc7babe",
       "version_major": 2,
       "version_minor": 0
      },
      "text/plain": [
       "Batches:   0%|          | 0/1563 [00:00<?, ?it/s]"
      ]
     },
     "metadata": {},
     "output_type": "display_data"
    },
    {
     "name": "stderr",
     "output_type": "stream",
     "text": [
      "Corpus Chunks:  76%|███████▌  | 19/25 [07:25<02:17, 22.90s/it]"
     ]
    },
    {
     "data": {
      "application/vnd.jupyter.widget-view+json": {
       "model_id": "2889652848ac4087b9a4a9250311eaeb",
       "version_major": 2,
       "version_minor": 0
      },
      "text/plain": [
       "Batches:   0%|          | 0/1563 [00:00<?, ?it/s]"
      ]
     },
     "metadata": {},
     "output_type": "display_data"
    },
    {
     "name": "stderr",
     "output_type": "stream",
     "text": [
      "Corpus Chunks:  80%|████████  | 20/25 [07:48<01:54, 22.96s/it]"
     ]
    },
    {
     "data": {
      "application/vnd.jupyter.widget-view+json": {
       "model_id": "0265a05861f54d38a333a790b5e7021e",
       "version_major": 2,
       "version_minor": 0
      },
      "text/plain": [
       "Batches:   0%|          | 0/1563 [00:00<?, ?it/s]"
      ]
     },
     "metadata": {},
     "output_type": "display_data"
    },
    {
     "name": "stderr",
     "output_type": "stream",
     "text": [
      "Corpus Chunks:  84%|████████▍ | 21/25 [08:11<01:31, 22.92s/it]"
     ]
    },
    {
     "data": {
      "application/vnd.jupyter.widget-view+json": {
       "model_id": "a3b4d82735d241f9bca27d2a40e6ff7f",
       "version_major": 2,
       "version_minor": 0
      },
      "text/plain": [
       "Batches:   0%|          | 0/1563 [00:00<?, ?it/s]"
      ]
     },
     "metadata": {},
     "output_type": "display_data"
    },
    {
     "name": "stderr",
     "output_type": "stream",
     "text": [
      "Corpus Chunks:  88%|████████▊ | 22/25 [08:34<01:08, 22.93s/it]"
     ]
    },
    {
     "data": {
      "application/vnd.jupyter.widget-view+json": {
       "model_id": "f57ee98747d34604971c9ea14b98e355",
       "version_major": 2,
       "version_minor": 0
      },
      "text/plain": [
       "Batches:   0%|          | 0/1563 [00:00<?, ?it/s]"
      ]
     },
     "metadata": {},
     "output_type": "display_data"
    },
    {
     "name": "stderr",
     "output_type": "stream",
     "text": [
      "Corpus Chunks:  92%|█████████▏| 23/25 [08:56<00:45, 22.74s/it]"
     ]
    },
    {
     "data": {
      "application/vnd.jupyter.widget-view+json": {
       "model_id": "edd0a9b096f04dbdaee034c2a43a4ec6",
       "version_major": 2,
       "version_minor": 0
      },
      "text/plain": [
       "Batches:   0%|          | 0/1563 [00:00<?, ?it/s]"
      ]
     },
     "metadata": {},
     "output_type": "display_data"
    },
    {
     "name": "stderr",
     "output_type": "stream",
     "text": [
      "Corpus Chunks:  96%|█████████▌| 24/25 [09:18<00:22, 22.68s/it]"
     ]
    },
    {
     "data": {
      "application/vnd.jupyter.widget-view+json": {
       "model_id": "5048f72b7a9b484e85acd77076e3a33f",
       "version_major": 2,
       "version_minor": 0
      },
      "text/plain": [
       "Batches:   0%|          | 0/276 [00:00<?, ?it/s]"
      ]
     },
     "metadata": {},
     "output_type": "display_data"
    },
    {
     "name": "stderr",
     "output_type": "stream",
     "text": [
      "Corpus Chunks: 100%|██████████| 25/25 [09:23<00:00, 22.52s/it]\n"
     ]
    },
    {
     "data": {
      "application/vnd.jupyter.widget-view+json": {
       "model_id": "87bd510e1c8d4c0aaae23fcbd49aef73",
       "version_major": 2,
       "version_minor": 0
      },
      "text/plain": [
       "Batches:   0%|          | 0/5 [00:00<?, ?it/s]"
      ]
     },
     "metadata": {},
     "output_type": "display_data"
    },
    {
     "name": "stderr",
     "output_type": "stream",
     "text": [
      "Corpus Chunks:   0%|          | 0/25 [00:00<?, ?it/s]"
     ]
    },
    {
     "data": {
      "application/vnd.jupyter.widget-view+json": {
       "model_id": "50e1f069ac6e44b89e70f65cbac08d30",
       "version_major": 2,
       "version_minor": 0
      },
      "text/plain": [
       "Batches:   0%|          | 0/1563 [00:00<?, ?it/s]"
      ]
     },
     "metadata": {},
     "output_type": "display_data"
    },
    {
     "name": "stderr",
     "output_type": "stream",
     "text": [
      "Corpus Chunks:   4%|▍         | 1/25 [00:22<08:53, 22.21s/it]"
     ]
    },
    {
     "data": {
      "application/vnd.jupyter.widget-view+json": {
       "model_id": "a38c7cfe99b64279a358d97585aa1bcd",
       "version_major": 2,
       "version_minor": 0
      },
      "text/plain": [
       "Batches:   0%|          | 0/1563 [00:00<?, ?it/s]"
      ]
     },
     "metadata": {},
     "output_type": "display_data"
    },
    {
     "name": "stderr",
     "output_type": "stream",
     "text": [
      "Corpus Chunks:   8%|▊         | 2/25 [00:44<08:27, 22.07s/it]"
     ]
    },
    {
     "data": {
      "application/vnd.jupyter.widget-view+json": {
       "model_id": "61daf584b00348a291352e0a210132cf",
       "version_major": 2,
       "version_minor": 0
      },
      "text/plain": [
       "Batches:   0%|          | 0/1563 [00:00<?, ?it/s]"
      ]
     },
     "metadata": {},
     "output_type": "display_data"
    },
    {
     "name": "stderr",
     "output_type": "stream",
     "text": [
      "Corpus Chunks:  12%|█▏        | 3/25 [01:07<08:22, 22.86s/it]"
     ]
    },
    {
     "data": {
      "application/vnd.jupyter.widget-view+json": {
       "model_id": "6414fd08b9e244e688e03b6730c3015d",
       "version_major": 2,
       "version_minor": 0
      },
      "text/plain": [
       "Batches:   0%|          | 0/1563 [00:00<?, ?it/s]"
      ]
     },
     "metadata": {},
     "output_type": "display_data"
    },
    {
     "name": "stderr",
     "output_type": "stream",
     "text": [
      "Corpus Chunks:  16%|█▌        | 4/25 [01:32<08:10, 23.36s/it]"
     ]
    },
    {
     "data": {
      "application/vnd.jupyter.widget-view+json": {
       "model_id": "b4f057bf5b354d21bbe01df75e1cf175",
       "version_major": 2,
       "version_minor": 0
      },
      "text/plain": [
       "Batches:   0%|          | 0/1563 [00:00<?, ?it/s]"
      ]
     },
     "metadata": {},
     "output_type": "display_data"
    },
    {
     "name": "stderr",
     "output_type": "stream",
     "text": [
      "Corpus Chunks:  20%|██        | 5/25 [01:54<07:41, 23.05s/it]"
     ]
    },
    {
     "data": {
      "application/vnd.jupyter.widget-view+json": {
       "model_id": "22f137f4a4754f94a4fa59461f5714a1",
       "version_major": 2,
       "version_minor": 0
      },
      "text/plain": [
       "Batches:   0%|          | 0/1563 [00:00<?, ?it/s]"
      ]
     },
     "metadata": {},
     "output_type": "display_data"
    },
    {
     "name": "stderr",
     "output_type": "stream",
     "text": [
      "Corpus Chunks:  24%|██▍       | 6/25 [02:17<07:17, 23.00s/it]"
     ]
    },
    {
     "data": {
      "application/vnd.jupyter.widget-view+json": {
       "model_id": "82be03291cba40cf8403b741e3305588",
       "version_major": 2,
       "version_minor": 0
      },
      "text/plain": [
       "Batches:   0%|          | 0/1563 [00:00<?, ?it/s]"
      ]
     },
     "metadata": {},
     "output_type": "display_data"
    },
    {
     "name": "stderr",
     "output_type": "stream",
     "text": [
      "Corpus Chunks:  28%|██▊       | 7/25 [02:40<06:53, 22.95s/it]"
     ]
    },
    {
     "data": {
      "application/vnd.jupyter.widget-view+json": {
       "model_id": "fb8c50d7eb07415b8e1a89a764da3ce8",
       "version_major": 2,
       "version_minor": 0
      },
      "text/plain": [
       "Batches:   0%|          | 0/1563 [00:00<?, ?it/s]"
      ]
     },
     "metadata": {},
     "output_type": "display_data"
    },
    {
     "name": "stderr",
     "output_type": "stream",
     "text": [
      "Corpus Chunks:  32%|███▏      | 8/25 [03:02<06:25, 22.69s/it]"
     ]
    },
    {
     "data": {
      "application/vnd.jupyter.widget-view+json": {
       "model_id": "5631eedc565440eea86e4b9fd60aae96",
       "version_major": 2,
       "version_minor": 0
      },
      "text/plain": [
       "Batches:   0%|          | 0/1563 [00:00<?, ?it/s]"
      ]
     },
     "metadata": {},
     "output_type": "display_data"
    },
    {
     "name": "stderr",
     "output_type": "stream",
     "text": [
      "Corpus Chunks:  36%|███▌      | 9/25 [03:26<06:07, 22.97s/it]"
     ]
    },
    {
     "data": {
      "application/vnd.jupyter.widget-view+json": {
       "model_id": "4dcfd2a1cb67460e952c784651086afa",
       "version_major": 2,
       "version_minor": 0
      },
      "text/plain": [
       "Batches:   0%|          | 0/1563 [00:00<?, ?it/s]"
      ]
     },
     "metadata": {},
     "output_type": "display_data"
    },
    {
     "name": "stderr",
     "output_type": "stream",
     "text": [
      "Corpus Chunks:  40%|████      | 10/25 [03:49<05:46, 23.12s/it]"
     ]
    },
    {
     "data": {
      "application/vnd.jupyter.widget-view+json": {
       "model_id": "a7fbdaaae2e0497190d1db9015942326",
       "version_major": 2,
       "version_minor": 0
      },
      "text/plain": [
       "Batches:   0%|          | 0/1563 [00:00<?, ?it/s]"
      ]
     },
     "metadata": {},
     "output_type": "display_data"
    },
    {
     "name": "stderr",
     "output_type": "stream",
     "text": [
      "Corpus Chunks:  44%|████▍     | 11/25 [04:11<05:19, 22.86s/it]"
     ]
    },
    {
     "data": {
      "application/vnd.jupyter.widget-view+json": {
       "model_id": "5ffa8d371b46419b90d99a85ae6a7fd3",
       "version_major": 2,
       "version_minor": 0
      },
      "text/plain": [
       "Batches:   0%|          | 0/1563 [00:00<?, ?it/s]"
      ]
     },
     "metadata": {},
     "output_type": "display_data"
    },
    {
     "name": "stderr",
     "output_type": "stream",
     "text": [
      "Corpus Chunks:  48%|████▊     | 12/25 [04:34<04:55, 22.69s/it]"
     ]
    },
    {
     "data": {
      "application/vnd.jupyter.widget-view+json": {
       "model_id": "83b876490f2b43b6852b623b87b31b6c",
       "version_major": 2,
       "version_minor": 0
      },
      "text/plain": [
       "Batches:   0%|          | 0/1563 [00:00<?, ?it/s]"
      ]
     },
     "metadata": {},
     "output_type": "display_data"
    },
    {
     "name": "stderr",
     "output_type": "stream",
     "text": [
      "Corpus Chunks:  52%|█████▏    | 13/25 [04:56<04:30, 22.57s/it]"
     ]
    },
    {
     "data": {
      "application/vnd.jupyter.widget-view+json": {
       "model_id": "2d43de9d495f42ea8ce8ee774454b6a1",
       "version_major": 2,
       "version_minor": 0
      },
      "text/plain": [
       "Batches:   0%|          | 0/1563 [00:00<?, ?it/s]"
      ]
     },
     "metadata": {},
     "output_type": "display_data"
    },
    {
     "name": "stderr",
     "output_type": "stream",
     "text": [
      "Corpus Chunks:  56%|█████▌    | 14/25 [05:19<04:09, 22.66s/it]"
     ]
    },
    {
     "data": {
      "application/vnd.jupyter.widget-view+json": {
       "model_id": "e36e02d7c27c4c70ba3fd6b3550bea36",
       "version_major": 2,
       "version_minor": 0
      },
      "text/plain": [
       "Batches:   0%|          | 0/1563 [00:00<?, ?it/s]"
      ]
     },
     "metadata": {},
     "output_type": "display_data"
    },
    {
     "name": "stderr",
     "output_type": "stream",
     "text": [
      "Corpus Chunks:  60%|██████    | 15/25 [05:40<03:41, 22.15s/it]"
     ]
    },
    {
     "data": {
      "application/vnd.jupyter.widget-view+json": {
       "model_id": "d25cbcb43c8540c5a6af9bb7fcfc04b7",
       "version_major": 2,
       "version_minor": 0
      },
      "text/plain": [
       "Batches:   0%|          | 0/1563 [00:00<?, ?it/s]"
      ]
     },
     "metadata": {},
     "output_type": "display_data"
    },
    {
     "name": "stderr",
     "output_type": "stream",
     "text": [
      "Corpus Chunks:  64%|██████▍   | 16/25 [06:01<03:15, 21.75s/it]"
     ]
    },
    {
     "data": {
      "application/vnd.jupyter.widget-view+json": {
       "model_id": "40170ee5bd294867b8ce31f4529e0d71",
       "version_major": 2,
       "version_minor": 0
      },
      "text/plain": [
       "Batches:   0%|          | 0/1563 [00:00<?, ?it/s]"
      ]
     },
     "metadata": {},
     "output_type": "display_data"
    },
    {
     "name": "stderr",
     "output_type": "stream",
     "text": [
      "Corpus Chunks:  68%|██████▊   | 17/25 [06:22<02:52, 21.55s/it]"
     ]
    },
    {
     "data": {
      "application/vnd.jupyter.widget-view+json": {
       "model_id": "42ae8682d2a448a19bdd15400be205a3",
       "version_major": 2,
       "version_minor": 0
      },
      "text/plain": [
       "Batches:   0%|          | 0/1563 [00:00<?, ?it/s]"
      ]
     },
     "metadata": {},
     "output_type": "display_data"
    },
    {
     "name": "stderr",
     "output_type": "stream",
     "text": [
      "Corpus Chunks:  72%|███████▏  | 18/25 [06:42<02:29, 21.30s/it]"
     ]
    },
    {
     "data": {
      "application/vnd.jupyter.widget-view+json": {
       "model_id": "64e04f528072471b95414dce67520325",
       "version_major": 2,
       "version_minor": 0
      },
      "text/plain": [
       "Batches:   0%|          | 0/1563 [00:00<?, ?it/s]"
      ]
     },
     "metadata": {},
     "output_type": "display_data"
    },
    {
     "name": "stderr",
     "output_type": "stream",
     "text": [
      "Corpus Chunks:  76%|███████▌  | 19/25 [07:03<02:06, 21.12s/it]"
     ]
    },
    {
     "data": {
      "application/vnd.jupyter.widget-view+json": {
       "model_id": "fd9a361cfef84e79ad4c16defbb09b79",
       "version_major": 2,
       "version_minor": 0
      },
      "text/plain": [
       "Batches:   0%|          | 0/1563 [00:00<?, ?it/s]"
      ]
     },
     "metadata": {},
     "output_type": "display_data"
    },
    {
     "name": "stderr",
     "output_type": "stream",
     "text": [
      "Corpus Chunks:  80%|████████  | 20/25 [07:24<01:44, 20.96s/it]"
     ]
    },
    {
     "data": {
      "application/vnd.jupyter.widget-view+json": {
       "model_id": "be4f921535b248bcb6f388d393406cb0",
       "version_major": 2,
       "version_minor": 0
      },
      "text/plain": [
       "Batches:   0%|          | 0/1563 [00:00<?, ?it/s]"
      ]
     },
     "metadata": {},
     "output_type": "display_data"
    },
    {
     "name": "stderr",
     "output_type": "stream",
     "text": [
      "Corpus Chunks:  84%|████████▍ | 21/25 [07:44<01:23, 20.87s/it]"
     ]
    },
    {
     "data": {
      "application/vnd.jupyter.widget-view+json": {
       "model_id": "49b9ad28bfee469198c82b5ae7bde08c",
       "version_major": 2,
       "version_minor": 0
      },
      "text/plain": [
       "Batches:   0%|          | 0/1563 [00:00<?, ?it/s]"
      ]
     },
     "metadata": {},
     "output_type": "display_data"
    },
    {
     "name": "stderr",
     "output_type": "stream",
     "text": [
      "Corpus Chunks:  88%|████████▊ | 22/25 [08:05<01:02, 20.94s/it]"
     ]
    },
    {
     "data": {
      "application/vnd.jupyter.widget-view+json": {
       "model_id": "7112897b5abc4244a5f79a80ba303a01",
       "version_major": 2,
       "version_minor": 0
      },
      "text/plain": [
       "Batches:   0%|          | 0/1563 [00:00<?, ?it/s]"
      ]
     },
     "metadata": {},
     "output_type": "display_data"
    },
    {
     "name": "stderr",
     "output_type": "stream",
     "text": [
      "Corpus Chunks:  92%|█████████▏| 23/25 [08:26<00:41, 20.87s/it]"
     ]
    },
    {
     "data": {
      "application/vnd.jupyter.widget-view+json": {
       "model_id": "b290c1d2e87b48c493abdbd3ca8fc513",
       "version_major": 2,
       "version_minor": 0
      },
      "text/plain": [
       "Batches:   0%|          | 0/1563 [00:00<?, ?it/s]"
      ]
     },
     "metadata": {},
     "output_type": "display_data"
    },
    {
     "name": "stderr",
     "output_type": "stream",
     "text": [
      "Corpus Chunks:  96%|█████████▌| 24/25 [08:47<00:20, 20.89s/it]"
     ]
    },
    {
     "data": {
      "application/vnd.jupyter.widget-view+json": {
       "model_id": "8b55ee4d77754f1cb615dc92fcedba38",
       "version_major": 2,
       "version_minor": 0
      },
      "text/plain": [
       "Batches:   0%|          | 0/276 [00:00<?, ?it/s]"
      ]
     },
     "metadata": {},
     "output_type": "display_data"
    },
    {
     "name": "stderr",
     "output_type": "stream",
     "text": [
      "Corpus Chunks: 100%|██████████| 25/25 [08:51<00:00, 21.25s/it]\n"
     ]
    },
    {
     "data": {
      "application/vnd.jupyter.widget-view+json": {
       "model_id": "f7ecdb2f573f4d8d8877b70de8a07622",
       "version_major": 2,
       "version_minor": 0
      },
      "text/plain": [
       "Batches:   0%|          | 0/5 [00:00<?, ?it/s]"
      ]
     },
     "metadata": {},
     "output_type": "display_data"
    },
    {
     "name": "stderr",
     "output_type": "stream",
     "text": [
      "Corpus Chunks:   0%|          | 0/25 [00:00<?, ?it/s]"
     ]
    },
    {
     "data": {
      "application/vnd.jupyter.widget-view+json": {
       "model_id": "967e2fb4e1f74824b8ef885779bbe811",
       "version_major": 2,
       "version_minor": 0
      },
      "text/plain": [
       "Batches:   0%|          | 0/1563 [00:00<?, ?it/s]"
      ]
     },
     "metadata": {},
     "output_type": "display_data"
    },
    {
     "name": "stderr",
     "output_type": "stream",
     "text": [
      "Corpus Chunks:   4%|▍         | 1/25 [00:20<08:20, 20.87s/it]"
     ]
    },
    {
     "data": {
      "application/vnd.jupyter.widget-view+json": {
       "model_id": "606aee5a4c5a485d9e6f51902108b289",
       "version_major": 2,
       "version_minor": 0
      },
      "text/plain": [
       "Batches:   0%|          | 0/1563 [00:00<?, ?it/s]"
      ]
     },
     "metadata": {},
     "output_type": "display_data"
    },
    {
     "name": "stderr",
     "output_type": "stream",
     "text": [
      "Corpus Chunks:   8%|▊         | 2/25 [00:41<07:58, 20.81s/it]"
     ]
    },
    {
     "data": {
      "application/vnd.jupyter.widget-view+json": {
       "model_id": "6e8910c8ade340bcbf64b35996dd352d",
       "version_major": 2,
       "version_minor": 0
      },
      "text/plain": [
       "Batches:   0%|          | 0/1563 [00:00<?, ?it/s]"
      ]
     },
     "metadata": {},
     "output_type": "display_data"
    },
    {
     "name": "stderr",
     "output_type": "stream",
     "text": [
      "Corpus Chunks:  12%|█▏        | 3/25 [01:02<07:41, 20.96s/it]"
     ]
    },
    {
     "data": {
      "application/vnd.jupyter.widget-view+json": {
       "model_id": "4ea0ee15b7504ab2975dab2cc73bba86",
       "version_major": 2,
       "version_minor": 0
      },
      "text/plain": [
       "Batches:   0%|          | 0/1563 [00:00<?, ?it/s]"
      ]
     },
     "metadata": {},
     "output_type": "display_data"
    },
    {
     "name": "stderr",
     "output_type": "stream",
     "text": [
      "Corpus Chunks:  16%|█▌        | 4/25 [01:23<07:17, 20.85s/it]"
     ]
    },
    {
     "data": {
      "application/vnd.jupyter.widget-view+json": {
       "model_id": "f5bcdf25501b4126a05920913ba8f892",
       "version_major": 2,
       "version_minor": 0
      },
      "text/plain": [
       "Batches:   0%|          | 0/1563 [00:00<?, ?it/s]"
      ]
     },
     "metadata": {},
     "output_type": "display_data"
    },
    {
     "name": "stderr",
     "output_type": "stream",
     "text": [
      "Corpus Chunks:  20%|██        | 5/25 [01:44<06:57, 20.86s/it]"
     ]
    },
    {
     "data": {
      "application/vnd.jupyter.widget-view+json": {
       "model_id": "b8d5f36307e74d33a882d10a0dd56241",
       "version_major": 2,
       "version_minor": 0
      },
      "text/plain": [
       "Batches:   0%|          | 0/1563 [00:00<?, ?it/s]"
      ]
     },
     "metadata": {},
     "output_type": "display_data"
    },
    {
     "name": "stderr",
     "output_type": "stream",
     "text": [
      "Corpus Chunks:  24%|██▍       | 6/25 [02:05<06:36, 20.86s/it]"
     ]
    },
    {
     "data": {
      "application/vnd.jupyter.widget-view+json": {
       "model_id": "3b8f0b8168654451bbefd68249c55ae6",
       "version_major": 2,
       "version_minor": 0
      },
      "text/plain": [
       "Batches:   0%|          | 0/1563 [00:00<?, ?it/s]"
      ]
     },
     "metadata": {},
     "output_type": "display_data"
    },
    {
     "name": "stderr",
     "output_type": "stream",
     "text": [
      "Corpus Chunks:  28%|██▊       | 7/25 [02:26<06:15, 20.89s/it]"
     ]
    },
    {
     "data": {
      "application/vnd.jupyter.widget-view+json": {
       "model_id": "6d65fdc5ddb948889bebe73d5fa37960",
       "version_major": 2,
       "version_minor": 0
      },
      "text/plain": [
       "Batches:   0%|          | 0/1563 [00:00<?, ?it/s]"
      ]
     },
     "metadata": {},
     "output_type": "display_data"
    },
    {
     "name": "stderr",
     "output_type": "stream",
     "text": [
      "Corpus Chunks:  32%|███▏      | 8/25 [02:47<05:58, 21.08s/it]"
     ]
    },
    {
     "data": {
      "application/vnd.jupyter.widget-view+json": {
       "model_id": "baa0d850a2874f6e94dfb8850d451280",
       "version_major": 2,
       "version_minor": 0
      },
      "text/plain": [
       "Batches:   0%|          | 0/1563 [00:00<?, ?it/s]"
      ]
     },
     "metadata": {},
     "output_type": "display_data"
    },
    {
     "name": "stderr",
     "output_type": "stream",
     "text": [
      "Corpus Chunks:  36%|███▌      | 9/25 [03:08<05:35, 20.96s/it]"
     ]
    },
    {
     "data": {
      "application/vnd.jupyter.widget-view+json": {
       "model_id": "0d16dfead29f4ca0ba4141e7058aa93f",
       "version_major": 2,
       "version_minor": 0
      },
      "text/plain": [
       "Batches:   0%|          | 0/1563 [00:00<?, ?it/s]"
      ]
     },
     "metadata": {},
     "output_type": "display_data"
    },
    {
     "name": "stderr",
     "output_type": "stream",
     "text": [
      "Corpus Chunks:  40%|████      | 10/25 [03:29<05:13, 20.91s/it]"
     ]
    },
    {
     "data": {
      "application/vnd.jupyter.widget-view+json": {
       "model_id": "7413d3213fb544939c66cd9d60e551e4",
       "version_major": 2,
       "version_minor": 0
      },
      "text/plain": [
       "Batches:   0%|          | 0/1563 [00:00<?, ?it/s]"
      ]
     },
     "metadata": {},
     "output_type": "display_data"
    },
    {
     "name": "stderr",
     "output_type": "stream",
     "text": [
      "Corpus Chunks:  44%|████▍     | 11/25 [03:49<04:52, 20.87s/it]"
     ]
    },
    {
     "data": {
      "application/vnd.jupyter.widget-view+json": {
       "model_id": "9a5c524091c9419aae63a68b6038e1d3",
       "version_major": 2,
       "version_minor": 0
      },
      "text/plain": [
       "Batches:   0%|          | 0/1563 [00:00<?, ?it/s]"
      ]
     },
     "metadata": {},
     "output_type": "display_data"
    },
    {
     "name": "stderr",
     "output_type": "stream",
     "text": [
      "Corpus Chunks:  48%|████▊     | 12/25 [04:10<04:31, 20.89s/it]"
     ]
    },
    {
     "data": {
      "application/vnd.jupyter.widget-view+json": {
       "model_id": "13a59869b221440490e80e593e105147",
       "version_major": 2,
       "version_minor": 0
      },
      "text/plain": [
       "Batches:   0%|          | 0/1563 [00:00<?, ?it/s]"
      ]
     },
     "metadata": {},
     "output_type": "display_data"
    },
    {
     "name": "stderr",
     "output_type": "stream",
     "text": [
      "Corpus Chunks:  52%|█████▏    | 13/25 [04:31<04:10, 20.89s/it]"
     ]
    },
    {
     "data": {
      "application/vnd.jupyter.widget-view+json": {
       "model_id": "37f84d8f9fc24a7080b0ee118a0effa8",
       "version_major": 2,
       "version_minor": 0
      },
      "text/plain": [
       "Batches:   0%|          | 0/1563 [00:00<?, ?it/s]"
      ]
     },
     "metadata": {},
     "output_type": "display_data"
    },
    {
     "name": "stderr",
     "output_type": "stream",
     "text": [
      "Corpus Chunks:  56%|█████▌    | 14/25 [04:52<03:48, 20.77s/it]"
     ]
    },
    {
     "data": {
      "application/vnd.jupyter.widget-view+json": {
       "model_id": "e73462fc9a8242f5a317a0b6c04fd14b",
       "version_major": 2,
       "version_minor": 0
      },
      "text/plain": [
       "Batches:   0%|          | 0/1563 [00:00<?, ?it/s]"
      ]
     },
     "metadata": {},
     "output_type": "display_data"
    },
    {
     "name": "stderr",
     "output_type": "stream",
     "text": [
      "Corpus Chunks:  60%|██████    | 15/25 [05:12<03:26, 20.69s/it]"
     ]
    },
    {
     "data": {
      "application/vnd.jupyter.widget-view+json": {
       "model_id": "50a8e9b5463b4e279ef82e640cad7829",
       "version_major": 2,
       "version_minor": 0
      },
      "text/plain": [
       "Batches:   0%|          | 0/1563 [00:00<?, ?it/s]"
      ]
     },
     "metadata": {},
     "output_type": "display_data"
    },
    {
     "name": "stderr",
     "output_type": "stream",
     "text": [
      "Corpus Chunks:  64%|██████▍   | 16/25 [05:33<03:06, 20.69s/it]"
     ]
    },
    {
     "data": {
      "application/vnd.jupyter.widget-view+json": {
       "model_id": "8d3d909beae842a08747e0c261ba0db4",
       "version_major": 2,
       "version_minor": 0
      },
      "text/plain": [
       "Batches:   0%|          | 0/1563 [00:00<?, ?it/s]"
      ]
     },
     "metadata": {},
     "output_type": "display_data"
    },
    {
     "name": "stderr",
     "output_type": "stream",
     "text": [
      "Corpus Chunks:  68%|██████▊   | 17/25 [05:54<02:46, 20.78s/it]"
     ]
    },
    {
     "data": {
      "application/vnd.jupyter.widget-view+json": {
       "model_id": "cd732518ad624a1d98616734d6556469",
       "version_major": 2,
       "version_minor": 0
      },
      "text/plain": [
       "Batches:   0%|          | 0/1563 [00:00<?, ?it/s]"
      ]
     },
     "metadata": {},
     "output_type": "display_data"
    },
    {
     "name": "stderr",
     "output_type": "stream",
     "text": [
      "Corpus Chunks:  72%|███████▏  | 18/25 [06:14<02:24, 20.71s/it]"
     ]
    },
    {
     "data": {
      "application/vnd.jupyter.widget-view+json": {
       "model_id": "c093fdd3232f4980a5ea9b68e778a9ba",
       "version_major": 2,
       "version_minor": 0
      },
      "text/plain": [
       "Batches:   0%|          | 0/1563 [00:00<?, ?it/s]"
      ]
     },
     "metadata": {},
     "output_type": "display_data"
    },
    {
     "name": "stderr",
     "output_type": "stream",
     "text": [
      "Corpus Chunks:  76%|███████▌  | 19/25 [06:35<02:04, 20.68s/it]"
     ]
    },
    {
     "data": {
      "application/vnd.jupyter.widget-view+json": {
       "model_id": "75d50248c9df426791f662398354f5e1",
       "version_major": 2,
       "version_minor": 0
      },
      "text/plain": [
       "Batches:   0%|          | 0/1563 [00:00<?, ?it/s]"
      ]
     },
     "metadata": {},
     "output_type": "display_data"
    },
    {
     "name": "stderr",
     "output_type": "stream",
     "text": [
      "Corpus Chunks:  80%|████████  | 20/25 [06:56<01:43, 20.64s/it]"
     ]
    },
    {
     "data": {
      "application/vnd.jupyter.widget-view+json": {
       "model_id": "3f9fe025659449048e276d0547e42acf",
       "version_major": 2,
       "version_minor": 0
      },
      "text/plain": [
       "Batches:   0%|          | 0/1563 [00:00<?, ?it/s]"
      ]
     },
     "metadata": {},
     "output_type": "display_data"
    },
    {
     "name": "stderr",
     "output_type": "stream",
     "text": [
      "Corpus Chunks:  84%|████████▍ | 21/25 [07:16<01:22, 20.62s/it]"
     ]
    },
    {
     "data": {
      "application/vnd.jupyter.widget-view+json": {
       "model_id": "ac595bbc974e4294b229130266725c56",
       "version_major": 2,
       "version_minor": 0
      },
      "text/plain": [
       "Batches:   0%|          | 0/1563 [00:00<?, ?it/s]"
      ]
     },
     "metadata": {},
     "output_type": "display_data"
    },
    {
     "name": "stderr",
     "output_type": "stream",
     "text": [
      "Corpus Chunks:  88%|████████▊ | 22/25 [07:37<01:02, 20.72s/it]"
     ]
    },
    {
     "data": {
      "application/vnd.jupyter.widget-view+json": {
       "model_id": "e0ced645c64847b3975c8da540b86317",
       "version_major": 2,
       "version_minor": 0
      },
      "text/plain": [
       "Batches:   0%|          | 0/1563 [00:00<?, ?it/s]"
      ]
     },
     "metadata": {},
     "output_type": "display_data"
    },
    {
     "name": "stderr",
     "output_type": "stream",
     "text": [
      "Corpus Chunks:  92%|█████████▏| 23/25 [07:58<00:41, 20.68s/it]"
     ]
    },
    {
     "data": {
      "application/vnd.jupyter.widget-view+json": {
       "model_id": "7d700e41208b4482955b43d299336cfe",
       "version_major": 2,
       "version_minor": 0
      },
      "text/plain": [
       "Batches:   0%|          | 0/1563 [00:00<?, ?it/s]"
      ]
     },
     "metadata": {},
     "output_type": "display_data"
    },
    {
     "name": "stderr",
     "output_type": "stream",
     "text": [
      "Corpus Chunks:  96%|█████████▌| 24/25 [08:19<00:20, 20.75s/it]"
     ]
    },
    {
     "data": {
      "application/vnd.jupyter.widget-view+json": {
       "model_id": "961dda100c864a159d5ddf3f40e46bc9",
       "version_major": 2,
       "version_minor": 0
      },
      "text/plain": [
       "Batches:   0%|          | 0/276 [00:00<?, ?it/s]"
      ]
     },
     "metadata": {},
     "output_type": "display_data"
    },
    {
     "name": "stderr",
     "output_type": "stream",
     "text": [
      "Corpus Chunks: 100%|██████████| 25/25 [08:22<00:00, 20.12s/it]\n"
     ]
    },
    {
     "data": {
      "application/vnd.jupyter.widget-view+json": {
       "model_id": "55ca9da0dd7a4a0da6eb4cd46a0bfb82",
       "version_major": 2,
       "version_minor": 0
      },
      "text/plain": [
       "Batches:   0%|          | 0/5 [00:00<?, ?it/s]"
      ]
     },
     "metadata": {},
     "output_type": "display_data"
    },
    {
     "name": "stderr",
     "output_type": "stream",
     "text": [
      "Corpus Chunks:   0%|          | 0/25 [00:00<?, ?it/s]"
     ]
    },
    {
     "data": {
      "application/vnd.jupyter.widget-view+json": {
       "model_id": "be49be75c07c4fcfb6bba560c6eb8caa",
       "version_major": 2,
       "version_minor": 0
      },
      "text/plain": [
       "Batches:   0%|          | 0/1563 [00:00<?, ?it/s]"
      ]
     },
     "metadata": {},
     "output_type": "display_data"
    },
    {
     "name": "stderr",
     "output_type": "stream",
     "text": [
      "Corpus Chunks:   4%|▍         | 1/25 [00:21<08:32, 21.35s/it]"
     ]
    },
    {
     "data": {
      "application/vnd.jupyter.widget-view+json": {
       "model_id": "88852097ff96417d9c1e93092ec1c427",
       "version_major": 2,
       "version_minor": 0
      },
      "text/plain": [
       "Batches:   0%|          | 0/1563 [00:00<?, ?it/s]"
      ]
     },
     "metadata": {},
     "output_type": "display_data"
    },
    {
     "name": "stderr",
     "output_type": "stream",
     "text": [
      "Corpus Chunks:   8%|▊         | 2/25 [00:42<08:14, 21.50s/it]"
     ]
    },
    {
     "data": {
      "application/vnd.jupyter.widget-view+json": {
       "model_id": "fa61252dd9714c34aabe7f97e3d90034",
       "version_major": 2,
       "version_minor": 0
      },
      "text/plain": [
       "Batches:   0%|          | 0/1563 [00:00<?, ?it/s]"
      ]
     },
     "metadata": {},
     "output_type": "display_data"
    },
    {
     "name": "stderr",
     "output_type": "stream",
     "text": [
      "Corpus Chunks:  12%|█▏        | 3/25 [01:04<07:52, 21.50s/it]"
     ]
    },
    {
     "data": {
      "application/vnd.jupyter.widget-view+json": {
       "model_id": "dab391ec8663487d8c241436d70de681",
       "version_major": 2,
       "version_minor": 0
      },
      "text/plain": [
       "Batches:   0%|          | 0/1563 [00:00<?, ?it/s]"
      ]
     },
     "metadata": {},
     "output_type": "display_data"
    },
    {
     "name": "stderr",
     "output_type": "stream",
     "text": [
      "Corpus Chunks:  16%|█▌        | 4/25 [01:25<07:28, 21.37s/it]"
     ]
    },
    {
     "data": {
      "application/vnd.jupyter.widget-view+json": {
       "model_id": "4bae7a5103614d21b21fc22c399f32f6",
       "version_major": 2,
       "version_minor": 0
      },
      "text/plain": [
       "Batches:   0%|          | 0/1563 [00:00<?, ?it/s]"
      ]
     },
     "metadata": {},
     "output_type": "display_data"
    },
    {
     "name": "stderr",
     "output_type": "stream",
     "text": [
      "Corpus Chunks:  20%|██        | 5/25 [01:47<07:10, 21.51s/it]"
     ]
    },
    {
     "data": {
      "application/vnd.jupyter.widget-view+json": {
       "model_id": "5ce3fc23a6404cbba71ccd85bcbaac42",
       "version_major": 2,
       "version_minor": 0
      },
      "text/plain": [
       "Batches:   0%|          | 0/1563 [00:00<?, ?it/s]"
      ]
     },
     "metadata": {},
     "output_type": "display_data"
    },
    {
     "name": "stderr",
     "output_type": "stream",
     "text": [
      "Corpus Chunks:  24%|██▍       | 6/25 [02:08<06:46, 21.40s/it]"
     ]
    },
    {
     "data": {
      "application/vnd.jupyter.widget-view+json": {
       "model_id": "e3a3d4354eaf4ec9aaa394ae75a5315d",
       "version_major": 2,
       "version_minor": 0
      },
      "text/plain": [
       "Batches:   0%|          | 0/1563 [00:00<?, ?it/s]"
      ]
     },
     "metadata": {},
     "output_type": "display_data"
    },
    {
     "name": "stderr",
     "output_type": "stream",
     "text": [
      "Corpus Chunks:  28%|██▊       | 7/25 [02:29<06:24, 21.35s/it]"
     ]
    },
    {
     "data": {
      "application/vnd.jupyter.widget-view+json": {
       "model_id": "db688594e2474cccacbd1145bc2935cb",
       "version_major": 2,
       "version_minor": 0
      },
      "text/plain": [
       "Batches:   0%|          | 0/1563 [00:00<?, ?it/s]"
      ]
     },
     "metadata": {},
     "output_type": "display_data"
    },
    {
     "name": "stderr",
     "output_type": "stream",
     "text": [
      "Corpus Chunks:  32%|███▏      | 8/25 [02:50<06:01, 21.27s/it]"
     ]
    },
    {
     "data": {
      "application/vnd.jupyter.widget-view+json": {
       "model_id": "be3d7ab63ead4ace9f9dce5ce9d75aa6",
       "version_major": 2,
       "version_minor": 0
      },
      "text/plain": [
       "Batches:   0%|          | 0/1563 [00:00<?, ?it/s]"
      ]
     },
     "metadata": {},
     "output_type": "display_data"
    },
    {
     "name": "stderr",
     "output_type": "stream",
     "text": [
      "Corpus Chunks:  36%|███▌      | 9/25 [03:11<05:38, 21.16s/it]"
     ]
    },
    {
     "data": {
      "application/vnd.jupyter.widget-view+json": {
       "model_id": "87653259b9b54b699879fb5767d99168",
       "version_major": 2,
       "version_minor": 0
      },
      "text/plain": [
       "Batches:   0%|          | 0/1563 [00:00<?, ?it/s]"
      ]
     },
     "metadata": {},
     "output_type": "display_data"
    },
    {
     "name": "stderr",
     "output_type": "stream",
     "text": [
      "Corpus Chunks:  40%|████      | 10/25 [03:33<05:18, 21.23s/it]"
     ]
    },
    {
     "data": {
      "application/vnd.jupyter.widget-view+json": {
       "model_id": "322c6fd7007546ff8137f23ee5555c15",
       "version_major": 2,
       "version_minor": 0
      },
      "text/plain": [
       "Batches:   0%|          | 0/1563 [00:00<?, ?it/s]"
      ]
     },
     "metadata": {},
     "output_type": "display_data"
    },
    {
     "name": "stderr",
     "output_type": "stream",
     "text": [
      "Corpus Chunks:  44%|████▍     | 11/25 [03:54<04:55, 21.12s/it]"
     ]
    },
    {
     "data": {
      "application/vnd.jupyter.widget-view+json": {
       "model_id": "ef3f344fa08a43e086dc21655943e444",
       "version_major": 2,
       "version_minor": 0
      },
      "text/plain": [
       "Batches:   0%|          | 0/1563 [00:00<?, ?it/s]"
      ]
     },
     "metadata": {},
     "output_type": "display_data"
    },
    {
     "name": "stderr",
     "output_type": "stream",
     "text": [
      "Corpus Chunks:  48%|████▊     | 12/25 [04:15<04:34, 21.14s/it]"
     ]
    },
    {
     "data": {
      "application/vnd.jupyter.widget-view+json": {
       "model_id": "28b6ab1a0d3049fc9c0692930e9ed3db",
       "version_major": 2,
       "version_minor": 0
      },
      "text/plain": [
       "Batches:   0%|          | 0/1563 [00:00<?, ?it/s]"
      ]
     },
     "metadata": {},
     "output_type": "display_data"
    },
    {
     "name": "stderr",
     "output_type": "stream",
     "text": [
      "Corpus Chunks:  52%|█████▏    | 13/25 [04:36<04:14, 21.20s/it]"
     ]
    },
    {
     "data": {
      "application/vnd.jupyter.widget-view+json": {
       "model_id": "b8c35b7346144e9782642dee3aac2d3b",
       "version_major": 2,
       "version_minor": 0
      },
      "text/plain": [
       "Batches:   0%|          | 0/1563 [00:00<?, ?it/s]"
      ]
     },
     "metadata": {},
     "output_type": "display_data"
    },
    {
     "name": "stderr",
     "output_type": "stream",
     "text": [
      "Corpus Chunks:  56%|█████▌    | 14/25 [04:57<03:52, 21.10s/it]"
     ]
    },
    {
     "data": {
      "application/vnd.jupyter.widget-view+json": {
       "model_id": "a062a269b93449c796d088b43305ab69",
       "version_major": 2,
       "version_minor": 0
      },
      "text/plain": [
       "Batches:   0%|          | 0/1563 [00:00<?, ?it/s]"
      ]
     },
     "metadata": {},
     "output_type": "display_data"
    },
    {
     "name": "stderr",
     "output_type": "stream",
     "text": [
      "Corpus Chunks:  60%|██████    | 15/25 [05:18<03:30, 21.07s/it]"
     ]
    },
    {
     "data": {
      "application/vnd.jupyter.widget-view+json": {
       "model_id": "952a6d0d34074899b6f2dae23df5f505",
       "version_major": 2,
       "version_minor": 0
      },
      "text/plain": [
       "Batches:   0%|          | 0/1563 [00:00<?, ?it/s]"
      ]
     },
     "metadata": {},
     "output_type": "display_data"
    },
    {
     "name": "stderr",
     "output_type": "stream",
     "text": [
      "Corpus Chunks:  64%|██████▍   | 16/25 [05:39<03:09, 21.03s/it]"
     ]
    },
    {
     "data": {
      "application/vnd.jupyter.widget-view+json": {
       "model_id": "ef257a364b474b4a9cba775538891412",
       "version_major": 2,
       "version_minor": 0
      },
      "text/plain": [
       "Batches:   0%|          | 0/1563 [00:00<?, ?it/s]"
      ]
     },
     "metadata": {},
     "output_type": "display_data"
    },
    {
     "name": "stderr",
     "output_type": "stream",
     "text": [
      "Corpus Chunks:  68%|██████▊   | 17/25 [06:00<02:48, 21.12s/it]"
     ]
    },
    {
     "data": {
      "application/vnd.jupyter.widget-view+json": {
       "model_id": "c9e1ac08ddfd451f9de63469c71bca2a",
       "version_major": 2,
       "version_minor": 0
      },
      "text/plain": [
       "Batches:   0%|          | 0/1563 [00:00<?, ?it/s]"
      ]
     },
     "metadata": {},
     "output_type": "display_data"
    },
    {
     "name": "stderr",
     "output_type": "stream",
     "text": [
      "Corpus Chunks:  72%|███████▏  | 18/25 [06:21<02:27, 21.09s/it]"
     ]
    },
    {
     "data": {
      "application/vnd.jupyter.widget-view+json": {
       "model_id": "f02f6e8d57e143f79ae2ec9226fedb65",
       "version_major": 2,
       "version_minor": 0
      },
      "text/plain": [
       "Batches:   0%|          | 0/1563 [00:00<?, ?it/s]"
      ]
     },
     "metadata": {},
     "output_type": "display_data"
    },
    {
     "name": "stderr",
     "output_type": "stream",
     "text": [
      "Corpus Chunks:  76%|███████▌  | 19/25 [06:42<02:06, 21.00s/it]"
     ]
    },
    {
     "data": {
      "application/vnd.jupyter.widget-view+json": {
       "model_id": "69546976cb73406285296edc066769d3",
       "version_major": 2,
       "version_minor": 0
      },
      "text/plain": [
       "Batches:   0%|          | 0/1563 [00:00<?, ?it/s]"
      ]
     },
     "metadata": {},
     "output_type": "display_data"
    },
    {
     "name": "stderr",
     "output_type": "stream",
     "text": [
      "Corpus Chunks:  80%|████████  | 20/25 [07:03<01:44, 20.92s/it]"
     ]
    },
    {
     "data": {
      "application/vnd.jupyter.widget-view+json": {
       "model_id": "105af87f4bfe43f68f6b28ed128b23be",
       "version_major": 2,
       "version_minor": 0
      },
      "text/plain": [
       "Batches:   0%|          | 0/1563 [00:00<?, ?it/s]"
      ]
     },
     "metadata": {},
     "output_type": "display_data"
    },
    {
     "name": "stderr",
     "output_type": "stream",
     "text": [
      "Corpus Chunks:  84%|████████▍ | 21/25 [07:24<01:23, 20.96s/it]"
     ]
    },
    {
     "data": {
      "application/vnd.jupyter.widget-view+json": {
       "model_id": "565aeaff9e2145219154454e8d677d42",
       "version_major": 2,
       "version_minor": 0
      },
      "text/plain": [
       "Batches:   0%|          | 0/1563 [00:00<?, ?it/s]"
      ]
     },
     "metadata": {},
     "output_type": "display_data"
    },
    {
     "name": "stderr",
     "output_type": "stream",
     "text": [
      "Corpus Chunks:  88%|████████▊ | 22/25 [07:45<01:02, 21.00s/it]"
     ]
    },
    {
     "data": {
      "application/vnd.jupyter.widget-view+json": {
       "model_id": "855c586f9dac4e5bbc56ef91f9d4e721",
       "version_major": 2,
       "version_minor": 0
      },
      "text/plain": [
       "Batches:   0%|          | 0/1563 [00:00<?, ?it/s]"
      ]
     },
     "metadata": {},
     "output_type": "display_data"
    },
    {
     "name": "stderr",
     "output_type": "stream",
     "text": [
      "Corpus Chunks:  92%|█████████▏| 23/25 [08:06<00:41, 20.94s/it]"
     ]
    },
    {
     "data": {
      "application/vnd.jupyter.widget-view+json": {
       "model_id": "5a9cdc9a34aa4b46a9eabcfd347c6102",
       "version_major": 2,
       "version_minor": 0
      },
      "text/plain": [
       "Batches:   0%|          | 0/1563 [00:00<?, ?it/s]"
      ]
     },
     "metadata": {},
     "output_type": "display_data"
    },
    {
     "name": "stderr",
     "output_type": "stream",
     "text": [
      "Corpus Chunks:  96%|█████████▌| 24/25 [08:27<00:20, 20.98s/it]"
     ]
    },
    {
     "data": {
      "application/vnd.jupyter.widget-view+json": {
       "model_id": "c72f32033608407abe40aaafbcd444b5",
       "version_major": 2,
       "version_minor": 0
      },
      "text/plain": [
       "Batches:   0%|          | 0/276 [00:00<?, ?it/s]"
      ]
     },
     "metadata": {},
     "output_type": "display_data"
    },
    {
     "name": "stderr",
     "output_type": "stream",
     "text": [
      "Corpus Chunks: 100%|██████████| 25/25 [08:31<00:00, 20.45s/it]\n"
     ]
    },
    {
     "data": {
      "application/vnd.jupyter.widget-view+json": {
       "model_id": "1c4eaf73fc384f3396e4170ea41f5296",
       "version_major": 2,
       "version_minor": 0
      },
      "text/plain": [
       "Batches:   0%|          | 0/5 [00:00<?, ?it/s]"
      ]
     },
     "metadata": {},
     "output_type": "display_data"
    },
    {
     "name": "stderr",
     "output_type": "stream",
     "text": [
      "Corpus Chunks:   0%|          | 0/25 [00:00<?, ?it/s]"
     ]
    },
    {
     "data": {
      "application/vnd.jupyter.widget-view+json": {
       "model_id": "2ff21359c2f644e2851e80e93a7e705d",
       "version_major": 2,
       "version_minor": 0
      },
      "text/plain": [
       "Batches:   0%|          | 0/1563 [00:00<?, ?it/s]"
      ]
     },
     "metadata": {},
     "output_type": "display_data"
    },
    {
     "name": "stderr",
     "output_type": "stream",
     "text": [
      "Corpus Chunks:   4%|▍         | 1/25 [00:20<08:23, 20.98s/it]"
     ]
    },
    {
     "data": {
      "application/vnd.jupyter.widget-view+json": {
       "model_id": "10f8018c1fed4fa6866abed131e803ac",
       "version_major": 2,
       "version_minor": 0
      },
      "text/plain": [
       "Batches:   0%|          | 0/1563 [00:00<?, ?it/s]"
      ]
     },
     "metadata": {},
     "output_type": "display_data"
    },
    {
     "name": "stderr",
     "output_type": "stream",
     "text": [
      "Corpus Chunks:   8%|▊         | 2/25 [00:42<08:04, 21.06s/it]"
     ]
    },
    {
     "data": {
      "application/vnd.jupyter.widget-view+json": {
       "model_id": "b4dfbec8ac364550aa4f8bcd0edf037c",
       "version_major": 2,
       "version_minor": 0
      },
      "text/plain": [
       "Batches:   0%|          | 0/1563 [00:00<?, ?it/s]"
      ]
     },
     "metadata": {},
     "output_type": "display_data"
    },
    {
     "name": "stderr",
     "output_type": "stream",
     "text": [
      "Corpus Chunks:  12%|█▏        | 3/25 [01:03<07:42, 21.04s/it]"
     ]
    },
    {
     "data": {
      "application/vnd.jupyter.widget-view+json": {
       "model_id": "e6e7d47d0f8c4ec0af8ff41ab464fda4",
       "version_major": 2,
       "version_minor": 0
      },
      "text/plain": [
       "Batches:   0%|          | 0/1563 [00:00<?, ?it/s]"
      ]
     },
     "metadata": {},
     "output_type": "display_data"
    },
    {
     "name": "stderr",
     "output_type": "stream",
     "text": [
      "Corpus Chunks:  16%|█▌        | 4/25 [01:24<07:21, 21.00s/it]"
     ]
    },
    {
     "data": {
      "application/vnd.jupyter.widget-view+json": {
       "model_id": "041e0e382ee34388b6a6465bb369b23e",
       "version_major": 2,
       "version_minor": 0
      },
      "text/plain": [
       "Batches:   0%|          | 0/1563 [00:00<?, ?it/s]"
      ]
     },
     "metadata": {},
     "output_type": "display_data"
    },
    {
     "name": "stderr",
     "output_type": "stream",
     "text": [
      "Corpus Chunks:  20%|██        | 5/25 [01:45<07:00, 21.01s/it]"
     ]
    },
    {
     "data": {
      "application/vnd.jupyter.widget-view+json": {
       "model_id": "e9c7795ebfbd4f2db727b2e3d2fbbc34",
       "version_major": 2,
       "version_minor": 0
      },
      "text/plain": [
       "Batches:   0%|          | 0/1563 [00:00<?, ?it/s]"
      ]
     },
     "metadata": {},
     "output_type": "display_data"
    },
    {
     "name": "stderr",
     "output_type": "stream",
     "text": [
      "Corpus Chunks:  24%|██▍       | 6/25 [02:06<06:39, 21.04s/it]"
     ]
    },
    {
     "data": {
      "application/vnd.jupyter.widget-view+json": {
       "model_id": "70ac225cbfb046f9b68801c0fb8f1ac8",
       "version_major": 2,
       "version_minor": 0
      },
      "text/plain": [
       "Batches:   0%|          | 0/1563 [00:00<?, ?it/s]"
      ]
     },
     "metadata": {},
     "output_type": "display_data"
    },
    {
     "name": "stderr",
     "output_type": "stream",
     "text": [
      "Corpus Chunks:  28%|██▊       | 7/25 [02:27<06:19, 21.09s/it]"
     ]
    },
    {
     "data": {
      "application/vnd.jupyter.widget-view+json": {
       "model_id": "7545cf8f67644311a0a3f1b140aff155",
       "version_major": 2,
       "version_minor": 0
      },
      "text/plain": [
       "Batches:   0%|          | 0/1563 [00:00<?, ?it/s]"
      ]
     },
     "metadata": {},
     "output_type": "display_data"
    },
    {
     "name": "stderr",
     "output_type": "stream",
     "text": [
      "Corpus Chunks:  32%|███▏      | 8/25 [02:48<05:58, 21.12s/it]"
     ]
    },
    {
     "data": {
      "application/vnd.jupyter.widget-view+json": {
       "model_id": "d647faa3caa14d998cef97e383364911",
       "version_major": 2,
       "version_minor": 0
      },
      "text/plain": [
       "Batches:   0%|          | 0/1563 [00:00<?, ?it/s]"
      ]
     },
     "metadata": {},
     "output_type": "display_data"
    },
    {
     "name": "stderr",
     "output_type": "stream",
     "text": [
      "Corpus Chunks:  36%|███▌      | 9/25 [03:09<05:36, 21.02s/it]"
     ]
    },
    {
     "data": {
      "application/vnd.jupyter.widget-view+json": {
       "model_id": "f6d6a52b8fa94d2ea3d98b7c3b5bee95",
       "version_major": 2,
       "version_minor": 0
      },
      "text/plain": [
       "Batches:   0%|          | 0/1563 [00:00<?, ?it/s]"
      ]
     },
     "metadata": {},
     "output_type": "display_data"
    },
    {
     "name": "stderr",
     "output_type": "stream",
     "text": [
      "Corpus Chunks:  40%|████      | 10/25 [03:30<05:15, 21.04s/it]"
     ]
    },
    {
     "data": {
      "application/vnd.jupyter.widget-view+json": {
       "model_id": "a6ed1ee40b3f465485c2adde1398f32d",
       "version_major": 2,
       "version_minor": 0
      },
      "text/plain": [
       "Batches:   0%|          | 0/1563 [00:00<?, ?it/s]"
      ]
     },
     "metadata": {},
     "output_type": "display_data"
    },
    {
     "name": "stderr",
     "output_type": "stream",
     "text": [
      "Corpus Chunks:  44%|████▍     | 11/25 [03:51<04:53, 20.96s/it]"
     ]
    },
    {
     "data": {
      "application/vnd.jupyter.widget-view+json": {
       "model_id": "b0480a024b914dd681f0c82de443d124",
       "version_major": 2,
       "version_minor": 0
      },
      "text/plain": [
       "Batches:   0%|          | 0/1563 [00:00<?, ?it/s]"
      ]
     },
     "metadata": {},
     "output_type": "display_data"
    },
    {
     "name": "stderr",
     "output_type": "stream",
     "text": [
      "Corpus Chunks:  48%|████▊     | 12/25 [04:12<04:33, 21.02s/it]"
     ]
    },
    {
     "data": {
      "application/vnd.jupyter.widget-view+json": {
       "model_id": "a3be592e1c644821bdc8657a5299b832",
       "version_major": 2,
       "version_minor": 0
      },
      "text/plain": [
       "Batches:   0%|          | 0/1563 [00:00<?, ?it/s]"
      ]
     },
     "metadata": {},
     "output_type": "display_data"
    },
    {
     "name": "stderr",
     "output_type": "stream",
     "text": [
      "Corpus Chunks:  52%|█████▏    | 13/25 [04:33<04:12, 21.07s/it]"
     ]
    },
    {
     "data": {
      "application/vnd.jupyter.widget-view+json": {
       "model_id": "94fe13abc86f4ae7987f18f7a76b329e",
       "version_major": 2,
       "version_minor": 0
      },
      "text/plain": [
       "Batches:   0%|          | 0/1563 [00:00<?, ?it/s]"
      ]
     },
     "metadata": {},
     "output_type": "display_data"
    },
    {
     "name": "stderr",
     "output_type": "stream",
     "text": [
      "Corpus Chunks:  56%|█████▌    | 14/25 [04:54<03:50, 20.96s/it]"
     ]
    },
    {
     "data": {
      "application/vnd.jupyter.widget-view+json": {
       "model_id": "93107f62090f41b7b13a41abcb99c015",
       "version_major": 2,
       "version_minor": 0
      },
      "text/plain": [
       "Batches:   0%|          | 0/1563 [00:00<?, ?it/s]"
      ]
     },
     "metadata": {},
     "output_type": "display_data"
    },
    {
     "name": "stderr",
     "output_type": "stream",
     "text": [
      "Corpus Chunks:  60%|██████    | 15/25 [05:15<03:29, 20.97s/it]"
     ]
    },
    {
     "data": {
      "application/vnd.jupyter.widget-view+json": {
       "model_id": "e3cb076b46d6432183650e6258eb44c5",
       "version_major": 2,
       "version_minor": 0
      },
      "text/plain": [
       "Batches:   0%|          | 0/1563 [00:00<?, ?it/s]"
      ]
     },
     "metadata": {},
     "output_type": "display_data"
    },
    {
     "name": "stderr",
     "output_type": "stream",
     "text": [
      "Corpus Chunks:  64%|██████▍   | 16/25 [05:36<03:08, 20.91s/it]"
     ]
    },
    {
     "data": {
      "application/vnd.jupyter.widget-view+json": {
       "model_id": "801c2ea7ff464a2da729ef615342f30a",
       "version_major": 2,
       "version_minor": 0
      },
      "text/plain": [
       "Batches:   0%|          | 0/1563 [00:00<?, ?it/s]"
      ]
     },
     "metadata": {},
     "output_type": "display_data"
    },
    {
     "name": "stderr",
     "output_type": "stream",
     "text": [
      "Corpus Chunks:  68%|██████▊   | 17/25 [05:57<02:47, 20.98s/it]"
     ]
    },
    {
     "data": {
      "application/vnd.jupyter.widget-view+json": {
       "model_id": "dec5c903940e4e2c928e35f09cf34ab2",
       "version_major": 2,
       "version_minor": 0
      },
      "text/plain": [
       "Batches:   0%|          | 0/1563 [00:00<?, ?it/s]"
      ]
     },
     "metadata": {},
     "output_type": "display_data"
    },
    {
     "name": "stderr",
     "output_type": "stream",
     "text": [
      "Corpus Chunks:  72%|███████▏  | 18/25 [06:18<02:26, 20.98s/it]"
     ]
    },
    {
     "data": {
      "application/vnd.jupyter.widget-view+json": {
       "model_id": "666a36f166254b2f9fffc62fd4fbf307",
       "version_major": 2,
       "version_minor": 0
      },
      "text/plain": [
       "Batches:   0%|          | 0/1563 [00:00<?, ?it/s]"
      ]
     },
     "metadata": {},
     "output_type": "display_data"
    },
    {
     "name": "stderr",
     "output_type": "stream",
     "text": [
      "Corpus Chunks:  76%|███████▌  | 19/25 [06:38<02:05, 20.90s/it]"
     ]
    },
    {
     "data": {
      "application/vnd.jupyter.widget-view+json": {
       "model_id": "e610389e41ee46b29e6256b9ea3f6192",
       "version_major": 2,
       "version_minor": 0
      },
      "text/plain": [
       "Batches:   0%|          | 0/1563 [00:00<?, ?it/s]"
      ]
     },
     "metadata": {},
     "output_type": "display_data"
    },
    {
     "name": "stderr",
     "output_type": "stream",
     "text": [
      "Corpus Chunks:  80%|████████  | 20/25 [06:59<01:44, 20.87s/it]"
     ]
    },
    {
     "data": {
      "application/vnd.jupyter.widget-view+json": {
       "model_id": "fff3ef4dc09a480f8c6e2f5e1aacaca9",
       "version_major": 2,
       "version_minor": 0
      },
      "text/plain": [
       "Batches:   0%|          | 0/1563 [00:00<?, ?it/s]"
      ]
     },
     "metadata": {},
     "output_type": "display_data"
    },
    {
     "name": "stderr",
     "output_type": "stream",
     "text": [
      "Corpus Chunks:  84%|████████▍ | 21/25 [07:20<01:23, 20.89s/it]"
     ]
    },
    {
     "data": {
      "application/vnd.jupyter.widget-view+json": {
       "model_id": "14be770c9d3b468da9af46ad0b38d582",
       "version_major": 2,
       "version_minor": 0
      },
      "text/plain": [
       "Batches:   0%|          | 0/1563 [00:00<?, ?it/s]"
      ]
     },
     "metadata": {},
     "output_type": "display_data"
    },
    {
     "name": "stderr",
     "output_type": "stream",
     "text": [
      "Corpus Chunks:  88%|████████▊ | 22/25 [07:41<01:02, 20.92s/it]"
     ]
    },
    {
     "data": {
      "application/vnd.jupyter.widget-view+json": {
       "model_id": "457f0aa4e5944d2695e85bd7c595e318",
       "version_major": 2,
       "version_minor": 0
      },
      "text/plain": [
       "Batches:   0%|          | 0/1563 [00:00<?, ?it/s]"
      ]
     },
     "metadata": {},
     "output_type": "display_data"
    },
    {
     "name": "stderr",
     "output_type": "stream",
     "text": [
      "Corpus Chunks:  92%|█████████▏| 23/25 [08:02<00:41, 20.93s/it]"
     ]
    },
    {
     "data": {
      "application/vnd.jupyter.widget-view+json": {
       "model_id": "1ccde796145744649479c31bd3c651e1",
       "version_major": 2,
       "version_minor": 0
      },
      "text/plain": [
       "Batches:   0%|          | 0/1563 [00:00<?, ?it/s]"
      ]
     },
     "metadata": {},
     "output_type": "display_data"
    },
    {
     "name": "stderr",
     "output_type": "stream",
     "text": [
      "Corpus Chunks:  96%|█████████▌| 24/25 [08:23<00:21, 21.06s/it]"
     ]
    },
    {
     "data": {
      "application/vnd.jupyter.widget-view+json": {
       "model_id": "79ff6b48dacf4db3bfc03ab1492aea4c",
       "version_major": 2,
       "version_minor": 0
      },
      "text/plain": [
       "Batches:   0%|          | 0/276 [00:00<?, ?it/s]"
      ]
     },
     "metadata": {},
     "output_type": "display_data"
    },
    {
     "name": "stderr",
     "output_type": "stream",
     "text": [
      "Corpus Chunks: 100%|██████████| 25/25 [08:27<00:00, 20.32s/it]\n"
     ]
    },
    {
     "data": {
      "application/vnd.jupyter.widget-view+json": {
       "model_id": "54f59db5e80440f384a5120687c7d7d2",
       "version_major": 2,
       "version_minor": 0
      },
      "text/plain": [
       "Batches:   0%|          | 0/5 [00:00<?, ?it/s]"
      ]
     },
     "metadata": {},
     "output_type": "display_data"
    },
    {
     "name": "stderr",
     "output_type": "stream",
     "text": [
      "Corpus Chunks:   0%|          | 0/25 [00:00<?, ?it/s]"
     ]
    },
    {
     "data": {
      "application/vnd.jupyter.widget-view+json": {
       "model_id": "061311e658864cb9bae2942cf915237c",
       "version_major": 2,
       "version_minor": 0
      },
      "text/plain": [
       "Batches:   0%|          | 0/1563 [00:00<?, ?it/s]"
      ]
     },
     "metadata": {},
     "output_type": "display_data"
    },
    {
     "name": "stderr",
     "output_type": "stream",
     "text": [
      "Corpus Chunks:   4%|▍         | 1/25 [00:21<08:25, 21.07s/it]"
     ]
    },
    {
     "data": {
      "application/vnd.jupyter.widget-view+json": {
       "model_id": "7fd14c56106e42038089d695256c30d0",
       "version_major": 2,
       "version_minor": 0
      },
      "text/plain": [
       "Batches:   0%|          | 0/1563 [00:00<?, ?it/s]"
      ]
     },
     "metadata": {},
     "output_type": "display_data"
    },
    {
     "name": "stderr",
     "output_type": "stream",
     "text": [
      "Corpus Chunks:   8%|▊         | 2/25 [00:42<08:06, 21.16s/it]"
     ]
    },
    {
     "data": {
      "application/vnd.jupyter.widget-view+json": {
       "model_id": "c2a3ee5696964bb69352e9888959e22e",
       "version_major": 2,
       "version_minor": 0
      },
      "text/plain": [
       "Batches:   0%|          | 0/1563 [00:00<?, ?it/s]"
      ]
     },
     "metadata": {},
     "output_type": "display_data"
    },
    {
     "name": "stderr",
     "output_type": "stream",
     "text": [
      "Corpus Chunks:  12%|█▏        | 3/25 [01:03<07:45, 21.14s/it]"
     ]
    },
    {
     "data": {
      "application/vnd.jupyter.widget-view+json": {
       "model_id": "0d80520ed96d445a9175b7c4b5b9c9c2",
       "version_major": 2,
       "version_minor": 0
      },
      "text/plain": [
       "Batches:   0%|          | 0/1563 [00:00<?, ?it/s]"
      ]
     },
     "metadata": {},
     "output_type": "display_data"
    },
    {
     "name": "stderr",
     "output_type": "stream",
     "text": [
      "Corpus Chunks:  16%|█▌        | 4/25 [01:24<07:21, 21.03s/it]"
     ]
    },
    {
     "data": {
      "application/vnd.jupyter.widget-view+json": {
       "model_id": "756fd7b513694693bbb05912527527fd",
       "version_major": 2,
       "version_minor": 0
      },
      "text/plain": [
       "Batches:   0%|          | 0/1563 [00:00<?, ?it/s]"
      ]
     },
     "metadata": {},
     "output_type": "display_data"
    },
    {
     "name": "stderr",
     "output_type": "stream",
     "text": [
      "Corpus Chunks:  20%|██        | 5/25 [01:45<07:01, 21.06s/it]"
     ]
    },
    {
     "data": {
      "application/vnd.jupyter.widget-view+json": {
       "model_id": "c48e6ca5e5a14ce18c604313c1a072e5",
       "version_major": 2,
       "version_minor": 0
      },
      "text/plain": [
       "Batches:   0%|          | 0/1563 [00:00<?, ?it/s]"
      ]
     },
     "metadata": {},
     "output_type": "display_data"
    },
    {
     "name": "stderr",
     "output_type": "stream",
     "text": [
      "Corpus Chunks:  24%|██▍       | 6/25 [02:06<06:40, 21.06s/it]"
     ]
    },
    {
     "data": {
      "application/vnd.jupyter.widget-view+json": {
       "model_id": "35d6a078345b4e14a018b42e1cbb74e7",
       "version_major": 2,
       "version_minor": 0
      },
      "text/plain": [
       "Batches:   0%|          | 0/1563 [00:00<?, ?it/s]"
      ]
     },
     "metadata": {},
     "output_type": "display_data"
    },
    {
     "name": "stderr",
     "output_type": "stream",
     "text": [
      "Corpus Chunks:  28%|██▊       | 7/25 [02:27<06:19, 21.06s/it]"
     ]
    },
    {
     "data": {
      "application/vnd.jupyter.widget-view+json": {
       "model_id": "3421c401f4694a17a8488486d0238bf3",
       "version_major": 2,
       "version_minor": 0
      },
      "text/plain": [
       "Batches:   0%|          | 0/1563 [00:00<?, ?it/s]"
      ]
     },
     "metadata": {},
     "output_type": "display_data"
    },
    {
     "name": "stderr",
     "output_type": "stream",
     "text": [
      "Corpus Chunks:  32%|███▏      | 8/25 [02:48<05:58, 21.07s/it]"
     ]
    },
    {
     "data": {
      "application/vnd.jupyter.widget-view+json": {
       "model_id": "eeceba2ed91442e89f041cb3475b74f3",
       "version_major": 2,
       "version_minor": 0
      },
      "text/plain": [
       "Batches:   0%|          | 0/1563 [00:00<?, ?it/s]"
      ]
     },
     "metadata": {},
     "output_type": "display_data"
    },
    {
     "name": "stderr",
     "output_type": "stream",
     "text": [
      "Corpus Chunks:  36%|███▌      | 9/25 [03:09<05:36, 21.03s/it]"
     ]
    },
    {
     "data": {
      "application/vnd.jupyter.widget-view+json": {
       "model_id": "9380f219eeb34afdad181c54f2a7f1b4",
       "version_major": 2,
       "version_minor": 0
      },
      "text/plain": [
       "Batches:   0%|          | 0/1563 [00:00<?, ?it/s]"
      ]
     },
     "metadata": {},
     "output_type": "display_data"
    },
    {
     "name": "stderr",
     "output_type": "stream",
     "text": [
      "Corpus Chunks:  40%|████      | 10/25 [03:30<05:15, 21.05s/it]"
     ]
    },
    {
     "data": {
      "application/vnd.jupyter.widget-view+json": {
       "model_id": "d0b50395d777483eba0d50f1327d5086",
       "version_major": 2,
       "version_minor": 0
      },
      "text/plain": [
       "Batches:   0%|          | 0/1563 [00:00<?, ?it/s]"
      ]
     },
     "metadata": {},
     "output_type": "display_data"
    },
    {
     "name": "stderr",
     "output_type": "stream",
     "text": [
      "Corpus Chunks:  44%|████▍     | 11/25 [03:51<04:54, 21.01s/it]"
     ]
    },
    {
     "data": {
      "application/vnd.jupyter.widget-view+json": {
       "model_id": "7aea7c5ba3c34fb991877ee45d278c5a",
       "version_major": 2,
       "version_minor": 0
      },
      "text/plain": [
       "Batches:   0%|          | 0/1563 [00:00<?, ?it/s]"
      ]
     },
     "metadata": {},
     "output_type": "display_data"
    },
    {
     "name": "stderr",
     "output_type": "stream",
     "text": [
      "Corpus Chunks:  48%|████▊     | 12/25 [04:12<04:34, 21.08s/it]"
     ]
    },
    {
     "data": {
      "application/vnd.jupyter.widget-view+json": {
       "model_id": "58fe7507d60846e4a49a1a1a6d0a400b",
       "version_major": 2,
       "version_minor": 0
      },
      "text/plain": [
       "Batches:   0%|          | 0/1563 [00:00<?, ?it/s]"
      ]
     },
     "metadata": {},
     "output_type": "display_data"
    },
    {
     "name": "stderr",
     "output_type": "stream",
     "text": [
      "Corpus Chunks:  52%|█████▏    | 13/25 [04:34<04:13, 21.13s/it]"
     ]
    },
    {
     "data": {
      "application/vnd.jupyter.widget-view+json": {
       "model_id": "b4c0d0fb3cb5440081a4bb9a130beedf",
       "version_major": 2,
       "version_minor": 0
      },
      "text/plain": [
       "Batches:   0%|          | 0/1563 [00:00<?, ?it/s]"
      ]
     },
     "metadata": {},
     "output_type": "display_data"
    },
    {
     "name": "stderr",
     "output_type": "stream",
     "text": [
      "Corpus Chunks:  56%|█████▌    | 14/25 [04:54<03:51, 21.07s/it]"
     ]
    },
    {
     "data": {
      "application/vnd.jupyter.widget-view+json": {
       "model_id": "cdc7fcabc2534607b2a752e85c110dbb",
       "version_major": 2,
       "version_minor": 0
      },
      "text/plain": [
       "Batches:   0%|          | 0/1563 [00:00<?, ?it/s]"
      ]
     },
     "metadata": {},
     "output_type": "display_data"
    },
    {
     "name": "stderr",
     "output_type": "stream",
     "text": [
      "Corpus Chunks:  60%|██████    | 15/25 [05:15<03:30, 21.02s/it]"
     ]
    },
    {
     "data": {
      "application/vnd.jupyter.widget-view+json": {
       "model_id": "ed73b79f60a24ffd9c1745fd948160c0",
       "version_major": 2,
       "version_minor": 0
      },
      "text/plain": [
       "Batches:   0%|          | 0/1563 [00:00<?, ?it/s]"
      ]
     },
     "metadata": {},
     "output_type": "display_data"
    },
    {
     "name": "stderr",
     "output_type": "stream",
     "text": [
      "Corpus Chunks:  64%|██████▍   | 16/25 [05:36<03:08, 20.94s/it]"
     ]
    },
    {
     "data": {
      "application/vnd.jupyter.widget-view+json": {
       "model_id": "ec5c871b6f0642c18e47068e4d87dd9e",
       "version_major": 2,
       "version_minor": 0
      },
      "text/plain": [
       "Batches:   0%|          | 0/1563 [00:00<?, ?it/s]"
      ]
     },
     "metadata": {},
     "output_type": "display_data"
    },
    {
     "name": "stderr",
     "output_type": "stream",
     "text": [
      "Corpus Chunks:  68%|██████▊   | 17/25 [05:57<02:47, 20.99s/it]"
     ]
    },
    {
     "data": {
      "application/vnd.jupyter.widget-view+json": {
       "model_id": "56cbc43a4d7b440ebac4f70f2b5b885b",
       "version_major": 2,
       "version_minor": 0
      },
      "text/plain": [
       "Batches:   0%|          | 0/1563 [00:00<?, ?it/s]"
      ]
     },
     "metadata": {},
     "output_type": "display_data"
    },
    {
     "name": "stderr",
     "output_type": "stream",
     "text": [
      "Corpus Chunks:  72%|███████▏  | 18/25 [06:18<02:26, 20.98s/it]"
     ]
    },
    {
     "data": {
      "application/vnd.jupyter.widget-view+json": {
       "model_id": "1b03a9ffab754115bc00bbf37eca43e5",
       "version_major": 2,
       "version_minor": 0
      },
      "text/plain": [
       "Batches:   0%|          | 0/1563 [00:00<?, ?it/s]"
      ]
     },
     "metadata": {},
     "output_type": "display_data"
    },
    {
     "name": "stderr",
     "output_type": "stream",
     "text": [
      "Corpus Chunks:  76%|███████▌  | 19/25 [06:39<02:05, 20.91s/it]"
     ]
    },
    {
     "data": {
      "application/vnd.jupyter.widget-view+json": {
       "model_id": "73782eb4208746dfa753303088770b37",
       "version_major": 2,
       "version_minor": 0
      },
      "text/plain": [
       "Batches:   0%|          | 0/1563 [00:00<?, ?it/s]"
      ]
     },
     "metadata": {},
     "output_type": "display_data"
    },
    {
     "name": "stderr",
     "output_type": "stream",
     "text": [
      "Corpus Chunks:  80%|████████  | 20/25 [07:00<01:44, 20.85s/it]"
     ]
    },
    {
     "data": {
      "application/vnd.jupyter.widget-view+json": {
       "model_id": "25cda9472e784b20924e40f5cda970b9",
       "version_major": 2,
       "version_minor": 0
      },
      "text/plain": [
       "Batches:   0%|          | 0/1563 [00:00<?, ?it/s]"
      ]
     },
     "metadata": {},
     "output_type": "display_data"
    },
    {
     "name": "stderr",
     "output_type": "stream",
     "text": [
      "Corpus Chunks:  84%|████████▍ | 21/25 [07:20<01:23, 20.85s/it]"
     ]
    },
    {
     "data": {
      "application/vnd.jupyter.widget-view+json": {
       "model_id": "51f57d9454054b219dadf18fa1724f85",
       "version_major": 2,
       "version_minor": 0
      },
      "text/plain": [
       "Batches:   0%|          | 0/1563 [00:00<?, ?it/s]"
      ]
     },
     "metadata": {},
     "output_type": "display_data"
    },
    {
     "name": "stderr",
     "output_type": "stream",
     "text": [
      "Corpus Chunks:  88%|████████▊ | 22/25 [07:41<01:02, 20.88s/it]"
     ]
    },
    {
     "data": {
      "application/vnd.jupyter.widget-view+json": {
       "model_id": "c8d4ae35bf084fbdb5d4c4e66cc2a5d0",
       "version_major": 2,
       "version_minor": 0
      },
      "text/plain": [
       "Batches:   0%|          | 0/1563 [00:00<?, ?it/s]"
      ]
     },
     "metadata": {},
     "output_type": "display_data"
    },
    {
     "name": "stderr",
     "output_type": "stream",
     "text": [
      "Corpus Chunks:  92%|█████████▏| 23/25 [08:02<00:41, 20.86s/it]"
     ]
    },
    {
     "data": {
      "application/vnd.jupyter.widget-view+json": {
       "model_id": "fb0d88cce7d04fcc91e70b247faef859",
       "version_major": 2,
       "version_minor": 0
      },
      "text/plain": [
       "Batches:   0%|          | 0/1563 [00:00<?, ?it/s]"
      ]
     },
     "metadata": {},
     "output_type": "display_data"
    },
    {
     "name": "stderr",
     "output_type": "stream",
     "text": [
      "Corpus Chunks:  96%|█████████▌| 24/25 [08:23<00:20, 20.92s/it]"
     ]
    },
    {
     "data": {
      "application/vnd.jupyter.widget-view+json": {
       "model_id": "0ef56386eb3f434f93e564d4ea9e7500",
       "version_major": 2,
       "version_minor": 0
      },
      "text/plain": [
       "Batches:   0%|          | 0/276 [00:00<?, ?it/s]"
      ]
     },
     "metadata": {},
     "output_type": "display_data"
    },
    {
     "name": "stderr",
     "output_type": "stream",
     "text": [
      "Corpus Chunks: 100%|██████████| 25/25 [08:27<00:00, 20.31s/it]\n"
     ]
    },
    {
     "data": {
      "application/vnd.jupyter.widget-view+json": {
       "model_id": "9e25872a49a84f34a776a781766b703f",
       "version_major": 2,
       "version_minor": 0
      },
      "text/plain": [
       "Batches:   0%|          | 0/5 [00:00<?, ?it/s]"
      ]
     },
     "metadata": {},
     "output_type": "display_data"
    },
    {
     "name": "stderr",
     "output_type": "stream",
     "text": [
      "Corpus Chunks:   0%|          | 0/25 [00:00<?, ?it/s]"
     ]
    },
    {
     "data": {
      "application/vnd.jupyter.widget-view+json": {
       "model_id": "293bfa82fe62474fbf582ca86486ce3e",
       "version_major": 2,
       "version_minor": 0
      },
      "text/plain": [
       "Batches:   0%|          | 0/1563 [00:00<?, ?it/s]"
      ]
     },
     "metadata": {},
     "output_type": "display_data"
    },
    {
     "name": "stderr",
     "output_type": "stream",
     "text": [
      "Corpus Chunks:   4%|▍         | 1/25 [00:21<08:26, 21.10s/it]"
     ]
    },
    {
     "data": {
      "application/vnd.jupyter.widget-view+json": {
       "model_id": "d9ea865413b84799889bf598088107d0",
       "version_major": 2,
       "version_minor": 0
      },
      "text/plain": [
       "Batches:   0%|          | 0/1563 [00:00<?, ?it/s]"
      ]
     },
     "metadata": {},
     "output_type": "display_data"
    },
    {
     "name": "stderr",
     "output_type": "stream",
     "text": [
      "Corpus Chunks:   8%|▊         | 2/25 [00:42<08:05, 21.09s/it]"
     ]
    },
    {
     "data": {
      "application/vnd.jupyter.widget-view+json": {
       "model_id": "92ccb99930fd4149a07e6529cea07811",
       "version_major": 2,
       "version_minor": 0
      },
      "text/plain": [
       "Batches:   0%|          | 0/1563 [00:00<?, ?it/s]"
      ]
     },
     "metadata": {},
     "output_type": "display_data"
    },
    {
     "name": "stderr",
     "output_type": "stream",
     "text": [
      "Corpus Chunks:  12%|█▏        | 3/25 [01:03<07:43, 21.05s/it]"
     ]
    },
    {
     "data": {
      "application/vnd.jupyter.widget-view+json": {
       "model_id": "22f6718f30ce412e88c34b744d36e15b",
       "version_major": 2,
       "version_minor": 0
      },
      "text/plain": [
       "Batches:   0%|          | 0/1563 [00:00<?, ?it/s]"
      ]
     },
     "metadata": {},
     "output_type": "display_data"
    },
    {
     "name": "stderr",
     "output_type": "stream",
     "text": [
      "Corpus Chunks:  16%|█▌        | 4/25 [01:24<07:20, 20.98s/it]"
     ]
    },
    {
     "data": {
      "application/vnd.jupyter.widget-view+json": {
       "model_id": "51234f548027419dbb4412316bce4cb9",
       "version_major": 2,
       "version_minor": 0
      },
      "text/plain": [
       "Batches:   0%|          | 0/1563 [00:00<?, ?it/s]"
      ]
     },
     "metadata": {},
     "output_type": "display_data"
    },
    {
     "name": "stderr",
     "output_type": "stream",
     "text": [
      "Corpus Chunks:  20%|██        | 5/25 [01:45<06:59, 20.99s/it]"
     ]
    },
    {
     "data": {
      "application/vnd.jupyter.widget-view+json": {
       "model_id": "6f5cd8a17341451f8218767539bc32e5",
       "version_major": 2,
       "version_minor": 0
      },
      "text/plain": [
       "Batches:   0%|          | 0/1563 [00:00<?, ?it/s]"
      ]
     },
     "metadata": {},
     "output_type": "display_data"
    },
    {
     "name": "stderr",
     "output_type": "stream",
     "text": [
      "Corpus Chunks:  24%|██▍       | 6/25 [02:06<06:38, 20.99s/it]"
     ]
    },
    {
     "data": {
      "application/vnd.jupyter.widget-view+json": {
       "model_id": "e3725bf7e5694835bd468a054d9e00c9",
       "version_major": 2,
       "version_minor": 0
      },
      "text/plain": [
       "Batches:   0%|          | 0/1563 [00:00<?, ?it/s]"
      ]
     },
     "metadata": {},
     "output_type": "display_data"
    },
    {
     "name": "stderr",
     "output_type": "stream",
     "text": [
      "Corpus Chunks:  28%|██▊       | 7/25 [02:27<06:17, 20.99s/it]"
     ]
    },
    {
     "data": {
      "application/vnd.jupyter.widget-view+json": {
       "model_id": "1045f06f1ee942d78f784432f840cef1",
       "version_major": 2,
       "version_minor": 0
      },
      "text/plain": [
       "Batches:   0%|          | 0/1563 [00:00<?, ?it/s]"
      ]
     },
     "metadata": {},
     "output_type": "display_data"
    },
    {
     "name": "stderr",
     "output_type": "stream",
     "text": [
      "Corpus Chunks:  32%|███▏      | 8/25 [02:48<05:56, 20.98s/it]"
     ]
    },
    {
     "data": {
      "application/vnd.jupyter.widget-view+json": {
       "model_id": "616ebe50d80d47dab38b92b8f764bbfc",
       "version_major": 2,
       "version_minor": 0
      },
      "text/plain": [
       "Batches:   0%|          | 0/1563 [00:00<?, ?it/s]"
      ]
     },
     "metadata": {},
     "output_type": "display_data"
    },
    {
     "name": "stderr",
     "output_type": "stream",
     "text": [
      "Corpus Chunks:  36%|███▌      | 9/25 [03:08<05:34, 20.90s/it]"
     ]
    },
    {
     "data": {
      "application/vnd.jupyter.widget-view+json": {
       "model_id": "832714151c4241e490e316c0703dd99d",
       "version_major": 2,
       "version_minor": 0
      },
      "text/plain": [
       "Batches:   0%|          | 0/1563 [00:00<?, ?it/s]"
      ]
     },
     "metadata": {},
     "output_type": "display_data"
    },
    {
     "name": "stderr",
     "output_type": "stream",
     "text": [
      "Corpus Chunks:  40%|████      | 10/25 [03:29<05:14, 20.99s/it]"
     ]
    },
    {
     "data": {
      "application/vnd.jupyter.widget-view+json": {
       "model_id": "597255c0a41942be99b2393205633c03",
       "version_major": 2,
       "version_minor": 0
      },
      "text/plain": [
       "Batches:   0%|          | 0/1563 [00:00<?, ?it/s]"
      ]
     },
     "metadata": {},
     "output_type": "display_data"
    },
    {
     "name": "stderr",
     "output_type": "stream",
     "text": [
      "Corpus Chunks:  44%|████▍     | 11/25 [03:50<04:53, 20.95s/it]"
     ]
    },
    {
     "data": {
      "application/vnd.jupyter.widget-view+json": {
       "model_id": "eaf07561ca0c472ba23c2131898ff11e",
       "version_major": 2,
       "version_minor": 0
      },
      "text/plain": [
       "Batches:   0%|          | 0/1563 [00:00<?, ?it/s]"
      ]
     },
     "metadata": {},
     "output_type": "display_data"
    },
    {
     "name": "stderr",
     "output_type": "stream",
     "text": [
      "Corpus Chunks:  48%|████▊     | 12/25 [04:11<04:32, 20.99s/it]"
     ]
    },
    {
     "data": {
      "application/vnd.jupyter.widget-view+json": {
       "model_id": "c7a29ab7de874ed98ba431a3a5845215",
       "version_major": 2,
       "version_minor": 0
      },
      "text/plain": [
       "Batches:   0%|          | 0/1563 [00:00<?, ?it/s]"
      ]
     },
     "metadata": {},
     "output_type": "display_data"
    },
    {
     "name": "stderr",
     "output_type": "stream",
     "text": [
      "Corpus Chunks:  52%|█████▏    | 13/25 [04:33<04:12, 21.06s/it]"
     ]
    },
    {
     "data": {
      "application/vnd.jupyter.widget-view+json": {
       "model_id": "1abc14a1eb8f4f828c659923b5110975",
       "version_major": 2,
       "version_minor": 0
      },
      "text/plain": [
       "Batches:   0%|          | 0/1563 [00:00<?, ?it/s]"
      ]
     },
     "metadata": {},
     "output_type": "display_data"
    },
    {
     "name": "stderr",
     "output_type": "stream",
     "text": [
      "Corpus Chunks:  56%|█████▌    | 14/25 [04:53<03:50, 20.96s/it]"
     ]
    },
    {
     "data": {
      "application/vnd.jupyter.widget-view+json": {
       "model_id": "ca53d329b6234ae187d0a08176f68fb6",
       "version_major": 2,
       "version_minor": 0
      },
      "text/plain": [
       "Batches:   0%|          | 0/1563 [00:00<?, ?it/s]"
      ]
     },
     "metadata": {},
     "output_type": "display_data"
    },
    {
     "name": "stderr",
     "output_type": "stream",
     "text": [
      "Corpus Chunks:  60%|██████    | 15/25 [05:14<03:29, 20.91s/it]"
     ]
    },
    {
     "data": {
      "application/vnd.jupyter.widget-view+json": {
       "model_id": "f452b9c6b12648e68e1bfe554771fc60",
       "version_major": 2,
       "version_minor": 0
      },
      "text/plain": [
       "Batches:   0%|          | 0/1563 [00:00<?, ?it/s]"
      ]
     },
     "metadata": {},
     "output_type": "display_data"
    },
    {
     "name": "stderr",
     "output_type": "stream",
     "text": [
      "Corpus Chunks:  64%|██████▍   | 16/25 [05:35<03:08, 20.96s/it]"
     ]
    },
    {
     "data": {
      "application/vnd.jupyter.widget-view+json": {
       "model_id": "669de78b552944f6bee3be0f3ee6a952",
       "version_major": 2,
       "version_minor": 0
      },
      "text/plain": [
       "Batches:   0%|          | 0/1563 [00:00<?, ?it/s]"
      ]
     },
     "metadata": {},
     "output_type": "display_data"
    },
    {
     "name": "stderr",
     "output_type": "stream",
     "text": [
      "Corpus Chunks:  68%|██████▊   | 17/25 [05:56<02:47, 21.00s/it]"
     ]
    },
    {
     "data": {
      "application/vnd.jupyter.widget-view+json": {
       "model_id": "17992c4860f74b9f969442bb5730c65d",
       "version_major": 2,
       "version_minor": 0
      },
      "text/plain": [
       "Batches:   0%|          | 0/1563 [00:00<?, ?it/s]"
      ]
     },
     "metadata": {},
     "output_type": "display_data"
    },
    {
     "name": "stderr",
     "output_type": "stream",
     "text": [
      "Corpus Chunks:  72%|███████▏  | 18/25 [06:19<02:30, 21.45s/it]"
     ]
    },
    {
     "data": {
      "application/vnd.jupyter.widget-view+json": {
       "model_id": "821483e8fea0454daae5e5bbe24bb3ad",
       "version_major": 2,
       "version_minor": 0
      },
      "text/plain": [
       "Batches:   0%|          | 0/1563 [00:00<?, ?it/s]"
      ]
     },
     "metadata": {},
     "output_type": "display_data"
    },
    {
     "name": "stderr",
     "output_type": "stream",
     "text": [
      "Corpus Chunks:  76%|███████▌  | 19/25 [06:41<02:09, 21.59s/it]"
     ]
    },
    {
     "data": {
      "application/vnd.jupyter.widget-view+json": {
       "model_id": "d523fd5e330043288cc38ea22f977c5a",
       "version_major": 2,
       "version_minor": 0
      },
      "text/plain": [
       "Batches:   0%|          | 0/1563 [00:00<?, ?it/s]"
      ]
     },
     "metadata": {},
     "output_type": "display_data"
    },
    {
     "name": "stderr",
     "output_type": "stream",
     "text": [
      "Corpus Chunks:  80%|████████  | 20/25 [07:02<01:47, 21.41s/it]"
     ]
    },
    {
     "data": {
      "application/vnd.jupyter.widget-view+json": {
       "model_id": "ec56eb12fe7544558a72673f543d4c7c",
       "version_major": 2,
       "version_minor": 0
      },
      "text/plain": [
       "Batches:   0%|          | 0/1563 [00:00<?, ?it/s]"
      ]
     },
     "metadata": {},
     "output_type": "display_data"
    },
    {
     "name": "stderr",
     "output_type": "stream",
     "text": [
      "Corpus Chunks:  84%|████████▍ | 21/25 [07:23<01:25, 21.48s/it]"
     ]
    },
    {
     "data": {
      "application/vnd.jupyter.widget-view+json": {
       "model_id": "b5d664bf1733450380952ce5d640cae6",
       "version_major": 2,
       "version_minor": 0
      },
      "text/plain": [
       "Batches:   0%|          | 0/1563 [00:00<?, ?it/s]"
      ]
     },
     "metadata": {},
     "output_type": "display_data"
    },
    {
     "name": "stderr",
     "output_type": "stream",
     "text": [
      "Corpus Chunks:  88%|████████▊ | 22/25 [07:46<01:05, 21.77s/it]"
     ]
    },
    {
     "data": {
      "application/vnd.jupyter.widget-view+json": {
       "model_id": "261cedaff9e6442b8be1ee14ed55d578",
       "version_major": 2,
       "version_minor": 0
      },
      "text/plain": [
       "Batches:   0%|          | 0/1563 [00:00<?, ?it/s]"
      ]
     },
     "metadata": {},
     "output_type": "display_data"
    },
    {
     "name": "stderr",
     "output_type": "stream",
     "text": [
      "Corpus Chunks:  92%|█████████▏| 23/25 [08:07<00:42, 21.48s/it]"
     ]
    },
    {
     "data": {
      "application/vnd.jupyter.widget-view+json": {
       "model_id": "35474d8eefa241f583ce4ef6495960df",
       "version_major": 2,
       "version_minor": 0
      },
      "text/plain": [
       "Batches:   0%|          | 0/1563 [00:00<?, ?it/s]"
      ]
     },
     "metadata": {},
     "output_type": "display_data"
    },
    {
     "name": "stderr",
     "output_type": "stream",
     "text": [
      "Corpus Chunks:  96%|█████████▌| 24/25 [08:28<00:21, 21.37s/it]"
     ]
    },
    {
     "data": {
      "application/vnd.jupyter.widget-view+json": {
       "model_id": "5c555bcd99e4487f958d4bdc9efa2474",
       "version_major": 2,
       "version_minor": 0
      },
      "text/plain": [
       "Batches:   0%|          | 0/276 [00:00<?, ?it/s]"
      ]
     },
     "metadata": {},
     "output_type": "display_data"
    },
    {
     "name": "stderr",
     "output_type": "stream",
     "text": [
      "Corpus Chunks: 100%|██████████| 25/25 [08:32<00:00, 20.48s/it]\n"
     ]
    },
    {
     "data": {
      "application/vnd.jupyter.widget-view+json": {
       "model_id": "2a6f8cd3345e4c62a625574a2ddb709d",
       "version_major": 2,
       "version_minor": 0
      },
      "text/plain": [
       "Batches:   0%|          | 0/5 [00:00<?, ?it/s]"
      ]
     },
     "metadata": {},
     "output_type": "display_data"
    },
    {
     "name": "stderr",
     "output_type": "stream",
     "text": [
      "Corpus Chunks:   0%|          | 0/25 [00:00<?, ?it/s]"
     ]
    },
    {
     "data": {
      "application/vnd.jupyter.widget-view+json": {
       "model_id": "7489f32d32394e9bbf7af146351a324a",
       "version_major": 2,
       "version_minor": 0
      },
      "text/plain": [
       "Batches:   0%|          | 0/1563 [00:00<?, ?it/s]"
      ]
     },
     "metadata": {},
     "output_type": "display_data"
    },
    {
     "name": "stderr",
     "output_type": "stream",
     "text": [
      "Corpus Chunks:   4%|▍         | 1/25 [00:21<08:27, 21.13s/it]"
     ]
    },
    {
     "data": {
      "application/vnd.jupyter.widget-view+json": {
       "model_id": "da9f70356b1743a59d00446102f548c1",
       "version_major": 2,
       "version_minor": 0
      },
      "text/plain": [
       "Batches:   0%|          | 0/1563 [00:00<?, ?it/s]"
      ]
     },
     "metadata": {},
     "output_type": "display_data"
    },
    {
     "name": "stderr",
     "output_type": "stream",
     "text": [
      "Corpus Chunks:   8%|▊         | 2/25 [00:42<08:02, 21.00s/it]"
     ]
    },
    {
     "data": {
      "application/vnd.jupyter.widget-view+json": {
       "model_id": "d5365569b4c74036a4c8849447837c76",
       "version_major": 2,
       "version_minor": 0
      },
      "text/plain": [
       "Batches:   0%|          | 0/1563 [00:00<?, ?it/s]"
      ]
     },
     "metadata": {},
     "output_type": "display_data"
    },
    {
     "name": "stderr",
     "output_type": "stream",
     "text": [
      "Corpus Chunks:  12%|█▏        | 3/25 [01:03<07:50, 21.40s/it]"
     ]
    },
    {
     "data": {
      "application/vnd.jupyter.widget-view+json": {
       "model_id": "80b671660440499c927a5e12122124e8",
       "version_major": 2,
       "version_minor": 0
      },
      "text/plain": [
       "Batches:   0%|          | 0/1563 [00:00<?, ?it/s]"
      ]
     },
     "metadata": {},
     "output_type": "display_data"
    },
    {
     "name": "stderr",
     "output_type": "stream",
     "text": [
      "Corpus Chunks:  16%|█▌        | 4/25 [01:24<07:24, 21.14s/it]"
     ]
    },
    {
     "data": {
      "application/vnd.jupyter.widget-view+json": {
       "model_id": "e2d8d254a7c64f598d8eae1c085f14c7",
       "version_major": 2,
       "version_minor": 0
      },
      "text/plain": [
       "Batches:   0%|          | 0/1563 [00:00<?, ?it/s]"
      ]
     },
     "metadata": {},
     "output_type": "display_data"
    },
    {
     "name": "stderr",
     "output_type": "stream",
     "text": [
      "Corpus Chunks:  20%|██        | 5/25 [01:45<07:01, 21.07s/it]"
     ]
    },
    {
     "data": {
      "application/vnd.jupyter.widget-view+json": {
       "model_id": "89900bd52e31447a92cfb458a58da41f",
       "version_major": 2,
       "version_minor": 0
      },
      "text/plain": [
       "Batches:   0%|          | 0/1563 [00:00<?, ?it/s]"
      ]
     },
     "metadata": {},
     "output_type": "display_data"
    },
    {
     "name": "stderr",
     "output_type": "stream",
     "text": [
      "Corpus Chunks:  24%|██▍       | 6/25 [02:07<06:42, 21.18s/it]"
     ]
    },
    {
     "data": {
      "application/vnd.jupyter.widget-view+json": {
       "model_id": "0c0a35a7244e4efeadd1a20769090429",
       "version_major": 2,
       "version_minor": 0
      },
      "text/plain": [
       "Batches:   0%|          | 0/1563 [00:00<?, ?it/s]"
      ]
     },
     "metadata": {},
     "output_type": "display_data"
    },
    {
     "name": "stderr",
     "output_type": "stream",
     "text": [
      "Corpus Chunks:  28%|██▊       | 7/25 [02:28<06:20, 21.14s/it]"
     ]
    },
    {
     "data": {
      "application/vnd.jupyter.widget-view+json": {
       "model_id": "081207716fb64201bd2f1bb5fdf01c3c",
       "version_major": 2,
       "version_minor": 0
      },
      "text/plain": [
       "Batches:   0%|          | 0/1563 [00:00<?, ?it/s]"
      ]
     },
     "metadata": {},
     "output_type": "display_data"
    },
    {
     "name": "stderr",
     "output_type": "stream",
     "text": [
      "Corpus Chunks:  32%|███▏      | 8/25 [02:48<05:57, 21.05s/it]"
     ]
    },
    {
     "data": {
      "application/vnd.jupyter.widget-view+json": {
       "model_id": "a648cf38509c4c04be7f53a6360ce462",
       "version_major": 2,
       "version_minor": 0
      },
      "text/plain": [
       "Batches:   0%|          | 0/1563 [00:00<?, ?it/s]"
      ]
     },
     "metadata": {},
     "output_type": "display_data"
    },
    {
     "name": "stderr",
     "output_type": "stream",
     "text": [
      "Corpus Chunks:  36%|███▌      | 9/25 [03:09<05:34, 20.89s/it]"
     ]
    },
    {
     "data": {
      "application/vnd.jupyter.widget-view+json": {
       "model_id": "2b3b85c3b7bd434998e2e7678a1bce9c",
       "version_major": 2,
       "version_minor": 0
      },
      "text/plain": [
       "Batches:   0%|          | 0/1563 [00:00<?, ?it/s]"
      ]
     },
     "metadata": {},
     "output_type": "display_data"
    },
    {
     "name": "stderr",
     "output_type": "stream",
     "text": [
      "Corpus Chunks:  40%|████      | 10/25 [03:30<05:12, 20.86s/it]"
     ]
    },
    {
     "data": {
      "application/vnd.jupyter.widget-view+json": {
       "model_id": "ce71c6283a034a25b6bcace1845ece3c",
       "version_major": 2,
       "version_minor": 0
      },
      "text/plain": [
       "Batches:   0%|          | 0/1563 [00:00<?, ?it/s]"
      ]
     },
     "metadata": {},
     "output_type": "display_data"
    },
    {
     "name": "stderr",
     "output_type": "stream",
     "text": [
      "Corpus Chunks:  44%|████▍     | 11/25 [03:51<04:51, 20.83s/it]"
     ]
    },
    {
     "data": {
      "application/vnd.jupyter.widget-view+json": {
       "model_id": "b71963b85448474a9c828e5920f65951",
       "version_major": 2,
       "version_minor": 0
      },
      "text/plain": [
       "Batches:   0%|          | 0/1563 [00:00<?, ?it/s]"
      ]
     },
     "metadata": {},
     "output_type": "display_data"
    },
    {
     "name": "stderr",
     "output_type": "stream",
     "text": [
      "Corpus Chunks:  48%|████▊     | 12/25 [04:11<04:31, 20.88s/it]"
     ]
    },
    {
     "data": {
      "application/vnd.jupyter.widget-view+json": {
       "model_id": "a0221b926ac34bb592c61dce0b0df39f",
       "version_major": 2,
       "version_minor": 0
      },
      "text/plain": [
       "Batches:   0%|          | 0/1563 [00:00<?, ?it/s]"
      ]
     },
     "metadata": {},
     "output_type": "display_data"
    },
    {
     "name": "stderr",
     "output_type": "stream",
     "text": [
      "Corpus Chunks:  52%|█████▏    | 13/25 [04:32<04:10, 20.91s/it]"
     ]
    },
    {
     "data": {
      "application/vnd.jupyter.widget-view+json": {
       "model_id": "818b18e141914e4daa40a15602469088",
       "version_major": 2,
       "version_minor": 0
      },
      "text/plain": [
       "Batches:   0%|          | 0/1563 [00:00<?, ?it/s]"
      ]
     },
     "metadata": {},
     "output_type": "display_data"
    },
    {
     "name": "stderr",
     "output_type": "stream",
     "text": [
      "Corpus Chunks:  56%|█████▌    | 14/25 [04:53<03:49, 20.84s/it]"
     ]
    },
    {
     "data": {
      "application/vnd.jupyter.widget-view+json": {
       "model_id": "4189da1bc02e4559868e9f3c267eea22",
       "version_major": 2,
       "version_minor": 0
      },
      "text/plain": [
       "Batches:   0%|          | 0/1563 [00:00<?, ?it/s]"
      ]
     },
     "metadata": {},
     "output_type": "display_data"
    },
    {
     "name": "stderr",
     "output_type": "stream",
     "text": [
      "Corpus Chunks:  60%|██████    | 15/25 [05:14<03:28, 20.82s/it]"
     ]
    },
    {
     "data": {
      "application/vnd.jupyter.widget-view+json": {
       "model_id": "66bdf409b4eb4fe48b72b6b63a035166",
       "version_major": 2,
       "version_minor": 0
      },
      "text/plain": [
       "Batches:   0%|          | 0/1563 [00:00<?, ?it/s]"
      ]
     },
     "metadata": {},
     "output_type": "display_data"
    },
    {
     "name": "stderr",
     "output_type": "stream",
     "text": [
      "Corpus Chunks:  64%|██████▍   | 16/25 [05:35<03:07, 20.81s/it]"
     ]
    },
    {
     "data": {
      "application/vnd.jupyter.widget-view+json": {
       "model_id": "a7ab6d379c2046488b4b69554b7fd52c",
       "version_major": 2,
       "version_minor": 0
      },
      "text/plain": [
       "Batches:   0%|          | 0/1563 [00:00<?, ?it/s]"
      ]
     },
     "metadata": {},
     "output_type": "display_data"
    },
    {
     "name": "stderr",
     "output_type": "stream",
     "text": [
      "Corpus Chunks:  68%|██████▊   | 17/25 [05:56<02:47, 20.89s/it]"
     ]
    },
    {
     "data": {
      "application/vnd.jupyter.widget-view+json": {
       "model_id": "8d5779b5531b45e096088d6d0d1b6554",
       "version_major": 2,
       "version_minor": 0
      },
      "text/plain": [
       "Batches:   0%|          | 0/1563 [00:00<?, ?it/s]"
      ]
     },
     "metadata": {},
     "output_type": "display_data"
    },
    {
     "name": "stderr",
     "output_type": "stream",
     "text": [
      "Corpus Chunks:  72%|███████▏  | 18/25 [06:16<02:25, 20.79s/it]"
     ]
    },
    {
     "data": {
      "application/vnd.jupyter.widget-view+json": {
       "model_id": "b7c70adf4158490d82335b1cb9216481",
       "version_major": 2,
       "version_minor": 0
      },
      "text/plain": [
       "Batches:   0%|          | 0/1563 [00:00<?, ?it/s]"
      ]
     },
     "metadata": {},
     "output_type": "display_data"
    },
    {
     "name": "stderr",
     "output_type": "stream",
     "text": [
      "Corpus Chunks:  76%|███████▌  | 19/25 [06:37<02:04, 20.73s/it]"
     ]
    },
    {
     "data": {
      "application/vnd.jupyter.widget-view+json": {
       "model_id": "9f3b3ea3f4cb4e059077ab39a7cf22f7",
       "version_major": 2,
       "version_minor": 0
      },
      "text/plain": [
       "Batches:   0%|          | 0/1563 [00:00<?, ?it/s]"
      ]
     },
     "metadata": {},
     "output_type": "display_data"
    },
    {
     "name": "stderr",
     "output_type": "stream",
     "text": [
      "Corpus Chunks:  80%|████████  | 20/25 [06:57<01:43, 20.66s/it]"
     ]
    },
    {
     "data": {
      "application/vnd.jupyter.widget-view+json": {
       "model_id": "e5115c3ef6274607a4ee89ccafe18f4d",
       "version_major": 2,
       "version_minor": 0
      },
      "text/plain": [
       "Batches:   0%|          | 0/1563 [00:00<?, ?it/s]"
      ]
     },
     "metadata": {},
     "output_type": "display_data"
    },
    {
     "name": "stderr",
     "output_type": "stream",
     "text": [
      "Corpus Chunks:  84%|████████▍ | 21/25 [07:18<01:22, 20.64s/it]"
     ]
    },
    {
     "data": {
      "application/vnd.jupyter.widget-view+json": {
       "model_id": "66556dcfb11349c5ad897503e308809a",
       "version_major": 2,
       "version_minor": 0
      },
      "text/plain": [
       "Batches:   0%|          | 0/1563 [00:00<?, ?it/s]"
      ]
     },
     "metadata": {},
     "output_type": "display_data"
    },
    {
     "name": "stderr",
     "output_type": "stream",
     "text": [
      "Corpus Chunks:  88%|████████▊ | 22/25 [07:39<01:02, 20.70s/it]"
     ]
    },
    {
     "data": {
      "application/vnd.jupyter.widget-view+json": {
       "model_id": "57c0d0d4220f466e9f1f2e2aff457d36",
       "version_major": 2,
       "version_minor": 0
      },
      "text/plain": [
       "Batches:   0%|          | 0/1563 [00:00<?, ?it/s]"
      ]
     },
     "metadata": {},
     "output_type": "display_data"
    },
    {
     "name": "stderr",
     "output_type": "stream",
     "text": [
      "Corpus Chunks:  92%|█████████▏| 23/25 [07:59<00:41, 20.67s/it]"
     ]
    },
    {
     "data": {
      "application/vnd.jupyter.widget-view+json": {
       "model_id": "13eba24bf72643dc93eda227784cd4eb",
       "version_major": 2,
       "version_minor": 0
      },
      "text/plain": [
       "Batches:   0%|          | 0/1563 [00:00<?, ?it/s]"
      ]
     },
     "metadata": {},
     "output_type": "display_data"
    },
    {
     "name": "stderr",
     "output_type": "stream",
     "text": [
      "Corpus Chunks:  96%|█████████▌| 24/25 [08:21<00:20, 20.79s/it]"
     ]
    },
    {
     "data": {
      "application/vnd.jupyter.widget-view+json": {
       "model_id": "712775e6a8a64ca1a67932423768c320",
       "version_major": 2,
       "version_minor": 0
      },
      "text/plain": [
       "Batches:   0%|          | 0/276 [00:00<?, ?it/s]"
      ]
     },
     "metadata": {},
     "output_type": "display_data"
    },
    {
     "name": "stderr",
     "output_type": "stream",
     "text": [
      "Corpus Chunks: 100%|██████████| 25/25 [08:24<00:00, 20.19s/it]\n"
     ]
    },
    {
     "data": {
      "application/vnd.jupyter.widget-view+json": {
       "model_id": "ad1d9d119e1546efb8f1823ad3230c7c",
       "version_major": 2,
       "version_minor": 0
      },
      "text/plain": [
       "Batches:   0%|          | 0/5 [00:00<?, ?it/s]"
      ]
     },
     "metadata": {},
     "output_type": "display_data"
    },
    {
     "name": "stderr",
     "output_type": "stream",
     "text": [
      "Corpus Chunks:   0%|          | 0/25 [00:00<?, ?it/s]"
     ]
    },
    {
     "data": {
      "application/vnd.jupyter.widget-view+json": {
       "model_id": "425efa2a1c3843a3814a799b046eb9aa",
       "version_major": 2,
       "version_minor": 0
      },
      "text/plain": [
       "Batches:   0%|          | 0/1563 [00:00<?, ?it/s]"
      ]
     },
     "metadata": {},
     "output_type": "display_data"
    },
    {
     "name": "stderr",
     "output_type": "stream",
     "text": [
      "Corpus Chunks:   4%|▍         | 1/25 [00:20<08:23, 20.99s/it]"
     ]
    },
    {
     "data": {
      "application/vnd.jupyter.widget-view+json": {
       "model_id": "b27dc472c1a8454785b28499f722a40c",
       "version_major": 2,
       "version_minor": 0
      },
      "text/plain": [
       "Batches:   0%|          | 0/1563 [00:00<?, ?it/s]"
      ]
     },
     "metadata": {},
     "output_type": "display_data"
    },
    {
     "name": "stderr",
     "output_type": "stream",
     "text": [
      "Corpus Chunks:   8%|▊         | 2/25 [00:41<08:00, 20.89s/it]"
     ]
    },
    {
     "data": {
      "application/vnd.jupyter.widget-view+json": {
       "model_id": "30e816adda7d4437a37be5920920a6a0",
       "version_major": 2,
       "version_minor": 0
      },
      "text/plain": [
       "Batches:   0%|          | 0/1563 [00:00<?, ?it/s]"
      ]
     },
     "metadata": {},
     "output_type": "display_data"
    },
    {
     "name": "stderr",
     "output_type": "stream",
     "text": [
      "Corpus Chunks:  12%|█▏        | 3/25 [01:02<07:39, 20.87s/it]"
     ]
    },
    {
     "data": {
      "application/vnd.jupyter.widget-view+json": {
       "model_id": "d414c6ee02a24b1a966ef1819219ffdb",
       "version_major": 2,
       "version_minor": 0
      },
      "text/plain": [
       "Batches:   0%|          | 0/1563 [00:00<?, ?it/s]"
      ]
     },
     "metadata": {},
     "output_type": "display_data"
    },
    {
     "name": "stderr",
     "output_type": "stream",
     "text": [
      "Corpus Chunks:  16%|█▌        | 4/25 [01:23<07:15, 20.76s/it]"
     ]
    },
    {
     "data": {
      "application/vnd.jupyter.widget-view+json": {
       "model_id": "9d33edcbd75449dd9de39d087b9c6982",
       "version_major": 2,
       "version_minor": 0
      },
      "text/plain": [
       "Batches:   0%|          | 0/1563 [00:00<?, ?it/s]"
      ]
     },
     "metadata": {},
     "output_type": "display_data"
    },
    {
     "name": "stderr",
     "output_type": "stream",
     "text": [
      "Corpus Chunks:  20%|██        | 5/25 [01:44<06:56, 20.84s/it]"
     ]
    },
    {
     "data": {
      "application/vnd.jupyter.widget-view+json": {
       "model_id": "94f97b5f4d4449ddb1396a4344be3771",
       "version_major": 2,
       "version_minor": 0
      },
      "text/plain": [
       "Batches:   0%|          | 0/1563 [00:00<?, ?it/s]"
      ]
     },
     "metadata": {},
     "output_type": "display_data"
    },
    {
     "name": "stderr",
     "output_type": "stream",
     "text": [
      "Corpus Chunks:  24%|██▍       | 6/25 [02:05<06:37, 20.91s/it]"
     ]
    },
    {
     "data": {
      "application/vnd.jupyter.widget-view+json": {
       "model_id": "e188dca5594044d0ad4892970a69fbfb",
       "version_major": 2,
       "version_minor": 0
      },
      "text/plain": [
       "Batches:   0%|          | 0/1563 [00:00<?, ?it/s]"
      ]
     },
     "metadata": {},
     "output_type": "display_data"
    },
    {
     "name": "stderr",
     "output_type": "stream",
     "text": [
      "Corpus Chunks:  28%|██▊       | 7/25 [02:26<06:16, 20.94s/it]"
     ]
    },
    {
     "data": {
      "application/vnd.jupyter.widget-view+json": {
       "model_id": "00fbfab43a184ec0aafffbb572e5eca1",
       "version_major": 2,
       "version_minor": 0
      },
      "text/plain": [
       "Batches:   0%|          | 0/1563 [00:00<?, ?it/s]"
      ]
     },
     "metadata": {},
     "output_type": "display_data"
    },
    {
     "name": "stderr",
     "output_type": "stream",
     "text": [
      "Corpus Chunks:  32%|███▏      | 8/25 [02:47<05:55, 20.94s/it]"
     ]
    },
    {
     "data": {
      "application/vnd.jupyter.widget-view+json": {
       "model_id": "efca3fd44db84c8b87f0bfff5c5c20f0",
       "version_major": 2,
       "version_minor": 0
      },
      "text/plain": [
       "Batches:   0%|          | 0/1563 [00:00<?, ?it/s]"
      ]
     },
     "metadata": {},
     "output_type": "display_data"
    },
    {
     "name": "stderr",
     "output_type": "stream",
     "text": [
      "Corpus Chunks:  36%|███▌      | 9/25 [03:07<05:33, 20.85s/it]"
     ]
    },
    {
     "data": {
      "application/vnd.jupyter.widget-view+json": {
       "model_id": "0ed0b54bb5c94ca4ab86a864a489a969",
       "version_major": 2,
       "version_minor": 0
      },
      "text/plain": [
       "Batches:   0%|          | 0/1563 [00:00<?, ?it/s]"
      ]
     },
     "metadata": {},
     "output_type": "display_data"
    },
    {
     "name": "stderr",
     "output_type": "stream",
     "text": [
      "Corpus Chunks:  40%|████      | 10/25 [03:28<05:12, 20.85s/it]"
     ]
    },
    {
     "data": {
      "application/vnd.jupyter.widget-view+json": {
       "model_id": "9df9d4247ad2447b87c4733c83c2e218",
       "version_major": 2,
       "version_minor": 0
      },
      "text/plain": [
       "Batches:   0%|          | 0/1563 [00:00<?, ?it/s]"
      ]
     },
     "metadata": {},
     "output_type": "display_data"
    },
    {
     "name": "stderr",
     "output_type": "stream",
     "text": [
      "Corpus Chunks:  44%|████▍     | 11/25 [03:49<04:50, 20.78s/it]"
     ]
    },
    {
     "data": {
      "application/vnd.jupyter.widget-view+json": {
       "model_id": "7a4c4ab13a644047964ae9974d0034ee",
       "version_major": 2,
       "version_minor": 0
      },
      "text/plain": [
       "Batches:   0%|          | 0/1563 [00:00<?, ?it/s]"
      ]
     },
     "metadata": {},
     "output_type": "display_data"
    },
    {
     "name": "stderr",
     "output_type": "stream",
     "text": [
      "Corpus Chunks:  48%|████▊     | 12/25 [04:10<04:29, 20.77s/it]"
     ]
    },
    {
     "data": {
      "application/vnd.jupyter.widget-view+json": {
       "model_id": "8cba456d385943169508f3d5c1cdf1b8",
       "version_major": 2,
       "version_minor": 0
      },
      "text/plain": [
       "Batches:   0%|          | 0/1563 [00:00<?, ?it/s]"
      ]
     },
     "metadata": {},
     "output_type": "display_data"
    },
    {
     "name": "stderr",
     "output_type": "stream",
     "text": [
      "Corpus Chunks:  52%|█████▏    | 13/25 [04:30<04:08, 20.74s/it]"
     ]
    },
    {
     "data": {
      "application/vnd.jupyter.widget-view+json": {
       "model_id": "d36b2f33d7d34ce5a0d5a15cbaf4a62e",
       "version_major": 2,
       "version_minor": 0
      },
      "text/plain": [
       "Batches:   0%|          | 0/1563 [00:00<?, ?it/s]"
      ]
     },
     "metadata": {},
     "output_type": "display_data"
    },
    {
     "name": "stderr",
     "output_type": "stream",
     "text": [
      "Corpus Chunks:  56%|█████▌    | 14/25 [04:51<03:47, 20.66s/it]"
     ]
    },
    {
     "data": {
      "application/vnd.jupyter.widget-view+json": {
       "model_id": "ceb16827ce01400d982a2ea5bccf932b",
       "version_major": 2,
       "version_minor": 0
      },
      "text/plain": [
       "Batches:   0%|          | 0/1563 [00:00<?, ?it/s]"
      ]
     },
     "metadata": {},
     "output_type": "display_data"
    },
    {
     "name": "stderr",
     "output_type": "stream",
     "text": [
      "Corpus Chunks:  60%|██████    | 15/25 [05:11<03:26, 20.63s/it]"
     ]
    },
    {
     "data": {
      "application/vnd.jupyter.widget-view+json": {
       "model_id": "9812571e0174474f901eb3ee57628845",
       "version_major": 2,
       "version_minor": 0
      },
      "text/plain": [
       "Batches:   0%|          | 0/1563 [00:00<?, ?it/s]"
      ]
     },
     "metadata": {},
     "output_type": "display_data"
    },
    {
     "name": "stderr",
     "output_type": "stream",
     "text": [
      "Corpus Chunks:  64%|██████▍   | 16/25 [05:32<03:05, 20.61s/it]"
     ]
    },
    {
     "data": {
      "application/vnd.jupyter.widget-view+json": {
       "model_id": "da19d70e1ecf418680fe4c3920d7ca6a",
       "version_major": 2,
       "version_minor": 0
      },
      "text/plain": [
       "Batches:   0%|          | 0/1563 [00:00<?, ?it/s]"
      ]
     },
     "metadata": {},
     "output_type": "display_data"
    },
    {
     "name": "stderr",
     "output_type": "stream",
     "text": [
      "Corpus Chunks:  68%|██████▊   | 17/25 [05:53<02:46, 20.78s/it]"
     ]
    },
    {
     "data": {
      "application/vnd.jupyter.widget-view+json": {
       "model_id": "9e244b7c387a4b10bbc76c0c8e8c831b",
       "version_major": 2,
       "version_minor": 0
      },
      "text/plain": [
       "Batches:   0%|          | 0/1563 [00:00<?, ?it/s]"
      ]
     },
     "metadata": {},
     "output_type": "display_data"
    },
    {
     "name": "stderr",
     "output_type": "stream",
     "text": [
      "Corpus Chunks:  72%|███████▏  | 18/25 [06:14<02:25, 20.80s/it]"
     ]
    },
    {
     "data": {
      "application/vnd.jupyter.widget-view+json": {
       "model_id": "f01495e584994dc6af6bd71c565a0a3b",
       "version_major": 2,
       "version_minor": 0
      },
      "text/plain": [
       "Batches:   0%|          | 0/1563 [00:00<?, ?it/s]"
      ]
     },
     "metadata": {},
     "output_type": "display_data"
    },
    {
     "name": "stderr",
     "output_type": "stream",
     "text": [
      "Corpus Chunks:  76%|███████▌  | 19/25 [06:35<02:04, 20.83s/it]"
     ]
    },
    {
     "data": {
      "application/vnd.jupyter.widget-view+json": {
       "model_id": "6adcbea635ba4c4986b99f20b4fe0dba",
       "version_major": 2,
       "version_minor": 0
      },
      "text/plain": [
       "Batches:   0%|          | 0/1563 [00:00<?, ?it/s]"
      ]
     },
     "metadata": {},
     "output_type": "display_data"
    },
    {
     "name": "stderr",
     "output_type": "stream",
     "text": [
      "Corpus Chunks:  80%|████████  | 20/25 [06:56<01:44, 20.86s/it]"
     ]
    },
    {
     "data": {
      "application/vnd.jupyter.widget-view+json": {
       "model_id": "1160c81dea024b1dbd63938afe7d6de4",
       "version_major": 2,
       "version_minor": 0
      },
      "text/plain": [
       "Batches:   0%|          | 0/1563 [00:00<?, ?it/s]"
      ]
     },
     "metadata": {},
     "output_type": "display_data"
    },
    {
     "name": "stderr",
     "output_type": "stream",
     "text": [
      "Corpus Chunks:  84%|████████▍ | 21/25 [07:18<01:24, 21.16s/it]"
     ]
    },
    {
     "data": {
      "application/vnd.jupyter.widget-view+json": {
       "model_id": "718fac151c174c51bdc40d4b605de112",
       "version_major": 2,
       "version_minor": 0
      },
      "text/plain": [
       "Batches:   0%|          | 0/1563 [00:00<?, ?it/s]"
      ]
     },
     "metadata": {},
     "output_type": "display_data"
    },
    {
     "name": "stderr",
     "output_type": "stream",
     "text": [
      "Corpus Chunks:  88%|████████▊ | 22/25 [07:39<01:03, 21.21s/it]"
     ]
    },
    {
     "data": {
      "application/vnd.jupyter.widget-view+json": {
       "model_id": "98d4e7d7d5da4e94a6a412c695f1eeb3",
       "version_major": 2,
       "version_minor": 0
      },
      "text/plain": [
       "Batches:   0%|          | 0/1563 [00:00<?, ?it/s]"
      ]
     },
     "metadata": {},
     "output_type": "display_data"
    },
    {
     "name": "stderr",
     "output_type": "stream",
     "text": [
      "Corpus Chunks:  92%|█████████▏| 23/25 [07:59<00:42, 21.02s/it]"
     ]
    },
    {
     "data": {
      "application/vnd.jupyter.widget-view+json": {
       "model_id": "ff28112038a240be90dfb211c60a6b46",
       "version_major": 2,
       "version_minor": 0
      },
      "text/plain": [
       "Batches:   0%|          | 0/1563 [00:00<?, ?it/s]"
      ]
     },
     "metadata": {},
     "output_type": "display_data"
    },
    {
     "name": "stderr",
     "output_type": "stream",
     "text": [
      "Corpus Chunks:  96%|█████████▌| 24/25 [08:21<00:21, 21.05s/it]"
     ]
    },
    {
     "data": {
      "application/vnd.jupyter.widget-view+json": {
       "model_id": "7677bbf7025d4a68b227a9b855e14f12",
       "version_major": 2,
       "version_minor": 0
      },
      "text/plain": [
       "Batches:   0%|          | 0/276 [00:00<?, ?it/s]"
      ]
     },
     "metadata": {},
     "output_type": "display_data"
    },
    {
     "name": "stderr",
     "output_type": "stream",
     "text": [
      "Corpus Chunks: 100%|██████████| 25/25 [08:25<00:00, 20.21s/it]\n"
     ]
    },
    {
     "data": {
      "application/vnd.jupyter.widget-view+json": {
       "model_id": "4c791982f5fd47d3988791da887eddf1",
       "version_major": 2,
       "version_minor": 0
      },
      "text/plain": [
       "Batches:   0%|          | 0/5 [00:00<?, ?it/s]"
      ]
     },
     "metadata": {},
     "output_type": "display_data"
    },
    {
     "name": "stderr",
     "output_type": "stream",
     "text": [
      "Corpus Chunks:   0%|          | 0/25 [00:00<?, ?it/s]"
     ]
    },
    {
     "data": {
      "application/vnd.jupyter.widget-view+json": {
       "model_id": "1bdfe3e68fb148a4b14ca7b3a8d0fd6a",
       "version_major": 2,
       "version_minor": 0
      },
      "text/plain": [
       "Batches:   0%|          | 0/1563 [00:00<?, ?it/s]"
      ]
     },
     "metadata": {},
     "output_type": "display_data"
    },
    {
     "name": "stderr",
     "output_type": "stream",
     "text": [
      "Corpus Chunks:   4%|▍         | 1/25 [00:21<08:32, 21.37s/it]"
     ]
    },
    {
     "data": {
      "application/vnd.jupyter.widget-view+json": {
       "model_id": "3805526997304fa79e50a68bb82db371",
       "version_major": 2,
       "version_minor": 0
      },
      "text/plain": [
       "Batches:   0%|          | 0/1563 [00:00<?, ?it/s]"
      ]
     },
     "metadata": {},
     "output_type": "display_data"
    },
    {
     "name": "stderr",
     "output_type": "stream",
     "text": [
      "Corpus Chunks:   8%|▊         | 2/25 [00:42<08:01, 20.94s/it]"
     ]
    },
    {
     "data": {
      "application/vnd.jupyter.widget-view+json": {
       "model_id": "ee21d07373c443cc9be8efe585e4c3ce",
       "version_major": 2,
       "version_minor": 0
      },
      "text/plain": [
       "Batches:   0%|          | 0/1563 [00:00<?, ?it/s]"
      ]
     },
     "metadata": {},
     "output_type": "display_data"
    },
    {
     "name": "stderr",
     "output_type": "stream",
     "text": [
      "Corpus Chunks:  12%|█▏        | 3/25 [01:03<07:44, 21.13s/it]"
     ]
    },
    {
     "data": {
      "application/vnd.jupyter.widget-view+json": {
       "model_id": "45cd1c7e5ebc4091872ece2df3d0cc38",
       "version_major": 2,
       "version_minor": 0
      },
      "text/plain": [
       "Batches:   0%|          | 0/1563 [00:00<?, ?it/s]"
      ]
     },
     "metadata": {},
     "output_type": "display_data"
    },
    {
     "name": "stderr",
     "output_type": "stream",
     "text": [
      "Corpus Chunks:  16%|█▌        | 4/25 [01:24<07:22, 21.05s/it]"
     ]
    },
    {
     "data": {
      "application/vnd.jupyter.widget-view+json": {
       "model_id": "9a426ac1faf44532a0d9e2f6e01daeba",
       "version_major": 2,
       "version_minor": 0
      },
      "text/plain": [
       "Batches:   0%|          | 0/1563 [00:00<?, ?it/s]"
      ]
     },
     "metadata": {},
     "output_type": "display_data"
    },
    {
     "name": "stderr",
     "output_type": "stream",
     "text": [
      "Corpus Chunks:  20%|██        | 5/25 [01:45<07:00, 21.02s/it]"
     ]
    },
    {
     "data": {
      "application/vnd.jupyter.widget-view+json": {
       "model_id": "09fabfeaeb9c4d1a8e56d1cc59645b15",
       "version_major": 2,
       "version_minor": 0
      },
      "text/plain": [
       "Batches:   0%|          | 0/1563 [00:00<?, ?it/s]"
      ]
     },
     "metadata": {},
     "output_type": "display_data"
    },
    {
     "name": "stderr",
     "output_type": "stream",
     "text": [
      "Corpus Chunks:  24%|██▍       | 6/25 [02:06<06:39, 21.01s/it]"
     ]
    },
    {
     "data": {
      "application/vnd.jupyter.widget-view+json": {
       "model_id": "0e176b70ebae48e3995f5dbce8c92dd5",
       "version_major": 2,
       "version_minor": 0
      },
      "text/plain": [
       "Batches:   0%|          | 0/1563 [00:00<?, ?it/s]"
      ]
     },
     "metadata": {},
     "output_type": "display_data"
    },
    {
     "name": "stderr",
     "output_type": "stream",
     "text": [
      "Corpus Chunks:  28%|██▊       | 7/25 [02:27<06:17, 21.00s/it]"
     ]
    },
    {
     "data": {
      "application/vnd.jupyter.widget-view+json": {
       "model_id": "5a7b406d17b647b0ae7f2dcca78542ee",
       "version_major": 2,
       "version_minor": 0
      },
      "text/plain": [
       "Batches:   0%|          | 0/1563 [00:00<?, ?it/s]"
      ]
     },
     "metadata": {},
     "output_type": "display_data"
    },
    {
     "name": "stderr",
     "output_type": "stream",
     "text": [
      "Corpus Chunks:  32%|███▏      | 8/25 [02:48<05:58, 21.07s/it]"
     ]
    },
    {
     "data": {
      "application/vnd.jupyter.widget-view+json": {
       "model_id": "29ebc37d10524ef6ba92692f69711406",
       "version_major": 2,
       "version_minor": 0
      },
      "text/plain": [
       "Batches:   0%|          | 0/1563 [00:00<?, ?it/s]"
      ]
     },
     "metadata": {},
     "output_type": "display_data"
    },
    {
     "name": "stderr",
     "output_type": "stream",
     "text": [
      "Corpus Chunks:  36%|███▌      | 9/25 [03:09<05:34, 20.94s/it]"
     ]
    },
    {
     "data": {
      "application/vnd.jupyter.widget-view+json": {
       "model_id": "01f64cd339724d40b0feaa9d3fb29bf0",
       "version_major": 2,
       "version_minor": 0
      },
      "text/plain": [
       "Batches:   0%|          | 0/1563 [00:00<?, ?it/s]"
      ]
     },
     "metadata": {},
     "output_type": "display_data"
    },
    {
     "name": "stderr",
     "output_type": "stream",
     "text": [
      "Corpus Chunks:  40%|████      | 10/25 [03:29<05:13, 20.89s/it]"
     ]
    },
    {
     "data": {
      "application/vnd.jupyter.widget-view+json": {
       "model_id": "773b159381804f6397ec1193eb06f9f6",
       "version_major": 2,
       "version_minor": 0
      },
      "text/plain": [
       "Batches:   0%|          | 0/1563 [00:00<?, ?it/s]"
      ]
     },
     "metadata": {},
     "output_type": "display_data"
    },
    {
     "name": "stderr",
     "output_type": "stream",
     "text": [
      "Corpus Chunks:  44%|████▍     | 11/25 [03:51<04:54, 21.01s/it]"
     ]
    },
    {
     "data": {
      "application/vnd.jupyter.widget-view+json": {
       "model_id": "d8f9a44c6445422b99ada056ff58affa",
       "version_major": 2,
       "version_minor": 0
      },
      "text/plain": [
       "Batches:   0%|          | 0/1563 [00:00<?, ?it/s]"
      ]
     },
     "metadata": {},
     "output_type": "display_data"
    },
    {
     "name": "stderr",
     "output_type": "stream",
     "text": [
      "Corpus Chunks:  48%|████▊     | 12/25 [04:12<04:35, 21.16s/it]"
     ]
    },
    {
     "data": {
      "application/vnd.jupyter.widget-view+json": {
       "model_id": "b4ab40b765bd40f9be6cd063793f8067",
       "version_major": 2,
       "version_minor": 0
      },
      "text/plain": [
       "Batches:   0%|          | 0/1563 [00:00<?, ?it/s]"
      ]
     },
     "metadata": {},
     "output_type": "display_data"
    },
    {
     "name": "stderr",
     "output_type": "stream",
     "text": [
      "Corpus Chunks:  52%|█████▏    | 13/25 [04:33<04:13, 21.13s/it]"
     ]
    },
    {
     "data": {
      "application/vnd.jupyter.widget-view+json": {
       "model_id": "c853c76e2ba640c5b2a7d5349c14649d",
       "version_major": 2,
       "version_minor": 0
      },
      "text/plain": [
       "Batches:   0%|          | 0/1563 [00:00<?, ?it/s]"
      ]
     },
     "metadata": {},
     "output_type": "display_data"
    },
    {
     "name": "stderr",
     "output_type": "stream",
     "text": [
      "Corpus Chunks:  56%|█████▌    | 14/25 [04:54<03:51, 21.05s/it]"
     ]
    },
    {
     "data": {
      "application/vnd.jupyter.widget-view+json": {
       "model_id": "0902a186ecd64b92ba98ec086871b83d",
       "version_major": 2,
       "version_minor": 0
      },
      "text/plain": [
       "Batches:   0%|          | 0/1563 [00:00<?, ?it/s]"
      ]
     },
     "metadata": {},
     "output_type": "display_data"
    },
    {
     "name": "stderr",
     "output_type": "stream",
     "text": [
      "Corpus Chunks:  60%|██████    | 15/25 [05:15<03:30, 21.02s/it]"
     ]
    },
    {
     "data": {
      "application/vnd.jupyter.widget-view+json": {
       "model_id": "a4c2c18582a04e0fa40be685e09da62e",
       "version_major": 2,
       "version_minor": 0
      },
      "text/plain": [
       "Batches:   0%|          | 0/1563 [00:00<?, ?it/s]"
      ]
     },
     "metadata": {},
     "output_type": "display_data"
    },
    {
     "name": "stderr",
     "output_type": "stream",
     "text": [
      "Corpus Chunks:  64%|██████▍   | 16/25 [05:36<03:10, 21.13s/it]"
     ]
    },
    {
     "data": {
      "application/vnd.jupyter.widget-view+json": {
       "model_id": "4a1367dfe83d49b794af90fcb29fd374",
       "version_major": 2,
       "version_minor": 0
      },
      "text/plain": [
       "Batches:   0%|          | 0/1563 [00:00<?, ?it/s]"
      ]
     },
     "metadata": {},
     "output_type": "display_data"
    },
    {
     "name": "stderr",
     "output_type": "stream",
     "text": [
      "Corpus Chunks:  68%|██████▊   | 17/25 [05:58<02:50, 21.26s/it]"
     ]
    },
    {
     "data": {
      "application/vnd.jupyter.widget-view+json": {
       "model_id": "181805d7ea0f4ccbac8f40cd43b254f8",
       "version_major": 2,
       "version_minor": 0
      },
      "text/plain": [
       "Batches:   0%|          | 0/1563 [00:00<?, ?it/s]"
      ]
     },
     "metadata": {},
     "output_type": "display_data"
    },
    {
     "name": "stderr",
     "output_type": "stream",
     "text": [
      "Corpus Chunks:  72%|███████▏  | 18/25 [06:19<02:28, 21.19s/it]"
     ]
    },
    {
     "data": {
      "application/vnd.jupyter.widget-view+json": {
       "model_id": "d966399f95d8482c9e25741844e9877c",
       "version_major": 2,
       "version_minor": 0
      },
      "text/plain": [
       "Batches:   0%|          | 0/1563 [00:00<?, ?it/s]"
      ]
     },
     "metadata": {},
     "output_type": "display_data"
    },
    {
     "name": "stderr",
     "output_type": "stream",
     "text": [
      "Corpus Chunks:  76%|███████▌  | 19/25 [06:40<02:06, 21.04s/it]"
     ]
    },
    {
     "data": {
      "application/vnd.jupyter.widget-view+json": {
       "model_id": "536296ee1c464569addae71ca03b24a7",
       "version_major": 2,
       "version_minor": 0
      },
      "text/plain": [
       "Batches:   0%|          | 0/1563 [00:00<?, ?it/s]"
      ]
     },
     "metadata": {},
     "output_type": "display_data"
    },
    {
     "name": "stderr",
     "output_type": "stream",
     "text": [
      "Corpus Chunks:  80%|████████  | 20/25 [07:01<01:45, 21.04s/it]"
     ]
    },
    {
     "data": {
      "application/vnd.jupyter.widget-view+json": {
       "model_id": "aa249eaa1a1243cab1ec6dc9e015a840",
       "version_major": 2,
       "version_minor": 0
      },
      "text/plain": [
       "Batches:   0%|          | 0/1563 [00:00<?, ?it/s]"
      ]
     },
     "metadata": {},
     "output_type": "display_data"
    },
    {
     "name": "stderr",
     "output_type": "stream",
     "text": [
      "Corpus Chunks:  84%|████████▍ | 21/25 [07:22<01:24, 21.04s/it]"
     ]
    },
    {
     "data": {
      "application/vnd.jupyter.widget-view+json": {
       "model_id": "9f481204bb5e40a38531e89ba19a9947",
       "version_major": 2,
       "version_minor": 0
      },
      "text/plain": [
       "Batches:   0%|          | 0/1563 [00:00<?, ?it/s]"
      ]
     },
     "metadata": {},
     "output_type": "display_data"
    },
    {
     "name": "stderr",
     "output_type": "stream",
     "text": [
      "Corpus Chunks:  88%|████████▊ | 22/25 [07:43<01:03, 21.00s/it]"
     ]
    },
    {
     "data": {
      "application/vnd.jupyter.widget-view+json": {
       "model_id": "2acea6bffb314da3a322d4eeaf60916c",
       "version_major": 2,
       "version_minor": 0
      },
      "text/plain": [
       "Batches:   0%|          | 0/1563 [00:00<?, ?it/s]"
      ]
     },
     "metadata": {},
     "output_type": "display_data"
    },
    {
     "name": "stderr",
     "output_type": "stream",
     "text": [
      "Corpus Chunks:  92%|█████████▏| 23/25 [08:04<00:42, 21.14s/it]"
     ]
    },
    {
     "data": {
      "application/vnd.jupyter.widget-view+json": {
       "model_id": "8045b66f50dc423d9178886fc970fa39",
       "version_major": 2,
       "version_minor": 0
      },
      "text/plain": [
       "Batches:   0%|          | 0/1563 [00:00<?, ?it/s]"
      ]
     },
     "metadata": {},
     "output_type": "display_data"
    },
    {
     "name": "stderr",
     "output_type": "stream",
     "text": [
      "Corpus Chunks:  96%|█████████▌| 24/25 [08:26<00:21, 21.38s/it]"
     ]
    },
    {
     "data": {
      "application/vnd.jupyter.widget-view+json": {
       "model_id": "ddb56bd229eb4257959ae3276cd71fbe",
       "version_major": 2,
       "version_minor": 0
      },
      "text/plain": [
       "Batches:   0%|          | 0/276 [00:00<?, ?it/s]"
      ]
     },
     "metadata": {},
     "output_type": "display_data"
    },
    {
     "name": "stderr",
     "output_type": "stream",
     "text": [
      "Corpus Chunks: 100%|██████████| 25/25 [08:30<00:00, 20.43s/it]\n"
     ]
    },
    {
     "data": {
      "application/vnd.jupyter.widget-view+json": {
       "model_id": "590ff296d22c40ab9ca7257136684d3a",
       "version_major": 2,
       "version_minor": 0
      },
      "text/plain": [
       "Batches:   0%|          | 0/5 [00:00<?, ?it/s]"
      ]
     },
     "metadata": {},
     "output_type": "display_data"
    },
    {
     "name": "stderr",
     "output_type": "stream",
     "text": [
      "Corpus Chunks:   0%|          | 0/25 [00:00<?, ?it/s]"
     ]
    },
    {
     "data": {
      "application/vnd.jupyter.widget-view+json": {
       "model_id": "5387dc2cced6445fa1a4ae9d0aeba538",
       "version_major": 2,
       "version_minor": 0
      },
      "text/plain": [
       "Batches:   0%|          | 0/1563 [00:00<?, ?it/s]"
      ]
     },
     "metadata": {},
     "output_type": "display_data"
    },
    {
     "name": "stderr",
     "output_type": "stream",
     "text": [
      "Corpus Chunks:   4%|▍         | 1/25 [00:21<08:32, 21.36s/it]"
     ]
    },
    {
     "data": {
      "application/vnd.jupyter.widget-view+json": {
       "model_id": "9a431c7a0fac49a0bb0cb84af2058378",
       "version_major": 2,
       "version_minor": 0
      },
      "text/plain": [
       "Batches:   0%|          | 0/1563 [00:00<?, ?it/s]"
      ]
     },
     "metadata": {},
     "output_type": "display_data"
    },
    {
     "name": "stderr",
     "output_type": "stream",
     "text": [
      "Corpus Chunks:   8%|▊         | 2/25 [00:42<08:05, 21.11s/it]"
     ]
    },
    {
     "data": {
      "application/vnd.jupyter.widget-view+json": {
       "model_id": "56fca721a0bb4fa2a093be5638a4437d",
       "version_major": 2,
       "version_minor": 0
      },
      "text/plain": [
       "Batches:   0%|          | 0/1563 [00:00<?, ?it/s]"
      ]
     },
     "metadata": {},
     "output_type": "display_data"
    },
    {
     "name": "stderr",
     "output_type": "stream",
     "text": [
      "Corpus Chunks:  12%|█▏        | 3/25 [01:03<07:48, 21.27s/it]"
     ]
    },
    {
     "data": {
      "application/vnd.jupyter.widget-view+json": {
       "model_id": "aeb0675a388a4be99ed2047275e73995",
       "version_major": 2,
       "version_minor": 0
      },
      "text/plain": [
       "Batches:   0%|          | 0/1563 [00:00<?, ?it/s]"
      ]
     },
     "metadata": {},
     "output_type": "display_data"
    },
    {
     "name": "stderr",
     "output_type": "stream",
     "text": [
      "Corpus Chunks:  16%|█▌        | 4/25 [01:24<07:23, 21.12s/it]"
     ]
    },
    {
     "data": {
      "application/vnd.jupyter.widget-view+json": {
       "model_id": "aee0a60c6aa94e83a01c69e97c31e398",
       "version_major": 2,
       "version_minor": 0
      },
      "text/plain": [
       "Batches:   0%|          | 0/1563 [00:00<?, ?it/s]"
      ]
     },
     "metadata": {},
     "output_type": "display_data"
    },
    {
     "name": "stderr",
     "output_type": "stream",
     "text": [
      "Corpus Chunks:  20%|██        | 5/25 [01:46<07:08, 21.43s/it]"
     ]
    },
    {
     "data": {
      "application/vnd.jupyter.widget-view+json": {
       "model_id": "adb2c52826d7440fb6b3c8f07d19d4b1",
       "version_major": 2,
       "version_minor": 0
      },
      "text/plain": [
       "Batches:   0%|          | 0/1563 [00:00<?, ?it/s]"
      ]
     },
     "metadata": {},
     "output_type": "display_data"
    },
    {
     "name": "stderr",
     "output_type": "stream",
     "text": [
      "Corpus Chunks:  24%|██▍       | 6/25 [02:08<06:50, 21.63s/it]"
     ]
    },
    {
     "data": {
      "application/vnd.jupyter.widget-view+json": {
       "model_id": "54bacbbfce8a4e70808bc6373a046344",
       "version_major": 2,
       "version_minor": 0
      },
      "text/plain": [
       "Batches:   0%|          | 0/1563 [00:00<?, ?it/s]"
      ]
     },
     "metadata": {},
     "output_type": "display_data"
    },
    {
     "name": "stderr",
     "output_type": "stream",
     "text": [
      "Corpus Chunks:  28%|██▊       | 7/25 [02:29<06:27, 21.53s/it]"
     ]
    },
    {
     "data": {
      "application/vnd.jupyter.widget-view+json": {
       "model_id": "af6d245c9fe44f339b3e05cbac4f4f6e",
       "version_major": 2,
       "version_minor": 0
      },
      "text/plain": [
       "Batches:   0%|          | 0/1563 [00:00<?, ?it/s]"
      ]
     },
     "metadata": {},
     "output_type": "display_data"
    },
    {
     "name": "stderr",
     "output_type": "stream",
     "text": [
      "Corpus Chunks:  32%|███▏      | 8/25 [02:51<06:04, 21.43s/it]"
     ]
    },
    {
     "data": {
      "application/vnd.jupyter.widget-view+json": {
       "model_id": "223359009e654eb7b0c291889d4d5c94",
       "version_major": 2,
       "version_minor": 0
      },
      "text/plain": [
       "Batches:   0%|          | 0/1563 [00:00<?, ?it/s]"
      ]
     },
     "metadata": {},
     "output_type": "display_data"
    },
    {
     "name": "stderr",
     "output_type": "stream",
     "text": [
      "Corpus Chunks:  36%|███▌      | 9/25 [03:12<05:42, 21.39s/it]"
     ]
    },
    {
     "data": {
      "application/vnd.jupyter.widget-view+json": {
       "model_id": "f92fb81561174193977ac67e496f902a",
       "version_major": 2,
       "version_minor": 0
      },
      "text/plain": [
       "Batches:   0%|          | 0/1563 [00:00<?, ?it/s]"
      ]
     },
     "metadata": {},
     "output_type": "display_data"
    },
    {
     "name": "stderr",
     "output_type": "stream",
     "text": [
      "Corpus Chunks:  40%|████      | 10/25 [03:33<05:20, 21.39s/it]"
     ]
    },
    {
     "data": {
      "application/vnd.jupyter.widget-view+json": {
       "model_id": "2f38932a8a3847318bbb77b5cd5233bf",
       "version_major": 2,
       "version_minor": 0
      },
      "text/plain": [
       "Batches:   0%|          | 0/1563 [00:00<?, ?it/s]"
      ]
     },
     "metadata": {},
     "output_type": "display_data"
    },
    {
     "name": "stderr",
     "output_type": "stream",
     "text": [
      "Corpus Chunks:  44%|████▍     | 11/25 [03:56<05:02, 21.62s/it]"
     ]
    },
    {
     "data": {
      "application/vnd.jupyter.widget-view+json": {
       "model_id": "63ba84f08b0f4ec691c3a026589e598b",
       "version_major": 2,
       "version_minor": 0
      },
      "text/plain": [
       "Batches:   0%|          | 0/1563 [00:00<?, ?it/s]"
      ]
     },
     "metadata": {},
     "output_type": "display_data"
    },
    {
     "name": "stderr",
     "output_type": "stream",
     "text": [
      "Corpus Chunks:  48%|████▊     | 12/25 [04:17<04:41, 21.65s/it]"
     ]
    },
    {
     "data": {
      "application/vnd.jupyter.widget-view+json": {
       "model_id": "2ce97cf7838d451a86e79c5abb28f3ca",
       "version_major": 2,
       "version_minor": 0
      },
      "text/plain": [
       "Batches:   0%|          | 0/1563 [00:00<?, ?it/s]"
      ]
     },
     "metadata": {},
     "output_type": "display_data"
    },
    {
     "name": "stderr",
     "output_type": "stream",
     "text": [
      "Corpus Chunks:  52%|█████▏    | 13/25 [04:39<04:18, 21.56s/it]"
     ]
    },
    {
     "data": {
      "application/vnd.jupyter.widget-view+json": {
       "model_id": "88d2f02032584a3eb01dbf3191521b61",
       "version_major": 2,
       "version_minor": 0
      },
      "text/plain": [
       "Batches:   0%|          | 0/1563 [00:00<?, ?it/s]"
      ]
     },
     "metadata": {},
     "output_type": "display_data"
    },
    {
     "name": "stderr",
     "output_type": "stream",
     "text": [
      "Corpus Chunks:  56%|█████▌    | 14/25 [05:00<03:55, 21.42s/it]"
     ]
    },
    {
     "data": {
      "application/vnd.jupyter.widget-view+json": {
       "model_id": "40f090baf9bb4192aa9474a2fc6f190c",
       "version_major": 2,
       "version_minor": 0
      },
      "text/plain": [
       "Batches:   0%|          | 0/1563 [00:00<?, ?it/s]"
      ]
     },
     "metadata": {},
     "output_type": "display_data"
    },
    {
     "name": "stderr",
     "output_type": "stream",
     "text": [
      "Corpus Chunks:  60%|██████    | 15/25 [05:21<03:33, 21.34s/it]"
     ]
    },
    {
     "data": {
      "application/vnd.jupyter.widget-view+json": {
       "model_id": "80e284b9960c419c8900eda4c19c1578",
       "version_major": 2,
       "version_minor": 0
      },
      "text/plain": [
       "Batches:   0%|          | 0/1563 [00:00<?, ?it/s]"
      ]
     },
     "metadata": {},
     "output_type": "display_data"
    },
    {
     "name": "stderr",
     "output_type": "stream",
     "text": [
      "Corpus Chunks:  64%|██████▍   | 16/25 [05:42<03:10, 21.20s/it]"
     ]
    },
    {
     "data": {
      "application/vnd.jupyter.widget-view+json": {
       "model_id": "c44b909a81e2454f88e6076c40c4d65c",
       "version_major": 2,
       "version_minor": 0
      },
      "text/plain": [
       "Batches:   0%|          | 0/1563 [00:00<?, ?it/s]"
      ]
     },
     "metadata": {},
     "output_type": "display_data"
    },
    {
     "name": "stderr",
     "output_type": "stream",
     "text": [
      "Corpus Chunks:  68%|██████▊   | 17/25 [06:03<02:49, 21.22s/it]"
     ]
    },
    {
     "data": {
      "application/vnd.jupyter.widget-view+json": {
       "model_id": "e18476be3b4a4a9686fb6c0d7a6f1ac4",
       "version_major": 2,
       "version_minor": 0
      },
      "text/plain": [
       "Batches:   0%|          | 0/1563 [00:00<?, ?it/s]"
      ]
     },
     "metadata": {},
     "output_type": "display_data"
    },
    {
     "name": "stderr",
     "output_type": "stream",
     "text": [
      "Corpus Chunks:  72%|███████▏  | 18/25 [06:24<02:27, 21.10s/it]"
     ]
    },
    {
     "data": {
      "application/vnd.jupyter.widget-view+json": {
       "model_id": "dbc07644effb47558c28e9d2e8a92203",
       "version_major": 2,
       "version_minor": 0
      },
      "text/plain": [
       "Batches:   0%|          | 0/1563 [00:00<?, ?it/s]"
      ]
     },
     "metadata": {},
     "output_type": "display_data"
    },
    {
     "name": "stderr",
     "output_type": "stream",
     "text": [
      "Corpus Chunks:  76%|███████▌  | 19/25 [06:44<02:05, 20.96s/it]"
     ]
    },
    {
     "data": {
      "application/vnd.jupyter.widget-view+json": {
       "model_id": "6a373c7075594e0099cee375d499d17e",
       "version_major": 2,
       "version_minor": 0
      },
      "text/plain": [
       "Batches:   0%|          | 0/1563 [00:00<?, ?it/s]"
      ]
     },
     "metadata": {},
     "output_type": "display_data"
    },
    {
     "name": "stderr",
     "output_type": "stream",
     "text": [
      "Corpus Chunks:  80%|████████  | 20/25 [07:05<01:44, 20.89s/it]"
     ]
    },
    {
     "data": {
      "application/vnd.jupyter.widget-view+json": {
       "model_id": "a0a3b5d6867e444daa8f8f658160097f",
       "version_major": 2,
       "version_minor": 0
      },
      "text/plain": [
       "Batches:   0%|          | 0/1563 [00:00<?, ?it/s]"
      ]
     },
     "metadata": {},
     "output_type": "display_data"
    },
    {
     "name": "stderr",
     "output_type": "stream",
     "text": [
      "Corpus Chunks:  84%|████████▍ | 21/25 [07:26<01:23, 20.87s/it]"
     ]
    },
    {
     "data": {
      "application/vnd.jupyter.widget-view+json": {
       "model_id": "893ad0c457f64d60a8b2c8990312f43f",
       "version_major": 2,
       "version_minor": 0
      },
      "text/plain": [
       "Batches:   0%|          | 0/1563 [00:00<?, ?it/s]"
      ]
     },
     "metadata": {},
     "output_type": "display_data"
    },
    {
     "name": "stderr",
     "output_type": "stream",
     "text": [
      "Corpus Chunks:  88%|████████▊ | 22/25 [07:47<01:02, 20.91s/it]"
     ]
    },
    {
     "data": {
      "application/vnd.jupyter.widget-view+json": {
       "model_id": "cfc5d00010af4c2eb52e59491a96eb4f",
       "version_major": 2,
       "version_minor": 0
      },
      "text/plain": [
       "Batches:   0%|          | 0/1563 [00:00<?, ?it/s]"
      ]
     },
     "metadata": {},
     "output_type": "display_data"
    },
    {
     "name": "stderr",
     "output_type": "stream",
     "text": [
      "Corpus Chunks:  92%|█████████▏| 23/25 [08:07<00:41, 20.79s/it]"
     ]
    },
    {
     "data": {
      "application/vnd.jupyter.widget-view+json": {
       "model_id": "cae53cc807264eafa92e0c117a0f32f6",
       "version_major": 2,
       "version_minor": 0
      },
      "text/plain": [
       "Batches:   0%|          | 0/1563 [00:00<?, ?it/s]"
      ]
     },
     "metadata": {},
     "output_type": "display_data"
    },
    {
     "name": "stderr",
     "output_type": "stream",
     "text": [
      "Corpus Chunks:  96%|█████████▌| 24/25 [08:29<00:20, 20.87s/it]"
     ]
    },
    {
     "data": {
      "application/vnd.jupyter.widget-view+json": {
       "model_id": "7bde663e9e3c4c34b23d711755a9a0a3",
       "version_major": 2,
       "version_minor": 0
      },
      "text/plain": [
       "Batches:   0%|          | 0/276 [00:00<?, ?it/s]"
      ]
     },
     "metadata": {},
     "output_type": "display_data"
    },
    {
     "name": "stderr",
     "output_type": "stream",
     "text": [
      "Corpus Chunks: 100%|██████████| 25/25 [08:32<00:00, 20.51s/it]\n"
     ]
    },
    {
     "data": {
      "application/vnd.jupyter.widget-view+json": {
       "model_id": "100c4b1fc4bf43a6b0a9d919d1eecc4e",
       "version_major": 2,
       "version_minor": 0
      },
      "text/plain": [
       "Batches:   0%|          | 0/5 [00:00<?, ?it/s]"
      ]
     },
     "metadata": {},
     "output_type": "display_data"
    },
    {
     "name": "stderr",
     "output_type": "stream",
     "text": [
      "Corpus Chunks:   0%|          | 0/25 [00:00<?, ?it/s]"
     ]
    },
    {
     "data": {
      "application/vnd.jupyter.widget-view+json": {
       "model_id": "02ccb48d56374bfd91a72a10a8614ea3",
       "version_major": 2,
       "version_minor": 0
      },
      "text/plain": [
       "Batches:   0%|          | 0/1563 [00:00<?, ?it/s]"
      ]
     },
     "metadata": {},
     "output_type": "display_data"
    },
    {
     "name": "stderr",
     "output_type": "stream",
     "text": [
      "Corpus Chunks:   4%|▍         | 1/25 [00:21<08:31, 21.30s/it]"
     ]
    },
    {
     "data": {
      "application/vnd.jupyter.widget-view+json": {
       "model_id": "b9a115a529fe49da92d78586db85eedc",
       "version_major": 2,
       "version_minor": 0
      },
      "text/plain": [
       "Batches:   0%|          | 0/1563 [00:00<?, ?it/s]"
      ]
     },
     "metadata": {},
     "output_type": "display_data"
    },
    {
     "name": "stderr",
     "output_type": "stream",
     "text": [
      "Corpus Chunks:   8%|▊         | 2/25 [00:42<08:07, 21.21s/it]"
     ]
    },
    {
     "data": {
      "application/vnd.jupyter.widget-view+json": {
       "model_id": "7ac00ca424a043de9943f2b25e6034f3",
       "version_major": 2,
       "version_minor": 0
      },
      "text/plain": [
       "Batches:   0%|          | 0/1563 [00:00<?, ?it/s]"
      ]
     },
     "metadata": {},
     "output_type": "display_data"
    },
    {
     "name": "stderr",
     "output_type": "stream",
     "text": [
      "Corpus Chunks:  12%|█▏        | 3/25 [01:03<07:46, 21.21s/it]"
     ]
    },
    {
     "data": {
      "application/vnd.jupyter.widget-view+json": {
       "model_id": "9041258c47ed45c5a9b902a7bcf4284e",
       "version_major": 2,
       "version_minor": 0
      },
      "text/plain": [
       "Batches:   0%|          | 0/1563 [00:00<?, ?it/s]"
      ]
     },
     "metadata": {},
     "output_type": "display_data"
    },
    {
     "name": "stderr",
     "output_type": "stream",
     "text": [
      "Corpus Chunks:  16%|█▌        | 4/25 [01:24<07:25, 21.19s/it]"
     ]
    },
    {
     "data": {
      "application/vnd.jupyter.widget-view+json": {
       "model_id": "94d583ca5cac4459a6ac0bba30c0368c",
       "version_major": 2,
       "version_minor": 0
      },
      "text/plain": [
       "Batches:   0%|          | 0/1563 [00:00<?, ?it/s]"
      ]
     },
     "metadata": {},
     "output_type": "display_data"
    },
    {
     "name": "stderr",
     "output_type": "stream",
     "text": [
      "Corpus Chunks:  20%|██        | 5/25 [01:45<07:00, 21.03s/it]"
     ]
    },
    {
     "data": {
      "application/vnd.jupyter.widget-view+json": {
       "model_id": "7cc478f8809b41829720d875b7b6e778",
       "version_major": 2,
       "version_minor": 0
      },
      "text/plain": [
       "Batches:   0%|          | 0/1563 [00:00<?, ?it/s]"
      ]
     },
     "metadata": {},
     "output_type": "display_data"
    },
    {
     "name": "stderr",
     "output_type": "stream",
     "text": [
      "Corpus Chunks:  24%|██▍       | 6/25 [02:06<06:41, 21.12s/it]"
     ]
    },
    {
     "data": {
      "application/vnd.jupyter.widget-view+json": {
       "model_id": "fd56ae09d67947f790e4816c74157235",
       "version_major": 2,
       "version_minor": 0
      },
      "text/plain": [
       "Batches:   0%|          | 0/1563 [00:00<?, ?it/s]"
      ]
     },
     "metadata": {},
     "output_type": "display_data"
    },
    {
     "name": "stderr",
     "output_type": "stream",
     "text": [
      "Corpus Chunks:  28%|██▊       | 7/25 [02:27<06:19, 21.06s/it]"
     ]
    },
    {
     "data": {
      "application/vnd.jupyter.widget-view+json": {
       "model_id": "446fc56dc1d04c37a880635f018cb372",
       "version_major": 2,
       "version_minor": 0
      },
      "text/plain": [
       "Batches:   0%|          | 0/1563 [00:00<?, ?it/s]"
      ]
     },
     "metadata": {},
     "output_type": "display_data"
    },
    {
     "name": "stderr",
     "output_type": "stream",
     "text": [
      "Corpus Chunks:  32%|███▏      | 8/25 [02:48<05:57, 21.02s/it]"
     ]
    },
    {
     "data": {
      "application/vnd.jupyter.widget-view+json": {
       "model_id": "09069f83811f4c93850f2336d0300178",
       "version_major": 2,
       "version_minor": 0
      },
      "text/plain": [
       "Batches:   0%|          | 0/1563 [00:00<?, ?it/s]"
      ]
     },
     "metadata": {},
     "output_type": "display_data"
    },
    {
     "name": "stderr",
     "output_type": "stream",
     "text": [
      "Corpus Chunks:  36%|███▌      | 9/25 [03:09<05:35, 20.98s/it]"
     ]
    },
    {
     "data": {
      "application/vnd.jupyter.widget-view+json": {
       "model_id": "384789b0e6284dcab839803ccbce979f",
       "version_major": 2,
       "version_minor": 0
      },
      "text/plain": [
       "Batches:   0%|          | 0/1563 [00:00<?, ?it/s]"
      ]
     },
     "metadata": {},
     "output_type": "display_data"
    },
    {
     "name": "stderr",
     "output_type": "stream",
     "text": [
      "Corpus Chunks:  40%|████      | 10/25 [03:30<05:14, 20.94s/it]"
     ]
    },
    {
     "data": {
      "application/vnd.jupyter.widget-view+json": {
       "model_id": "99b4a5adf67c4977b5d3fae0d770fa41",
       "version_major": 2,
       "version_minor": 0
      },
      "text/plain": [
       "Batches:   0%|          | 0/1563 [00:00<?, ?it/s]"
      ]
     },
     "metadata": {},
     "output_type": "display_data"
    },
    {
     "name": "stderr",
     "output_type": "stream",
     "text": [
      "Corpus Chunks:  44%|████▍     | 11/25 [03:51<04:52, 20.86s/it]"
     ]
    },
    {
     "data": {
      "application/vnd.jupyter.widget-view+json": {
       "model_id": "ae13aae0bc234577a4e724350a209b90",
       "version_major": 2,
       "version_minor": 0
      },
      "text/plain": [
       "Batches:   0%|          | 0/1563 [00:00<?, ?it/s]"
      ]
     },
     "metadata": {},
     "output_type": "display_data"
    },
    {
     "name": "stderr",
     "output_type": "stream",
     "text": [
      "Corpus Chunks:  48%|████▊     | 12/25 [04:12<04:31, 20.90s/it]"
     ]
    },
    {
     "data": {
      "application/vnd.jupyter.widget-view+json": {
       "model_id": "f7e362a5e2fd4b7199a15d3471139753",
       "version_major": 2,
       "version_minor": 0
      },
      "text/plain": [
       "Batches:   0%|          | 0/1563 [00:00<?, ?it/s]"
      ]
     },
     "metadata": {},
     "output_type": "display_data"
    },
    {
     "name": "stderr",
     "output_type": "stream",
     "text": [
      "Corpus Chunks:  52%|█████▏    | 13/25 [04:33<04:10, 20.91s/it]"
     ]
    },
    {
     "data": {
      "application/vnd.jupyter.widget-view+json": {
       "model_id": "4049cce5de5f4e5e90a273eccaa0fd98",
       "version_major": 2,
       "version_minor": 0
      },
      "text/plain": [
       "Batches:   0%|          | 0/1563 [00:00<?, ?it/s]"
      ]
     },
     "metadata": {},
     "output_type": "display_data"
    },
    {
     "name": "stderr",
     "output_type": "stream",
     "text": [
      "Corpus Chunks:  56%|█████▌    | 14/25 [04:53<03:49, 20.84s/it]"
     ]
    },
    {
     "data": {
      "application/vnd.jupyter.widget-view+json": {
       "model_id": "1f5d5783fd2340aa9fa40a5f1502d2e8",
       "version_major": 2,
       "version_minor": 0
      },
      "text/plain": [
       "Batches:   0%|          | 0/1563 [00:00<?, ?it/s]"
      ]
     },
     "metadata": {},
     "output_type": "display_data"
    },
    {
     "name": "stderr",
     "output_type": "stream",
     "text": [
      "Corpus Chunks:  60%|██████    | 15/25 [05:14<03:28, 20.87s/it]"
     ]
    },
    {
     "data": {
      "application/vnd.jupyter.widget-view+json": {
       "model_id": "6ea0fbace52549ecb1d173868d38d0eb",
       "version_major": 2,
       "version_minor": 0
      },
      "text/plain": [
       "Batches:   0%|          | 0/1563 [00:00<?, ?it/s]"
      ]
     },
     "metadata": {},
     "output_type": "display_data"
    },
    {
     "name": "stderr",
     "output_type": "stream",
     "text": [
      "Corpus Chunks:  64%|██████▍   | 16/25 [05:35<03:06, 20.77s/it]"
     ]
    },
    {
     "data": {
      "application/vnd.jupyter.widget-view+json": {
       "model_id": "23b7cbb628b74da3862e48656a992bbc",
       "version_major": 2,
       "version_minor": 0
      },
      "text/plain": [
       "Batches:   0%|          | 0/1563 [00:00<?, ?it/s]"
      ]
     },
     "metadata": {},
     "output_type": "display_data"
    },
    {
     "name": "stderr",
     "output_type": "stream",
     "text": [
      "Corpus Chunks:  68%|██████▊   | 17/25 [05:56<02:46, 20.86s/it]"
     ]
    },
    {
     "data": {
      "application/vnd.jupyter.widget-view+json": {
       "model_id": "923171b6c2314d128bac8c6f83c1957e",
       "version_major": 2,
       "version_minor": 0
      },
      "text/plain": [
       "Batches:   0%|          | 0/1563 [00:00<?, ?it/s]"
      ]
     },
     "metadata": {},
     "output_type": "display_data"
    },
    {
     "name": "stderr",
     "output_type": "stream",
     "text": [
      "Corpus Chunks:  72%|███████▏  | 18/25 [06:17<02:25, 20.84s/it]"
     ]
    },
    {
     "data": {
      "application/vnd.jupyter.widget-view+json": {
       "model_id": "c30ee34a0157476ea37add0d9ae091bc",
       "version_major": 2,
       "version_minor": 0
      },
      "text/plain": [
       "Batches:   0%|          | 0/1563 [00:00<?, ?it/s]"
      ]
     },
     "metadata": {},
     "output_type": "display_data"
    },
    {
     "name": "stderr",
     "output_type": "stream",
     "text": [
      "Corpus Chunks:  76%|███████▌  | 19/25 [06:37<02:04, 20.82s/it]"
     ]
    },
    {
     "data": {
      "application/vnd.jupyter.widget-view+json": {
       "model_id": "9be2bc0e20a4439bae92655f4098cf10",
       "version_major": 2,
       "version_minor": 0
      },
      "text/plain": [
       "Batches:   0%|          | 0/1563 [00:00<?, ?it/s]"
      ]
     },
     "metadata": {},
     "output_type": "display_data"
    },
    {
     "name": "stderr",
     "output_type": "stream",
     "text": [
      "Corpus Chunks:  80%|████████  | 20/25 [06:58<01:43, 20.78s/it]"
     ]
    },
    {
     "data": {
      "application/vnd.jupyter.widget-view+json": {
       "model_id": "b27bc27e6c664fa9a37db4d374622e3b",
       "version_major": 2,
       "version_minor": 0
      },
      "text/plain": [
       "Batches:   0%|          | 0/1563 [00:00<?, ?it/s]"
      ]
     },
     "metadata": {},
     "output_type": "display_data"
    },
    {
     "name": "stderr",
     "output_type": "stream",
     "text": [
      "Corpus Chunks:  84%|████████▍ | 21/25 [07:19<01:23, 20.77s/it]"
     ]
    },
    {
     "data": {
      "application/vnd.jupyter.widget-view+json": {
       "model_id": "acfac50ab9e347219531cd18936cbbe6",
       "version_major": 2,
       "version_minor": 0
      },
      "text/plain": [
       "Batches:   0%|          | 0/1563 [00:00<?, ?it/s]"
      ]
     },
     "metadata": {},
     "output_type": "display_data"
    },
    {
     "name": "stderr",
     "output_type": "stream",
     "text": [
      "Corpus Chunks:  88%|████████▊ | 22/25 [07:40<01:02, 20.83s/it]"
     ]
    },
    {
     "data": {
      "application/vnd.jupyter.widget-view+json": {
       "model_id": "15c06a4940c442c5bb78fa0e31b18533",
       "version_major": 2,
       "version_minor": 0
      },
      "text/plain": [
       "Batches:   0%|          | 0/1563 [00:00<?, ?it/s]"
      ]
     },
     "metadata": {},
     "output_type": "display_data"
    },
    {
     "name": "stderr",
     "output_type": "stream",
     "text": [
      "Corpus Chunks:  92%|█████████▏| 23/25 [08:01<00:42, 21.07s/it]"
     ]
    },
    {
     "data": {
      "application/vnd.jupyter.widget-view+json": {
       "model_id": "9e1ac80874344e6aa0b6395b5fb7a424",
       "version_major": 2,
       "version_minor": 0
      },
      "text/plain": [
       "Batches:   0%|          | 0/1563 [00:00<?, ?it/s]"
      ]
     },
     "metadata": {},
     "output_type": "display_data"
    },
    {
     "name": "stderr",
     "output_type": "stream",
     "text": [
      "Corpus Chunks:  96%|█████████▌| 24/25 [08:23<00:21, 21.14s/it]"
     ]
    },
    {
     "data": {
      "application/vnd.jupyter.widget-view+json": {
       "model_id": "ec6718d69be4448dba19be8e0f02d737",
       "version_major": 2,
       "version_minor": 0
      },
      "text/plain": [
       "Batches:   0%|          | 0/276 [00:00<?, ?it/s]"
      ]
     },
     "metadata": {},
     "output_type": "display_data"
    },
    {
     "name": "stderr",
     "output_type": "stream",
     "text": [
      "Corpus Chunks: 100%|██████████| 25/25 [08:27<00:00, 20.29s/it]\n"
     ]
    },
    {
     "data": {
      "application/vnd.jupyter.widget-view+json": {
       "model_id": "7fc5810e9fea4fbda26de39fc7971f90",
       "version_major": 2,
       "version_minor": 0
      },
      "text/plain": [
       "Batches:   0%|          | 0/5 [00:00<?, ?it/s]"
      ]
     },
     "metadata": {},
     "output_type": "display_data"
    },
    {
     "name": "stderr",
     "output_type": "stream",
     "text": [
      "Corpus Chunks:   0%|          | 0/25 [00:00<?, ?it/s]"
     ]
    },
    {
     "data": {
      "application/vnd.jupyter.widget-view+json": {
       "model_id": "8ceced44847f4fed8a11fc00205fc26d",
       "version_major": 2,
       "version_minor": 0
      },
      "text/plain": [
       "Batches:   0%|          | 0/1563 [00:00<?, ?it/s]"
      ]
     },
     "metadata": {},
     "output_type": "display_data"
    },
    {
     "name": "stderr",
     "output_type": "stream",
     "text": [
      "Corpus Chunks:   4%|▍         | 1/25 [00:20<08:20, 20.87s/it]"
     ]
    },
    {
     "data": {
      "application/vnd.jupyter.widget-view+json": {
       "model_id": "0b032a09bd6b4531801c2bfc39a10731",
       "version_major": 2,
       "version_minor": 0
      },
      "text/plain": [
       "Batches:   0%|          | 0/1563 [00:00<?, ?it/s]"
      ]
     },
     "metadata": {},
     "output_type": "display_data"
    },
    {
     "name": "stderr",
     "output_type": "stream",
     "text": [
      "Corpus Chunks:   8%|▊         | 2/25 [00:41<08:01, 20.93s/it]"
     ]
    },
    {
     "data": {
      "application/vnd.jupyter.widget-view+json": {
       "model_id": "211de62291a54abcb7de9b5f5d3658dc",
       "version_major": 2,
       "version_minor": 0
      },
      "text/plain": [
       "Batches:   0%|          | 0/1563 [00:00<?, ?it/s]"
      ]
     },
     "metadata": {},
     "output_type": "display_data"
    },
    {
     "name": "stderr",
     "output_type": "stream",
     "text": [
      "Corpus Chunks:  12%|█▏        | 3/25 [01:02<07:39, 20.91s/it]"
     ]
    },
    {
     "data": {
      "application/vnd.jupyter.widget-view+json": {
       "model_id": "5e224c697546479c99f4154cccde5505",
       "version_major": 2,
       "version_minor": 0
      },
      "text/plain": [
       "Batches:   0%|          | 0/1563 [00:00<?, ?it/s]"
      ]
     },
     "metadata": {},
     "output_type": "display_data"
    },
    {
     "name": "stderr",
     "output_type": "stream",
     "text": [
      "Corpus Chunks:  16%|█▌        | 4/25 [01:23<07:17, 20.83s/it]"
     ]
    },
    {
     "data": {
      "application/vnd.jupyter.widget-view+json": {
       "model_id": "9cb42daefef04e5cb1a7f95cf60a6e89",
       "version_major": 2,
       "version_minor": 0
      },
      "text/plain": [
       "Batches:   0%|          | 0/1563 [00:00<?, ?it/s]"
      ]
     },
     "metadata": {},
     "output_type": "display_data"
    },
    {
     "name": "stderr",
     "output_type": "stream",
     "text": [
      "Corpus Chunks:  20%|██        | 5/25 [01:44<06:57, 20.85s/it]"
     ]
    },
    {
     "data": {
      "application/vnd.jupyter.widget-view+json": {
       "model_id": "0435d5e141834521b7b92933dbbf9026",
       "version_major": 2,
       "version_minor": 0
      },
      "text/plain": [
       "Batches:   0%|          | 0/1563 [00:00<?, ?it/s]"
      ]
     },
     "metadata": {},
     "output_type": "display_data"
    },
    {
     "name": "stderr",
     "output_type": "stream",
     "text": [
      "Corpus Chunks:  24%|██▍       | 6/25 [02:05<06:36, 20.86s/it]"
     ]
    },
    {
     "data": {
      "application/vnd.jupyter.widget-view+json": {
       "model_id": "33057c0212014fea863a9056a13e3694",
       "version_major": 2,
       "version_minor": 0
      },
      "text/plain": [
       "Batches:   0%|          | 0/1563 [00:00<?, ?it/s]"
      ]
     },
     "metadata": {},
     "output_type": "display_data"
    },
    {
     "name": "stderr",
     "output_type": "stream",
     "text": [
      "Corpus Chunks:  28%|██▊       | 7/25 [02:26<06:16, 20.89s/it]"
     ]
    },
    {
     "data": {
      "application/vnd.jupyter.widget-view+json": {
       "model_id": "128931136a3d4fcf8c328e751380291a",
       "version_major": 2,
       "version_minor": 0
      },
      "text/plain": [
       "Batches:   0%|          | 0/1563 [00:00<?, ?it/s]"
      ]
     },
     "metadata": {},
     "output_type": "display_data"
    },
    {
     "name": "stderr",
     "output_type": "stream",
     "text": [
      "Corpus Chunks:  32%|███▏      | 8/25 [02:47<05:55, 20.92s/it]"
     ]
    },
    {
     "data": {
      "application/vnd.jupyter.widget-view+json": {
       "model_id": "003769ba33004074a6127a2de9dd987c",
       "version_major": 2,
       "version_minor": 0
      },
      "text/plain": [
       "Batches:   0%|          | 0/1563 [00:00<?, ?it/s]"
      ]
     },
     "metadata": {},
     "output_type": "display_data"
    },
    {
     "name": "stderr",
     "output_type": "stream",
     "text": [
      "Corpus Chunks:  36%|███▌      | 9/25 [03:07<05:33, 20.83s/it]"
     ]
    },
    {
     "data": {
      "application/vnd.jupyter.widget-view+json": {
       "model_id": "144e1cce211b443eaf6e76e5aeefe21f",
       "version_major": 2,
       "version_minor": 0
      },
      "text/plain": [
       "Batches:   0%|          | 0/1563 [00:00<?, ?it/s]"
      ]
     },
     "metadata": {},
     "output_type": "display_data"
    },
    {
     "name": "stderr",
     "output_type": "stream",
     "text": [
      "Corpus Chunks:  40%|████      | 10/25 [03:28<05:13, 20.87s/it]"
     ]
    },
    {
     "data": {
      "application/vnd.jupyter.widget-view+json": {
       "model_id": "7962aa333ba34e52b1f0662bb652dc22",
       "version_major": 2,
       "version_minor": 0
      },
      "text/plain": [
       "Batches:   0%|          | 0/1563 [00:00<?, ?it/s]"
      ]
     },
     "metadata": {},
     "output_type": "display_data"
    },
    {
     "name": "stderr",
     "output_type": "stream",
     "text": [
      "Corpus Chunks:  44%|████▍     | 11/25 [03:49<04:51, 20.81s/it]"
     ]
    },
    {
     "data": {
      "application/vnd.jupyter.widget-view+json": {
       "model_id": "d82e5b4cff0c4546815b5f4280291e5f",
       "version_major": 2,
       "version_minor": 0
      },
      "text/plain": [
       "Batches:   0%|          | 0/1563 [00:00<?, ?it/s]"
      ]
     },
     "metadata": {},
     "output_type": "display_data"
    },
    {
     "name": "stderr",
     "output_type": "stream",
     "text": [
      "Corpus Chunks:  48%|████▊     | 12/25 [04:10<04:31, 20.85s/it]"
     ]
    },
    {
     "data": {
      "application/vnd.jupyter.widget-view+json": {
       "model_id": "881bd72c1de447c3bd770662413f50a7",
       "version_major": 2,
       "version_minor": 0
      },
      "text/plain": [
       "Batches:   0%|          | 0/1563 [00:00<?, ?it/s]"
      ]
     },
     "metadata": {},
     "output_type": "display_data"
    },
    {
     "name": "stderr",
     "output_type": "stream",
     "text": [
      "Corpus Chunks:  52%|█████▏    | 13/25 [04:31<04:10, 20.90s/it]"
     ]
    },
    {
     "data": {
      "application/vnd.jupyter.widget-view+json": {
       "model_id": "dcc5fdd31b7e41cdaae3c2674c30dc82",
       "version_major": 2,
       "version_minor": 0
      },
      "text/plain": [
       "Batches:   0%|          | 0/1563 [00:00<?, ?it/s]"
      ]
     },
     "metadata": {},
     "output_type": "display_data"
    },
    {
     "name": "stderr",
     "output_type": "stream",
     "text": [
      "Corpus Chunks:  56%|█████▌    | 14/25 [04:51<03:48, 20.80s/it]"
     ]
    },
    {
     "data": {
      "application/vnd.jupyter.widget-view+json": {
       "model_id": "26bcf4965dbf43e88c6bee90ad2e8801",
       "version_major": 2,
       "version_minor": 0
      },
      "text/plain": [
       "Batches:   0%|          | 0/1563 [00:00<?, ?it/s]"
      ]
     },
     "metadata": {},
     "output_type": "display_data"
    },
    {
     "name": "stderr",
     "output_type": "stream",
     "text": [
      "Corpus Chunks:  60%|██████    | 15/25 [05:12<03:27, 20.80s/it]"
     ]
    },
    {
     "data": {
      "application/vnd.jupyter.widget-view+json": {
       "model_id": "d8e65b96c3c343a39b245873bbdd826b",
       "version_major": 2,
       "version_minor": 0
      },
      "text/plain": [
       "Batches:   0%|          | 0/1563 [00:00<?, ?it/s]"
      ]
     },
     "metadata": {},
     "output_type": "display_data"
    },
    {
     "name": "stderr",
     "output_type": "stream",
     "text": [
      "Corpus Chunks:  64%|██████▍   | 16/25 [05:33<03:06, 20.74s/it]"
     ]
    },
    {
     "data": {
      "application/vnd.jupyter.widget-view+json": {
       "model_id": "e7459e2f452a409d9d7c352a524bb386",
       "version_major": 2,
       "version_minor": 0
      },
      "text/plain": [
       "Batches:   0%|          | 0/1563 [00:00<?, ?it/s]"
      ]
     },
     "metadata": {},
     "output_type": "display_data"
    },
    {
     "name": "stderr",
     "output_type": "stream",
     "text": [
      "Corpus Chunks:  68%|██████▊   | 17/25 [05:54<02:47, 20.91s/it]"
     ]
    },
    {
     "data": {
      "application/vnd.jupyter.widget-view+json": {
       "model_id": "c6ad780cb7894885b35aabbc80e020ba",
       "version_major": 2,
       "version_minor": 0
      },
      "text/plain": [
       "Batches:   0%|          | 0/1563 [00:00<?, ?it/s]"
      ]
     },
     "metadata": {},
     "output_type": "display_data"
    },
    {
     "name": "stderr",
     "output_type": "stream",
     "text": [
      "Corpus Chunks:  72%|███████▏  | 18/25 [06:16<02:27, 21.07s/it]"
     ]
    },
    {
     "data": {
      "application/vnd.jupyter.widget-view+json": {
       "model_id": "726d541107cd4b4e86d347f40d0d109b",
       "version_major": 2,
       "version_minor": 0
      },
      "text/plain": [
       "Batches:   0%|          | 0/1563 [00:00<?, ?it/s]"
      ]
     },
     "metadata": {},
     "output_type": "display_data"
    },
    {
     "name": "stderr",
     "output_type": "stream",
     "text": [
      "Corpus Chunks:  76%|███████▌  | 19/25 [06:36<02:05, 20.95s/it]"
     ]
    },
    {
     "data": {
      "application/vnd.jupyter.widget-view+json": {
       "model_id": "4abd63589cb94ca7998e4678e55ec9c0",
       "version_major": 2,
       "version_minor": 0
      },
      "text/plain": [
       "Batches:   0%|          | 0/1563 [00:00<?, ?it/s]"
      ]
     },
     "metadata": {},
     "output_type": "display_data"
    },
    {
     "name": "stderr",
     "output_type": "stream",
     "text": [
      "Corpus Chunks:  80%|████████  | 20/25 [06:57<01:44, 20.88s/it]"
     ]
    },
    {
     "data": {
      "application/vnd.jupyter.widget-view+json": {
       "model_id": "846059a6a0764c41b94a5cee2f77fdf2",
       "version_major": 2,
       "version_minor": 0
      },
      "text/plain": [
       "Batches:   0%|          | 0/1563 [00:00<?, ?it/s]"
      ]
     },
     "metadata": {},
     "output_type": "display_data"
    },
    {
     "name": "stderr",
     "output_type": "stream",
     "text": [
      "Corpus Chunks:  84%|████████▍ | 21/25 [07:18<01:23, 20.93s/it]"
     ]
    },
    {
     "data": {
      "application/vnd.jupyter.widget-view+json": {
       "model_id": "68b57405f2e7472daced8e90088257f9",
       "version_major": 2,
       "version_minor": 0
      },
      "text/plain": [
       "Batches:   0%|          | 0/1563 [00:00<?, ?it/s]"
      ]
     },
     "metadata": {},
     "output_type": "display_data"
    },
    {
     "name": "stderr",
     "output_type": "stream",
     "text": [
      "Corpus Chunks:  88%|████████▊ | 22/25 [07:39<01:02, 20.93s/it]"
     ]
    },
    {
     "data": {
      "application/vnd.jupyter.widget-view+json": {
       "model_id": "752801837bea456680db17ad71528290",
       "version_major": 2,
       "version_minor": 0
      },
      "text/plain": [
       "Batches:   0%|          | 0/1563 [00:00<?, ?it/s]"
      ]
     },
     "metadata": {},
     "output_type": "display_data"
    },
    {
     "name": "stderr",
     "output_type": "stream",
     "text": [
      "Corpus Chunks:  92%|█████████▏| 23/25 [08:00<00:41, 20.87s/it]"
     ]
    },
    {
     "data": {
      "application/vnd.jupyter.widget-view+json": {
       "model_id": "7064c57ed799404781f00994f7331480",
       "version_major": 2,
       "version_minor": 0
      },
      "text/plain": [
       "Batches:   0%|          | 0/1563 [00:00<?, ?it/s]"
      ]
     },
     "metadata": {},
     "output_type": "display_data"
    },
    {
     "name": "stderr",
     "output_type": "stream",
     "text": [
      "Corpus Chunks:  96%|█████████▌| 24/25 [08:21<00:20, 20.96s/it]"
     ]
    },
    {
     "data": {
      "application/vnd.jupyter.widget-view+json": {
       "model_id": "7ff478195ccc4897a091522cd4558d32",
       "version_major": 2,
       "version_minor": 0
      },
      "text/plain": [
       "Batches:   0%|          | 0/276 [00:00<?, ?it/s]"
      ]
     },
     "metadata": {},
     "output_type": "display_data"
    },
    {
     "name": "stderr",
     "output_type": "stream",
     "text": [
      "Corpus Chunks: 100%|██████████| 25/25 [08:25<00:00, 20.21s/it]\n"
     ]
    },
    {
     "data": {
      "application/vnd.jupyter.widget-view+json": {
       "model_id": "8b7516123705429d9a9cde33d791e547",
       "version_major": 2,
       "version_minor": 0
      },
      "text/plain": [
       "Batches:   0%|          | 0/5 [00:00<?, ?it/s]"
      ]
     },
     "metadata": {},
     "output_type": "display_data"
    },
    {
     "name": "stderr",
     "output_type": "stream",
     "text": [
      "Corpus Chunks:   0%|          | 0/25 [00:00<?, ?it/s]"
     ]
    },
    {
     "data": {
      "application/vnd.jupyter.widget-view+json": {
       "model_id": "9a0d6d8bdfbf416d9b9332aff967e72b",
       "version_major": 2,
       "version_minor": 0
      },
      "text/plain": [
       "Batches:   0%|          | 0/1563 [00:00<?, ?it/s]"
      ]
     },
     "metadata": {},
     "output_type": "display_data"
    },
    {
     "name": "stderr",
     "output_type": "stream",
     "text": [
      "Corpus Chunks:   4%|▍         | 1/25 [00:21<08:25, 21.06s/it]"
     ]
    },
    {
     "data": {
      "application/vnd.jupyter.widget-view+json": {
       "model_id": "cc76dd18a1f6487f889a0d4178ce1a1e",
       "version_major": 2,
       "version_minor": 0
      },
      "text/plain": [
       "Batches:   0%|          | 0/1563 [00:00<?, ?it/s]"
      ]
     },
     "metadata": {},
     "output_type": "display_data"
    },
    {
     "name": "stderr",
     "output_type": "stream",
     "text": [
      "Corpus Chunks:   8%|▊         | 2/25 [00:42<08:03, 21.04s/it]"
     ]
    },
    {
     "data": {
      "application/vnd.jupyter.widget-view+json": {
       "model_id": "8991a9137c7247c28922172dc6f2b0c7",
       "version_major": 2,
       "version_minor": 0
      },
      "text/plain": [
       "Batches:   0%|          | 0/1563 [00:00<?, ?it/s]"
      ]
     },
     "metadata": {},
     "output_type": "display_data"
    },
    {
     "name": "stderr",
     "output_type": "stream",
     "text": [
      "Corpus Chunks:  12%|█▏        | 3/25 [01:03<07:43, 21.08s/it]"
     ]
    },
    {
     "data": {
      "application/vnd.jupyter.widget-view+json": {
       "model_id": "c9c90684485e4dd19a40206658ba80df",
       "version_major": 2,
       "version_minor": 0
      },
      "text/plain": [
       "Batches:   0%|          | 0/1563 [00:00<?, ?it/s]"
      ]
     },
     "metadata": {},
     "output_type": "display_data"
    },
    {
     "name": "stderr",
     "output_type": "stream",
     "text": [
      "Corpus Chunks:  16%|█▌        | 4/25 [01:24<07:20, 20.98s/it]"
     ]
    },
    {
     "data": {
      "application/vnd.jupyter.widget-view+json": {
       "model_id": "ac2e9a99e863477ab21d047dde5d7c1c",
       "version_major": 2,
       "version_minor": 0
      },
      "text/plain": [
       "Batches:   0%|          | 0/1563 [00:00<?, ?it/s]"
      ]
     },
     "metadata": {},
     "output_type": "display_data"
    },
    {
     "name": "stderr",
     "output_type": "stream",
     "text": [
      "Corpus Chunks:  20%|██        | 5/25 [01:45<07:04, 21.22s/it]"
     ]
    },
    {
     "data": {
      "application/vnd.jupyter.widget-view+json": {
       "model_id": "0463323e10dc460da662414e5bed063a",
       "version_major": 2,
       "version_minor": 0
      },
      "text/plain": [
       "Batches:   0%|          | 0/1563 [00:00<?, ?it/s]"
      ]
     },
     "metadata": {},
     "output_type": "display_data"
    },
    {
     "name": "stderr",
     "output_type": "stream",
     "text": [
      "Corpus Chunks:  24%|██▍       | 6/25 [02:06<06:41, 21.15s/it]"
     ]
    },
    {
     "data": {
      "application/vnd.jupyter.widget-view+json": {
       "model_id": "08f5d88ffb6a483aab706eaa2e388741",
       "version_major": 2,
       "version_minor": 0
      },
      "text/plain": [
       "Batches:   0%|          | 0/1563 [00:00<?, ?it/s]"
      ]
     },
     "metadata": {},
     "output_type": "display_data"
    },
    {
     "name": "stderr",
     "output_type": "stream",
     "text": [
      "Corpus Chunks:  28%|██▊       | 7/25 [02:27<06:20, 21.14s/it]"
     ]
    },
    {
     "data": {
      "application/vnd.jupyter.widget-view+json": {
       "model_id": "8cb0d01b29f9457d96cfaeadd362989d",
       "version_major": 2,
       "version_minor": 0
      },
      "text/plain": [
       "Batches:   0%|          | 0/1563 [00:00<?, ?it/s]"
      ]
     },
     "metadata": {},
     "output_type": "display_data"
    },
    {
     "name": "stderr",
     "output_type": "stream",
     "text": [
      "Corpus Chunks:  32%|███▏      | 8/25 [02:49<05:59, 21.17s/it]"
     ]
    },
    {
     "data": {
      "application/vnd.jupyter.widget-view+json": {
       "model_id": "a2f9550f9693499c97c32b39e465436e",
       "version_major": 2,
       "version_minor": 0
      },
      "text/plain": [
       "Batches:   0%|          | 0/1563 [00:00<?, ?it/s]"
      ]
     },
     "metadata": {},
     "output_type": "display_data"
    },
    {
     "name": "stderr",
     "output_type": "stream",
     "text": [
      "Corpus Chunks:  36%|███▌      | 9/25 [03:09<05:37, 21.09s/it]"
     ]
    },
    {
     "data": {
      "application/vnd.jupyter.widget-view+json": {
       "model_id": "c5b451aa26524a18b4e313f35239610e",
       "version_major": 2,
       "version_minor": 0
      },
      "text/plain": [
       "Batches:   0%|          | 0/1563 [00:00<?, ?it/s]"
      ]
     },
     "metadata": {},
     "output_type": "display_data"
    },
    {
     "name": "stderr",
     "output_type": "stream",
     "text": [
      "Corpus Chunks:  40%|████      | 10/25 [03:30<05:15, 21.02s/it]"
     ]
    },
    {
     "data": {
      "application/vnd.jupyter.widget-view+json": {
       "model_id": "23039c4c39784708a2c5fab35ce2f777",
       "version_major": 2,
       "version_minor": 0
      },
      "text/plain": [
       "Batches:   0%|          | 0/1563 [00:00<?, ?it/s]"
      ]
     },
     "metadata": {},
     "output_type": "display_data"
    },
    {
     "name": "stderr",
     "output_type": "stream",
     "text": [
      "Corpus Chunks:  44%|████▍     | 11/25 [03:51<04:54, 21.04s/it]"
     ]
    },
    {
     "data": {
      "application/vnd.jupyter.widget-view+json": {
       "model_id": "d0349a40563048f8a5ae38077a9321bf",
       "version_major": 2,
       "version_minor": 0
      },
      "text/plain": [
       "Batches:   0%|          | 0/1563 [00:00<?, ?it/s]"
      ]
     },
     "metadata": {},
     "output_type": "display_data"
    },
    {
     "name": "stderr",
     "output_type": "stream",
     "text": [
      "Corpus Chunks:  48%|████▊     | 12/25 [04:13<04:34, 21.08s/it]"
     ]
    },
    {
     "data": {
      "application/vnd.jupyter.widget-view+json": {
       "model_id": "3ad12713533042f091381473f1204099",
       "version_major": 2,
       "version_minor": 0
      },
      "text/plain": [
       "Batches:   0%|          | 0/1563 [00:00<?, ?it/s]"
      ]
     },
     "metadata": {},
     "output_type": "display_data"
    },
    {
     "name": "stderr",
     "output_type": "stream",
     "text": [
      "Corpus Chunks:  52%|█████▏    | 13/25 [04:34<04:12, 21.08s/it]"
     ]
    },
    {
     "data": {
      "application/vnd.jupyter.widget-view+json": {
       "model_id": "aceba8a8585a4874a4851a1b8199bebf",
       "version_major": 2,
       "version_minor": 0
      },
      "text/plain": [
       "Batches:   0%|          | 0/1563 [00:00<?, ?it/s]"
      ]
     },
     "metadata": {},
     "output_type": "display_data"
    },
    {
     "name": "stderr",
     "output_type": "stream",
     "text": [
      "Corpus Chunks:  56%|█████▌    | 14/25 [04:54<03:50, 20.99s/it]"
     ]
    },
    {
     "data": {
      "application/vnd.jupyter.widget-view+json": {
       "model_id": "4285434ce0634df5a7f495f9ff816229",
       "version_major": 2,
       "version_minor": 0
      },
      "text/plain": [
       "Batches:   0%|          | 0/1563 [00:00<?, ?it/s]"
      ]
     },
     "metadata": {},
     "output_type": "display_data"
    },
    {
     "name": "stderr",
     "output_type": "stream",
     "text": [
      "Corpus Chunks:  60%|██████    | 15/25 [05:16<03:31, 21.12s/it]"
     ]
    },
    {
     "data": {
      "application/vnd.jupyter.widget-view+json": {
       "model_id": "27a5b8c6b6474df79a26ba79a4ebb8b1",
       "version_major": 2,
       "version_minor": 0
      },
      "text/plain": [
       "Batches:   0%|          | 0/1563 [00:00<?, ?it/s]"
      ]
     },
     "metadata": {},
     "output_type": "display_data"
    },
    {
     "name": "stderr",
     "output_type": "stream",
     "text": [
      "Corpus Chunks:  64%|██████▍   | 16/25 [05:37<03:10, 21.11s/it]"
     ]
    },
    {
     "data": {
      "application/vnd.jupyter.widget-view+json": {
       "model_id": "3bad9a1a2c86485e9a3d6707ca69da83",
       "version_major": 2,
       "version_minor": 0
      },
      "text/plain": [
       "Batches:   0%|          | 0/1563 [00:00<?, ?it/s]"
      ]
     },
     "metadata": {},
     "output_type": "display_data"
    },
    {
     "name": "stderr",
     "output_type": "stream",
     "text": [
      "Corpus Chunks:  68%|██████▊   | 17/25 [05:59<02:50, 21.31s/it]"
     ]
    },
    {
     "data": {
      "application/vnd.jupyter.widget-view+json": {
       "model_id": "19ae37bad6924c4ab2799fb6ab94e034",
       "version_major": 2,
       "version_minor": 0
      },
      "text/plain": [
       "Batches:   0%|          | 0/1563 [00:00<?, ?it/s]"
      ]
     },
     "metadata": {},
     "output_type": "display_data"
    },
    {
     "name": "stderr",
     "output_type": "stream",
     "text": [
      "Corpus Chunks:  72%|███████▏  | 18/25 [06:20<02:28, 21.19s/it]"
     ]
    },
    {
     "data": {
      "application/vnd.jupyter.widget-view+json": {
       "model_id": "b51e531565964be6af19851cd6a137af",
       "version_major": 2,
       "version_minor": 0
      },
      "text/plain": [
       "Batches:   0%|          | 0/1563 [00:00<?, ?it/s]"
      ]
     },
     "metadata": {},
     "output_type": "display_data"
    },
    {
     "name": "stderr",
     "output_type": "stream",
     "text": [
      "Corpus Chunks:  76%|███████▌  | 19/25 [06:40<02:06, 21.02s/it]"
     ]
    },
    {
     "data": {
      "application/vnd.jupyter.widget-view+json": {
       "model_id": "0b1206558090486eb20d94344426d80d",
       "version_major": 2,
       "version_minor": 0
      },
      "text/plain": [
       "Batches:   0%|          | 0/1563 [00:00<?, ?it/s]"
      ]
     },
     "metadata": {},
     "output_type": "display_data"
    },
    {
     "name": "stderr",
     "output_type": "stream",
     "text": [
      "Corpus Chunks:  80%|████████  | 20/25 [07:01<01:44, 20.92s/it]"
     ]
    },
    {
     "data": {
      "application/vnd.jupyter.widget-view+json": {
       "model_id": "822c8b46b57b4771ac8c1c721395c721",
       "version_major": 2,
       "version_minor": 0
      },
      "text/plain": [
       "Batches:   0%|          | 0/1563 [00:00<?, ?it/s]"
      ]
     },
     "metadata": {},
     "output_type": "display_data"
    },
    {
     "name": "stderr",
     "output_type": "stream",
     "text": [
      "Corpus Chunks:  84%|████████▍ | 21/25 [07:22<01:23, 20.92s/it]"
     ]
    },
    {
     "data": {
      "application/vnd.jupyter.widget-view+json": {
       "model_id": "7e5af92a6a1b4b319ef2196682fe8b2a",
       "version_major": 2,
       "version_minor": 0
      },
      "text/plain": [
       "Batches:   0%|          | 0/1563 [00:00<?, ?it/s]"
      ]
     },
     "metadata": {},
     "output_type": "display_data"
    },
    {
     "name": "stderr",
     "output_type": "stream",
     "text": [
      "Corpus Chunks:  88%|████████▊ | 22/25 [07:43<01:02, 20.96s/it]"
     ]
    },
    {
     "data": {
      "application/vnd.jupyter.widget-view+json": {
       "model_id": "da94762fd90c4d1c88b5f3a66d0e1056",
       "version_major": 2,
       "version_minor": 0
      },
      "text/plain": [
       "Batches:   0%|          | 0/1563 [00:00<?, ?it/s]"
      ]
     },
     "metadata": {},
     "output_type": "display_data"
    },
    {
     "name": "stderr",
     "output_type": "stream",
     "text": [
      "Corpus Chunks:  92%|█████████▏| 23/25 [08:04<00:41, 20.95s/it]"
     ]
    },
    {
     "data": {
      "application/vnd.jupyter.widget-view+json": {
       "model_id": "f6cbedfa87494216a91011c4f24a1372",
       "version_major": 2,
       "version_minor": 0
      },
      "text/plain": [
       "Batches:   0%|          | 0/1563 [00:00<?, ?it/s]"
      ]
     },
     "metadata": {},
     "output_type": "display_data"
    },
    {
     "name": "stderr",
     "output_type": "stream",
     "text": [
      "Corpus Chunks:  96%|█████████▌| 24/25 [08:25<00:20, 21.00s/it]"
     ]
    },
    {
     "data": {
      "application/vnd.jupyter.widget-view+json": {
       "model_id": "5b08a48cf21f4b74b7c7f747c64ec9e9",
       "version_major": 2,
       "version_minor": 0
      },
      "text/plain": [
       "Batches:   0%|          | 0/276 [00:00<?, ?it/s]"
      ]
     },
     "metadata": {},
     "output_type": "display_data"
    },
    {
     "name": "stderr",
     "output_type": "stream",
     "text": [
      "Corpus Chunks: 100%|██████████| 25/25 [08:29<00:00, 20.37s/it]\n"
     ]
    },
    {
     "data": {
      "application/vnd.jupyter.widget-view+json": {
       "model_id": "8a73adcc519d4116831b46aa6ef2959f",
       "version_major": 2,
       "version_minor": 0
      },
      "text/plain": [
       "Batches:   0%|          | 0/5 [00:00<?, ?it/s]"
      ]
     },
     "metadata": {},
     "output_type": "display_data"
    },
    {
     "name": "stderr",
     "output_type": "stream",
     "text": [
      "Corpus Chunks:   0%|          | 0/25 [00:00<?, ?it/s]"
     ]
    },
    {
     "data": {
      "application/vnd.jupyter.widget-view+json": {
       "model_id": "0c9cf557a1aa48bfabcd8abba9f1fac4",
       "version_major": 2,
       "version_minor": 0
      },
      "text/plain": [
       "Batches:   0%|          | 0/1563 [00:00<?, ?it/s]"
      ]
     },
     "metadata": {},
     "output_type": "display_data"
    },
    {
     "name": "stderr",
     "output_type": "stream",
     "text": [
      "Corpus Chunks:   4%|▍         | 1/25 [00:21<08:34, 21.44s/it]"
     ]
    },
    {
     "data": {
      "application/vnd.jupyter.widget-view+json": {
       "model_id": "fbab2b3932964dcf87e04ebca38ef204",
       "version_major": 2,
       "version_minor": 0
      },
      "text/plain": [
       "Batches:   0%|          | 0/1563 [00:00<?, ?it/s]"
      ]
     },
     "metadata": {},
     "output_type": "display_data"
    },
    {
     "name": "stderr",
     "output_type": "stream",
     "text": [
      "Corpus Chunks:   8%|▊         | 2/25 [00:42<08:08, 21.25s/it]"
     ]
    },
    {
     "data": {
      "application/vnd.jupyter.widget-view+json": {
       "model_id": "80997e4cb4f24fae9db3077934af6008",
       "version_major": 2,
       "version_minor": 0
      },
      "text/plain": [
       "Batches:   0%|          | 0/1563 [00:00<?, ?it/s]"
      ]
     },
     "metadata": {},
     "output_type": "display_data"
    },
    {
     "name": "stderr",
     "output_type": "stream",
     "text": [
      "Corpus Chunks:  12%|█▏        | 3/25 [01:03<07:47, 21.27s/it]"
     ]
    },
    {
     "data": {
      "application/vnd.jupyter.widget-view+json": {
       "model_id": "e2d870dc05a84d75a9f5fe465f7766f1",
       "version_major": 2,
       "version_minor": 0
      },
      "text/plain": [
       "Batches:   0%|          | 0/1563 [00:00<?, ?it/s]"
      ]
     },
     "metadata": {},
     "output_type": "display_data"
    },
    {
     "name": "stderr",
     "output_type": "stream",
     "text": [
      "Corpus Chunks:  16%|█▌        | 4/25 [01:24<07:25, 21.22s/it]"
     ]
    },
    {
     "data": {
      "application/vnd.jupyter.widget-view+json": {
       "model_id": "3d5e84fb76d648978672bf604339f96a",
       "version_major": 2,
       "version_minor": 0
      },
      "text/plain": [
       "Batches:   0%|          | 0/1563 [00:00<?, ?it/s]"
      ]
     },
     "metadata": {},
     "output_type": "display_data"
    },
    {
     "name": "stderr",
     "output_type": "stream",
     "text": [
      "Corpus Chunks:  20%|██        | 5/25 [01:46<07:02, 21.15s/it]"
     ]
    },
    {
     "data": {
      "application/vnd.jupyter.widget-view+json": {
       "model_id": "d0f626b180574cea8a7a202b8da1689a",
       "version_major": 2,
       "version_minor": 0
      },
      "text/plain": [
       "Batches:   0%|          | 0/1563 [00:00<?, ?it/s]"
      ]
     },
     "metadata": {},
     "output_type": "display_data"
    },
    {
     "name": "stderr",
     "output_type": "stream",
     "text": [
      "Corpus Chunks:  24%|██▍       | 6/25 [02:07<06:41, 21.14s/it]"
     ]
    },
    {
     "data": {
      "application/vnd.jupyter.widget-view+json": {
       "model_id": "7dfd1a27c3c8475aab0a1b807967c71a",
       "version_major": 2,
       "version_minor": 0
      },
      "text/plain": [
       "Batches:   0%|          | 0/1563 [00:00<?, ?it/s]"
      ]
     },
     "metadata": {},
     "output_type": "display_data"
    },
    {
     "name": "stderr",
     "output_type": "stream",
     "text": [
      "Corpus Chunks:  28%|██▊       | 7/25 [02:27<06:18, 21.03s/it]"
     ]
    },
    {
     "data": {
      "application/vnd.jupyter.widget-view+json": {
       "model_id": "c4b94952da73427c9924104ed9e90471",
       "version_major": 2,
       "version_minor": 0
      },
      "text/plain": [
       "Batches:   0%|          | 0/1563 [00:00<?, ?it/s]"
      ]
     },
     "metadata": {},
     "output_type": "display_data"
    },
    {
     "name": "stderr",
     "output_type": "stream",
     "text": [
      "Corpus Chunks:  32%|███▏      | 8/25 [02:48<05:56, 20.95s/it]"
     ]
    },
    {
     "data": {
      "application/vnd.jupyter.widget-view+json": {
       "model_id": "aa4bacd39bc44258886f04d987d9be34",
       "version_major": 2,
       "version_minor": 0
      },
      "text/plain": [
       "Batches:   0%|          | 0/1563 [00:00<?, ?it/s]"
      ]
     },
     "metadata": {},
     "output_type": "display_data"
    },
    {
     "name": "stderr",
     "output_type": "stream",
     "text": [
      "Corpus Chunks:  36%|███▌      | 9/25 [03:09<05:33, 20.87s/it]"
     ]
    },
    {
     "data": {
      "application/vnd.jupyter.widget-view+json": {
       "model_id": "5bf8e45a9236468ea43d9650e2584168",
       "version_major": 2,
       "version_minor": 0
      },
      "text/plain": [
       "Batches:   0%|          | 0/1563 [00:00<?, ?it/s]"
      ]
     },
     "metadata": {},
     "output_type": "display_data"
    },
    {
     "name": "stderr",
     "output_type": "stream",
     "text": [
      "Corpus Chunks:  40%|████      | 10/25 [03:30<05:12, 20.84s/it]"
     ]
    },
    {
     "data": {
      "application/vnd.jupyter.widget-view+json": {
       "model_id": "16600fa033104e5686b2b26f18f079b4",
       "version_major": 2,
       "version_minor": 0
      },
      "text/plain": [
       "Batches:   0%|          | 0/1563 [00:00<?, ?it/s]"
      ]
     },
     "metadata": {},
     "output_type": "display_data"
    },
    {
     "name": "stderr",
     "output_type": "stream",
     "text": [
      "Corpus Chunks:  44%|████▍     | 11/25 [03:50<04:50, 20.76s/it]"
     ]
    },
    {
     "data": {
      "application/vnd.jupyter.widget-view+json": {
       "model_id": "d62be81638b642e597ec98be5d593286",
       "version_major": 2,
       "version_minor": 0
      },
      "text/plain": [
       "Batches:   0%|          | 0/1563 [00:00<?, ?it/s]"
      ]
     },
     "metadata": {},
     "output_type": "display_data"
    },
    {
     "name": "stderr",
     "output_type": "stream",
     "text": [
      "Corpus Chunks:  48%|████▊     | 12/25 [04:11<04:30, 20.84s/it]"
     ]
    },
    {
     "data": {
      "application/vnd.jupyter.widget-view+json": {
       "model_id": "2519b3873d4347d1a5a276910864bf73",
       "version_major": 2,
       "version_minor": 0
      },
      "text/plain": [
       "Batches:   0%|          | 0/1563 [00:00<?, ?it/s]"
      ]
     },
     "metadata": {},
     "output_type": "display_data"
    },
    {
     "name": "stderr",
     "output_type": "stream",
     "text": [
      "Corpus Chunks:  52%|█████▏    | 13/25 [04:32<04:10, 20.87s/it]"
     ]
    },
    {
     "data": {
      "application/vnd.jupyter.widget-view+json": {
       "model_id": "53e54db871c2456f96385798038b6c1d",
       "version_major": 2,
       "version_minor": 0
      },
      "text/plain": [
       "Batches:   0%|          | 0/1563 [00:00<?, ?it/s]"
      ]
     },
     "metadata": {},
     "output_type": "display_data"
    },
    {
     "name": "stderr",
     "output_type": "stream",
     "text": [
      "Corpus Chunks:  56%|█████▌    | 14/25 [04:53<03:48, 20.78s/it]"
     ]
    },
    {
     "data": {
      "application/vnd.jupyter.widget-view+json": {
       "model_id": "06b4d69fc702451c9a06c9df41c65f39",
       "version_major": 2,
       "version_minor": 0
      },
      "text/plain": [
       "Batches:   0%|          | 0/1563 [00:00<?, ?it/s]"
      ]
     },
     "metadata": {},
     "output_type": "display_data"
    },
    {
     "name": "stderr",
     "output_type": "stream",
     "text": [
      "Corpus Chunks:  60%|██████    | 15/25 [05:14<03:28, 20.82s/it]"
     ]
    },
    {
     "data": {
      "application/vnd.jupyter.widget-view+json": {
       "model_id": "2018ea281ab04f4da9e248aaf1ca2b7a",
       "version_major": 2,
       "version_minor": 0
      },
      "text/plain": [
       "Batches:   0%|          | 0/1563 [00:00<?, ?it/s]"
      ]
     },
     "metadata": {},
     "output_type": "display_data"
    },
    {
     "name": "stderr",
     "output_type": "stream",
     "text": [
      "Corpus Chunks:  64%|██████▍   | 16/25 [05:34<03:06, 20.76s/it]"
     ]
    },
    {
     "data": {
      "application/vnd.jupyter.widget-view+json": {
       "model_id": "39e270ce270d43cbbfd4832d842ce967",
       "version_major": 2,
       "version_minor": 0
      },
      "text/plain": [
       "Batches:   0%|          | 0/1563 [00:00<?, ?it/s]"
      ]
     },
     "metadata": {},
     "output_type": "display_data"
    },
    {
     "name": "stderr",
     "output_type": "stream",
     "text": [
      "Corpus Chunks:  68%|██████▊   | 17/25 [05:55<02:45, 20.75s/it]"
     ]
    },
    {
     "data": {
      "application/vnd.jupyter.widget-view+json": {
       "model_id": "8c4693bf1e8e4b3a8872a946e7f1910d",
       "version_major": 2,
       "version_minor": 0
      },
      "text/plain": [
       "Batches:   0%|          | 0/1563 [00:00<?, ?it/s]"
      ]
     },
     "metadata": {},
     "output_type": "display_data"
    },
    {
     "name": "stderr",
     "output_type": "stream",
     "text": [
      "Corpus Chunks:  72%|███████▏  | 18/25 [06:16<02:24, 20.68s/it]"
     ]
    },
    {
     "data": {
      "application/vnd.jupyter.widget-view+json": {
       "model_id": "94e8437971ea4947bb411d9bfe4f4739",
       "version_major": 2,
       "version_minor": 0
      },
      "text/plain": [
       "Batches:   0%|          | 0/1563 [00:00<?, ?it/s]"
      ]
     },
     "metadata": {},
     "output_type": "display_data"
    },
    {
     "name": "stderr",
     "output_type": "stream",
     "text": [
      "Corpus Chunks:  76%|███████▌  | 19/25 [06:36<02:03, 20.61s/it]"
     ]
    },
    {
     "data": {
      "application/vnd.jupyter.widget-view+json": {
       "model_id": "d8efc41005714717afe59e3f94f3a7e8",
       "version_major": 2,
       "version_minor": 0
      },
      "text/plain": [
       "Batches:   0%|          | 0/1563 [00:00<?, ?it/s]"
      ]
     },
     "metadata": {},
     "output_type": "display_data"
    },
    {
     "name": "stderr",
     "output_type": "stream",
     "text": [
      "Corpus Chunks:  80%|████████  | 20/25 [06:56<01:42, 20.54s/it]"
     ]
    },
    {
     "data": {
      "application/vnd.jupyter.widget-view+json": {
       "model_id": "480347814b2b4f61948451001008fc97",
       "version_major": 2,
       "version_minor": 0
      },
      "text/plain": [
       "Batches:   0%|          | 0/1563 [00:00<?, ?it/s]"
      ]
     },
     "metadata": {},
     "output_type": "display_data"
    },
    {
     "name": "stderr",
     "output_type": "stream",
     "text": [
      "Corpus Chunks:  84%|████████▍ | 21/25 [07:17<01:22, 20.53s/it]"
     ]
    },
    {
     "data": {
      "application/vnd.jupyter.widget-view+json": {
       "model_id": "4d67837d89524acf9c59d37e3d694995",
       "version_major": 2,
       "version_minor": 0
      },
      "text/plain": [
       "Batches:   0%|          | 0/1563 [00:00<?, ?it/s]"
      ]
     },
     "metadata": {},
     "output_type": "display_data"
    },
    {
     "name": "stderr",
     "output_type": "stream",
     "text": [
      "Corpus Chunks:  88%|████████▊ | 22/25 [07:37<01:01, 20.54s/it]"
     ]
    },
    {
     "data": {
      "application/vnd.jupyter.widget-view+json": {
       "model_id": "6e14e4d9d1dd4467b07cddf51e292fdf",
       "version_major": 2,
       "version_minor": 0
      },
      "text/plain": [
       "Batches:   0%|          | 0/1563 [00:00<?, ?it/s]"
      ]
     },
     "metadata": {},
     "output_type": "display_data"
    },
    {
     "name": "stderr",
     "output_type": "stream",
     "text": [
      "Corpus Chunks:  92%|█████████▏| 23/25 [07:58<00:41, 20.57s/it]"
     ]
    },
    {
     "data": {
      "application/vnd.jupyter.widget-view+json": {
       "model_id": "94e5f3ef57c44a1695dd70a6a3893880",
       "version_major": 2,
       "version_minor": 0
      },
      "text/plain": [
       "Batches:   0%|          | 0/1563 [00:00<?, ?it/s]"
      ]
     },
     "metadata": {},
     "output_type": "display_data"
    },
    {
     "name": "stderr",
     "output_type": "stream",
     "text": [
      "Corpus Chunks:  96%|█████████▌| 24/25 [08:19<00:20, 20.62s/it]"
     ]
    },
    {
     "data": {
      "application/vnd.jupyter.widget-view+json": {
       "model_id": "3e780bfd356143b1a01a127245e41d1f",
       "version_major": 2,
       "version_minor": 0
      },
      "text/plain": [
       "Batches:   0%|          | 0/276 [00:00<?, ?it/s]"
      ]
     },
     "metadata": {},
     "output_type": "display_data"
    },
    {
     "name": "stderr",
     "output_type": "stream",
     "text": [
      "Corpus Chunks: 100%|██████████| 25/25 [08:23<00:00, 20.13s/it]\n"
     ]
    },
    {
     "data": {
      "application/vnd.jupyter.widget-view+json": {
       "model_id": "2e8395eccaa547bdbba206ccafb27e0a",
       "version_major": 2,
       "version_minor": 0
      },
      "text/plain": [
       "Batches:   0%|          | 0/5 [00:00<?, ?it/s]"
      ]
     },
     "metadata": {},
     "output_type": "display_data"
    },
    {
     "name": "stderr",
     "output_type": "stream",
     "text": [
      "Corpus Chunks:   0%|          | 0/25 [00:00<?, ?it/s]"
     ]
    },
    {
     "data": {
      "application/vnd.jupyter.widget-view+json": {
       "model_id": "09ee52481e754951bf6d5161b2f87be6",
       "version_major": 2,
       "version_minor": 0
      },
      "text/plain": [
       "Batches:   0%|          | 0/1563 [00:00<?, ?it/s]"
      ]
     },
     "metadata": {},
     "output_type": "display_data"
    },
    {
     "name": "stderr",
     "output_type": "stream",
     "text": [
      "Corpus Chunks:   4%|▍         | 1/25 [00:20<08:18, 20.77s/it]"
     ]
    },
    {
     "data": {
      "application/vnd.jupyter.widget-view+json": {
       "model_id": "8e0564d5d9dd44beb8bb63f841552c91",
       "version_major": 2,
       "version_minor": 0
      },
      "text/plain": [
       "Batches:   0%|          | 0/1563 [00:00<?, ?it/s]"
      ]
     },
     "metadata": {},
     "output_type": "display_data"
    },
    {
     "name": "stderr",
     "output_type": "stream",
     "text": [
      "Corpus Chunks:   8%|▊         | 2/25 [00:41<07:57, 20.77s/it]"
     ]
    },
    {
     "data": {
      "application/vnd.jupyter.widget-view+json": {
       "model_id": "bfb51dc4c48d41209f4fda8fb7286d72",
       "version_major": 2,
       "version_minor": 0
      },
      "text/plain": [
       "Batches:   0%|          | 0/1563 [00:00<?, ?it/s]"
      ]
     },
     "metadata": {},
     "output_type": "display_data"
    },
    {
     "name": "stderr",
     "output_type": "stream",
     "text": [
      "Corpus Chunks:  12%|█▏        | 3/25 [01:02<07:37, 20.80s/it]"
     ]
    },
    {
     "data": {
      "application/vnd.jupyter.widget-view+json": {
       "model_id": "a0ec371404814221a0f2110c3e279a45",
       "version_major": 2,
       "version_minor": 0
      },
      "text/plain": [
       "Batches:   0%|          | 0/1563 [00:00<?, ?it/s]"
      ]
     },
     "metadata": {},
     "output_type": "display_data"
    },
    {
     "name": "stderr",
     "output_type": "stream",
     "text": [
      "Corpus Chunks:  16%|█▌        | 4/25 [01:23<07:15, 20.74s/it]"
     ]
    },
    {
     "data": {
      "application/vnd.jupyter.widget-view+json": {
       "model_id": "ea4a4b5a1c1d43cf8a6d70c95da40ab8",
       "version_major": 2,
       "version_minor": 0
      },
      "text/plain": [
       "Batches:   0%|          | 0/1563 [00:00<?, ?it/s]"
      ]
     },
     "metadata": {},
     "output_type": "display_data"
    },
    {
     "name": "stderr",
     "output_type": "stream",
     "text": [
      "Corpus Chunks:  20%|██        | 5/25 [01:43<06:55, 20.77s/it]"
     ]
    },
    {
     "data": {
      "application/vnd.jupyter.widget-view+json": {
       "model_id": "f8ebd1591e744802b177c3dc1aa63d58",
       "version_major": 2,
       "version_minor": 0
      },
      "text/plain": [
       "Batches:   0%|          | 0/1563 [00:00<?, ?it/s]"
      ]
     },
     "metadata": {},
     "output_type": "display_data"
    },
    {
     "name": "stderr",
     "output_type": "stream",
     "text": [
      "Corpus Chunks:  24%|██▍       | 6/25 [02:04<06:35, 20.79s/it]"
     ]
    },
    {
     "data": {
      "application/vnd.jupyter.widget-view+json": {
       "model_id": "58d1033616644d8d80a9d273abf6c44e",
       "version_major": 2,
       "version_minor": 0
      },
      "text/plain": [
       "Batches:   0%|          | 0/1563 [00:00<?, ?it/s]"
      ]
     },
     "metadata": {},
     "output_type": "display_data"
    },
    {
     "name": "stderr",
     "output_type": "stream",
     "text": [
      "Corpus Chunks:  28%|██▊       | 7/25 [02:25<06:14, 20.78s/it]"
     ]
    },
    {
     "data": {
      "application/vnd.jupyter.widget-view+json": {
       "model_id": "1e7d67f3aa2b412bbdf22ee531d4484b",
       "version_major": 2,
       "version_minor": 0
      },
      "text/plain": [
       "Batches:   0%|          | 0/1563 [00:00<?, ?it/s]"
      ]
     },
     "metadata": {},
     "output_type": "display_data"
    },
    {
     "name": "stderr",
     "output_type": "stream",
     "text": [
      "Corpus Chunks:  32%|███▏      | 8/25 [02:46<05:53, 20.80s/it]"
     ]
    },
    {
     "data": {
      "application/vnd.jupyter.widget-view+json": {
       "model_id": "ca3ad33f84144f28a783268fa47762cf",
       "version_major": 2,
       "version_minor": 0
      },
      "text/plain": [
       "Batches:   0%|          | 0/1563 [00:00<?, ?it/s]"
      ]
     },
     "metadata": {},
     "output_type": "display_data"
    },
    {
     "name": "stderr",
     "output_type": "stream",
     "text": [
      "Corpus Chunks:  36%|███▌      | 9/25 [03:06<05:32, 20.77s/it]"
     ]
    },
    {
     "data": {
      "application/vnd.jupyter.widget-view+json": {
       "model_id": "2fc4ad9a34af4d619836d822d1ef48a1",
       "version_major": 2,
       "version_minor": 0
      },
      "text/plain": [
       "Batches:   0%|          | 0/1563 [00:00<?, ?it/s]"
      ]
     },
     "metadata": {},
     "output_type": "display_data"
    },
    {
     "name": "stderr",
     "output_type": "stream",
     "text": [
      "Corpus Chunks:  40%|████      | 10/25 [03:27<05:12, 20.80s/it]"
     ]
    },
    {
     "data": {
      "application/vnd.jupyter.widget-view+json": {
       "model_id": "d40933b667ed48b98bb5422be0af81e5",
       "version_major": 2,
       "version_minor": 0
      },
      "text/plain": [
       "Batches:   0%|          | 0/1563 [00:00<?, ?it/s]"
      ]
     },
     "metadata": {},
     "output_type": "display_data"
    },
    {
     "name": "stderr",
     "output_type": "stream",
     "text": [
      "Corpus Chunks:  44%|████▍     | 11/25 [03:48<04:51, 20.82s/it]"
     ]
    },
    {
     "data": {
      "application/vnd.jupyter.widget-view+json": {
       "model_id": "522712e71d874dfdae661691253cd186",
       "version_major": 2,
       "version_minor": 0
      },
      "text/plain": [
       "Batches:   0%|          | 0/1563 [00:00<?, ?it/s]"
      ]
     },
     "metadata": {},
     "output_type": "display_data"
    },
    {
     "name": "stderr",
     "output_type": "stream",
     "text": [
      "Corpus Chunks:  48%|████▊     | 12/25 [04:09<04:30, 20.83s/it]"
     ]
    },
    {
     "data": {
      "application/vnd.jupyter.widget-view+json": {
       "model_id": "04a75156f4574e05a6d153c5a2437051",
       "version_major": 2,
       "version_minor": 0
      },
      "text/plain": [
       "Batches:   0%|          | 0/1563 [00:00<?, ?it/s]"
      ]
     },
     "metadata": {},
     "output_type": "display_data"
    },
    {
     "name": "stderr",
     "output_type": "stream",
     "text": [
      "Corpus Chunks:  52%|█████▏    | 13/25 [04:30<04:10, 20.86s/it]"
     ]
    },
    {
     "data": {
      "application/vnd.jupyter.widget-view+json": {
       "model_id": "9262ce7862b14abb9f1015bca2073fe3",
       "version_major": 2,
       "version_minor": 0
      },
      "text/plain": [
       "Batches:   0%|          | 0/1563 [00:00<?, ?it/s]"
      ]
     },
     "metadata": {},
     "output_type": "display_data"
    },
    {
     "name": "stderr",
     "output_type": "stream",
     "text": [
      "Corpus Chunks:  56%|█████▌    | 14/25 [04:50<03:48, 20.74s/it]"
     ]
    },
    {
     "data": {
      "application/vnd.jupyter.widget-view+json": {
       "model_id": "a04edc7b46274ff88144a9526c1c4cce",
       "version_major": 2,
       "version_minor": 0
      },
      "text/plain": [
       "Batches:   0%|          | 0/1563 [00:00<?, ?it/s]"
      ]
     },
     "metadata": {},
     "output_type": "display_data"
    },
    {
     "name": "stderr",
     "output_type": "stream",
     "text": [
      "Corpus Chunks:  60%|██████    | 15/25 [05:11<03:26, 20.70s/it]"
     ]
    },
    {
     "data": {
      "application/vnd.jupyter.widget-view+json": {
       "model_id": "3344b21a916c487f8ab01a8d3fec7b60",
       "version_major": 2,
       "version_minor": 0
      },
      "text/plain": [
       "Batches:   0%|          | 0/1563 [00:00<?, ?it/s]"
      ]
     },
     "metadata": {},
     "output_type": "display_data"
    },
    {
     "name": "stderr",
     "output_type": "stream",
     "text": [
      "Corpus Chunks:  64%|██████▍   | 16/25 [05:32<03:06, 20.68s/it]"
     ]
    },
    {
     "data": {
      "application/vnd.jupyter.widget-view+json": {
       "model_id": "222e3bd4d4d147bda40b9f28767ca200",
       "version_major": 2,
       "version_minor": 0
      },
      "text/plain": [
       "Batches:   0%|          | 0/1563 [00:00<?, ?it/s]"
      ]
     },
     "metadata": {},
     "output_type": "display_data"
    },
    {
     "name": "stderr",
     "output_type": "stream",
     "text": [
      "Corpus Chunks:  68%|██████▊   | 17/25 [05:53<02:46, 20.76s/it]"
     ]
    },
    {
     "data": {
      "application/vnd.jupyter.widget-view+json": {
       "model_id": "ad2d7e9e05d245219e72206e74c2e99c",
       "version_major": 2,
       "version_minor": 0
      },
      "text/plain": [
       "Batches:   0%|          | 0/1563 [00:00<?, ?it/s]"
      ]
     },
     "metadata": {},
     "output_type": "display_data"
    },
    {
     "name": "stderr",
     "output_type": "stream",
     "text": [
      "Corpus Chunks:  72%|███████▏  | 18/25 [06:13<02:24, 20.71s/it]"
     ]
    },
    {
     "data": {
      "application/vnd.jupyter.widget-view+json": {
       "model_id": "9be85dfcee4a440ba2a1d95e71256a99",
       "version_major": 2,
       "version_minor": 0
      },
      "text/plain": [
       "Batches:   0%|          | 0/1563 [00:00<?, ?it/s]"
      ]
     },
     "metadata": {},
     "output_type": "display_data"
    },
    {
     "name": "stderr",
     "output_type": "stream",
     "text": [
      "Corpus Chunks:  76%|███████▌  | 19/25 [06:34<02:04, 20.70s/it]"
     ]
    },
    {
     "data": {
      "application/vnd.jupyter.widget-view+json": {
       "model_id": "31fa381bd9324504909b444a9cadc142",
       "version_major": 2,
       "version_minor": 0
      },
      "text/plain": [
       "Batches:   0%|          | 0/1563 [00:00<?, ?it/s]"
      ]
     },
     "metadata": {},
     "output_type": "display_data"
    },
    {
     "name": "stderr",
     "output_type": "stream",
     "text": [
      "Corpus Chunks:  80%|████████  | 20/25 [06:54<01:43, 20.62s/it]"
     ]
    },
    {
     "data": {
      "application/vnd.jupyter.widget-view+json": {
       "model_id": "13aceb5bfeef4b058f1180162b2f7eb6",
       "version_major": 2,
       "version_minor": 0
      },
      "text/plain": [
       "Batches:   0%|          | 0/1563 [00:00<?, ?it/s]"
      ]
     },
     "metadata": {},
     "output_type": "display_data"
    },
    {
     "name": "stderr",
     "output_type": "stream",
     "text": [
      "Corpus Chunks:  84%|████████▍ | 21/25 [07:15<01:22, 20.61s/it]"
     ]
    },
    {
     "data": {
      "application/vnd.jupyter.widget-view+json": {
       "model_id": "2fb2a3b2bb284870a71d920ae9024b4b",
       "version_major": 2,
       "version_minor": 0
      },
      "text/plain": [
       "Batches:   0%|          | 0/1563 [00:00<?, ?it/s]"
      ]
     },
     "metadata": {},
     "output_type": "display_data"
    },
    {
     "name": "stderr",
     "output_type": "stream",
     "text": [
      "Corpus Chunks:  88%|████████▊ | 22/25 [07:36<01:01, 20.63s/it]"
     ]
    },
    {
     "data": {
      "application/vnd.jupyter.widget-view+json": {
       "model_id": "a6d841904e3546bbbe9111e7a6c1c121",
       "version_major": 2,
       "version_minor": 0
      },
      "text/plain": [
       "Batches:   0%|          | 0/1563 [00:00<?, ?it/s]"
      ]
     },
     "metadata": {},
     "output_type": "display_data"
    },
    {
     "name": "stderr",
     "output_type": "stream",
     "text": [
      "Corpus Chunks:  92%|█████████▏| 23/25 [07:56<00:41, 20.60s/it]"
     ]
    },
    {
     "data": {
      "application/vnd.jupyter.widget-view+json": {
       "model_id": "532c062bc3824ac49f54182486d36cf3",
       "version_major": 2,
       "version_minor": 0
      },
      "text/plain": [
       "Batches:   0%|          | 0/1563 [00:00<?, ?it/s]"
      ]
     },
     "metadata": {},
     "output_type": "display_data"
    },
    {
     "name": "stderr",
     "output_type": "stream",
     "text": [
      "Corpus Chunks:  96%|█████████▌| 24/25 [08:17<00:20, 20.61s/it]"
     ]
    },
    {
     "data": {
      "application/vnd.jupyter.widget-view+json": {
       "model_id": "5dd496957a854228adf3bf508b844cc1",
       "version_major": 2,
       "version_minor": 0
      },
      "text/plain": [
       "Batches:   0%|          | 0/276 [00:00<?, ?it/s]"
      ]
     },
     "metadata": {},
     "output_type": "display_data"
    },
    {
     "name": "stderr",
     "output_type": "stream",
     "text": [
      "Corpus Chunks: 100%|██████████| 25/25 [08:21<00:00, 20.04s/it]\n"
     ]
    },
    {
     "data": {
      "application/vnd.jupyter.widget-view+json": {
       "model_id": "326c173571fc4ec1a9c2f2abf1c1dd9a",
       "version_major": 2,
       "version_minor": 0
      },
      "text/plain": [
       "Batches:   0%|          | 0/5 [00:00<?, ?it/s]"
      ]
     },
     "metadata": {},
     "output_type": "display_data"
    },
    {
     "name": "stderr",
     "output_type": "stream",
     "text": [
      "Corpus Chunks:   0%|          | 0/25 [00:00<?, ?it/s]"
     ]
    },
    {
     "data": {
      "application/vnd.jupyter.widget-view+json": {
       "model_id": "58945113453b483090b4dc9ae8e19e75",
       "version_major": 2,
       "version_minor": 0
      },
      "text/plain": [
       "Batches:   0%|          | 0/1563 [00:00<?, ?it/s]"
      ]
     },
     "metadata": {},
     "output_type": "display_data"
    },
    {
     "name": "stderr",
     "output_type": "stream",
     "text": [
      "Corpus Chunks:   4%|▍         | 1/25 [00:20<08:21, 20.92s/it]"
     ]
    },
    {
     "data": {
      "application/vnd.jupyter.widget-view+json": {
       "model_id": "c3fc3698ff894ed98a89e4fa2d6c5c0b",
       "version_major": 2,
       "version_minor": 0
      },
      "text/plain": [
       "Batches:   0%|          | 0/1563 [00:00<?, ?it/s]"
      ]
     },
     "metadata": {},
     "output_type": "display_data"
    },
    {
     "name": "stderr",
     "output_type": "stream",
     "text": [
      "Corpus Chunks:   8%|▊         | 2/25 [00:41<07:56, 20.73s/it]"
     ]
    },
    {
     "data": {
      "application/vnd.jupyter.widget-view+json": {
       "model_id": "116b1afe07f34ef8925de2dac41a557b",
       "version_major": 2,
       "version_minor": 0
      },
      "text/plain": [
       "Batches:   0%|          | 0/1563 [00:00<?, ?it/s]"
      ]
     },
     "metadata": {},
     "output_type": "display_data"
    },
    {
     "name": "stderr",
     "output_type": "stream",
     "text": [
      "Corpus Chunks:  12%|█▏        | 3/25 [01:02<07:36, 20.74s/it]"
     ]
    },
    {
     "data": {
      "application/vnd.jupyter.widget-view+json": {
       "model_id": "91e8f2d15718468fa893c96b985bf5fe",
       "version_major": 2,
       "version_minor": 0
      },
      "text/plain": [
       "Batches:   0%|          | 0/1563 [00:00<?, ?it/s]"
      ]
     },
     "metadata": {},
     "output_type": "display_data"
    },
    {
     "name": "stderr",
     "output_type": "stream",
     "text": [
      "Corpus Chunks:  16%|█▌        | 4/25 [01:22<07:14, 20.71s/it]"
     ]
    },
    {
     "data": {
      "application/vnd.jupyter.widget-view+json": {
       "model_id": "fd93a366b57a483386d866630787eba7",
       "version_major": 2,
       "version_minor": 0
      },
      "text/plain": [
       "Batches:   0%|          | 0/1563 [00:00<?, ?it/s]"
      ]
     },
     "metadata": {},
     "output_type": "display_data"
    },
    {
     "name": "stderr",
     "output_type": "stream",
     "text": [
      "Corpus Chunks:  20%|██        | 5/25 [01:43<06:53, 20.68s/it]"
     ]
    },
    {
     "data": {
      "application/vnd.jupyter.widget-view+json": {
       "model_id": "7b6b981483b34ba5a81f0799577004cd",
       "version_major": 2,
       "version_minor": 0
      },
      "text/plain": [
       "Batches:   0%|          | 0/1563 [00:00<?, ?it/s]"
      ]
     },
     "metadata": {},
     "output_type": "display_data"
    },
    {
     "name": "stderr",
     "output_type": "stream",
     "text": [
      "Corpus Chunks:  24%|██▍       | 6/25 [02:04<06:34, 20.75s/it]"
     ]
    },
    {
     "data": {
      "application/vnd.jupyter.widget-view+json": {
       "model_id": "ea6bd96ea6154e7982de1b092de8446f",
       "version_major": 2,
       "version_minor": 0
      },
      "text/plain": [
       "Batches:   0%|          | 0/1563 [00:00<?, ?it/s]"
      ]
     },
     "metadata": {},
     "output_type": "display_data"
    },
    {
     "name": "stderr",
     "output_type": "stream",
     "text": [
      "Corpus Chunks:  28%|██▊       | 7/25 [02:25<06:13, 20.75s/it]"
     ]
    },
    {
     "data": {
      "application/vnd.jupyter.widget-view+json": {
       "model_id": "e41358c62d6a45c2a0ef21a018dc7748",
       "version_major": 2,
       "version_minor": 0
      },
      "text/plain": [
       "Batches:   0%|          | 0/1563 [00:00<?, ?it/s]"
      ]
     },
     "metadata": {},
     "output_type": "display_data"
    },
    {
     "name": "stderr",
     "output_type": "stream",
     "text": [
      "Corpus Chunks:  32%|███▏      | 8/25 [02:45<05:52, 20.76s/it]"
     ]
    },
    {
     "data": {
      "application/vnd.jupyter.widget-view+json": {
       "model_id": "6d18d79b66d9409dba3800d0c938c997",
       "version_major": 2,
       "version_minor": 0
      },
      "text/plain": [
       "Batches:   0%|          | 0/1563 [00:00<?, ?it/s]"
      ]
     },
     "metadata": {},
     "output_type": "display_data"
    },
    {
     "name": "stderr",
     "output_type": "stream",
     "text": [
      "Corpus Chunks:  36%|███▌      | 9/25 [03:06<05:31, 20.74s/it]"
     ]
    },
    {
     "data": {
      "application/vnd.jupyter.widget-view+json": {
       "model_id": "438fa0b7d0074ae68113b07357fc9f37",
       "version_major": 2,
       "version_minor": 0
      },
      "text/plain": [
       "Batches:   0%|          | 0/1563 [00:00<?, ?it/s]"
      ]
     },
     "metadata": {},
     "output_type": "display_data"
    },
    {
     "name": "stderr",
     "output_type": "stream",
     "text": [
      "Corpus Chunks:  40%|████      | 10/25 [03:27<05:10, 20.73s/it]"
     ]
    },
    {
     "data": {
      "application/vnd.jupyter.widget-view+json": {
       "model_id": "daa07d1a9fc7413181445c5ada83cede",
       "version_major": 2,
       "version_minor": 0
      },
      "text/plain": [
       "Batches:   0%|          | 0/1563 [00:00<?, ?it/s]"
      ]
     },
     "metadata": {},
     "output_type": "display_data"
    },
    {
     "name": "stderr",
     "output_type": "stream",
     "text": [
      "Corpus Chunks:  44%|████▍     | 11/25 [03:48<04:49, 20.70s/it]"
     ]
    },
    {
     "data": {
      "application/vnd.jupyter.widget-view+json": {
       "model_id": "7d83e3cd1ceb4257b7c7a58320970558",
       "version_major": 2,
       "version_minor": 0
      },
      "text/plain": [
       "Batches:   0%|          | 0/1563 [00:00<?, ?it/s]"
      ]
     },
     "metadata": {},
     "output_type": "display_data"
    },
    {
     "name": "stderr",
     "output_type": "stream",
     "text": [
      "Corpus Chunks:  48%|████▊     | 12/25 [04:09<04:30, 20.79s/it]"
     ]
    },
    {
     "data": {
      "application/vnd.jupyter.widget-view+json": {
       "model_id": "8a8c9a2170ed42338c211cbfcc0d11a3",
       "version_major": 2,
       "version_minor": 0
      },
      "text/plain": [
       "Batches:   0%|          | 0/1563 [00:00<?, ?it/s]"
      ]
     },
     "metadata": {},
     "output_type": "display_data"
    },
    {
     "name": "stderr",
     "output_type": "stream",
     "text": [
      "Corpus Chunks:  52%|█████▏    | 13/25 [04:29<04:09, 20.79s/it]"
     ]
    },
    {
     "data": {
      "application/vnd.jupyter.widget-view+json": {
       "model_id": "3cb23ac1956941d4821f4fb15cab0b49",
       "version_major": 2,
       "version_minor": 0
      },
      "text/plain": [
       "Batches:   0%|          | 0/1563 [00:00<?, ?it/s]"
      ]
     },
     "metadata": {},
     "output_type": "display_data"
    },
    {
     "name": "stderr",
     "output_type": "stream",
     "text": [
      "Corpus Chunks:  56%|█████▌    | 14/25 [04:50<03:48, 20.74s/it]"
     ]
    },
    {
     "data": {
      "application/vnd.jupyter.widget-view+json": {
       "model_id": "e54bbbeb0b754da6806a13e1cdfc9c00",
       "version_major": 2,
       "version_minor": 0
      },
      "text/plain": [
       "Batches:   0%|          | 0/1563 [00:00<?, ?it/s]"
      ]
     },
     "metadata": {},
     "output_type": "display_data"
    },
    {
     "name": "stderr",
     "output_type": "stream",
     "text": [
      "Corpus Chunks:  60%|██████    | 15/25 [05:11<03:26, 20.69s/it]"
     ]
    },
    {
     "data": {
      "application/vnd.jupyter.widget-view+json": {
       "model_id": "140d20801ebc4da2baa74a27dd27a4ac",
       "version_major": 2,
       "version_minor": 0
      },
      "text/plain": [
       "Batches:   0%|          | 0/1563 [00:00<?, ?it/s]"
      ]
     },
     "metadata": {},
     "output_type": "display_data"
    },
    {
     "name": "stderr",
     "output_type": "stream",
     "text": [
      "Corpus Chunks:  64%|██████▍   | 16/25 [05:31<03:05, 20.65s/it]"
     ]
    },
    {
     "data": {
      "application/vnd.jupyter.widget-view+json": {
       "model_id": "ee9e083c64c2404a8a9265ef8100a555",
       "version_major": 2,
       "version_minor": 0
      },
      "text/plain": [
       "Batches:   0%|          | 0/1563 [00:00<?, ?it/s]"
      ]
     },
     "metadata": {},
     "output_type": "display_data"
    },
    {
     "name": "stderr",
     "output_type": "stream",
     "text": [
      "Corpus Chunks:  68%|██████▊   | 17/25 [05:52<02:45, 20.73s/it]"
     ]
    },
    {
     "data": {
      "application/vnd.jupyter.widget-view+json": {
       "model_id": "993f5a416e764ca58a7cf333a630ec75",
       "version_major": 2,
       "version_minor": 0
      },
      "text/plain": [
       "Batches:   0%|          | 0/1563 [00:00<?, ?it/s]"
      ]
     },
     "metadata": {},
     "output_type": "display_data"
    },
    {
     "name": "stderr",
     "output_type": "stream",
     "text": [
      "Corpus Chunks:  72%|███████▏  | 18/25 [06:13<02:24, 20.68s/it]"
     ]
    },
    {
     "data": {
      "application/vnd.jupyter.widget-view+json": {
       "model_id": "f2204c4ebdc6484fa27a39fe03a67023",
       "version_major": 2,
       "version_minor": 0
      },
      "text/plain": [
       "Batches:   0%|          | 0/1563 [00:00<?, ?it/s]"
      ]
     },
     "metadata": {},
     "output_type": "display_data"
    },
    {
     "name": "stderr",
     "output_type": "stream",
     "text": [
      "Corpus Chunks:  76%|███████▌  | 19/25 [06:33<02:03, 20.64s/it]"
     ]
    },
    {
     "data": {
      "application/vnd.jupyter.widget-view+json": {
       "model_id": "0469cd6beacc4f338fd5eb70c5d192db",
       "version_major": 2,
       "version_minor": 0
      },
      "text/plain": [
       "Batches:   0%|          | 0/1563 [00:00<?, ?it/s]"
      ]
     },
     "metadata": {},
     "output_type": "display_data"
    },
    {
     "name": "stderr",
     "output_type": "stream",
     "text": [
      "Corpus Chunks:  80%|████████  | 20/25 [06:54<01:43, 20.65s/it]"
     ]
    },
    {
     "data": {
      "application/vnd.jupyter.widget-view+json": {
       "model_id": "1dc60106ef4c4e789388b1f74838ec6e",
       "version_major": 2,
       "version_minor": 0
      },
      "text/plain": [
       "Batches:   0%|          | 0/1563 [00:00<?, ?it/s]"
      ]
     },
     "metadata": {},
     "output_type": "display_data"
    },
    {
     "name": "stderr",
     "output_type": "stream",
     "text": [
      "Corpus Chunks:  84%|████████▍ | 21/25 [07:14<01:22, 20.65s/it]"
     ]
    },
    {
     "data": {
      "application/vnd.jupyter.widget-view+json": {
       "model_id": "815d79a670e3485fb29de8ee47622bfd",
       "version_major": 2,
       "version_minor": 0
      },
      "text/plain": [
       "Batches:   0%|          | 0/1563 [00:00<?, ?it/s]"
      ]
     },
     "metadata": {},
     "output_type": "display_data"
    },
    {
     "name": "stderr",
     "output_type": "stream",
     "text": [
      "Corpus Chunks:  88%|████████▊ | 22/25 [07:35<01:01, 20.67s/it]"
     ]
    },
    {
     "data": {
      "application/vnd.jupyter.widget-view+json": {
       "model_id": "cc909411eff24ceab374ff82619acead",
       "version_major": 2,
       "version_minor": 0
      },
      "text/plain": [
       "Batches:   0%|          | 0/1563 [00:00<?, ?it/s]"
      ]
     },
     "metadata": {},
     "output_type": "display_data"
    },
    {
     "name": "stderr",
     "output_type": "stream",
     "text": [
      "Corpus Chunks:  92%|█████████▏| 23/25 [07:56<00:41, 20.69s/it]"
     ]
    },
    {
     "data": {
      "application/vnd.jupyter.widget-view+json": {
       "model_id": "1a45d522d8a44002a683bdbda49cddc0",
       "version_major": 2,
       "version_minor": 0
      },
      "text/plain": [
       "Batches:   0%|          | 0/1563 [00:00<?, ?it/s]"
      ]
     },
     "metadata": {},
     "output_type": "display_data"
    },
    {
     "name": "stderr",
     "output_type": "stream",
     "text": [
      "Corpus Chunks:  96%|█████████▌| 24/25 [08:17<00:20, 20.69s/it]"
     ]
    },
    {
     "data": {
      "application/vnd.jupyter.widget-view+json": {
       "model_id": "6a7bc362bdc5485c9a132337abd55458",
       "version_major": 2,
       "version_minor": 0
      },
      "text/plain": [
       "Batches:   0%|          | 0/276 [00:00<?, ?it/s]"
      ]
     },
     "metadata": {},
     "output_type": "display_data"
    },
    {
     "name": "stderr",
     "output_type": "stream",
     "text": [
      "Corpus Chunks: 100%|██████████| 25/25 [08:20<00:00, 20.03s/it]\n"
     ]
    },
    {
     "data": {
      "application/vnd.jupyter.widget-view+json": {
       "model_id": "3de6b87137a941afad1d56e30f6f9840",
       "version_major": 2,
       "version_minor": 0
      },
      "text/plain": [
       "Batches:   0%|          | 0/5 [00:00<?, ?it/s]"
      ]
     },
     "metadata": {},
     "output_type": "display_data"
    },
    {
     "name": "stderr",
     "output_type": "stream",
     "text": [
      "Corpus Chunks:   0%|          | 0/25 [00:00<?, ?it/s]"
     ]
    },
    {
     "data": {
      "application/vnd.jupyter.widget-view+json": {
       "model_id": "a94ca4a52cd64f1e8f2801ee4689b632",
       "version_major": 2,
       "version_minor": 0
      },
      "text/plain": [
       "Batches:   0%|          | 0/1563 [00:00<?, ?it/s]"
      ]
     },
     "metadata": {},
     "output_type": "display_data"
    },
    {
     "name": "stderr",
     "output_type": "stream",
     "text": [
      "Corpus Chunks:   4%|▍         | 1/25 [00:20<08:16, 20.71s/it]"
     ]
    },
    {
     "data": {
      "application/vnd.jupyter.widget-view+json": {
       "model_id": "20a42f47d43c46b2988825cadf070704",
       "version_major": 2,
       "version_minor": 0
      },
      "text/plain": [
       "Batches:   0%|          | 0/1563 [00:00<?, ?it/s]"
      ]
     },
     "metadata": {},
     "output_type": "display_data"
    },
    {
     "name": "stderr",
     "output_type": "stream",
     "text": [
      "Corpus Chunks:   8%|▊         | 2/25 [00:41<07:57, 20.76s/it]"
     ]
    },
    {
     "data": {
      "application/vnd.jupyter.widget-view+json": {
       "model_id": "5a4cf196877a4925a57994a0a6657429",
       "version_major": 2,
       "version_minor": 0
      },
      "text/plain": [
       "Batches:   0%|          | 0/1563 [00:00<?, ?it/s]"
      ]
     },
     "metadata": {},
     "output_type": "display_data"
    },
    {
     "name": "stderr",
     "output_type": "stream",
     "text": [
      "Corpus Chunks:  12%|█▏        | 3/25 [01:02<07:35, 20.73s/it]"
     ]
    },
    {
     "data": {
      "application/vnd.jupyter.widget-view+json": {
       "model_id": "d11a669e320a48b9a6d7ed0a33cc579a",
       "version_major": 2,
       "version_minor": 0
      },
      "text/plain": [
       "Batches:   0%|          | 0/1563 [00:00<?, ?it/s]"
      ]
     },
     "metadata": {},
     "output_type": "display_data"
    },
    {
     "name": "stderr",
     "output_type": "stream",
     "text": [
      "Corpus Chunks:  16%|█▌        | 4/25 [01:22<07:13, 20.66s/it]"
     ]
    },
    {
     "data": {
      "application/vnd.jupyter.widget-view+json": {
       "model_id": "4aea68cba332480aa7a28392b013d190",
       "version_major": 2,
       "version_minor": 0
      },
      "text/plain": [
       "Batches:   0%|          | 0/1563 [00:00<?, ?it/s]"
      ]
     },
     "metadata": {},
     "output_type": "display_data"
    },
    {
     "name": "stderr",
     "output_type": "stream",
     "text": [
      "Corpus Chunks:  20%|██        | 5/25 [01:43<06:54, 20.70s/it]"
     ]
    },
    {
     "data": {
      "application/vnd.jupyter.widget-view+json": {
       "model_id": "e478afb72aa047dcad0c44b770b4a16d",
       "version_major": 2,
       "version_minor": 0
      },
      "text/plain": [
       "Batches:   0%|          | 0/1563 [00:00<?, ?it/s]"
      ]
     },
     "metadata": {},
     "output_type": "display_data"
    },
    {
     "name": "stderr",
     "output_type": "stream",
     "text": [
      "Corpus Chunks:  24%|██▍       | 6/25 [02:04<06:33, 20.73s/it]"
     ]
    },
    {
     "data": {
      "application/vnd.jupyter.widget-view+json": {
       "model_id": "cbcac84c1db94ab98e00d62117640313",
       "version_major": 2,
       "version_minor": 0
      },
      "text/plain": [
       "Batches:   0%|          | 0/1563 [00:00<?, ?it/s]"
      ]
     },
     "metadata": {},
     "output_type": "display_data"
    },
    {
     "name": "stderr",
     "output_type": "stream",
     "text": [
      "Corpus Chunks:  28%|██▊       | 7/25 [02:25<06:13, 20.77s/it]"
     ]
    },
    {
     "data": {
      "application/vnd.jupyter.widget-view+json": {
       "model_id": "4a4add57edd8416b87b7bf0c8c53feaa",
       "version_major": 2,
       "version_minor": 0
      },
      "text/plain": [
       "Batches:   0%|          | 0/1563 [00:00<?, ?it/s]"
      ]
     },
     "metadata": {},
     "output_type": "display_data"
    },
    {
     "name": "stderr",
     "output_type": "stream",
     "text": [
      "Corpus Chunks:  32%|███▏      | 8/25 [02:45<05:52, 20.74s/it]"
     ]
    },
    {
     "data": {
      "application/vnd.jupyter.widget-view+json": {
       "model_id": "da85d9abb2a444b282a76b5e25614cd1",
       "version_major": 2,
       "version_minor": 0
      },
      "text/plain": [
       "Batches:   0%|          | 0/1563 [00:00<?, ?it/s]"
      ]
     },
     "metadata": {},
     "output_type": "display_data"
    },
    {
     "name": "stderr",
     "output_type": "stream",
     "text": [
      "Corpus Chunks:  36%|███▌      | 9/25 [03:06<05:30, 20.67s/it]"
     ]
    },
    {
     "data": {
      "application/vnd.jupyter.widget-view+json": {
       "model_id": "95b01d4eca934781bd3a69b541f47b00",
       "version_major": 2,
       "version_minor": 0
      },
      "text/plain": [
       "Batches:   0%|          | 0/1563 [00:00<?, ?it/s]"
      ]
     },
     "metadata": {},
     "output_type": "display_data"
    },
    {
     "name": "stderr",
     "output_type": "stream",
     "text": [
      "Corpus Chunks:  40%|████      | 10/25 [03:27<05:10, 20.73s/it]"
     ]
    },
    {
     "data": {
      "application/vnd.jupyter.widget-view+json": {
       "model_id": "978b5e4e6aca4f33a39bdcd47b0737ae",
       "version_major": 2,
       "version_minor": 0
      },
      "text/plain": [
       "Batches:   0%|          | 0/1563 [00:00<?, ?it/s]"
      ]
     },
     "metadata": {},
     "output_type": "display_data"
    },
    {
     "name": "stderr",
     "output_type": "stream",
     "text": [
      "Corpus Chunks:  44%|████▍     | 11/25 [03:47<04:49, 20.69s/it]"
     ]
    },
    {
     "data": {
      "application/vnd.jupyter.widget-view+json": {
       "model_id": "0f78d5fcb4d143398ec1e456a2b219c2",
       "version_major": 2,
       "version_minor": 0
      },
      "text/plain": [
       "Batches:   0%|          | 0/1563 [00:00<?, ?it/s]"
      ]
     },
     "metadata": {},
     "output_type": "display_data"
    },
    {
     "name": "stderr",
     "output_type": "stream",
     "text": [
      "Corpus Chunks:  48%|████▊     | 12/25 [04:08<04:30, 20.80s/it]"
     ]
    },
    {
     "data": {
      "application/vnd.jupyter.widget-view+json": {
       "model_id": "e5c87c0ef9964760a85a05ede6ffe24a",
       "version_major": 2,
       "version_minor": 0
      },
      "text/plain": [
       "Batches:   0%|          | 0/1563 [00:00<?, ?it/s]"
      ]
     },
     "metadata": {},
     "output_type": "display_data"
    },
    {
     "name": "stderr",
     "output_type": "stream",
     "text": [
      "Corpus Chunks:  52%|█████▏    | 13/25 [04:29<04:10, 20.85s/it]"
     ]
    },
    {
     "data": {
      "application/vnd.jupyter.widget-view+json": {
       "model_id": "e978791149114e91a3f98b5bfc03a5b1",
       "version_major": 2,
       "version_minor": 0
      },
      "text/plain": [
       "Batches:   0%|          | 0/1563 [00:00<?, ?it/s]"
      ]
     },
     "metadata": {},
     "output_type": "display_data"
    },
    {
     "name": "stderr",
     "output_type": "stream",
     "text": [
      "Corpus Chunks:  56%|█████▌    | 14/25 [04:50<03:48, 20.79s/it]"
     ]
    },
    {
     "data": {
      "application/vnd.jupyter.widget-view+json": {
       "model_id": "2cf0be0dfe504ae6ad158ea8f68681cd",
       "version_major": 2,
       "version_minor": 0
      },
      "text/plain": [
       "Batches:   0%|          | 0/1563 [00:00<?, ?it/s]"
      ]
     },
     "metadata": {},
     "output_type": "display_data"
    },
    {
     "name": "stderr",
     "output_type": "stream",
     "text": [
      "Corpus Chunks:  60%|██████    | 15/25 [05:11<03:27, 20.72s/it]"
     ]
    },
    {
     "data": {
      "application/vnd.jupyter.widget-view+json": {
       "model_id": "1f81dc942a254f8089add71d3ef1cebb",
       "version_major": 2,
       "version_minor": 0
      },
      "text/plain": [
       "Batches:   0%|          | 0/1563 [00:00<?, ?it/s]"
      ]
     },
     "metadata": {},
     "output_type": "display_data"
    },
    {
     "name": "stderr",
     "output_type": "stream",
     "text": [
      "Corpus Chunks:  64%|██████▍   | 16/25 [05:31<03:06, 20.76s/it]"
     ]
    },
    {
     "data": {
      "application/vnd.jupyter.widget-view+json": {
       "model_id": "56a03ff3c7d44c61936aeb487e738ef7",
       "version_major": 2,
       "version_minor": 0
      },
      "text/plain": [
       "Batches:   0%|          | 0/1563 [00:00<?, ?it/s]"
      ]
     },
     "metadata": {},
     "output_type": "display_data"
    },
    {
     "name": "stderr",
     "output_type": "stream",
     "text": [
      "Corpus Chunks:  68%|██████▊   | 17/25 [05:53<02:47, 20.96s/it]"
     ]
    },
    {
     "data": {
      "application/vnd.jupyter.widget-view+json": {
       "model_id": "e026fdeb206340de9093b4e5e44ca317",
       "version_major": 2,
       "version_minor": 0
      },
      "text/plain": [
       "Batches:   0%|          | 0/1563 [00:00<?, ?it/s]"
      ]
     },
     "metadata": {},
     "output_type": "display_data"
    },
    {
     "name": "stderr",
     "output_type": "stream",
     "text": [
      "Corpus Chunks:  72%|███████▏  | 18/25 [06:13<02:25, 20.85s/it]"
     ]
    },
    {
     "data": {
      "application/vnd.jupyter.widget-view+json": {
       "model_id": "8ed665bca2f24949933082d5547ccde6",
       "version_major": 2,
       "version_minor": 0
      },
      "text/plain": [
       "Batches:   0%|          | 0/1563 [00:00<?, ?it/s]"
      ]
     },
     "metadata": {},
     "output_type": "display_data"
    },
    {
     "name": "stderr",
     "output_type": "stream",
     "text": [
      "Corpus Chunks:  76%|███████▌  | 19/25 [06:34<02:04, 20.79s/it]"
     ]
    },
    {
     "data": {
      "application/vnd.jupyter.widget-view+json": {
       "model_id": "ade29723d77b4661bc3b0d1601b0e602",
       "version_major": 2,
       "version_minor": 0
      },
      "text/plain": [
       "Batches:   0%|          | 0/1563 [00:00<?, ?it/s]"
      ]
     },
     "metadata": {},
     "output_type": "display_data"
    },
    {
     "name": "stderr",
     "output_type": "stream",
     "text": [
      "Corpus Chunks:  80%|████████  | 20/25 [06:55<01:43, 20.79s/it]"
     ]
    },
    {
     "data": {
      "application/vnd.jupyter.widget-view+json": {
       "model_id": "3769deca85a34b5dac24f568a2d4cda0",
       "version_major": 2,
       "version_minor": 0
      },
      "text/plain": [
       "Batches:   0%|          | 0/1563 [00:00<?, ?it/s]"
      ]
     },
     "metadata": {},
     "output_type": "display_data"
    },
    {
     "name": "stderr",
     "output_type": "stream",
     "text": [
      "Corpus Chunks:  84%|████████▍ | 21/25 [07:16<01:23, 20.86s/it]"
     ]
    },
    {
     "data": {
      "application/vnd.jupyter.widget-view+json": {
       "model_id": "c7aa5ae852e240839d55dac85ecc8cad",
       "version_major": 2,
       "version_minor": 0
      },
      "text/plain": [
       "Batches:   0%|          | 0/1563 [00:00<?, ?it/s]"
      ]
     },
     "metadata": {},
     "output_type": "display_data"
    },
    {
     "name": "stderr",
     "output_type": "stream",
     "text": [
      "Corpus Chunks:  88%|████████▊ | 22/25 [07:37<01:02, 20.93s/it]"
     ]
    },
    {
     "data": {
      "application/vnd.jupyter.widget-view+json": {
       "model_id": "812105ec9a8f41c290bfcb381d0863d1",
       "version_major": 2,
       "version_minor": 0
      },
      "text/plain": [
       "Batches:   0%|          | 0/1563 [00:00<?, ?it/s]"
      ]
     },
     "metadata": {},
     "output_type": "display_data"
    },
    {
     "name": "stderr",
     "output_type": "stream",
     "text": [
      "Corpus Chunks:  92%|█████████▏| 23/25 [07:58<00:41, 20.85s/it]"
     ]
    },
    {
     "data": {
      "application/vnd.jupyter.widget-view+json": {
       "model_id": "96dde5b347b541108c2c7ea2fd9d00c6",
       "version_major": 2,
       "version_minor": 0
      },
      "text/plain": [
       "Batches:   0%|          | 0/1563 [00:00<?, ?it/s]"
      ]
     },
     "metadata": {},
     "output_type": "display_data"
    },
    {
     "name": "stderr",
     "output_type": "stream",
     "text": [
      "Corpus Chunks:  96%|█████████▌| 24/25 [08:19<00:20, 20.87s/it]"
     ]
    },
    {
     "data": {
      "application/vnd.jupyter.widget-view+json": {
       "model_id": "72ecc0c4ec314984ac45cd98723929df",
       "version_major": 2,
       "version_minor": 0
      },
      "text/plain": [
       "Batches:   0%|          | 0/276 [00:00<?, ?it/s]"
      ]
     },
     "metadata": {},
     "output_type": "display_data"
    },
    {
     "name": "stderr",
     "output_type": "stream",
     "text": [
      "Corpus Chunks: 100%|██████████| 25/25 [08:22<00:00, 20.11s/it]\n"
     ]
    }
   ],
   "source": [
    "\n",
    "\n",
    "# 4. Train with dev set validation\n",
    "# evidenceRetriever.train(output_dir='./climate_retriever')\n"
   ]
  },
  {
   "cell_type": "code",
   "execution_count": 6,
   "id": "17ee5abe",
   "metadata": {},
   "outputs": [],
   "source": [
    "from transformers import AutoTokenizer, AutoModelForCausalLM\n",
    "import torch\n",
    "import re\n",
    "from typing import List, Tuple, Dict\n",
    "import json\n",
    "from tqdm import tqdm\n",
    "\n",
    "class LLaMAFilter:\n",
    "    def __init__(self, model_name=\"meta-llama/Llama-3.1-8B-Instruct\"):\n",
    "        self.device = \"cuda\" if torch.cuda.is_available() else (\"mps\" if torch.backends.mps.is_available() else \"cpu\")\n",
    "        \n",
    "        self.tokenizer = AutoTokenizer.from_pretrained(\n",
    "            model_name,\n",
    "            padding_side=\"left\",\n",
    "            truncation_side=\"left\"\n",
    "        )\n",
    "        self.tokenizer.pad_token = self.tokenizer.eos_token\n",
    "        self.model = AutoModelForCausalLM.from_pretrained(\n",
    "            model_name,\n",
    "            torch_dtype=torch.float16,\n",
    "            device_map=\"auto\"\n",
    "        )\n",
    "        \n",
    "        self.rating_template = (\n",
    "            \"[INST] Rate claim-evidence relevance from 1-5 (1=irrelevant, 5=perfect). \"\n",
    "            \"ONLY respond with the number.\\n\\n\"\n",
    "            \"Claim: {claim}\\nEvidence: {evidence}\\nRating: [/INST]\"\n",
    "        )\n",
    "\n",
    "    def filter_evidence(self, claim: str, evidence_candidates: List[Tuple[str, str]], final_k: int = 5) -> List[Tuple[str, str, int]]:\n",
    "        \"\"\"Optimized evidence filtering with batch processing\"\"\"\n",
    "        # Batch prompts\n",
    "        prompts = [\n",
    "            self.rating_template.format(claim=claim, evidence=text)\n",
    "            for eid, text in evidence_candidates\n",
    "        ]\n",
    "        \n",
    "        # Batch tokenize\n",
    "        inputs = self.tokenizer(\n",
    "            prompts,\n",
    "            return_tensors=\"pt\",\n",
    "            padding=True,\n",
    "            truncation=True\n",
    "        ).to(self.device)\n",
    "        \n",
    "        with torch.no_grad():\n",
    "            outputs = self.model.generate(\n",
    "                **inputs,\n",
    "                max_new_tokens=2, \n",
    "                temperature=0.1,  \n",
    "                pad_token_id=self.tokenizer.eos_token_id,\n",
    "                use_cache=True\n",
    "            )\n",
    "        \n",
    "        scored_evidence = []\n",
    "        decoded = self.tokenizer.batch_decode(outputs, skip_special_tokens=True)\n",
    "        \n",
    "        for (eid, text), output in zip(evidence_candidates, decoded):\n",
    "            rating = 1  # Default if parsing fails\n",
    "            if match := re.search(r'\\d', output.split(\"Rating:\")[-1]):\n",
    "                rating = min(5, max(1, int(match.group())))\n",
    "                \n",
    "            scored_evidence.append((eid, text, rating))\n",
    "        \n",
    "        # Return top-k\n",
    "        return sorted(scored_evidence, key=lambda x: -x[2])[:final_k]"
   ]
  },
  {
   "cell_type": "code",
   "execution_count": 7,
   "id": "2eca8531",
   "metadata": {},
   "outputs": [],
   "source": [
    "def get_evidence_text(evidences):\n",
    "    return [(eid, evidenceRetriever.evidence_map[eid]) for eid in evidences]"
   ]
  },
  {
   "cell_type": "code",
   "execution_count": 8,
   "id": "1d3625d8",
   "metadata": {},
   "outputs": [],
   "source": [
    "def initial_retrieval(retriever, test_claims_path):\n",
    "    with open(test_claims_path) as f:\n",
    "        test_claims = json.load(f)\n",
    "    \n",
    "    output = {}\n",
    "    for claim_id, claim_data in test_claims.items():\n",
    "        # Retrieve candidates\n",
    "        candidates = retriever.retrieve(claim_data['claim_text'], top_k=10)\n",
    "        retrieved = [eid for eid, _  in candidates[:10]]\n",
    "        output[claim_id] = {\n",
    "            \"initial_evidences\": retrieved,\n",
    "            \"claim_text\": claim_data['claim_text']\n",
    "        }\n",
    "\n",
    "    # store output\n",
    "    with open('data/initial_retrieval_output.json', 'w') as f:\n",
    "        json.dump(output, f, indent=2)\n",
    "    return output\n"
   ]
  },
  {
   "cell_type": "code",
   "execution_count": 9,
   "id": "49014200",
   "metadata": {},
   "outputs": [],
   "source": [
    "res = initial_retrieval(evidenceRetriever, test_claims_path='data/dev-claims-baseline.json')"
   ]
  },
  {
   "cell_type": "code",
   "execution_count": 10,
   "id": "214b43e4",
   "metadata": {},
   "outputs": [
    {
     "data": {
      "application/vnd.jupyter.widget-view+json": {
       "model_id": "0183f4270c3c4dffb157dd3e3b0a8474",
       "version_major": 2,
       "version_minor": 0
      },
      "text/plain": [
       "Loading checkpoint shards:   0%|          | 0/4 [00:00<?, ?it/s]"
      ]
     },
     "metadata": {},
     "output_type": "display_data"
    }
   ],
   "source": [
    "llama_filter = LLaMAFilter()"
   ]
  },
  {
   "cell_type": "code",
   "execution_count": 12,
   "id": "7f3797c1",
   "metadata": {},
   "outputs": [
    {
     "name": "stdout",
     "output_type": "stream",
     "text": [
      "[('evidence-572512', '\"South Australia has the highest power prices in the world\".', 5), ('evidence-67732', '[citation needed] South Australia has the highest retail price for electricity in the country.', 1), ('evidence-780332', 'Industrialised countries such as Canada, the US, and Australia are among the highest per capita consumers of electricity in the world, which is possible thanks to a widespread electrical distribution network.', 1), ('evidence-452156', 'Energy in Australia is the production in Australia of energy and electricity, for consumption or export.', 1), ('evidence-48256', 'One of the most powerful power grids in the world supplies power to the state of Queensland, Australia.', 1), ('evidence-808896', 'The class are the first electric trains to operate in South Australia.', 1)]\n",
      "[('evidence-559290', \"Australia’s total greenhouse gas emissions increased by 0.3% in the first six months of the Carbon Tax to December 2012 to 276.5 Mt CO2 equiv, while Australia's gross domestic product grew at a rate of 2.5% per annum.\", 2), ('evidence-441151', 'More than half are Australian ; others are from the United Kingdom, New Zealand, the Philippines, Zimbabwe and the United States.', 2), ('evidence-334443', 'Australia A is a national representative rugby union football team of Australian rugby union.', 1), ('evidence-357540', 'This represents about 0.67 per cent of all employed persons in Australia.', 1), ('evidence-724468', 'Australia national rugby union team, often nicknamed the Wallabies, administered by the Australian Rugby Union.', 1), ('evidence-316768', 'The Australia national soccer team represents Australia in international soccer (association football).', 1)]\n",
      "[('evidence-937622', 'Preceding this was a warm period centered around A.D. 1000, which was warmer than the late 20th century by approximately 1°C.', 5), ('evidence-622225', 'Temperatures have increased by 0.8\\xa0°C compared to the pre-industrial level, and another 0.5–0.7\\xa0°C is already committed.', 5), ('evidence-298630', 'The IPCC First Assessment Report in 1990 noted evidence that Holocene climatic optimum around 5,000-6,000 years ago had been warmer than the present (at least in summer) and that in some areas there had been exceptional warmth during \"a shorter Medieval Warm Period (which may not have been global)\" about AD 950-1250, followed by a cooler period of the Little Ice Age which ended only in the middle to late nineteenth century.', 3), ('evidence-527805', 'Yet the latest National Academies of Science (NAS) report on the subject has now admitted that all we really know is that we are warmer now than we were during the last 400 years, which is mostly made up of the \\'Little Ice Age\\'\".', 2), ('evidence-694262', 'The planet is now 0.8\\xa0°C warmer than in pre-industrial times.', 1), ('evidence-459999', 'During the Mesozoic, the world, including India, was considerably warmer than today.', 1)]\n",
      "[('evidence-856375', 'As Zika virus infection of pregnant women may result in congenital defects in the newborn, the vaccine will attempt to protect against congenital Zika syndrome during the current or any future outbreak.', 5), ('evidence-641043', 'Zika also appears to have an equal tropism for cells of the developing eye, leading to high rates of eye abnormalities as well.', 5), ('evidence-472751', 'In addition, research was needed to determine the mechanism by which Zika produced these effects.', 1), ('evidence-1078662', 'Most new mutations either have a neutral or negative effect on fitness, while some have a positive effect.', 1), ('evidence-491545', 'While initially it was thought she would compete, ultimately she declared herself unable to compete due to Zika virus threat.', 1), ('evidence-608669', 'Genetic conditions with an increased risk include Marfan syndrome and Ehlers-Danlos syndrome.', 1)]\n",
      "[('evidence-766313', 'Analysis of gravity data from GRACE satellites indicates that the Greenland ice sheet lost approximately 2900\\xa0Gt (0.1% of its total mass) between March 2002 and September 2012.', 5), ('evidence-52981', 'If iceberg calving has happened as an average, Greenland lost 294\\xa0Gt of its mass during 2007 (one km3 of ice weighs about 0.9\\xa0Gt).', 1), ('evidence-1200633', 'Land ice sheets in both Antarctica and Greenland have been losing mass since 2002 and have seen an acceleration of ice mass loss since 2009.', 1), ('evidence-640229', 'Assessment of the data and techniques suggests a mass balance for the Greenland Ice Sheet ranging between growth of 25\\xa0Gt/yr and loss of 60\\xa0Gt/yr for 1961 to 2003, loss of 50 to 100\\xa0Gt/yr for 1993 to 2003 and loss at even higher rates between 2003 and 2005.', 1), ('evidence-264761', 'Findings show that Greenland has lost 3.8 trillion tonnes of ice since 1992, enough to raise sea levels by almost 11mm (1.06cm).', 1), ('evidence-44751', 'According to the study, in 1996 Greenland was losing about per year in volume from its ice sheet.', 1)]\n",
      "[('evidence-584875', \"All of a sudden, as if overnight, they were now deemed ` cool '.\", 1), ('evidence-385838', 'Aerosols diffuse incoming radiation generally cooling the planet.', 1), ('evidence-63605', 'It can be shown that for cold giant gas planets such as Jupiter and Saturn there is no thermal driven atmospheric escape of significance while for smaller and warmer planets such as Earth only light atoms may escape in this manner (heavier atoms stay).', 1), ('evidence-305810', 'Cool Frénésie (lit : Cool Frenzy) is the fifth studio album by French duo Les Rita Mitsouko.', 1), ('evidence-1111357', 'This creates a limit to the amount of heat energy that can do work in a cyclic process, a limit called the available energy.', 1), ('evidence-345360', 'A low-mass gas planet can still have a radius resembling that of a gas giant if it has the right temperature.', 1)]\n",
      "[('evidence-870973', 'Melaleuca pritzelii (Domin) Barlow', 1), ('evidence-579388', 'N. C. Saxena, member of National Advisory Council', 1), ('evidence-565403', 'He is Vikram S. Pandit Professor of Business and Chair of Management Division at Columbia Business School.', 1), ('evidence-541133', 'M. W. Aruna Pradeep (also known as Manimel Wadu Aruna Pradeep) is the Chairman of Ambalangoda Urban Council.', 1), ('evidence-968741', 'Chairman Of The Board - Erol Tabanca, Vice Chairmen - Cem Siyahi and Abdullah Gözener.', 1), ('evidence-884263', 'Promenaea ovatiloba (Klinge) Cogn.', 1)]\n",
      "[('evidence-534425', 'It was only in the 20th and 21st centuries that the Northern Hemisphere experienced higher temperatures.', 5), ('evidence-1143156', 'As an historical article, the districts and party affiliations listed reflect those during the 38th Congress (March 4, 1863 -- March 3, 1865).', 1), ('evidence-120706', 'An aurora is a natural light display in the sky seen predominantly in the high latitudes.', 1), ('evidence-1203017', 'Overnight temperatures of were recorded during the morning at Benson, Oxfordshire and Woodford, Greater Manchester.', 1), ('evidence-802686', 'He told CBC: \"It was warmer a thousand years ago than it is today.', 1), ('evidence-607144', \"He served as Amtsleiter and Propagandaleiter'' in the city of Eilenburg from 1938 to 1945.\", 1)]\n",
      "[('evidence-884516', 'As aforementioned, the increasing frequency of droughts and floods has made farmers especially vulnerable to food shortages.', 5), ('evidence-950070', 'Drought is even more disastrous in the developing world, exacerbating the pre-existing poverty and fostering famine and malnutrition.', 5), ('evidence-1145383', 'Drought affect food production and human society, so they are considered a disaster, of natural, supernatural or human cause (which itself could be supernatural causes, malediction, sin, ...).', 5), ('evidence-152371', 'Drought in India affecting the Ganges is of particular concern, as it provides drinking water and agricultural irrigation for more than 500\\xa0million people.', 5), ('evidence-1200922', 'Arguably one of the worst effects that drought has directly on human health is the destruction of food supply.', 5), ('evidence-1122524', 'Rain forests house many species and organisms providing people with food and other commodities.', 5)]\n",
      "[('evidence-58464', 'The classification used for this regime is Cfc.', 1), ('evidence-52744', 'CFC is structurally homologous to the VWFC-like domain.', 1), ('evidence-408330', 'He previously hosted shows on the 600 frequency when it was known as CFCF (CFMB).', 1), ('evidence-277289', 'CFBN was a Canadian radio station, broadcasting on AM 1280 in Mississauga, Ontario.', 1), ('evidence-35725', 'In terms of following, it is the third behind the CGT and the CFDT.', 1), ('evidence-368679', 'They are operated both by CFR Marfǎ and CFR Cǎlǎtori.', 1)]\n",
      "[('evidence-569261', 'Hansen et al.', 5), ('evidence-301474', 'With high confidence, Hansen \"et al.', 5), ('evidence-886863', 'In 2006, Hansen and colleagues compared the observations with the projections made by Hansen in his 1988 testimony before the United States Congress.', 5), ('evidence-1194346', 'Hansen indicated that he felt that several news organizations had overreacted to this mistake.', 2), ('evidence-543404', 'Hansen \"et al.', 1), ('evidence-909383', 'Hansen \"et al.', 1)]\n",
      "[('evidence-425667', 'Human activities emit about 29 billion tons of carbon dioxide per year, while volcanoes emit between 0.2 and 0.3 billion tons.', 5), ('evidence-243372', 'Volcanic activity releases about 130 to 230 teragrams (145 million to 255 million short tons) of carbon dioxide each year.', 5), ('evidence-15399', 'The volcano produces about 400,000\\xa0±\\xa0100,000 tonnes per year (400,000\\xa0±\\xa0100,000\\xa0t/a) of CO 2, which is about 0.2–0.6% of the worldwide CO 2 flux at subaerial volcanoes.', 1), ('evidence-208053', 'In the modern era, emissions to the atmosphere from volcanoes are approximately 0.645 billion tonnes of CO 2 per year, whereas humans contribute 29 billion tonnes of CO 2 each year.', 1), ('evidence-273631', 'The US Geological Survey estimates are that volcanic emissions are at a much lower level than the effects of current human activities, which generate 100–300 times the amount of carbon dioxide emitted by volcanoes.', 1), ('evidence-157943', 'Although the initial carbon dioxide in the atmosphere of the young Earth was produced by volcanic activity, modern volcanic activity releases only 130 to 230 megatonnes of carbon dioxide each year.', 1)]\n",
      "[('evidence-647077', \"Some of Greenland's largest outlet glaciers, such as Jakobshavn Isbræ and Kangerlussuaq Glacier, are flowing faster into the ocean.\", 5), ('evidence-539675', 'Large outlet glaciers, which are restricted tongues of the ice sheet, move through bordering valleys around the periphery of Greenland to calve off into the ocean, producing the numerous icebergs that sometimes occur in North Atlantic shipping lanes.', 5), ('evidence-1168213', 'Like rivers flowing from an enormous lake, numerous outlet glaciers transport ice from the margins of the ice sheet to the ocean.', 5), ('evidence-566900', 'Like rivers flowing from an enormous lake, numerous outlet glaciers transport ice from the margins of the ice sheet to the ocean.', 5), ('evidence-1055914', 'The glacier is the namesake of the Alaska Marine Highway fast ferry M/V Chenega.', 1), ('evidence-572915', 'LIM engines accelerate the train up both sides of the track.', 1)]\n",
      "[('evidence-281919', 'Twenty-six of those deaths were caused by a single supercell thunderstorm which produced damaging and long lived tornadoes from north central Arkansas into northwest Tennessee.', 2), ('evidence-1176330', 'Tornadoes are a serious hazard to life and limb.', 1), ('evidence-780559', 'Many, but not all, anticyclonic tornadoes are smaller and weaker than cyclonic tornadoes, forming from a different process.', 1), ('evidence-357726', 'Extreme weather also means stronger winds.', 1), ('evidence-818008', 'It produced at least 40 tornadoes and caused 30 deaths as a result of two deadly tornadoes.', 1), ('evidence-193976', '107 tornadoes were reported in the U.S. in August.', 1)]\n",
      "[('evidence-425787', 'Denote the sensitivity, i.e.', 5), ('evidence-526818', 'In its 2007 Fourth Assessment Report, IPCC said that climate sensitivity is \"likely to be in the range 2 to 4.5\\xa0°C with a best estimate of about 3\\xa0°C\".', 5), ('evidence-700426', 'Estimates of climate sensitivity calculated from global energy constraints have consistently been lower than those calculated using other methods; estimates calculated using this method have been around or lower (e.g.', 5), ('evidence-158204', 'For constant humidity they computed a climate sensitivity of 2.3\\xa0°C per doubling of CO2 (which they rounded to 2, the value most often quoted from their work, in the abstract of the paper).', 5), ('evidence-1148241', 'Variance-based sensitivity analysis (often referred to as the Sobol method or Sobol indices, after Ilya M. Sobol) is a form of global sensitivity analysis.', 5), ('evidence-586068', 'Sensitivity is the degree to which a land system undergoes change due to natural forces, human intervention or a combination of both.', 3)]\n",
      "[('evidence-513147', 'These discontinuities occur at wavelengths where the energy of an absorbed photon corresponds to an electronic transition or ionization potential.', 5), ('evidence-1007525', 'Absorption of infrared light at the vibrational frequencies of atmospheric carbon dioxide traps energy near the surface, warming the surface and the lower atmosphere.', 5), ('evidence-617364', 'In an infrared spectrum the intensity of an absorption band is proportional to the derivative of the molecular dipole moment with respect to the normal coordinate.', 5), ('evidence-558580', \"The peak of the thermal IR emission from Earth's surface is very close to a strong vibrational absorption band of CO 2 (wavelength 15 microns, or wavenumber 667\\xa0cm−1).\", 5), ('evidence-670449', 'Integrated Cavity Output Spectroscopy, a type of laser absorption spectrometry', 5), ('evidence-97716', 'Light is composed of electromagnetic energy of different wavelengths.', 1)]\n",
      "[('evidence-250673', 'The high pressure water breaks up or \"fracks\" the rock, which releases gas from the rock formation.', 2), ('evidence-66563', \"Pressure is applied to the material from all directions (hence the term ``isostatic'').\", 2), ('evidence-750033', 'The Indian sub-continent crumples as it pushes against Asia and pressure is released.', 2), ('evidence-1027243', 'When enough pressure was applied to the plate it collapses pressing down on a bolt connected to an internal lever.', 1), ('evidence-782532', \"The high temperature and pressure in Earth's interior cause some rock to melt and solid mantle to behave plastically, resulting in portions of mantle convecting upward since it is lighter than the surrounding rock.\", 1), ('evidence-920126', 'Sufficient pressure on the top surface of the mine causes it to press down on one or more of the igniters, compressing a spring and allowing two steel striker retaining balls to escape, releasing the striker, which is forced upwards by a second spring.', 1)]\n",
      "[('evidence-257246', 'The band continues to transmit its message through a music mixing reggae and world music.', 1), ('evidence-489904', 'is incorporated into and organic material (water) and it flows throughout the water seamlessly.', 1), ('evidence-1030256', 'Blending (music), a technique used in instrument playing', 1), ('evidence-161061', \"The game puts focuses on ` play, create and share ', and allows players to create user-generated content.\", 1), ('evidence-918931', 'It inserts itself into the membrane, by competing with cross-linking proteins between each membrane layer, and then sets up trans-membrane protein channels which induce ion transport out of the cell.', 1), ('evidence-399460', 'The coolant is pumped in a closed and pressurized loop from the engine block (where heat is collected) through the radiator (where heat is dissipated) and back to the engine block.', 1)]\n",
      "[('evidence-731434', 'Research shows that the Arctic may become ice-free in the summer for the first time in human history by 2040.', 5), ('evidence-1125244', 'The chance that there will be any permanent ice left in the Arctic after 2022 is essentially zero,\" he said in June of 2019.', 5), ('evidence-636662', 'From sea ice models and recent satellite images it can be expected that a sea ice free summer will come before 2020.', 5), ('evidence-482196', 'The Third U.S. National Climate Assessment (NCA), released May 6, 2014, reports that the Arctic Ocean is expected to be ice free in summer before mid-century.', 5), ('evidence-111881', '\"A sea ice free summer Arctic within 30 years?\".', 5), ('evidence-586254', 'Many scientists have attempted to estimate when the Arctic will be \"ice-free\".', 2)]\n",
      "[('evidence-455180', \"For example, knowing the details of only a person's genetics, or their history and upbringing, or the current situation may not explain a behavior, but a deep understanding of all these variables combined can be very predictive.\", 5), ('evidence-844144', 'Of these scenarios, Ehrlich has said that although, \"we clearly stated that they were not predictions and that \\'we can be sure that none of them will come true as stated,\\' (p.\\xa072) – their failure to occur is often cited as a failure of prediction.', 5), ('evidence-656832', 'As the purpose of modeling is to increase our understanding of the world, the validity of a model rests not only on its fit to empirical observations, but also on its ability to extrapolate to situations or data beyond those originally described in the model.', 5), ('evidence-286694', 'A predictive model may have high accuracy, but be useless.', 5), ('evidence-886611', 'Despite accepted errors in their models, e.g., treatment of clouds, modelers still thought their climate predictions were valid.', 2), ('evidence-713402', 'Initially, predictive inference was based on observable parameters and it was the main purpose of studying probability, but it fell out of favor in the 20th century due to a new parametric approach pioneered by Bruno de Finetti.', 2)]\n",
      "[('evidence-411817', 'A 2019 UNEP study indicates that now at least for the Arctic and the Greenland ice sheet a tipping point has already been reached.', 5), ('evidence-469106', 'He said \"We are at a tipping point.', 5), ('evidence-783884', \"A study published in 2017 concluded that Greenland's peripheral glaciers and ice caps crossed an irreversible tipping point around 1997, and will continue to melt.\", 5), ('evidence-609968', \"Between 1989 and 1993, US and European climate researchers drilled into the summit of Greenland's ice sheet, obtaining a pair of long ice cores.\", 5), ('evidence-398165', 'Scientists have stated, \"Our synthesis of present knowledge suggests that a variety of tipping elements could reach their critical point within this century under anthropogenic climate change\".', 5), ('evidence-1020001', 'Both the Greenland ice sheet and Antarctica have tipping points for warming levels that could be reached before the end of the 21st century.', 1)]\n",
      "[('evidence-712782', 'Abronia mitchelli, an arboreal alligator lizard species', 1), ('evidence-413679', 'This is a checklist of American reptiles found north from Mexico, based primarily on SSAR publications.', 1), ('evidence-836932', 'The species can be found from Florida through Georgia to Texas.', 1), ('evidence-496482', 'Abronia (lizard), a genus of animals commonly known as arboreal alligator lizards', 1), ('evidence-555564', '1935 -- 21 August 2007) was a captive American Alligator residing at the Riga Zoo in Riga, Latvia.', 1), ('evidence-340647', 'Ice frog (Amietia vertebralis), native to southern Africa', 1)]\n",
      "[('evidence-754329', 'The oxygen minimum layer exists somewhere between a depth of 700m and 1000m deep depending on the place in the ocean.', 5), ('evidence-69294', 'These areas are also known as oxygen minimum zones (OMZ).', 5), ('evidence-881018', 'Below a few centimeters from the surface the interstitial water (water between sediment) is oxygen free.', 5), ('evidence-754923', 'The oxygen consumption due to respiration of most of the sinking organic matter and lack of gas exchange, often creates an oxygen minimum zone (OMZ) in the mesopelagic.', 5), ('evidence-965044', 'They can be found in the intertidal zone, but most occur at depths of 12 -- 80 metres, living in crevices and holes during the day, and ranging further abroad at night to feed on benthic crustacea, cephalopods, and some types of fishes.', 5), ('evidence-649885', 'It is native to the tropical West Atlantic Ocean where it is found at depths between 2 and.', 5)]\n",
      "[('evidence-956940', 'The sensitivity of temperature to atmospheric gasses, most notably CO 2, is often expressed in terms of the change in temperature per doubling of the concentration of the gas.', 5), ('evidence-262028', 'The changes in temperature have been associated with increasing concentrations of atmospheric carbon dioxide (CO 2) and other GHGs in the atmosphere.\"', 1), ('evidence-801082', 'Not only do increasing carbon dioxide concentrations lead to increases in global surface temperature, but increasing global temperatures also cause increasing concentrations of carbon dioxide.', 1), ('evidence-549462', 'As the temperature of a liquid increases, the kinetic energy of its molecules also increases.', 1), ('evidence-269431', 'Arrhenius calculated the temperature increase expected from doubling CO 2 to be around 5-6 °C.', 1), ('evidence-950248', 'The IPCC (2007) estimates that the expected rise in temperature due to a doubling of CO2 to be about 3\\xa0°C (5.4\\xa0°F), ± 1.5°.', 1)]\n",
      "[('evidence-688142', 'It has since been debunked as pseudoscience and part of the edifice of scientific racism.', 1), ('evidence-602360', 'On December 7 on the CNN program \"The Situation Room\", Inhofe said that the emails showed that the science behind climate change \"has been pretty well debunked\"; the fact checking organization PolitiFact concluded that Inhofe\\'s statement was false.', 1), ('evidence-829516', \"Folklorists, scholars, and law enforcement experts say that these stories have been ``thoroughly debunked''.\", 1), ('evidence-260933', 'The claim has been found to be untrue and the BBC apologised to Primark admitting its mistake.', 1), ('evidence-357916', \"The claims are rejected by the group 's leaders, and some have been disputed by courts and religious scholars.\", 1), ('evidence-331082', 'Boucher describes the 51% figure as being sourced from a 2009 Worldwatch Institute report by Robert Goodland and Jeff Anhang, not from a peer-reviewed scientific paper.', 1)]\n",
      "[('evidence-283416', \"Other children 's programmes in the same ITV time slot on the remaining four weekdays included Let 's Pretend, Jamie and the Magic Torch, and Rainbow - the latter in which Cockleshell Bay began as a regular story feature (reflected in the rainbow design of Cockleshell Bays logo).\", 2), ('evidence-916207', \"They are immature if innocent ``babies'' nourished on dreams.\", 1), ('evidence-1003174', 'People may have nightmares about such ideas and become very worried.', 1), ('evidence-20808', \"In the United Kingdom (which is reflected in the theme song 's lyrics in the British broadcast), the BBC felt that the suggestion of children being awake after midnight was inappropriate, thus the name was changed.\", 1), ('evidence-966967', 'Dreams and Nightmares is the debut studio album by American hip hop recording artist Meek Mill.', 1), ('evidence-889201', \"Two versions of the record will be released in June 2014, a standard edition comprising two discs ` Nightmares by Day ' and ` Nightmares by Night ' consisting of 28 of his most popular tracks.\", 1)]\n",
      "[('evidence-365857', 'Droughts can cause farmers to rely more heavily on irrigation; this has downsides for both the individual farmers and the consumers.', 2), ('evidence-884516', 'As aforementioned, the increasing frequency of droughts and floods has made farmers especially vulnerable to food shortages.', 1), ('evidence-664704', 'It is often called \"flood irrigation\" when the irrigation results in flooding or near flooding of the cultivated land.', 1), ('evidence-741505', 'Drought can also reduce water quality, because lower water-flows reduce dilution of pollutants and increase contamination of remaining water-sources.', 1), ('evidence-321988', 'Drought reduces variety in diets and reduces overall consumption.', 1), ('evidence-399275', 'In recent decades, northern China has experienced increased drought, and southern China has received increased summer rain resulting in a larger number of floods.', 1)]\n",
      "[('evidence-1161640', 'According to a 2009 report by the United Nations Food and Agriculture Organization (FAO), the world will have to produce 70% more food by 2050 to feed a projected extra 2.3 billion people.', 1), ('evidence-33749', 'In a 2010 study, they concluded that \"there are not (and will never be) too many people for the planet to feed\" according to The Independent.', 1), ('evidence-27691', 'It can easily accommodate over 1,000 people.', 1), ('evidence-347185', 'It has a maximum capacity of 3,840 people.', 1), ('evidence-197863', 'It can accommodate a very large number of people.', 1), ('evidence-1168721', 'There are thought to be less than 250 individuals in existence.', 1)]\n",
      "[('evidence-715335', 'Theses authors mentioned above have expressed the solubility (F) at a total pressure of 1 atm as:', 5), ('evidence-1064124', 'The resultant solution is described as supersaturated, meaning that there is more solute dissolved in the solution than would be predicted by its solubility at that temperature.', 5), ('evidence-906232', 'where F = solubility expressed in either mol l or mol kg atm,', 1), ('evidence-847959', 'Solubility is the property of a solid, liquid, or gaseous chemical substance called solute to dissolve in a solid, liquid, or gaseous solvent.', 1), ('evidence-299791', 'It is insoluble in water, but soluble in ethanol and acetone.', 1), ('evidence-238680', 'Hansen solubility parameters were developed by Charles M. Hansen in his Ph.D thesis in 1967 as a way of predicting if one material will dissolve in another and form a solution.', 1)]\n",
      "[('evidence-962456', '\"Paleobotanical Evidence for Near Present-Day Levels of Atmospheric CO2 During Part of the Tertiary\".', 5), ('evidence-545279', 'Reconstructed temperature records for the last 420 million years indicate that atmospheric CO 2 concentrations peaked at ~2000 ppm during the Devonian (∼400\\u2009Myrs ago) period, and again in the Triassic (220–200\\u2009Myrs ago) period.', 2), ('evidence-356854', 'Although more than half of the CO 2 emitted is removed from the atmosphere within a century, some fraction (about 20%) of emitted CO 2 remains in the atmosphere for many thousands of years.', 2), ('evidence-551522', 'The National Geographic wrote that the concentration of carbon dioxide in the atmosphere is this high \"for the first time in 55 years of measurement—and probably more than 3 million years of Earth history.\"', 1), ('evidence-247672', 'At times during the paleoclimate, carbon dioxide levels were two or three times greater than today.', 1), ('evidence-213611', 'The last time when it reached this level was 2.6 - 5.3 million years ago.', 1)]\n",
      "[('evidence-551522', 'The National Geographic wrote that the concentration of carbon dioxide in the atmosphere is this high \"for the first time in 55 years of measurement—and probably more than 3 million years of Earth history.\"', 5), ('evidence-1190705', \"Carbon dioxide in Earth's atmosphere is a trace gas, currently (mid 2018) having a global average concentration of 409 parts per million by volume (or 622 parts per million by mass).\", 5), ('evidence-213611', 'The last time when it reached this level was 2.6 - 5.3 million years ago.', 5), ('evidence-323575', 'The subspecies Homo sapiens sapiens, anatomically modern humans, emerged about 200,000 years ago (0.2 Ma) in East Africa (see Omo remains).', 1), ('evidence-31860', 'The chemistry of life may have begun shortly after the Big Bang, 13.8 billion years ago, during a habitable epoch when the Universe was only 10 -- 17 million years old.', 1), ('evidence-859687', 'From the rest area and interpretive center, one can see outcrops of the Cambrian flathead sandstone, about 550 million years old, resting on 2.9 billion year old Precambrian rocks -- some of the oldest rocks on earth.', 1)]\n",
      "[('evidence-161094', 'Inversely, cooler temperatures increase ice, which increases albedo, leading to more cooling.', 5), ('evidence-898871', 'Since the pre-industrial era, albedo has increased due to land use change, which has a cooling effect on the planet.', 5), ('evidence-311416', 'Globally, these effects are estimated to have led to a slight cooling, dominated by an increase in surface albedo.', 5), ('evidence-570618', 'As it is entrained, it cools and acts a heat shield for the surface layer.', 5), ('evidence-1075210', 'A layer of snowfall increases local albedo, reflecting away sunlight, leading to local cooling.', 5), ('evidence-955223', 'Radiational cooling occurs due to the emission of infrared radiation, either by the air or by the surface underneath.', 1)]\n",
      "[('evidence-1101250', 'the apparent strong correlations displayed on these graphs have been obtained by incorrect handling of the physical data.', 5), ('evidence-1028610', 'For large graphs this difference becomes inconsequential so the is dropped resulting in :', 1), ('evidence-1184058', 'More importantly, the GMSL curve shows a net acceleration, estimated to be at 0.08mm/yr2.', 1), ('evidence-1173841', 'It has also accelerated from /day to /day.', 1), ('evidence-464219', 'For this centripetal acceleration we have', 1), ('evidence-39954', 'This article shows how these motion equations are derived, and shows an example graph.', 1)]\n",
      "[('evidence-277435', \"He explores whether global warming will affect hurricanes in general even if it can't explain the specifics of any individual storm.\", 5), ('evidence-61063', 'Category : Atlantic hurricane disambiguation pages', 2), ('evidence-305026', 'Category : Atlantic hurricane disambiguation pages', 2), ('evidence-794530', 'Category : Atlantic hurricane disambiguation pages', 2), ('evidence-815996', 'Category : Atlantic hurricane disambiguation pages', 2), ('evidence-583690', 'Category : Atlantic hurricane disambiguation pages', 2)]\n",
      "[('evidence-1161956', 'The following events occurred in February 1910 :', 2), ('evidence-354405', 'century and first part of the Twentieth.', 1), ('evidence-917120', 'The first was created in 1904 and lasted until 1914.', 1), ('evidence-612034', '1900s : 1900 - 1901 - 1902 - 1903 - 1904 - 1905 - 1906 - 1907 - 1908 - 1909', 1), ('evidence-583799', '1900s : 1900 - 1901 - 1902 - 1903 - 1904 - 1905 - 1906 - 1907 - 1908 - 1909', 1), ('evidence-576286', 'An official opening took place on 14 December 1910.', 1)]\n",
      "[('evidence-708859', 'The question preoccupied both Whigs and Tories.', 2), ('evidence-220275', 'Democratic Labour Party (New Zealand)', 2), ('evidence-447266', 'Category : Labour Party (Netherlands) politicians', 2), ('evidence-445762', 'Category : Labour Party (Norway) politicians', 2), ('evidence-682656', 'of the Liberal Opposition and Progressive Conservative Opposition respectively.', 1), ('evidence-359161', 'Category : Labour Party (Netherlands) politicians', 1)]\n",
      "[('evidence-1108581', 'The sea level at the Funafuti tide gauge has risen at 3.9\\xa0mm per year, which is approximately twice the global average.', 5), ('evidence-778761', 'To make accurate records, tide gauges at fixed stations measure water level over time.', 5), ('evidence-431693', 'Current estimates of global eustatic rise from tide gauge records and satellite altimetry is about +3\\xa0mm/a (see 2007 IPCC report).', 5), ('evidence-839644', 'Tide heights at intermediate times (between high and low water) can be approximated by using the rule of twelfths or more accurately calculated by using a published tidal curve for the location.', 5), ('evidence-65140', 'The highest peak tide recorded by the Tuvalu Meteorological Service was on 24 February 2006 and again on 19 February 2015.', 5), ('evidence-627319', 'The consensus of many studies of coastal tide gauge records is that during the past century sea level has risen worldwide at an average rate of 1–2\\xa0mm/yr reflecting a net flux of heat into the surface of the land and oceans.', 2)]\n",
      "[('evidence-792877', 'These findings also show that models underestimate the sensitivity of Greenland glaciers to ocean warming and resulting ice sheet runoff.', 5), ('evidence-286694', 'A predictive model may have high accuracy, but be useless.', 5), ('evidence-771000', 'One study suggests it would take 3,000 years to completely melt the Greenland ice sheet.', 4), ('evidence-797161', '\"Greenland enters melt mode\".', 2), ('evidence-348665', '\"Images Show Breakup of Two of Greenland\\'s Largest Glaciers, Predict Disintegration in Near Future\".', 2), ('evidence-857269', 'It is also predicted that Greenland will become warm enough by 2100 to begin an almost complete melt during the next 1,000 years or more.', 2)]\n",
      "[('evidence-1115102', \"Over the six years studied, the actual temperature rise was near the top end of the range given by IPCC's 2001 projection, and the actual sea level rise was above the top of the range of the IPCC projection.\", 5), ('evidence-968233', 'Models referenced by the Intergovernmental Panel on Climate Change (IPCC) predict that global temperatures are likely to increase by 1.1 to 6.4\\xa0°C (2.0 to 11.5\\xa0°F) between 1990 and 2100.', 1), ('evidence-747432', '(IPCC, 2007c:819)).', 1), ('evidence-920160', 'The IPCC Fifth Assessment Report reverted to the earlier range of 1.5 to 4.5\\xa0°C (2.7 to 8.1\\xa0°F) (high confidence) because some estimates using industrial-age data came out low.', 1), ('evidence-794227', 'The Intergovernmental Panel on Climate Change (IPCC) will in their fifth report establish scenarios for the future, where the temperature in the Arctic will rise between 1.5 and 2.5\\xa0°C by 2040 and with 2 to 7.5\\xa0°C by 2100.', 1), ('evidence-874478', 'With high confidence, IPCC (2007d:48) projected that:', 1)]\n",
      "[('evidence-115912', 'new modes of manufacture of fuel gas by the alternating action of air and steam on cheap coal (1869) ;', 2), ('evidence-442964', 'Some iron and steel making and other industrial processes burn coal.', 2), ('evidence-598949', 'He has also written the following blogs:', 2), ('evidence-238586', \"The paper is one of News Limited 's community newspapers in New South Wales.\", 1), ('evidence-1185590', 'Instead of pulverizing the coal and burning it directly as fuel in the steam-generating boiler, the coal is gasified to create syngas, which is burned in a gas turbine to produce electricity (just like natural gas is burned in a turbine).', 1), ('evidence-100448', 'During combustion, the reaction between coal and the air produces oxides of carbon, including carbon dioxide (CO, an important greenhouse gas), oxides of sulfur (mainly sulfur dioxide, SO), and various oxides of nitrogen (NO).', 1)]\n",
      "[('evidence-1166728', 'In Africa and Latin America many rainfed crops are near their maximum temperature tolerance, so that yields are likely to fall sharply for even small climate changes; falls in agricultural productivity of up to 30% over the 21st century are projected.', 5), ('evidence-1131834', 'Scientists project that an annual increase of 1\\xa0°C will in turn decrease wheat, rice and corn yields by 10%.', 5), ('evidence-461287', 'This work is a study of where crops can best be grown.', 5), ('evidence-805273', 'In a primitive agricultural economy savings might take the form of holding back the best of the corn harvest as seed corn for the next planting season.', 2), ('evidence-943273', 'It is made of dough composed its shape by dry ground rice and wheat which is mature in proper temperature.', 2), ('evidence-1137726', 'As farming developed, grain agriculture became more sophisticated and prompted a division of labour to store food between growing seasons.', 2)]\n",
      "[('evidence-1089063', 'The 2003 European heat wave led to the hottest summer on record in Europe since at least 1540.', 5), ('evidence-1134338', 'The European heat wave of 2006 was the second massive heat wave to hit the continent in four years, with temperatures rising to 40\\xa0°C (104\\xa0°F) in Paris; in Ireland, which has a moderate maritime climate, temperatures of over 32\\xa0°C (90\\xa0°F) were reported.', 5), ('evidence-54195', 'In Europe a mixed situation exists.', 2), ('evidence-630043', 'The European heat wave of 2007 affected primarily south-eastern Europe during late June through August.', 2), ('evidence-850795', 'Party of the European Left, a party at the European level', 1), ('evidence-641880', 'They play in the Polish American Football League and the IFAF Europe Champions League.', 1)]\n",
      "[('evidence-1022892', 'Eyre Creek (Lake Eyre basin), part of the Lake Eyre basin and located in Queensland and South Australia', 1), ('evidence-1112009', 'The habitat is rainforest and moist eucalyptus forests in south eastern Australia.', 1), ('evidence-629544', 'Banksia\"s are popular garden plants in Australia because of their large, showy flower heads, and because the large amounts of nectar they produce attracts birds and small mammals.', 1), ('evidence-793443', 'Category : Carnivorous plants of Australia', 1), ('evidence-732553', 'It is native to rainforests of Eastern Australia.', 1), ('evidence-334443', 'Australia A is a national representative rugby union football team of Australian rugby union.', 1)]\n",
      "[('evidence-803272', 'To weigh something is to measure its weight.', 1), ('evidence-303371', 'He was playing the position of midfielder and is 1.79 m tall and weighs 78 kg.', 1), ('evidence-194948', 'His actual weight at the time was 256 pounds.', 1), ('evidence-555732', 'She weighs 61 kilograms, and is therefore in the lightweight class.', 1), ('evidence-1110603', 'He was 1 m 68 cm tall and weighed 68 kg.', 1), ('evidence-935858', 'In some situations, the temperature actually increases with height.', 1)]\n",
      "[('evidence-207544', 'Institute of Public Administration Australia', 2), ('evidence-307837', 'The family-life is also taught as the foremost austerity.', 1), ('evidence-466134', 'Ablett family, family of Australian rules footballers', 1), ('evidence-799481', \"The ``fairness test'' was a concept of the Australian Act of Parliament, the Workplace Relations Amendment (A Stronger Safety Net) Act 2007.\", 1), ('evidence-103419', 'the Minister for the Prevention of Family Violence.', 1), ('evidence-731730', \"Restore the Family For Children 's Sake is a political party launched in Great Britain for the 2015 Parliamentary General Election on 7 May 2015.\", 1)]\n",
      "[('evidence-184934', 'The graph on the left shows the temperature change over the past 12,000 years, from various sources.', 5), ('evidence-968082', 'Since 2016, their complete charts are accesible to the general public, and an archive for their weekly charts after July 2014 is available on their website.', 5), ('evidence-1174708', 'The IPCC First Assessment Report included a \"schematic diagram\" of global temperature variations over the last thousand years which has been traced to a graph based loosely on Hubert Lamb\\'s 1965 paper.', 2), ('evidence-598168', 'The IPCC Fourth Assessment Report (AR4) published in 2007 featured a graph showing 12 proxy based temperature reconstructions, including the three highlighted in the 2001 Third Assessment Report (TAR); Mann, Bradley & Hughes 1999 as before, Jones et al.', 2), ('evidence-21832', 'This data was also available through Yahoo!', 2), ('evidence-45045', 'Available data show, for example, that :', 1)]\n",
      "[('evidence-268048', 'The year 2016 was the hottest year on record, with many weather and climate extremes, according to the most recent WMO report.', 5), ('evidence-820847', '2016 was the warmest year on record.', 5), ('evidence-227760', '2016.', 1), ('evidence-854482', '2016', 1), ('evidence-906103', '2016', 1), ('evidence-309393', '2016', 1)]\n",
      "[('evidence-889659', 'Human activity — mostly as a by-product of fossil fuel combustion, partly by land use changes — increases the number of tiny particles (aerosols) in the atmosphere.', 5), ('evidence-1000195', 'The activities comprise:', 5), ('evidence-1056901', 'The main activities are:', 5), ('evidence-452150', 'Other human impacts on the atmosphere include the air pollution in cities, the pollutants including toxic chemicals like nitrogen oxides, sulfur oxides, volatile organic compounds and airborne particulate matter that produce photochemical smog and acid rain, and the chlorofluorocarbons that degrade the ozone layer.', 5), ('evidence-546902', 'Karim Mansh (born 15 February 1989) is an Egyptian Football Midfielder who plays for Egyptian Premier League side Ittihad Alexandria.', 1), ('evidence-778342', \"The club has teams in the men 's Boxer herreligaen and in the women ´ s Boxer Dameligaen, and play their home matches in Gråkjær Arena\", 1)]\n",
      "[('evidence-1141005', 'The village expanded in the later 20th century with the construction of modern houses.', 1), ('evidence-402459', 'More development continued into the early 21st century.', 1), ('evidence-690966', 'The district includes 24 mid - and late-19th century structures.', 1), ('evidence-154022', 'Additions were made in the late 19th century, with alterations in the 20th century.', 1), ('evidence-604963', 'Extensive additions were made in the early part of the 20th century.', 1), ('evidence-127856', 'However, a few carried on into the 20th century and the village retained a small, continuous population.', 1)]\n",
      "[('evidence-19249', 'Dairy and beef cows as well as grains are produced in Sømna.', 5), ('evidence-645135', \"A simple exchange of beef to soy beans (a common feed source for cattle) in Americans' diets would, according to one estimate, result in meeting between 46 and 74 percent of the reductions needed to meet the 2020 greenhouse gas emission goals of the United States as pledged in 2009.\", 5), ('evidence-579382', 'They are raised as livestock for meat (called beef and veal), dairy products (milk), leather and as draught animals.', 5), ('evidence-355576', 'This city is a producer of agricultural products including soybeans and beans.', 2), ('evidence-164405', 'animal meat).', 1), ('evidence-659029', 'The mother feeds her children with meat and eggs, and her children in turn feed their mother with eggs and meat.', 1)]\n",
      "[('evidence-1042926', 'Regime shifts are driven by the interaction of fire, herbivory, and variable rainfall.', 5), ('evidence-456178', 'Climate change will modify rainfall, evaporation, runoff, and soil moisture storage.', 5), ('evidence-164219', 'Changes in total seasonal precipitation or in its pattern of variability are both important.', 5), ('evidence-707283', 'Rainbands can be stratiform or convective, and are generated by differences in temperature.', 2), ('evidence-407096', 'Over the years, the definitions of \"climate variability\" and the related term \"climate change\" have shifted.', 2), ('evidence-1028507', 'The major cause of rain production is moisture moving along three-dimensional zones of temperature and moisture contrasts known as weather fronts.', 2)]\n",
      "[('evidence-185162', 'When tropical storm or hurricane conditions are expected within 48 hours, the center issues watches and warnings via the news media and National Oceanic and Atmospheric Administration (NOAA) Weather Radio.', 2), ('evidence-457921', \"The Evening News is not a single newscast but the national aggregate of CTV O&O s ' local 6:00 p.m. newscasts.\", 2), ('evidence-660203', 'Approximately 95 % of the TV viewers of Armenia and Nagorno-Karabakh are able to watch the channel, which broadcasts 18 hours daily.', 2), ('evidence-833090', 'The station broadcasts six streams of video.', 1), ('evidence-1195192', 'The 24-hour channel broadcasts national and international news headlines, breaking news, and information.', 1), ('evidence-85031', 'It issues storm warnings on a daily basis.', 1)]\n",
      "[('evidence-459315', 'This jet stream instability brings warm air north as well as cold air south.', 5), ('evidence-46734', 'The polar vortex is a whirlwind of especially cold, dense air forming near the poles that is contained by the jet stream, a belt of fast-flowing winds that serves as a boundary between cold polar air and the warmer air of other hemispheres.', 5), ('evidence-1172877', 'East winds moving over this warm water move warm air from over the Gulf Stream inland, helping to keep temperatures milder across the state than elsewhere across the Southeast during the winter.', 5), ('evidence-921243', 'Therefore, the strong eastward moving jet streams are in part a simple consequence of the fact that the Equator is warmer than the North and South poles.', 5), ('evidence-427299', 'This in turn reduces the temperature gradient that drives jet stream winds, which may eventually cause the jet stream to become weaker and more variable in its course.', 4), ('evidence-1109126', 'As the vortex becomes weaker, it is more likely to allow cold arctic air to escape from the confines of the jet stream and spill over into other hemispheres.', 2)]\n",
      "[('evidence-356854', 'Although more than half of the CO 2 emitted is removed from the atmosphere within a century, some fraction (about 20%) of emitted CO 2 remains in the atmosphere for many thousands of years.', 5), ('evidence-620559', 'Eventually, the land and oceans will take up most of the extra carbon dioxide, but as much as 20 percent may remain in the atmosphere for many thousands of years.\"', 5), ('evidence-694034', 'Here, the lifetime is defined as the time required for a given perturbation of the GHG in the atmosphere to be reduced to 37% of its initial amount.', 5), ('evidence-938381', 'The atmospheric lifetime of CO 2 is estimated of the order of 30–95 years.', 1), ('evidence-436921', 'Oxygen only began to persist in the atmosphere in small quantities about 50 million years before the start of the Great Oxygenation Event.', 1), ('evidence-1190705', \"Carbon dioxide in Earth's atmosphere is a trace gas, currently (mid 2018) having a global average concentration of 409 parts per million by volume (or 622 parts per million by mass).\", 1)]\n",
      "[('evidence-617457', 'Of these, a record seven strengthened into major hurricanes, a record-tying five became Category 4 hurricanes and a record four reached Category 5 strength, the highest categorization for hurricanes on the Saffir-Simpson Hurricane Scale.', 5), ('evidence-269560', 'Six of the eight hurricanes attained Category 1 hurricane status or higher on the Saffir-Simpson Hurricane Scale, of which three produced hurricane-force winds in the United States.', 2), ('evidence-901129', 'The list of North Carolina hurricanes before 1900 encompasses 139 tropical cyclones that affected the U.S. state of North Carolina.', 1), ('evidence-226720', 'thus making it the strongest Atlantic hurricane by wind speed.', 1), ('evidence-839911', 'List of North Carolina hurricanes (pre-1900)', 1), ('evidence-900154', 'Five of the eleven systems intensified into hurricanes, and two further attained their peaks as major hurricanes.', 1)]\n",
      "[('evidence-956029', 'On August 21, 2007, the Northwest Passage became open to ships without the need of an icebreaker.', 5), ('evidence-933469', 'Also in 2017, the Finnish icebreaker MSV Nordica, set a record for the earliest crossing of the Northwest Passage.', 5), ('evidence-1017927', 'The 2007 melt season let to a minimum 39% below the 1979–2000 average, and for the first time in human memory, the fabled Northwest Passage opened completely.', 5), ('evidence-738340', 'Increased melting of Arctic ice since 2007 enables ships to travel the Northwest Passage for some weeks in summertime, avoiding the longer routes via the Suez Canal or the Panama Canal.', 5), ('evidence-29644', 'On September 14, 2007, the European Space Agency stated that ice loss that year had opened up the historically impassable passage, setting a new low of ice cover as seen in satellite measurements which went back to 1978.', 5), ('evidence-291159', 'The feature is ice-free, extending 280 m in southeast-northwest direction and 90 m wide.', 5)]\n",
      "[('evidence-319975', \"2016's record meant that 16 of the 17 warmest years have occurred since 2000, 2017 being the third-hottest year on record meant that 17 of the last 18 warmest years have occurred since 2000.\", 5), ('evidence-729613', '\"U.S. Report Confirms 2016 Was The Hottest Year On Record\".', 3), ('evidence-453183', 'As of 16 February 2019.', 2), ('evidence-869356', 'in 2016.', 2), ('evidence-357196', 'The signature is roughly as seen in the picture, but it can be difficult to decipher, since it is often written with icing or marked / scratched into the subject in hand.', 1), ('evidence-1081090', 'He signed for Stranraer in the summer of 2013.', 1)]\n",
      "[('evidence-1119610', \"Trained in philosophy, theology, psychoanalysis, and comparative religious studies, he criticized the Roman Catholic Church 's literal and biologistic interpretations of miracles, the virgin birth, Ascension, and Resurrection as superstitious and medieval.\", 5), ('evidence-392', \"Galileo's contributions caused difficulties for theologians and natural philosophers of the time, as they contradicted scientific and philosophical ideas based on those of Aristotle and Ptolemy and closely associated with the Catholic Church.\", 5), ('evidence-702483', \"In ordinary usage, skepticism (US) or scepticism (UK) (Greek: 'σκέπτομαι' skeptomai, to search, to think about or look for; see also spelling differences) can refer to: an attitude of doubt or a disposition to incredulity either in general or toward a particular object; the doctrine that true knowledge or some particular knowledge is uncertain; the method of suspended judgment, systematic doubt, or criticism that is characteristic of skeptics (Merriam–Webster).\", 4), ('evidence-972760', 'Skepticism (American English) or scepticism (British English, Australian English, and Canadian English) is generally a questioning attitude or doubt towards one or more items of putative knowledge or belief or dogma.', 4), ('evidence-768480', 'In 1966, he caused considerable controversy in both the Catholic and Anglican communities by publicly leaving the Roman Catholic Church on the basis of an \"intellectual rejection of the Papacy.', 4), ('evidence-769659', 'Yet, the conflict thesis and other critiques emphasize historical or contemporary conflict between the Catholic Church and science, citing in particular the trial of Galileo as evidence.', 2)]\n",
      "[('evidence-330124', 'Up to 2 to 3\\xa0feet (0.6–0.9\\xa0m) of snow was forecast for mountainous areas of the state.', 5), ('evidence-150367', 'The Styrian Prealps (in German \"Steirisches Randgebirge\", in Slovenian \"Štajersko Robno hribovje\") is the proposed name for a subdivision of mountains in a new, and as yet unadopted, classification of the Alps, located in Austria and, marginally, in Slovenia and Hungary.', 5), ('evidence-393887', \"It is generally considered to be Austria 's fourth highest mountain (although it can be up to sixteenth if every subsidiary summit is counted).\", 2), ('evidence-479438', 'Snow was reported in some parts of eastern Ohio and south of Cleveland.', 1), ('evidence-699917', 'Kőszeg Mountains, Hungary ([Günser Gebirge, links = no])', 1), ('evidence-237614', 'Category : Mountain ranges of Lower Austria', 1)]\n",
      "[('evidence-702483', \"In ordinary usage, skepticism (US) or scepticism (UK) (Greek: 'σκέπτομαι' skeptomai, to search, to think about or look for; see also spelling differences) can refer to: an attitude of doubt or a disposition to incredulity either in general or toward a particular object; the doctrine that true knowledge or some particular knowledge is uncertain; the method of suspended judgment, systematic doubt, or criticism that is characteristic of skeptics (Merriam–Webster).\", 2), ('evidence-677693', \"DoubleClick 's headquarters is in New York City, United States.\", 1), ('evidence-1158271', 'The NZ Skeptics is a New Zealand incorporated society created in 1986, with the aim of promoting critical thinking.', 1), ('evidence-957157', \"Moyet announced ``Reassuring Pinches'' as the first single off Other and premiered the radio edit of the song on Graham Norton 's BBC Radio 2 show on 29 April 2017.\", 1), ('evidence-972760', 'Skepticism (American English) or scepticism (British English, Australian English, and Canadian English) is generally a questioning attitude or doubt towards one or more items of putative knowledge or belief or dogma.', 1), ('evidence-153438', 'Diane Schwerm Sykes (born December 23, 1957) is a United States Circuit Judge of the United States Court of Appeals for the Seventh Circuit and former Justice of the Wisconsin Supreme Court.', 1)]\n",
      "[('evidence-1095891', 'BCP delegate to the Second and Fourth Congress of the Comintern, held in 1920 and 1922 respectively.', 1), ('evidence-435016', 'The charges carried a possible twenty-year prison sentence.', 1), ('evidence-1051389', 'Sir Colin Sampson, CBE, QPM, KStJ (b 26 May 1929) held several senior police posts in the last decades of the 20th century.', 1), ('evidence-640572', 'There are similar comments in several other issues of \"Wisden\" across the 1930s.', 1), ('evidence-482462', 'In 1931, the institute was moved under a newly constituted Indian Lac Cess Committee (ILCC).', 1), ('evidence-604963', 'Extensive additions were made in the early part of the 20th century.', 1)]\n",
      "[('evidence-837622', 'A Profile of Mansoura Ez Eldin on Qantara', 1), ('evidence-550001', 'Aside from natural causes, such as El Niño Southern Oscillation, the effects of droughts and floods have been exacerbated by manmade interventions including soil erosion stemming from poor cropping and grazing practices, deforestation, and poor land use-practices.', 1), ('evidence-261572', 'The team was managed by Nino Bongiovanni.', 1), ('evidence-947870', 'However, Jose left in the following year due to personal issues and was replaced by Rojas.', 1), ('evidence-29703', 'Effects on humans include disruption of various hormonal mechanisms.', 1), ('evidence-635395', 'He formed part of the Tertulia Literaria del Buen Gusto, that was hosted in the house of doña Manuela Sanz de Santamaría de González Manrique, where many other prominent figures like Francisco José de Caldas, José Fernández Madrid, Camilo Torres Tenorio, Alexander von Humboldt, Francisco Antonio Ulloa among others.', 1)]\n",
      "[('evidence-1070085', 'There is no evidence to substantiate these unorthodox claims.', 1), ('evidence-150984', 'There is no evidence that it was ever exhibited in its original format.', 1), ('evidence-19095', 'No evidence exists for previous construction on this site.', 1), ('evidence-833783', 'There is no documentary proof about the history of this village.', 1), ('evidence-494187', 'A series of independent public investigations of the allegations found no evidence of fraud or scientific misconduct.', 1), ('evidence-781822', 'However there is no evidence from neutral sources.', 1)]\n",
      "[('evidence-712740', 'The Medieval Warm Period (MWP) is generally thought to have occurred from c.\\u2009950–c.', 5), ('evidence-972029', 'He added \"The last 2000 years of proxy reconstructed temperature variations for the Northern Hemisphere shows that the Modern Warm Period (today) is not significantly different from the Medieval Warm Period of ~1000 years ago, or the Roman Warm Period of ~2000 years ago.', 5), ('evidence-820057', \"At that time, the climate was not unlike today's, but there was a slightly warmer period from the 10th–14th centuries known as the Medieval Warm Period.\", 5), ('evidence-33543', 'However, that view was questioned by other researchers; the IPCC First Assessment Report of 1990 discussed the \"Medieval Warm Period around 1000 AD (which may not have been global) and the Little Ice Age which ended only in the middle to late nineteenth century.\"', 5), ('evidence-1204932', 'The study was disputed by Willie Soon and Sallie Baliunas, who said that the reconstruction only went back to 1400 to avoid showing the Medieval Warm Period.', 5), ('evidence-974202', 'The IPCC Second Assessment Report (SAR) of 1996 featured a graph of an early northern hemisphere reconstruction by Raymond S. Bradley and Phil Jones, and noted the 1994 reconstruction by Hughes and Henry F. Diaz questioning how widespread the Medieval Warm Period had been at any one time.', 5)]\n",
      "[('evidence-1134336', 'Most of the Antarctic continent is overlain by glaciers, under which much of the terrain is subject to basal melting.', 5), ('evidence-728645', 'In contrast to the melting of the Arctic sea ice, sea ice around Antarctica has been expanding as of 2013[update].', 1), ('evidence-303036', 'Sea ice extent expands annually in the Antarctic winter and most of this ice melts in the summer.', 1), ('evidence-825580', \"Most of the world's ice volume is in Antarctica, principally in the East Antarctic Ice Sheet.\", 1), ('evidence-116639', \"[1] In their latest study (September 20, 2007) NASA researchers have confirmed that Antarctic snow is melting farther inland from the coast over time, melting at higher altitudes than ever and increasingly melting on Antarctica's largest ice shelf.\", 1), ('evidence-68501', 'The extent of sea ice around Antarctica (in terms of square kilometers of coverage) has remained roughly constant in recent decades, although the amount of variation it has experienced in its thickness is unclear.', 1)]\n",
      "[('evidence-356854', 'Although more than half of the CO 2 emitted is removed from the atmosphere within a century, some fraction (about 20%) of emitted CO 2 remains in the atmosphere for many thousands of years.', 5), ('evidence-1190705', \"Carbon dioxide in Earth's atmosphere is a trace gas, currently (mid 2018) having a global average concentration of 409 parts per million by volume (or 622 parts per million by mass).\", 5), ('evidence-1131681', 'About 3.4 billion years ago, nitrogen was the major part of the then stable \"second atmosphere\".', 5), ('evidence-252580', 'Since the time of the Industrial Revolution about 200 years ago, the concentration of carbon dioxide in the atmosphere has increased from about 280 parts per million to 370 parts per million, an increase of around 30%.', 5), ('evidence-204526', \"CO 2 currently forms about 410 parts per million (ppm) of earth's atmosphere, compared to about 280 ppm in pre-industrial times, and billions of metric tons of CO 2 are emitted annually by burning of fossil fuels.\", 1), ('evidence-549330', 'Over the next billion years, the metabolic activity of life transformed the atmosphere into a mixture of carbon dioxide, nitrogen, and water vapor.', 1)]\n",
      "[('evidence-370996', 'Stadionul Municipal (Râmnicu Vâlcea)', 2), ('evidence-653766', 'Dosseh Gagnon Attivi (born 7 February 1989) is a Togolese footballer who plays as a defender.', 1), ('evidence-1131599', 'Dritan Baholli (born 1974), Albanian football player and coach', 1), ('evidence-94386', 'Willo Flood (born 1985), Irish footballer', 1), ('evidence-241441', 'Tetyana Romanenko, Ukrainian football striker', 1), ('evidence-727828', 'James Henry Kanicki (born December 17, 1941 in Bay City, Michigan) is a former American football defensive tackle in the National Football League for the Cleveland Browns and New York Giants.', 1)]\n",
      "[('evidence-193559', 'Strong winds of dry nature blow from September to April, causing dryness in the locality with the result there is a fire hazard, especially in the deciduous forests.', 5), ('evidence-918540', 'Trees in cloud forests collect the liquid water in fog or low clouds onto their surface, which drips down to the ground.', 5), ('evidence-136867', 'Wind erosion requires strong winds, particularly during times of drought when vegetation is sparse and soil is dry (and so is more erodible).', 2), ('evidence-242142', 'It is found in wet to dry sclerophyll forests and low shrub woodlands.', 1), ('evidence-246431', 'Moisture also refers to the amount of water vapour present in the air.', 1), ('evidence-63327', 'The dry soil leads to lower water intake for the trees to extract.', 1)]\n",
      "[('evidence-911934', 'In August 2017, Hurricane Harvey made landfall along the central Texas coast, then migrated to and stalled over the greater Houston area for several days, producing extreme, unprecedented rainfall totals of over 40\\xa0inches (1,000\\xa0mm) in many areas, unleashing widespread flooding.', 5), ('evidence-1208019', 'Preliminary reporting from the National Oceanic and Atmospheric Administration set a more concrete total at $125 billion, making Harvey the 2nd costliest tropical cyclone on record, behind Hurricane Katrina with 2017 costs of $161 billion (after adjusting for inflation).', 2), ('evidence-1009090', 'Houston Hurricanes FC, (2012 -- present), a National Premier Soccer League team', 1), ('evidence-1172313', 'Brian Harvey (born 12 January 1947) is an English former footballer.', 1), ('evidence-74523', 'Ferdie Harvey (born 16 December 1936) is a Jamaican cricketer.', 1), ('evidence-953058', 'Julie Harvey is a former association football player who represented New Zealand at international level.', 1)]\n",
      "[('evidence-711638', 'Environmental groups also cite recent scientific research which has found that it can take many decades for the carbon released by burning biomass to be recaptured by regrowing trees, and even longer in low productivity areas; furthermore, logging operations may disturb forest soils and cause them to release stored carbon.', 5), ('evidence-177293', 'Only when actively growing can a tree or forest remove carbon, by storing it in plant tissues.', 1), ('evidence-198868', 'Waste derived biofuel produces up to 95% less pollution in its life-cycle and so therefore this measure will reduce emissions by the equivalent of taking 42,000 cars off the road every year.', 1), ('evidence-482920', 'Deforestation (forest/tree removal)', 1), ('evidence-182507', 'A goal is to find techniques that might be able to strip out 80 to 95% of the caesium from contaminated soil and other materials, efficiently and without destroying the organic content in the soil.', 1), ('evidence-130992', 'Emissions are to be reduced by two percent each year through 2015 and three percent each year from 2015 to 2020.', 1)]\n",
      "[('evidence-363528', 'The list includes scientists from several specialities or disciplines.', 1), ('evidence-834766', 'Several scientists (including e.g.', 1), ('evidence-29437', 'This is a list of persons known for their research in biophysics.', 1), ('evidence-141317', 'The school also has a specialism in science.', 1), ('evidence-221216', 'The faculty consists of internationally renowned professors and junior researchers from 54 research groups at 6 participating institutions and active in 13 research fields, who will be intensively involved in the supervision and mentoring of the BIG-NSE students, among them the Fritz Haber Institute of the Max Planck Society, the working place of Professor Gerhard Ertl, the winner of the Nobel Prize in Chemistry 2007.', 1), ('evidence-663310', 'This is a list of the best-known Slovenian computer scientists.', 1)]\n",
      "[('evidence-224185', 'Several scientific sources state that the decline being referred to is a decline in tree ring climate proxy metrics, not temperature.', 5), ('evidence-464939', 'The implications of the decline are discussed in Chapter 2 of the IPCC Third Assessment Report, and in Chapter 6 of the 2007 IPCC Fourth Assessment Report (AR4) which describes discussion of various possible reasons for the divergence which does not affect all the trees, and says that there is no consensus about the cause.', 5), ('evidence-736392', 'This \"decline\" referred to the well-discussed tree-ring divergence problem, but these two phrases were taken out of context by global warming sceptics, including US Senator Jim Inhofe and former Governor of Alaska Sarah Palin, as though they referred to some decline in measured global temperatures, even though they were written when temperatures were at a record high.', 5), ('evidence-223996', 'Its declines are associated with those of its host species.', 5), ('evidence-267910', 'The issues with tree rings had not been hidden, but were extensively discussed in scientific literature and in IPCC reports.', 5), ('evidence-713207', 'Earlier extended minima have been discovered through analysis of tree rings and appear to have coincided with lower-than-average global temperatures.', 5)]\n",
      "[('evidence-515817', 'The planet Venus experienced runaway greenhouse effect, resulting in an atmosphere which is 96% carbon dioxide, with surface atmospheric pressure roughly the same as found 900\\xa0m (3,000\\xa0ft) underwater on Earth.', 5), ('evidence-1043526', \"Studies have suggested that billions of years ago, Venus's atmosphere was much more like the one surrounding Earth, and that there may have been substantial quantities of liquid water on the surface, but after a period of 600 million to several billion years, a runaway greenhouse effect was caused by the evaporation of that original water, which generated a critical level of greenhouse gases in its atmosphere.\", 5), ('evidence-1018829', \"More recent studies have suggested that several billion years ago, Venus's atmosphere was much more like Earth's than it is now and that there were probably substantial quantities of liquid water on the surface, but a runaway greenhouse effect was caused by the evaporation of that original water, which generated a critical level of greenhouse gases in its atmosphere.\", 5), ('evidence-989240', 'The atmospheres of the planets Venus and Mars are primarily composed of carbon dioxide, with small quantities of nitrogen, argon, oxygen and traces of other gases.', 5), ('evidence-500249', 'In the extreme, the planet Venus is thought to have experienced a very large increase in greenhouse effect over its lifetime, so much so that its poles have warmed sufficiently to render its surface temperature effectively isothermal (no difference between poles and equator).', 5), ('evidence-1018575', 'A runaway greenhouse effect involving carbon dioxide and water vapor has long ago been hypothesized to have occurred on Venus, this idea is still largely accepted[citation needed].', 2)]\n",
      "[('evidence-567343', '7.', 5), ('evidence-1126935', '7.', 5), ('evidence-966714', '7.', 5), ('evidence-1193533', 'A group of Book 9 models come with different specifications.', 5), ('evidence-697360', 'Those predictions proved incorrect.', 5), ('evidence-2524', 'The Atkinson -- Shiffrin model (also known as the multi-store model or modal model) is a model of memory proposed in 1968 by Richard Atkinson and Richard Shiffrin.', 1)]\n",
      "[('evidence-1171424', 'The effects of inhaling particulate matter that has been widely studied in humans and animals include asthma, lung cancer, respiratory diseases, cardiovascular disease, premature delivery, birth defects, low birth weight, and premature death.', 5), ('evidence-1165733', 'Pulmonary infections and damaging of the pulmonic tissues may be the consequence.', 5), ('evidence-248009', 'Studies have shown that exposure to particulate matter is related to an increase of respiratory and cardiac mortality.', 5), ('evidence-562068', 'It damages lung tissues and causes problems for people with asthma and other lung diseases.', 5), ('evidence-555406', 'Increased levels of fine particles in the air are linked to health hazards such as heart disease, altered lung function and lung cancer.', 5), ('evidence-211431', 'It may cause diseases, allergies and even death to humans; it may also cause harm to other living organisms such as animals and food crops, and may damage the natural or built environment.', 5)]\n",
      "[('evidence-436729', 'The current trend of decreasing tilt, by itself, will promote milder seasons (warmer winters and colder summers), as well as an overall cooling trend.', 5), ('evidence-512115', 'Temperature-related changes include longer growing season, more heatwaves and fewer cold spells, thawing permafrost, earlier river ice break-up, earlier spring runoff, and earlier budding of trees.', 5), ('evidence-1119827', \"In other words, the increase from year-to-year isn't constant, but itself is increasing.\", 5), ('evidence-507569', \"Increased tilt increases the amplitude of the seasonal cycle in insolation, providing more solar radiation in each hemisphere's summer and less in winter.\", 5), ('evidence-586240', 'While warmer temperatures create longer growing seasons, and faster growth rates for plants, it also increases the metabolic rate and number of breeding cycles of insect populations.', 2), ('evidence-1127182', 'If compared to the period 1861–1890, the annual increase in temperature is 1.8\\xa0°C.', 2)]\n",
      "[('evidence-386380', 'Coral reefs are projected to decline by a further 70–90% at 1.5°C, and even more than 99% at 2°C.', 5), ('evidence-217138', \"Mangrove area has declined worldwide by more than one-third since 1950, and 60% of the world's coral reefs are now immediately or directly threatened.\", 5), ('evidence-888119', 'Hard coral cover on reefs in the Caribbean have declined by an estimated 80%, from an average of 50% cover in the 1970s to only about 10% cover in the early 2000s.', 5), ('evidence-513559', 'An overall analysis of coral loss found that coral populations on the Great Barrier Reef had declined by 50.7% from 1985 to 2012, but with only about 10% of that decline attributable to bleaching, and the remaining 90% caused about equally by tropical cyclones and by predation by crown-of-thorns starfishes.', 5), ('evidence-705942', \"Since the 19th century, the world's coral reefs have been reduced by half.\", 5), ('evidence-406279', '\"From despair to repair: Dramatic decline of Caribbean corals can be reversed\".', 5)]\n",
      "[('evidence-631826', 'However, the evidence is clear that severe weather and moderate rainfall are also increasing.', 5), ('evidence-713091', 'US popular media coverage differs from that presented in other countries, where reporting is more consistent with the scientific literature.', 5), ('evidence-1077394', 'She has been quoted by other news media.', 1), ('evidence-157768', 'The experiments showed that people are more likely to believe a claim is true regardless of evidence when a decorative photograph appears alongside it.', 1), ('evidence-622666', \"Although preceding these changes, Rosemary West 's 1995 trial has also been cited as an example where similar fact evidence was crucial to the prosecution case.\", 1), ('evidence-788312', 'There are some instances where the sources disagree.', 1)]\n",
      "[('evidence-765717', 'In 2010, this prompted U.N. Secretary-General Ban Ki-moon and IPCC chair Rajendra K. Pachauri to request that the InterAcademy Council (IAC) review the IPCC and recommend ways to strengthen its processes and procedures for the preparation of AR5.', 5), ('evidence-677502', 'The Fifth Assessment Report (AR5) consists of three Working Group (WG) Reports and a Synthesis Report.', 1), ('evidence-354829', 'The Fifth Assessment Report (AR5) of the United Nations Intergovernmental Panel on Climate Change (IPCC) is the fifth in a series of such reports.', 1), ('evidence-1060242', 'This article refers to reports produced by the IPCC.', 1), ('evidence-659351', 'AR5 Synthesis Report', 1), ('evidence-1040995', 'The IPCC published its First Assessment Report (FAR) in 1990, a supplementary report in 1992, a Second Assessment Report (SAR) in 1995, a Third Assessment Report (TAR) in 2001, a Fourth Assessment Report (AR4) in 2007 and a Fifth Assessment Report (AR5) in 2014.', 1)]\n",
      "[('evidence-432776', 'However, the intense heat (particularly in the summer months) endures.', 5), ('evidence-974905', 'Adults of the summer and autumn generations are distinctly smaller.', 2), ('evidence-938010', 'The adults can be found in the late summer.', 2), ('evidence-949840', 'Let every woman have a torch, every child a firebrand\" to fire everything.', 1), ('evidence-308641', 'Hottest Summer Night is a Novellas written by author Rony Dasgupta.', 1), ('evidence-696783', 'Summer (early June to mid September) is hot and sunny with a July and August average of 23\\xa0°C (73\\xa0°F).', 1)]\n",
      "[('evidence-790775', 'They were thought to come from the Oriskany formation, a sandstone that had been drilled for natural gas in the vicinity.', 5), ('evidence-1014898', 'It is a possibly natural mound with an earth and stone bank around its summit.', 5), ('evidence-59883', 'It is a possibly natural mound with an earth and stone bank around its summit.', 5), ('evidence-128835', 'It is found in gravelly lateritic soils.', 2), ('evidence-974178', 'Preceding cultures also constructed mounds in this area.', 2), ('evidence-620971', 'It builds its nest within the nest of acrobat ants (Crematogaster).', 1)]\n",
      "[('evidence-318016', \"pH diminution in addition to elevated metal concentration can also have adverse effects on macroinvertebrates' behaviour, showing that direct toxicity is not the only issue.\", 2), ('evidence-198855', 'Some strains of this species are very alkaline-tolerant and may grow in environments with pH as high as 11.', 1), ('evidence-550445', \"Calcium dissolves with very weak acids and any increase in the ocean's acidity will be destructive for the calcareous organisms.\", 1), ('evidence-368922', 'Typically, they are used as a buffer system in cell culture media and aid in maintaining the optimum physiological pH (roughly 7.0-7.4) for cellular growth.', 1), ('evidence-911871', 'This increase in acidity inhibits all marine life – having a greater impact on smaller organisms as well as shelled organisms (see scallops).', 1), ('evidence-858968', 'Aside from the slowing and/or reversing of calcification, organisms may suffer other adverse effects, either indirectly through negative impacts on food resources, or directly as reproductive or physiological effects.', 1)]\n",
      "[('evidence-670169', 'It is on the shortest route between the east coast of the United States and the Panama Canal.', 5), ('evidence-243995', 'Strong westerly (eastward) winds blow around Antarctica, driving a significant flow of water northwards.', 5), ('evidence-699471', 'The ship served as an ocean liner and sailed to Vancouver, Seattle, New Orleans, Cape Town and Buenos Aires.', 1), ('evidence-169562', 'Classic International Cruises was a British-Australian owned shipping company operating five luxury cruise ships, most notably their flagship, the rebuilt ocean liner MS Athena.', 1), ('evidence-482570', 'A UNMIL ship, the MV Catarina, sails fortnightly between Harper and Monrovia.', 1), ('evidence-541916', 'It passes through Antarctica and Antarctic ice shelves.', 1)]\n",
      "[('evidence-1197437', 'Recent studies have shown that as much black carbon is inhaled in traffic and at other locations as at the home address.', 2), ('evidence-372542', 'Black is both a color and the absence of color.', 1), ('evidence-676197', 'It could be any color: black, red, green, or blue.', 1), ('evidence-85488', 'In some individuals the dark coloration can appear almost black.', 1), ('evidence-291327', 'The term black carbon is used to imply that this soot component is primarily responsible for the absorption of visible light.', 1), ('evidence-63765', 'It appears black because light rays entering the pupil are either absorbed by the tissues inside the eye directly, or absorbed after diffuse reflections within the eye that mostly miss exiting the narrow pupil.', 1)]\n",
      "[('evidence-173281', \"If the Greenland ice sheet were to melt away completely, the world's sea level would rise by more than 7\\xa0m (23\\xa0ft).\", 5), ('evidence-1040612', 'The Greenland ice sheet occupies about 82% of the surface of Greenland, and if melted would cause sea levels to rise by 7.2 metres.', 5), ('evidence-235187', 'If the sheet were to break down, ocean levels would rise by several metres in a relatively geologically short period of time, perhaps a matter of centuries.', 5), ('evidence-552239', 'If all of this ice were melted, sea levels would rise about 60\\xa0m (200\\xa0ft).', 5), ('evidence-7473', 'Ice sheet models project that such a warming would initiate the long-term melting of the ice sheet, leading to a complete melting of the ice sheet (over centuries), resulting in a global sea level rise of about 7 metres (23\\xa0ft).', 5), ('evidence-469718', 'Such a rise would inundate almost every major coastal city in the world.', 5)]\n",
      "[('evidence-233437', 'The glacier has retreated since the end of the Little Ice Age.', 5), ('evidence-270365', 'ice ages deepen by progressive steps, but the recovery to interglacial conditions occurs in a single large step.', 5), ('evidence-1011543', 'The Little Ice Age ended in the latter half of the 19th century or early in the 20th century.', 5), ('evidence-775820', 'However scientists have found that ice is being lost, and at an accelerating rate.', 5), ('evidence-1074778', 'It has been observed that ice ages deepen by progressive steps, but the recovery to interglacial conditions occurs in one big step.', 5), ('evidence-616039', 'The Little Ice Age encompassed roughly the 16th to the 19th centuries.', 5)]\n",
      "[('evidence-498557', '187 states and the EU, representing more than 87% of global greenhouse gas emissions, have ratified or acceded to the Agreement, including China, the United States and India, the countries with three of the four largest greenhouse gas emissions of the UNFCCC members total (about 42% together).', 5), ('evidence-695660', 'Australia, Canada (Canada withdrew from the Kyoto treaty in 2012), and Italy are not on course to meet their first-round Kyoto targets.', 2), ('evidence-1186458', 'Other developed countries without second-round targets are Canada (which withdrew from the Kyoto Protocol in 2012) and the United States (which has not ratified).', 2), ('evidence-1206449', 'The United States (under former President George W. Bush) and Australia (initially, under former Prime Minister John Howard) did not ratify the Kyoto treaty.', 2), ('evidence-144157', 'A second commitment period was agreed in 2012, known as the Doha Amendment to the Kyoto Protocol, in which 37 countries have binding targets: Australia, the European Union (and its 28 member states), Belarus, Iceland, Kazakhstan, Liechtenstein, Norway, Switzerland, and Ukraine.', 2), ('evidence-1164434', 'China, Canada, India, the United States, Britain, the European Union, Japan, New Zealand, Australia and most Pacific Island countries', 2)]\n",
      "[('evidence-1192178', 'They are trying to make \"super corals\" that can withstand some of the environmental factors that the corals are currently dying from.', 2), ('evidence-930563', '\"One-Third of Reef-Building Corals Face Elevated Extinction Risk from Climate Change and Local Impacts\".', 2), ('evidence-936135', 'These reefs are composed of large coral colonies of a variety of species living together.', 2), ('evidence-1163684', 'They are growing corals in these tanks to use for their experiments, so no more corals are being harmed or taken from the ocean.', 2), ('evidence-314557', 'It is an inhabitant of coral reefs and can be found at depths of from 3 to.', 2), ('evidence-716355', 'Coral reefs are one of the most well-known marine ecosystems in the world, with the largest being the Great Barrier Reef.', 2)]\n",
      "[('evidence-12011', 'Increasing heat content in the ocean is also consistent with sea level rise, which is occurring mostly as a result of [[thermal expansion]] of the ocean water as it warms.', 5), ('evidence-76110', 'The heat must be carried to the surface by fluid circulation, either through magma conduits, hot springs, hydrothermal circulation, oil wells, drilled water wells, or a combination of these.', 5), ('evidence-899797', \"The net heat flux is buffered primarily by becoming part of the ocean's heat content, until a new equilibrium state is established between radiative forcings and the climate response.\", 5), ('evidence-341070', 'The thermohaline circulation is a part of the large-scale ocean circulation that is driven by global density gradients created by surface heat and freshwater fluxes.', 5), ('evidence-285150', 'Consequently, the air above coastal lands heats up faster than the air above seas.', 2), ('evidence-268662', 'latent heat) at the temperature of the warm ocean surface (during evaporation, the ocean cools and the air warms).', 1)]\n",
      "[('evidence-805409', 'This is due to the optical properties of SO and sulfate aerosols, which strongly absorb or scatter solar radiation, creating a global layer of sulfuric acid haze.', 5), ('evidence-903050', 'It is somewhat cooler and less luminous than our Sun.', 2), ('evidence-882545', 'Reflection Haze - occurring when light is reflected from the surface of a material', 1), ('evidence-1165101', 'It is a hot luminous supergiant several hundred thousand times as luminous as the sun.', 1), ('evidence-43786', 'Slightly less luminous than our Sun, it has a spectral type of F0 and is surrounded by a circumstellar disk.', 1), ('evidence-1020271', 'It has very dark surface, with an albedo of 0.040.', 1)]\n",
      "[('evidence-96210', 'The pathogens of most concern are bacteria, viruses and parasitic worms, which directly affect farmers’ health and indirectly affect consumers if they eat the contaminated crops.', 2), ('evidence-201841', 'Some farmers claim that the bill has had negative effects on the grain farmers it claimed to benefit.', 2), ('evidence-67783', 'However, most farmers find it unacceptable that the food crops they grow are damaged by pests.', 2), ('evidence-997653', 'Some of the environmental issues that are related to agriculture are climate change, deforestation, genetic engineering, irrigation problems, pollutants, soil degradation, and waste.', 1), ('evidence-802674', 'There are many potential impacts on human health due to the modern cattle industrial agriculture system.', 1), ('evidence-1195870', 'According to the U.S. Centers for Disease Control and Prevention (CDC), farms on which animals are intensively reared can cause adverse health reactions in farm workers.', 1)]\n",
      "[('evidence-520355', 'Communications satellites use a wide range of radio and microwave frequencies.', 1), ('evidence-917344', 'Over time, a massive system of artificial satellites was placed into orbit around Earth.', 1), ('evidence-773973', 'Examples of microwave filter use are found in satellite communications, telephone networks, and television broadcasting.', 1), ('evidence-1201593', 'Each of the two American spacecraft, launched in 1960 and 1964, was a metalized balloon satellite acting as a passive reflector of microwave signals.', 1), ('evidence-544987', 'However, he does not claim to have been the first person to have the idea of using microwaves for cooking.', 1), ('evidence-1192755', 'The timeline of radio lists within the history of radio, the technology and events that produced instruments that use radio waves and activities that people undertook.', 1)]\n",
      "[('evidence-784155', 'James S. Robbins has argued that the advent of petroleum-refined kerosene saved some species of great whales from extinction by providing an inexpensive substitute for whale oil, thus eliminating the economic imperative for open-boat whaling.', 5), ('evidence-619262', 'Sperm oil, a special kind of oil obtained from the head cavities of sperm whales, differs chemically from ordinary whale oil : it comprises mostly liquid wax.', 2), ('evidence-51845', 'Greenpeace is also critical of extracting petroleum from oil sands and has used direct action to block operations at the Athabasca oil sands in Canada.', 2), ('evidence-169641', 'In 1860-61 he returned to Laguna Ojo de Liebre in the bark Ocean Bird, taking a paltry 245 barrels of oil -- about seven whales.', 2), ('evidence-561714', 'There is also petroleum in oil sands (tar sands).', 1), ('evidence-21415', 'The petroleum nut (P. resiniferum) yields petroleum nut oil, which is sometimes proposed as biofuel ; due to its excessive n-heptane content and consequent low octane rating, it is better suited as a source of n-heptane, which is otherwise produced from crude oil.', 1)]\n",
      "[('evidence-574489', 'In a speech to the American Political Science Association, former Republican Speaker of the United States House of Representatives Newt Gingrich also stated: \"In all fairness, it\\'s something Gore had worked on a long time.', 5), ('evidence-423215', 'During this time, Gore co-chaired the Congressional Clearinghouse on the Future with Newt Gingrich.', 1), ('evidence-498111', \"The White House and Speaker Nancy Pelosi engaged in an extensive campaign to convince both centrists and liberals in the House to pass the Senate's health care bill, the Patient Protection and Affordable Care Act.\", 1), ('evidence-562327', 'In January 2007, Democratic House Speaker Nancy Pelosi announced she would form a United States Congress subcommittee to examine global warming.', 1), ('evidence-478327', 'Gore has described the group as bipartisan.', 1), ('evidence-403610', 'She is a Democrat, caucusing with the Republican-aligned Independent Democratic Conference.', 1)]\n",
      "[('evidence-208863', 'But if low clouds decrease, or if high clouds increase, the feedback is positive.', 5), ('evidence-1069605', 'Mathematically, positive feedback is defined as a positive loop gain around a closed loop of cause and effect.', 5), ('evidence-458761', 'The result of positive feedback is to augment changes, so that small perturbations may result in big changes.', 5), ('evidence-2481', 'Positive feedback does not necessarily imply instability of an equilibrium, for example stable \"on\" and \"off\" states may exist in positive-feedback architectures.', 2), ('evidence-1003105', 'This is an example of positive feedback.', 1), ('evidence-269791', 'Lindzen disputed this, claiming that the negative feedback from high-level clouds was still larger than the weak positive feedback estimated by Lin et al.', 1)]\n",
      "[('evidence-1190705', \"Carbon dioxide in Earth's atmosphere is a trace gas, currently (mid 2018) having a global average concentration of 409 parts per million by volume (or 622 parts per million by mass).\", 5), ('evidence-290974', '75% of the gases in the atmosphere are located within the troposphere, the lowest layer.', 2), ('evidence-450316', 'The concentration of carbon dioxide in the atmosphere today is much lower than it was when plants emerged onto land during the Ordovician and Silurian periods.', 2), ('evidence-474687', 'In free-air carbon dioxide enrichment (FACE) experiments plants are grown in field plots and the concentration of the surrounding air is artificially elevated.', 1), ('evidence-211', \"the Ordinary Level (``O Level'') ;\", 1), ('evidence-1074401', 'Atmospheric carbon dioxide monitoring is carried out at Baring Head.', 1)]\n",
      "[('evidence-1179095', 'Renewable electricity supply in the 20-50+% range has already been implemented in several European systems, albeit in the context of an integrated European grid system:', 4), ('evidence-620739', 'Renewable electricity supply in the 20-50+% penetration range has already been implemented in several European systems, albeit in the context of an integrated European grid system:', 3), ('evidence-171308', 'Renewable electricity supply in the 20-50+% penetration range has already been implemented in several European systems, albeit in the context of an integrated European grid system:', 1), ('evidence-617506', \"In 1986 Denmark already had about 1200 wind power turbines, though they still accounted for just barely 1% of Denmark's electricity.\", 1), ('evidence-868516', 'In 2010, Eurobarometer polled the twenty-seven EU member states about the target \"to increase the share of renewable energy in the EU by 20 percent by 2020\".', 1), ('evidence-584146', 'The 2013 -- 14 CEV Champions League was the highest level of European club volleyball in the season and the 55th edition.', 1)]\n",
      "[('evidence-33576', 'These were followed by the first detailed 100% scenarios.', 5), ('evidence-900843', 'Scenarios assessed by Gupta \"et al.', 5), ('evidence-551514', 'In assessing baseline scenarios literature, Fisher \"et al.', 3), ('evidence-357599', 'The characters can also ask each other questions which behave as conditional statements.', 2), ('evidence-725565', 'These scenarios can be thought of as stories of possible futures.', 2), ('evidence-755597', \"Many scenario's are possible.\", 1)]\n",
      "[('evidence-831545', 'Air pollution risk is a function of the hazard of the pollutant and the exposure to that pollutant.', 5), ('evidence-845688', 'Even in the areas with relatively low levels of air pollution, public health effects can be significant and costly, since a large number of people breathe in such pollutants.', 2), ('evidence-743065', 'An air pollutant is a material in the air that can have adverse effects on humans and the ecosystem.', 1), ('evidence-970491', 'Its charitable objective is : To protect human life through the promotion of transport safety for the public benefit.', 1), ('evidence-470275', 'It is a highly hazardous chemical that explodes in the presence of organic materials.', 1), ('evidence-637628', 'Particulate matter is the most harmful to public health of all air pollutants in Europe.', 1)]\n",
      "[('evidence-905992', 'By the early 1980s, the slight cooling trend from 1945–1975 had stopped.', 1), ('evidence-480631', \"The 1970s (pronounced ``nineteen-seventies'', commonly abbreviated as the ``Seventies'') was a decade of the Gregorian calendar that began on January 1, 1970, and ended on December 31, 1979.\", 1), ('evidence-381202', 'It took place from December 1970 to March 1971.', 1), ('evidence-152669', '1971 was the 71st year of the 20th century.', 1), ('evidence-247729', 'Construction began on October 1972 and finished 30 March 1974.', 1), ('evidence-137904', 'They began in 1975 and continued as late as 1999.', 1)]\n",
      "[('evidence-457778', 'The product is often credited with being over 100 years old.', 5), ('evidence-1036065', 'This length of time can be as short as a few decades to as long as millions of years.', 2), ('evidence-422785', 'The year of his birth is uncertain, but probably not long after 1000, and before 1014.', 1), ('evidence-664385', \"In ``100 Days before the Flood,'' there remain another hundred days before the flood arrives.\", 1), ('evidence-346035', 'A century (from the Latin centum, meaning one hundred ; abbreviated c.) is a period of 100 years.', 1), ('evidence-880328', 'Most attention has been given to risks to human civilization over the next 100 years, but forecasting for this length of time is difficult.', 1)]\n",
      "[('evidence-266501', 'An examination of 32 outlet glaciers in southeast Greenland indicates that the acceleration is significant only for marine-terminating outlet glaciers—glaciers that calve into the ocean.', 5), ('evidence-710885', 'Two mechanisms have been utilized to explain the change in velocity of the Greenland Ice Sheets outlet glaciers.', 5), ('evidence-1088512', 'Aleqa Hammond (born 23 September 1965) is a Greenlandic politician and member of the Danish Folketing (parliament).', 1), ('evidence-380552', 'Latham Tawhai (born 23 August 1972) is a rugby league coach and former player from New Zealand.', 1), ('evidence-391045', 'Estimates on future contribution to sea level rise from Greenland range from 0.3 to 3 metres (1 to 10\\xa0ft), for the year 2100.', 1), ('evidence-296986', 'Faki, a member of the ruling Patriotic Salvation Movement (MPS), belongs to the Zaghawa ethnic group, the same group as President Idriss Déby.', 1)]\n",
      "[('evidence-1099491', 'A rise in sea level could begin to corrode the bottom of an ice sheet, undercutting it; when one ice sheet failed and surged, the ice released would further raise sea levels, and further destabilizing other ice sheets.', 5), ('evidence-913842', 'In his overdue-glaciation hypothesis Ruddiman claims that an incipient ice age would probably have begun several thousand years ago, but the arrival of that scheduled ice age was forestalled by the activities of early farmers.', 2), ('evidence-119579', \"The increased amount of snow will feed the icefield, possibly enough to offset the continually increasing melting experienced at the glacier 's terminus.\", 2), ('evidence-739706', 'If the entire of ice were to melt, it would lead to a global sea level rise of .', 1), ('evidence-170245', \"Zhenda Glacier (ледник Женда, ` Lednik Zhenda ' \\\\ ` led-nik ` zhen-da \\\\) is the 8 km long and 4.8 km wide glacier on the east side of the main crest of northern Sentinel Range in Ellsworth Mountains, Antarctica.\", 1), ('evidence-538528', '\"Contribution of Antarctica to past and future sea-level rise\".', 1)]\n",
      "[('evidence-857774', 'The book does however go into detail, with alleged documentation and photocopies of various sources to justify arguments made in the book.', 4), ('evidence-294067', 'He points out that this is sort of contrarian.', 2), ('evidence-141702', 'Bill Clinton says the book is a \"wise, detailed and comprehensive blueprint\".', 2), ('evidence-736986', 'Gordon McBean, in a review for \"\", found the book biased and inaccurate.', 1), ('evidence-513277', 'This book was the first in the Politically Incorrect Guide series published by Regnery Publishing, who view the series as covering topics without consideration for political correctness.', 1), ('evidence-299601', \"You don't look up truthiness in a book, you look it up in your gut.\", 1)]\n",
      "[('evidence-853029', 'For example, in the Great Plains, it is estimated that soil loss due to wind erosion can be as much as 6100 times greater in drought years than in wet years.', 5), ('evidence-888172', 'This more commonly occurs in arid and semi-arid regions, where rainfall intensities are high and the soil infiltration capacity is reduced because of surface sealing, or in paved areas.', 3), ('evidence-778346', 'For example, in the Great Plains, it is estimated that soil loss due to wind erosion can be as much as 6100 times greater in drought years than in wet years.', 3), ('evidence-948853', 'Drought is much more common in the West than the rest of the United States.', 3), ('evidence-936510', 'Droughts occur mainly in areas where normal levels of rainfall are, in themselves, low.', 2), ('evidence-739365', 'The dry season greatly increases drought occurrence, and is characterized by its low humidity, with watering holes and rivers drying up.', 1)]\n",
      "[('evidence-423767', 'These publications have since been retracted from their respective journals.', 5), ('evidence-134894', 'Between 1900 and 2016, the sea level rose by 16–21\\xa0cm (6.3–8.3\\xa0in).', 5), ('evidence-802615', \"The following day, the team retracted the announcement, claiming that it had been a publicity stunt created by the team 's marketing department.\", 5), ('evidence-1063753', 'It rises to a height of 330 feet (101m) above sea level.', 1), ('evidence-128172', 'After an accident at the door of a local train in 2007, the platform display was reconstructed, and then the height of the platforms were raised in 2008 and elevators were installed in 2009.', 1), ('evidence-988277', 'Sea level rise will continue over many centuries.', 1)]\n",
      "[('evidence-40358', 'The terms are not strictly defined, and vary within the literature as definitions based on new technologies tend to change over time.', 5), ('evidence-216216', 'These two names have nothing in common more than they are spelled alike.', 5), ('evidence-843063', 'Throughout history, both names have persisted.', 5), ('evidence-27956', 'The two names were used interchangeably.', 1), ('evidence-516386', 'The official name of the award has changed several times over the course of the years.', 1), ('evidence-674516', 'The present name has been used since the 1991/1992 season.', 1)]\n",
      "[('evidence-652720', 'Widely cited peer review articles:', 1), ('evidence-188059', 'The researchers predicted:', 1), ('evidence-736108', 'This premature announcement came from a preliminary news release about a study which had not yet been peer reviewed.', 1), ('evidence-1001532', 'This review should be documented.', 1), ('evidence-455330', 'Anonymous peer review is typically found in a scholarly or professional context where the number of reviewers is small and the reviewers are acknowledged experts.', 1), ('evidence-10408', 'Review of Research in Education is a peer-reviewed academic journal published by Sage Publications on behalf of the American Educational Research Association.', 1)]\n",
      "[('evidence-958044', 'He plays the position of attacking midfielder.', 1), ('evidence-434562', 'He plays in the right offensive midfield for Cointe-Liège in the Belgian Fourth Division.', 1), ('evidence-73192', 'A Surrey man, he was a prominent single wicket player who is recorded playing in challenge matches at the Artillery Ground.', 1), ('evidence-1126072', 'He was an acute observer of nature and a gentleman.', 1), ('evidence-821176', 'He plays as a Winger ; he is a prolific hard tackler with very good acceleration despite his small stature.', 1), ('evidence-756991', 'He was a right-handed batsman and wicket-keeper who played for Cheshire.', 1)]\n",
      "[('evidence-653075', 'This is increasingly being disputed by modern theories which view human behavior as more complex and nuanced.', 2), ('evidence-303621', 'However, reassessments found the study to have flawed methodology.', 2), ('evidence-688142', 'It has since been debunked as pseudoscience and part of the edifice of scientific racism.', 1), ('evidence-829516', \"Folklorists, scholars, and law enforcement experts say that these stories have been ``thoroughly debunked''.\", 1), ('evidence-558165', 'Debugging is the process of finding and resolving of defects that prevent correct operation of computer software or a system.', 1), ('evidence-694569', 'Elizabeth F. Loftus and Melvin J. Guyer were skeptical of the research and investigated the claims that Corwin made.', 1)]\n",
      "[('evidence-153898', \"The Paris Agreement's long-term temperature goal is to keep the increase in global average temperature to well below 2\\xa0°C above pre-industrial levels; and to pursue efforts to limit the increase to 1.5\\xa0°C, recognizing that this would substantially reduce the risks and impacts of climate change.\", 5), ('evidence-828546', \"The Paris Agreement's long-term temperature goal is to keep the increase in global average temperature to well below 2°C above pre-industrial levels; and to pursue efforts to limit the increase to 1.5°C.\", 1), ('evidence-988909', 'The Paris Agreement aims to combat global climate change by keeping a global temperature rise this century well below 2 degrees Celsius and to pursue efforts to limit the temperature increase even further to 1.5 degrees Celsius.', 1), ('evidence-1016669', 'The Paris Agreement is an agreement within the United Nations Framework Convention on Climate Change (UNFCCC) dealing with greenhouse gases emissions mitigation, adaptation and finance starting in the year 2020.', 1), ('evidence-638015', 'The Paris Agreement, which was brought to discussion on November 12, 2016, was made with a goal in mind to unite all countries against the threat of climate change.', 1), ('evidence-528396', 'The report was finalized in Paris.', 1)]\n",
      "[('evidence-300254', 'It can be found in various humid habitats from grassy fields along streams at foothills (1200 -- 1700 m) to humid alpine meadows (3500 -- 3700 m)', 5), ('evidence-432873', 'A wide variety of grasses and herbs are present in the meadows, including the locally rare melancholy thistle, Cirsium helenioides, globe flower, Trollius europaeus, and alpine bistort, Polygonum viviparum.', 5), ('evidence-644261', 'Vicarage Meadows, a grassland reserve near Abergwesyn in the Irfon Valley, is managed by the Trust and the species growing there include bog asphodel, wood bitter vetch, greater butterfly orchids and small white orchids.', 2), ('evidence-66754', 'This species is found in damp tundra or moist meadows, usually near water.', 1), ('evidence-274700', 'Bickenhill Meadows is a 7.2 hectare (17.8 acre) biological site of Special Scientific Interest in the West Midlands.', 1), ('evidence-1094508', 'These moths live in alpine meadows and steppe slopes.', 1)]\n",
      "[('evidence-851946', \"The difference between the total debits and total credits in a single account is the account 's balance.\", 1), ('evidence-501480', 'In his first public statement he declared, This honourable distinction is not for me, it is for all the victims of the conflict.', 1), ('evidence-571669', 'Equity is measured by comparing the ratio of contributions (or costs) and benefits (or rewards) for each person.', 1), ('evidence-890678', 'Units:', 1), ('evidence-612494', \"The club's honours:\", 1), ('evidence-981864', 'This subtle difference in programming has an effect on the justice outcome.', 1)]\n",
      "[('evidence-627472', 'Black carbon stays in the atmosphere for only several days to weeks, whereas carbon dioxide () has an atmospheric lifetime of more than 100 years.', 1), ('evidence-1051708', 'The average residence time of a water molecule in the atmosphere is only about nine days, compared to years or centuries for other greenhouse gases such as CH 4 and CO 2.', 1), ('evidence-740086', 'The duration of the active life varies from 4 hours to 15 days depending on the system.', 1), ('evidence-968030', 'The longest-lived isomer is 251mNo with a half-life of 1.7 seconds.', 1), ('evidence-771706', 'Outside the nucleus, free neutrons are unstable and have a mean lifetime of (about 14 minutes, 42 seconds) ; therefore the half-life for this process (which differs from the mean lifetime by a factor of) is (about 10 minutes, 11 seconds).', 1), ('evidence-640999', \"Methane has a relatively short atmospheric lifetime of about 12 years, while NO's lifetime is about 110 years.\", 1)]\n",
      "[('evidence-581129', 'According to one film historian, \"the effect looks (almost) real\" until one of the grasshoppers steps off the \"building\" into what is supposed to be thin air.', 1), ('evidence-1052644', 'It contains many elements of magical realism.', 1), ('evidence-900159', 'In \"Texaco\" there are several uses of magical realism.', 1), ('evidence-1057751', 'The film is based on a real life incident.', 1), ('evidence-810341', \"Although the author 's works are considered examples of realism or naturalism, many consider him a harbinger of modernism.\", 1), ('evidence-537311', 'He also co-founded production house Small Screen along with Prashant Sareen.', 1)]\n",
      "[('evidence-438628', 'The major atmospheric gases (oxygen and nitrogen) are transparent to incoming sunlight but are also transparent to outgoing thermal (infrared) radiation.', 5), ('evidence-1188227', 'Doing so allows visible light to reach the solar cells, but reflects infrared rays (which carry heat).', 5), ('evidence-768359', 'Dust particles in the air scatter incoming radiation from the sun.', 1), ('evidence-484361', 'They are heated directly or via light-concentrating mirrors.', 1), ('evidence-522043', 'The satellite body consists of two outer hemispheres (radius 85.16 mm) made of a low-refraction-index glass and an inner ball lens (radius 53.52 mm) made of a high-refraction-index glass ; the two outer hemispheres and the inner ball are glued together, and one of the outer hemispheres is externally coated with a reflective coating, covered with a protective varnish.', 1), ('evidence-1138335', 'The sunlight bounces off the mirrors and is directed to a central tube filled with synthetic oil, which heats to over .', 1)]\n",
      "[('evidence-1183711', 'These temperatures have caused the most severe and widespread coral bleaching ever recorded in the Great Barrier reef.', 5), ('evidence-688029', 'Battle for the Reef – Four Corners – ABC.au Great Barrier Reef scientists confirm largest die-off of corals recorded.', 5), ('evidence-197787', 'Coral reef provinces have been permanently damaged by warm sea temperatures, most severely in the Indian Ocean.', 5), ('evidence-265967', \"The IPCC's moderate warming scenarios (B1 to A1T, 2\\xa0°C by 2100, IPCC, 2007, Table SPM.3, p.\\xa013) forecast that corals on the Great Barrier Reef are very likely to regularly experience summer temperatures high enough to induce bleaching.\", 5), ('evidence-205895', 'It is endemic to coral reefs in Australia.', 5), ('evidence-108706', 'Bleaching events in benthic coral communities (deeper than 20 metres or 66 feet) in the Great Barrier reef are not as well documented as those at shallower depths, but recent research has shown that benthic communities are just as negatively impacted in the face of rising ocean temperatures.', 5)]\n",
      "[('evidence-257475', \"Carbon dioxide is absorbed from the atmosphere at the ocean's surface at an exchange rate which varies locally but on average, the oceans have a net absorption of CO2 2.2 Pg C per year.\", 5), ('evidence-825270', 'Each part per million by volume of in the atmosphere thus represents approximately 2.13 billion metric tons of carbon.', 5), ('evidence-108313', 'As of 2010 it constitutes about 0.041% by volume of the atmosphere, (equal to 410 ppm) which corresponds to approximately 3200 billion metric tons of , containing approximately 870 billion metric tons of carbon.', 5), ('evidence-1190705', \"Carbon dioxide in Earth's atmosphere is a trace gas, currently (mid 2018) having a global average concentration of 409 parts per million by volume (or 622 parts per million by mass).\", 2), ('evidence-488727', 'It is estimated that natural processes can only absorb about half of that amount, so there is a net increase of 10.65 billion tonnes of atmospheric carbon dioxide per year.', 1), ('evidence-1102763', 'Oceans currently absorb about one tonne of CO per person per year.', 1)]\n",
      "[('evidence-454312', \"Carbon dioxide is a gaseous product of the body 's metabolism and is normally expelled through the lungs.\", 5), ('evidence-187502', \"Carbon dioxide is a gaseous product of the body 's metabolism and is normally expelled through the lungs.\", 5), ('evidence-1190705', \"Carbon dioxide in Earth's atmosphere is a trace gas, currently (mid 2018) having a global average concentration of 409 parts per million by volume (or 622 parts per million by mass).\", 5), ('evidence-711625', 'By contrast, is a naturally occurring colorless odorless trace gas that is essential to the biosphere.', 5), ('evidence-112990', 'It is a colourless gas that polymerizes readily as a liquid or in solution but is stable as a gas.', 5), ('evidence-841572', 'Those gases include carbon dioxide that serves as a substrate for photosynthesis, oxygen that serves as a substrate in aerobic respiration, and nitrogen that serves as a substrate for nitrogen fixation.', 5)]\n",
      "[('evidence-1126886', 'They used the IPCC definition of the supposed hiatus as a slowdown in rate of temperature increase from 1998 to 2012, compared to the rate from 1951 to 2012, and again found no support for the idea of a \"hiatus\" or slowdown.', 5), ('evidence-360783', 'Truncated regression models arise in many applications of statistics, for example in econometrics, in cases where observations with values in the outcome variable below or above certain thresholds are systematically excluded from the sample.', 2), ('evidence-800367', 'Truncated regression models are used for data where whole observations are missing so that the values for the dependent and the independent variables are unknown.', 1), ('evidence-731004', 'The current parliamentary term ends in 2020, which is consequently the planned date for the next parliamentary election.', 1), ('evidence-913626', 'In preparation for the 2021 6th IPCC report, a new generation of climate models are being developed: some show climate sensitivity around , meaning temperature can rise by 6.5 - 7 degree by 2100 in the worst socio-economic scenario (\"SSP5 8.5 – rapid economic growth driven by fossil fuels without mitigation\").', 1), ('evidence-889018', 'The IPCC projections cover the time period from the beginning of the 21st century to the end of the 21st century.', 1)]\n",
      "[('evidence-5928', 'In Greenland, glacier retreat has been observed in outlet glaciers, resulting in an increase of the ice flow rate and destabilization of the mass balance of the ice sheet that is their source.', 5), ('evidence-693558', 'Retreat is located at .', 1), ('evidence-993195', 'On the west side of the ice field, the terminus of the Mendenhall Glacier, which flows into suburban Juneau, Alaska, has retreated .', 1), ('evidence-1028500', 'It is in the Arctic Ocean drainage basin and is a tributary of the Back River.', 1), ('evidence-981984', 'In 2002 the long floating terminus of the glacier entered a phase of rapid retreat, with the ice front breaking up and the floating terminus disintegrating and accelerating to a retreat rate of over per day.', 1), ('evidence-428647', 'The streams and rivers of the refuge complex support three species of salmon, Arctic grayling, sheefish, and many other fish species.', 1)]\n",
      "[('evidence-1200076', 'Over this time period, the US accounted for 28% of emissions; the EU, 23%; Russia, 11%; China, 9%; other OECD countries, 5%; Japan, 4%; India, 3%; and the rest of the world, 18%.', 2), ('evidence-631053', 'per year, or 2% of all annual global CO-eq emissions.', 1), ('evidence-1011788', 'There were 57.05 per cent females and 42.95 per cent males.', 1), ('evidence-116371', 'This compares to 0.3 per cent per year in the period 1991 to 2001 and 0.2 per cent in the decade 1981 to 1991.', 1), ('evidence-890810', '10% per annum until zero emissions are reached around 2030.', 1), ('evidence-78654', '\", as opposed to \"per cent\".', 1)]\n",
      "[('evidence-310928', '(2008) estimate that not less than 1,400 gigatonnes of carbon is presently locked up as methane and methane hydrates under the Arctic submarine permafrost, and 5–10% of that area is subject to puncturing by open taliks.', 5), ('evidence-635937', 'Large quantities of methane are stored in the Arctic in natural gas deposits, permafrost, and as submarine clathrates.', 5), ('evidence-409873', 'The amount of carbon sequestered in permafrost is four times the carbon that has been released to the atmosphere due to human activities in modern time.', 5), ('evidence-1081031', 'Potential methane releases from the region, especially through the thawing of permafrost and methane clathrates, may occur.', 5), ('evidence-1099844', 'The current Arctic warming is leading to ancient carbon being released from thawing permafrost, leading to methane and carbon dioxide production by micro-organisms.', 5), ('evidence-36052', \"In 2008, a research expedition for the American Geophysical Union detected levels of methane up to 100 times above normal in the Siberian Arctic, likely being released by methane clathrates being released by holes in a frozen 'lid' of seabed permafrost, around the outfall of the Lena River and the area between the Laptev Sea and East Siberian Sea.\", 5)]\n",
      "[('evidence-127999', \"Lindzen has given estimates of the Earth's climate sensitivity to be 0.5\\xa0°C based on ERBE data.\", 5), ('evidence-364924', 'Only two sets of models were available; one the Manabe and Wetherald model, with a climate sensitivity of and the other, due to James E. Hansen, showed a climate sensitivity of .', 5), ('evidence-21468', 'For coupled atmosphere-ocean global climate models (e.g. CMIP5) the climate sensitivity is an emergent property : it is not a model parameter, but rather a result of a combination of model physics and parameters.', 5), ('evidence-700426', 'Estimates of climate sensitivity calculated from global energy constraints have consistently been lower than those calculated using other methods; estimates calculated using this method have been around or lower (e.g.', 5), ('evidence-425787', 'Denote the sensitivity, i.e.', 1), ('evidence-1144724', 'Analysis of species sensitivity distributions', 1)]\n",
      "[('evidence-604307', '\"Intense Southwest Florida hurricane landfalls over the past 1000 years\".', 5), ('evidence-1009653', 'The lake is fed by Bayou Des Allemands then eventually flows into the Gulf of Mexico.', 2), ('evidence-643012', 'It is found in the Gulf of Mexico, Southeast Florida and the Yucatan Peninsula.', 2), ('evidence-479543', 'In the Gulf of Mexico, catastrophic hurricane strikes at given locations occur once about every 350 years in the last 3,800 years or about 0.48%-0.39% annual frequency at any given site, with a recurrence rate of 300 years or 0.33% annual probability at sites in the Caribbean and Gulf of Mexico; category 3 or more storms occur at a rate of 3.9 - 0.1 category 3 or more storms per century in the northern Gulf of Mexico.', 1), ('evidence-523355', 'The Port of Galveston is the oldest port in the Gulf of Mexico west of New Orleans.', 1), ('evidence-1056169', 'Pensacola Pass connects the Bay to the Gulf of Mexico.', 1)]\n",
      "[('evidence-965161', 'This work described what came to be known as \"Munk\\'s enigma\", a large discrepancy between observed rate of sea level rise and its expected effects on the earth\\'s rotation.', 5), ('evidence-446509', 'Walter Heinrich Munk (born October 19, 1917) is an American physical oceanographer.', 1), ('evidence-1120203', 'Munkurin is now 11 metres high, but it used to be higher earlier.', 1), ('evidence-212847', 'It is situated at 1,465 m above sea level.', 1), ('evidence-894712', 'It rises 375 metres above the sea level.', 1), ('evidence-29077', '\"Reassessment of the Potential Sea-Level Rise from a Collapse of the West Antarctic Ice Sheet\".', 1)]\n",
      "[('evidence-363958', '\"An imperative for climate change planning: tracking Earth\\'s global energy\".', 5), ('evidence-466383', 'Bushkevits described his vision for the paper this way :', 5), ('evidence-487111', 'It is in plan.', 5), ('evidence-814737', \"The plan's objectives are to:\", 1), ('evidence-70175', 'The plan must include:', 1), ('evidence-353924', 'Its stated objectives are:', 1)]\n",
      "[('evidence-681318', 'The majority 95 % of the population are farmers.', 1), ('evidence-1085294', 'The majority 98 % of the population are farmers.', 1), ('evidence-599078', 'The majority 98.5 % of the population are farmers.', 1), ('evidence-1151595', 'In humans, approximately 70 % of all genes are expressed in the brain.', 1), ('evidence-503460', 'Of these, 97% agree, explicitly or implicitly, that global warming is happening and is human-caused.', 1), ('evidence-776553', 'Males constitute 51% of the population and females 49%.', 1)]\n",
      "[('evidence-92119', 'These unicellular organisms are important for the coral to feed and get the proper nutrition that is necessary to survive, leaving the coral weak and malnourished.', 1), ('evidence-575373', 'They feed mainly on small fishes such as anchovies and clupeids, squids, and mantis shrimps.', 1), ('evidence-842062', 'Its basic ingredients are vegetables, seafood and meat.', 1), ('evidence-1132164', 'They feed on fish, squid and similar oceanic food.', 1), ('evidence-234801', 'They feed on invertebrates, small fish and fruits.', 1), ('evidence-614574', 'Coral reefs provide various ecosystem services, one of which is being a natural fishery, as many frequently consumed commercial fish spawn or live out their juvenile lives in coral reefs around the tropics.', 1)]\n",
      "[('evidence-1040319', 'On 24 November, Trevor Davies, the University of East Anglia pro-vice-chancellor with responsibility for research, rejected calls for Jones\\' resignation or firing: \"We see no reason for Professor Jones to resign and, indeed, we would not accept his resignation.', 2), ('evidence-222306', 'Jones, 1995.', 1), ('evidence-967695', 'On 27 October 1995, Yates appeared on the quiz programme \"Have I Got News for You\" and clashed with Ian Hislop over comments he had previously made about her breast enlargement surgery.', 1), ('evidence-75484', \"In 1995, whilst at the News of the World under editor Piers Morgan, Jones was named ``Reporter of the Year'' at the British Press Awards.\", 1), ('evidence-1160759', 'He has also been interviewed for the BBC.', 1), ('evidence-644620', 'The interviews took place between 1993 and 1996.', 1)]\n",
      "[('evidence-1170212', 'The oceanic general circulation is defined as the horizontal space scale and time scale larger than mesoscale (of order 100 km and 6 months).', 5), ('evidence-1121879', 'Significant movement of heat, matter, or momentum on time scales of less than a day are caused by turbulent motions.', 2), ('evidence-520577', 'Image gradient, a gradual change or blending of color', 2), ('evidence-428342', 'where here represents a derivative of with respect to another parameter, such as time.', 2), ('evidence-575580', 'The time evolution of the parameters can be found upon imposing a variational principle to the wave function.', 1), ('evidence-577375', 'He was born in Genoa and trained with his father Agostino Calvi and Perin del Vaga.', 1)]\n",
      "[('evidence-529248', '\"Study concludes Antarctica is gaining ice, rather than losing it\".', 1), ('evidence-270216', 'Mercator Cooper landed in East Antarctica on 26 January 1853.', 1), ('evidence-902356', 'In January 2013 an meteorite was discovered frozen in ice on the Nansen ice field by a Search for Antarctic Meteorites, Belgian Approach (SAMBA) mission.', 1), ('evidence-743206', 'Antarctic ice serves as both the shield and the detection medium for the largest neutrino telescope in the world, built below Amundsen–Scott station.', 1), ('evidence-780659', 'In November 2016, NASA reported finding a large amount of underground ice in the Utopia Planitia region of Mars.', 1), ('evidence-502398', 'It is also known as astronaut ice cream or space ice cream, typically a slab of ready-to-eat dehydrated ice cream.', 1)]\n",
      "[('evidence-956940', 'The sensitivity of temperature to atmospheric gasses, most notably CO 2, is often expressed in terms of the change in temperature per doubling of the concentration of the gas.', 5), ('evidence-158204', 'For constant humidity they computed a climate sensitivity of 2.3\\xa0°C per doubling of CO2 (which they rounded to 2, the value most often quoted from their work, in the abstract of the paper).', 5), ('evidence-950248', 'The IPCC (2007) estimates that the expected rise in temperature due to a doubling of CO2 to be about 3\\xa0°C (5.4\\xa0°F), ± 1.5°.', 5), ('evidence-909383', 'Hansen \"et al.', 5), ('evidence-543404', 'Hansen \"et al.', 5), ('evidence-1049371', 'The 1990 IPCC First Assessment Report estimated that equilibrium climate sensitivity to a doubling of CO 2 lay between 1.5 and 4.5\\xa0°C (2.7 and 8.1\\xa0°F), with a \"best guess in the light of current knowledge\" of 2.5\\xa0°C (4.5\\xa0°F).', 1)]\n",
      "[('evidence-888963', 'According to research conducted at ETH Zurich, restoring all degraded forests all over the world could capture about 205 billion tons of carbon in total (which is about 2/3rd of all carbon emissions, bringing global warming down to below 2\\xa0°C).', 5), ('evidence-440248', 'An 80% reduction in emissions would stabilize concentrations for around a century, but even greater reductions would be required beyond this.', 1), ('evidence-358595', 'Some scientists have predicted that unless significant measures (such as seeking out and protecting old growth forests that have not been disturbed) are taken on a worldwide basis, by 2030 there will only be 10% remaining, with another 10% in a degraded condition.', 1), ('evidence-632766', 'emissions were reduced 20 percent.', 1), ('evidence-516402', 'This amount of trees would cancel out the last 10 years of CO emissions and sequester 160 billion tons of carbon.This vision is being executed by the Trillion Tree Campaign.', 1), ('evidence-693168', 'This amount of trees would cancel out the last 10 years of CO emissions and sequester 160 billion tons of carbon.This vision is being executed by the Trillion Tree Campaign.', 1)]\n",
      "[('evidence-725565', 'These scenarios can be thought of as stories of possible futures.', 3), ('evidence-188071', 'In philosophy and modal logic, epistemic possibility relates a statement under consideration to the current state of our knowledge about the actual world : a statement is said to be :', 3), ('evidence-755597', \"Many scenario's are possible.\", 2), ('evidence-575701', 'This is the belief that the patient will beat the odds, no matter how unlikely this might be.', 2), ('evidence-325562', 'However, in retrospect a space of possibles can always be observed.', 2), ('evidence-368473', \"After ruling out other causes, the authors tentatively attributed the positive results in the first trial to ``chance''.\", 2)]\n",
      "[('evidence-651403', 'Michael Marshall, environment reporter for \"New Scientist\", commented that although other studies showed the \"hockey stick\" graph was essentially correct, it came under persistent attack over statistical issues that the book explains in detail, difficult reading material which \"will be invaluable for anyone confused by the many claims and counterclaims found online.', 1), ('evidence-794055', 'Contrarian John Lawrence Daly featured a modified version of the IPCC 1990 schematic, which he mis-identified as appearing in the IPCC 1995 report, and argued that \"Overturning its own previous view in the 1995 report, the IPCC presented the \\'Hockey Stick\\' as the new orthodoxy with hardly an apology or explanation for the abrupt U-turn since its 1995 report\".', 1), ('evidence-229771', 'They are a part of the British Columbia Hockey League.', 1), ('evidence-1061949', 'More than two dozen reconstructions, using various statistical methods and combinations of proxy records, have supported the broad consensus shown in the original 1998 hockey-stick graph, with variations in how flat the pre-20th century \"shaft\" appears.', 1), ('evidence-142656', 'Category : Defunct ice hockey teams in Canada', 1), ('evidence-1151647', 'Is member of the International Street and Ball Hockey Federation (ISBHF).', 1)]\n",
      "[('evidence-1195607', 'The period since 2000 has brought retreat to several very large glaciers that had long been stable.', 5), ('evidence-725428', 'Glaciers have been retreating worldwide for at least the last century; the rate of retreat has increased in the past decade.', 5), ('evidence-945977', 'In [[Greenland]] the period since the year 2000 has brought retreat to several very large glaciers that had long been stable.', 5), ('evidence-1068834', 'Since 1980, glacier retreat has become increasingly rapid and ubiquitous, and has threatened the existence of many of the glaciers of the world.', 5), ('evidence-5928', 'In Greenland, glacier retreat has been observed in outlet glaciers, resulting in an increase of the ice flow rate and destabilization of the mass balance of the ice sheet that is their source.', 5), ('evidence-908603', 'In a paper published in 2009 by the University of Zurich, the Swiss glacier survey of 89 glaciers found 76 retreating, 5 stationary and 8 advancing from where they had been in 1973.', 5)]\n",
      "[('evidence-371380', 'Gravimetry is the measurement of the strength of a gravitational field.', 5), ('evidence-812408', \"He and Potts used gravity measurements by NASA 's GRACE satellites to identify a 200-mile (300 km) wide mass concentration.\", 5), ('evidence-954672', 'Several different gravitational perturbation algorithms are used to get fairly accurate estimates of the path of objects in the solar system.', 5), ('evidence-1094979', 'Gravimetry may be used when either the magnitude of gravitational field or the properties of matter responsible for its creation are of interest.', 5), ('evidence-255717', 'The Satellite Test of the Equivalence Principle (STEP) is a proposed space science experiment to test the equivalence principle of general relativity.', 5), ('evidence-175598', 'He is currently working on a new measurement of G, the Newtonian constant of gravitation.', 2)]\n",
      "[('evidence-658407', 'In the United States and many other parts of the world there has been a marked increase in intense rainfall events which have resulted in more severe flooding.', 5), ('evidence-631826', 'However, the evidence is clear that severe weather and moderate rainfall are also increasing.', 2), ('evidence-1181771', 'From ancient times, it has been known to cause floods.', 1), ('evidence-990320', \"Here's just one example; China has experienced a seven-fold increase in the frequency of floods since the 1950s, rising every decade.\", 1), ('evidence-1075985', 'Floods can be both beneficial to societies or cause damage.', 1), ('evidence-976328', 'As flooding increases there is also an increase in cholera epidemics as the flood waters that are carrying the bacteria are infiltrating the drinking water supply.', 1)]\n",
      "[('evidence-1155515', 'A basic and common example of a negative feedback system in the environment is the interaction among cloud cover, plant growth, solar radiation, and planet temperature.', 5), ('evidence-207443', 'The albedo of increased cloudiness cools the climate, resulting in a negative feedback; while the reflection of infrared radiation by clouds warms the climate, resulting in a positive feedback.', 5), ('evidence-269791', 'Lindzen disputed this, claiming that the negative feedback from high-level clouds was still larger than the weak positive feedback estimated by Lin et al.', 2), ('evidence-208863', 'But if low clouds decrease, or if high clouds increase, the feedback is positive.', 1), ('evidence-1003105', 'This is an example of positive feedback.', 1), ('evidence-486549', 'This provides a good example of a negative feedback loop.', 1)]\n",
      "[('evidence-165625', 'According to the fact sheets \"U.S.', 2), ('evidence-899251', 'United States of America:', 1), ('evidence-217830', 'United States', 1), ('evidence-864079', \"The United States is the world's second largest producer and consumer of electricity.\", 1), ('evidence-340597', 'It is a research university ranked as 45th in the US among national universities by U.S. News & World Report in 2012.', 1), ('evidence-263169', 'The U.S.', 1)]\n",
      "[('evidence-842094', \"I wanted to debunk every single myth around veganism.''\", 1), ('evidence-411225', 'A myth is any traditional story consisting of events that are ostensibly historical, explaining the origins of a cultural practice or natural phenomenon.', 1), ('evidence-855449', 'Mythologizing continues, as shown in contemporary mythopoeia such as urban legends and the expansive fictional mythoi created by fantasy novels and comics.', 1), ('evidence-700310', 'The crash occurred minutes after it took off.', 1), ('evidence-404236', 'Myths are the stories people tell to explain nature, history and customs.', 1), ('evidence-213227', 'Creation myths are the most common form of myth, usually developing first in oral traditions, and are found throughout human culture.', 1)]\n",
      "[('evidence-1060245', 'His meta-analysis concluded that in 2012 in the United States, wind turbines resulted in the deaths of 888,000 bats and 573,000 birds, including 83,000 birds of prey.', 5), ('evidence-936836', \"According to Dr. Michael Hutchins, the director of the American Bird Conservancy's Bird Smart Wind Energy Campaign, wind turbines present a threat to the nation's birds, and that the present permitting process is ineffective in addressing the issue.\", 5), ('evidence-594409', 'Improvements in wind turbine design, including a much slower rate of rotation of the blades and a smooth tower base instead of perchable lattice towers, have helped reduce bird mortality at wind farms around the world.', 2), ('evidence-763336', 'There are reports of bird and bat mortality at wind turbines as there are around other artificial structures.', 1), ('evidence-693024', 'There are reports of bird and bat mortality at wind turbines, as there are around other artificial structures.', 1), ('evidence-285002', 'Thousands of birds, including rare species, have been killed by the blades of wind turbines, though wind turbines contribute relatively insignificantly to anthropogenic avian mortality.', 1)]\n",
      "[('evidence-191063', 'In order to permit a comparison of disparate techniques, they used a common evaluation for each technique based on its effect on net radiative forcing.', 5), ('evidence-1190716', \"Radiative forcing is a measure of how various factors alter the energy balance of the Earth's atmosphere.\", 1), ('evidence-481333', 'Radiative forcing is the imbalance between incoming and outgoing radiation at the top of the atmosphere resulting from a change in atmospheric composition or other changes in radiation budget prior to long-term changes in global temperature resulting from forcing.', 1), ('evidence-1162415', 'A change in the incident radiated portion of the energy budget is referred to as a radiative forcing.', 1), ('evidence-230286', 'This is measured as radiative forcing.', 1), ('evidence-1106198', 'It affects both short and longwave radiation to produce a net negative radiative forcing.', 1)]\n",
      "[('evidence-48256', 'One of the most powerful power grids in the world supplies power to the state of Queensland, Australia.', 1), ('evidence-572512', '\"South Australia has the highest power prices in the world\".', 1), ('evidence-478868', 'Electricity grids are the networks used to transmit and distribute power from production source to end user, when the two may be hundreds of kilometres away.', 1), ('evidence-981881', 'Ghana Grid Company is an electricity transmission company in Ghana.', 1), ('evidence-67732', '[citation needed] South Australia has the highest retail price for electricity in the country.', 1), ('evidence-780332', 'Industrialised countries such as Canada, the US, and Australia are among the highest per capita consumers of electricity in the world, which is possible thanks to a widespread electrical distribution network.', 1)]\n",
      "[('evidence-706949', 'Water vapor is the most potent greenhouse gas owing to the presence of the hydroxyl bond which strongly absorbs in the infra-red region of the light spectrum.', 5), ('evidence-80853', 'Water vapor accounts for the largest percentage of the greenhouse effect, between 36% and 66% for clear sky conditions and between 66% and 85% when including clouds.', 5), ('evidence-986681', 'Water vapor is the most abundant greenhouse gas and is the largest contributor to the natural greenhouse effect, despite having a short atmospheric lifetime (about 10 days).', 5), ('evidence-274044', 'Though water is responsible for most (about 36-70%) of the total greenhouse effect, the role of water vapor as a greenhouse gas depends on temperature.', 5), ('evidence-481206', 'Water vapor responds to and amplifies effects of the other greenhouse gases.', 5), ('evidence-577890', 'By their percentage contribution to the greenhouse effect on Earth the four major gases are: water vapor, 36–70% carbon dioxide, 9–26% methane, 4–9% ozone, 3–7% It is not possible to assign a specific percentage to each gas because the absorption and emission bands of the gases overlap (hence the ranges given above).', 5)]\n",
      "[('evidence-143437', 'The polar bear is the most carnivorous species of bear, and its diet primarily consists of ringed (Pusa hispida) and bearded (Erignathus barbatus) seals.', 5), ('evidence-823621', 'It is also found in Alaska from the southeastern Bristol Bay to Demarcation Point during the ice-free seasons of summer and autumn when spotted seals mate and have pups.', 5), ('evidence-862997', 'Polar bears hunt their preferred food of seals from the edge of sea ice, often living off fat reserves when no sea ice is present.', 3), ('evidence-133419', 'The polar bear is the most carnivorous member of the bear family, and throughout most of its range, its diet primarily consists of ringed (Pusa hispida) and bearded seals (Erignathus barbatus).', 2), ('evidence-726838', 'The polar bear tends to frequent areas where sea ice meets water, such as polynyas and leads (temporary stretches of open water in Arctic ice), to hunt the seals that make up most of its diet.', 2), ('evidence-211904', 'Seals occur at the heads of the fjords and otters are often seen along rivers.', 2)]\n",
      "[('evidence-91210', 'Life Before Life has been reviewed in Philosophical Practice, and PsycCRITIQUES.', 1), ('evidence-785281', 'Concern, which is not to be mistaken with fear, is about the possible or potential threat.', 1), ('evidence-810960', 'It was not until this heavy bombardment slackened that life appears to have begun to evolve on Earth.', 1), ('evidence-1164921', \"For the purposes of the rule, a life is ``in being'' at conception.\", 1), ('evidence-770443', 'The report said : Even if the guardsmen faced danger, it was not a danger that called for lethal force.', 1), ('evidence-997559', 'The name Skeat, Skeats, Skeates, Skett, Skitt and Skates are derived from the Norman French names Scet or Schett, and is mentioned in the Doomsday Book.', 1)]\n",
      "[('evidence-528396', 'The report was finalized in Paris.', 1), ('evidence-1189988', 'The report was finalised in Paris.', 1), ('evidence-1046773', '\"Australia is not on track to reach 2030 Paris target (but the potential is there)\".', 1), ('evidence-90230', 'The Paris Agreement was agreed upon in October 2016 and entered into force in November 2016.', 1), ('evidence-1016669', 'The Paris Agreement is an agreement within the United Nations Framework Convention on Climate Change (UNFCCC) dealing with greenhouse gases emissions mitigation, adaptation and finance starting in the year 2020.', 1), ('evidence-162891', 'The agreement was signed a few days prior to the start of the Paris Peace Conference, which had been convened to settle disputes stemming from World War I.', 1)]\n",
      "[('evidence-55991', 'On July 21, 2011, while a guest on the show, he stated: \"To suggest that CO2\\'s a pollutant when it\\'s an extremely important gas in the atmosphere for all plant life and therefore for the oxygen that\\'s produced, is just nonsense.', 5), ('evidence-711625', 'By contrast, is a naturally occurring colorless odorless trace gas that is essential to the biosphere.', 5), ('evidence-1115536', 'V GAS\" is a 3D serious game in which players explore and live in a house that is built to mirror their own.', 1), ('evidence-1037264', 'Gass is a village in Vasai Taluka, near Mumbai in the Maharashtra state of India.', 1), ('evidence-159181', 'Headquartered in Milan, 2i Rete Gas is the second largest gas distribution operator and the only independent player in the gas distribution sector in Italy, with a widespread and diversified network of concession over the whole Italian territory, a market share of approximately 17 % and more than 3.8 m customers served.', 1), ('evidence-112990', 'It is a colourless gas that polymerizes readily as a liquid or in solution but is stable as a gas.', 1)]\n",
      "[('evidence-157187', 'For example : if and, this corresponds to a 2p-orbital.', 5), ('evidence-381186', 'Before its most recent passage through the Solar System, its orbital period was about 17,000 years, but the gravitational perturbation of the giant planets has increased this period to 70,000 years.', 1), ('evidence-1170857', 'This a spectroscopic binary with an orbital period of 958 days.', 1), ('evidence-709979', 'The components in this star system have an orbital period of about 366 years with an eccentricity of 0.43.', 1), ('evidence-733164', 'According to one source, in the period from 1751 to 2008 about 347 gigatonnes of carbon were released as carbon dioxide to the atmosphere from burning of fossil fuels.', 1), ('evidence-345918', 'The orbit will go from a 700 km altitude orbit to a 500 km altitude one in a half year.', 1)]\n",
      "[('evidence-509648', 'Coral reefs worldwide were lost by 19 percent, and 60 percent of the remaining reefs are at immediate risk of being lost.', 5), ('evidence-1001116', 'Because of human overpopulation, coral reefs are dying around the world.', 5), ('evidence-406279', '\"From despair to repair: Dramatic decline of Caribbean corals can be reversed\".', 5), ('evidence-205895', 'It is endemic to coral reefs in Australia.', 2), ('evidence-580567', 'Coral reef systems have been in decline worldwide.', 1), ('evidence-369389', 'Global assessments of coral reefs of the world continue to report drastic and rapid rates of decline.', 1)]\n",
      "[('evidence-526112', 'Models are, however, able to simulate the observed 20th century changes in temperature when they include all of the most important external forcings, including human influences and natural forcings.', 5), ('evidence-295530', \"In June 2017, twenty-one researchers published an article in the Proceedings of the National Academy of Sciences of the United States of America rejecting Jacobson's earlier PNAS article, accusing him of modeling errors and of using invalid modeling tools.\", 5), ('evidence-803885', 'Evaluate and debug model through experimentation', 5), ('evidence-510347', '(2007) allowed for the possibility that climate models had been underestimated the effect of solar forcing.', 5), ('evidence-832604', 'I didn’t follow any models—not even my own\".', 2), ('evidence-44606', 'Models vary in complexity:', 1)]\n",
      "[('evidence-1175280', 'One way, however, that corals \"might escape ocean warming, is to migrate into cooler waters.\"', 5), ('evidence-479580', 'They are also transplanting the successfully grown corals from the research tanks and putting them into the areas of the ocean where the reefs are dying out.', 4), ('evidence-965077', 'The corals form multiple symbiotic relationships with the organisms around them.', 2), ('evidence-1134746', 'Researchers are now asking a new question: can we condition corals, that are not from this area, in this manner and slowly introduce them to higher temperatures for short periods of time and make them more resilient against rising ocean temperatures.', 2), ('evidence-1050619', 'Some corals recover.', 1), ('evidence-877068', 'These corals prefer to live in deeper waters near currents so they can catch and eat passing zooplankton.', 1)]\n"
     ]
    },
    {
     "data": {
      "text/plain": [
       "{'claim-752': {'initial_evidences': ['evidence-67732',\n",
       "   'evidence-572512',\n",
       "   'evidence-780332',\n",
       "   'evidence-452156',\n",
       "   'evidence-48256',\n",
       "   'evidence-808896',\n",
       "   'evidence-1061888',\n",
       "   'evidence-252686',\n",
       "   'evidence-723533',\n",
       "   'evidence-169170'],\n",
       "  'claim_text': '[South Australia] has the most expensive electricity in the world.',\n",
       "  'filtered_evidences': ['evidence-572512',\n",
       "   'evidence-67732',\n",
       "   'evidence-780332',\n",
       "   'evidence-452156',\n",
       "   'evidence-48256',\n",
       "   'evidence-808896']},\n",
       " 'claim-375': {'initial_evidences': ['evidence-334443',\n",
       "   'evidence-357540',\n",
       "   'evidence-724468',\n",
       "   'evidence-316768',\n",
       "   'evidence-342344',\n",
       "   'evidence-646443',\n",
       "   'evidence-553922',\n",
       "   'evidence-559290',\n",
       "   'evidence-281950',\n",
       "   'evidence-441151'],\n",
       "  'claim_text': 'when 3 per cent of total annual global emissions of carbon dioxide are from humans and Australia prod\\xaduces 1.3 per cent of this 3 per cent, then no amount of emissions reductio\\xadn here will have any effect on global climate.',\n",
       "  'filtered_evidences': ['evidence-559290',\n",
       "   'evidence-441151',\n",
       "   'evidence-334443',\n",
       "   'evidence-357540',\n",
       "   'evidence-724468',\n",
       "   'evidence-316768']},\n",
       " 'claim-1266': {'initial_evidences': ['evidence-694262',\n",
       "   'evidence-459999',\n",
       "   'evidence-937622',\n",
       "   'evidence-802686',\n",
       "   'evidence-527805',\n",
       "   'evidence-970786',\n",
       "   'evidence-478678',\n",
       "   'evidence-622225',\n",
       "   'evidence-205977',\n",
       "   'evidence-298630'],\n",
       "  'claim_text': 'This means that the world is now 1C warmer than it was in pre-industrial times',\n",
       "  'filtered_evidences': ['evidence-937622',\n",
       "   'evidence-622225',\n",
       "   'evidence-298630',\n",
       "   'evidence-527805',\n",
       "   'evidence-694262',\n",
       "   'evidence-459999']},\n",
       " 'claim-871': {'initial_evidences': ['evidence-856375',\n",
       "   'evidence-641043',\n",
       "   'evidence-472751',\n",
       "   'evidence-1078662',\n",
       "   'evidence-491545',\n",
       "   'evidence-608669',\n",
       "   'evidence-93970',\n",
       "   'evidence-794357',\n",
       "   'evidence-703895',\n",
       "   'evidence-742415'],\n",
       "  'claim_text': '“As it happens, Zika may also be a good model of the second worrying effect — disease mutation.',\n",
       "  'filtered_evidences': ['evidence-856375',\n",
       "   'evidence-641043',\n",
       "   'evidence-472751',\n",
       "   'evidence-1078662',\n",
       "   'evidence-491545',\n",
       "   'evidence-608669']},\n",
       " 'claim-2164': {'initial_evidences': ['evidence-52981',\n",
       "   'evidence-1200633',\n",
       "   'evidence-640229',\n",
       "   'evidence-766313',\n",
       "   'evidence-264761',\n",
       "   'evidence-44751',\n",
       "   'evidence-691825',\n",
       "   'evidence-858437',\n",
       "   'evidence-860547',\n",
       "   'evidence-479798'],\n",
       "  'claim_text': 'Greenland has only lost a tiny fraction of its ice mass',\n",
       "  'filtered_evidences': ['evidence-766313',\n",
       "   'evidence-52981',\n",
       "   'evidence-1200633',\n",
       "   'evidence-640229',\n",
       "   'evidence-264761',\n",
       "   'evidence-44751']},\n",
       " 'claim-1607': {'initial_evidences': ['evidence-584875',\n",
       "   'evidence-385838',\n",
       "   'evidence-63605',\n",
       "   'evidence-305810',\n",
       "   'evidence-1111357',\n",
       "   'evidence-345360',\n",
       "   'evidence-654372',\n",
       "   'evidence-1180313',\n",
       "   'evidence-129430',\n",
       "   'evidence-419045'],\n",
       "  'claim_text': \"CO2 limits won't cool the planet.\",\n",
       "  'filtered_evidences': ['evidence-584875',\n",
       "   'evidence-385838',\n",
       "   'evidence-63605',\n",
       "   'evidence-305810',\n",
       "   'evidence-1111357',\n",
       "   'evidence-345360']},\n",
       " 'claim-761': {'initial_evidences': ['evidence-870973',\n",
       "   'evidence-579388',\n",
       "   'evidence-565403',\n",
       "   'evidence-541133',\n",
       "   'evidence-968741',\n",
       "   'evidence-884263',\n",
       "   'evidence-141189',\n",
       "   'evidence-630491',\n",
       "   'evidence-61246',\n",
       "   'evidence-918428'],\n",
       "  'claim_text': '[Riebesell] is a world authority on the topic and has typically communicated cautiously about the effects of acidification.',\n",
       "  'filtered_evidences': ['evidence-870973',\n",
       "   'evidence-579388',\n",
       "   'evidence-565403',\n",
       "   'evidence-541133',\n",
       "   'evidence-968741',\n",
       "   'evidence-884263']},\n",
       " 'claim-1718': {'initial_evidences': ['evidence-1143156',\n",
       "   'evidence-534425',\n",
       "   'evidence-120706',\n",
       "   'evidence-1203017',\n",
       "   'evidence-802686',\n",
       "   'evidence-607144',\n",
       "   'evidence-814397',\n",
       "   'evidence-775616',\n",
       "   'evidence-1186480',\n",
       "   'evidence-348440'],\n",
       "  'claim_text': 'The actual data show high northern latitudes are warmer today than in 1940.',\n",
       "  'filtered_evidences': ['evidence-534425',\n",
       "   'evidence-1143156',\n",
       "   'evidence-120706',\n",
       "   'evidence-1203017',\n",
       "   'evidence-802686',\n",
       "   'evidence-607144']},\n",
       " 'claim-1273': {'initial_evidences': ['evidence-884516',\n",
       "   'evidence-950070',\n",
       "   'evidence-1145383',\n",
       "   'evidence-152371',\n",
       "   'evidence-321988',\n",
       "   'evidence-1200922',\n",
       "   'evidence-1122524',\n",
       "   'evidence-181656',\n",
       "   'evidence-365857',\n",
       "   'evidence-938028'],\n",
       "  'claim_text': 'The rapid changes in the climate may have profound consequences for humans and other species… Severe drought caused food shortages for millions of people in Ethiopia, with a lack of rainfall resulting in “intense and widespread” forest fires in Indonesia that belched out a vast quantity of greenhouse gas',\n",
       "  'filtered_evidences': ['evidence-884516',\n",
       "   'evidence-950070',\n",
       "   'evidence-1145383',\n",
       "   'evidence-152371',\n",
       "   'evidence-1200922',\n",
       "   'evidence-1122524']},\n",
       " 'claim-1786': {'initial_evidences': ['evidence-58464',\n",
       "   'evidence-52744',\n",
       "   'evidence-408330',\n",
       "   'evidence-277289',\n",
       "   'evidence-35725',\n",
       "   'evidence-368679',\n",
       "   'evidence-1131134',\n",
       "   'evidence-724119',\n",
       "   'evidence-821985',\n",
       "   'evidence-442947'],\n",
       "  'claim_text': 'CFCs contribute to global waerming at a small level.',\n",
       "  'filtered_evidences': ['evidence-58464',\n",
       "   'evidence-52744',\n",
       "   'evidence-408330',\n",
       "   'evidence-277289',\n",
       "   'evidence-35725',\n",
       "   'evidence-368679']},\n",
       " 'claim-2796': {'initial_evidences': ['evidence-543404',\n",
       "   'evidence-909383',\n",
       "   'evidence-181393',\n",
       "   'evidence-569261',\n",
       "   'evidence-997799',\n",
       "   'evidence-1194346',\n",
       "   'evidence-1138009',\n",
       "   'evidence-301474',\n",
       "   'evidence-886863',\n",
       "   'evidence-30473'],\n",
       "  'claim_text': 'Had he used the currently accepted value of approximately 3°C warming for a doubling of atmospheric CO2, Hansen would have correctly projected the ensuing global warming.',\n",
       "  'filtered_evidences': ['evidence-569261',\n",
       "   'evidence-301474',\n",
       "   'evidence-886863',\n",
       "   'evidence-1194346',\n",
       "   'evidence-543404',\n",
       "   'evidence-909383']},\n",
       " 'claim-2580': {'initial_evidences': ['evidence-15399',\n",
       "   'evidence-425667',\n",
       "   'evidence-208053',\n",
       "   'evidence-243372',\n",
       "   'evidence-273631',\n",
       "   'evidence-157943',\n",
       "   'evidence-635833',\n",
       "   'evidence-1007885',\n",
       "   'evidence-927172',\n",
       "   'evidence-7259'],\n",
       "  'claim_text': 'Volcanoes emit around 0.3 billion tonnes of CO2 per year.',\n",
       "  'filtered_evidences': ['evidence-425667',\n",
       "   'evidence-243372',\n",
       "   'evidence-15399',\n",
       "   'evidence-208053',\n",
       "   'evidence-273631',\n",
       "   'evidence-157943']},\n",
       " 'claim-1219': {'initial_evidences': ['evidence-1055914',\n",
       "   'evidence-647077',\n",
       "   'evidence-539675',\n",
       "   'evidence-572915',\n",
       "   'evidence-266501',\n",
       "   'evidence-469172',\n",
       "   'evidence-765206',\n",
       "   'evidence-703966',\n",
       "   'evidence-1168213',\n",
       "   'evidence-566900'],\n",
       "  'claim_text': 'Global warming is driving major melting on the surface of Greenland’s glaciers and is speeding up their travel into the sea.”',\n",
       "  'filtered_evidences': ['evidence-647077',\n",
       "   'evidence-539675',\n",
       "   'evidence-1168213',\n",
       "   'evidence-566900',\n",
       "   'evidence-1055914',\n",
       "   'evidence-572915']},\n",
       " 'claim-75': {'initial_evidences': ['evidence-1176330',\n",
       "   'evidence-780559',\n",
       "   'evidence-357726',\n",
       "   'evidence-818008',\n",
       "   'evidence-193976',\n",
       "   'evidence-130882',\n",
       "   'evidence-303223',\n",
       "   'evidence-281919',\n",
       "   'evidence-44530',\n",
       "   'evidence-442741'],\n",
       "  'claim_text': 'The science is clear, climate change is making extreme weather events, including tornadoes, worse.',\n",
       "  'filtered_evidences': ['evidence-281919',\n",
       "   'evidence-1176330',\n",
       "   'evidence-780559',\n",
       "   'evidence-357726',\n",
       "   'evidence-818008',\n",
       "   'evidence-193976']},\n",
       " 'claim-2813': {'initial_evidences': ['evidence-425787',\n",
       "   'evidence-526818',\n",
       "   'evidence-700426',\n",
       "   'evidence-586068',\n",
       "   'evidence-499977',\n",
       "   'evidence-714738',\n",
       "   'evidence-158204',\n",
       "   'evidence-1144724',\n",
       "   'evidence-941572',\n",
       "   'evidence-1148241'],\n",
       "  'claim_text': 'In fact, the authors go on to estimate climate sensitivity from their findings, calculate a value between 2.3 to 4.1°C.',\n",
       "  'filtered_evidences': ['evidence-425787',\n",
       "   'evidence-526818',\n",
       "   'evidence-700426',\n",
       "   'evidence-158204',\n",
       "   'evidence-1148241',\n",
       "   'evidence-586068']},\n",
       " 'claim-2335': {'initial_evidences': ['evidence-97716',\n",
       "   'evidence-513147',\n",
       "   'evidence-348895',\n",
       "   'evidence-1007525',\n",
       "   'evidence-617364',\n",
       "   'evidence-751226',\n",
       "   'evidence-558580',\n",
       "   'evidence-670449',\n",
       "   'evidence-384553',\n",
       "   'evidence-1017092'],\n",
       "  'claim_text': 'Satellite measurements of infrared spectra over the past 40 years observe less energy escaping to space at the wavelengths associated with CO2.',\n",
       "  'filtered_evidences': ['evidence-513147',\n",
       "   'evidence-1007525',\n",
       "   'evidence-617364',\n",
       "   'evidence-558580',\n",
       "   'evidence-670449',\n",
       "   'evidence-97716']},\n",
       " 'claim-161': {'initial_evidences': ['evidence-1027243',\n",
       "   'evidence-782532',\n",
       "   'evidence-250673',\n",
       "   'evidence-66563',\n",
       "   'evidence-920126',\n",
       "   'evidence-265135',\n",
       "   'evidence-750033',\n",
       "   'evidence-430630',\n",
       "   'evidence-505722',\n",
       "   'evidence-47149'],\n",
       "  'claim_text': 'Extreme melting and changes to the climate like this has released pressure on to the continent, allowing the ground to rise up.',\n",
       "  'filtered_evidences': ['evidence-250673',\n",
       "   'evidence-66563',\n",
       "   'evidence-750033',\n",
       "   'evidence-1027243',\n",
       "   'evidence-782532',\n",
       "   'evidence-920126']},\n",
       " 'claim-2243': {'initial_evidences': ['evidence-257246',\n",
       "   'evidence-489904',\n",
       "   'evidence-1030256',\n",
       "   'evidence-161061',\n",
       "   'evidence-918931',\n",
       "   'evidence-399460',\n",
       "   'evidence-92591',\n",
       "   'evidence-1037030',\n",
       "   'evidence-367323',\n",
       "   'evidence-442723'],\n",
       "  'claim_text': 'The CO2 amplifies the warming and mixes through the atmosphere, spreading warming throughout the planet.',\n",
       "  'filtered_evidences': ['evidence-257246',\n",
       "   'evidence-489904',\n",
       "   'evidence-1030256',\n",
       "   'evidence-161061',\n",
       "   'evidence-918931',\n",
       "   'evidence-399460']},\n",
       " 'claim-1256': {'initial_evidences': ['evidence-586254',\n",
       "   'evidence-731434',\n",
       "   'evidence-1107462',\n",
       "   'evidence-1125244',\n",
       "   'evidence-957020',\n",
       "   'evidence-636662',\n",
       "   'evidence-286845',\n",
       "   'evidence-482196',\n",
       "   'evidence-111881',\n",
       "   'evidence-39028'],\n",
       "  'claim_text': '‘Next year or the year after, the Arctic will be free of ice’',\n",
       "  'filtered_evidences': ['evidence-731434',\n",
       "   'evidence-1125244',\n",
       "   'evidence-636662',\n",
       "   'evidence-482196',\n",
       "   'evidence-111881',\n",
       "   'evidence-586254']},\n",
       " 'claim-506': {'initial_evidences': ['evidence-886611',\n",
       "   'evidence-713402',\n",
       "   'evidence-455180',\n",
       "   'evidence-844144',\n",
       "   'evidence-155748',\n",
       "   'evidence-1110824',\n",
       "   'evidence-656832',\n",
       "   'evidence-286694',\n",
       "   'evidence-463275',\n",
       "   'evidence-474857'],\n",
       "  'claim_text': 'More than 100 climate models over the past 30 years did not predict what actually happened because it was assumed carbon dioxide had the pivotal role in driving climate change and that the effects of clouds, back-radiation and the sun were trivial.',\n",
       "  'filtered_evidences': ['evidence-455180',\n",
       "   'evidence-844144',\n",
       "   'evidence-656832',\n",
       "   'evidence-286694',\n",
       "   'evidence-886611',\n",
       "   'evidence-713402']},\n",
       " 'claim-369': {'initial_evidences': ['evidence-411817',\n",
       "   'evidence-469106',\n",
       "   'evidence-1020001',\n",
       "   'evidence-1182534',\n",
       "   'evidence-783884',\n",
       "   'evidence-374084',\n",
       "   'evidence-557607',\n",
       "   'evidence-609968',\n",
       "   'evidence-398165',\n",
       "   'evidence-964861'],\n",
       "  'claim_text': 'By 2050 there’s a scientific consensus that we reached the tipping point for ice sheets in Greenland and the West Antarctic',\n",
       "  'filtered_evidences': ['evidence-411817',\n",
       "   'evidence-469106',\n",
       "   'evidence-783884',\n",
       "   'evidence-609968',\n",
       "   'evidence-398165',\n",
       "   'evidence-1020001']},\n",
       " 'claim-2184': {'initial_evidences': ['evidence-712782',\n",
       "   'evidence-413679',\n",
       "   'evidence-836932',\n",
       "   'evidence-496482',\n",
       "   'evidence-555564',\n",
       "   'evidence-340647',\n",
       "   'evidence-340173',\n",
       "   'evidence-724776',\n",
       "   'evidence-1107549',\n",
       "   'evidence-100167'],\n",
       "  'claim_text': 'We have had ice ages and warmer periods when alligators were found in Spitzbergen.',\n",
       "  'filtered_evidences': ['evidence-712782',\n",
       "   'evidence-413679',\n",
       "   'evidence-836932',\n",
       "   'evidence-496482',\n",
       "   'evidence-555564',\n",
       "   'evidence-340647']},\n",
       " 'claim-1057': {'initial_evidences': ['evidence-754329',\n",
       "   'evidence-69294',\n",
       "   'evidence-881018',\n",
       "   'evidence-945944',\n",
       "   'evidence-218233',\n",
       "   'evidence-754923',\n",
       "   'evidence-1083789',\n",
       "   'evidence-965044',\n",
       "   'evidence-649885',\n",
       "   'evidence-263383'],\n",
       "  'claim_text': '“Moreover, the ocean already contains so-called oxygen minimum zones, generally found in the middle depths.',\n",
       "  'filtered_evidences': ['evidence-754329',\n",
       "   'evidence-69294',\n",
       "   'evidence-881018',\n",
       "   'evidence-754923',\n",
       "   'evidence-965044',\n",
       "   'evidence-649885']},\n",
       " 'claim-104': {'initial_evidences': ['evidence-262028',\n",
       "   'evidence-801082',\n",
       "   'evidence-956940',\n",
       "   'evidence-549462',\n",
       "   'evidence-269431',\n",
       "   'evidence-950248',\n",
       "   'evidence-249010',\n",
       "   'evidence-814004',\n",
       "   'evidence-178206',\n",
       "   'evidence-121664'],\n",
       "  'claim_text': 'Increases in atmospheric CO2 followed increases in temperature.',\n",
       "  'filtered_evidences': ['evidence-956940',\n",
       "   'evidence-262028',\n",
       "   'evidence-801082',\n",
       "   'evidence-549462',\n",
       "   'evidence-269431',\n",
       "   'evidence-950248']},\n",
       " 'claim-1975': {'initial_evidences': ['evidence-688142',\n",
       "   'evidence-602360',\n",
       "   'evidence-829516',\n",
       "   'evidence-260933',\n",
       "   'evidence-357916',\n",
       "   'evidence-331082',\n",
       "   'evidence-408141',\n",
       "   'evidence-1002372',\n",
       "   'evidence-872741',\n",
       "   'evidence-1077486'],\n",
       "  'claim_text': 'The claim that 97 percent of scientists believe humans are causing climate change has been debunked by the \"head\" of the United Nations Intergovernmental Panel on Climate Change.',\n",
       "  'filtered_evidences': ['evidence-688142',\n",
       "   'evidence-602360',\n",
       "   'evidence-829516',\n",
       "   'evidence-260933',\n",
       "   'evidence-357916',\n",
       "   'evidence-331082']},\n",
       " 'claim-139': {'initial_evidences': ['evidence-916207',\n",
       "   'evidence-1003174',\n",
       "   'evidence-20808',\n",
       "   'evidence-966967',\n",
       "   'evidence-889201',\n",
       "   'evidence-649953',\n",
       "   'evidence-162099',\n",
       "   'evidence-340150',\n",
       "   'evidence-283416',\n",
       "   'evidence-742718'],\n",
       "  'claim_text': 'And in January, one out of five British children told pollsters they were having nightmares about climate change.',\n",
       "  'filtered_evidences': ['evidence-283416',\n",
       "   'evidence-916207',\n",
       "   'evidence-1003174',\n",
       "   'evidence-20808',\n",
       "   'evidence-966967',\n",
       "   'evidence-889201']},\n",
       " 'claim-2062': {'initial_evidences': ['evidence-884516',\n",
       "   'evidence-664704',\n",
       "   'evidence-741505',\n",
       "   'evidence-321988',\n",
       "   'evidence-399275',\n",
       "   'evidence-365857',\n",
       "   'evidence-350259',\n",
       "   'evidence-176704',\n",
       "   'evidence-385877',\n",
       "   'evidence-534545'],\n",
       "  'claim_text': 'Global warming is increasing the magnitude and frequency of droughts and floods.',\n",
       "  'filtered_evidences': ['evidence-365857',\n",
       "   'evidence-884516',\n",
       "   'evidence-664704',\n",
       "   'evidence-741505',\n",
       "   'evidence-321988',\n",
       "   'evidence-399275']},\n",
       " 'claim-1160': {'initial_evidences': ['evidence-1161640',\n",
       "   'evidence-33749',\n",
       "   'evidence-27691',\n",
       "   'evidence-347185',\n",
       "   'evidence-197863',\n",
       "   'evidence-1168721',\n",
       "   'evidence-222219',\n",
       "   'evidence-1049802',\n",
       "   'evidence-1172880',\n",
       "   'evidence-746739'],\n",
       "  'claim_text': 'With more CO2 in the atmosphere, the challenge [feeding 2.5 billion more people] can and will be met.',\n",
       "  'filtered_evidences': ['evidence-1161640',\n",
       "   'evidence-33749',\n",
       "   'evidence-27691',\n",
       "   'evidence-347185',\n",
       "   'evidence-197863',\n",
       "   'evidence-1168721']},\n",
       " 'claim-2679': {'initial_evidences': ['evidence-906232',\n",
       "   'evidence-847959',\n",
       "   'evidence-715335',\n",
       "   'evidence-299791',\n",
       "   'evidence-238680',\n",
       "   'evidence-1064124',\n",
       "   'evidence-741001',\n",
       "   'evidence-951599',\n",
       "   'evidence-448397',\n",
       "   'evidence-788219'],\n",
       "  'claim_text': '\"The solubility of carbon dioxide in water is listed in the Handbook of Chemistry and Physics as a declining function of temperature. ...',\n",
       "  'filtered_evidences': ['evidence-715335',\n",
       "   'evidence-1064124',\n",
       "   'evidence-906232',\n",
       "   'evidence-847959',\n",
       "   'evidence-299791',\n",
       "   'evidence-238680']},\n",
       " 'claim-2662': {'initial_evidences': ['evidence-551522',\n",
       "   'evidence-545279',\n",
       "   'evidence-356854',\n",
       "   'evidence-247672',\n",
       "   'evidence-213611',\n",
       "   'evidence-958233',\n",
       "   'evidence-962456',\n",
       "   'evidence-1128593',\n",
       "   'evidence-1037577',\n",
       "   'evidence-436921'],\n",
       "  'claim_text': '\"...there is the contention by Wolfgang Knorr of the Department of Earth Sciences at the University of Bristol in England that carbon dioxide levels in the atmosphere are about where they were 160 years ago.\" (as quoted by Ken Ward Jr.)',\n",
       "  'filtered_evidences': ['evidence-962456',\n",
       "   'evidence-545279',\n",
       "   'evidence-356854',\n",
       "   'evidence-551522',\n",
       "   'evidence-247672',\n",
       "   'evidence-213611']},\n",
       " 'claim-1490': {'initial_evidences': ['evidence-551522',\n",
       "   'evidence-1190705',\n",
       "   'evidence-213611',\n",
       "   'evidence-323575',\n",
       "   'evidence-31860',\n",
       "   'evidence-859687',\n",
       "   'evidence-958233',\n",
       "   'evidence-1182616',\n",
       "   'evidence-928923',\n",
       "   'evidence-609073'],\n",
       "  'claim_text': 'the concentration of carbon dioxide in Earth’s atmosphere has climbed to a level last seen more than 3 million years ago — before humans even appeared on the rocky ball we call home.',\n",
       "  'filtered_evidences': ['evidence-551522',\n",
       "   'evidence-1190705',\n",
       "   'evidence-213611',\n",
       "   'evidence-323575',\n",
       "   'evidence-31860',\n",
       "   'evidence-859687']},\n",
       " 'claim-2768': {'initial_evidences': ['evidence-955223',\n",
       "   'evidence-1106307',\n",
       "   'evidence-161094',\n",
       "   'evidence-898871',\n",
       "   'evidence-311416',\n",
       "   'evidence-570618',\n",
       "   'evidence-1075210',\n",
       "   'evidence-963001',\n",
       "   'evidence-499655',\n",
       "   'evidence-933078'],\n",
       "  'claim_text': 'The long term trend from albedo is that of cooling.',\n",
       "  'filtered_evidences': ['evidence-161094',\n",
       "   'evidence-898871',\n",
       "   'evidence-311416',\n",
       "   'evidence-570618',\n",
       "   'evidence-1075210',\n",
       "   'evidence-955223']},\n",
       " 'claim-2168': {'initial_evidences': ['evidence-1028610',\n",
       "   'evidence-1184058',\n",
       "   'evidence-1173841',\n",
       "   'evidence-1101250',\n",
       "   'evidence-464219',\n",
       "   'evidence-39954',\n",
       "   'evidence-123007',\n",
       "   'evidence-473697',\n",
       "   'evidence-1004201',\n",
       "   'evidence-698696'],\n",
       "  'claim_text': 'IPCC graph showing accelerating trends is misleading',\n",
       "  'filtered_evidences': ['evidence-1101250',\n",
       "   'evidence-1028610',\n",
       "   'evidence-1184058',\n",
       "   'evidence-1173841',\n",
       "   'evidence-464219',\n",
       "   'evidence-39954']},\n",
       " 'claim-785': {'initial_evidences': ['evidence-1009090',\n",
       "   'evidence-666945',\n",
       "   'evidence-61063',\n",
       "   'evidence-305026',\n",
       "   'evidence-794530',\n",
       "   'evidence-815996',\n",
       "   'evidence-583690',\n",
       "   'evidence-581530',\n",
       "   'evidence-1120571',\n",
       "   'evidence-277435'],\n",
       "  'claim_text': 'In many other cases, though — hurricanes, for example — the linkage to global warming for particular trends is uncertain or disputed.',\n",
       "  'filtered_evidences': ['evidence-277435',\n",
       "   'evidence-61063',\n",
       "   'evidence-305026',\n",
       "   'evidence-794530',\n",
       "   'evidence-815996',\n",
       "   'evidence-583690']},\n",
       " 'claim-2426': {'initial_evidences': ['evidence-354405',\n",
       "   'evidence-917120',\n",
       "   'evidence-612034',\n",
       "   'evidence-583799',\n",
       "   'evidence-576286',\n",
       "   'evidence-781693',\n",
       "   'evidence-1161956',\n",
       "   'evidence-484387',\n",
       "   'evidence-763230',\n",
       "   'evidence-780296'],\n",
       "  'claim_text': '\"Twentieth century global warming did not start until  1910.',\n",
       "  'filtered_evidences': ['evidence-1161956',\n",
       "   'evidence-354405',\n",
       "   'evidence-917120',\n",
       "   'evidence-612034',\n",
       "   'evidence-583799',\n",
       "   'evidence-576286']},\n",
       " 'claim-1292': {'initial_evidences': ['evidence-682656',\n",
       "   'evidence-708859',\n",
       "   'evidence-220275',\n",
       "   'evidence-359161',\n",
       "   'evidence-447266',\n",
       "   'evidence-445762',\n",
       "   'evidence-87694',\n",
       "   'evidence-538707',\n",
       "   'evidence-784496',\n",
       "   'evidence-238974'],\n",
       "  'claim_text': 'Any reasonable person can recognize both positives and negatives among the policy proposals of both Tories and Labour.',\n",
       "  'filtered_evidences': ['evidence-708859',\n",
       "   'evidence-220275',\n",
       "   'evidence-447266',\n",
       "   'evidence-445762',\n",
       "   'evidence-682656',\n",
       "   'evidence-359161']},\n",
       " 'claim-993': {'initial_evidences': ['evidence-1108581',\n",
       "   'evidence-778761',\n",
       "   'evidence-627319',\n",
       "   'evidence-699058',\n",
       "   'evidence-1132175',\n",
       "   'evidence-766729',\n",
       "   'evidence-610327',\n",
       "   'evidence-431693',\n",
       "   'evidence-839644',\n",
       "   'evidence-65140'],\n",
       "  'claim_text': 'While there has been a mean rise of a little more than 3mm per year worldwide since the 1990s, in the last decade, the NOAA Virginia Key tide gauge just south of Miami Beach has measured a 9mm rise annually.”',\n",
       "  'filtered_evidences': ['evidence-1108581',\n",
       "   'evidence-778761',\n",
       "   'evidence-431693',\n",
       "   'evidence-839644',\n",
       "   'evidence-65140',\n",
       "   'evidence-627319']},\n",
       " 'claim-2593': {'initial_evidences': ['evidence-947243',\n",
       "   'evidence-797161',\n",
       "   'evidence-348665',\n",
       "   'evidence-792877',\n",
       "   'evidence-771000',\n",
       "   'evidence-857269',\n",
       "   'evidence-783884',\n",
       "   'evidence-286694',\n",
       "   'evidence-493366',\n",
       "   'evidence-691825'],\n",
       "  'claim_text': '[T]he study indicates “Greenland’s ice may be less susceptible to the massive meltdown predicted by computer models of climate change, the main author ... said in an interview. ...',\n",
       "  'filtered_evidences': ['evidence-792877',\n",
       "   'evidence-286694',\n",
       "   'evidence-771000',\n",
       "   'evidence-797161',\n",
       "   'evidence-348665',\n",
       "   'evidence-857269']},\n",
       " 'claim-1567': {'initial_evidences': ['evidence-968233',\n",
       "   'evidence-747432',\n",
       "   'evidence-920160',\n",
       "   'evidence-794227',\n",
       "   'evidence-874478',\n",
       "   'evidence-621880',\n",
       "   'evidence-679700',\n",
       "   'evidence-1115102',\n",
       "   'evidence-761932',\n",
       "   'evidence-1016870'],\n",
       "  'claim_text': 'IPCC overestimate temperature rise.',\n",
       "  'filtered_evidences': ['evidence-1115102',\n",
       "   'evidence-968233',\n",
       "   'evidence-747432',\n",
       "   'evidence-920160',\n",
       "   'evidence-794227',\n",
       "   'evidence-874478']},\n",
       " 'claim-1834': {'initial_evidences': ['evidence-238586',\n",
       "   'evidence-115912',\n",
       "   'evidence-442964',\n",
       "   'evidence-1185590',\n",
       "   'evidence-100448',\n",
       "   'evidence-671040',\n",
       "   'evidence-928904',\n",
       "   'evidence-598949',\n",
       "   'evidence-340047',\n",
       "   'evidence-1188066'],\n",
       "  'claim_text': 'A 14 August 1912 article from a New Zealand newspaper contained a brief story about how burning coal might produce future warming by adding carbon dioxide to the atmosphere.',\n",
       "  'filtered_evidences': ['evidence-115912',\n",
       "   'evidence-442964',\n",
       "   'evidence-598949',\n",
       "   'evidence-238586',\n",
       "   'evidence-1185590',\n",
       "   'evidence-100448']},\n",
       " 'claim-856': {'initial_evidences': ['evidence-602799',\n",
       "   'evidence-606906',\n",
       "   'evidence-1166728',\n",
       "   'evidence-451174',\n",
       "   'evidence-1131834',\n",
       "   'evidence-461287',\n",
       "   'evidence-805273',\n",
       "   'evidence-943273',\n",
       "   'evidence-1137726',\n",
       "   'evidence-366178'],\n",
       "  'claim_text': 'as the pathbreaking work by Rosamond Naylor and David Battisti has shown, the tropics are already too hot to efficiently grow grain, and those places where grain is produced today are already at optimal growing temperature — which means even a small warming will push them down the slope of declining productivity.',\n",
       "  'filtered_evidences': ['evidence-1166728',\n",
       "   'evidence-1131834',\n",
       "   'evidence-461287',\n",
       "   'evidence-805273',\n",
       "   'evidence-943273',\n",
       "   'evidence-1137726']},\n",
       " 'claim-540': {'initial_evidences': ['evidence-1089063',\n",
       "   'evidence-54195',\n",
       "   'evidence-630043',\n",
       "   'evidence-1134338',\n",
       "   'evidence-850795',\n",
       "   'evidence-641880',\n",
       "   'evidence-272205',\n",
       "   'evidence-698828',\n",
       "   'evidence-950735',\n",
       "   'evidence-148312'],\n",
       "  'claim_text': 'The heatwave we now have in Europe is not something that was expected with just 1C of warming',\n",
       "  'filtered_evidences': ['evidence-1089063',\n",
       "   'evidence-1134338',\n",
       "   'evidence-54195',\n",
       "   'evidence-630043',\n",
       "   'evidence-850795',\n",
       "   'evidence-641880']},\n",
       " 'claim-757': {'initial_evidences': ['evidence-1022892',\n",
       "   'evidence-1112009',\n",
       "   'evidence-629544',\n",
       "   'evidence-793443',\n",
       "   'evidence-732553',\n",
       "   'evidence-334443',\n",
       "   'evidence-727818',\n",
       "   'evidence-722119',\n",
       "   'evidence-25617',\n",
       "   'evidence-412389'],\n",
       "  'claim_text': 'The grasslands, crops, forests and territorial waters of Australia absorb more carbon dioxide than Australia emits.',\n",
       "  'filtered_evidences': ['evidence-1022892',\n",
       "   'evidence-1112009',\n",
       "   'evidence-629544',\n",
       "   'evidence-793443',\n",
       "   'evidence-732553',\n",
       "   'evidence-334443']},\n",
       " 'claim-1407': {'initial_evidences': ['evidence-803272',\n",
       "   'evidence-303371',\n",
       "   'evidence-194948',\n",
       "   'evidence-555732',\n",
       "   'evidence-1110603',\n",
       "   'evidence-935858',\n",
       "   'evidence-725884',\n",
       "   'evidence-533866',\n",
       "   'evidence-864432',\n",
       "   'evidence-491440'],\n",
       "  'claim_text': '“In their award winning book, ‘Taken By Storm’ (2007), Canadian researchers Christopher Essex and Ross McKitrick explain: ‘Temperature is not an amount of something [like height or weight].',\n",
       "  'filtered_evidences': ['evidence-803272',\n",
       "   'evidence-303371',\n",
       "   'evidence-194948',\n",
       "   'evidence-555732',\n",
       "   'evidence-1110603',\n",
       "   'evidence-935858']},\n",
       " 'claim-3070': {'initial_evidences': ['evidence-307837',\n",
       "   'evidence-466134',\n",
       "   'evidence-799481',\n",
       "   'evidence-103419',\n",
       "   'evidence-731730',\n",
       "   'evidence-45255',\n",
       "   'evidence-561831',\n",
       "   'evidence-614948',\n",
       "   'evidence-1118111',\n",
       "   'evidence-207544'],\n",
       "  'claim_text': 'So this is a government which is proposing to put at risk our manufacturing industry, to penalise struggling families, to make a tough situation worse for millions of households right around Australia.',\n",
       "  'filtered_evidences': ['evidence-207544',\n",
       "   'evidence-307837',\n",
       "   'evidence-466134',\n",
       "   'evidence-799481',\n",
       "   'evidence-103419',\n",
       "   'evidence-731730']},\n",
       " 'claim-1745': {'initial_evidences': ['evidence-1174708',\n",
       "   'evidence-45045',\n",
       "   'evidence-184934',\n",
       "   'evidence-866445',\n",
       "   'evidence-924804',\n",
       "   'evidence-598168',\n",
       "   'evidence-21832',\n",
       "   'evidence-968082',\n",
       "   'evidence-986606',\n",
       "   'evidence-183574'],\n",
       "  'claim_text': 'The IPCC simply updated their temperature history graphs to show the best data available at the time.',\n",
       "  'filtered_evidences': ['evidence-184934',\n",
       "   'evidence-968082',\n",
       "   'evidence-1174708',\n",
       "   'evidence-598168',\n",
       "   'evidence-21832',\n",
       "   'evidence-45045']},\n",
       " 'claim-1515': {'initial_evidences': ['evidence-227760',\n",
       "   'evidence-854482',\n",
       "   'evidence-906103',\n",
       "   'evidence-309393',\n",
       "   'evidence-1073363',\n",
       "   'evidence-1047714',\n",
       "   'evidence-869356',\n",
       "   'evidence-268048',\n",
       "   'evidence-898202',\n",
       "   'evidence-820847'],\n",
       "  'claim_text': 'no one really knows if last year 2016 was a global temperature record.',\n",
       "  'filtered_evidences': ['evidence-268048',\n",
       "   'evidence-820847',\n",
       "   'evidence-227760',\n",
       "   'evidence-854482',\n",
       "   'evidence-906103',\n",
       "   'evidence-309393']},\n",
       " 'claim-1519': {'initial_evidences': ['evidence-889659',\n",
       "   'evidence-546902',\n",
       "   'evidence-1000195',\n",
       "   'evidence-778342',\n",
       "   'evidence-1056901',\n",
       "   'evidence-277612',\n",
       "   'evidence-155544',\n",
       "   'evidence-452150',\n",
       "   'evidence-1055116',\n",
       "   'evidence-154608'],\n",
       "  'claim_text': 'The Earth’s climate is changing in response to increasing concentrations of greenhouse gases (GHGs) and particulate matter in the atmosphere, largely as the result of human activities.',\n",
       "  'filtered_evidences': ['evidence-889659',\n",
       "   'evidence-1000195',\n",
       "   'evidence-1056901',\n",
       "   'evidence-452150',\n",
       "   'evidence-546902',\n",
       "   'evidence-778342']},\n",
       " 'claim-3069': {'initial_evidences': ['evidence-1141005',\n",
       "   'evidence-402459',\n",
       "   'evidence-690966',\n",
       "   'evidence-154022',\n",
       "   'evidence-604963',\n",
       "   'evidence-127856',\n",
       "   'evidence-775657',\n",
       "   'evidence-602070',\n",
       "   'evidence-890636',\n",
       "   'evidence-955074'],\n",
       "  'claim_text': 'Continued greenhouse gas emissions at or above current rates would cause further warming and induce many changes in the global climate system during the 21st century that would very likely be larger than those observed during the 20th century.',\n",
       "  'filtered_evidences': ['evidence-1141005',\n",
       "   'evidence-402459',\n",
       "   'evidence-690966',\n",
       "   'evidence-154022',\n",
       "   'evidence-604963',\n",
       "   'evidence-127856']},\n",
       " 'claim-677': {'initial_evidences': ['evidence-164405',\n",
       "   'evidence-659029',\n",
       "   'evidence-1075943',\n",
       "   'evidence-19249',\n",
       "   'evidence-645135',\n",
       "   'evidence-870376',\n",
       "   'evidence-579382',\n",
       "   'evidence-183815',\n",
       "   'evidence-355576',\n",
       "   'evidence-916492'],\n",
       "  'claim_text': '“Which is to say that these beans will be eaten by cows, and the cows will convert the beans to meat, and the humans will eat the meat.',\n",
       "  'filtered_evidences': ['evidence-19249',\n",
       "   'evidence-645135',\n",
       "   'evidence-579382',\n",
       "   'evidence-355576',\n",
       "   'evidence-164405',\n",
       "   'evidence-659029']},\n",
       " 'claim-765': {'initial_evidences': ['evidence-707283',\n",
       "   'evidence-300787',\n",
       "   'evidence-216253',\n",
       "   'evidence-1042926',\n",
       "   'evidence-456178',\n",
       "   'evidence-805236',\n",
       "   'evidence-407096',\n",
       "   'evidence-496267',\n",
       "   'evidence-164219',\n",
       "   'evidence-1028507'],\n",
       "  'claim_text': 'The broader term covers changes beyond warmer temperatures, such as shifting rainfall patterns.”',\n",
       "  'filtered_evidences': ['evidence-1042926',\n",
       "   'evidence-456178',\n",
       "   'evidence-164219',\n",
       "   'evidence-707283',\n",
       "   'evidence-407096',\n",
       "   'evidence-1028507']},\n",
       " 'claim-2275': {'initial_evidences': ['evidence-833090',\n",
       "   'evidence-185162',\n",
       "   'evidence-1195192',\n",
       "   'evidence-85031',\n",
       "   'evidence-343061',\n",
       "   'evidence-1017680',\n",
       "   'evidence-457921',\n",
       "   'evidence-660203',\n",
       "   'evidence-851410',\n",
       "   'evidence-262738'],\n",
       "  'claim_text': '[…] Constant 24-7  media coverage of every significant storm worldwide just makes it seem  that way.”',\n",
       "  'filtered_evidences': ['evidence-185162',\n",
       "   'evidence-457921',\n",
       "   'evidence-660203',\n",
       "   'evidence-833090',\n",
       "   'evidence-1195192',\n",
       "   'evidence-85031']},\n",
       " 'claim-1113': {'initial_evidences': ['evidence-459315',\n",
       "   'evidence-46734',\n",
       "   'evidence-101493',\n",
       "   'evidence-298563',\n",
       "   'evidence-1109126',\n",
       "   'evidence-1172877',\n",
       "   'evidence-921243',\n",
       "   'evidence-427299',\n",
       "   'evidence-751777',\n",
       "   'evidence-706388'],\n",
       "  'claim_text': 'This means the jet stream meanders more, with big loops bringing warm air to the frozen north and cold air into warmer southern climes.”',\n",
       "  'filtered_evidences': ['evidence-459315',\n",
       "   'evidence-46734',\n",
       "   'evidence-1172877',\n",
       "   'evidence-921243',\n",
       "   'evidence-427299',\n",
       "   'evidence-1109126']},\n",
       " 'claim-2611': {'initial_evidences': ['evidence-356854',\n",
       "   'evidence-938381',\n",
       "   'evidence-436921',\n",
       "   'evidence-1190705',\n",
       "   'evidence-627472',\n",
       "   'evidence-450619',\n",
       "   'evidence-640999',\n",
       "   'evidence-620559',\n",
       "   'evidence-694034',\n",
       "   'evidence-228921'],\n",
       "  'claim_text': 'The final amount of extra CO2 that remains in the atmosphere stays there on a time scale of centuries.',\n",
       "  'filtered_evidences': ['evidence-356854',\n",
       "   'evidence-620559',\n",
       "   'evidence-694034',\n",
       "   'evidence-938381',\n",
       "   'evidence-436921',\n",
       "   'evidence-1190705']},\n",
       " 'claim-2060': {'initial_evidences': ['evidence-617457',\n",
       "   'evidence-269560',\n",
       "   'evidence-901129',\n",
       "   'evidence-226720',\n",
       "   'evidence-839911',\n",
       "   'evidence-900154',\n",
       "   'evidence-485813',\n",
       "   'evidence-671872',\n",
       "   'evidence-779605',\n",
       "   'evidence-1009090'],\n",
       "  'claim_text': 'Global warming is causing more hurricanes and stronger hurricanes.',\n",
       "  'filtered_evidences': ['evidence-617457',\n",
       "   'evidence-269560',\n",
       "   'evidence-901129',\n",
       "   'evidence-226720',\n",
       "   'evidence-839911',\n",
       "   'evidence-900154']},\n",
       " 'claim-2326': {'initial_evidences': ['evidence-956029',\n",
       "   'evidence-933469',\n",
       "   'evidence-1017927',\n",
       "   'evidence-738340',\n",
       "   'evidence-708180',\n",
       "   'evidence-29644',\n",
       "   'evidence-291159',\n",
       "   'evidence-541916',\n",
       "   'evidence-57774',\n",
       "   'evidence-776091'],\n",
       "  'claim_text': '\"In 2007, the Northern Hemisphere reached a record low in ice coverage and the Northwest Passage was opened.',\n",
       "  'filtered_evidences': ['evidence-956029',\n",
       "   'evidence-933469',\n",
       "   'evidence-1017927',\n",
       "   'evidence-738340',\n",
       "   'evidence-29644',\n",
       "   'evidence-291159']},\n",
       " 'claim-1087': {'initial_evidences': ['evidence-357196',\n",
       "   'evidence-1081090',\n",
       "   'evidence-814323',\n",
       "   'evidence-453183',\n",
       "   'evidence-251388',\n",
       "   'evidence-869356',\n",
       "   'evidence-729613',\n",
       "   'evidence-319975',\n",
       "   'evidence-1071369',\n",
       "   'evidence-1155614'],\n",
       "  'claim_text': 'The particular signature of warming in 2016 was also revealing in another way, Overpeck said, noting that the stratosphere… saw record cold temperatures last year',\n",
       "  'filtered_evidences': ['evidence-319975',\n",
       "   'evidence-729613',\n",
       "   'evidence-453183',\n",
       "   'evidence-869356',\n",
       "   'evidence-357196',\n",
       "   'evidence-1081090']},\n",
       " 'claim-2867': {'initial_evidences': ['evidence-769659',\n",
       "   'evidence-1119610',\n",
       "   'evidence-702483',\n",
       "   'evidence-972760',\n",
       "   'evidence-1181005',\n",
       "   'evidence-392',\n",
       "   'evidence-287340',\n",
       "   'evidence-847727',\n",
       "   'evidence-768480',\n",
       "   'evidence-998165'],\n",
       "  'claim_text': \"Skeptics who oppose scientific findings that threaten their world view are far closer to Galileo's belief-based critics in the Catholic Church.\",\n",
       "  'filtered_evidences': ['evidence-1119610',\n",
       "   'evidence-392',\n",
       "   'evidence-702483',\n",
       "   'evidence-972760',\n",
       "   'evidence-768480',\n",
       "   'evidence-769659']},\n",
       " 'claim-2300': {'initial_evidences': ['evidence-479438',\n",
       "   'evidence-699917',\n",
       "   'evidence-237614',\n",
       "   'evidence-330124',\n",
       "   'evidence-21850',\n",
       "   'evidence-1026533',\n",
       "   'evidence-1069338',\n",
       "   'evidence-150367',\n",
       "   'evidence-393887',\n",
       "   'evidence-1036862'],\n",
       "  'claim_text': '\"Austria is today seeing its earliest snowfall in history with 30 to 40 centimetres already predicted in the mountains.',\n",
       "  'filtered_evidences': ['evidence-330124',\n",
       "   'evidence-150367',\n",
       "   'evidence-393887',\n",
       "   'evidence-479438',\n",
       "   'evidence-699917',\n",
       "   'evidence-237614']},\n",
       " 'claim-2250': {'initial_evidences': ['evidence-677693',\n",
       "   'evidence-1158271',\n",
       "   'evidence-957157',\n",
       "   'evidence-972760',\n",
       "   'evidence-153438',\n",
       "   'evidence-687454',\n",
       "   'evidence-702483',\n",
       "   'evidence-287340',\n",
       "   'evidence-1064973',\n",
       "   'evidence-81698'],\n",
       "  'claim_text': \"Some global warming 'skeptics' argue that the Earth's climate sensitivity is so low that a doubling of atmospheric CO2 will result in a surface temperature change on the order of 1°C or less, and that therefore global warming is nothing to worry about.\",\n",
       "  'filtered_evidences': ['evidence-702483',\n",
       "   'evidence-677693',\n",
       "   'evidence-1158271',\n",
       "   'evidence-957157',\n",
       "   'evidence-972760',\n",
       "   'evidence-153438']},\n",
       " 'claim-2429': {'initial_evidences': ['evidence-1095891',\n",
       "   'evidence-435016',\n",
       "   'evidence-1051389',\n",
       "   'evidence-640572',\n",
       "   'evidence-482462',\n",
       "   'evidence-604963',\n",
       "   'evidence-481685',\n",
       "   'evidence-980650',\n",
       "   'evidence-1090354',\n",
       "   'evidence-496338'],\n",
       "  'claim_text': 'With 32 years of  rapidly increasing global temperatures and only a minor increase in  global CO2 emissions, followed by 33 years of slowly cooling global  temperatures with rapid increases in global CO2 emissions, it was  deceitful for the IPCC to make any claim that CO2 emissions were  primarily responsible for observed 20th century global warming.\"',\n",
       "  'filtered_evidences': ['evidence-1095891',\n",
       "   'evidence-435016',\n",
       "   'evidence-1051389',\n",
       "   'evidence-640572',\n",
       "   'evidence-482462',\n",
       "   'evidence-604963']},\n",
       " 'claim-3051': {'initial_evidences': ['evidence-837622',\n",
       "   'evidence-550001',\n",
       "   'evidence-261572',\n",
       "   'evidence-947870',\n",
       "   'evidence-29703',\n",
       "   'evidence-635395',\n",
       "   'evidence-616036',\n",
       "   'evidence-672310',\n",
       "   'evidence-923999',\n",
       "   'evidence-1020412'],\n",
       "  'claim_text': 'Once natural influences, in particular the impact of El Niño and La Niña, are removed from the recent termperature record, there is no evidence of a significant change in the human contribution to climate change.',\n",
       "  'filtered_evidences': ['evidence-837622',\n",
       "   'evidence-550001',\n",
       "   'evidence-261572',\n",
       "   'evidence-947870',\n",
       "   'evidence-29703',\n",
       "   'evidence-635395']},\n",
       " 'claim-1549': {'initial_evidences': ['evidence-1070085',\n",
       "   'evidence-150984',\n",
       "   'evidence-19095',\n",
       "   'evidence-833783',\n",
       "   'evidence-494187',\n",
       "   'evidence-781822',\n",
       "   'evidence-274279',\n",
       "   'evidence-1038500',\n",
       "   'evidence-787095',\n",
       "   'evidence-924816'],\n",
       "  'claim_text': \"There's no empirical evidence for climate change.\",\n",
       "  'filtered_evidences': ['evidence-1070085',\n",
       "   'evidence-150984',\n",
       "   'evidence-19095',\n",
       "   'evidence-833783',\n",
       "   'evidence-494187',\n",
       "   'evidence-781822']},\n",
       " 'claim-261': {'initial_evidences': ['evidence-712740',\n",
       "   'evidence-972029',\n",
       "   'evidence-820057',\n",
       "   'evidence-33543',\n",
       "   'evidence-1204932',\n",
       "   'evidence-219259',\n",
       "   'evidence-610739',\n",
       "   'evidence-974202',\n",
       "   'evidence-332770',\n",
       "   'evidence-271341'],\n",
       "  'claim_text': 'in 1995 one scientist at the IPCC – Jonathan Overpeck – wrote an email to a colleague claiming ‘we have to get rid of the Medieval Warm Period.’',\n",
       "  'filtered_evidences': ['evidence-712740',\n",
       "   'evidence-972029',\n",
       "   'evidence-820057',\n",
       "   'evidence-33543',\n",
       "   'evidence-1204932',\n",
       "   'evidence-974202']},\n",
       " 'claim-2230': {'initial_evidences': ['evidence-728645',\n",
       "   'evidence-303036',\n",
       "   'evidence-825580',\n",
       "   'evidence-1134336',\n",
       "   'evidence-116639',\n",
       "   'evidence-68501',\n",
       "   'evidence-242123',\n",
       "   'evidence-556369',\n",
       "   'evidence-1105951',\n",
       "   'evidence-976435'],\n",
       "  'claim_text': '[Ice] is expanding in much of Antarctica, contrary to the widespread public belief that global warming is melting the continental ice cap.',\n",
       "  'filtered_evidences': ['evidence-1134336',\n",
       "   'evidence-728645',\n",
       "   'evidence-303036',\n",
       "   'evidence-825580',\n",
       "   'evidence-116639',\n",
       "   'evidence-68501']},\n",
       " 'claim-2579': {'initial_evidences': ['evidence-356854',\n",
       "   'evidence-204526',\n",
       "   'evidence-1190705',\n",
       "   'evidence-549330',\n",
       "   'evidence-1131681',\n",
       "   'evidence-1177233',\n",
       "   'evidence-208053',\n",
       "   'evidence-816190',\n",
       "   'evidence-252580',\n",
       "   'evidence-751194'],\n",
       "  'claim_text': 'Over the past 250 years, humans have added just one part of CO2 in 10,000 to the atmosphere.',\n",
       "  'filtered_evidences': ['evidence-356854',\n",
       "   'evidence-1190705',\n",
       "   'evidence-1131681',\n",
       "   'evidence-252580',\n",
       "   'evidence-204526',\n",
       "   'evidence-549330']},\n",
       " 'claim-1416': {'initial_evidences': ['evidence-653766',\n",
       "   'evidence-1131599',\n",
       "   'evidence-94386',\n",
       "   'evidence-241441',\n",
       "   'evidence-370996',\n",
       "   'evidence-727828',\n",
       "   'evidence-422582',\n",
       "   'evidence-1067409',\n",
       "   'evidence-342135',\n",
       "   'evidence-357814'],\n",
       "  'claim_text': 'In recent decades this warming has been accompanied by a constant rise in the sea level and, it would appear, by an increase of extreme weather events, even if a scientifically determinable cause cannot be assigned to each particular phenomenon.',\n",
       "  'filtered_evidences': ['evidence-370996',\n",
       "   'evidence-653766',\n",
       "   'evidence-1131599',\n",
       "   'evidence-94386',\n",
       "   'evidence-241441',\n",
       "   'evidence-727828']},\n",
       " 'claim-2497': {'initial_evidences': ['evidence-136867',\n",
       "   'evidence-242142',\n",
       "   'evidence-246431',\n",
       "   'evidence-63327',\n",
       "   'evidence-1013769',\n",
       "   'evidence-10189',\n",
       "   'evidence-193559',\n",
       "   'evidence-918540',\n",
       "   'evidence-924744',\n",
       "   'evidence-33849'],\n",
       "  'claim_text': \"Without the forests' humidity, previously moisture-laden winds blew dry.\",\n",
       "  'filtered_evidences': ['evidence-193559',\n",
       "   'evidence-918540',\n",
       "   'evidence-136867',\n",
       "   'evidence-242142',\n",
       "   'evidence-246431',\n",
       "   'evidence-63327']},\n",
       " 'claim-811': {'initial_evidences': ['evidence-1009090',\n",
       "   'evidence-1172313',\n",
       "   'evidence-911934',\n",
       "   'evidence-74523',\n",
       "   'evidence-953058',\n",
       "   'evidence-1208019',\n",
       "   'evidence-1125482',\n",
       "   'evidence-42742',\n",
       "   'evidence-311467',\n",
       "   'evidence-38682'],\n",
       "  'claim_text': 'But [climate scientists] say that aspects of the case of Hurricane Harvey—and the recent history of tropical cyclones worldwide—suggest global warming is making a bad situation worse.',\n",
       "  'filtered_evidences': ['evidence-911934',\n",
       "   'evidence-1208019',\n",
       "   'evidence-1009090',\n",
       "   'evidence-1172313',\n",
       "   'evidence-74523',\n",
       "   'evidence-953058']},\n",
       " 'claim-1896': {'initial_evidences': ['evidence-177293',\n",
       "   'evidence-198868',\n",
       "   'evidence-482920',\n",
       "   'evidence-182507',\n",
       "   'evidence-130992',\n",
       "   'evidence-301127',\n",
       "   'evidence-632766',\n",
       "   'evidence-653901',\n",
       "   'evidence-19365',\n",
       "   'evidence-711638'],\n",
       "  'claim_text': 'Greg Hunt CSIRO research shows carbon emissions can be reduced by 20 per cent over 40 years using nature, soils and trees.',\n",
       "  'filtered_evidences': ['evidence-711638',\n",
       "   'evidence-177293',\n",
       "   'evidence-198868',\n",
       "   'evidence-482920',\n",
       "   'evidence-182507',\n",
       "   'evidence-130992']},\n",
       " 'claim-2819': {'initial_evidences': ['evidence-363528',\n",
       "   'evidence-834766',\n",
       "   'evidence-29437',\n",
       "   'evidence-141317',\n",
       "   'evidence-221216',\n",
       "   'evidence-663310',\n",
       "   'evidence-595432',\n",
       "   'evidence-585911',\n",
       "   'evidence-679119',\n",
       "   'evidence-167093'],\n",
       "  'claim_text': 'More importantly, the OISM list only contains 39 scientists who specialise in climate science.',\n",
       "  'filtered_evidences': ['evidence-363528',\n",
       "   'evidence-834766',\n",
       "   'evidence-29437',\n",
       "   'evidence-141317',\n",
       "   'evidence-221216',\n",
       "   'evidence-663310']},\n",
       " 'claim-2643': {'initial_evidences': ['evidence-224185',\n",
       "   'evidence-464939',\n",
       "   'evidence-736392',\n",
       "   'evidence-223996',\n",
       "   'evidence-267910',\n",
       "   'evidence-713207',\n",
       "   'evidence-547815',\n",
       "   'evidence-543303',\n",
       "   'evidence-535186',\n",
       "   'evidence-715970'],\n",
       "  'claim_text': 'The \"decline\" refers to a decline in northern tree-rings, not global temperature, and is openly discussed in papers and the IPCC reports.',\n",
       "  'filtered_evidences': ['evidence-224185',\n",
       "   'evidence-464939',\n",
       "   'evidence-736392',\n",
       "   'evidence-223996',\n",
       "   'evidence-267910',\n",
       "   'evidence-713207']},\n",
       " 'claim-1775': {'initial_evidences': ['evidence-1018575',\n",
       "   'evidence-515817',\n",
       "   'evidence-1043526',\n",
       "   'evidence-1018829',\n",
       "   'evidence-609036',\n",
       "   'evidence-60148',\n",
       "   'evidence-1106291',\n",
       "   'evidence-989240',\n",
       "   'evidence-500249',\n",
       "   'evidence-688692'],\n",
       "  'claim_text': 'Venus very likely underwent a runaway or ‘moist’ greenhouse phase earlier in its history, and today is kept hot by a dense CO2 atmosphere.',\n",
       "  'filtered_evidences': ['evidence-515817',\n",
       "   'evidence-1043526',\n",
       "   'evidence-1018829',\n",
       "   'evidence-989240',\n",
       "   'evidence-500249',\n",
       "   'evidence-1018575']},\n",
       " 'claim-316': {'initial_evidences': ['evidence-2524',\n",
       "   'evidence-630811',\n",
       "   'evidence-493366',\n",
       "   'evidence-567343',\n",
       "   'evidence-1126935',\n",
       "   'evidence-966714',\n",
       "   'evidence-1193533',\n",
       "   'evidence-697360',\n",
       "   'evidence-108159',\n",
       "   'evidence-115891'],\n",
       "  'claim_text': 'the models predicted seven times as much warming as has been observed',\n",
       "  'filtered_evidences': ['evidence-567343',\n",
       "   'evidence-1126935',\n",
       "   'evidence-966714',\n",
       "   'evidence-1193533',\n",
       "   'evidence-697360',\n",
       "   'evidence-2524']},\n",
       " 'claim-896': {'initial_evidences': ['evidence-1171424',\n",
       "   'evidence-1165733',\n",
       "   'evidence-248009',\n",
       "   'evidence-562068',\n",
       "   'evidence-555406',\n",
       "   'evidence-352932',\n",
       "   'evidence-211431',\n",
       "   'evidence-1089698',\n",
       "   'evidence-709544',\n",
       "   'evidence-818689'],\n",
       "  'claim_text': 'According to the WHO, exposure to particulate matter increases the risk of acute lower respiratory infection, chronic obstructive pulmonary disease, heart disease, stroke and lung cancer.',\n",
       "  'filtered_evidences': ['evidence-1171424',\n",
       "   'evidence-1165733',\n",
       "   'evidence-248009',\n",
       "   'evidence-562068',\n",
       "   'evidence-555406',\n",
       "   'evidence-211431']},\n",
       " 'claim-331': {'initial_evidences': ['evidence-436729',\n",
       "   'evidence-512115',\n",
       "   'evidence-1119827',\n",
       "   'evidence-586240',\n",
       "   'evidence-507569',\n",
       "   'evidence-1127182',\n",
       "   'evidence-966135',\n",
       "   'evidence-278346',\n",
       "   'evidence-375774',\n",
       "   'evidence-814395'],\n",
       "  'claim_text': 'But each serial adjustment has tended to make the early years colder, which increases the warming trend.',\n",
       "  'filtered_evidences': ['evidence-436729',\n",
       "   'evidence-512115',\n",
       "   'evidence-1119827',\n",
       "   'evidence-507569',\n",
       "   'evidence-586240',\n",
       "   'evidence-1127182']},\n",
       " 'claim-2574': {'initial_evidences': ['evidence-580567',\n",
       "   'evidence-369389',\n",
       "   'evidence-386380',\n",
       "   'evidence-217138',\n",
       "   'evidence-205895',\n",
       "   'evidence-888119',\n",
       "   'evidence-513559',\n",
       "   'evidence-705942',\n",
       "   'evidence-406279',\n",
       "   'evidence-1050619'],\n",
       "  'claim_text': 'On a world scale coral reefs are in decline.',\n",
       "  'filtered_evidences': ['evidence-386380',\n",
       "   'evidence-217138',\n",
       "   'evidence-888119',\n",
       "   'evidence-513559',\n",
       "   'evidence-705942',\n",
       "   'evidence-406279']},\n",
       " 'claim-342': {'initial_evidences': ['evidence-1077394',\n",
       "   'evidence-157768',\n",
       "   'evidence-622666',\n",
       "   'evidence-631826',\n",
       "   'evidence-713091',\n",
       "   'evidence-788312',\n",
       "   'evidence-100145',\n",
       "   'evidence-833995',\n",
       "   'evidence-349351',\n",
       "   'evidence-1133555'],\n",
       "  'claim_text': 'While members of the media may nod along to such claims [about changes in weather extremes], the evidence paints a different story',\n",
       "  'filtered_evidences': ['evidence-631826',\n",
       "   'evidence-713091',\n",
       "   'evidence-1077394',\n",
       "   'evidence-157768',\n",
       "   'evidence-622666',\n",
       "   'evidence-788312']},\n",
       " 'claim-2034': {'initial_evidences': ['evidence-677502',\n",
       "   'evidence-354829',\n",
       "   'evidence-765717',\n",
       "   'evidence-1060242',\n",
       "   'evidence-659351',\n",
       "   'evidence-1040995',\n",
       "   'evidence-151471',\n",
       "   'evidence-255738',\n",
       "   'evidence-826314',\n",
       "   'evidence-1064731'],\n",
       "  'claim_text': 'Latest IPCC Reports (AR5) have shown global mean temperature forecasts from the 2005 IPCC report exceeded actual readings.',\n",
       "  'filtered_evidences': ['evidence-765717',\n",
       "   'evidence-677502',\n",
       "   'evidence-354829',\n",
       "   'evidence-1060242',\n",
       "   'evidence-659351',\n",
       "   'evidence-1040995']},\n",
       " 'claim-578': {'initial_evidences': ['evidence-949840',\n",
       "   'evidence-432776',\n",
       "   'evidence-974905',\n",
       "   'evidence-308641',\n",
       "   'evidence-696783',\n",
       "   'evidence-609276',\n",
       "   'evidence-683829',\n",
       "   'evidence-465669',\n",
       "   'evidence-160104',\n",
       "   'evidence-938010'],\n",
       "  'claim_text': '‘If we do nothing to reduce our greenhouse gas emissions, the kind of extreme heat we saw this past summer will be the norm when my young son is a grown man.’',\n",
       "  'filtered_evidences': ['evidence-432776',\n",
       "   'evidence-974905',\n",
       "   'evidence-938010',\n",
       "   'evidence-949840',\n",
       "   'evidence-308641',\n",
       "   'evidence-696783']},\n",
       " 'claim-976': {'initial_evidences': ['evidence-128835',\n",
       "   'evidence-620971',\n",
       "   'evidence-790775',\n",
       "   'evidence-4137',\n",
       "   'evidence-974178',\n",
       "   'evidence-328436',\n",
       "   'evidence-549806',\n",
       "   'evidence-65804',\n",
       "   'evidence-1014898',\n",
       "   'evidence-59883'],\n",
       "  'claim_text': 'The gas builds up in the soil, forming mounds called ‘pingoes.’',\n",
       "  'filtered_evidences': ['evidence-790775',\n",
       "   'evidence-1014898',\n",
       "   'evidence-59883',\n",
       "   'evidence-128835',\n",
       "   'evidence-974178',\n",
       "   'evidence-620971']},\n",
       " 'claim-1097': {'initial_evidences': ['evidence-198855',\n",
       "   'evidence-318016',\n",
       "   'evidence-550445',\n",
       "   'evidence-368922',\n",
       "   'evidence-911871',\n",
       "   'evidence-858968',\n",
       "   'evidence-773994',\n",
       "   'evidence-957349',\n",
       "   'evidence-1192268',\n",
       "   'evidence-887085'],\n",
       "  'claim_text': '“[…]The impact on calcification, metabolism, growth, fertility and survival of calcifying marine species when pH is lowered up to 0.3 units […] is beneficial, not damaging.',\n",
       "  'filtered_evidences': ['evidence-318016',\n",
       "   'evidence-198855',\n",
       "   'evidence-550445',\n",
       "   'evidence-368922',\n",
       "   'evidence-911871',\n",
       "   'evidence-858968']},\n",
       " 'claim-609': {'initial_evidences': ['evidence-699471',\n",
       "   'evidence-169562',\n",
       "   'evidence-482570',\n",
       "   'evidence-541916',\n",
       "   'evidence-434754',\n",
       "   'evidence-670169',\n",
       "   'evidence-37546',\n",
       "   'evidence-238355',\n",
       "   'evidence-376267',\n",
       "   'evidence-243995'],\n",
       "  'claim_text': 'That’s because as Antarctica’s mass shrinks, the ice sheet’s gravitational pull on the ocean relaxes somewhat, and the seas travel back across the globe to pile up far away — with U.S. coasts being one prime destination.”',\n",
       "  'filtered_evidences': ['evidence-670169',\n",
       "   'evidence-243995',\n",
       "   'evidence-699471',\n",
       "   'evidence-169562',\n",
       "   'evidence-482570',\n",
       "   'evidence-541916']},\n",
       " 'claim-173': {'initial_evidences': ['evidence-372542',\n",
       "   'evidence-676197',\n",
       "   'evidence-85488',\n",
       "   'evidence-291327',\n",
       "   'evidence-63765',\n",
       "   'evidence-1097248',\n",
       "   'evidence-697599',\n",
       "   'evidence-1118618',\n",
       "   'evidence-1197437',\n",
       "   'evidence-284133'],\n",
       "  'claim_text': 'If there were [carbon emissions], we could not see because most carbon is black.',\n",
       "  'filtered_evidences': ['evidence-1197437',\n",
       "   'evidence-372542',\n",
       "   'evidence-676197',\n",
       "   'evidence-85488',\n",
       "   'evidence-291327',\n",
       "   'evidence-63765']},\n",
       " 'claim-1222': {'initial_evidences': ['evidence-173281',\n",
       "   'evidence-1040612',\n",
       "   'evidence-1019600',\n",
       "   'evidence-235187',\n",
       "   'evidence-552239',\n",
       "   'evidence-1066768',\n",
       "   'evidence-7473',\n",
       "   'evidence-469718',\n",
       "   'evidence-188525',\n",
       "   'evidence-153174'],\n",
       "  'claim_text': 'The melting Greenland ice sheet is already a major contributor to rising sea level and if it was eventually lost entirely, the oceans would rise by six metres around the world, flooding many of the world’s largest cities.',\n",
       "  'filtered_evidences': ['evidence-173281',\n",
       "   'evidence-1040612',\n",
       "   'evidence-235187',\n",
       "   'evidence-552239',\n",
       "   'evidence-7473',\n",
       "   'evidence-469718']},\n",
       " 'claim-2441': {'initial_evidences': ['evidence-420843',\n",
       "   'evidence-233437',\n",
       "   'evidence-270365',\n",
       "   'evidence-1011543',\n",
       "   'evidence-775820',\n",
       "   'evidence-470865',\n",
       "   'evidence-1074778',\n",
       "   'evidence-73113',\n",
       "   'evidence-25877',\n",
       "   'evidence-616039'],\n",
       "  'claim_text': 'Furthermore, it is physically incorrect to state that the planet is simply \"recovering\" from the Little Ice Age.',\n",
       "  'filtered_evidences': ['evidence-233437',\n",
       "   'evidence-270365',\n",
       "   'evidence-1011543',\n",
       "   'evidence-775820',\n",
       "   'evidence-1074778',\n",
       "   'evidence-616039']},\n",
       " 'claim-756': {'initial_evidences': ['evidence-569992',\n",
       "   'evidence-695660',\n",
       "   'evidence-229230',\n",
       "   'evidence-1186458',\n",
       "   'evidence-213397',\n",
       "   'evidence-1206449',\n",
       "   'evidence-144157',\n",
       "   'evidence-1164434',\n",
       "   'evidence-498557',\n",
       "   'evidence-931390'],\n",
       "  'claim_text': 'Australia’s signed a suicide note [with the Paris Accord] yet didn’t seem to notice that China, India, Indonesia and the US did not commit to reducing their large carbon dioxide emissions.',\n",
       "  'filtered_evidences': ['evidence-498557',\n",
       "   'evidence-695660',\n",
       "   'evidence-1186458',\n",
       "   'evidence-1206449',\n",
       "   'evidence-144157',\n",
       "   'evidence-1164434']},\n",
       " 'claim-2577': {'initial_evidences': ['evidence-1138505',\n",
       "   'evidence-556510',\n",
       "   'evidence-1192178',\n",
       "   'evidence-930563',\n",
       "   'evidence-936135',\n",
       "   'evidence-1163684',\n",
       "   'evidence-314557',\n",
       "   'evidence-716355',\n",
       "   'evidence-394252',\n",
       "   'evidence-736037'],\n",
       "  'claim_text': '\"Three recent articles give us reason to question the alarmists’ claims  that coral reefs are in deep trouble due to the buildup of greenhouse  gases.\" (World Climate Report)',\n",
       "  'filtered_evidences': ['evidence-1192178',\n",
       "   'evidence-930563',\n",
       "   'evidence-936135',\n",
       "   'evidence-1163684',\n",
       "   'evidence-314557',\n",
       "   'evidence-716355']},\n",
       " 'claim-2890': {'initial_evidences': ['evidence-268662',\n",
       "   'evidence-12011',\n",
       "   'evidence-285150',\n",
       "   'evidence-602026',\n",
       "   'evidence-2930',\n",
       "   'evidence-76110',\n",
       "   'evidence-1020632',\n",
       "   'evidence-899797',\n",
       "   'evidence-101493',\n",
       "   'evidence-341070'],\n",
       "  'claim_text': 'Heat is continuing to build up in the subsurface ocean.',\n",
       "  'filtered_evidences': ['evidence-12011',\n",
       "   'evidence-76110',\n",
       "   'evidence-899797',\n",
       "   'evidence-341070',\n",
       "   'evidence-285150',\n",
       "   'evidence-268662']},\n",
       " 'claim-2478': {'initial_evidences': ['evidence-882545',\n",
       "   'evidence-903050',\n",
       "   'evidence-1165101',\n",
       "   'evidence-43786',\n",
       "   'evidence-1020271',\n",
       "   'evidence-841079',\n",
       "   'evidence-750997',\n",
       "   'evidence-545548',\n",
       "   'evidence-805409',\n",
       "   'evidence-129430'],\n",
       "  'claim_text': '(Kerr 2007) points out that the sunlight-reflecting haze that cools much of the planet seems to have thinned over the past decade or so.',\n",
       "  'filtered_evidences': ['evidence-805409',\n",
       "   'evidence-903050',\n",
       "   'evidence-882545',\n",
       "   'evidence-1165101',\n",
       "   'evidence-43786',\n",
       "   'evidence-1020271']},\n",
       " 'claim-2399': {'initial_evidences': ['evidence-96210',\n",
       "   'evidence-201841',\n",
       "   'evidence-997653',\n",
       "   'evidence-802674',\n",
       "   'evidence-1195870',\n",
       "   'evidence-67783',\n",
       "   'evidence-910341',\n",
       "   'evidence-117932',\n",
       "   'evidence-1022339',\n",
       "   'evidence-32026'],\n",
       "  'claim_text': 'While the greenhouse effect is a natural occurence, too much warming has severe negative impacts on agriculture, health and environment.',\n",
       "  'filtered_evidences': ['evidence-96210',\n",
       "   'evidence-201841',\n",
       "   'evidence-67783',\n",
       "   'evidence-997653',\n",
       "   'evidence-802674',\n",
       "   'evidence-1195870']},\n",
       " 'claim-3091': {'initial_evidences': ['evidence-520355',\n",
       "   'evidence-917344',\n",
       "   'evidence-773973',\n",
       "   'evidence-1201593',\n",
       "   'evidence-544987',\n",
       "   'evidence-1192755',\n",
       "   'evidence-695227',\n",
       "   'evidence-1012178',\n",
       "   'evidence-710680',\n",
       "   'evidence-860888'],\n",
       "  'claim_text': 'Global Warming history completely coincides with the history of artificial satellites and the use of microwave frequencies from outer space.',\n",
       "  'filtered_evidences': ['evidence-520355',\n",
       "   'evidence-917344',\n",
       "   'evidence-773973',\n",
       "   'evidence-1201593',\n",
       "   'evidence-544987',\n",
       "   'evidence-1192755']},\n",
       " 'claim-141': {'initial_evidences': ['evidence-619262',\n",
       "   'evidence-784155',\n",
       "   'evidence-51845',\n",
       "   'evidence-169641',\n",
       "   'evidence-561714',\n",
       "   'evidence-21415',\n",
       "   'evidence-955061',\n",
       "   'evidence-23968',\n",
       "   'evidence-94693',\n",
       "   'evidence-373303'],\n",
       "  'claim_text': 'Greenpeace didn’t save the whales, switching from whale oil to petroleum and palm oil did',\n",
       "  'filtered_evidences': ['evidence-784155',\n",
       "   'evidence-619262',\n",
       "   'evidence-51845',\n",
       "   'evidence-169641',\n",
       "   'evidence-561714',\n",
       "   'evidence-21415']},\n",
       " 'claim-1933': {'initial_evidences': ['evidence-423215',\n",
       "   'evidence-498111',\n",
       "   'evidence-574489',\n",
       "   'evidence-562327',\n",
       "   'evidence-478327',\n",
       "   'evidence-403610',\n",
       "   'evidence-897176',\n",
       "   'evidence-140485',\n",
       "   'evidence-866202',\n",
       "   'evidence-971592'],\n",
       "  'claim_text': 'Newt Gingrich \"teamed with Nancy Pelosi and Al Gore on global warming.\"',\n",
       "  'filtered_evidences': ['evidence-574489',\n",
       "   'evidence-423215',\n",
       "   'evidence-498111',\n",
       "   'evidence-562327',\n",
       "   'evidence-478327',\n",
       "   'evidence-403610']},\n",
       " 'claim-1689': {'initial_evidences': ['evidence-208863',\n",
       "   'evidence-1003105',\n",
       "   'evidence-269791',\n",
       "   'evidence-1069605',\n",
       "   'evidence-380642',\n",
       "   'evidence-2481',\n",
       "   'evidence-458761',\n",
       "   'evidence-1193181',\n",
       "   'evidence-1182056',\n",
       "   'evidence-486549'],\n",
       "  'claim_text': 'Evidence is building that net cloud feedback is likely positive and unlikely to be strongly negative.',\n",
       "  'filtered_evidences': ['evidence-208863',\n",
       "   'evidence-1069605',\n",
       "   'evidence-458761',\n",
       "   'evidence-2481',\n",
       "   'evidence-1003105',\n",
       "   'evidence-269791']},\n",
       " 'claim-443': {'initial_evidences': ['evidence-474687',\n",
       "   'evidence-1190705',\n",
       "   'evidence-211',\n",
       "   'evidence-1074401',\n",
       "   'evidence-889119',\n",
       "   'evidence-579161',\n",
       "   'evidence-290974',\n",
       "   'evidence-624703',\n",
       "   'evidence-1070630',\n",
       "   'evidence-450316'],\n",
       "  'claim_text': '“Today climate scientists are obsessed with the level of carbon dioxide in the atmosphere, a very very small part of the overall picture.',\n",
       "  'filtered_evidences': ['evidence-1190705',\n",
       "   'evidence-290974',\n",
       "   'evidence-450316',\n",
       "   'evidence-474687',\n",
       "   'evidence-211',\n",
       "   'evidence-1074401']},\n",
       " 'claim-2037': {'initial_evidences': ['evidence-1179095',\n",
       "   'evidence-171308',\n",
       "   'evidence-620739',\n",
       "   'evidence-617506',\n",
       "   'evidence-868516',\n",
       "   'evidence-584146',\n",
       "   'evidence-104756',\n",
       "   'evidence-54776',\n",
       "   'evidence-218771',\n",
       "   'evidence-976350'],\n",
       "  'claim_text': 'The rate of renewable energy installations in the EU in 2018 was less than half the maximum level achieved in 2010.',\n",
       "  'filtered_evidences': ['evidence-1179095',\n",
       "   'evidence-620739',\n",
       "   'evidence-171308',\n",
       "   'evidence-617506',\n",
       "   'evidence-868516',\n",
       "   'evidence-584146']},\n",
       " 'claim-1734': {'initial_evidences': ['evidence-755597',\n",
       "   'evidence-33576',\n",
       "   'evidence-918464',\n",
       "   'evidence-475273',\n",
       "   'evidence-900843',\n",
       "   'evidence-357599',\n",
       "   'evidence-1010285',\n",
       "   'evidence-689462',\n",
       "   'evidence-725565',\n",
       "   'evidence-551514'],\n",
       "  'claim_text': 'Jim Hansen had several possible scenarios; his mid-level scenario B was right.',\n",
       "  'filtered_evidences': ['evidence-33576',\n",
       "   'evidence-900843',\n",
       "   'evidence-551514',\n",
       "   'evidence-357599',\n",
       "   'evidence-725565',\n",
       "   'evidence-755597']},\n",
       " 'claim-2093': {'initial_evidences': ['evidence-743065',\n",
       "   'evidence-831545',\n",
       "   'evidence-845688',\n",
       "   'evidence-970491',\n",
       "   'evidence-470275',\n",
       "   'evidence-637628',\n",
       "   'evidence-689216',\n",
       "   'evidence-1154309',\n",
       "   'evidence-47578',\n",
       "   'evidence-721515'],\n",
       "  'claim_text': 'Through its impacts on the climate, CO2 presents a danger to public health and welfare, and thus qualifies as an air pollutant',\n",
       "  'filtered_evidences': ['evidence-831545',\n",
       "   'evidence-845688',\n",
       "   'evidence-743065',\n",
       "   'evidence-970491',\n",
       "   'evidence-470275',\n",
       "   'evidence-637628']},\n",
       " 'claim-1400': {'initial_evidences': ['evidence-905992',\n",
       "   'evidence-480631',\n",
       "   'evidence-381202',\n",
       "   'evidence-152669',\n",
       "   'evidence-247729',\n",
       "   'evidence-137904',\n",
       "   'evidence-208838',\n",
       "   'evidence-654636',\n",
       "   'evidence-913145',\n",
       "   'evidence-183043'],\n",
       "  'claim_text': 'The late 1970s marked the end of a 30-year cooling trend.',\n",
       "  'filtered_evidences': ['evidence-905992',\n",
       "   'evidence-480631',\n",
       "   'evidence-381202',\n",
       "   'evidence-152669',\n",
       "   'evidence-247729',\n",
       "   'evidence-137904']},\n",
       " 'claim-1638': {'initial_evidences': ['evidence-422785',\n",
       "   'evidence-664385',\n",
       "   'evidence-346035',\n",
       "   'evidence-880328',\n",
       "   'evidence-898202',\n",
       "   'evidence-1036065',\n",
       "   'evidence-255272',\n",
       "   'evidence-457778',\n",
       "   'evidence-203960',\n",
       "   'evidence-509038'],\n",
       "  'claim_text': 'Worry about global warming impacts in the next 100 years, not an ice age in over 10,000 years.',\n",
       "  'filtered_evidences': ['evidence-457778',\n",
       "   'evidence-1036065',\n",
       "   'evidence-422785',\n",
       "   'evidence-664385',\n",
       "   'evidence-346035',\n",
       "   'evidence-880328']},\n",
       " 'claim-3075': {'initial_evidences': ['evidence-266501',\n",
       "   'evidence-1088512',\n",
       "   'evidence-380552',\n",
       "   'evidence-391045',\n",
       "   'evidence-710885',\n",
       "   'evidence-296986',\n",
       "   'evidence-485894',\n",
       "   'evidence-675085',\n",
       "   'evidence-868554',\n",
       "   'evidence-971008'],\n",
       "  'claim_text': \"Multiple lines of evidence indicate Greenland's ice loss is accelerating and will contribute sea level rise in the order of metres over the next few centuries.\",\n",
       "  'filtered_evidences': ['evidence-266501',\n",
       "   'evidence-710885',\n",
       "   'evidence-1088512',\n",
       "   'evidence-380552',\n",
       "   'evidence-391045',\n",
       "   'evidence-296986']},\n",
       " 'claim-38': {'initial_evidences': ['evidence-913842',\n",
       "   'evidence-739706',\n",
       "   'evidence-170245',\n",
       "   'evidence-119579',\n",
       "   'evidence-538528',\n",
       "   'evidence-808139',\n",
       "   'evidence-738232',\n",
       "   'evidence-1158976',\n",
       "   'evidence-1099491',\n",
       "   'evidence-902356'],\n",
       "  'claim_text': 'Scientists studying Antarctica sea ice warn a rise in accumulation could spark the next ice age.',\n",
       "  'filtered_evidences': ['evidence-1099491',\n",
       "   'evidence-913842',\n",
       "   'evidence-119579',\n",
       "   'evidence-739706',\n",
       "   'evidence-170245',\n",
       "   'evidence-538528']},\n",
       " 'claim-1643': {'initial_evidences': ['evidence-736986',\n",
       "   'evidence-513277',\n",
       "   'evidence-294067',\n",
       "   'evidence-857774',\n",
       "   'evidence-299601',\n",
       "   'evidence-141702',\n",
       "   'evidence-544253',\n",
       "   'evidence-318042',\n",
       "   'evidence-845709',\n",
       "   'evidence-933120'],\n",
       "  'claim_text': \"Al Gore's book is quite accurate, and far more accurate than contrarian books.\",\n",
       "  'filtered_evidences': ['evidence-857774',\n",
       "   'evidence-294067',\n",
       "   'evidence-141702',\n",
       "   'evidence-736986',\n",
       "   'evidence-513277',\n",
       "   'evidence-299601']},\n",
       " 'claim-1259': {'initial_evidences': ['evidence-739365',\n",
       "   'evidence-888172',\n",
       "   'evidence-108475',\n",
       "   'evidence-69556',\n",
       "   'evidence-936510',\n",
       "   'evidence-778346',\n",
       "   'evidence-853029',\n",
       "   'evidence-948853',\n",
       "   'evidence-19886',\n",
       "   'evidence-1175595'],\n",
       "  'claim_text': 'While the north-east, midwest and upper great plains have experienced a 30% increase in heavy rainfall episodes – considered once-in-every-five year downpours – parts of the west, particularly California, have been parched by drought.',\n",
       "  'filtered_evidences': ['evidence-853029',\n",
       "   'evidence-888172',\n",
       "   'evidence-778346',\n",
       "   'evidence-948853',\n",
       "   'evidence-936510',\n",
       "   'evidence-739365']},\n",
       " 'claim-1605': {'initial_evidences': ['evidence-423767',\n",
       "   'evidence-134894',\n",
       "   'evidence-1063753',\n",
       "   'evidence-802615',\n",
       "   'evidence-128172',\n",
       "   'evidence-988277',\n",
       "   'evidence-287550',\n",
       "   'evidence-1178072',\n",
       "   'evidence-1158029',\n",
       "   'evidence-317504'],\n",
       "  'claim_text': 'Scientists retracted claim that sea levels are rising.',\n",
       "  'filtered_evidences': ['evidence-423767',\n",
       "   'evidence-134894',\n",
       "   'evidence-802615',\n",
       "   'evidence-1063753',\n",
       "   'evidence-128172',\n",
       "   'evidence-988277']},\n",
       " 'claim-1711': {'initial_evidences': ['evidence-27956',\n",
       "   'evidence-516386',\n",
       "   'evidence-40358',\n",
       "   'evidence-216216',\n",
       "   'evidence-674516',\n",
       "   'evidence-843063',\n",
       "   'evidence-508476',\n",
       "   'evidence-1127399',\n",
       "   'evidence-477716',\n",
       "   'evidence-284253'],\n",
       "  'claim_text': \"Global warming' and 'climate change' mean different things and have both been used for decades.\",\n",
       "  'filtered_evidences': ['evidence-40358',\n",
       "   'evidence-216216',\n",
       "   'evidence-843063',\n",
       "   'evidence-27956',\n",
       "   'evidence-516386',\n",
       "   'evidence-674516']},\n",
       " 'claim-2236': {'initial_evidences': ['evidence-652720',\n",
       "   'evidence-188059',\n",
       "   'evidence-736108',\n",
       "   'evidence-1001532',\n",
       "   'evidence-455330',\n",
       "   'evidence-10408',\n",
       "   'evidence-507103',\n",
       "   'evidence-972220',\n",
       "   'evidence-643739',\n",
       "   'evidence-891918'],\n",
       "  'claim_text': 'The majority of peer reviewed research at the time predicted warming due to increasing CO2.',\n",
       "  'filtered_evidences': ['evidence-652720',\n",
       "   'evidence-188059',\n",
       "   'evidence-736108',\n",
       "   'evidence-1001532',\n",
       "   'evidence-455330',\n",
       "   'evidence-10408']},\n",
       " 'claim-1040': {'initial_evidences': ['evidence-958044',\n",
       "   'evidence-434562',\n",
       "   'evidence-73192',\n",
       "   'evidence-1126072',\n",
       "   'evidence-821176',\n",
       "   'evidence-756991',\n",
       "   'evidence-1069689',\n",
       "   'evidence-727499',\n",
       "   'evidence-372470',\n",
       "   'evidence-817522'],\n",
       "  'claim_text': 'While evidence that the earth’s orbital variations impact radiation levels and thus global temperatures does not of course mean that man is not in some way impacting the climate, studies like these highlight that the role man plays on the planet is dwarfed by natural phenomena utterly out of our control.',\n",
       "  'filtered_evidences': ['evidence-958044',\n",
       "   'evidence-434562',\n",
       "   'evidence-73192',\n",
       "   'evidence-1126072',\n",
       "   'evidence-821176',\n",
       "   'evidence-756991']},\n",
       " 'claim-392': {'initial_evidences': ['evidence-688142',\n",
       "   'evidence-829516',\n",
       "   'evidence-558165',\n",
       "   'evidence-694569',\n",
       "   'evidence-636262',\n",
       "   'evidence-1038082',\n",
       "   'evidence-653075',\n",
       "   'evidence-922788',\n",
       "   'evidence-576760',\n",
       "   'evidence-303621'],\n",
       "  'claim_text': 'a study that totally debunks the whole concept of man-made Global Warming',\n",
       "  'filtered_evidences': ['evidence-653075',\n",
       "   'evidence-303621',\n",
       "   'evidence-688142',\n",
       "   'evidence-829516',\n",
       "   'evidence-558165',\n",
       "   'evidence-694569']},\n",
       " 'claim-368': {'initial_evidences': ['evidence-828546',\n",
       "   'evidence-988909',\n",
       "   'evidence-153898',\n",
       "   'evidence-1016669',\n",
       "   'evidence-638015',\n",
       "   'evidence-528396',\n",
       "   'evidence-1189988',\n",
       "   'evidence-794227',\n",
       "   'evidence-387450',\n",
       "   'evidence-1168181'],\n",
       "  'claim_text': 'The most recent IPCC report lays out a future if we limit global heating to 1.5°C instead of the Paris Agreement’s 2°C.',\n",
       "  'filtered_evidences': ['evidence-153898',\n",
       "   'evidence-828546',\n",
       "   'evidence-988909',\n",
       "   'evidence-1016669',\n",
       "   'evidence-638015',\n",
       "   'evidence-528396']},\n",
       " 'claim-559': {'initial_evidences': ['evidence-66754',\n",
       "   'evidence-300254',\n",
       "   'evidence-274700',\n",
       "   'evidence-432873',\n",
       "   'evidence-1094508',\n",
       "   'evidence-102393',\n",
       "   'evidence-1129624',\n",
       "   'evidence-355768',\n",
       "   'evidence-557652',\n",
       "   'evidence-644261'],\n",
       "  'claim_text': 'And there is a lot of evidence that climate change is diminishing biodiversity, which can be seen in these alpine meadows as well.',\n",
       "  'filtered_evidences': ['evidence-300254',\n",
       "   'evidence-432873',\n",
       "   'evidence-644261',\n",
       "   'evidence-66754',\n",
       "   'evidence-274700',\n",
       "   'evidence-1094508']},\n",
       " 'claim-2583': {'initial_evidences': ['evidence-851946',\n",
       "   'evidence-501480',\n",
       "   'evidence-571669',\n",
       "   'evidence-890678',\n",
       "   'evidence-612494',\n",
       "   'evidence-981864',\n",
       "   'evidence-52992',\n",
       "   'evidence-1181019',\n",
       "   'evidence-976221',\n",
       "   'evidence-378815'],\n",
       "  'claim_text': '\"Each unit of CO2 you put into the atmosphere has less and less of a warming impact.',\n",
       "  'filtered_evidences': ['evidence-851946',\n",
       "   'evidence-501480',\n",
       "   'evidence-571669',\n",
       "   'evidence-890678',\n",
       "   'evidence-612494',\n",
       "   'evidence-981864']},\n",
       " 'claim-2609': {'initial_evidences': ['evidence-627472',\n",
       "   'evidence-1051708',\n",
       "   'evidence-740086',\n",
       "   'evidence-968030',\n",
       "   'evidence-771706',\n",
       "   'evidence-640999',\n",
       "   'evidence-450619',\n",
       "   'evidence-730125',\n",
       "   'evidence-397995',\n",
       "   'evidence-449444'],\n",
       "  'claim_text': 'Individual carbon dioxide molecules have a short life time of around 5 years in the atmosphere.',\n",
       "  'filtered_evidences': ['evidence-627472',\n",
       "   'evidence-1051708',\n",
       "   'evidence-740086',\n",
       "   'evidence-968030',\n",
       "   'evidence-771706',\n",
       "   'evidence-640999']},\n",
       " 'claim-492': {'initial_evidences': ['evidence-581129',\n",
       "   'evidence-1052644',\n",
       "   'evidence-900159',\n",
       "   'evidence-1057751',\n",
       "   'evidence-810341',\n",
       "   'evidence-537311',\n",
       "   'evidence-979914',\n",
       "   'evidence-570981',\n",
       "   'evidence-525356',\n",
       "   'evidence-598530'],\n",
       "  'claim_text': 'But like most claims regarding global warming, the real effect is small, probably temporary, and most likely due to natural weather patterns',\n",
       "  'filtered_evidences': ['evidence-581129',\n",
       "   'evidence-1052644',\n",
       "   'evidence-900159',\n",
       "   'evidence-1057751',\n",
       "   'evidence-810341',\n",
       "   'evidence-537311']},\n",
       " 'claim-1420': {'initial_evidences': ['evidence-768359',\n",
       "   'evidence-438628',\n",
       "   'evidence-484361',\n",
       "   'evidence-522043',\n",
       "   'evidence-1138335',\n",
       "   'evidence-810092',\n",
       "   'evidence-797980',\n",
       "   'evidence-750997',\n",
       "   'evidence-1188227',\n",
       "   'evidence-243672'],\n",
       "  'claim_text': 'Concentrated in the atmosphere, these gases do not allow the warmth of the sun’s rays reflected by the earth to be dispersed in space.',\n",
       "  'filtered_evidences': ['evidence-438628',\n",
       "   'evidence-1188227',\n",
       "   'evidence-768359',\n",
       "   'evidence-484361',\n",
       "   'evidence-522043',\n",
       "   'evidence-1138335']},\n",
       " 'claim-1089': {'initial_evidences': ['evidence-1183711',\n",
       "   'evidence-287127',\n",
       "   'evidence-688029',\n",
       "   'evidence-197787',\n",
       "   'evidence-1193090',\n",
       "   'evidence-265967',\n",
       "   'evidence-205895',\n",
       "   'evidence-846807',\n",
       "   'evidence-108706',\n",
       "   'evidence-95039'],\n",
       "  'claim_text': 'Last year’s warmth was manifested across the planet, from the warm tropical ocean waters off the coast of northeastern Australia, where the Great Barrier Reef experienced its worst coral bleaching event on record and large scale coral death, to the Arctic, where sea ice hit regular monthly record lows and overall temperatures were also the warmest on record, at least from January through September 2016.',\n",
       "  'filtered_evidences': ['evidence-1183711',\n",
       "   'evidence-688029',\n",
       "   'evidence-197787',\n",
       "   'evidence-265967',\n",
       "   'evidence-205895',\n",
       "   'evidence-108706']},\n",
       " 'claim-1467': {'initial_evidences': ['evidence-488727',\n",
       "   'evidence-257475',\n",
       "   'evidence-1102763',\n",
       "   'evidence-825270',\n",
       "   'evidence-1190705',\n",
       "   'evidence-1044741',\n",
       "   'evidence-108313',\n",
       "   'evidence-927172',\n",
       "   'evidence-513118',\n",
       "   'evidence-355487'],\n",
       "  'claim_text': 'The amount of carbon dioxide absorbed by the upper layer of the oceans is increasing by about 2 billion tons per year.',\n",
       "  'filtered_evidences': ['evidence-257475',\n",
       "   'evidence-825270',\n",
       "   'evidence-108313',\n",
       "   'evidence-1190705',\n",
       "   'evidence-488727',\n",
       "   'evidence-1102763']},\n",
       " 'claim-444': {'initial_evidences': ['evidence-889119',\n",
       "   'evidence-29224',\n",
       "   'evidence-454312',\n",
       "   'evidence-187502',\n",
       "   'evidence-1190705',\n",
       "   'evidence-1103101',\n",
       "   'evidence-711625',\n",
       "   'evidence-112990',\n",
       "   'evidence-26809',\n",
       "   'evidence-841572'],\n",
       "  'claim_text': 'Carbon dioxide is a trace gas.”',\n",
       "  'filtered_evidences': ['evidence-454312',\n",
       "   'evidence-187502',\n",
       "   'evidence-1190705',\n",
       "   'evidence-711625',\n",
       "   'evidence-112990',\n",
       "   'evidence-841572']},\n",
       " 'claim-803': {'initial_evidences': ['evidence-1126886',\n",
       "   'evidence-800367',\n",
       "   'evidence-731004',\n",
       "   'evidence-913626',\n",
       "   'evidence-889018',\n",
       "   'evidence-878073',\n",
       "   'evidence-874478',\n",
       "   'evidence-360783',\n",
       "   'evidence-387450',\n",
       "   'evidence-304644'],\n",
       "  'claim_text': 'The team of climate scientists notes that in failing to predict the warming ‘hiatus’ in the beginning of the 21st century, the Intergovernmental Panel on Climate Change (IPCC) models overestimated temperature increases…',\n",
       "  'filtered_evidences': ['evidence-1126886',\n",
       "   'evidence-360783',\n",
       "   'evidence-800367',\n",
       "   'evidence-731004',\n",
       "   'evidence-913626',\n",
       "   'evidence-889018']},\n",
       " 'claim-1668': {'initial_evidences': ['evidence-693558',\n",
       "   'evidence-993195',\n",
       "   'evidence-1028500',\n",
       "   'evidence-981984',\n",
       "   'evidence-428647',\n",
       "   'evidence-129272',\n",
       "   'evidence-1034941',\n",
       "   'evidence-5928',\n",
       "   'evidence-313896',\n",
       "   'evidence-156211'],\n",
       "  'claim_text': 'Thick arctic sea ice is in rapid retreat.',\n",
       "  'filtered_evidences': ['evidence-5928',\n",
       "   'evidence-693558',\n",
       "   'evidence-993195',\n",
       "   'evidence-1028500',\n",
       "   'evidence-981984',\n",
       "   'evidence-428647']},\n",
       " 'claim-742': {'initial_evidences': ['evidence-631053',\n",
       "   'evidence-1011788',\n",
       "   'evidence-116371',\n",
       "   'evidence-890810',\n",
       "   'evidence-78654',\n",
       "   'evidence-150709',\n",
       "   'evidence-364039',\n",
       "   'evidence-1200076',\n",
       "   'evidence-980005',\n",
       "   'evidence-130992'],\n",
       "  'claim_text': 'Global human emissions are only 3 per cent of total annual emissions.',\n",
       "  'filtered_evidences': ['evidence-1200076',\n",
       "   'evidence-631053',\n",
       "   'evidence-1011788',\n",
       "   'evidence-116371',\n",
       "   'evidence-890810',\n",
       "   'evidence-78654']},\n",
       " 'claim-846': {'initial_evidences': ['evidence-310928',\n",
       "   'evidence-635937',\n",
       "   'evidence-409873',\n",
       "   'evidence-94074',\n",
       "   'evidence-1081031',\n",
       "   'evidence-1099844',\n",
       "   'evidence-36052',\n",
       "   'evidence-795774',\n",
       "   'evidence-507811',\n",
       "   'evidence-962207'],\n",
       "  'claim_text': 'In other words, we have, trapped in Arctic permafrost, twice as much carbon as is currently wrecking the atmosphere of the planet, all of it scheduled to be released at a date that keeps getting moved up, partially in the form of a gas that multiplies its warming power 86 times over.',\n",
       "  'filtered_evidences': ['evidence-310928',\n",
       "   'evidence-635937',\n",
       "   'evidence-409873',\n",
       "   'evidence-1081031',\n",
       "   'evidence-1099844',\n",
       "   'evidence-36052']},\n",
       " 'claim-2119': {'initial_evidences': ['evidence-127999',\n",
       "   'evidence-425787',\n",
       "   'evidence-364924',\n",
       "   'evidence-1144724',\n",
       "   'evidence-21468',\n",
       "   'evidence-1140942',\n",
       "   'evidence-700426',\n",
       "   'evidence-1148241',\n",
       "   'evidence-494418',\n",
       "   'evidence-472630'],\n",
       "  'claim_text': 'Lindzen and Choi find low climate sensitivity',\n",
       "  'filtered_evidences': ['evidence-127999',\n",
       "   'evidence-364924',\n",
       "   'evidence-21468',\n",
       "   'evidence-700426',\n",
       "   'evidence-425787',\n",
       "   'evidence-1144724']},\n",
       " 'claim-1167': {'initial_evidences': ['evidence-479543',\n",
       "   'evidence-523355',\n",
       "   'evidence-1056169',\n",
       "   'evidence-604307',\n",
       "   'evidence-885836',\n",
       "   'evidence-1009653',\n",
       "   'evidence-643012',\n",
       "   'evidence-359674',\n",
       "   'evidence-374536',\n",
       "   'evidence-504126'],\n",
       "  'claim_text': 'Lake-bottom sediments in Florida tell us that recent major hurricane activity in the Gulf of Mexico has been less frequent than in centuries past.',\n",
       "  'filtered_evidences': ['evidence-604307',\n",
       "   'evidence-1009653',\n",
       "   'evidence-643012',\n",
       "   'evidence-479543',\n",
       "   'evidence-523355',\n",
       "   'evidence-1056169']},\n",
       " 'claim-623': {'initial_evidences': ['evidence-965161',\n",
       "   'evidence-446509',\n",
       "   'evidence-1120203',\n",
       "   'evidence-212847',\n",
       "   'evidence-894712',\n",
       "   'evidence-29077',\n",
       "   'evidence-1047230',\n",
       "   'evidence-171000',\n",
       "   'evidence-725498',\n",
       "   'evidence-1041692'],\n",
       "  'claim_text': 'The noted oceanographer Walter Munk referred to sea-level rise as an “enigma”',\n",
       "  'filtered_evidences': ['evidence-965161',\n",
       "   'evidence-446509',\n",
       "   'evidence-1120203',\n",
       "   'evidence-212847',\n",
       "   'evidence-894712',\n",
       "   'evidence-29077']},\n",
       " 'claim-2882': {'initial_evidences': ['evidence-363958',\n",
       "   'evidence-814737',\n",
       "   'evidence-70175',\n",
       "   'evidence-353924',\n",
       "   'evidence-190585',\n",
       "   'evidence-158386',\n",
       "   'evidence-466383',\n",
       "   'evidence-51802',\n",
       "   'evidence-487111',\n",
       "   'evidence-1047050'],\n",
       "  'claim_text': 'Trenberth\\'s views are clarified in the paper \"An imperative for climate change planning: tracking Earth\\'s global energy\".',\n",
       "  'filtered_evidences': ['evidence-363958',\n",
       "   'evidence-466383',\n",
       "   'evidence-487111',\n",
       "   'evidence-814737',\n",
       "   'evidence-70175',\n",
       "   'evidence-353924']},\n",
       " 'claim-1698': {'initial_evidences': ['evidence-681318',\n",
       "   'evidence-1085294',\n",
       "   'evidence-599078',\n",
       "   'evidence-1151595',\n",
       "   'evidence-503460',\n",
       "   'evidence-776553',\n",
       "   'evidence-118465',\n",
       "   'evidence-864567',\n",
       "   'evidence-596196',\n",
       "   'evidence-668347'],\n",
       "  'claim_text': 'Around 97% of climate experts agree that humans are causing global warming.',\n",
       "  'filtered_evidences': ['evidence-681318',\n",
       "   'evidence-1085294',\n",
       "   'evidence-599078',\n",
       "   'evidence-1151595',\n",
       "   'evidence-503460',\n",
       "   'evidence-776553']},\n",
       " 'claim-181': {'initial_evidences': ['evidence-92119',\n",
       "   'evidence-575373',\n",
       "   'evidence-842062',\n",
       "   'evidence-1132164',\n",
       "   'evidence-234801',\n",
       "   'evidence-614574',\n",
       "   'evidence-1026640',\n",
       "   'evidence-97511',\n",
       "   'evidence-822886',\n",
       "   'evidence-58502'],\n",
       "  'claim_text': 'Reefs need carbon dioxide; it’s their basic food.',\n",
       "  'filtered_evidences': ['evidence-92119',\n",
       "   'evidence-575373',\n",
       "   'evidence-842062',\n",
       "   'evidence-1132164',\n",
       "   'evidence-234801',\n",
       "   'evidence-614574']},\n",
       " 'claim-281': {'initial_evidences': ['evidence-222306',\n",
       "   'evidence-967695',\n",
       "   'evidence-75484',\n",
       "   'evidence-1160759',\n",
       "   'evidence-1040319',\n",
       "   'evidence-644620',\n",
       "   'evidence-1042733',\n",
       "   'evidence-973278',\n",
       "   'evidence-258763',\n",
       "   'evidence-741071'],\n",
       "  'claim_text': 'In an interview with the BBC after the scandal broke, Dr Jones admitted there had been no statistically significant global warming since 1995',\n",
       "  'filtered_evidences': ['evidence-1040319',\n",
       "   'evidence-222306',\n",
       "   'evidence-967695',\n",
       "   'evidence-75484',\n",
       "   'evidence-1160759',\n",
       "   'evidence-644620']},\n",
       " 'claim-2809': {'initial_evidences': ['evidence-575580',\n",
       "   'evidence-1121879',\n",
       "   'evidence-577375',\n",
       "   'evidence-119097',\n",
       "   'evidence-17587',\n",
       "   'evidence-1170212',\n",
       "   'evidence-485471',\n",
       "   'evidence-520577',\n",
       "   'evidence-428342',\n",
       "   'evidence-1022252'],\n",
       "  'claim_text': 'The motions of the massive oceans where heat is moved between deep layers and the surface provides variability on time scales from years to centuries.',\n",
       "  'filtered_evidences': ['evidence-1170212',\n",
       "   'evidence-1121879',\n",
       "   'evidence-520577',\n",
       "   'evidence-428342',\n",
       "   'evidence-575580',\n",
       "   'evidence-577375']},\n",
       " 'claim-1928': {'initial_evidences': ['evidence-529248',\n",
       "   'evidence-270216',\n",
       "   'evidence-902356',\n",
       "   'evidence-743206',\n",
       "   'evidence-780659',\n",
       "   'evidence-502398',\n",
       "   'evidence-541916',\n",
       "   'evidence-906399',\n",
       "   'evidence-413335',\n",
       "   'evidence-358293'],\n",
       "  'claim_text': 'NASA Finds Antarctica is Gaining Ice,',\n",
       "  'filtered_evidences': ['evidence-529248',\n",
       "   'evidence-270216',\n",
       "   'evidence-902356',\n",
       "   'evidence-743206',\n",
       "   'evidence-780659',\n",
       "   'evidence-502398']},\n",
       " 'claim-2787': {'initial_evidences': ['evidence-956940',\n",
       "   'evidence-1049371',\n",
       "   'evidence-595369',\n",
       "   'evidence-158204',\n",
       "   'evidence-550541',\n",
       "   'evidence-918450',\n",
       "   'evidence-648883',\n",
       "   'evidence-950248',\n",
       "   'evidence-909383',\n",
       "   'evidence-543404'],\n",
       "  'claim_text': \"Hansen's 1988 results are evidence that the actual climate sensitivity is about 3°C for a doubling of atmospheric CO2.\",\n",
       "  'filtered_evidences': ['evidence-956940',\n",
       "   'evidence-158204',\n",
       "   'evidence-950248',\n",
       "   'evidence-909383',\n",
       "   'evidence-543404',\n",
       "   'evidence-1049371']},\n",
       " 'claim-478': {'initial_evidences': ['evidence-440248',\n",
       "   'evidence-358595',\n",
       "   'evidence-632766',\n",
       "   'evidence-516402',\n",
       "   'evidence-693168',\n",
       "   'evidence-1128272',\n",
       "   'evidence-1108059',\n",
       "   'evidence-500072',\n",
       "   'evidence-774000',\n",
       "   'evidence-888963'],\n",
       "  'claim_text': 'Protecting and restoring forests would reduce 18% of emissions by 2030',\n",
       "  'filtered_evidences': ['evidence-888963',\n",
       "   'evidence-440248',\n",
       "   'evidence-358595',\n",
       "   'evidence-632766',\n",
       "   'evidence-516402',\n",
       "   'evidence-693168']},\n",
       " 'claim-988': {'initial_evidences': ['evidence-755597',\n",
       "   'evidence-725565',\n",
       "   'evidence-575701',\n",
       "   'evidence-325562',\n",
       "   'evidence-188071',\n",
       "   'evidence-901245',\n",
       "   'evidence-368473',\n",
       "   'evidence-663323',\n",
       "   'evidence-844144',\n",
       "   'evidence-71288'],\n",
       "  'claim_text': 'The unlikely scenarios are now, all of a sudden, becoming more probable than they once were thought to be,’ says Sweet.”',\n",
       "  'filtered_evidences': ['evidence-725565',\n",
       "   'evidence-188071',\n",
       "   'evidence-755597',\n",
       "   'evidence-575701',\n",
       "   'evidence-325562',\n",
       "   'evidence-368473']},\n",
       " 'claim-266': {'initial_evidences': ['evidence-651403',\n",
       "   'evidence-794055',\n",
       "   'evidence-229771',\n",
       "   'evidence-1061949',\n",
       "   'evidence-142656',\n",
       "   'evidence-1151647',\n",
       "   'evidence-682655',\n",
       "   'evidence-201251',\n",
       "   'evidence-1016281',\n",
       "   'evidence-783627'],\n",
       "  'claim_text': 'The IPCC no longer includes the ‘Hockey stick’ chart in its reports.',\n",
       "  'filtered_evidences': ['evidence-651403',\n",
       "   'evidence-794055',\n",
       "   'evidence-229771',\n",
       "   'evidence-1061949',\n",
       "   'evidence-142656',\n",
       "   'evidence-1151647']},\n",
       " 'claim-2282': {'initial_evidences': ['evidence-1195607',\n",
       "   'evidence-725428',\n",
       "   'evidence-945977',\n",
       "   'evidence-1068834',\n",
       "   'evidence-5928',\n",
       "   'evidence-908603',\n",
       "   'evidence-942779',\n",
       "   'evidence-169104',\n",
       "   'evidence-83857',\n",
       "   'evidence-882330'],\n",
       "  'claim_text': 'While there are isolated cases of growing glaciers, the overwhelming trend in glaciers worldwide is retreat.',\n",
       "  'filtered_evidences': ['evidence-1195607',\n",
       "   'evidence-725428',\n",
       "   'evidence-945977',\n",
       "   'evidence-1068834',\n",
       "   'evidence-5928',\n",
       "   'evidence-908603']},\n",
       " 'claim-2895': {'initial_evidences': ['evidence-371380',\n",
       "   'evidence-175598',\n",
       "   'evidence-812408',\n",
       "   'evidence-954672',\n",
       "   'evidence-1094979',\n",
       "   'evidence-863220',\n",
       "   'evidence-662269',\n",
       "   'evidence-255717',\n",
       "   'evidence-443379',\n",
       "   'evidence-774651'],\n",
       "  'claim_text': 'The latest  measurements involve the use of satellite gravimetry, estimating  the mass of terrain beneath by detecting slight changes in gravity as a  satellite passes overhead.',\n",
       "  'filtered_evidences': ['evidence-371380',\n",
       "   'evidence-812408',\n",
       "   'evidence-954672',\n",
       "   'evidence-1094979',\n",
       "   'evidence-255717',\n",
       "   'evidence-175598']},\n",
       " 'claim-349': {'initial_evidences': ['evidence-658407',\n",
       "   'evidence-1181771',\n",
       "   'evidence-990320',\n",
       "   'evidence-1075985',\n",
       "   'evidence-631826',\n",
       "   'evidence-976328',\n",
       "   'evidence-96441',\n",
       "   'evidence-937356',\n",
       "   'evidence-221658',\n",
       "   'evidence-664539'],\n",
       "  'claim_text': 'Nor is there evidence of an increase in floods globally.',\n",
       "  'filtered_evidences': ['evidence-658407',\n",
       "   'evidence-631826',\n",
       "   'evidence-1181771',\n",
       "   'evidence-990320',\n",
       "   'evidence-1075985',\n",
       "   'evidence-976328']},\n",
       " 'claim-2101': {'initial_evidences': ['evidence-208863',\n",
       "   'evidence-1155515',\n",
       "   'evidence-1003105',\n",
       "   'evidence-269791',\n",
       "   'evidence-486549',\n",
       "   'evidence-1051056',\n",
       "   'evidence-207443',\n",
       "   'evidence-380642',\n",
       "   'evidence-1193181',\n",
       "   'evidence-458761'],\n",
       "  'claim_text': 'Clouds provide negative feedback',\n",
       "  'filtered_evidences': ['evidence-1155515',\n",
       "   'evidence-207443',\n",
       "   'evidence-269791',\n",
       "   'evidence-208863',\n",
       "   'evidence-1003105',\n",
       "   'evidence-486549']},\n",
       " 'claim-897': {'initial_evidences': ['evidence-899251',\n",
       "   'evidence-165625',\n",
       "   'evidence-217830',\n",
       "   'evidence-864079',\n",
       "   'evidence-340597',\n",
       "   'evidence-263169',\n",
       "   'evidence-798701',\n",
       "   'evidence-789735',\n",
       "   'evidence-783943',\n",
       "   'evidence-391588'],\n",
       "  'claim_text': 'The report […] found that the United States was one of the most pollution-free nations in the world.”',\n",
       "  'filtered_evidences': ['evidence-165625',\n",
       "   'evidence-899251',\n",
       "   'evidence-217830',\n",
       "   'evidence-864079',\n",
       "   'evidence-340597',\n",
       "   'evidence-263169']},\n",
       " 'claim-3063': {'initial_evidences': ['evidence-842094',\n",
       "   'evidence-411225',\n",
       "   'evidence-855449',\n",
       "   'evidence-700310',\n",
       "   'evidence-404236',\n",
       "   'evidence-213227',\n",
       "   'evidence-84106',\n",
       "   'evidence-962794',\n",
       "   'evidence-201170',\n",
       "   'evidence-540431'],\n",
       "  'claim_text': \"'Another global warming myth comes crashing down.\",\n",
       "  'filtered_evidences': ['evidence-842094',\n",
       "   'evidence-411225',\n",
       "   'evidence-855449',\n",
       "   'evidence-700310',\n",
       "   'evidence-404236',\n",
       "   'evidence-213227']},\n",
       " 'claim-386': {'initial_evidences': ['evidence-763336',\n",
       "   'evidence-693024',\n",
       "   'evidence-1060245',\n",
       "   'evidence-285002',\n",
       "   'evidence-955491',\n",
       "   'evidence-594409',\n",
       "   'evidence-667246',\n",
       "   'evidence-936836',\n",
       "   'evidence-529287',\n",
       "   'evidence-336727'],\n",
       "  'claim_text': 'Renew\\xadables such as wind turbines are environmentally disastrous because they pollute a huge land area, slice and dice birds and bats, kill insects that are bird food, create health problems for humans who live within kilometres of them, leave toxins around the turbine site and despoil the landscape.',\n",
       "  'filtered_evidences': ['evidence-1060245',\n",
       "   'evidence-936836',\n",
       "   'evidence-594409',\n",
       "   'evidence-763336',\n",
       "   'evidence-693024',\n",
       "   'evidence-285002']},\n",
       " 'claim-2691': {'initial_evidences': ['evidence-1190716',\n",
       "   'evidence-481333',\n",
       "   'evidence-1162415',\n",
       "   'evidence-230286',\n",
       "   'evidence-1106198',\n",
       "   'evidence-191063',\n",
       "   'evidence-487707',\n",
       "   'evidence-740284',\n",
       "   'evidence-1010804',\n",
       "   'evidence-990446'],\n",
       "  'claim_text': \"There are a myriad of other radiative forcings that affect the planet's energy imbalance.\",\n",
       "  'filtered_evidences': ['evidence-191063',\n",
       "   'evidence-1190716',\n",
       "   'evidence-481333',\n",
       "   'evidence-1162415',\n",
       "   'evidence-230286',\n",
       "   'evidence-1106198']},\n",
       " 'claim-530': {'initial_evidences': ['evidence-48256',\n",
       "   'evidence-572512',\n",
       "   'evidence-478868',\n",
       "   'evidence-981881',\n",
       "   'evidence-67732',\n",
       "   'evidence-780332',\n",
       "   'evidence-554677',\n",
       "   'evidence-866329',\n",
       "   'evidence-622374',\n",
       "   'evidence-367512'],\n",
       "  'claim_text': 'South Australia is winning: it has the most unreliable grid in the world outside Africa and the most expensive electricity.',\n",
       "  'filtered_evidences': ['evidence-48256',\n",
       "   'evidence-572512',\n",
       "   'evidence-478868',\n",
       "   'evidence-981881',\n",
       "   'evidence-67732',\n",
       "   'evidence-780332']},\n",
       " 'claim-2979': {'initial_evidences': ['evidence-706949',\n",
       "   'evidence-80853',\n",
       "   'evidence-986681',\n",
       "   'evidence-274044',\n",
       "   'evidence-481206',\n",
       "   'evidence-577890',\n",
       "   'evidence-844426',\n",
       "   'evidence-40244',\n",
       "   'evidence-9794',\n",
       "   'evidence-566097'],\n",
       "  'claim_text': 'Water vapor helps trap heat, and is a far the strongest of the major greenhouse gases, contributing 36–72 percent of the greenhouse effect.',\n",
       "  'filtered_evidences': ['evidence-706949',\n",
       "   'evidence-80853',\n",
       "   'evidence-986681',\n",
       "   'evidence-274044',\n",
       "   'evidence-481206',\n",
       "   'evidence-577890']},\n",
       " 'claim-665': {'initial_evidences': ['evidence-143437',\n",
       "   'evidence-1105120',\n",
       "   'evidence-578925',\n",
       "   'evidence-823621',\n",
       "   'evidence-133419',\n",
       "   'evidence-862997',\n",
       "   'evidence-726838',\n",
       "   'evidence-934095',\n",
       "   'evidence-579830',\n",
       "   'evidence-211904'],\n",
       "  'claim_text': 'many scientists were surprised when other researchers subsequently found that ringed and bearded seals (the primary prey of polar bears) north of the Bering Strait especially thrived with a longer open-water season, which is particularly conducive to fishing',\n",
       "  'filtered_evidences': ['evidence-143437',\n",
       "   'evidence-823621',\n",
       "   'evidence-862997',\n",
       "   'evidence-133419',\n",
       "   'evidence-726838',\n",
       "   'evidence-211904']},\n",
       " 'claim-199': {'initial_evidences': ['evidence-91210',\n",
       "   'evidence-785281',\n",
       "   'evidence-810960',\n",
       "   'evidence-1164921',\n",
       "   'evidence-770443',\n",
       "   'evidence-997559',\n",
       "   'evidence-1116825',\n",
       "   'evidence-738617',\n",
       "   'evidence-1061808',\n",
       "   'evidence-677666'],\n",
       "  'claim_text': 'In the past, warming has never been a threat to life on Earth.',\n",
       "  'filtered_evidences': ['evidence-91210',\n",
       "   'evidence-785281',\n",
       "   'evidence-810960',\n",
       "   'evidence-1164921',\n",
       "   'evidence-770443',\n",
       "   'evidence-997559']},\n",
       " 'claim-490': {'initial_evidences': ['evidence-528396',\n",
       "   'evidence-1189988',\n",
       "   'evidence-1046773',\n",
       "   'evidence-90230',\n",
       "   'evidence-1016669',\n",
       "   'evidence-162891',\n",
       "   'evidence-868990',\n",
       "   'evidence-638015',\n",
       "   'evidence-1165911',\n",
       "   'evidence-744043'],\n",
       "  'claim_text': 'IPCC report warning last week the world is “nowhere near on track” to meet its Paris commitments',\n",
       "  'filtered_evidences': ['evidence-528396',\n",
       "   'evidence-1189988',\n",
       "   'evidence-1046773',\n",
       "   'evidence-90230',\n",
       "   'evidence-1016669',\n",
       "   'evidence-162891']},\n",
       " 'claim-2400': {'initial_evidences': ['evidence-1115536',\n",
       "   'evidence-55991',\n",
       "   'evidence-1037264',\n",
       "   'evidence-711625',\n",
       "   'evidence-159181',\n",
       "   'evidence-112990',\n",
       "   'evidence-1193433',\n",
       "   'evidence-227776',\n",
       "   'evidence-1077258',\n",
       "   'evidence-936956'],\n",
       "  'claim_text': '\\'To suddenly label CO2 as a \"pollutant\" is a disservice to a gas that has played an enormous role in the development and sustainability of all life on this wonderful Earth.',\n",
       "  'filtered_evidences': ['evidence-55991',\n",
       "   'evidence-711625',\n",
       "   'evidence-1115536',\n",
       "   'evidence-1037264',\n",
       "   'evidence-159181',\n",
       "   'evidence-112990']},\n",
       " 'claim-204': {'initial_evidences': ['evidence-381186',\n",
       "   'evidence-1170857',\n",
       "   'evidence-709979',\n",
       "   'evidence-733164',\n",
       "   'evidence-345918',\n",
       "   'evidence-1196791',\n",
       "   'evidence-352268',\n",
       "   'evidence-157187',\n",
       "   'evidence-1035737',\n",
       "   'evidence-203608'],\n",
       "  'claim_text': 'after a natural orbitally driven warming, atmospheric carbon dioxide content increases 800 years later',\n",
       "  'filtered_evidences': ['evidence-157187',\n",
       "   'evidence-381186',\n",
       "   'evidence-1170857',\n",
       "   'evidence-709979',\n",
       "   'evidence-733164',\n",
       "   'evidence-345918']},\n",
       " 'claim-1426': {'initial_evidences': ['evidence-580567',\n",
       "   'evidence-369389',\n",
       "   'evidence-205895',\n",
       "   'evidence-936135',\n",
       "   'evidence-509648',\n",
       "   'evidence-1001116',\n",
       "   'evidence-168354',\n",
       "   'evidence-1196738',\n",
       "   'evidence-1050619',\n",
       "   'evidence-406279'],\n",
       "  'claim_text': 'Many of the world’s coral reefs are already barren or in a state of constant decline.',\n",
       "  'filtered_evidences': ['evidence-509648',\n",
       "   'evidence-1001116',\n",
       "   'evidence-406279',\n",
       "   'evidence-205895',\n",
       "   'evidence-580567',\n",
       "   'evidence-369389']},\n",
       " 'claim-698': {'initial_evidences': ['evidence-44606',\n",
       "   'evidence-536243',\n",
       "   'evidence-526112',\n",
       "   'evidence-295530',\n",
       "   'evidence-803885',\n",
       "   'evidence-366949',\n",
       "   'evidence-832604',\n",
       "   'evidence-413446',\n",
       "   'evidence-510347',\n",
       "   'evidence-604875'],\n",
       "  'claim_text': 'A recent study led by Lawrence Livermore National Laboratory climate scientist Ben Santer found that while the models ran hot, the ‘overestimation’ was ‘partly due to systematic deficiencies in some of the post-2000 external forcings used in the model simulations.’',\n",
       "  'filtered_evidences': ['evidence-526112',\n",
       "   'evidence-295530',\n",
       "   'evidence-803885',\n",
       "   'evidence-510347',\n",
       "   'evidence-832604',\n",
       "   'evidence-44606']},\n",
       " 'claim-1021': {'initial_evidences': ['evidence-1175280',\n",
       "   'evidence-1050619',\n",
       "   'evidence-877068',\n",
       "   'evidence-479580',\n",
       "   'evidence-118277',\n",
       "   'evidence-857069',\n",
       "   'evidence-965077',\n",
       "   'evidence-754191',\n",
       "   'evidence-1134746',\n",
       "   'evidence-92119'],\n",
       "  'claim_text': 'The corals may save themselves, as many other creatures are attempting to do, by moving toward the poles as the Earth warms, establishing new reefs in cooler water.”',\n",
       "  'filtered_evidences': ['evidence-1175280',\n",
       "   'evidence-479580',\n",
       "   'evidence-965077',\n",
       "   'evidence-1134746',\n",
       "   'evidence-1050619',\n",
       "   'evidence-877068']}}"
      ]
     },
     "execution_count": 12,
     "metadata": {},
     "output_type": "execute_result"
    }
   ],
   "source": [
    "def process_claims(llama_filterer, dev_claims_set):\n",
    "    for claim_id, claim_data in dev_claims_set.items():\n",
    "        candidates = claim_data['initial_evidences']\n",
    "        filtered = llama_filterer.filter_evidence(claim_data['claim_text'], get_evidence_text(candidates), final_k=6)\n",
    "        print(filtered)\n",
    "        dev_claims_set[claim_id]['filtered_evidences'] = [eid for eid, _, _ in filtered]\n",
    "        # store output\n",
    "    with open('data/filtered_retrieval_output.json', 'w') as f:\n",
    "        json.dump(dev_claims_set, f, indent=2)\n",
    "    return dev_claims_set\n",
    "\n",
    "res = process_claims(llama_filter,res)\n",
    "res"
   ]
  },
  {
   "cell_type": "code",
   "execution_count": null,
   "id": "3a7b0eb9",
   "metadata": {},
   "outputs": [],
   "source": []
  }
 ],
 "metadata": {
  "kernelspec": {
   "display_name": ".venv",
   "language": "python",
   "name": "python3"
  },
  "language_info": {
   "codemirror_mode": {
    "name": "ipython",
    "version": 3
   },
   "file_extension": ".py",
   "mimetype": "text/x-python",
   "name": "python",
   "nbconvert_exporter": "python",
   "pygments_lexer": "ipython3",
   "version": "3.12.8"
  }
 },
 "nbformat": 4,
 "nbformat_minor": 5
}
