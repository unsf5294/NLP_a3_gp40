{
 "cells": [
  {
   "cell_type": "markdown",
   "metadata": {},
   "source": [
    "# 2025 COMP90042 Project"
   ]
  },
  {
   "cell_type": "markdown",
   "metadata": {},
   "source": [
    "# 1.Dataset Processing"
   ]
  },
  {
   "cell_type": "markdown",
   "metadata": {},
   "source": [
    "## a. Data Loading"
   ]
  },
  {
   "cell_type": "code",
   "execution_count": 1,
   "metadata": {},
   "outputs": [
    {
     "data": {
      "text/html": [
       "<div>\n",
       "<style scoped>\n",
       "    .dataframe tbody tr th:only-of-type {\n",
       "        vertical-align: middle;\n",
       "    }\n",
       "\n",
       "    .dataframe tbody tr th {\n",
       "        vertical-align: top;\n",
       "    }\n",
       "\n",
       "    .dataframe thead th {\n",
       "        text-align: right;\n",
       "    }\n",
       "</style>\n",
       "<table border=\"1\" class=\"dataframe\">\n",
       "  <thead>\n",
       "    <tr style=\"text-align: right;\">\n",
       "      <th></th>\n",
       "      <th>claim_text</th>\n",
       "      <th>claim_label</th>\n",
       "      <th>evidences</th>\n",
       "    </tr>\n",
       "  </thead>\n",
       "  <tbody>\n",
       "    <tr>\n",
       "      <th>claim-1937</th>\n",
       "      <td>Not only is there no scientific evidence that ...</td>\n",
       "      <td>DISPUTED</td>\n",
       "      <td>[evidence-442946, evidence-1194317, evidence-1...</td>\n",
       "    </tr>\n",
       "    <tr>\n",
       "      <th>claim-126</th>\n",
       "      <td>El Niño drove record highs in global temperatu...</td>\n",
       "      <td>REFUTES</td>\n",
       "      <td>[evidence-338219, evidence-1127398]</td>\n",
       "    </tr>\n",
       "    <tr>\n",
       "      <th>claim-2510</th>\n",
       "      <td>In 1946, PDO switched to a cool phase.</td>\n",
       "      <td>SUPPORTS</td>\n",
       "      <td>[evidence-530063, evidence-984887]</td>\n",
       "    </tr>\n",
       "    <tr>\n",
       "      <th>claim-2021</th>\n",
       "      <td>Weather Channel co-founder John Coleman provid...</td>\n",
       "      <td>DISPUTED</td>\n",
       "      <td>[evidence-1177431, evidence-782448, evidence-5...</td>\n",
       "    </tr>\n",
       "    <tr>\n",
       "      <th>claim-2449</th>\n",
       "      <td>\"January 2008 capped a 12 month period of glob...</td>\n",
       "      <td>NOT_ENOUGH_INFO</td>\n",
       "      <td>[evidence-1010750, evidence-91661, evidence-72...</td>\n",
       "    </tr>\n",
       "    <tr>\n",
       "      <th>...</th>\n",
       "      <td>...</td>\n",
       "      <td>...</td>\n",
       "      <td>...</td>\n",
       "    </tr>\n",
       "    <tr>\n",
       "      <th>claim-1504</th>\n",
       "      <td>Climate scientists say that aspects of the cas...</td>\n",
       "      <td>SUPPORTS</td>\n",
       "      <td>[evidence-1055682, evidence-1047356, evidence-...</td>\n",
       "    </tr>\n",
       "    <tr>\n",
       "      <th>claim-243</th>\n",
       "      <td>In its 5th assessment report in 2013, the IPCC...</td>\n",
       "      <td>SUPPORTS</td>\n",
       "      <td>[evidence-916755]</td>\n",
       "    </tr>\n",
       "    <tr>\n",
       "      <th>claim-2302</th>\n",
       "      <td>Since the mid 1970s, global temperatures have ...</td>\n",
       "      <td>NOT_ENOUGH_INFO</td>\n",
       "      <td>[evidence-403673, evidence-889933, evidence-11...</td>\n",
       "    </tr>\n",
       "    <tr>\n",
       "      <th>claim-502</th>\n",
       "      <td>But abnormal temperature spikes in February an...</td>\n",
       "      <td>NOT_ENOUGH_INFO</td>\n",
       "      <td>[evidence-97375, evidence-562427, evidence-521...</td>\n",
       "    </tr>\n",
       "    <tr>\n",
       "      <th>claim-3093</th>\n",
       "      <td>Sending oscillating microwaves from an antenna...</td>\n",
       "      <td>SUPPORTS</td>\n",
       "      <td>[evidence-971105, evidence-457769, evidence-29...</td>\n",
       "    </tr>\n",
       "  </tbody>\n",
       "</table>\n",
       "<p>1228 rows × 3 columns</p>\n",
       "</div>"
      ],
      "text/plain": [
       "                                                   claim_text  \\\n",
       "claim-1937  Not only is there no scientific evidence that ...   \n",
       "claim-126   El Niño drove record highs in global temperatu...   \n",
       "claim-2510             In 1946, PDO switched to a cool phase.   \n",
       "claim-2021  Weather Channel co-founder John Coleman provid...   \n",
       "claim-2449  \"January 2008 capped a 12 month period of glob...   \n",
       "...                                                       ...   \n",
       "claim-1504  Climate scientists say that aspects of the cas...   \n",
       "claim-243   In its 5th assessment report in 2013, the IPCC...   \n",
       "claim-2302  Since the mid 1970s, global temperatures have ...   \n",
       "claim-502   But abnormal temperature spikes in February an...   \n",
       "claim-3093  Sending oscillating microwaves from an antenna...   \n",
       "\n",
       "                claim_label                                          evidences  \n",
       "claim-1937         DISPUTED  [evidence-442946, evidence-1194317, evidence-1...  \n",
       "claim-126           REFUTES                [evidence-338219, evidence-1127398]  \n",
       "claim-2510         SUPPORTS                 [evidence-530063, evidence-984887]  \n",
       "claim-2021         DISPUTED  [evidence-1177431, evidence-782448, evidence-5...  \n",
       "claim-2449  NOT_ENOUGH_INFO  [evidence-1010750, evidence-91661, evidence-72...  \n",
       "...                     ...                                                ...  \n",
       "claim-1504         SUPPORTS  [evidence-1055682, evidence-1047356, evidence-...  \n",
       "claim-243          SUPPORTS                                  [evidence-916755]  \n",
       "claim-2302  NOT_ENOUGH_INFO  [evidence-403673, evidence-889933, evidence-11...  \n",
       "claim-502   NOT_ENOUGH_INFO  [evidence-97375, evidence-562427, evidence-521...  \n",
       "claim-3093         SUPPORTS  [evidence-971105, evidence-457769, evidence-29...  \n",
       "\n",
       "[1228 rows x 3 columns]"
      ]
     },
     "execution_count": 1,
     "metadata": {},
     "output_type": "execute_result"
    }
   ],
   "source": [
    "import pandas as pd\n",
    "\n",
    "train_df = pd.read_json('data/train-claims.json', orient='index')\n",
    "dev_df = pd.read_json('data/dev-claims-baseline.json', orient='index')\n",
    "evidence_df = pd.read_json('data/evidence.json', orient='index')\n",
    "\n",
    "train_df\n",
    "\n"
   ]
  },
  {
   "cell_type": "code",
   "execution_count": 2,
   "metadata": {},
   "outputs": [
    {
     "data": {
      "text/html": [
       "<div>\n",
       "<style scoped>\n",
       "    .dataframe tbody tr th:only-of-type {\n",
       "        vertical-align: middle;\n",
       "    }\n",
       "\n",
       "    .dataframe tbody tr th {\n",
       "        vertical-align: top;\n",
       "    }\n",
       "\n",
       "    .dataframe thead th {\n",
       "        text-align: right;\n",
       "    }\n",
       "</style>\n",
       "<table border=\"1\" class=\"dataframe\">\n",
       "  <thead>\n",
       "    <tr style=\"text-align: right;\">\n",
       "      <th></th>\n",
       "      <th>claim_text</th>\n",
       "      <th>claim_label</th>\n",
       "      <th>evidences</th>\n",
       "    </tr>\n",
       "  </thead>\n",
       "  <tbody>\n",
       "    <tr>\n",
       "      <th>claim-752</th>\n",
       "      <td>[South Australia] has the most expensive elect...</td>\n",
       "      <td>NOT_ENOUGH_INFO</td>\n",
       "      <td>[evidence-67732, evidence-572512, evidence-909...</td>\n",
       "    </tr>\n",
       "    <tr>\n",
       "      <th>claim-375</th>\n",
       "      <td>when 3 per cent of total annual global emissio...</td>\n",
       "      <td>NOT_ENOUGH_INFO</td>\n",
       "      <td>[evidence-832334, evidence-699212, evidence-10...</td>\n",
       "    </tr>\n",
       "    <tr>\n",
       "      <th>claim-1266</th>\n",
       "      <td>This means that the world is now 1C warmer tha...</td>\n",
       "      <td>SUPPORTS</td>\n",
       "      <td>[evidence-315434, evidence-198055, evidence-69...</td>\n",
       "    </tr>\n",
       "    <tr>\n",
       "      <th>claim-871</th>\n",
       "      <td>“As it happens, Zika may also be a good model ...</td>\n",
       "      <td>REFUTES</td>\n",
       "      <td>[evidence-303245, evidence-88449, evidence-385...</td>\n",
       "    </tr>\n",
       "    <tr>\n",
       "      <th>claim-2164</th>\n",
       "      <td>Greenland has only lost a tiny fraction of its...</td>\n",
       "      <td>DISPUTED</td>\n",
       "      <td>[evidence-947243, evidence-424102, evidence-91...</td>\n",
       "    </tr>\n",
       "    <tr>\n",
       "      <th>...</th>\n",
       "      <td>...</td>\n",
       "      <td>...</td>\n",
       "      <td>...</td>\n",
       "    </tr>\n",
       "    <tr>\n",
       "      <th>claim-2400</th>\n",
       "      <td>'To suddenly label CO2 as a \"pollutant\" is a d...</td>\n",
       "      <td>SUPPORTS</td>\n",
       "      <td>[evidence-1022738, evidence-852573, evidence-4...</td>\n",
       "    </tr>\n",
       "    <tr>\n",
       "      <th>claim-204</th>\n",
       "      <td>after a natural orbitally driven warming, atmo...</td>\n",
       "      <td>REFUTES</td>\n",
       "      <td>[evidence-30998, evidence-926717, evidence-922...</td>\n",
       "    </tr>\n",
       "    <tr>\n",
       "      <th>claim-1426</th>\n",
       "      <td>Many of the world’s coral reefs are already ba...</td>\n",
       "      <td>SUPPORTS</td>\n",
       "      <td>[evidence-293637, evidence-305944, evidence-36...</td>\n",
       "    </tr>\n",
       "    <tr>\n",
       "      <th>claim-698</th>\n",
       "      <td>A recent study led by Lawrence Livermore Natio...</td>\n",
       "      <td>REFUTES</td>\n",
       "      <td>[evidence-519720, evidence-445144, evidence-82...</td>\n",
       "    </tr>\n",
       "    <tr>\n",
       "      <th>claim-1021</th>\n",
       "      <td>The corals may save themselves, as many other ...</td>\n",
       "      <td>NOT_ENOUGH_INFO</td>\n",
       "      <td>[evidence-128925, evidence-766771, evidence-81...</td>\n",
       "    </tr>\n",
       "  </tbody>\n",
       "</table>\n",
       "<p>154 rows × 3 columns</p>\n",
       "</div>"
      ],
      "text/plain": [
       "                                                   claim_text  \\\n",
       "claim-752   [South Australia] has the most expensive elect...   \n",
       "claim-375   when 3 per cent of total annual global emissio...   \n",
       "claim-1266  This means that the world is now 1C warmer tha...   \n",
       "claim-871   “As it happens, Zika may also be a good model ...   \n",
       "claim-2164  Greenland has only lost a tiny fraction of its...   \n",
       "...                                                       ...   \n",
       "claim-2400  'To suddenly label CO2 as a \"pollutant\" is a d...   \n",
       "claim-204   after a natural orbitally driven warming, atmo...   \n",
       "claim-1426  Many of the world’s coral reefs are already ba...   \n",
       "claim-698   A recent study led by Lawrence Livermore Natio...   \n",
       "claim-1021  The corals may save themselves, as many other ...   \n",
       "\n",
       "                claim_label                                          evidences  \n",
       "claim-752   NOT_ENOUGH_INFO  [evidence-67732, evidence-572512, evidence-909...  \n",
       "claim-375   NOT_ENOUGH_INFO  [evidence-832334, evidence-699212, evidence-10...  \n",
       "claim-1266         SUPPORTS  [evidence-315434, evidence-198055, evidence-69...  \n",
       "claim-871           REFUTES  [evidence-303245, evidence-88449, evidence-385...  \n",
       "claim-2164         DISPUTED  [evidence-947243, evidence-424102, evidence-91...  \n",
       "...                     ...                                                ...  \n",
       "claim-2400         SUPPORTS  [evidence-1022738, evidence-852573, evidence-4...  \n",
       "claim-204           REFUTES  [evidence-30998, evidence-926717, evidence-922...  \n",
       "claim-1426         SUPPORTS  [evidence-293637, evidence-305944, evidence-36...  \n",
       "claim-698           REFUTES  [evidence-519720, evidence-445144, evidence-82...  \n",
       "claim-1021  NOT_ENOUGH_INFO  [evidence-128925, evidence-766771, evidence-81...  \n",
       "\n",
       "[154 rows x 3 columns]"
      ]
     },
     "execution_count": 2,
     "metadata": {},
     "output_type": "execute_result"
    }
   ],
   "source": [
    "dev_df"
   ]
  },
  {
   "cell_type": "code",
   "execution_count": 3,
   "metadata": {},
   "outputs": [
    {
     "data": {
      "text/html": [
       "<div>\n",
       "<style scoped>\n",
       "    .dataframe tbody tr th:only-of-type {\n",
       "        vertical-align: middle;\n",
       "    }\n",
       "\n",
       "    .dataframe tbody tr th {\n",
       "        vertical-align: top;\n",
       "    }\n",
       "\n",
       "    .dataframe thead th {\n",
       "        text-align: right;\n",
       "    }\n",
       "</style>\n",
       "<table border=\"1\" class=\"dataframe\">\n",
       "  <thead>\n",
       "    <tr style=\"text-align: right;\">\n",
       "      <th></th>\n",
       "      <th>evidence_text</th>\n",
       "    </tr>\n",
       "  </thead>\n",
       "  <tbody>\n",
       "    <tr>\n",
       "      <th>evidence-0</th>\n",
       "      <td>John Bennet Lawes, English entrepreneur and ag...</td>\n",
       "    </tr>\n",
       "    <tr>\n",
       "      <th>evidence-1</th>\n",
       "      <td>Lindberg began his professional career at the ...</td>\n",
       "    </tr>\n",
       "    <tr>\n",
       "      <th>evidence-2</th>\n",
       "      <td>``Boston (Ladies of Cambridge)'' by Vampire We...</td>\n",
       "    </tr>\n",
       "    <tr>\n",
       "      <th>evidence-3</th>\n",
       "      <td>Gerald Francis Goyer (born October 20, 1936) w...</td>\n",
       "    </tr>\n",
       "    <tr>\n",
       "      <th>evidence-4</th>\n",
       "      <td>He detected abnormalities of oxytocinergic fun...</td>\n",
       "    </tr>\n",
       "    <tr>\n",
       "      <th>...</th>\n",
       "      <td>...</td>\n",
       "    </tr>\n",
       "    <tr>\n",
       "      <th>evidence-1208822</th>\n",
       "      <td>Also on the property is a contributing garage ...</td>\n",
       "    </tr>\n",
       "    <tr>\n",
       "      <th>evidence-1208823</th>\n",
       "      <td>| class = ``fn org'' | Fyrde | | | | 6110 | | ...</td>\n",
       "    </tr>\n",
       "    <tr>\n",
       "      <th>evidence-1208824</th>\n",
       "      <td>Dragon Storm (game), a role-playing game and c...</td>\n",
       "    </tr>\n",
       "    <tr>\n",
       "      <th>evidence-1208825</th>\n",
       "      <td>It states that the Zeriuani ``which is so grea...</td>\n",
       "    </tr>\n",
       "    <tr>\n",
       "      <th>evidence-1208826</th>\n",
       "      <td>The storyline revolves around a giant plesiosa...</td>\n",
       "    </tr>\n",
       "  </tbody>\n",
       "</table>\n",
       "<p>1208827 rows × 1 columns</p>\n",
       "</div>"
      ],
      "text/plain": [
       "                                                      evidence_text\n",
       "evidence-0        John Bennet Lawes, English entrepreneur and ag...\n",
       "evidence-1        Lindberg began his professional career at the ...\n",
       "evidence-2        ``Boston (Ladies of Cambridge)'' by Vampire We...\n",
       "evidence-3        Gerald Francis Goyer (born October 20, 1936) w...\n",
       "evidence-4        He detected abnormalities of oxytocinergic fun...\n",
       "...                                                             ...\n",
       "evidence-1208822  Also on the property is a contributing garage ...\n",
       "evidence-1208823  | class = ``fn org'' | Fyrde | | | | 6110 | | ...\n",
       "evidence-1208824  Dragon Storm (game), a role-playing game and c...\n",
       "evidence-1208825  It states that the Zeriuani ``which is so grea...\n",
       "evidence-1208826  The storyline revolves around a giant plesiosa...\n",
       "\n",
       "[1208827 rows x 1 columns]"
      ]
     },
     "execution_count": 3,
     "metadata": {},
     "output_type": "execute_result"
    }
   ],
   "source": [
    "evidence_df = evidence_df.rename(columns={0: 'evidence_text'})\n",
    "evidence_df"
   ]
  },
  {
   "cell_type": "markdown",
   "metadata": {},
   "source": [
    "## b. Data Exploration"
   ]
  },
  {
   "cell_type": "markdown",
   "metadata": {},
   "source": [
    "### Label Distribution"
   ]
  },
  {
   "cell_type": "code",
   "execution_count": 4,
   "metadata": {},
   "outputs": [
    {
     "data": {
      "text/plain": [
       "claim_label\n",
       "SUPPORTS           519\n",
       "NOT_ENOUGH_INFO    386\n",
       "REFUTES            199\n",
       "DISPUTED           124\n",
       "Name: count, dtype: int64"
      ]
     },
     "execution_count": 4,
     "metadata": {},
     "output_type": "execute_result"
    }
   ],
   "source": [
    "train_label_counts = train_df['claim_label'].value_counts()\n",
    "train_label_counts"
   ]
  },
  {
   "cell_type": "code",
   "execution_count": 5,
   "metadata": {},
   "outputs": [
    {
     "data": {
      "text/plain": [
       "claim_label\n",
       "NOT_ENOUGH_INFO    47\n",
       "SUPPORTS           41\n",
       "REFUTES            36\n",
       "DISPUTED           30\n",
       "Name: count, dtype: int64"
      ]
     },
     "execution_count": 5,
     "metadata": {},
     "output_type": "execute_result"
    }
   ],
   "source": [
    "dev_label_counts = dev_df['claim_label'].value_counts()\n",
    "dev_label_counts\n"
   ]
  },
  {
   "cell_type": "code",
   "execution_count": 6,
   "metadata": {},
   "outputs": [
    {
     "data": {
      "image/png": "[encoded data removed]",
      "text/plain": [
       "<Figure size 1000x500 with 1 Axes>"
      ]
     },
     "metadata": {},
     "output_type": "display_data"
    },
    {
     "data": {
      "image/png": "[encoded data removed]",
      "text/plain": [
       "<Figure size 1000x500 with 1 Axes>"
      ]
     },
     "metadata": {},
     "output_type": "display_data"
    }
   ],
   "source": [
    "import matplotlib.pyplot as plt\n",
    "\n",
    "plt.figure(figsize=(10, 5))\n",
    "train_label_counts.plot(kind='bar', color='skyblue')\n",
    "plt.title('Claim Label Distribution in Training Data')\n",
    "plt.xticks(rotation=0)\n",
    "plt.xlabel('Claim Label')\n",
    "plt.ylabel('Count')\n",
    "plt.show()\n",
    "\n",
    "plt.figure(figsize=(10, 5))\n",
    "dev_label_counts.plot(kind='bar', color='skyblue')\n",
    "plt.title('Claim Label Distribution in Development Data')\n",
    "plt.xticks(rotation=0)\n",
    "plt.xlabel('Claim Label')\n",
    "plt.ylabel('Count')\n",
    "plt.show()\n"
   ]
  },
  {
   "cell_type": "markdown",
   "metadata": {},
   "source": [
    "The distributions from 2 dataset are quite different, which might cause the higher error metrics when doing evaluation."
   ]
  },
  {
   "cell_type": "markdown",
   "metadata": {},
   "source": [
    "### Number of evidence per claim"
   ]
  },
  {
   "cell_type": "code",
   "execution_count": 7,
   "metadata": {},
   "outputs": [
    {
     "data": {
      "image/png": "[encoded data removed]",
      "text/plain": [
       "<Figure size 700x500 with 1 Axes>"
      ]
     },
     "metadata": {},
     "output_type": "display_data"
    }
   ],
   "source": [
    "import seaborn as sns\n",
    "\n",
    "# Count number of evidences for each claim\n",
    "train_df['num_evidences'] = train_df['evidences'].apply(len)\n",
    "train_df['num_evidences'].describe()\n",
    "\n",
    "# Create boxplot\n",
    "plt.figure(figsize=(7, 5))\n",
    "sns.boxplot(x='claim_label', y='num_evidences', data=train_df, color='skyblue')\n",
    "plt.title('Distribution of Number of Evidences by Claim Label')\n",
    "plt.xlabel('Claim Label')\n",
    "plt.ylabel('Number of Evidences')\n",
    "plt.xticks(rotation=0)\n",
    "plt.tight_layout()\n"
   ]
  },
  {
   "cell_type": "code",
   "execution_count": 8,
   "metadata": {},
   "outputs": [
    {
     "data": {
      "image/png": "[encoded data removed]",
      "text/plain": [
       "<Figure size 700x500 with 1 Axes>"
      ]
     },
     "metadata": {},
     "output_type": "display_data"
    }
   ],
   "source": [
    "dev_df['num_evidences'] = dev_df['evidences'].apply(len)\n",
    "dev_df['num_evidences'].describe()\n",
    "\n",
    "plt.figure(figsize=(7, 5))\n",
    "sns.boxplot(x='claim_label', y='num_evidences', data=dev_df, color='skyblue')\n",
    "plt.title('Distribution of Number of Evidences by Claim Label')\n",
    "plt.xlabel('Claim Label')\n",
    "plt.ylabel('Number of Evidences')\n",
    "plt.xticks(rotation=0)\n",
    "plt.tight_layout()"
   ]
  }
 ],
 "metadata": {
  "kernelspec": {
   "display_name": ".venv",
   "language": "python",
   "name": "python3"
  },
  "language_info": {
   "codemirror_mode": {
    "name": "ipython",
    "version": 3
   },
   "file_extension": ".py",
   "mimetype": "text/x-python",
   "name": "python",
   "nbconvert_exporter": "python",
   "pygments_lexer": "ipython3",
   "version": "3.12.8"
  }
 },
 "nbformat": 4,
 "nbformat_minor": 2
}
